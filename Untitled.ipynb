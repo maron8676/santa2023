{
 "cells": [
  {
   "cell_type": "code",
   "execution_count": 49,
   "id": "7590b9d0",
   "metadata": {},
   "outputs": [],
   "source": [
    "import pickle\n",
    "import time\n",
    "from ast import literal_eval\n",
    "from collections import deque\n",
    "from sys import stdin\n",
    "\n",
    "import pandas as pd\n",
    "import tqdm\n",
    "from sympy.combinatorics import Permutation"
   ]
  },
  {
   "cell_type": "code",
   "execution_count": 50,
   "id": "0325c005",
   "metadata": {},
   "outputs": [],
   "source": [
    "puzzle_info = pd.read_csv(\"puzzle_info.csv\", index_col='puzzle_type')\n",
    "puzzles = pd.read_csv(\"puzzles.csv\")\n",
    "sample_submission = pd.read_csv(\"submission_public.csv\", index_col='id')\n",
    "base_moves = [\"r0\", \"-r0\", \"r1\", \"-r1\", \"f0\", \"f1\", \"f2\", \"f3\", \"f4\", \"f5\", \"f6\", \"f7\", \"f8\", \"f9\", \"f10\", \"f11\", \"f12\",\n",
    "              \"f13\", \"f14\", \"f15\"]"
   ]
  },
  {
   "cell_type": "code",
   "execution_count": 51,
   "id": "7f2dcdde-1ea4-4fe8-b683-d46cd3b34463",
   "metadata": {},
   "outputs": [],
   "source": [
    "selected_types = ['globe_1/8']\n",
    "subset = puzzles[puzzles['puzzle_type'].isin(selected_types)]"
   ]
  },
  {
   "cell_type": "code",
   "execution_count": 52,
   "id": "78459453-ce88-4213-b850-08715fe988cf",
   "metadata": {},
   "outputs": [],
   "source": [
    "globe18 = []\n",
    "for index, row in subset.iterrows():\n",
    "    globe18.append(index)"
   ]
  },
  {
   "cell_type": "code",
   "execution_count": 53,
   "id": "0f944aa6-2265-4c8b-a1a0-c8e919dbf623",
   "metadata": {},
   "outputs": [
    {
     "data": {
      "text/plain": [
       "338"
      ]
     },
     "execution_count": 53,
     "metadata": {},
     "output_type": "execute_result"
    }
   ],
   "source": [
    "globe18[0]"
   ]
  },
  {
   "cell_type": "code",
   "execution_count": 54,
   "id": "59a6e16c-ae2a-4b07-8d07-079cfd13003b",
   "metadata": {},
   "outputs": [],
   "source": [
    "moves338 = sample_submission.loc[338]['moves']"
   ]
  },
  {
   "cell_type": "code",
   "execution_count": 55,
   "id": "a64e350c-ab0d-4470-8827-ea4ba32799d9",
   "metadata": {},
   "outputs": [],
   "source": [
    "moves338_nor = moves338.replace('-f', 'f')"
   ]
  },
  {
   "cell_type": "code",
   "execution_count": 56,
   "id": "b5fd08a2-8f90-438e-be57-f7c8b29d1071",
   "metadata": {},
   "outputs": [
    {
     "data": {
      "text/plain": [
       "'f6.f1.f11.r1.f3.f5.f2.r1.f1.f6.f5.f7.-r1.f7.f5.f9.f0.f11.r1.f3.f1.f6.f7.f3.-r1.f0.-r0.-r0.f8.f10.f12.f9.f5.f7.r1.f7.f6.f1.f11.r1.f3.f9.f4.f0.r0.f0.f15.f2.f8.r1.f0.r0.f5.f7.-r0.f3.-r1.f11.f1.f6.f0.r0.f5.f7.-r0.f5.f7.-r0.f5.f7.-r1.f5.f2.f5.f7.r1.f3.f15.f10.f15.-r0.f0.f5.f2.r1.f1.f6.f5.f7.-r1.f7.f5.f11.r1.f3.f5.f2.r1.f1.f6.f5.f7.-r1.f7.f13.f9.f14.f15.f13.r1.f3.f0.f11.r1.f3.f5.f7.f0.f11.r1.f3.f5.f6.f1.f11.r1.f3.-r1.f6.f1.f3.-r0.r1.f3.f0.r0.f0.f15.f2.f9.f4.f5.f6.f1.f11.r1.f3.f9.f4.f9.f5.f7.r1.f7.f6.f1.f11.r1.f3.f9.f4.f6.f1.f11.r1.f3.r1.f3.f10.r1.f1.f6.f5.f7.-r1.f7.f5.f9.f8.f0.r0.f5.f7.-r0.f9.f5.f7.r1.f7.f6.f1.f11.r1.f3.f9.f4.f6.f1.f11.r1.f3.f4.f12'"
      ]
     },
     "execution_count": 56,
     "metadata": {},
     "output_type": "execute_result"
    }
   ],
   "source": [
    "moves338_nor"
   ]
  },
  {
   "cell_type": "code",
   "execution_count": null,
   "id": "9927d76c-0867-4bba-a233-68c9b2cca3ce",
   "metadata": {},
   "outputs": [],
   "source": []
  },
  {
   "cell_type": "code",
   "execution_count": 57,
   "id": "d0529d31",
   "metadata": {},
   "outputs": [],
   "source": [
    "globe_1_8type = 'globe_1/8'\n",
    "selected_types = [globe_1_8type]\n",
    "\n",
    "# globe_1/8の状態数\n",
    "allowed_moves = literal_eval(puzzle_info.loc[globe_1_8type, 'allowed_moves'])\n",
    "allowed_moves = {k: Permutation(v) for k, v in allowed_moves.items()}\n",
    "key_list = list(allowed_moves.keys())\n",
    "for key in key_list:\n",
    "    if key[0] == \"r\":\n",
    "        allowed_moves[\"-\" + key] = allowed_moves[key] ** (-1)"
   ]
  },
  {
   "cell_type": "code",
   "execution_count": 58,
   "id": "0487c4d6-899c-4e5e-bd5a-815b9d008d00",
   "metadata": {},
   "outputs": [],
   "source": [
    "def count_pair(state, r, f):\n",
    "    count = 0\n",
    "    for i in range(r+1):\n",
    "        for j in range(f*2):\n",
    "            if state[i*f*2+j] == state[i*f*2+(j+1)%(f*2)]:\n",
    "                count += 1\n",
    "\n",
    "    return count"
   ]
  },
  {
   "cell_type": "code",
   "execution_count": 59,
   "id": "228c3006-1d80-4e02-9477-8d1150ac6e76",
   "metadata": {},
   "outputs": [],
   "source": [
    "def count_correct(state, correct):\n",
    "    count = 0\n",
    "    return sum([state[i] == correct[i] for i in range(len(state))])"
   ]
  },
  {
   "cell_type": "code",
   "execution_count": 11,
   "id": "eebd062a-7a7a-4a4f-ba3a-bb7f5f3ab5ec",
   "metadata": {},
   "outputs": [
    {
     "name": "stderr",
     "output_type": "stream",
     "text": [
      "100%|█████████████████████████████████████████████████████████████████████████████████████████████████████████████████████████████████████████| 16333591/16333591 [04:49<00:00, 56464.99it/s]\n"
     ]
    }
   ],
   "source": [
    "with open('globe-1-8-7f_rev.pkl', mode='rb') as f:\n",
    "    globe_moves_7 = pickle.load(f)\n",
    "allowed_globe_moves_7 = {k: Permutation(v) for k, v in tqdm.tqdm(globe_moves_7.items(), total=len(globe_moves_7))}"
   ]
  },
  {
   "cell_type": "code",
   "execution_count": 12,
   "id": "9eb6acc0-21df-418d-8c0d-04c02d95ada0",
   "metadata": {},
   "outputs": [
    {
     "name": "stderr",
     "output_type": "stream",
     "text": [
      "100%|█████████████████████████████████████████████████████████████████████████████████████████████████████████████████████████████████████████| 16098539/16098539 [04:42<00:00, 57065.46it/s]\n"
     ]
    }
   ],
   "source": [
    "with open('globe-1-8-6_rev.pkl', mode='rb') as f:\n",
    "    globe_moves_6 = pickle.load(f)\n",
    "allowed_globe_moves_6 = {k: Permutation(v) for k, v in tqdm.tqdm(globe_moves_6.items(), total=len(globe_moves_6))}"
   ]
  },
  {
   "cell_type": "code",
   "execution_count": null,
   "id": "683937bb-c948-476f-b36c-a45b1eb0e1c4",
   "metadata": {},
   "outputs": [],
   "source": []
  },
  {
   "cell_type": "code",
   "execution_count": 60,
   "id": "674a374d-f346-462e-a141-fb2569c2852d",
   "metadata": {
    "scrolled": true
   },
   "outputs": [
    {
     "name": "stderr",
     "output_type": "stream",
     "text": [
      "  0%|                                                                                                                  | 6386/16333591 [00:00<07:50, 34709.41it/s]"
     ]
    },
    {
     "name": "stdout",
     "output_type": "stream",
     "text": [
      "3 ['I', 'P', 'I', 'N', 'L', 'N', 'C', 'C', 'K', 'B', 'O', 'A', 'A', 'D', 'E', 'J', 'E', 'B', 'M', 'J', 'L', 'F', 'F', 'P', 'M', 'G', 'O', 'G', 'H', 'D', 'K', 'H'] f2.f6\n",
      "4 ['I', 'P', 'I', 'N', 'L', 'C', 'C', 'N', 'D', 'H', 'G', 'O', 'G', 'M', 'E', 'J', 'E', 'B', 'M', 'J', 'L', 'P', 'F', 'F', 'D', 'A', 'A', 'O', 'B', 'K', 'K', 'H'] f2.f5.f6\n"
     ]
    },
    {
     "name": "stderr",
     "output_type": "stream",
     "text": [
      "  0%|▎                                                                                                               | 37725/16333591 [00:00<02:18, 117917.26it/s]"
     ]
    },
    {
     "name": "stdout",
     "output_type": "stream",
     "text": [
      "5 ['I', 'F', 'P', 'P', 'I', 'N', 'L', 'N', 'D', 'K', 'K', 'B', 'O', 'A', 'A', 'J', 'E', 'C', 'C', 'B', 'M', 'J', 'L', 'F', 'D', 'E', 'M', 'G', 'O', 'G', 'H', 'H'] f2.f7.f1.f2\n"
     ]
    },
    {
     "name": "stderr",
     "output_type": "stream",
     "text": [
      "  1%|▉                                                                                                              | 132231/16333591 [00:00<01:28, 184082.07it/s]"
     ]
    },
    {
     "name": "stdout",
     "output_type": "stream",
     "text": [
      "6 ['I', 'F', 'P', 'P', 'G', 'M', 'E', 'D', 'F', 'L', 'J', 'M', 'O', 'A', 'A', 'J', 'E', 'C', 'C', 'B', 'B', 'K', 'K', 'D', 'N', 'L', 'N', 'I', 'O', 'G', 'H', 'H'] f2.f7.f1.f2.f4\n"
     ]
    },
    {
     "name": "stderr",
     "output_type": "stream",
     "text": [
      " 27%|█████████████████████████████▊                                                                                | 4421435/16333591 [00:21<00:57, 208189.51it/s]"
     ]
    },
    {
     "name": "stdout",
     "output_type": "stream",
     "text": [
      "7 ['D', 'H', 'G', 'O', 'L', 'N', 'I', 'K', 'K', 'B', 'B', 'C', 'C', 'M', 'J', 'J', 'D', 'A', 'A', 'O', 'L', 'F', 'E', 'E', 'M', 'G', 'P', 'P', 'F', 'I', 'N', 'H'] f1.f2.f0.f5.f6.f4.f7\n"
     ]
    },
    {
     "name": "stderr",
     "output_type": "stream",
     "text": [
      "100%|█████████████████████████████████████████████████████████████████████████████████████████████████████████████| 16333591/16333591 [01:21<00:00, 201509.29it/s]"
     ]
    },
    {
     "name": "stdout",
     "output_type": "stream",
     "text": [
      "7 ['D', 'H', 'G', 'O', 'L', 'N', 'I', 'K', 'K', 'B', 'B', 'C', 'C', 'M', 'J', 'J', 'D', 'A', 'A', 'O', 'L', 'F', 'E', 'E', 'M', 'G', 'P', 'P', 'F', 'I', 'N', 'H'] f1.f2.f0.f5.f6.f4.f7\n"
     ]
    },
    {
     "name": "stderr",
     "output_type": "stream",
     "text": [
      "\n"
     ]
    }
   ],
   "source": [
    "state = puzzles.iloc[338].initial_state.split(';')\n",
    "\n",
    "max_pair = count_pair(state, 1, 8)\n",
    "max_state = state\n",
    "max_key = ''\n",
    "for key in tqdm.tqdm(allowed_globe_moves_7, total=len(allowed_globe_moves_7)):\n",
    "    new_state = allowed_globe_moves_7[key](state)\n",
    "    new_pair = count_pair(new_state, 1, 8)\n",
    "    if max_pair < new_pair:\n",
    "        max_pair = new_pair\n",
    "        max_state = new_state\n",
    "        max_key = key\n",
    "        print(max_pair, max_state, max_key)\n",
    "print(max_pair, max_state, max_key)"
   ]
  },
  {
   "cell_type": "code",
   "execution_count": 61,
   "id": "a6847a0e-8dca-462f-9586-c28a976461ad",
   "metadata": {},
   "outputs": [],
   "source": [
    "operations = ['f1.f2.f0.f5.f6.f4.f7']\n",
    "state = ['D', 'H', 'G', 'O', 'L', 'N', 'I', 'K', 'K', 'B', 'B', 'C', 'C', 'M', 'J', 'J', 'D', 'A', 'A', 'O', 'L', 'F', 'E', 'E', 'M', 'G', 'P', 'P', 'F', 'I', 'N', 'H']"
   ]
  },
  {
   "cell_type": "code",
   "execution_count": 62,
   "id": "1285d99c-2c36-4ce1-bb7d-49645c23456b",
   "metadata": {},
   "outputs": [
    {
     "name": "stderr",
     "output_type": "stream",
     "text": [
      "  0%|▏                                                                                                               | 23226/16333591 [00:00<01:10, 229748.72it/s]"
     ]
    },
    {
     "name": "stdout",
     "output_type": "stream",
     "text": [
      "8 ['D', 'M', 'E', 'E', 'F', 'F', 'P', 'P', 'G', 'H', 'G', 'O', 'L', 'M', 'J', 'J', 'D', 'K', 'K', 'I', 'N', 'C', 'C', 'B', 'B', 'A', 'A', 'O', 'L', 'I', 'N', 'H'] f1.f5\n"
     ]
    },
    {
     "name": "stderr",
     "output_type": "stream",
     "text": [
      "100%|█████████████████████████████████████████████████████████████████████████████████████████████████████████████| 16333591/16333591 [01:12<00:00, 226030.07it/s]"
     ]
    },
    {
     "name": "stdout",
     "output_type": "stream",
     "text": [
      "8 ['D', 'M', 'E', 'E', 'F', 'F', 'P', 'P', 'G', 'H', 'G', 'O', 'L', 'M', 'J', 'J', 'D', 'K', 'K', 'I', 'N', 'C', 'C', 'B', 'B', 'A', 'A', 'O', 'L', 'I', 'N', 'H'] f1.f5\n"
     ]
    },
    {
     "name": "stderr",
     "output_type": "stream",
     "text": [
      "\n"
     ]
    }
   ],
   "source": [
    "max_pair = count_pair(state, 1, 8)\n",
    "max_state = state\n",
    "max_key = ''\n",
    "for key in tqdm.tqdm(allowed_globe_moves_7, total=len(allowed_globe_moves_7)):\n",
    "    new_state = allowed_globe_moves_7[key](state)\n",
    "    new_pair = count_pair(new_state, 1, 8)\n",
    "    if max_pair < new_pair:\n",
    "        max_pair = new_pair\n",
    "        max_state = new_state\n",
    "        max_key = key\n",
    "        print(max_pair, max_state, max_key)\n",
    "print(max_pair, max_state, max_key)"
   ]
  },
  {
   "cell_type": "code",
   "execution_count": 63,
   "id": "cf0501ef-c044-4a09-bd62-b7b39ae9a9ee",
   "metadata": {},
   "outputs": [],
   "source": [
    "operations = ['f1.f2.f0.f5.f6.f4.f7', 'f1.f5']\n",
    "state = ['D', 'M', 'E', 'E', 'F', 'F', 'P', 'P', 'G', 'H', 'G', 'O', 'L', 'M', 'J', 'J', 'D', 'K', 'K', 'I', 'N', 'C', 'C', 'B', 'B', 'A', 'A', 'O', 'L', 'I', 'N', 'H']"
   ]
  },
  {
   "cell_type": "code",
   "execution_count": 64,
   "id": "c0463a71-7293-4314-bbb1-b266667ce644",
   "metadata": {},
   "outputs": [
    {
     "name": "stderr",
     "output_type": "stream",
     "text": [
      " 50%|███████████████████████████████████████████████████████                                                       | 8172671/16333591 [00:35<00:36, 222949.39it/s]"
     ]
    },
    {
     "name": "stdout",
     "output_type": "stream",
     "text": [
      "9 ['A', 'A', 'D', 'B', 'B', 'C', 'C', 'N', 'L', 'O', 'K', 'K', 'I', 'M', 'J', 'J', 'H', 'G', 'D', 'G', 'P', 'P', 'F', 'F', 'L', 'O', 'M', 'E', 'E', 'I', 'N', 'H'] f3.f2.f0.f1.f4.f5.f3\n"
     ]
    },
    {
     "name": "stderr",
     "output_type": "stream",
     "text": [
      "100%|█████████████████████████████████████████████████████████████████████████████████████████████████████████████| 16333591/16333591 [01:12<00:00, 224213.01it/s]"
     ]
    },
    {
     "name": "stdout",
     "output_type": "stream",
     "text": [
      "9 ['A', 'A', 'D', 'B', 'B', 'C', 'C', 'N', 'L', 'O', 'K', 'K', 'I', 'M', 'J', 'J', 'H', 'G', 'D', 'G', 'P', 'P', 'F', 'F', 'L', 'O', 'M', 'E', 'E', 'I', 'N', 'H'] f3.f2.f0.f1.f4.f5.f3\n"
     ]
    },
    {
     "name": "stderr",
     "output_type": "stream",
     "text": [
      "\n"
     ]
    }
   ],
   "source": [
    "max_pair = count_pair(state, 1, 8)\n",
    "max_state = state\n",
    "max_key = ''\n",
    "for key in tqdm.tqdm(allowed_globe_moves_7, total=len(allowed_globe_moves_7)):\n",
    "    new_state = allowed_globe_moves_7[key](state)\n",
    "    new_pair = count_pair(new_state, 1, 8)\n",
    "    if max_pair < new_pair:\n",
    "        max_pair = new_pair\n",
    "        max_state = new_state\n",
    "        max_key = key\n",
    "        print(max_pair, max_state, max_key)\n",
    "print(max_pair, max_state, max_key)"
   ]
  },
  {
   "cell_type": "code",
   "execution_count": 65,
   "id": "0b6aa70d-1dc6-4407-96ca-7f5790b24554",
   "metadata": {},
   "outputs": [],
   "source": [
    "operations = ['f1.f2.f0.f5.f6.f4.f7', 'f1.f5', 'f3.f2.f0.f1.f4.f5.f3']\n",
    "state = ['A', 'A', 'D', 'B', 'B', 'C', 'C', 'N', 'L', 'O', 'K', 'K', 'I', 'M', 'J', 'J', 'H', 'G', 'D', 'G', 'P', 'P', 'F', 'F', 'L', 'O', 'M', 'E', 'E', 'I', 'N', 'H']"
   ]
  },
  {
   "cell_type": "code",
   "execution_count": 66,
   "id": "b71982d3-8402-4661-9618-349467c73687",
   "metadata": {},
   "outputs": [],
   "source": [
    "state = allowed_moves['r0'](state)"
   ]
  },
  {
   "cell_type": "code",
   "execution_count": 67,
   "id": "e9e12a1d-949b-46f8-b268-38eef9acfd63",
   "metadata": {},
   "outputs": [
    {
     "name": "stderr",
     "output_type": "stream",
     "text": [
      "  0%|▏                                                                                                               | 22753/16333591 [00:00<01:12, 226267.33it/s]"
     ]
    },
    {
     "name": "stdout",
     "output_type": "stream",
     "text": [
      "10 ['A', 'D', 'B', 'B', 'C', 'C', 'I', 'N', 'N', 'L', 'O', 'K', 'K', 'I', 'M', 'A', 'H', 'G', 'D', 'G', 'P', 'P', 'J', 'J', 'F', 'F', 'L', 'O', 'M', 'E', 'E', 'H'] f6.f7\n"
     ]
    },
    {
     "name": "stderr",
     "output_type": "stream",
     "text": [
      "  2%|█▊                                                                                                             | 258601/16333591 [00:01<01:08, 234815.73it/s]"
     ]
    },
    {
     "name": "stdout",
     "output_type": "stream",
     "text": [
      "11 ['A', 'D', 'F', 'F', 'J', 'J', 'P', 'P', 'B', 'B', 'O', 'K', 'K', 'E', 'E', 'A', 'H', 'G', 'L', 'N', 'N', 'I', 'C', 'C', 'D', 'G', 'L', 'O', 'M', 'M', 'I', 'H'] f6.f4.f7.f2.f5\n"
     ]
    },
    {
     "name": "stderr",
     "output_type": "stream",
     "text": [
      " 13%|██████████████▏                                                                                               | 2100495/16333591 [00:08<01:01, 231945.84it/s]"
     ]
    },
    {
     "name": "stdout",
     "output_type": "stream",
     "text": [
      "12 ['A', 'D', 'B', 'B', 'P', 'P', 'O', 'K', 'K', 'E', 'E', 'J', 'J', 'F', 'F', 'A', 'H', 'G', 'D', 'G', 'C', 'C', 'L', 'O', 'M', 'M', 'I', 'I', 'N', 'N', 'L', 'H'] f7.f1.f6.f1.f6.f1\n"
     ]
    },
    {
     "name": "stderr",
     "output_type": "stream",
     "text": [
      "100%|█████████████████████████████████████████████████████████████████████████████████████████████████████████████| 16333591/16333591 [01:12<00:00, 225565.61it/s]"
     ]
    },
    {
     "name": "stdout",
     "output_type": "stream",
     "text": [
      "12 ['A', 'D', 'B', 'B', 'P', 'P', 'O', 'K', 'K', 'E', 'E', 'J', 'J', 'F', 'F', 'A', 'H', 'G', 'D', 'G', 'C', 'C', 'L', 'O', 'M', 'M', 'I', 'I', 'N', 'N', 'L', 'H'] f7.f1.f6.f1.f6.f1\n"
     ]
    },
    {
     "name": "stderr",
     "output_type": "stream",
     "text": [
      "\n"
     ]
    }
   ],
   "source": [
    "max_pair = count_pair(state, 1, 8)\n",
    "max_state = state\n",
    "max_key = ''\n",
    "for key in tqdm.tqdm(allowed_globe_moves_7, total=len(allowed_globe_moves_7)):\n",
    "    new_state = allowed_globe_moves_7[key](state)\n",
    "    new_pair = count_pair(new_state, 1, 8)\n",
    "    if max_pair < new_pair:\n",
    "        max_pair = new_pair\n",
    "        max_state = new_state\n",
    "        max_key = key\n",
    "        print(max_pair, max_state, max_key)\n",
    "print(max_pair, max_state, max_key)"
   ]
  },
  {
   "cell_type": "code",
   "execution_count": 68,
   "id": "30189dd1-231a-451d-ab26-112d49887138",
   "metadata": {},
   "outputs": [],
   "source": [
    "operations = ['f1.f2.f0.f5.f6.f4.f7', 'f1.f5', 'f3.f2.f0.f1.f4.f5.f3', 'f7.f1.f6.f1.f6.f1']\n",
    "state = ['A', 'D', 'B', 'B', 'P', 'P', 'O', 'K', 'K', 'E', 'E', 'J', 'J', 'F', 'F', 'A', 'H', 'G', 'D', 'G', 'C', 'C', 'L', 'O', 'M', 'M', 'I', 'I', 'N', 'N', 'L', 'H']"
   ]
  },
  {
   "cell_type": "code",
   "execution_count": 73,
   "id": "43af3142-e909-4306-afec-988ca7d4be29",
   "metadata": {},
   "outputs": [
    {
     "name": "stdout",
     "output_type": "stream",
     "text": [
      "0\n"
     ]
    },
    {
     "name": "stderr",
     "output_type": "stream",
     "text": [
      "100%|█████████████████████████████████████████████████████████████████████████████████████████████████████████████| 16098539/16098539 [01:20<00:00, 200559.64it/s]\n"
     ]
    },
    {
     "name": "stdout",
     "output_type": "stream",
     "text": [
      "26748\n",
      "1\n"
     ]
    },
    {
     "name": "stderr",
     "output_type": "stream",
     "text": [
      "100%|█████████████████████████████████████████████████████████████████████████████████████████████████████████████| 16098539/16098539 [01:21<00:00, 197279.39it/s]\n"
     ]
    },
    {
     "name": "stdout",
     "output_type": "stream",
     "text": [
      "53483\n",
      "2\n"
     ]
    },
    {
     "name": "stderr",
     "output_type": "stream",
     "text": [
      "100%|█████████████████████████████████████████████████████████████████████████████████████████████████████████████| 16098539/16098539 [01:23<00:00, 193670.16it/s]\n"
     ]
    },
    {
     "name": "stdout",
     "output_type": "stream",
     "text": [
      "83481\n",
      "3\n"
     ]
    },
    {
     "name": "stderr",
     "output_type": "stream",
     "text": [
      "100%|█████████████████████████████████████████████████████████████████████████████████████████████████████████████| 16098539/16098539 [01:22<00:00, 194330.00it/s]\n"
     ]
    },
    {
     "name": "stdout",
     "output_type": "stream",
     "text": [
      "144452\n",
      "4\n"
     ]
    },
    {
     "name": "stderr",
     "output_type": "stream",
     "text": [
      "100%|█████████████████████████████████████████████████████████████████████████████████████████████████████████████| 16098539/16098539 [01:18<00:00, 203855.81it/s]\n"
     ]
    },
    {
     "name": "stdout",
     "output_type": "stream",
     "text": [
      "168176\n",
      "5\n"
     ]
    },
    {
     "name": "stderr",
     "output_type": "stream",
     "text": [
      "100%|█████████████████████████████████████████████████████████████████████████████████████████████████████████████| 16098539/16098539 [01:18<00:00, 205674.68it/s]\n"
     ]
    },
    {
     "name": "stdout",
     "output_type": "stream",
     "text": [
      "219973\n",
      "6\n"
     ]
    },
    {
     "name": "stderr",
     "output_type": "stream",
     "text": [
      "100%|█████████████████████████████████████████████████████████████████████████████████████████████████████████████| 16098539/16098539 [01:24<00:00, 191173.12it/s]\n"
     ]
    },
    {
     "name": "stdout",
     "output_type": "stream",
     "text": [
      "247073\n",
      "7\n"
     ]
    },
    {
     "name": "stderr",
     "output_type": "stream",
     "text": [
      "100%|█████████████████████████████████████████████████████████████████████████████████████████████████████████████| 16098539/16098539 [01:23<00:00, 193140.62it/s]\n"
     ]
    },
    {
     "name": "stdout",
     "output_type": "stream",
     "text": [
      "315716\n",
      "8\n"
     ]
    },
    {
     "name": "stderr",
     "output_type": "stream",
     "text": [
      "100%|█████████████████████████████████████████████████████████████████████████████████████████████████████████████| 16098539/16098539 [01:22<00:00, 195193.35it/s]\n"
     ]
    },
    {
     "name": "stdout",
     "output_type": "stream",
     "text": [
      "342509\n",
      "9\n"
     ]
    },
    {
     "name": "stderr",
     "output_type": "stream",
     "text": [
      "100%|█████████████████████████████████████████████████████████████████████████████████████████████████████████████| 16098539/16098539 [01:22<00:00, 194691.39it/s]\n"
     ]
    },
    {
     "name": "stdout",
     "output_type": "stream",
     "text": [
      "366367\n",
      "10\n"
     ]
    },
    {
     "name": "stderr",
     "output_type": "stream",
     "text": [
      "100%|█████████████████████████████████████████████████████████████████████████████████████████████████████████████| 16098539/16098539 [01:21<00:00, 198431.99it/s]\n"
     ]
    },
    {
     "name": "stdout",
     "output_type": "stream",
     "text": [
      "389624\n",
      "11\n"
     ]
    },
    {
     "name": "stderr",
     "output_type": "stream",
     "text": [
      "100%|█████████████████████████████████████████████████████████████████████████████████████████████████████████████| 16098539/16098539 [01:22<00:00, 195200.94it/s]\n"
     ]
    },
    {
     "name": "stdout",
     "output_type": "stream",
     "text": [
      "411596\n",
      "12\n"
     ]
    },
    {
     "name": "stderr",
     "output_type": "stream",
     "text": [
      "100%|█████████████████████████████████████████████████████████████████████████████████████████████████████████████| 16098539/16098539 [01:22<00:00, 194388.25it/s]\n"
     ]
    },
    {
     "name": "stdout",
     "output_type": "stream",
     "text": [
      "428163\n",
      "13\n"
     ]
    },
    {
     "name": "stderr",
     "output_type": "stream",
     "text": [
      "100%|█████████████████████████████████████████████████████████████████████████████████████████████████████████████| 16098539/16098539 [01:21<00:00, 196529.13it/s]\n"
     ]
    },
    {
     "name": "stdout",
     "output_type": "stream",
     "text": [
      "449576\n",
      "14\n"
     ]
    },
    {
     "name": "stderr",
     "output_type": "stream",
     "text": [
      "100%|█████████████████████████████████████████████████████████████████████████████████████████████████████████████| 16098539/16098539 [01:22<00:00, 195043.82it/s]\n"
     ]
    },
    {
     "name": "stdout",
     "output_type": "stream",
     "text": [
      "457564\n",
      "15\n"
     ]
    },
    {
     "name": "stderr",
     "output_type": "stream",
     "text": [
      "100%|█████████████████████████████████████████████████████████████████████████████████████████████████████████████| 16098539/16098539 [01:24<00:00, 190907.58it/s]"
     ]
    },
    {
     "name": "stdout",
     "output_type": "stream",
     "text": [
      "473011\n",
      "14 ['D', 'D', 'G', 'P', 'P', 'O', 'O', 'L', 'E', 'E', 'J', 'J', 'F', 'F', 'A', 'A', 'H', 'B', 'B', 'G', 'C', 'C', 'K', 'K', 'M', 'M', 'I', 'I', 'N', 'N', 'L', 'H'] f3.f6.f1.f4.f1.f6\n"
     ]
    },
    {
     "name": "stderr",
     "output_type": "stream",
     "text": [
      "\n"
     ]
    }
   ],
   "source": [
    "max_pair = count_pair(state, 1, 8)\n",
    "max_state = state\n",
    "max_key = ''\n",
    "set_12 = set()\n",
    "\n",
    "for i in range(16):\n",
    "    print(i)\n",
    "    state = state = ['A', 'D', 'B', 'B', 'P', 'P', 'O', 'K', 'K', 'E', 'E', 'J', 'J', 'F', 'F', 'A', 'H', 'G', 'D', 'G', 'C', 'C', 'L', 'O', 'M', 'M', 'I', 'I', 'N', 'N', 'L', 'H']\n",
    "    for _ in range(i):\n",
    "        state = allowed_moves['r0'](state)\n",
    "    for key in tqdm.tqdm(allowed_globe_moves_6, total=len(allowed_globe_moves_6)):\n",
    "        new_state = allowed_globe_moves_6[key](state)\n",
    "        new_pair = count_pair(new_state, 1, 8)\n",
    "        if max_pair < new_pair:\n",
    "            max_pair = new_pair\n",
    "            max_state = new_state\n",
    "            max_key = key\n",
    "        if new_pair == 12 and ';'.join(new_state) not in set_12:\n",
    "            set_12.add(';'.join(new_state))\n",
    "            # print(max_pair, max_state, max_key)\n",
    "    print(len(set_12))\n",
    "print(max_pair, max_state, max_key)"
   ]
  },
  {
   "cell_type": "code",
   "execution_count": 72,
   "id": "dbbe370a-1588-4bfa-9a30-5a850b97fe38",
   "metadata": {},
   "outputs": [
    {
     "data": {
      "text/plain": [
       "{'A;A;D;B;B;P;P;O;K;K;E;E;J;J;F;F;H;G;D;G;C;C;L;O;M;M;I;I;N;N;L;H',\n",
       " 'D;D;G;P;P;O;O;L;E;E;J;J;F;F;A;A;H;B;B;G;C;C;K;K;M;M;I;I;N;N;L;H',\n",
       " 'F;B;B;P;P;O;K;K;G;G;D;E;E;J;J;F;H;C;C;L;O;M;M;A;A;D;I;I;N;N;L;H'}"
      ]
     },
     "execution_count": 72,
     "metadata": {},
     "output_type": "execute_result"
    }
   ],
   "source": [
    "set_12"
   ]
  },
  {
   "cell_type": "code",
   "execution_count": null,
   "id": "d71abde0-f4f8-4bd7-b82d-dd84778d63e9",
   "metadata": {},
   "outputs": [],
   "source": []
  },
  {
   "cell_type": "code",
   "execution_count": null,
   "id": "2e1d44f6-3bc4-4f65-8ab5-9f3ddccaf673",
   "metadata": {},
   "outputs": [],
   "source": []
  },
  {
   "cell_type": "code",
   "execution_count": null,
   "id": "76caef79-640a-44ea-a1a8-4690c6173d61",
   "metadata": {},
   "outputs": [],
   "source": []
  },
  {
   "cell_type": "code",
   "execution_count": null,
   "id": "109c8e07-36a6-4c0e-ba7e-7fe6b75ca453",
   "metadata": {},
   "outputs": [],
   "source": []
  },
  {
   "cell_type": "code",
   "execution_count": null,
   "id": "945335c1-051c-40cb-be6a-ebe528ecf03f",
   "metadata": {},
   "outputs": [],
   "source": []
  },
  {
   "cell_type": "code",
   "execution_count": 68,
   "id": "847e765e-712b-443b-a06f-cc9efe353cd8",
   "metadata": {},
   "outputs": [],
   "source": [
    "operations = ['f1.f2.f0.f5.f6.f4.f7', 'f1.f5', 'f3.f2.f0.f1.f4.f5.f3', 'f7.f1.f6.f1.f6.f1']\n",
    "state = ['A', 'D', 'B', 'B', 'P', 'P', 'O', 'K', 'K', 'E', 'E', 'J', 'J', 'F', 'F', 'A', 'H', 'G', 'D', 'G', 'C', 'C', 'L', 'O', 'M', 'M', 'I', 'I', 'N', 'N', 'L', 'H']"
   ]
  },
  {
   "cell_type": "code",
   "execution_count": 69,
   "id": "3acd196a-e52a-49c6-b9fb-400cfa44bb5e",
   "metadata": {},
   "outputs": [],
   "source": [
    "state = allowed_moves['r0'](state)"
   ]
  },
  {
   "cell_type": "code",
   "execution_count": 212,
   "id": "f8fd3487-bdab-4577-81c6-5f6c308fddd8",
   "metadata": {},
   "outputs": [
    {
     "name": "stderr",
     "output_type": "stream",
     "text": [
      "  1%|▉                                                                                                                                         | 111289/16333591 [00:00<01:12, 222233.52it/s]"
     ]
    },
    {
     "name": "stdout",
     "output_type": "stream",
     "text": [
      "13 ['D', 'D', 'G', 'P', 'P', 'O', 'F', 'F', 'I', 'I', 'M', 'M', 'O', 'L', 'A', 'A', 'H', 'B', 'B', 'G', 'C', 'C', 'N', 'N', 'J', 'J', 'E', 'E', 'K', 'K', 'L', 'H'] f1.f4.f1.f6.f3\n"
     ]
    },
    {
     "name": "stderr",
     "output_type": "stream",
     "text": [
      "  8%|██████████▍                                                                                                                              | 1247859/16333591 [00:05<01:06, 225724.18it/s]"
     ]
    },
    {
     "name": "stdout",
     "output_type": "stream",
     "text": [
      "14 ['D', 'D', 'G', 'P', 'P', 'O', 'O', 'L', 'E', 'E', 'J', 'J', 'F', 'F', 'A', 'A', 'H', 'B', 'B', 'G', 'C', 'C', 'K', 'K', 'M', 'M', 'I', 'I', 'N', 'N', 'L', 'H'] f3.f6.f1.f4.f1.f6\n"
     ]
    },
    {
     "name": "stderr",
     "output_type": "stream",
     "text": [
      "100%|████████████████████████████████████████████████████████████████████████████████████████████████████████████████████████████████████████| 16333591/16333591 [01:15<00:00, 217220.07it/s]\n"
     ]
    },
    {
     "name": "stdout",
     "output_type": "stream",
     "text": [
      "14 ['D', 'D', 'G', 'P', 'P', 'O', 'O', 'L', 'E', 'E', 'J', 'J', 'F', 'F', 'A', 'A', 'H', 'B', 'B', 'G', 'C', 'C', 'K', 'K', 'M', 'M', 'I', 'I', 'N', 'N', 'L', 'H'] f3.f6.f1.f4.f1.f6\n"
     ]
    }
   ],
   "source": [
    "max_pair = count_pair(state, 1, 8)\n",
    "max_state = state\n",
    "max_key = ''\n",
    "for key in tqdm.tqdm(allowed_globe_moves_7, total=len(allowed_globe_moves_7)):\n",
    "    new_state = allowed_globe_moves_7[key](state)\n",
    "    new_pair = count_pair(new_state, 1, 8)\n",
    "    if max_pair < new_pair:\n",
    "        max_pair = new_pair\n",
    "        max_state = new_state\n",
    "        max_key = key\n",
    "        print(max_pair, max_state, max_key)\n",
    "print(max_pair, max_state, max_key)"
   ]
  },
  {
   "cell_type": "code",
   "execution_count": 13,
   "id": "1845d54c-18fa-4365-bb4c-d8a2b0f41149",
   "metadata": {},
   "outputs": [],
   "source": [
    "operations = ['f1.f2.f0.f5.f6.f4.f7', 'f1.f5', 'f3.f2.f0.f1.f4.f5.f3', 'f7.f1.f6.f1.f6.f1', 'f3.f6.f1.f4.f1.f6']\n",
    "state = ['D', 'D', 'G', 'P', 'P', 'O', 'O', 'L', 'E', 'E', 'J', 'J', 'F', 'F', 'A', 'A', 'H', 'B', 'B', 'G', 'C', 'C', 'K', 'K', 'M', 'M', 'I', 'I', 'N', 'N', 'L', 'H']"
   ]
  },
  {
   "cell_type": "code",
   "execution_count": 14,
   "id": "4aaaa833-39cd-41a1-a089-a8b892fe3312",
   "metadata": {},
   "outputs": [
    {
     "name": "stdout",
     "output_type": "stream",
     "text": [
      "0\n"
     ]
    },
    {
     "name": "stderr",
     "output_type": "stream",
     "text": [
      "100%|████████████████████████████████████████████████████████████████████████████████████████████████████████████████████████████████████████| 16098539/16098539 [01:16<00:00, 211109.84it/s]\n"
     ]
    },
    {
     "name": "stdout",
     "output_type": "stream",
     "text": [
      "1\n"
     ]
    },
    {
     "name": "stderr",
     "output_type": "stream",
     "text": [
      "100%|████████████████████████████████████████████████████████████████████████████████████████████████████████████████████████████████████████| 16098539/16098539 [01:17<00:00, 208980.14it/s]\n"
     ]
    },
    {
     "name": "stdout",
     "output_type": "stream",
     "text": [
      "2\n"
     ]
    },
    {
     "name": "stderr",
     "output_type": "stream",
     "text": [
      "100%|████████████████████████████████████████████████████████████████████████████████████████████████████████████████████████████████████████| 16098539/16098539 [01:15<00:00, 213702.18it/s]\n"
     ]
    },
    {
     "name": "stdout",
     "output_type": "stream",
     "text": [
      "3\n"
     ]
    },
    {
     "name": "stderr",
     "output_type": "stream",
     "text": [
      "100%|████████████████████████████████████████████████████████████████████████████████████████████████████████████████████████████████████████| 16098539/16098539 [01:16<00:00, 210535.80it/s]\n"
     ]
    },
    {
     "name": "stdout",
     "output_type": "stream",
     "text": [
      "4\n"
     ]
    },
    {
     "name": "stderr",
     "output_type": "stream",
     "text": [
      "100%|████████████████████████████████████████████████████████████████████████████████████████████████████████████████████████████████████████| 16098539/16098539 [01:17<00:00, 206628.30it/s]\n"
     ]
    },
    {
     "name": "stdout",
     "output_type": "stream",
     "text": [
      "5\n"
     ]
    },
    {
     "name": "stderr",
     "output_type": "stream",
     "text": [
      "100%|████████████████████████████████████████████████████████████████████████████████████████████████████████████████████████████████████████| 16098539/16098539 [01:17<00:00, 208038.75it/s]\n"
     ]
    },
    {
     "name": "stdout",
     "output_type": "stream",
     "text": [
      "6\n"
     ]
    },
    {
     "name": "stderr",
     "output_type": "stream",
     "text": [
      "100%|████████████████████████████████████████████████████████████████████████████████████████████████████████████████████████████████████████| 16098539/16098539 [01:17<00:00, 206930.57it/s]\n"
     ]
    },
    {
     "name": "stdout",
     "output_type": "stream",
     "text": [
      "7\n"
     ]
    },
    {
     "name": "stderr",
     "output_type": "stream",
     "text": [
      "100%|████████████████████████████████████████████████████████████████████████████████████████████████████████████████████████████████████████| 16098539/16098539 [01:16<00:00, 209627.04it/s]\n"
     ]
    },
    {
     "name": "stdout",
     "output_type": "stream",
     "text": [
      "8\n"
     ]
    },
    {
     "name": "stderr",
     "output_type": "stream",
     "text": [
      "100%|████████████████████████████████████████████████████████████████████████████████████████████████████████████████████████████████████████| 16098539/16098539 [01:18<00:00, 206235.93it/s]\n"
     ]
    },
    {
     "name": "stdout",
     "output_type": "stream",
     "text": [
      "9\n"
     ]
    },
    {
     "name": "stderr",
     "output_type": "stream",
     "text": [
      "100%|████████████████████████████████████████████████████████████████████████████████████████████████████████████████████████████████████████| 16098539/16098539 [01:16<00:00, 209251.95it/s]\n"
     ]
    },
    {
     "name": "stdout",
     "output_type": "stream",
     "text": [
      "10\n"
     ]
    },
    {
     "name": "stderr",
     "output_type": "stream",
     "text": [
      "100%|████████████████████████████████████████████████████████████████████████████████████████████████████████████████████████████████████████| 16098539/16098539 [01:17<00:00, 208459.74it/s]\n"
     ]
    },
    {
     "name": "stdout",
     "output_type": "stream",
     "text": [
      "11\n"
     ]
    },
    {
     "name": "stderr",
     "output_type": "stream",
     "text": [
      "100%|████████████████████████████████████████████████████████████████████████████████████████████████████████████████████████████████████████| 16098539/16098539 [01:16<00:00, 210121.82it/s]\n"
     ]
    },
    {
     "name": "stdout",
     "output_type": "stream",
     "text": [
      "12\n"
     ]
    },
    {
     "name": "stderr",
     "output_type": "stream",
     "text": [
      "100%|████████████████████████████████████████████████████████████████████████████████████████████████████████████████████████████████████████| 16098539/16098539 [01:17<00:00, 208234.31it/s]\n"
     ]
    },
    {
     "name": "stdout",
     "output_type": "stream",
     "text": [
      "13\n"
     ]
    },
    {
     "name": "stderr",
     "output_type": "stream",
     "text": [
      "100%|████████████████████████████████████████████████████████████████████████████████████████████████████████████████████████████████████████| 16098539/16098539 [01:14<00:00, 214832.43it/s]\n"
     ]
    },
    {
     "name": "stdout",
     "output_type": "stream",
     "text": [
      "14\n"
     ]
    },
    {
     "name": "stderr",
     "output_type": "stream",
     "text": [
      "100%|████████████████████████████████████████████████████████████████████████████████████████████████████████████████████████████████████████| 16098539/16098539 [01:15<00:00, 212343.01it/s]\n"
     ]
    },
    {
     "name": "stdout",
     "output_type": "stream",
     "text": [
      "15\n"
     ]
    },
    {
     "name": "stderr",
     "output_type": "stream",
     "text": [
      "100%|████████████████████████████████████████████████████████████████████████████████████████████████████████████████████████████████████████| 16098539/16098539 [01:16<00:00, 211319.76it/s]"
     ]
    },
    {
     "name": "stdout",
     "output_type": "stream",
     "text": [
      "14 ['D', 'D', 'G', 'P', 'P', 'O', 'O', 'L', 'E', 'E', 'J', 'J', 'F', 'F', 'A', 'A', 'H', 'B', 'B', 'G', 'C', 'C', 'K', 'K', 'M', 'M', 'I', 'I', 'N', 'N', 'L', 'H'] \n"
     ]
    },
    {
     "name": "stderr",
     "output_type": "stream",
     "text": [
      "\n"
     ]
    }
   ],
   "source": [
    "state = ['D', 'D', 'G', 'P', 'P', 'O', 'O', 'L', 'E', 'E', 'J', 'J', 'F', 'F', 'A', 'A', 'H', 'B', 'B', 'G', 'C', 'C', 'K', 'K', 'M', 'M', 'I', 'I', 'N', 'N', 'L', 'H']\n",
    "max_pair = count_pair(state, 1, 8)\n",
    "max_state = state\n",
    "max_key = ''\n",
    "\n",
    "for i in range(16):\n",
    "    print(i)\n",
    "    state = ['D', 'D', 'G', 'P', 'P', 'O', 'O', 'L', 'E', 'E', 'J', 'J', 'F', 'F', 'A', 'A', 'H', 'B', 'B', 'G', 'C', 'C', 'K', 'K', 'M', 'M', 'I', 'I', 'N', 'N', 'L', 'H']\n",
    "    for _ in range(i):\n",
    "        state = allowed_moves['r0'](state)\n",
    "    for key in tqdm.tqdm(allowed_globe_moves_6, total=len(allowed_globe_moves_6)):\n",
    "        new_state = allowed_globe_moves_6[key](state)\n",
    "        new_pair = count_pair(new_state, 1, 8)\n",
    "        if max_pair < new_pair:\n",
    "            max_pair = new_pair\n",
    "            max_state = new_state\n",
    "            max_key = key\n",
    "            print(max_pair, max_state, max_key)\n",
    "print(max_pair, max_state, max_key)"
   ]
  },
  {
   "cell_type": "code",
   "execution_count": null,
   "id": "8ad38668-5a38-41e0-985f-4ae77f86eae1",
   "metadata": {},
   "outputs": [],
   "source": []
  },
  {
   "cell_type": "code",
   "execution_count": 29,
   "id": "6a97404a-59b3-40fe-ba7f-e4beb686f658",
   "metadata": {},
   "outputs": [],
   "source": [
    "operations = ['f1.f2.f0.f5.f6.f4.f7', 'f1.f5', 'f3.f2.f0.f1.f4.f5.f3', 'f7.f1.f6.f1.f6.f1', 'f3.f6.f1.f4.f1.f6']\n",
    "state = ['D', 'D', 'G', 'P', 'P', 'O', 'O', 'L', 'E', 'E', 'J', 'J', 'F', 'F', 'A', 'A', 'H', 'B', 'B', 'G', 'C', 'C', 'K', 'K', 'M', 'M', 'I', 'I', 'N', 'N', 'L', 'H']"
   ]
  },
  {
   "cell_type": "code",
   "execution_count": 30,
   "id": "a892e5c3-cc87-4402-8473-50f7489c4cf8",
   "metadata": {},
   "outputs": [],
   "source": [
    "solution_state = puzzles.iloc[338].solution_state.split(';')"
   ]
  },
  {
   "cell_type": "code",
   "execution_count": 31,
   "id": "e53bae58-313b-49ab-b7b0-e5e3e58e6281",
   "metadata": {},
   "outputs": [
    {
     "name": "stderr",
     "output_type": "stream",
     "text": [
      "  0%|                                                                                                                                             | 1262/16333591 [00:00<21:42, 12542.89it/s]"
     ]
    },
    {
     "name": "stdout",
     "output_type": "stream",
     "text": [
      "4 ['K', 'K', 'C', 'C', 'G', 'B', 'B', 'H', 'E', 'E', 'J', 'J', 'F', 'F', 'A', 'A', 'L', 'O', 'O', 'P', 'P', 'G', 'D', 'D', 'M', 'M', 'I', 'I', 'N', 'N', 'L', 'H'] f0\n",
      "6 ['D', 'D', 'G', 'P', 'P', 'N', 'I', 'I', 'M', 'M', 'K', 'K', 'C', 'F', 'A', 'A', 'H', 'B', 'B', 'G', 'C', 'F', 'J', 'J', 'E', 'E', 'L', 'O', 'O', 'N', 'L', 'H'] f5\n",
      "7 ['G', 'B', 'B', 'H', 'H', 'L', 'I', 'I', 'M', 'M', 'K', 'K', 'C', 'F', 'F', 'C', 'P', 'G', 'D', 'D', 'A', 'A', 'J', 'J', 'E', 'E', 'L', 'O', 'O', 'N', 'N', 'P'] f5.f14\n",
      "8 ['G', 'B', 'B', 'H', 'H', 'N', 'I', 'I', 'M', 'M', 'K', 'K', 'A', 'F', 'C', 'C', 'P', 'G', 'D', 'D', 'A', 'F', 'J', 'J', 'E', 'E', 'L', 'O', 'L', 'N', 'O', 'P'] f14.f5\n",
      "9 ['G', 'B', 'B', 'H', 'E', 'L', 'N', 'N', 'I', 'I', 'M', 'K', 'C', 'A', 'A', 'C', 'P', 'G', 'D', 'D', 'M', 'K', 'F', 'F', 'J', 'J', 'E', 'O', 'O', 'H', 'L', 'P'] f0.f1.f15.f6\n"
     ]
    },
    {
     "name": "stderr",
     "output_type": "stream",
     "text": [
      "  0%|▎                                                                                                                                          | 34207/16333591 [00:00<02:23, 113970.24it/s]"
     ]
    },
    {
     "name": "stdout",
     "output_type": "stream",
     "text": [
      "10 ['A', 'A', 'C', 'C', 'G', 'B', 'B', 'N', 'I', 'I', 'M', 'K', 'K', 'M', 'D', 'F', 'L', 'H', 'O', 'P', 'P', 'G', 'D', 'F', 'J', 'J', 'E', 'O', 'L', 'E', 'H', 'N'] f0.f9.f10.f7\n",
      "12 ['A', 'A', 'C', 'C', 'G', 'B', 'B', 'N', 'I', 'I', 'K', 'K', 'D', 'M', 'M', 'F', 'L', 'H', 'O', 'P', 'P', 'G', 'D', 'F', 'J', 'J', 'L', 'O', 'H', 'E', 'E', 'N'] f9.f0.f10.f7\n"
     ]
    },
    {
     "name": "stderr",
     "output_type": "stream",
     "text": [
      "  1%|█▉                                                                                                                                        | 224693/16333591 [00:01<01:05, 246220.79it/s]"
     ]
    },
    {
     "name": "stdout",
     "output_type": "stream",
     "text": [
      "14 ['A', 'A', 'D', 'E', 'E', 'D', 'G', 'N', 'I', 'I', 'K', 'K', 'C', 'F', 'G', 'C', 'L', 'H', 'H', 'M', 'M', 'B', 'B', 'F', 'J', 'J', 'L', 'O', 'O', 'N', 'P', 'P'] f5.f1.f2.f14.f15\n"
     ]
    },
    {
     "name": "stderr",
     "output_type": "stream",
     "text": [
      " 26%|███████████████████████████████████▊                                                                                                     | 4274752/16333591 [00:16<00:43, 279702.35it/s]"
     ]
    },
    {
     "name": "stdout",
     "output_type": "stream",
     "text": [
      "16 ['A', 'A', 'B', 'E', 'E', 'H', 'G', 'O', 'I', 'I', 'K', 'K', 'F', 'F', 'G', 'C', 'L', 'H', 'D', 'M', 'M', 'D', 'B', 'C', 'J', 'J', 'L', 'O', 'N', 'N', 'P', 'P'] f1.f0.f4.f0.f2.f14.f15\n"
     ]
    },
    {
     "name": "stderr",
     "output_type": "stream",
     "text": [
      " 38%|████████████████████████████████████████████████████▍                                                                                    | 6258990/16333591 [00:23<00:39, 254350.32it/s]"
     ]
    },
    {
     "name": "stdout",
     "output_type": "stream",
     "text": [
      "17 ['A', 'A', 'B', 'B', 'E', 'E', 'D', 'O', 'I', 'I', 'K', 'K', 'F', 'F', 'G', 'C', 'L', 'H', 'D', 'G', 'M', 'M', 'H', 'C', 'J', 'J', 'L', 'O', 'N', 'N', 'P', 'P'] f2.f1.f4.f0.f2.f14.f15\n"
     ]
    },
    {
     "name": "stderr",
     "output_type": "stream",
     "text": [
      "100%|████████████████████████████████████████████████████████████████████████████████████████████████████████████████████████████████████████| 16333591/16333591 [01:04<00:00, 252550.15it/s]"
     ]
    },
    {
     "name": "stdout",
     "output_type": "stream",
     "text": [
      "17 ['A', 'A', 'B', 'B', 'E', 'E', 'D', 'O', 'I', 'I', 'K', 'K', 'F', 'F', 'G', 'C', 'L', 'H', 'D', 'G', 'M', 'M', 'H', 'C', 'J', 'J', 'L', 'O', 'N', 'N', 'P', 'P'] f2.f1.f4.f0.f2.f14.f15\n"
     ]
    },
    {
     "name": "stderr",
     "output_type": "stream",
     "text": [
      "\n"
     ]
    }
   ],
   "source": [
    "max_correct = count_correct(state, solution_state)\n",
    "max_state = state\n",
    "max_key = ''\n",
    "for key in tqdm.tqdm(allowed_globe_moves_7, total=len(allowed_globe_moves_7)):\n",
    "    new_state = allowed_globe_moves_7[key](state)\n",
    "    new_correct = count_correct(new_state, solution_state)\n",
    "    if max_correct < new_correct:\n",
    "        max_correct = new_correct\n",
    "        max_state = new_state\n",
    "        max_key = key\n",
    "        print(max_correct, max_state, max_key)\n",
    "print(max_correct, max_state, max_key)"
   ]
  },
  {
   "cell_type": "code",
   "execution_count": 42,
   "id": "01f8788e-bfe7-4ff8-8f1c-6f5fa1942f0d",
   "metadata": {},
   "outputs": [],
   "source": [
    "operations = ['f2.f1.f4.f0.f2.f14.f15']\n",
    "state = ['A', 'A', 'B', 'B', 'E', 'E', 'D', 'O', 'I', 'I', 'K', 'K', 'F', 'F', 'G', 'C', 'L', 'H', 'D', 'G', 'M', 'M', 'H', 'C', 'J', 'J', 'L', 'O', 'N', 'N', 'P', 'P']"
   ]
  },
  {
   "cell_type": "code",
   "execution_count": 43,
   "id": "6548ff68-3216-4ed7-8333-bd663e53a72a",
   "metadata": {},
   "outputs": [],
   "source": [
    "state = allowed_moves['r0'](state)"
   ]
  },
  {
   "cell_type": "code",
   "execution_count": 44,
   "id": "df9ad271-0bed-4b82-ba7f-91136f0c6fb4",
   "metadata": {},
   "outputs": [
    {
     "name": "stderr",
     "output_type": "stream",
     "text": [
      "  0%|▌                                                                                                                                          | 59387/16333591 [00:00<00:53, 302325.63it/s]"
     ]
    },
    {
     "name": "stdout",
     "output_type": "stream",
     "text": [
      "14 ['A', 'B', 'B', 'N', 'E', 'E', 'O', 'I', 'I', 'K', 'K', 'F', 'M', 'G', 'C', 'A', 'L', 'H', 'D', 'F', 'M', 'G', 'H', 'C', 'J', 'J', 'L', 'O', 'D', 'N', 'P', 'P'] f5.f4.f3.f4\n"
     ]
    },
    {
     "name": "stderr",
     "output_type": "stream",
     "text": [
      " 18%|████████████████████████▍                                                                                                                | 2912616/16333591 [00:09<00:42, 314818.98it/s]"
     ]
    },
    {
     "name": "stdout",
     "output_type": "stream",
     "text": [
      "15 ['A', 'D', 'C', 'H', 'O', 'M', 'G', 'B', 'I', 'K', 'K', 'N', 'M', 'G', 'C', 'A', 'L', 'B', 'I', 'O', 'F', 'E', 'E', 'H', 'J', 'J', 'L', 'F', 'D', 'N', 'P', 'P'] f0.f3.f0.f5.f1.f4.f0\n"
     ]
    },
    {
     "name": "stderr",
     "output_type": "stream",
     "text": [
      "100%|████████████████████████████████████████████████████████████████████████████████████████████████████████████████████████████████████████| 16333591/16333591 [00:55<00:00, 296331.90it/s]\n"
     ]
    },
    {
     "name": "stdout",
     "output_type": "stream",
     "text": [
      "15 ['A', 'D', 'C', 'H', 'O', 'M', 'G', 'B', 'I', 'K', 'K', 'N', 'M', 'G', 'C', 'A', 'L', 'B', 'I', 'O', 'F', 'E', 'E', 'H', 'J', 'J', 'L', 'F', 'D', 'N', 'P', 'P'] f0.f3.f0.f5.f1.f4.f0\n"
     ]
    }
   ],
   "source": [
    "max_correct = count_correct(state, solution_state)\n",
    "max_state = state\n",
    "max_key = ''\n",
    "for key in tqdm.tqdm(allowed_globe_moves_7, total=len(allowed_globe_moves_7)):\n",
    "    new_state = allowed_globe_moves_7[key](state)\n",
    "    new_correct = count_correct(new_state, solution_state)\n",
    "    if max_correct < new_correct:\n",
    "        max_correct = new_correct\n",
    "        max_state = new_state\n",
    "        max_key = key\n",
    "        print(max_correct, max_state, max_key)\n",
    "print(max_correct, max_state, max_key)"
   ]
  },
  {
   "cell_type": "code",
   "execution_count": 45,
   "id": "3f7b3550-a160-4f7e-96dd-d19edb8b9471",
   "metadata": {},
   "outputs": [],
   "source": [
    "state = ['A', 'D', 'C', 'H', 'O', 'M', 'G', 'B', 'I', 'K', 'K', 'N', 'M', 'G', 'C', 'A', 'L', 'B', 'I', 'O', 'F', 'E', 'E', 'H', 'J', 'J', 'L', 'F', 'D', 'N', 'P', 'P']"
   ]
  },
  {
   "cell_type": "code",
   "execution_count": 46,
   "id": "c0574b64-d26c-46fb-b2c4-ef1f4434b0dd",
   "metadata": {},
   "outputs": [
    {
     "name": "stderr",
     "output_type": "stream",
     "text": [
      "  3%|███▋                                                                                                                                      | 435206/16333591 [00:01<00:46, 338906.32it/s]"
     ]
    },
    {
     "name": "stdout",
     "output_type": "stream",
     "text": [
      "16 ['A', 'D', 'C', 'H', 'O', 'N', 'G', 'B', 'I', 'M', 'K', 'K', 'M', 'G', 'C', 'A', 'L', 'B', 'I', 'O', 'F', 'F', 'E', 'H', 'J', 'E', 'L', 'J', 'D', 'N', 'P', 'P'] f0.f3.f4.f3.f2.f0\n"
     ]
    },
    {
     "name": "stderr",
     "output_type": "stream",
     "text": [
      "100%|████████████████████████████████████████████████████████████████████████████████████████████████████████████████████████████████████████| 16333591/16333591 [00:54<00:00, 297877.77it/s]"
     ]
    },
    {
     "name": "stdout",
     "output_type": "stream",
     "text": [
      "16 ['A', 'D', 'C', 'H', 'O', 'N', 'G', 'B', 'I', 'M', 'K', 'K', 'M', 'G', 'C', 'A', 'L', 'B', 'I', 'O', 'F', 'F', 'E', 'H', 'J', 'E', 'L', 'J', 'D', 'N', 'P', 'P'] f0.f3.f4.f3.f2.f0\n"
     ]
    },
    {
     "name": "stderr",
     "output_type": "stream",
     "text": [
      "\n"
     ]
    }
   ],
   "source": [
    "max_correct = count_correct(state, solution_state)\n",
    "max_state = state\n",
    "max_key = ''\n",
    "for key in tqdm.tqdm(allowed_globe_moves_7, total=len(allowed_globe_moves_7)):\n",
    "    new_state = allowed_globe_moves_7[key](state)\n",
    "    new_correct = count_correct(new_state, solution_state)\n",
    "    if max_correct < new_correct:\n",
    "        max_correct = new_correct\n",
    "        max_state = new_state\n",
    "        max_key = key\n",
    "        print(max_correct, max_state, max_key)\n",
    "print(max_correct, max_state, max_key)"
   ]
  },
  {
   "cell_type": "code",
   "execution_count": null,
   "id": "a1f3f2f6-f0ad-47f0-a4f7-2f01fd6376ff",
   "metadata": {},
   "outputs": [],
   "source": []
  },
  {
   "cell_type": "code",
   "execution_count": null,
   "id": "9a477477-bda9-4fe6-b660-55a03f5c4633",
   "metadata": {},
   "outputs": [],
   "source": []
  },
  {
   "cell_type": "code",
   "execution_count": null,
   "id": "6594184c-e03a-4255-a5c5-370f6cc187e1",
   "metadata": {},
   "outputs": [],
   "source": []
  },
  {
   "cell_type": "code",
   "execution_count": 34,
   "id": "ec2f2845-94e8-45e7-ab1e-443adc390ebf",
   "metadata": {},
   "outputs": [],
   "source": [
    "operations = ['f2.f1.f4.f0.f2.f14.f15', 'r0.f4.f5.-r0.f6.f5']\n",
    "state = ['A', 'A', 'B', 'B', 'E', 'E', 'D', 'O', 'I', 'I', 'K', 'K', 'F', 'M', 'G', 'C', 'L', 'H', 'D', 'G', 'F', 'M', 'H', 'C', 'J', 'J', 'L', 'N', 'O', 'N', 'P', 'P']"
   ]
  },
  {
   "cell_type": "code",
   "execution_count": 35,
   "id": "dec71fe1-8ed6-4e6e-9bc0-956081834af3",
   "metadata": {},
   "outputs": [
    {
     "name": "stderr",
     "output_type": "stream",
     "text": [
      " 65%|█████████████████████████████████████████████████████████████████████████████████████████                                               | 10535635/16098539 [00:33<00:18, 306684.32it/s]"
     ]
    },
    {
     "name": "stdout",
     "output_type": "stream",
     "text": [
      "19 ['A', 'A', 'B', 'O', 'B', 'E', 'D', 'O', 'I', 'I', 'K', 'K', 'M', 'M', 'G', 'C', 'L', 'H', 'D', 'G', 'F', 'F', 'H', 'C', 'J', 'J', 'L', 'N', 'E', 'N', 'P', 'P'] f5.-r0.f5.f4.r0.f4\n"
     ]
    },
    {
     "name": "stderr",
     "output_type": "stream",
     "text": [
      "100%|████████████████████████████████████████████████████████████████████████████████████████████████████████████████████████████████████████| 16098539/16098539 [00:52<00:00, 305317.39it/s]\n"
     ]
    },
    {
     "name": "stdout",
     "output_type": "stream",
     "text": [
      "19 ['A', 'A', 'B', 'O', 'B', 'E', 'D', 'O', 'I', 'I', 'K', 'K', 'M', 'M', 'G', 'C', 'L', 'H', 'D', 'G', 'F', 'F', 'H', 'C', 'J', 'J', 'L', 'N', 'E', 'N', 'P', 'P'] f5.-r0.f5.f4.r0.f4\n"
     ]
    }
   ],
   "source": [
    "max_correct = count_correct(state, solution_state)\n",
    "max_state = state\n",
    "max_key = ''\n",
    "for key in tqdm.tqdm(allowed_globe_moves_6, total=len(allowed_globe_moves_6)):\n",
    "    new_state = allowed_globe_moves_6[key](state)\n",
    "    new_correct = count_correct(new_state, solution_state)\n",
    "    if max_correct < new_correct:\n",
    "        max_correct = new_correct\n",
    "        max_state = new_state\n",
    "        max_key = key\n",
    "        print(max_correct, max_state, max_key)\n",
    "print(max_correct, max_state, max_key)"
   ]
  },
  {
   "cell_type": "code",
   "execution_count": 36,
   "id": "50fb3c58-fa77-4aca-beb1-29e4524279d1",
   "metadata": {},
   "outputs": [],
   "source": [
    "operations = ['f2.f1.f4.f0.f2.f14.f15', 'r0.f4.f5.-r0.f6.f5', 'f5.-r0.f5.f4.r0.f4']\n",
    "state = ['A', 'A', 'B', 'O', 'B', 'E', 'D', 'O', 'I', 'I', 'K', 'K', 'M', 'M', 'G', 'C', 'L', 'H', 'D', 'G', 'F', 'F', 'H', 'C', 'J', 'J', 'L', 'N', 'E', 'N', 'P', 'P']"
   ]
  },
  {
   "cell_type": "code",
   "execution_count": 37,
   "id": "cdd0bf09-d1d4-42d3-ad86-49eb78fcaa7a",
   "metadata": {},
   "outputs": [
    {
     "name": "stderr",
     "output_type": "stream",
     "text": [
      "100%|████████████████████████████████████████████████████████████████████████████████████████████████████████████████████████████████████████| 16098539/16098539 [00:54<00:00, 296349.46it/s]"
     ]
    },
    {
     "name": "stdout",
     "output_type": "stream",
     "text": [
      "19 ['A', 'A', 'B', 'O', 'B', 'E', 'D', 'O', 'I', 'I', 'K', 'K', 'M', 'M', 'G', 'C', 'L', 'H', 'D', 'G', 'F', 'F', 'H', 'C', 'J', 'J', 'L', 'N', 'E', 'N', 'P', 'P'] \n"
     ]
    },
    {
     "name": "stderr",
     "output_type": "stream",
     "text": [
      "\n"
     ]
    }
   ],
   "source": [
    "max_correct = count_correct(state, solution_state)\n",
    "max_state = state\n",
    "max_key = ''\n",
    "for key in tqdm.tqdm(allowed_globe_moves_6, total=len(allowed_globe_moves_6)):\n",
    "    new_state = allowed_globe_moves_6[key](state)\n",
    "    new_correct = count_correct(new_state, solution_state)\n",
    "    if max_correct < new_correct:\n",
    "        max_correct = new_correct\n",
    "        max_state = new_state\n",
    "        max_key = key\n",
    "        print(max_correct, max_state, max_key)\n",
    "print(max_correct, max_state, max_key)"
   ]
  },
  {
   "cell_type": "code",
   "execution_count": null,
   "id": "1422ffe9-13da-49e0-97ff-a49d29ce71c9",
   "metadata": {},
   "outputs": [],
   "source": []
  },
  {
   "cell_type": "code",
   "execution_count": 26,
   "id": "fa59b07f-5229-4a56-b9c3-0c2a175727a8",
   "metadata": {},
   "outputs": [
    {
     "name": "stdout",
     "output_type": "stream",
     "text": [
      "0\n"
     ]
    },
    {
     "name": "stderr",
     "output_type": "stream",
     "text": [
      "  0%|▏                                                                                                                                          | 20521/16098539 [00:00<01:19, 203280.77it/s]"
     ]
    },
    {
     "name": "stdout",
     "output_type": "stream",
     "text": [
      "8 ['B', 'H', 'C', 'K', 'D', 'D', 'E', 'J', 'I', 'I', 'A', 'K', 'M', 'A', 'C', 'B', 'G', 'O', 'O', 'E', 'H', 'G', 'M', 'F', 'F', 'J', 'L', 'L', 'N', 'N', 'P', 'P'] f0\n",
      "9 ['B', 'H', 'C', 'K', 'L', 'L', 'N', 'N', 'D', 'D', 'E', 'J', 'I', 'I', 'C', 'B', 'G', 'O', 'O', 'E', 'K', 'A', 'A', 'M', 'H', 'G', 'M', 'F', 'F', 'J', 'P', 'P'] f0.f4.f6\n"
     ]
    },
    {
     "name": "stderr",
     "output_type": "stream",
     "text": [
      "  3%|███▌                                                                                                                                      | 409752/16098539 [00:02<01:24, 185802.58it/s]"
     ]
    },
    {
     "name": "stdout",
     "output_type": "stream",
     "text": [
      "10 ['A', 'K', 'G', 'H', 'E', 'O', 'O', 'G', 'L', 'L', 'J', 'F', 'F', 'M', 'M', 'A', 'N', 'N', 'K', 'C', 'H', 'B', 'B', 'C', 'I', 'I', 'J', 'E', 'D', 'D', 'P', 'P'] f0.-r0.-r0.f6.f0\n"
     ]
    },
    {
     "name": "stderr",
     "output_type": "stream",
     "text": [
      " 13%|██████████████████▎                                                                                                                      | 2147033/16098539 [00:10<01:08, 204823.88it/s]"
     ]
    },
    {
     "name": "stdout",
     "output_type": "stream",
     "text": [
      "11 ['B', 'H', 'H', 'E', 'O', 'O', 'N', 'N', 'I', 'I', 'A', 'K', 'M', 'M', 'G', 'B', 'G', 'D', 'D', 'K', 'C', 'C', 'A', 'F', 'F', 'J', 'L', 'L', 'J', 'E', 'P', 'P'] r0.f6.f0.f6.-r0.f0\n"
     ]
    },
    {
     "name": "stderr",
     "output_type": "stream",
     "text": [
      "100%|████████████████████████████████████████████████████████████████████████████████████████████████████████████████████████████████████████| 16098539/16098539 [01:18<00:00, 204144.91it/s]\n"
     ]
    },
    {
     "name": "stdout",
     "output_type": "stream",
     "text": [
      "1\n"
     ]
    },
    {
     "name": "stderr",
     "output_type": "stream",
     "text": [
      " 73%|███████████████████████████████████████████████████████████████████████████████████████████████████▉                                    | 11823163/16098539 [00:56<00:22, 189111.85it/s]"
     ]
    },
    {
     "name": "stdout",
     "output_type": "stream",
     "text": [
      "12 ['B', 'H', 'H', 'E', 'L', 'L', 'J', 'F', 'F', 'A', 'C', 'C', 'M', 'M', 'G', 'B', 'G', 'D', 'D', 'K', 'K', 'A', 'I', 'I', 'N', 'N', 'O', 'O', 'J', 'E', 'P', 'P'] f6.f0.f6.-r0.f0.f4\n"
     ]
    },
    {
     "name": "stderr",
     "output_type": "stream",
     "text": [
      "100%|████████████████████████████████████████████████████████████████████████████████████████████████████████████████████████████████████████| 16098539/16098539 [01:18<00:00, 205735.46it/s]\n"
     ]
    },
    {
     "name": "stdout",
     "output_type": "stream",
     "text": [
      "2\n"
     ]
    },
    {
     "name": "stderr",
     "output_type": "stream",
     "text": [
      "100%|████████████████████████████████████████████████████████████████████████████████████████████████████████████████████████████████████████| 16098539/16098539 [01:16<00:00, 209230.59it/s]\n"
     ]
    },
    {
     "name": "stdout",
     "output_type": "stream",
     "text": [
      "3\n"
     ]
    },
    {
     "name": "stderr",
     "output_type": "stream",
     "text": [
      "100%|████████████████████████████████████████████████████████████████████████████████████████████████████████████████████████████████████████| 16098539/16098539 [01:17<00:00, 206545.47it/s]\n"
     ]
    },
    {
     "name": "stdout",
     "output_type": "stream",
     "text": [
      "4\n"
     ]
    },
    {
     "name": "stderr",
     "output_type": "stream",
     "text": [
      "100%|████████████████████████████████████████████████████████████████████████████████████████████████████████████████████████████████████████| 16098539/16098539 [01:17<00:00, 207274.04it/s]\n"
     ]
    },
    {
     "name": "stdout",
     "output_type": "stream",
     "text": [
      "5\n"
     ]
    },
    {
     "name": "stderr",
     "output_type": "stream",
     "text": [
      "100%|████████████████████████████████████████████████████████████████████████████████████████████████████████████████████████████████████████| 16098539/16098539 [01:17<00:00, 207355.44it/s]\n"
     ]
    },
    {
     "name": "stdout",
     "output_type": "stream",
     "text": [
      "6\n"
     ]
    },
    {
     "name": "stderr",
     "output_type": "stream",
     "text": [
      "100%|████████████████████████████████████████████████████████████████████████████████████████████████████████████████████████████████████████| 16098539/16098539 [01:16<00:00, 210279.05it/s]\n"
     ]
    },
    {
     "name": "stdout",
     "output_type": "stream",
     "text": [
      "7\n"
     ]
    },
    {
     "name": "stderr",
     "output_type": "stream",
     "text": [
      "100%|████████████████████████████████████████████████████████████████████████████████████████████████████████████████████████████████████████| 16098539/16098539 [01:18<00:00, 204934.76it/s]\n"
     ]
    },
    {
     "name": "stdout",
     "output_type": "stream",
     "text": [
      "8\n"
     ]
    },
    {
     "name": "stderr",
     "output_type": "stream",
     "text": [
      "100%|████████████████████████████████████████████████████████████████████████████████████████████████████████████████████████████████████████| 16098539/16098539 [01:18<00:00, 205435.51it/s]\n"
     ]
    },
    {
     "name": "stdout",
     "output_type": "stream",
     "text": [
      "9\n"
     ]
    },
    {
     "name": "stderr",
     "output_type": "stream",
     "text": [
      "100%|████████████████████████████████████████████████████████████████████████████████████████████████████████████████████████████████████████| 16098539/16098539 [01:17<00:00, 208173.30it/s]\n"
     ]
    },
    {
     "name": "stdout",
     "output_type": "stream",
     "text": [
      "10\n"
     ]
    },
    {
     "name": "stderr",
     "output_type": "stream",
     "text": [
      "100%|████████████████████████████████████████████████████████████████████████████████████████████████████████████████████████████████████████| 16098539/16098539 [01:16<00:00, 210484.55it/s]\n"
     ]
    },
    {
     "name": "stdout",
     "output_type": "stream",
     "text": [
      "11\n"
     ]
    },
    {
     "name": "stderr",
     "output_type": "stream",
     "text": [
      "100%|████████████████████████████████████████████████████████████████████████████████████████████████████████████████████████████████████████| 16098539/16098539 [01:17<00:00, 208710.09it/s]\n"
     ]
    },
    {
     "name": "stdout",
     "output_type": "stream",
     "text": [
      "12\n"
     ]
    },
    {
     "name": "stderr",
     "output_type": "stream",
     "text": [
      "100%|████████████████████████████████████████████████████████████████████████████████████████████████████████████████████████████████████████| 16098539/16098539 [01:19<00:00, 202005.04it/s]\n"
     ]
    },
    {
     "name": "stdout",
     "output_type": "stream",
     "text": [
      "13\n"
     ]
    },
    {
     "name": "stderr",
     "output_type": "stream",
     "text": [
      "100%|████████████████████████████████████████████████████████████████████████████████████████████████████████████████████████████████████████| 16098539/16098539 [01:17<00:00, 206729.66it/s]\n"
     ]
    },
    {
     "name": "stdout",
     "output_type": "stream",
     "text": [
      "14\n"
     ]
    },
    {
     "name": "stderr",
     "output_type": "stream",
     "text": [
      "100%|████████████████████████████████████████████████████████████████████████████████████████████████████████████████████████████████████████| 16098539/16098539 [01:17<00:00, 208376.38it/s]\n"
     ]
    },
    {
     "name": "stdout",
     "output_type": "stream",
     "text": [
      "15\n"
     ]
    },
    {
     "name": "stderr",
     "output_type": "stream",
     "text": [
      "100%|████████████████████████████████████████████████████████████████████████████████████████████████████████████████████████████████████████| 16098539/16098539 [01:15<00:00, 212846.56it/s]"
     ]
    },
    {
     "name": "stdout",
     "output_type": "stream",
     "text": [
      "12 ['B', 'H', 'H', 'E', 'L', 'L', 'J', 'F', 'F', 'A', 'C', 'C', 'M', 'M', 'G', 'B', 'G', 'D', 'D', 'K', 'K', 'A', 'I', 'I', 'N', 'N', 'O', 'O', 'J', 'E', 'P', 'P'] f6.f0.f6.-r0.f0.f4\n"
     ]
    },
    {
     "name": "stderr",
     "output_type": "stream",
     "text": [
      "\n"
     ]
    }
   ],
   "source": [
    "state = ['F', 'M', 'G', 'H', 'E', 'O', 'O', 'G', 'I', 'I', 'A', 'K', 'M', 'A', 'C', 'B', 'J', 'E', 'D', 'D', 'K', 'C', 'H', 'B', 'F', 'J', 'L', 'L', 'N', 'N', 'P', 'P']\n",
    "max_pair = count_pair(state, 1, 8)\n",
    "max_state = state\n",
    "max_key = ''\n",
    "\n",
    "for i in range(16):\n",
    "    print(i)\n",
    "    state = ['F', 'M', 'G', 'H', 'E', 'O', 'O', 'G', 'I', 'I', 'A', 'K', 'M', 'A', 'C', 'B', 'J', 'E', 'D', 'D', 'K', 'C', 'H', 'B', 'F', 'J', 'L', 'L', 'N', 'N', 'P', 'P']\n",
    "    for _ in range(i):\n",
    "        state = allowed_moves['r0'](state)\n",
    "    for key in tqdm.tqdm(allowed_globe_moves_6, total=len(allowed_globe_moves_6)):\n",
    "        new_state = allowed_globe_moves_6[key](state)\n",
    "        new_pair = count_pair(new_state, 1, 8)\n",
    "        if max_pair < new_pair:\n",
    "            max_pair = new_pair\n",
    "            max_state = new_state\n",
    "            max_key = key\n",
    "            print(max_pair, max_state, max_key)\n",
    "print(max_pair, max_state, max_key)"
   ]
  },
  {
   "cell_type": "code",
   "execution_count": 27,
   "id": "c2987716-f4ea-4604-b72e-544e3546bcc4",
   "metadata": {},
   "outputs": [],
   "source": [
    "operations = ['r0.f6.f12.f10.f11.f0', 'r0.f6.f0.f6.-r0', 'r0.f6.f0.f6.-r0.f0.f4']\n",
    "state = ['B', 'H', 'H', 'E', 'L', 'L', 'J', 'F', 'F', 'A', 'C', 'C', 'M', 'M', 'G', 'B', 'G', 'D', 'D', 'K', 'K', 'A', 'I', 'I', 'N', 'N', 'O', 'O', 'J', 'E', 'P', 'P']"
   ]
  },
  {
   "cell_type": "code",
   "execution_count": 28,
   "id": "67b9246e-1682-428b-940e-0646b084c09b",
   "metadata": {},
   "outputs": [
    {
     "name": "stderr",
     "output_type": "stream",
     "text": [
      "  0%|▌                                                                                                                                          | 59179/16098539 [00:00<00:54, 293811.12it/s]"
     ]
    },
    {
     "name": "stdout",
     "output_type": "stream",
     "text": [
      "6 ['I', 'I', 'A', 'K', 'K', 'D', 'D', 'G', 'F', 'A', 'C', 'C', 'M', 'M', 'G', 'B', 'F', 'J', 'L', 'L', 'E', 'H', 'H', 'B', 'N', 'N', 'O', 'O', 'J', 'E', 'P', 'P'] f0\n",
      "7 ['B', 'H', 'H', 'O', 'N', 'N', 'I', 'I', 'A', 'K', 'K', 'C', 'M', 'M', 'G', 'B', 'G', 'D', 'D', 'C', 'A', 'F', 'F', 'J', 'L', 'L', 'E', 'O', 'J', 'E', 'P', 'P'] f3\n",
      "11 ['B', 'H', 'H', 'E', 'O', 'O', 'N', 'N', 'I', 'I', 'A', 'K', 'M', 'M', 'G', 'B', 'G', 'D', 'D', 'K', 'C', 'C', 'A', 'F', 'F', 'J', 'L', 'L', 'J', 'E', 'P', 'P'] f4\n",
      "15 ['F', 'A', 'C', 'C', 'K', 'D', 'D', 'G', 'I', 'I', 'A', 'K', 'M', 'M', 'G', 'B', 'N', 'N', 'O', 'O', 'E', 'H', 'H', 'B', 'F', 'J', 'L', 'L', 'J', 'E', 'P', 'P'] f4.f0\n"
     ]
    },
    {
     "name": "stderr",
     "output_type": "stream",
     "text": [
      "100%|████████████████████████████████████████████████████████████████████████████████████████████████████████████████████████████████████████| 16098539/16098539 [00:53<00:00, 303626.02it/s]"
     ]
    },
    {
     "name": "stdout",
     "output_type": "stream",
     "text": [
      "15 ['F', 'A', 'C', 'C', 'K', 'D', 'D', 'G', 'I', 'I', 'A', 'K', 'M', 'M', 'G', 'B', 'N', 'N', 'O', 'O', 'E', 'H', 'H', 'B', 'F', 'J', 'L', 'L', 'J', 'E', 'P', 'P'] f4.f0\n"
     ]
    },
    {
     "name": "stderr",
     "output_type": "stream",
     "text": [
      "\n"
     ]
    }
   ],
   "source": [
    "max_correct = count_correct(state, solution_state)\n",
    "max_state = state\n",
    "max_key = ''\n",
    "for key in tqdm.tqdm(allowed_globe_moves_6, total=len(allowed_globe_moves_6)):\n",
    "    new_state = allowed_globe_moves_6[key](state)\n",
    "    new_correct = count_correct(new_state, solution_state)\n",
    "    if max_correct < new_correct:\n",
    "        max_correct = new_correct\n",
    "        max_state = new_state\n",
    "        max_key = key\n",
    "        print(max_correct, max_state, max_key)\n",
    "print(max_correct, max_state, max_key)"
   ]
  },
  {
   "cell_type": "code",
   "execution_count": null,
   "id": "f937f9b4-49f6-4bf6-a554-8c7957021982",
   "metadata": {},
   "outputs": [],
   "source": []
  },
  {
   "cell_type": "code",
   "execution_count": null,
   "id": "70bfa0d5-263d-4ec6-9c8e-b3ba5ceacc9d",
   "metadata": {},
   "outputs": [],
   "source": []
  },
  {
   "cell_type": "code",
   "execution_count": null,
   "id": "e5f16e61-e32e-496e-a349-d328a1c1693b",
   "metadata": {},
   "outputs": [],
   "source": []
  },
  {
   "cell_type": "code",
   "execution_count": null,
   "id": "5b40be23-edfa-4531-b297-e313384e6b92",
   "metadata": {},
   "outputs": [],
   "source": []
  },
  {
   "cell_type": "code",
   "execution_count": null,
   "id": "4e46d22d-4bb3-4ead-8803-dfbadc4fbf11",
   "metadata": {},
   "outputs": [],
   "source": []
  },
  {
   "cell_type": "code",
   "execution_count": null,
   "id": "fb5934a0-4dcd-4d52-8eaf-9508bff057c6",
   "metadata": {},
   "outputs": [],
   "source": []
  },
  {
   "cell_type": "code",
   "execution_count": null,
   "id": "4e8e9786-d985-4335-b01d-470e836ec8ce",
   "metadata": {},
   "outputs": [],
   "source": []
  },
  {
   "cell_type": "code",
   "execution_count": null,
   "id": "161373e0-1173-4034-8cad-317681e03156",
   "metadata": {},
   "outputs": [],
   "source": []
  },
  {
   "cell_type": "code",
   "execution_count": 273,
   "id": "bf495d3c-ac23-49a8-9255-010a3bcacbc2",
   "metadata": {},
   "outputs": [
    {
     "name": "stdout",
     "output_type": "stream",
     "text": [
      "I;P;O;A;A;D;F;L;J;M;G;M;P;F;E;J;E;B;O;G;H;D;N;L;N;I;B;K;C;C;K;H\n",
      "A;A;C;C;E;E;G;G;I;I;K;K;M;M;O;O;B;B;D;D;F;F;H;H;J;J;L;L;N;N;P;P\n",
      "\n"
     ]
    }
   ],
   "source": [
    "state = puzzles.iloc[338].initial_state.split(';')\n",
    "print(puzzles.iloc[338].initial_state)\n",
    "print(puzzles.iloc[338].solution_state)\n",
    "print()\n",
    "for move in moves338_nor.split('.'):\n",
    "    # print(';'.join(state))\n",
    "    p = allowed_moves[move]\n",
    "    state = p(state)\n",
    "# print(';'.join(state))"
   ]
  },
  {
   "cell_type": "code",
   "execution_count": 46,
   "id": "01462f6e-585d-480a-a143-d8f5d7675408",
   "metadata": {},
   "outputs": [
    {
     "name": "stdout",
     "output_type": "stream",
     "text": [
      "I;P;O;A;A;D;F;L;J;M;G;M;P;F;E;J;E;B;O;G;H;D;N;L;N;I;B;K;C;C;K;H\n",
      "A;A;C;C;E;E;G;G;I;I;K;K;M;M;O;O;B;B;D;D;F;F;H;H;J;J;L;L;N;N;P;P\n"
     ]
    }
   ],
   "source": [
    "print(puzzles.iloc[338].initial_state)\n",
    "print(puzzles.iloc[338].solution_state)"
   ]
  },
  {
   "cell_type": "code",
   "execution_count": null,
   "id": "4ad84d19-9b00-42df-8351-54eb3985829d",
   "metadata": {},
   "outputs": [],
   "source": []
  },
  {
   "cell_type": "code",
   "execution_count": null,
   "id": "a293b265-7812-47fb-a29a-dbeceff13691",
   "metadata": {},
   "outputs": [],
   "source": []
  },
  {
   "cell_type": "code",
   "execution_count": null,
   "id": "7ab14d19-96f8-4700-b2e9-9e58afdb79d2",
   "metadata": {},
   "outputs": [],
   "source": []
  },
  {
   "cell_type": "code",
   "execution_count": null,
   "id": "bd666eea-4acc-42bc-8cad-8e2b810bb5d0",
   "metadata": {},
   "outputs": [],
   "source": []
  },
  {
   "cell_type": "code",
   "execution_count": null,
   "id": "db243647-3ea1-4e6a-be8d-833c1879e2ce",
   "metadata": {},
   "outputs": [],
   "source": []
  },
  {
   "cell_type": "code",
   "execution_count": null,
   "id": "6b741b80-85e1-4676-a129-a62a8b99f2dc",
   "metadata": {},
   "outputs": [],
   "source": []
  },
  {
   "cell_type": "code",
   "execution_count": null,
   "id": "2b997826-3b9f-4ae1-8589-7e9e27f45da5",
   "metadata": {},
   "outputs": [],
   "source": []
  },
  {
   "cell_type": "code",
   "execution_count": 41,
   "id": "049a2889-bd6e-40e0-b62e-4d03a37aff93",
   "metadata": {},
   "outputs": [
    {
     "name": "stdout",
     "output_type": "stream",
     "text": [
      "4 90505 179080\n",
      "4 73682 409770\n",
      "4 53138 720808\n",
      "4 32399 1041263\n",
      "4 12843 1252242\n"
     ]
    }
   ],
   "source": [
    "# initial_state = 'A;A;C;C;E;E;G;G;I;I;K;K;M;M;O;O;B;B;D;D;F;F;H;H;J;J;L;L;N;N;P;P'\n",
    "initial_state = 'N0;N1;N2;N3;N4;N5;N6;N7;N8;N9;N10;N11;N12;N13;N14;N15;N16;N17;N18;N19;N20;N21;N22;N23;N24;N25;N26;N27;N28;N29;N30;N31'\n",
    "solve_dict = {initial_state: []}\n",
    "\n",
    "queue = deque([(initial_state.split(';'), [])])\n",
    "\n",
    "before_time = time.time()\n",
    "while len(queue) > 0:\n",
    "    state = queue.popleft()\n",
    "    for m in base_moves:\n",
    "        p = allowed_moves[m]\n",
    "\n",
    "        new_state = ';'.join(p(state[0]))\n",
    "        if new_state not in solve_dict:\n",
    "            operation = []\n",
    "            operation.extend(state[1])\n",
    "            operation.append(m)\n",
    "            if len(operation) < 5:\n",
    "                queue.append((new_state.split(';'), operation))\n",
    "            solve_dict[new_state] = operation\n",
    "\n",
    "    now = time.time()\n",
    "    if now - before_time > 1:\n",
    "        print(len(state[1]), len(queue), len(solve_dict))\n",
    "        before_time = now"
   ]
  },
  {
   "cell_type": "code",
   "execution_count": 42,
   "id": "f90c00b3-4cb6-4ca2-a819-64ca9c484b24",
   "metadata": {},
   "outputs": [
    {
     "name": "stdout",
     "output_type": "stream",
     "text": [
      "1385894\n"
     ]
    }
   ],
   "source": [
    "print(len(solve_dict))"
   ]
  },
  {
   "cell_type": "code",
   "execution_count": 48,
   "id": "62598376-ebcc-4d1e-8c35-a6e75f43a408",
   "metadata": {},
   "outputs": [
    {
     "ename": "NameError",
     "evalue": "name 'solve_dict' is not defined",
     "output_type": "error",
     "traceback": [
      "\u001b[1;31m---------------------------------------------------------------------------\u001b[0m",
      "\u001b[1;31mNameError\u001b[0m                                 Traceback (most recent call last)",
      "Cell \u001b[1;32mIn[48], line 3\u001b[0m\n\u001b[0;32m      1\u001b[0m initial_state \u001b[38;5;241m=\u001b[39m \u001b[38;5;124m'\u001b[39m\u001b[38;5;124mN0;N1;N2;N3;N4;N5;N6;N7;N8;N9;N10;N11;N12;N13;N14;N15;N16;N17;N18;N19;N20;N21;N22;N23;N24;N25;N26;N27;N28;N29;N30;N31\u001b[39m\u001b[38;5;124m'\u001b[39m\n\u001b[1;32m----> 3\u001b[0m \u001b[38;5;28mprint\u001b[39m(initial_state, \u001b[43msolve_dict\u001b[49m[initial_state])\n\u001b[0;32m      4\u001b[0m \u001b[38;5;28;01mfor\u001b[39;00m key \u001b[38;5;129;01min\u001b[39;00m solve_dict:\n\u001b[0;32m      5\u001b[0m     \u001b[38;5;66;03m# if solve_dict[key] == ['r0', 'f0', '-r0', 'f0']:\u001b[39;00m\n\u001b[0;32m      6\u001b[0m     \u001b[38;5;66;03m#     print(key, solve_dict[key])\u001b[39;00m\n\u001b[0;32m      7\u001b[0m     \u001b[38;5;28;01mif\u001b[39;00m solve_dict[key] \u001b[38;5;241m==\u001b[39m [\u001b[38;5;124m'\u001b[39m\u001b[38;5;124mf0\u001b[39m\u001b[38;5;124m'\u001b[39m, \u001b[38;5;124m'\u001b[39m\u001b[38;5;124mf2\u001b[39m\u001b[38;5;124m'\u001b[39m, \u001b[38;5;124m'\u001b[39m\u001b[38;5;124mf0\u001b[39m\u001b[38;5;124m'\u001b[39m]:\n",
      "\u001b[1;31mNameError\u001b[0m: name 'solve_dict' is not defined"
     ]
    }
   ],
   "source": [
    "initial_state = 'N0;N1;N2;N3;N4;N5;N6;N7;N8;N9;N10;N11;N12;N13;N14;N15;N16;N17;N18;N19;N20;N21;N22;N23;N24;N25;N26;N27;N28;N29;N30;N31'\n",
    "print(initial_state, solve_dict[initial_state])\n",
    "for key in solve_dict:\n",
    "    # if solve_dict[key] == ['r0', 'f0', '-r0', 'f0']:\n",
    "    #     print(key, solve_dict[key])\n",
    "    if solve_dict[key] == ['f0', 'f2', 'f0']:\n",
    "        print(key, solve_dict[key])"
   ]
  },
  {
   "cell_type": "code",
   "execution_count": null,
   "id": "43fdfbfd-e6f4-4a41-af5b-c9246a52e052",
   "metadata": {},
   "outputs": [],
   "source": [
    "# 変わらないもの\n",
    "# \n",
    "\n",
    "# f0 f3 f0\n",
    "# n0-n1とn16-n17が入れ替わった上で逆順\n",
    "# n2-n4とn8-n10が内部順そのまま入れ替わる\n",
    "# n18-n20とn24-n26が内部順そのまま入れ替わる\n",
    "\n",
    "# f0 f4 f0\n",
    "# n0-n3とn8-n11が内部順そのまま入れ替わる\n",
    "# n16-n19とn24-n27が内部順そのまま入れ替わる"
   ]
  },
  {
   "cell_type": "code",
   "execution_count": 39,
   "id": "b2d5fa69-c930-4585-b8ba-715eb061b691",
   "metadata": {},
   "outputs": [
    {
     "name": "stdout",
     "output_type": "stream",
     "text": [
      "N0;N1;N2;N3;N4;N5;N6;N7;N8;N9;N10;N11;N12;N13;N14;N15;N16;N17;N18;N19;N20;N21;N22;N23;N24;N25;N26;N27;N28;N29;N30;N31 []\n",
      "N23;N22;N21;N20;N19;N18;N17;N16;N8;N9;N10;N11;N12;N13;N14;N15;N7;N6;N5;N4;N3;N2;N1;N0;N24;N25;N26;N27;N28;N29;N30;N31 ['f0']\n"
     ]
    }
   ],
   "source": [
    "print(initial_state, solve_dict[initial_state])\n",
    "for key in solve_dict:\n",
    "    # if solve_dict[key] == ['r0', 'f0', '-r0', 'f0']:\n",
    "    #     print(key, solve_dict[key])\n",
    "    if solve_dict[key] == ['f0']:\n",
    "        print(key, solve_dict[key])\n",
    "    if solve_dict[key] == ['-f0']:\n",
    "        print(key, solve_dict[key])"
   ]
  },
  {
   "cell_type": "code",
   "execution_count": null,
   "id": "3346b347-b660-4f5e-9bf7-52295b5319d3",
   "metadata": {},
   "outputs": [],
   "source": []
  },
  {
   "cell_type": "code",
   "execution_count": null,
   "id": "2d401e7d-bd3a-422d-8188-be0ea665bfab",
   "metadata": {},
   "outputs": [],
   "source": []
  },
  {
   "cell_type": "code",
   "execution_count": null,
   "id": "abfb2cc2-4d51-4b00-acdd-4d69498172b9",
   "metadata": {},
   "outputs": [],
   "source": []
  },
  {
   "cell_type": "code",
   "execution_count": null,
   "id": "dfa7f472-0339-4615-9d3c-8eec588d370b",
   "metadata": {},
   "outputs": [],
   "source": []
  },
  {
   "cell_type": "code",
   "execution_count": 17,
   "id": "f9c41e02-5932-4dcf-a42e-d17d1fc4a57b",
   "metadata": {},
   "outputs": [],
   "source": [
    "def reverse_moves(moves):\n",
    "    res = moves[::-1]\n",
    "    for i in range(len(res)):\n",
    "        move = res[i]\n",
    "        if move[0] == \"-\":\n",
    "            res[i] = move[1:]\n",
    "        else:\n",
    "            res[i] = \"-\" + move\n",
    "    return res"
   ]
  },
  {
   "cell_type": "code",
   "execution_count": 11,
   "id": "b89a3a80-a55e-4e19-a771-f9e7380b7262",
   "metadata": {},
   "outputs": [],
   "source": [
    "with open('cube-333-6-af.pkl', mode='rb') as f:\n",
    "    solve6 = pickle.load(f)"
   ]
  },
  {
   "cell_type": "code",
   "execution_count": 12,
   "id": "9aae3b60-8c92-4512-bfe0-c3f4344c1198",
   "metadata": {},
   "outputs": [
    {
     "data": {
      "text/plain": [
       "'A;A;A;A;A;A;A;A;A;B;B;B;B;B;B;B;B;B;C;C;C;C;C;C;C;C;C;D;D;D;D;D;D;D;D;D;E;E;E;E;E;E;E;E;E;F;F;F;F;F;F;F;F;F'"
      ]
     },
     "execution_count": 12,
     "metadata": {},
     "output_type": "execute_result"
    }
   ],
   "source": [
    "list(solve6.keys())[0]"
   ]
  },
  {
   "cell_type": "code",
   "execution_count": null,
   "id": "33ae59f0-c681-4784-9616-4f078685dd43",
   "metadata": {},
   "outputs": [],
   "source": [
    "puzzle_info = pd.read_csv(\"puzzle_info.csv\", index_col='puzzle_type')\n",
    "puzzles = pd.read_csv(\"puzzles.csv\")\n",
    "sample_submission = pd.read_csv(\"submission_public.csv\", index_col='id')\n",
    "\n",
    "allowed_moves = literal_eval(puzzle_info.loc['cube_3/3/3', 'allowed_moves'])\n",
    "allowed_moves = {k: Permutation(v) for k, v in allowed_moves.items()}\n",
    "key_list = list(allowed_moves.keys())\n",
    "for key in key_list:\n",
    "    allowed_moves[\"-\" + key] = allowed_moves[key] ** (-1)\n",
    "\n",
    "selected_types = ['cube_3/3/3']\n",
    "subset = puzzles[puzzles['puzzle_type'].isin(selected_types)]\n",
    "\n",
    "for index, row in subset.iterrows():\n",
    "    moves = sample_submission.loc[index]['moves'].split('.')\n",
    "    rev_moves = reverse_moves(moves)\n",
    "    print(index, moves)\n",
    "    print(rev_moves)\n",
    "    last_state_index = -1\n",
    "    last_state = None\n",
    "    last_moves = None\n",
    "    state = row.solution_state.split(';')\n",
    "    for index, move in enumerate(rev_moves):\n",
    "        state = allowed_moves[move](state)\n",
    "        if ';'.join(state) in solve6:\n",
    "            last_state_index = len(moves) - 1 - index\n",
    "            last_state = state\n",
    "            last_moves = solve6[';'.join(state)]\n",
    "    print(len(moves), last_state_index, last_state)\n",
    "    print(moves[:last_state_index], last_moves)\n",
    "    new_moves = []\n",
    "    new_moves.extend(moves[:last_state_index])\n",
    "    new_moves.extend(reverse_moves(last_moves))\n",
    "    print(new_moves)\n",
    "\n",
    "    state = row.initial_state.split(';')\n",
    "    for move in new_moves:\n",
    "        state = allowed_moves[move](state)\n",
    "        print(state)\n",
    "    print()\n",
    "        "
   ]
  },
  {
   "cell_type": "code",
   "execution_count": null,
   "id": "64f52be4-f7a9-4a4c-bf43-ea4f4689926d",
   "metadata": {},
   "outputs": [],
   "source": []
  },
  {
   "cell_type": "code",
   "execution_count": null,
   "id": "b27beb10-606f-45bb-aba7-843286ee8277",
   "metadata": {},
   "outputs": [],
   "source": []
  },
  {
   "cell_type": "code",
   "execution_count": 79,
   "id": "544e5ebc-d0ee-4dfc-a4a8-91380e0fa746",
   "metadata": {},
   "outputs": [
    {
     "name": "stdout",
     "output_type": "stream",
     "text": [
      "A;A;C;C;E;E;G;G;I;I;K;K;M;M;O;O;B;B;D;D;F;F;H;H;J;J;L;L;N;N;P;P\n",
      "J;J;C;C;E;E;G;G;I;I;P;P;N;N;L;L;B;B;D;D;F;F;H;H;A;A;O;O;M;M;K;K\n",
      "J;J;C;C;E;E;G;G;B;B;K;K;M;M;O;O;I;I;D;D;F;F;H;H;A;A;L;L;N;N;P;P\n"
     ]
    }
   ],
   "source": [
    "state = puzzles.iloc[338].solution_state.split(';')\n",
    "print(';'.join(state))\n",
    "state = allowed_moves['r0'](state)\n",
    "state = allowed_moves['r0'](state)\n",
    "state = allowed_moves['f8'](state)\n",
    "state = allowed_moves['-r0'](state)\n",
    "state = allowed_moves['-r0'](state)\n",
    "print(';'.join(state))\n",
    "state = allowed_moves['r1'](state)\n",
    "state = allowed_moves['r1'](state)\n",
    "state = allowed_moves['f8'](state)\n",
    "state = allowed_moves['-r1'](state)\n",
    "state = allowed_moves['-r1'](state)\n",
    "print(';'.join(state))\n"
   ]
  },
  {
   "cell_type": "code",
   "execution_count": 81,
   "id": "fef066d9-38ed-4cb6-bf60-a3d1f25cfa68",
   "metadata": {},
   "outputs": [
    {
     "name": "stdout",
     "output_type": "stream",
     "text": [
      "A;A;C;C;E;E;G;G;I;I;K;K;M;M;O;O;B;B;D;D;F;F;H;H;J;J;L;L;N;N;P;P\n",
      "C;C;A;A;E;E;G;G;I;I;K;K;M;M;O;O;D;D;B;B;F;F;H;H;J;J;L;L;N;N;P;P\n"
     ]
    }
   ],
   "source": [
    "state = puzzles.iloc[338].solution_state.split(';')\n",
    "print(';'.join(state))\n",
    "state = allowed_moves['r0'](state)\n",
    "state = allowed_moves['r0'](state)\n",
    "state = allowed_moves['r1'](state)\n",
    "state = allowed_moves['r1'](state)\n",
    "state = allowed_moves['f8'](state)\n",
    "state = allowed_moves['r0'](state)\n",
    "state = allowed_moves['r0'](state)\n",
    "state = allowed_moves['f8'](state)\n",
    "state = allowed_moves['-r0'](state)\n",
    "state = allowed_moves['-r0'](state)\n",
    "state = allowed_moves['r1'](state)\n",
    "state = allowed_moves['r1'](state)\n",
    "state = allowed_moves['f8'](state)\n",
    "state = allowed_moves['-r1'](state)\n",
    "state = allowed_moves['-r1'](state)\n",
    "state = allowed_moves['f8'](state)\n",
    "state = allowed_moves['-r0'](state)\n",
    "state = allowed_moves['-r0'](state)\n",
    "state = allowed_moves['-r1'](state)\n",
    "state = allowed_moves['-r1'](state)\n",
    "print(';'.join(state))"
   ]
  },
  {
   "cell_type": "code",
   "execution_count": 196,
   "id": "b3dc69c6-f0e9-4594-9d10-b702a97dddad",
   "metadata": {},
   "outputs": [
    {
     "name": "stdout",
     "output_type": "stream",
     "text": [
      "G;B;B;H;H;L;N;N;I;I;M;M;K;K;C;C;P;G;D;D;A;A;F;F;J;J;E;E;L;O;O;P\n",
      "G;B;B;H;H;L;N;N;I;I;M;M;K;K;C;C;D;D;A;A;F;F;J;J;E;E;L;O;O;P;P;G\n",
      "B;H;G;B;H;L;N;N;I;I;M;M;K;K;C;C;A;A;D;D;F;F;J;J;E;E;L;O;O;P;P;G\n",
      "H;G;B;H;L;N;N;I;I;M;M;K;K;C;C;B;A;A;D;D;F;F;J;J;E;E;L;O;O;P;P;G\n",
      "B;H;H;G;L;N;N;I;I;M;M;K;K;C;C;B;D;D;A;A;F;F;J;J;E;E;L;O;O;P;P;G\n",
      "B;B;H;H;G;L;N;N;I;I;M;M;K;K;C;C;L;O;O;P;P;G;D;D;A;A;F;F;J;J;E;E\n",
      "H;H;B;B;G;L;N;N;I;I;M;M;K;K;C;C;O;P;L;O;P;G;D;D;A;A;F;F;J;J;E;E\n",
      "H;H;B;B;G;L;N;N;I;I;M;M;K;K;C;C;P;L;O;P;G;D;D;A;A;F;F;J;J;E;E;O\n",
      "B;B;H;H;G;L;N;N;I;I;M;M;K;K;C;C;O;P;P;L;G;D;D;A;A;F;F;J;J;E;E;O\n",
      "G;L;N;N;I;I;M;M;K;K;C;C;B;B;H;H;L;G;D;D;A;A;F;F;J;J;E;E;O;O;P;P\n",
      "J;J;F;F;A;A;D;D;K;K;C;C;B;B;H;H;L;G;M;M;I;I;N;N;L;G;E;E;O;O;P;P\n",
      "L;N;N;I;I;M;M;G;K;K;C;C;B;B;H;H;D;D;A;A;F;F;J;J;G;E;E;O;O;P;P;L\n",
      "I;I;M;M;G;K;K;C;C;B;B;H;H;L;N;N;G;E;E;O;O;P;P;L;D;D;A;A;F;F;J;J\n",
      "M;M;I;I;G;K;K;C;C;B;B;H;H;L;N;N;E;O;G;E;O;P;P;L;D;D;A;A;F;F;J;J\n",
      "I;I;M;M;G;K;K;C;C;B;B;H;H;L;N;N;E;O;O;G;P;P;L;D;D;A;A;F;F;J;J;E\n",
      "G;K;K;C;C;B;B;H;H;L;N;N;I;I;M;M;G;P;P;L;D;D;A;A;F;F;J;J;E;E;O;O\n",
      "C;B;B;H;G;K;K;C;I;I;M;M;H;L;N;N;F;F;J;J;D;D;A;A;G;P;P;L;E;E;O;O\n",
      "B;H;C;B;G;K;K;C;I;I;M;M;H;L;N;N;J;J;F;F;D;D;A;A;G;P;P;L;E;E;O;O\n",
      "B;G;H;C;K;K;C;I;I;M;M;H;L;N;N;B;F;F;J;J;D;D;A;A;G;P;P;L;E;E;O;O\n",
      "H;C;K;K;C;I;I;M;M;H;L;N;N;B;B;G;F;F;J;J;D;D;A;A;G;P;P;L;E;E;O;O\n",
      "K;K;H;C;C;I;I;M;M;H;L;N;N;B;B;G;J;J;F;F;D;D;A;A;G;P;P;L;E;E;O;O\n",
      "H;L;N;N;B;B;G;K;K;H;C;C;I;I;M;M;J;J;F;F;D;D;A;A;G;P;P;L;E;E;O;O\n",
      "N;N;H;L;B;B;G;K;K;H;C;C;I;I;M;M;F;F;J;J;D;D;A;A;G;P;P;L;E;E;O;O\n",
      "B;B;H;L;G;K;K;H;C;C;I;I;M;M;N;N;J;J;F;F;D;D;A;A;G;P;P;L;E;E;O;O\n",
      "H;L;G;K;K;H;C;C;I;I;M;M;N;N;B;B;J;J;F;F;D;D;A;A;G;P;P;L;E;E;O;O\n",
      "G;K;H;L;K;H;C;C;I;I;M;M;N;N;B;B;F;F;J;J;D;D;A;A;G;P;P;L;E;E;O;O\n",
      "L;K;K;H;H;C;C;I;I;M;M;N;N;B;B;G;J;J;F;F;D;D;A;A;G;P;P;L;E;E;O;O\n",
      "A;A;D;D;F;F;J;J;I;I;M;M;N;N;B;B;C;C;H;H;K;K;L;G;G;P;P;L;E;E;O;O\n",
      "A;A;D;D;F;F;J;J;I;I;M;M;N;N;B;B;L;G;G;P;P;L;E;E;O;O;C;C;H;H;K;K\n",
      "D;D;A;A;F;F;J;J;I;I;M;M;N;N;B;B;G;P;L;G;P;L;E;E;O;O;C;C;H;H;K;K\n",
      "A;A;D;D;F;F;J;J;I;I;M;M;N;N;B;B;G;P;P;L;L;E;E;O;O;C;C;H;H;K;K;G\n",
      "A;A;D;D;F;F;J;J;I;I;M;M;N;N;B;B;G;G;P;P;L;L;E;E;O;O;C;C;H;H;K;K\n"
     ]
    }
   ],
   "source": [
    "state = ['G', 'B', 'B', 'H', 'H', 'L', 'N', 'N', 'I', 'I', 'M', 'M', 'K', 'K', 'C', 'C', 'P', 'G', 'D', 'D', 'A', 'A', 'F', 'F', 'J', 'J', 'E', 'E', 'L', 'O', 'O', 'P']\n",
    "print(';'.join(state))\n",
    "state = allowed_moves['r1'](state)\n",
    "state = allowed_moves['r1'](state)\n",
    "print(';'.join(state))\n",
    "\n",
    "state = allowed_moves['f10'](state)\n",
    "state = allowed_moves['r0'](state)\n",
    "state = allowed_moves['r0'](state)\n",
    "state = allowed_moves['f10'](state)\n",
    "state = allowed_moves['r1'](state)\n",
    "state = allowed_moves['r1'](state)\n",
    "state = allowed_moves['-r0'](state)\n",
    "state = allowed_moves['-r0'](state)\n",
    "state = allowed_moves['f10'](state)\n",
    "state = allowed_moves['-r1'](state)\n",
    "state = allowed_moves['-r1'](state)\n",
    "state = allowed_moves['f10'](state)\n",
    "print(';'.join(state))\n",
    "\n",
    "state = allowed_moves['r0'](state)\n",
    "print(';'.join(state))\n",
    "\n",
    "state = allowed_moves['f10'](state)\n",
    "state = allowed_moves['r0'](state)\n",
    "state = allowed_moves['r0'](state)\n",
    "state = allowed_moves['f10'](state)\n",
    "state = allowed_moves['r1'](state)\n",
    "state = allowed_moves['r1'](state)\n",
    "state = allowed_moves['-r0'](state)\n",
    "state = allowed_moves['-r0'](state)\n",
    "state = allowed_moves['f10'](state)\n",
    "state = allowed_moves['-r1'](state)\n",
    "state = allowed_moves['-r1'](state)\n",
    "state = allowed_moves['f10'](state)\n",
    "print(';'.join(state))\n",
    "\n",
    "state = allowed_moves['-r0'](state)\n",
    "state = allowed_moves['-r1'](state)\n",
    "state = allowed_moves['-r1'](state)\n",
    "state = allowed_moves['-r1'](state)\n",
    "state = allowed_moves['-r1'](state)\n",
    "state = allowed_moves['-r1'](state)\n",
    "state = allowed_moves['-r1'](state)\n",
    "print(';'.join(state))\n",
    "\n",
    "state = allowed_moves['f10'](state)\n",
    "state = allowed_moves['r0'](state)\n",
    "state = allowed_moves['r0'](state)\n",
    "state = allowed_moves['f10'](state)\n",
    "state = allowed_moves['r1'](state)\n",
    "state = allowed_moves['r1'](state)\n",
    "state = allowed_moves['-r0'](state)\n",
    "state = allowed_moves['-r0'](state)\n",
    "state = allowed_moves['f10'](state)\n",
    "state = allowed_moves['-r1'](state)\n",
    "state = allowed_moves['-r1'](state)\n",
    "state = allowed_moves['f10'](state)\n",
    "print(';'.join(state))\n",
    "\n",
    "state = allowed_moves['r1'](state)\n",
    "print(';'.join(state))\n",
    "\n",
    "state = allowed_moves['f10'](state)\n",
    "state = allowed_moves['r0'](state)\n",
    "state = allowed_moves['r0'](state)\n",
    "state = allowed_moves['f10'](state)\n",
    "state = allowed_moves['r1'](state)\n",
    "state = allowed_moves['r1'](state)\n",
    "state = allowed_moves['-r0'](state)\n",
    "state = allowed_moves['-r0'](state)\n",
    "state = allowed_moves['f10'](state)\n",
    "state = allowed_moves['-r1'](state)\n",
    "state = allowed_moves['-r1'](state)\n",
    "state = allowed_moves['f10'](state)\n",
    "print(';'.join(state))\n",
    "\n",
    "state = allowed_moves['r0'](state)\n",
    "state = allowed_moves['r0'](state)\n",
    "state = allowed_moves['r0'](state)\n",
    "state = allowed_moves['r0'](state)\n",
    "state = allowed_moves['r1'](state)\n",
    "state = allowed_moves['r1'](state)\n",
    "state = allowed_moves['r1'](state)\n",
    "print(';'.join(state))\n",
    "\n",
    "state = allowed_moves['r1'](state)\n",
    "state = allowed_moves['r1'](state)\n",
    "state = allowed_moves['f0'](state)\n",
    "state = allowed_moves['-r1'](state)\n",
    "state = allowed_moves['-r1'](state)\n",
    "print(';'.join(state))\n",
    "\n",
    "state = allowed_moves['r1'](state)\n",
    "state = allowed_moves['f0'](state)\n",
    "print(';'.join(state))\n",
    "\n",
    "state = allowed_moves['r0'](state)\n",
    "state = allowed_moves['r0'](state)\n",
    "state = allowed_moves['r0'](state)\n",
    "state = allowed_moves['-r1'](state)\n",
    "state = allowed_moves['-r1'](state)\n",
    "state = allowed_moves['-r1'](state)\n",
    "state = allowed_moves['-r1'](state)\n",
    "state = allowed_moves['-r1'](state)\n",
    "state = allowed_moves['-r1'](state)\n",
    "state = allowed_moves['-r1'](state)\n",
    "state = allowed_moves['-r1'](state)\n",
    "print(';'.join(state))\n",
    "\n",
    "state = allowed_moves['f10'](state)\n",
    "state = allowed_moves['r0'](state)\n",
    "state = allowed_moves['r0'](state)\n",
    "state = allowed_moves['f10'](state)\n",
    "state = allowed_moves['r1'](state)\n",
    "state = allowed_moves['r1'](state)\n",
    "state = allowed_moves['-r0'](state)\n",
    "state = allowed_moves['-r0'](state)\n",
    "state = allowed_moves['f10'](state)\n",
    "state = allowed_moves['-r1'](state)\n",
    "state = allowed_moves['-r1'](state)\n",
    "state = allowed_moves['f10'](state)\n",
    "print(';'.join(state))\n",
    "\n",
    "state = allowed_moves['r1'](state)\n",
    "\n",
    "state = allowed_moves['f10'](state)\n",
    "state = allowed_moves['r0'](state)\n",
    "state = allowed_moves['r0'](state)\n",
    "state = allowed_moves['f10'](state)\n",
    "state = allowed_moves['r1'](state)\n",
    "state = allowed_moves['r1'](state)\n",
    "state = allowed_moves['-r0'](state)\n",
    "state = allowed_moves['-r0'](state)\n",
    "state = allowed_moves['f10'](state)\n",
    "state = allowed_moves['-r1'](state)\n",
    "state = allowed_moves['-r1'](state)\n",
    "state = allowed_moves['f10'](state)\n",
    "print(';'.join(state))\n",
    "\n",
    "state = allowed_moves['r0'](state)\n",
    "state = allowed_moves['r0'](state)\n",
    "state = allowed_moves['r0'](state)\n",
    "state = allowed_moves['r0'](state)\n",
    "state = allowed_moves['r1'](state)\n",
    "state = allowed_moves['r1'](state)\n",
    "state = allowed_moves['r1'](state)\n",
    "print(';'.join(state))\n",
    "\n",
    "state = allowed_moves['f0'](state)\n",
    "state = allowed_moves['f4'](state)\n",
    "state = allowed_moves['f0'](state)\n",
    "state = allowed_moves['r0'](state)\n",
    "state = allowed_moves['r0'](state)\n",
    "state = allowed_moves['r0'](state)\n",
    "state = allowed_moves['r0'](state)\n",
    "print(';'.join(state))\n",
    "\n",
    "state = allowed_moves['f10'](state)\n",
    "state = allowed_moves['r0'](state)\n",
    "state = allowed_moves['r0'](state)\n",
    "state = allowed_moves['f10'](state)\n",
    "state = allowed_moves['r1'](state)\n",
    "state = allowed_moves['r1'](state)\n",
    "state = allowed_moves['-r0'](state)\n",
    "state = allowed_moves['-r0'](state)\n",
    "state = allowed_moves['f10'](state)\n",
    "state = allowed_moves['-r1'](state)\n",
    "state = allowed_moves['-r1'](state)\n",
    "state = allowed_moves['f10'](state)\n",
    "print(';'.join(state))\n",
    "\n",
    "state = allowed_moves['r0'](state)\n",
    "\n",
    "state = allowed_moves['f10'](state)\n",
    "state = allowed_moves['r0'](state)\n",
    "state = allowed_moves['r0'](state)\n",
    "state = allowed_moves['f10'](state)\n",
    "state = allowed_moves['r1'](state)\n",
    "state = allowed_moves['r1'](state)\n",
    "state = allowed_moves['-r0'](state)\n",
    "state = allowed_moves['-r0'](state)\n",
    "state = allowed_moves['f10'](state)\n",
    "state = allowed_moves['-r1'](state)\n",
    "state = allowed_moves['-r1'](state)\n",
    "state = allowed_moves['f10'](state)\n",
    "print(';'.join(state))\n",
    "\n",
    "state = allowed_moves['r0'](state)\n",
    "state = allowed_moves['r0'](state)\n",
    "print(';'.join(state))\n",
    "\n",
    "state = allowed_moves['f10'](state)\n",
    "state = allowed_moves['r0'](state)\n",
    "state = allowed_moves['r0'](state)\n",
    "state = allowed_moves['f10'](state)\n",
    "state = allowed_moves['r1'](state)\n",
    "state = allowed_moves['r1'](state)\n",
    "state = allowed_moves['-r0'](state)\n",
    "state = allowed_moves['-r0'](state)\n",
    "state = allowed_moves['f10'](state)\n",
    "state = allowed_moves['-r1'](state)\n",
    "state = allowed_moves['-r1'](state)\n",
    "state = allowed_moves['f10'](state)\n",
    "print(';'.join(state))\n",
    "\n",
    "state = allowed_moves['-r0'](state)\n",
    "state = allowed_moves['-r0'](state)\n",
    "state = allowed_moves['-r0'](state)\n",
    "state = allowed_moves['-r0'](state)\n",
    "state = allowed_moves['-r0'](state)\n",
    "state = allowed_moves['-r0'](state)\n",
    "state = allowed_moves['-r0'](state)\n",
    "print(';'.join(state))\n",
    "\n",
    "state = allowed_moves['f10'](state)\n",
    "state = allowed_moves['r0'](state)\n",
    "state = allowed_moves['r0'](state)\n",
    "state = allowed_moves['f10'](state)\n",
    "state = allowed_moves['r1'](state)\n",
    "state = allowed_moves['r1'](state)\n",
    "state = allowed_moves['-r0'](state)\n",
    "state = allowed_moves['-r0'](state)\n",
    "state = allowed_moves['f10'](state)\n",
    "state = allowed_moves['-r1'](state)\n",
    "state = allowed_moves['-r1'](state)\n",
    "state = allowed_moves['f10'](state)\n",
    "print(';'.join(state))\n",
    "\n",
    "state = allowed_moves['r0'](state)\n",
    "state = allowed_moves['r0'](state)\n",
    "\n",
    "state = allowed_moves['f10'](state)\n",
    "state = allowed_moves['r0'](state)\n",
    "state = allowed_moves['r0'](state)\n",
    "state = allowed_moves['f10'](state)\n",
    "state = allowed_moves['r1'](state)\n",
    "state = allowed_moves['r1'](state)\n",
    "state = allowed_moves['-r0'](state)\n",
    "state = allowed_moves['-r0'](state)\n",
    "state = allowed_moves['f10'](state)\n",
    "state = allowed_moves['-r1'](state)\n",
    "state = allowed_moves['-r1'](state)\n",
    "state = allowed_moves['f10'](state)\n",
    "print(';'.join(state))\n",
    "\n",
    "state = allowed_moves['r0'](state)\n",
    "state = allowed_moves['r0'](state)\n",
    "print(';'.join(state))\n",
    "\n",
    "state = allowed_moves['f10'](state)\n",
    "state = allowed_moves['r0'](state)\n",
    "state = allowed_moves['r0'](state)\n",
    "state = allowed_moves['f10'](state)\n",
    "state = allowed_moves['r1'](state)\n",
    "state = allowed_moves['r1'](state)\n",
    "state = allowed_moves['-r0'](state)\n",
    "state = allowed_moves['-r0'](state)\n",
    "state = allowed_moves['f10'](state)\n",
    "state = allowed_moves['-r1'](state)\n",
    "state = allowed_moves['-r1'](state)\n",
    "state = allowed_moves['f10'](state)\n",
    "print(';'.join(state))\n",
    "\n",
    "state = allowed_moves['r0'](state)\n",
    "\n",
    "state = allowed_moves['f10'](state)\n",
    "state = allowed_moves['r0'](state)\n",
    "state = allowed_moves['r0'](state)\n",
    "state = allowed_moves['f10'](state)\n",
    "state = allowed_moves['r1'](state)\n",
    "state = allowed_moves['r1'](state)\n",
    "state = allowed_moves['-r0'](state)\n",
    "state = allowed_moves['-r0'](state)\n",
    "state = allowed_moves['f10'](state)\n",
    "state = allowed_moves['-r1'](state)\n",
    "state = allowed_moves['-r1'](state)\n",
    "state = allowed_moves['f10'](state)\n",
    "print(';'.join(state))\n",
    "\n",
    "state = allowed_moves['-r0'](state)\n",
    "state = allowed_moves['f0'](state)\n",
    "print(';'.join(state))\n",
    "\n",
    "state = allowed_moves['r1'](state)\n",
    "state = allowed_moves['r1'](state)\n",
    "state = allowed_moves['r1'](state)\n",
    "state = allowed_moves['r1'](state)\n",
    "state = allowed_moves['r1'](state)\n",
    "state = allowed_moves['r1'](state)\n",
    "print(';'.join(state))\n",
    "\n",
    "state = allowed_moves['f10'](state)\n",
    "state = allowed_moves['r0'](state)\n",
    "state = allowed_moves['r0'](state)\n",
    "state = allowed_moves['f10'](state)\n",
    "state = allowed_moves['r1'](state)\n",
    "state = allowed_moves['r1'](state)\n",
    "state = allowed_moves['-r0'](state)\n",
    "state = allowed_moves['-r0'](state)\n",
    "state = allowed_moves['f10'](state)\n",
    "state = allowed_moves['-r1'](state)\n",
    "state = allowed_moves['-r1'](state)\n",
    "state = allowed_moves['f10'](state)\n",
    "print(';'.join(state))\n",
    "\n",
    "state = allowed_moves['r1'](state)\n",
    "\n",
    "state = allowed_moves['f10'](state)\n",
    "state = allowed_moves['r0'](state)\n",
    "state = allowed_moves['r0'](state)\n",
    "state = allowed_moves['f10'](state)\n",
    "state = allowed_moves['r1'](state)\n",
    "state = allowed_moves['r1'](state)\n",
    "state = allowed_moves['-r0'](state)\n",
    "state = allowed_moves['-r0'](state)\n",
    "state = allowed_moves['f10'](state)\n",
    "state = allowed_moves['-r1'](state)\n",
    "state = allowed_moves['-r1'](state)\n",
    "state = allowed_moves['f10'](state)\n",
    "print(';'.join(state))\n",
    "\n",
    "state = allowed_moves['-r1'](state)\n",
    "print(';'.join(state))\n"
   ]
  },
  {
   "cell_type": "code",
   "execution_count": null,
   "id": "0496094a-d3cc-4498-81ac-0cfc5c65928b",
   "metadata": {},
   "outputs": [],
   "source": [
    "# 1 2 3 4 5 6\n",
    "# 3 4 1 2 5 6\n",
    "# 3 2 5 4 1 6"
   ]
  },
  {
   "cell_type": "code",
   "execution_count": 197,
   "id": "e9e6d0fa-5502-4b78-9b4b-1c5a5adbc078",
   "metadata": {},
   "outputs": [
    {
     "name": "stdout",
     "output_type": "stream",
     "text": [
      "A;A;C;C;E;E;G;G;I;I;K;K;M;M;O;O;B;B;D;D;F;F;H;H;J;J;L;L;N;N;P;P\n",
      "A;A;D;D;F;F;J;J;I;I;M;M;N;N;B;B;G;G;P;P;L;L;E;E;O;O;C;C;H;H;K;K\n"
     ]
    }
   ],
   "source": [
    "print(';'.join(solution_state))\n",
    "print('A;A;D;D;F;F;J;J;I;I;M;M;N;N;B;B;G;G;P;P;L;L;E;E;O;O;C;C;H;H;K;K')"
   ]
  },
  {
   "cell_type": "code",
   "execution_count": 264,
   "id": "75588226-da87-4ac8-8afc-eb91e861000d",
   "metadata": {},
   "outputs": [
    {
     "name": "stdout",
     "output_type": "stream",
     "text": [
      "A;A;D;D;F;F;J;J;I;I;M;M;N;N;B;B;P;P;L;L;E;E;O;O;C;C;H;H;K;K;G;G\n",
      "A;A;D;D;F;F;J;J;G;G;K;K;H;H;C;C;P;P;L;L;E;E;O;O;B;B;N;N;M;M;I;I\n",
      "A;A;J;J;G;G;K;K;L;L;E;E;H;H;C;C;P;P;O;O;B;B;N;N;D;D;F;F;M;M;I;I\n",
      "G;G;K;K;I;I;M;M;L;L;E;E;H;H;C;C;P;P;O;O;B;B;N;N;J;J;A;A;D;D;F;F\n",
      "G;G;K;K;M;M;I;I;L;L;E;E;H;H;C;C;F;F;P;P;B;B;O;O;N;N;J;J;A;A;D;D\n",
      "K;K;G;G;M;M;I;I;L;L;E;E;H;H;C;C;A;A;J;J;D;D;F;F;P;P;B;B;O;O;N;N\n",
      "G;G;K;K;M;M;I;I;L;L;E;E;H;H;C;C;A;A;N;N;J;J;D;D;F;F;P;P;B;B;O;O\n",
      "C;C;G;G;K;K;O;O;A;A;M;M;I;I;L;L;N;N;J;J;D;D;E;E;H;H;F;F;P;P;B;B\n",
      "A;A;M;M;K;K;O;O;C;C;G;G;I;I;L;L;B;B;H;H;F;F;D;D;E;E;N;N;J;J;P;P\n"
     ]
    }
   ],
   "source": [
    "state = 'A;A;D;D;F;F;J;J;I;I;M;M;N;N;B;B;P;P;L;L;E;E;O;O;C;C;H;H;K;K;G;G'.split(';')\n",
    "print(';'.join(state))\n",
    "state = allowed_moves['f8'](state)\n",
    "print(';'.join(state))\n",
    "state = allowed_moves['f4'](state)\n",
    "state = allowed_moves['f2'](state)\n",
    "print(';'.join(state))\n",
    "state = allowed_moves['f8'](state)\n",
    "state = allowed_moves['r0'](state)\n",
    "state = allowed_moves['r0'](state)\n",
    "state = allowed_moves['r0'](state)\n",
    "state = allowed_moves['r0'](state)\n",
    "state = allowed_moves['f8'](state)\n",
    "print(';'.join(state))\n",
    "\n",
    "state = allowed_moves['-r1'](state)\n",
    "state = allowed_moves['-r1'](state)\n",
    "state = allowed_moves['f14'](state)\n",
    "state = allowed_moves['r0'](state)\n",
    "state = allowed_moves['r0'](state)\n",
    "state = allowed_moves['f14'](state)\n",
    "state = allowed_moves['r1'](state)\n",
    "state = allowed_moves['r1'](state)\n",
    "state = allowed_moves['-r0'](state)\n",
    "state = allowed_moves['-r0'](state)\n",
    "state = allowed_moves['f14'](state)\n",
    "state = allowed_moves['-r1'](state)\n",
    "state = allowed_moves['-r1'](state)\n",
    "state = allowed_moves['f14'](state)\n",
    "print(';'.join(state))\n",
    "\n",
    "state = allowed_moves['-r1'](state)\n",
    "state = allowed_moves['-r1'](state)\n",
    "state = allowed_moves['-r1'](state)\n",
    "state = allowed_moves['-r1'](state)\n",
    "state = allowed_moves['-r1'](state)\n",
    "state = allowed_moves['-r1'](state)\n",
    "\n",
    "state = allowed_moves['f10'](state)\n",
    "state = allowed_moves['r0'](state)\n",
    "state = allowed_moves['r0'](state)\n",
    "state = allowed_moves['f10'](state)\n",
    "state = allowed_moves['r1'](state)\n",
    "state = allowed_moves['r1'](state)\n",
    "state = allowed_moves['-r0'](state)\n",
    "state = allowed_moves['-r0'](state)\n",
    "state = allowed_moves['f10'](state)\n",
    "state = allowed_moves['-r1'](state)\n",
    "state = allowed_moves['-r1'](state)\n",
    "state = allowed_moves['f10'](state)\n",
    "print(';'.join(state))\n",
    "\n",
    "state = allowed_moves['-r1'](state)\n",
    "state = allowed_moves['-r1'](state)\n",
    "\n",
    "state = allowed_moves['f10'](state)\n",
    "state = allowed_moves['r0'](state)\n",
    "state = allowed_moves['r0'](state)\n",
    "state = allowed_moves['f10'](state)\n",
    "state = allowed_moves['r1'](state)\n",
    "state = allowed_moves['r1'](state)\n",
    "state = allowed_moves['-r0'](state)\n",
    "state = allowed_moves['-r0'](state)\n",
    "state = allowed_moves['f10'](state)\n",
    "state = allowed_moves['-r1'](state)\n",
    "state = allowed_moves['-r1'](state)\n",
    "state = allowed_moves['f10'](state)\n",
    "print(';'.join(state))\n",
    "\n",
    "state = allowed_moves['-r0'](state)\n",
    "state = allowed_moves['-r0'](state)\n",
    "state = allowed_moves['-r0'](state)\n",
    "state = allowed_moves['-r0'](state)\n",
    "state = allowed_moves['-r0'](state)\n",
    "state = allowed_moves['-r0'](state)\n",
    "state = allowed_moves['-r1'](state)\n",
    "state = allowed_moves['-r1'](state)\n",
    "state = allowed_moves['f2'](state)\n",
    "state = allowed_moves['f0'](state)\n",
    "print(';'.join(state))\n",
    "\n",
    "state = allowed_moves['f0'](state)\n",
    "state = allowed_moves['f4'](state)\n",
    "state = allowed_moves['f0'](state)\n",
    "state = allowed_moves['-r1'](state)\n",
    "state = allowed_moves['-r1'](state)\n",
    "print(';'.join(state))\n",
    "\n"
   ]
  },
  {
   "cell_type": "code",
   "execution_count": 265,
   "id": "0c46f7dd-000b-4135-a66c-0c2f04b1a3fb",
   "metadata": {},
   "outputs": [],
   "source": [
    "with open('globe-1-8-even-af.pkl', mode='rb') as f:\n",
    "    globe_even = pickle.load(f)"
   ]
  },
  {
   "cell_type": "code",
   "execution_count": 285,
   "id": "417cbb23-ae2a-4675-a595-d266d83c2475",
   "metadata": {},
   "outputs": [
    {
     "name": "stdout",
     "output_type": "stream",
     "text": [
      "[1, 2, 3, 4, 5, 6, 7, 8, 9, 10, 11, 12, 13, 14, 15, 0, 17, 18, 19, 20, 21, 22, 23, 24, 25, 26, 27, 28, 29, 30, 31, 16]\n"
     ]
    }
   ],
   "source": [
    "print(globe_moves_6['r0.r1'])"
   ]
  },
  {
   "cell_type": "code",
   "execution_count": 184,
   "id": "d45978a8-a2e1-4f26-a9fd-98cc175b06b6",
   "metadata": {},
   "outputs": [
    {
     "name": "stdout",
     "output_type": "stream",
     "text": [
      "A;A;D;D;F;F;J;J;I;I;M;M;N;N;B;B;P;P;L;L;E;E;O;O;C;C;H;H;K;K;G;G\n",
      "D;D;F;F;J;J;I;I;P;P;G;G;K;K;H;H;L;L;E;E;O;O;C;C;A;A;B;B;N;N;M;M\n",
      "D;D;F;F;J;J;I;I;P;P;G;G;K;K;H;H;L;L;E;E;O;O;C;C;A;A;B;B;N;N;M;M\n"
     ]
    }
   ],
   "source": [
    "state = 'A;A;D;D;F;F;J;J;I;I;M;M;N;N;B;B;P;P;L;L;E;E;O;O;C;C;H;H;K;K;G;G'.split(';')\n",
    "print(';'.join(state))\n",
    "\n",
    "state = allowed_moves['r0'](state)\n",
    "state = allowed_moves['r0'](state)\n",
    "state = allowed_moves['r1'](state)\n",
    "state = allowed_moves['r1'](state)\n",
    "state = allowed_moves['f8'](state)\n",
    "print(';'.join(state))\n",
    "\n",
    "state = 'A;A;D;D;F;F;J;J;I;I;M;M;N;N;B;B;P;P;L;L;E;E;O;O;C;C;H;H;K;K;G;G'.split(';')\n",
    "state = allowed_moves['f10'](state)\n",
    "state = allowed_moves['r0'](state)\n",
    "state = allowed_moves['r0'](state)\n",
    "state = allowed_moves['r1'](state)\n",
    "state = allowed_moves['r1'](state)\n",
    "print(';'.join(state))\n"
   ]
  },
  {
   "cell_type": "code",
   "execution_count": 189,
   "id": "36191a45-5100-4dca-9f84-816000b44fa0",
   "metadata": {},
   "outputs": [
    {
     "name": "stdout",
     "output_type": "stream",
     "text": [
      "A;A;D;D;F;F;J;J;I;I;M;M;N;N;B;B;P;P;L;L;E;E;O;O;C;C;H;H;K;K;G;G\n",
      "A;A;D;D;F;F;J;J;K;K;H;H;C;C;O;O;G;G;P;P;L;L;E;E;B;B;N;N;M;M;I;I\n",
      "A;A;D;D;F;F;J;J;K;K;H;H;C;C;O;O;G;G;P;P;L;L;E;E;B;B;N;N;M;M;I;I\n"
     ]
    }
   ],
   "source": [
    "state = 'A;A;D;D;F;F;J;J;I;I;M;M;N;N;B;B;P;P;L;L;E;E;O;O;C;C;H;H;K;K;G;G'.split(';')\n",
    "print(';'.join(state))\n",
    "state = allowed_moves['-r1'](state)\n",
    "state = allowed_moves['-r1'](state)\n",
    "state = allowed_moves['f8'](state)\n",
    "print(';'.join(state))\n",
    "\n",
    "state = 'A;A;D;D;F;F;J;J;I;I;M;M;N;N;B;B;P;P;L;L;E;E;O;O;C;C;H;H;K;K;G;G'.split(';')\n",
    "state = allowed_moves['r0'](state)\n",
    "state = allowed_moves['r0'](state)\n",
    "state = allowed_moves['f6'](state)\n",
    "state = allowed_moves['-r0'](state)\n",
    "state = allowed_moves['-r0'](state)\n",
    "state = allowed_moves['-r1'](state)\n",
    "state = allowed_moves['-r1'](state)\n",
    "print(';'.join(state))\n"
   ]
  },
  {
   "cell_type": "code",
   "execution_count": 193,
   "id": "66f88596-7b9f-40a3-ac3c-d7e3adfccb07",
   "metadata": {},
   "outputs": [
    {
     "name": "stdout",
     "output_type": "stream",
     "text": [
      "A;A;D;D;F;F;J;J;I;I;M;M;N;N;B;B;P;P;L;L;E;E;O;O;C;C;H;H;K;K;G;G\n",
      "C;C;A;A;D;D;F;F;J;J;G;G;K;K;H;H;I;I;P;P;L;L;E;E;O;O;B;B;N;N;M;M\n",
      "C;C;A;A;D;D;F;F;J;J;G;G;K;K;H;H;I;I;P;P;L;L;E;E;O;O;B;B;N;N;M;M\n"
     ]
    }
   ],
   "source": [
    "state = 'A;A;D;D;F;F;J;J;I;I;M;M;N;N;B;B;P;P;L;L;E;E;O;O;C;C;H;H;K;K;G;G'.split(';')\n",
    "print(';'.join(state))\n",
    "state = allowed_moves['f8'](state)\n",
    "state = allowed_moves['-r0'](state)\n",
    "state = allowed_moves['-r0'](state)\n",
    "state = allowed_moves['-r1'](state)\n",
    "state = allowed_moves['-r1'](state)\n",
    "print(';'.join(state))\n",
    "\n",
    "state = 'A;A;D;D;F;F;J;J;I;I;M;M;N;N;B;B;P;P;L;L;E;E;O;O;C;C;H;H;K;K;G;G'.split(';')\n",
    "state = allowed_moves['-r0'](state)\n",
    "state = allowed_moves['-r0'](state)\n",
    "state = allowed_moves['-r1'](state)\n",
    "state = allowed_moves['-r1'](state)\n",
    "state = allowed_moves['f10'](state)\n",
    "print(';'.join(state))"
   ]
  },
  {
   "cell_type": "code",
   "execution_count": 195,
   "id": "9222fda6-251b-4d66-bbf7-d212c0258ac7",
   "metadata": {},
   "outputs": [
    {
     "name": "stdout",
     "output_type": "stream",
     "text": [
      "A;A;D;D;F;F;J;J;I;I;M;M;N;N;B;B;P;P;L;L;E;E;O;O;C;C;H;H;K;K;G;G\n",
      "D;D;A;A;F;F;J;J;I;I;M;M;N;N;B;B;L;L;P;P;E;E;O;O;C;C;H;H;K;K;G;G\n",
      "D;D;A;A;F;F;J;J;I;I;M;M;N;N;B;B;L;L;P;P;E;E;O;O;C;C;H;H;K;K;G;G\n"
     ]
    }
   ],
   "source": [
    "state = 'A;A;D;D;F;F;J;J;I;I;M;M;N;N;B;B;P;P;L;L;E;E;O;O;C;C;H;H;K;K;G;G'.split(';')\n",
    "print(';'.join(state))\n",
    "state = allowed_moves['r0'](state)\n",
    "state = allowed_moves['r0'](state)\n",
    "state = allowed_moves['r1'](state)\n",
    "state = allowed_moves['r1'](state)\n",
    "state = allowed_moves['f8'](state)\n",
    "state = allowed_moves['r0'](state)\n",
    "state = allowed_moves['r0'](state)\n",
    "state = allowed_moves['f8'](state)\n",
    "state = allowed_moves['-r0'](state)\n",
    "state = allowed_moves['-r0'](state)\n",
    "state = allowed_moves['r1'](state)\n",
    "state = allowed_moves['r1'](state)\n",
    "state = allowed_moves['f8'](state)\n",
    "state = allowed_moves['-r1'](state)\n",
    "state = allowed_moves['-r1'](state)\n",
    "state = allowed_moves['f8'](state)\n",
    "state = allowed_moves['-r0'](state)\n",
    "state = allowed_moves['-r0'](state)\n",
    "state = allowed_moves['-r1'](state)\n",
    "state = allowed_moves['-r1'](state)\n",
    "print(';'.join(state))\n",
    "\n",
    "state = 'A;A;D;D;F;F;J;J;I;I;M;M;N;N;B;B;P;P;L;L;E;E;O;O;C;C;H;H;K;K;G;G'.split(';')\n",
    "state = allowed_moves['f10'](state)\n",
    "state = allowed_moves['r0'](state)\n",
    "state = allowed_moves['r0'](state)\n",
    "state = allowed_moves['f10'](state)\n",
    "state = allowed_moves['r1'](state)\n",
    "state = allowed_moves['r1'](state)\n",
    "state = allowed_moves['-r0'](state)\n",
    "state = allowed_moves['-r0'](state)\n",
    "state = allowed_moves['f10'](state)\n",
    "state = allowed_moves['-r1'](state)\n",
    "state = allowed_moves['-r1'](state)\n",
    "state = allowed_moves['f10'](state)\n",
    "print(';'.join(state))"
   ]
  },
  {
   "cell_type": "code",
   "execution_count": null,
   "id": "e27d1841-171d-4856-95ac-63acbef54cb0",
   "metadata": {},
   "outputs": [],
   "source": [
    "state = 'A;A;D;D;F;F;J;J;I;I;M;M;N;N;B;B;P;P;L;L;E;E;O;O;C;C;H;H;K;K;G;G'.split(';')\n",
    "print(';'.join(state))\n",
    "state = allowed_moves['f10'](state)\n",
    "state = allowed_moves['r0'](state)\n",
    "state = allowed_moves['r0'](state)\n",
    "state = allowed_moves['f10'](state)\n",
    "state = allowed_moves['r1'](state)\n",
    "state = allowed_moves['r1'](state)\n",
    "state = allowed_moves['-r0'](state)\n",
    "state = allowed_moves['-r0'](state)\n",
    "state = allowed_moves['f10'](state)\n",
    "state = allowed_moves['-r1'](state)\n",
    "state = allowed_moves['-r1'](state)\n",
    "state = allowed_moves['f10'](state)\n",
    "\n",
    "state = allowed_moves['f10'](state)\n",
    "state = allowed_moves['r0'](state)\n",
    "state = allowed_moves['r0'](state)\n",
    "state = allowed_moves['f10'](state)\n",
    "state = allowed_moves['r1'](state)\n",
    "state = allowed_moves['r1'](state)\n",
    "state = allowed_moves['-r0'](state)\n",
    "state = allowed_moves['-r0'](state)\n",
    "state = allowed_moves['f10'](state)\n",
    "state = allowed_moves['-r1'](state)\n",
    "state = allowed_moves['-r1'](state)\n",
    "state = allowed_moves['f10'](state)\n",
    "print(';'.join(state))"
   ]
  }
 ],
 "metadata": {
  "kernelspec": {
   "display_name": "santa2023-py3.11",
   "language": "python",
   "name": "santa2023-py3.11"
  },
  "language_info": {
   "codemirror_mode": {
    "name": "ipython",
    "version": 3
   },
   "file_extension": ".py",
   "mimetype": "text/x-python",
   "name": "python",
   "nbconvert_exporter": "python",
   "pygments_lexer": "ipython3",
   "version": "3.11.1"
  }
 },
 "nbformat": 4,
 "nbformat_minor": 5
}
