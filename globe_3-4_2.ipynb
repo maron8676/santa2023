{
 "cells": [
  {
   "cell_type": "code",
   "execution_count": 1,
   "id": "8a33acb2-b40c-48ce-8536-522886001e10",
   "metadata": {},
   "outputs": [],
   "source": [
    "import pickle\n",
    "import time\n",
    "from ast import literal_eval\n",
    "from collections import deque\n",
    "from sys import stdin\n",
    "\n",
    "import pandas as pd\n",
    "import tqdm\n",
    "from sympy.combinatorics import Permutation"
   ]
  },
  {
   "cell_type": "code",
   "execution_count": 2,
   "id": "34adbf8b-3e4d-44a9-8f18-a0d5944391c3",
   "metadata": {},
   "outputs": [],
   "source": [
    "with open('globe-3-4-af_rotate.pkl', mode='rb') as f:\n",
    "    solve_dict = pickle.load(f)\n",
    "with open('globe-3-4-af_rotate_rev.pkl', mode='rb') as f:\n",
    "    solve_dict_rev = pickle.load(f)"
   ]
  },
  {
   "cell_type": "code",
   "execution_count": 3,
   "id": "c8e49ccc-37a3-4a94-8bd8-052d2e54975d",
   "metadata": {},
   "outputs": [],
   "source": [
    "puzzle_info = pd.read_csv(\"puzzle_info.csv\", index_col='puzzle_type')\n",
    "puzzles = pd.read_csv(\"puzzles.csv\")\n",
    "sample_submission = pd.read_csv(\"submission_public.csv\", index_col='id')\n",
    "base_moves = [\"r0\", \"-r0\", \"r1\", \"-r1\", \"r2\", \"-r2\", \"r3\", \"-r3\", \"f0\", \"f1\", \"f2\", \"f3\", \"f4\", \"f5\", \"f6\", \"f7\"]"
   ]
  },
  {
   "cell_type": "code",
   "execution_count": 4,
   "id": "32e15681-1e3a-4e7f-9ac7-fd38e02bce9c",
   "metadata": {},
   "outputs": [],
   "source": [
    "globe_3_4type = 'globe_3/4'\n",
    "selected_types = ['globe_3/4']\n",
    "subset = puzzles[puzzles['puzzle_type'].isin(selected_types)]"
   ]
  },
  {
   "cell_type": "code",
   "execution_count": 7,
   "id": "5c33f387-8a9e-4c85-88a3-154c41842a78",
   "metadata": {},
   "outputs": [],
   "source": [
    "# globe_3/4の状態数\n",
    "allowed_moves = literal_eval(puzzle_info.loc[globe_3_4type, 'allowed_moves'])\n",
    "allowed_moves = {k: Permutation(v) for k, v in allowed_moves.items()}\n",
    "key_list = list(allowed_moves.keys())\n",
    "for key in key_list:\n",
    "    if key[0] == \"r\":\n",
    "        allowed_moves[\"-\" + key] = allowed_moves[key] ** (-1)"
   ]
  },
  {
   "cell_type": "code",
   "execution_count": 9,
   "id": "d20d36c3-ea93-4f63-afba-5e39ebd9768a",
   "metadata": {},
   "outputs": [
    {
     "data": {
      "text/plain": [
       "'f0.f1.r3.-r1.-r1.f5.f6.-r0.f6.f0.r0.-r1.-r2.f7.f2.f4.-r0.r1.r1.-r0.-r3.f2.-r1.f1.f0.f5.f0.f5.f4.-r1.f1.r1.f0.f3.f6.f3.f5.f0.f5.-r2.f5.f2.r1.r2.r0.f4.f3.f0.f1.f0.f6.f5.f7.r3.f1.r0.f7.f0.r2.f6.f5.r1.r1.-r3.f2.-r2.f3.f6.f4.f5.f0.f7.f0.-r1.f1.r1.f4.f3.f2.r0.f4.f7.r3.-r1.-r1.f5.f6.-r0.f6.f0.-r1.-r2.f7.-r3.-r1.f1.f0.f1.f0.f6.f4.f5.f0.f7.f5.f0.f5.f3.f0.-r1.f1.r1.f4.f7.-r2.f7.f2.r2.f6.f1.f2.f3.-r1.f4.f3.f0.-r1.f1.f0.-r3.f0.r3.-r1.f5.f4.f5.f4.r1.f3.-r1.f3.f2.f3.f0.f6.r0.f2.f0.-r1.f1.r1.f4.f7.-r2.f7.f6.-r1.-r2.f0.f6.f5.f7.-r1.-r1.f5.f6.-r3.-r2.-r1.f7.f4.-r1.-r0.f2.f4.f5.f2.r2.f6.f5.-r2.-r1.f3.-r2.-r3.-r1.f3.-r1.f4.r1.f7.-r2.-r1.r0.f5.-r1.f3.-r2.f7.-r1.-r1.f5.f2.f1.r0.f5.f6.-r0.f2.f1.f4.f7.-r1.f1.r1.f6.f5.-r2.f2.f5.f2.r1.f0.r2.f6.f5.-r2.f7.-r0.f2.r3.f2.-r1.f1.r1.f4.f3.f0.-r1.f1.r1.f4.-r1.-r1.f0.f3.f5.f0.f2.f1.f6.f4.f5.f0.f6.f0.f5.f4.f6.f0.-r1.f1.r1.f0.f5.f6.-r3.f6.f5.f7.-r1.f1.f4.r1.r1.f3.f0.-r1.f1.r1.f4.f7.-r2.f7.f2.r2.f6.f5.f0.f5.f2.f3.-r3.r1.f7.-r0.-r1.f3.-r3.-r0.f1.-r1.f1.f0.f5.f0.f5.f0.f6.f5.f7.r3.f1.r0.f1.f3.f4.f3.f5.f0.-r0.f2.f0.f6.f5.f7.r3.f1.r0.f7.f0.r2.r0.f4.f3.f1.f6.f3.r2.r3.-r1.-r1.f5.f6.r0.f7.-r1.f3.-r0.f2.-r1.f1.f0.f5.f0.f5.f3.f4.f3.f5.f0.f5.f0.f1.f2.-r0.f6.f5.r1.r1.-r3.f2'"
      ]
     },
     "execution_count": 9,
     "metadata": {},
     "output_type": "execute_result"
    }
   ],
   "source": [
    "moves_list = sample_submission.loc[359]['moves']\n",
    "moves_nor = moves_list.replace('-f', 'f')\n",
    "moves_nor"
   ]
  },
  {
   "cell_type": "code",
   "execution_count": 10,
   "id": "f03b106f-8e6b-402e-b1ce-c1264d5a3557",
   "metadata": {},
   "outputs": [],
   "source": [
    "def print34(state):\n",
    "    for i in range(4):\n",
    "        print(';'.join(state[i*8:(i+1)*8]))\n",
    "    print()"
   ]
  },
  {
   "cell_type": "code",
   "execution_count": 11,
   "id": "6290dd31-be4d-4743-9b17-8e9313e088bf",
   "metadata": {},
   "outputs": [
    {
     "name": "stdout",
     "output_type": "stream",
     "text": [
      "A;A;C;C;E;E;G;G\n",
      "A;A;C;C;E;E;G;G\n",
      "B;B;D;D;F;F;H;H\n",
      "B;B;D;D;F;F;H;H\n",
      "\n"
     ]
    }
   ],
   "source": [
    "solution_state = subset.loc[359].solution_state.split(';')\n",
    "print34(solution_state)\n",
    "initial_state = subset.loc[359].initial_state.split(';')"
   ]
  },
  {
   "cell_type": "code",
   "execution_count": 72,
   "id": "3f067312-297b-4ea9-ba28-219afe97b7bf",
   "metadata": {},
   "outputs": [
    {
     "name": "stdout",
     "output_type": "stream",
     "text": [
      "D;B;G;B;F;E;D;C\n",
      "F;B;F;E;B;G;H;A\n",
      "H;A;D;C;E;C;D;G\n",
      "F;E;A;H;G;H;A;C\n",
      "\n",
      "G;D;C;B;F;G;D;B\n",
      "F;G;H;E;B;B;F;A\n",
      "H;C;D;C;E;A;D;G\n",
      "H;A;C;H;E;A;E;F\n",
      "\n",
      "E;A;F;B;F;G;D;C\n",
      "H;D;G;E;B;B;F;G\n",
      "D;F;A;C;E;A;H;C\n",
      "D;G;B;H;E;H;A;C\n",
      "\n",
      "F;B;A;E;A;G;D;F\n",
      "B;D;G;G;H;B;F;E\n",
      "E;F;A;C;D;A;H;C\n",
      "H;B;C;D;G;H;C;E\n",
      "\n",
      "F;D;C;B;H;G;D;F\n",
      "C;A;F;E;H;B;F;E\n",
      "G;G;D;B;D;A;H;C\n",
      "A;E;A;B;G;H;C;E\n",
      "\n",
      "H;C;C;B;H;F;F;D\n",
      "A;H;F;E;H;E;C;A\n",
      "B;F;D;B;D;C;G;G\n",
      "G;D;A;B;G;E;A;E\n",
      "\n",
      "E;C;C;B;H;G;E;A\n",
      "C;H;F;E;H;B;G;G\n",
      "E;F;D;B;D;A;A;C\n",
      "F;D;A;B;G;H;D;F\n",
      "\n",
      "E;C;C;B;D;H;G;B\n",
      "C;H;F;E;C;A;A;D\n",
      "E;F;D;B;G;G;B;H\n",
      "F;D;A;A;E;G;H;F\n",
      "\n",
      "E;A;A;D;F;H;G;B\n",
      "C;G;B;D;F;A;A;D\n",
      "E;C;E;F;H;G;B;H\n",
      "D;B;C;C;E;G;H;F\n",
      "\n",
      "C;C;B;G;A;A;F;H\n",
      "F;E;C;D;A;G;F;A\n",
      "D;B;E;H;B;C;H;G\n",
      "D;D;F;H;B;E;E;G\n",
      "\n",
      "F;C;B;C;H;H;F;A\n",
      "F;E;C;B;F;A;H;G\n",
      "H;B;E;A;D;G;D;C\n",
      "E;D;A;D;G;G;B;E\n",
      "\n",
      "F;C;B;B;C;H;H;F\n",
      "F;E;C;D;C;B;F;A\n",
      "H;B;E;H;G;A;D;G\n",
      "E;D;A;A;D;G;G;E\n",
      "\n"
     ]
    }
   ],
   "source": [
    "state = initial_state\n",
    "print34(state)\n",
    "\n",
    "state = allowed_moves['f5'](state)\n",
    "state = allowed_moves['-r3'](state)\n",
    "state = allowed_moves['f6'](state)\n",
    "state = allowed_moves['r3'](state)\n",
    "\n",
    "state = allowed_moves['f6'](state)\n",
    "state = allowed_moves['f7'](state)\n",
    "state = allowed_moves['-r3'](state)\n",
    "state = allowed_moves['f5'](state)\n",
    "state = allowed_moves['r3'](state)\n",
    "print34(state)\n",
    "\n",
    "state = allowed_moves['f7'](state)\n",
    "state = allowed_moves['-r3'](state)\n",
    "state = allowed_moves['f6'](state)\n",
    "state = allowed_moves['r3'](state)\n",
    "print34(state)\n",
    "\n",
    "state = allowed_moves['f7'](state)\n",
    "state = allowed_moves['-r3'](state)\n",
    "state = allowed_moves['f0'](state)\n",
    "state = allowed_moves['r3'](state)\n",
    "\n",
    "state = allowed_moves['f0'](state)\n",
    "state = allowed_moves['f1'](state)\n",
    "state = allowed_moves['-r3'](state)\n",
    "state = allowed_moves['f7'](state)\n",
    "state = allowed_moves['r3'](state)\n",
    "print34(state)\n",
    "\n",
    "state = allowed_moves['r0'](state)\n",
    "state = allowed_moves['f0'](state)\n",
    "state = allowed_moves['-r0'](state)\n",
    "print34(state)\n",
    "\n",
    "state = allowed_moves['f6'](state)\n",
    "state = allowed_moves['f5'](state)\n",
    "print34(state)\n",
    "\n",
    "state = allowed_moves['f5'](state)\n",
    "print34(state)\n",
    "\n",
    "state = allowed_moves['-r3'](state)\n",
    "state = allowed_moves['f4'](state)\n",
    "state = allowed_moves['r3'](state)\n",
    "print34(state)\n",
    "\n",
    "state = allowed_moves['f0'](state)\n",
    "state = allowed_moves['f0'](state)\n",
    "state = allowed_moves['-r3'](state)\n",
    "state = allowed_moves['f1'](state)\n",
    "state = allowed_moves['r3'](state)\n",
    "print34(state)\n",
    "\n",
    "state = allowed_moves['f0'](state)\n",
    "state = allowed_moves['f3'](state)\n",
    "state = allowed_moves['f4'](state)\n",
    "state = allowed_moves['-r3'](state)\n",
    "state = allowed_moves['f2'](state)\n",
    "state = allowed_moves['r3'](state)\n",
    "print34(state)\n",
    "\n",
    "state = allowed_moves['f4'](state)\n",
    "state = allowed_moves['f5'](state)\n",
    "state = allowed_moves['-r3'](state)\n",
    "state = allowed_moves['f3'](state)\n",
    "state = allowed_moves['r3'](state)\n",
    "print34(state)\n",
    "\n",
    "state = allowed_moves['f3'](state)\n",
    "state = allowed_moves['-r3'](state)\n",
    "state = allowed_moves['f4'](state)\n",
    "state = allowed_moves['r3'](state)\n",
    "print34(state)\n",
    "\n",
    "state2 = state"
   ]
  },
  {
   "cell_type": "code",
   "execution_count": 78,
   "id": "70aba4de-a3e4-4127-9937-04ef491c4014",
   "metadata": {},
   "outputs": [
    {
     "name": "stdout",
     "output_type": "stream",
     "text": [
      "F;C;B;B;C;H;H;F\n",
      "F;E;C;D;C;B;F;A\n",
      "H;B;E;H;G;A;D;G\n",
      "E;D;A;A;D;G;G;E\n",
      "\n",
      "C;C;B;F;F;H;H;B\n",
      "B;E;C;F;F;A;E;C\n",
      "A;B;D;H;G;D;H;G\n",
      "D;D;A;E;E;G;G;A\n",
      "\n",
      "C;C;E;B;H;A;F;H\n",
      "B;E;C;E;D;B;F;A\n",
      "A;F;G;H;C;H;G;D\n",
      "D;D;F;A;G;B;E;G\n",
      "\n",
      "B;C;E;H;C;G;A;E\n",
      "H;E;C;B;C;H;G;G\n",
      "B;F;D;A;D;E;A;F\n",
      "A;D;F;G;D;H;B;F\n",
      "\n",
      "C;H;F;C;E;G;A;A\n",
      "B;F;A;E;C;H;G;C\n",
      "A;G;B;F;D;E;H;D\n",
      "D;G;E;D;F;H;B;B\n",
      "\n",
      "C;H;A;A;D;E;H;F\n",
      "B;F;C;B;G;G;D;F\n",
      "A;E;D;H;A;H;C;E\n",
      "D;G;B;B;C;F;G;E\n",
      "\n",
      "C;H;A;A;D;E;H;F\n",
      "B;F;C;B;G;D;F;H\n",
      "A;E;D;A;H;C;E;G\n",
      "D;G;B;B;C;F;G;E\n",
      "\n"
     ]
    }
   ],
   "source": [
    "state = state2\n",
    "print34(state)\n",
    "\n",
    "state = allowed_moves['f3'](state)\n",
    "state = allowed_moves['-r2'](state)\n",
    "state = allowed_moves['f4'](state)\n",
    "state = allowed_moves['r2'](state)\n",
    "state = allowed_moves['f4'](state)\n",
    "state = allowed_moves['f5'](state)\n",
    "state = allowed_moves['-r2'](state)\n",
    "state = allowed_moves['f3'](state)\n",
    "state = allowed_moves['r2'](state)\n",
    "print34(state)\n",
    "\n",
    "state = allowed_moves['f3'](state)\n",
    "state = allowed_moves['f4'](state)\n",
    "state = allowed_moves['-r2'](state)\n",
    "state = allowed_moves['f2'](state)\n",
    "state = allowed_moves['r2'](state)\n",
    "print34(state)\n",
    "\n",
    "state = allowed_moves['f4'](state)\n",
    "state = allowed_moves['f4'](state)\n",
    "state = allowed_moves['f5'](state)\n",
    "state = allowed_moves['-r2'](state)\n",
    "state = allowed_moves['f3'](state)\n",
    "state = allowed_moves['r2'](state)\n",
    "print34(state)\n",
    "\n",
    "state = allowed_moves['f0'](state)\n",
    "state = allowed_moves['f1'](state)\n",
    "state = allowed_moves['-r2'](state)\n",
    "state = allowed_moves['f7'](state)\n",
    "state = allowed_moves['r2'](state)\n",
    "print34(state)\n",
    "\n",
    "state = allowed_moves['f2'](state)\n",
    "state = allowed_moves['f2'](state)\n",
    "state = allowed_moves['-r2'](state)\n",
    "state = allowed_moves['f3'](state)\n",
    "state = allowed_moves['r2'](state)\n",
    "state = allowed_moves['f3'](state)\n",
    "state = allowed_moves['f4'](state)\n",
    "state = allowed_moves['-r2'](state)\n",
    "state = allowed_moves['f2'](state)\n",
    "state = allowed_moves['r2'](state)\n",
    "print34(state)\n",
    "\n",
    "state = allowed_moves['f4'](state)\n",
    "state = allowed_moves['-r2'](state)\n",
    "state = allowed_moves['f4'](state)\n",
    "state = allowed_moves['r2'](state)\n",
    "print34(state)\n",
    "\n",
    "\n",
    "state3 = state"
   ]
  },
  {
   "cell_type": "code",
   "execution_count": 79,
   "id": "0ad1e585-5c6d-4773-8ff0-c59b2c211a51",
   "metadata": {},
   "outputs": [],
   "source": [
    "def count_pair(state, r, f):\n",
    "    count = 0\n",
    "    for i in range(r + 1):\n",
    "        for j in range(f * 2):\n",
    "            if state[i * f * 2 + j] == state[i * f * 2 + (j + 1) % (f * 2)]:\n",
    "                count += 1\n",
    "\n",
    "    return count\n",
    "\n",
    "\n",
    "def count_correct(state, correct):\n",
    "    count = 0\n",
    "    for i in range(8):\n",
    "        count += state[i] == correct[i] and state[i+24] == correct[i+24]\n",
    "        count += (state[i] < state[i+24]) * 2\n",
    "    for i in range(8, 16):\n",
    "        count += state[i] == correct[i] and state[i+8] == correct[i+8]\n",
    "        count += (state[i] < state[i+8]) * 2\n",
    "    return count"
   ]
  },
  {
   "cell_type": "code",
   "execution_count": 80,
   "id": "e8f492ba-4bce-4071-ac37-a2e973ed57cc",
   "metadata": {},
   "outputs": [
    {
     "name": "stderr",
     "output_type": "stream",
     "text": [
      "  0%|                                                                                | 11092/16429825 [00:00<04:57, 55106.12it/s]"
     ]
    },
    {
     "name": "stdout",
     "output_type": "stream",
     "text": [
      "18 ['C', 'H', 'A', 'E', 'D', 'E', 'H', 'B', 'B', 'F', 'C', 'G', 'G', 'D', 'F', 'A', 'A', 'E', 'D', 'H', 'H', 'C', 'E', 'B', 'D', 'G', 'B', 'F', 'C', 'F', 'G', 'A'] -r0.-r1.f0.r0.r1.-r2.-r3.f0.r2.r3\n",
      "19 ['C', 'H', 'A', 'A', 'D', 'E', 'H', 'F', 'B', 'C', 'C', 'B', 'G', 'E', 'F', 'H', 'A', 'D', 'D', 'A', 'H', 'F', 'E', 'G', 'D', 'G', 'B', 'B', 'C', 'F', 'G', 'E'] -r1.f2.r1.-r2.f2.r2\n",
      "22 ['C', 'F', 'A', 'E', 'D', 'G', 'H', 'B', 'B', 'C', 'C', 'G', 'G', 'E', 'F', 'A', 'A', 'D', 'D', 'H', 'H', 'F', 'E', 'B', 'D', 'E', 'B', 'F', 'C', 'H', 'G', 'A'] -r0.-r1.f0.r0.r1.-r2.-r3.f0.r2.r3.-r0.-r1.f2.r0.r1.-r2.-r3.f2.r2.r3\n",
      "23 ['C', 'H', 'A', 'E', 'D', 'E', 'H', 'B', 'B', 'C', 'C', 'G', 'G', 'E', 'F', 'A', 'A', 'D', 'D', 'H', 'H', 'F', 'E', 'B', 'D', 'G', 'B', 'F', 'C', 'F', 'G', 'A'] -r0.-r1.f0.r0.r1.-r2.-r3.f0.r2.r3.-r1.f2.r1.-r2.f2.r2\n",
      "24 ['C', 'H', 'A', 'A', 'E', 'E', 'H', 'C', 'H', 'C', 'C', 'B', 'G', 'E', 'F', 'B', 'G', 'D', 'D', 'A', 'H', 'F', 'E', 'A', 'D', 'G', 'B', 'B', 'F', 'F', 'G', 'D'] f0.-r0.-r1.f0.r0.r1.-r2.-r3.f0.r2.r3.f0.-r0.-r1.f1.r0.r1.-r2.-r3.f1.r2.r3.-r1.f2.r1.-r2.f2.r2\n",
      "27 ['C', 'A', 'G', 'E', 'D', 'E', 'G', 'B', 'B', 'C', 'E', 'G', 'G', 'D', 'E', 'A', 'A', 'D', 'F', 'H', 'H', 'C', 'F', 'B', 'D', 'B', 'H', 'F', 'C', 'F', 'H', 'A'] -r0.-r1.f0.r0.r1.-r2.-r3.f0.r2.r3.f2.-r0.-r1.f2.r0.r1.-r2.-r3.f2.r2.r3.f2.-r0.-r1.f3.r0.r1.-r2.-r3.f3.r2.r3\n"
     ]
    },
    {
     "name": "stderr",
     "output_type": "stream",
     "text": [
      "  0%|                                                                                | 22442/16429825 [00:00<04:52, 56049.22it/s]"
     ]
    },
    {
     "name": "stdout",
     "output_type": "stream",
     "text": [
      "28 ['C', 'H', 'A', 'A', 'E', 'E', 'H', 'C', 'H', 'C', 'C', 'A', 'G', 'E', 'F', 'A', 'G', 'D', 'D', 'B', 'H', 'F', 'E', 'B', 'D', 'G', 'B', 'B', 'F', 'F', 'G', 'D'] f0.-r0.-r1.f0.r0.r1.-r2.-r3.f0.r2.r3.f0.-r1.f0.r1.-r2.f0.r2.-r0.-r1.f1.r0.r1.-r2.-r3.f1.r2.r3.-r1.f2.r1.-r2.f2.r2\n",
      "29 ['C', 'H', 'A', 'A', 'E', 'E', 'H', 'C', 'A', 'C', 'C', 'G', 'G', 'E', 'F', 'B', 'B', 'D', 'D', 'H', 'H', 'F', 'E', 'A', 'D', 'G', 'B', 'B', 'F', 'F', 'G', 'D'] f0.-r0.-r1.f0.r0.r1.-r2.-r3.f0.r2.r3.f0.-r1.f2.r1.-r2.f2.r2.f4.-r1.f4.r1.-r2.f4.r2.f4.-r0.-r1.f1.r0.r1.-r2.-r3.f1.r2.r3\n"
     ]
    },
    {
     "name": "stderr",
     "output_type": "stream",
     "text": [
      "  1%|▌                                                                              | 122044/16429825 [00:02<04:38, 58496.55it/s]"
     ]
    },
    {
     "name": "stdout",
     "output_type": "stream",
     "text": [
      "31 ['C', 'A', 'G', 'E', 'A', 'E', 'G', 'C', 'B', 'C', 'E', 'G', 'G', 'D', 'E', 'A', 'A', 'D', 'F', 'H', 'H', 'C', 'F', 'B', 'D', 'B', 'H', 'F', 'B', 'F', 'H', 'D'] f2.-r0.-r1.f2.r0.r1.-r2.-r3.f2.r2.r3.f2.-r0.-r1.f3.r0.r1.-r2.-r3.f3.r2.r3.f4.-r0.f4.r0.-r3.f4.r3.f4.-r0.-r1.f0.r0.r1.-r2.-r3.f0.r2.r3\n"
     ]
    },
    {
     "name": "stderr",
     "output_type": "stream",
     "text": [
      "  1%|▉                                                                              | 191724/16429825 [00:03<04:42, 57579.77it/s]"
     ]
    },
    {
     "name": "stdout",
     "output_type": "stream",
     "text": [
      "32 ['C', 'A', 'G', 'A', 'E', 'E', 'G', 'C', 'H', 'C', 'E', 'A', 'G', 'D', 'E', 'A', 'G', 'D', 'F', 'B', 'H', 'C', 'F', 'B', 'D', 'B', 'H', 'B', 'F', 'F', 'H', 'D'] f0.-r0.-r1.f0.r0.r1.-r2.-r3.f0.r2.r3.f0.-r1.f0.r1.-r2.f0.r2.-r0.-r1.f1.r0.r1.-r2.-r3.f1.r2.r3.f2.-r0.-r1.f2.r0.r1.-r2.-r3.f2.r2.r3.f2.-r0.-r1.f3.r0.r1.-r2.-r3.f3.r2.r3\n"
     ]
    },
    {
     "name": "stderr",
     "output_type": "stream",
     "text": [
      "  1%|█▏                                                                             | 238450/16429825 [00:04<04:38, 58237.56it/s]"
     ]
    },
    {
     "name": "stdout",
     "output_type": "stream",
     "text": [
      "33 ['C', 'A', 'G', 'A', 'E', 'E', 'G', 'C', 'A', 'C', 'E', 'G', 'G', 'D', 'E', 'B', 'B', 'D', 'F', 'H', 'H', 'C', 'F', 'A', 'D', 'B', 'H', 'B', 'F', 'F', 'H', 'D'] f0.-r0.-r1.f0.r0.r1.-r2.-r3.f0.r2.r3.f0.f2.-r0.-r1.f2.r0.r1.-r2.-r3.f2.r2.r3.f2.-r0.-r1.f3.r0.r1.-r2.-r3.f3.r2.r3.f4.-r1.f4.r1.-r2.f4.r2.f4.-r0.-r1.f1.r0.r1.-r2.-r3.f1.r2.r3\n"
     ]
    },
    {
     "name": "stderr",
     "output_type": "stream",
     "text": [
      " 12%|█████████▍                                                                    | 1983480/16429825 [00:34<05:01, 47864.48it/s]"
     ]
    },
    {
     "name": "stdout",
     "output_type": "stream",
     "text": [
      "34 ['C', 'A', 'G', 'A', 'E', 'E', 'G', 'C', 'H', 'C', 'E', 'A', 'E', 'D', 'G', 'A', 'G', 'D', 'F', 'B', 'F', 'C', 'H', 'B', 'D', 'B', 'H', 'B', 'F', 'F', 'H', 'D'] f0.-r0.-r1.f0.r0.r1.-r2.-r3.f0.r2.r3.f0.-r1.f0.r1.-r2.f0.r2.f1.-r1.f1.r1.-r2.f1.r2.f1.-r0.-r1.f1.r0.r1.-r2.-r3.f1.r2.r3.f2.-r0.-r1.f2.r0.r1.-r2.-r3.f2.r2.r3.f2.-r0.-r1.f3.r0.r1.-r2.-r3.f3.r2.r3\n"
     ]
    },
    {
     "name": "stderr",
     "output_type": "stream",
     "text": [
      " 12%|█████████▌                                                                    | 2010199/16429825 [00:35<04:29, 53430.31it/s]"
     ]
    },
    {
     "name": "stdout",
     "output_type": "stream",
     "text": [
      "36 ['C', 'A', 'G', 'A', 'E', 'E', 'G', 'C', 'C', 'C', 'E', 'A', 'G', 'G', 'E', 'A', 'D', 'D', 'F', 'B', 'H', 'H', 'F', 'B', 'D', 'B', 'H', 'B', 'F', 'F', 'H', 'D'] f0.-r0.-r1.f0.r0.r1.-r2.-r3.f0.r2.r3.f0.-r1.f0.r1.-r2.f0.r2.f2.-r0.-r1.f2.r0.r1.-r2.-r3.f2.r2.r3.f2.-r0.-r1.f3.r0.r1.-r2.-r3.f3.r2.r3.f5.-r1.f5.r1.-r2.f5.r2.f5.-r0.-r1.f1.r0.r1.-r2.-r3.f1.r2.r3\n"
     ]
    },
    {
     "name": "stderr",
     "output_type": "stream",
     "text": [
      "100%|█████████████████████████████████████████████████████████████████████████████| 16429825/16429825 [04:53<00:00, 56042.54it/s]"
     ]
    },
    {
     "name": "stdout",
     "output_type": "stream",
     "text": [
      "36 ['C', 'A', 'G', 'A', 'E', 'E', 'G', 'C', 'C', 'C', 'E', 'A', 'G', 'G', 'E', 'A', 'D', 'D', 'F', 'B', 'H', 'H', 'F', 'B', 'D', 'B', 'H', 'B', 'F', 'F', 'H', 'D'] f0.-r0.-r1.f0.r0.r1.-r2.-r3.f0.r2.r3.f0.-r1.f0.r1.-r2.f0.r2.f2.-r0.-r1.f2.r0.r1.-r2.-r3.f2.r2.r3.f2.-r0.-r1.f3.r0.r1.-r2.-r3.f3.r2.r3.f5.-r1.f5.r1.-r2.f5.r2.f5.-r0.-r1.f1.r0.r1.-r2.-r3.f1.r2.r3\n"
     ]
    },
    {
     "name": "stderr",
     "output_type": "stream",
     "text": [
      "\n"
     ]
    }
   ],
   "source": [
    "state = state3\n",
    "moves_list = []\n",
    "correct_num = count_correct(state, solution_state)\n",
    "max_correct_num = correct_num\n",
    "max_correct_state = []\n",
    "max_correct_moves = ''\n",
    "\n",
    "for key in tqdm.tqdm(solve_dict_rev, total=len(solve_dict_rev)):\n",
    "    state = state3\n",
    "    new_state = Permutation(solve_dict_rev[key])(state)\n",
    "    correct_num = count_correct(new_state, solution_state)\n",
    "    if max_correct_num < correct_num:\n",
    "        max_correct_num = correct_num\n",
    "        max_correct_state = new_state\n",
    "        max_correct_moves = key\n",
    "        print(max_correct_num, max_correct_state, max_correct_moves)\n",
    "print(max_correct_num, max_correct_state, max_correct_moves)"
   ]
  },
  {
   "cell_type": "code",
   "execution_count": 81,
   "id": "7d4a41d4-a211-4b40-8cb3-90cb50f16a28",
   "metadata": {},
   "outputs": [
    {
     "name": "stderr",
     "output_type": "stream",
     "text": [
      "  0%|                                                                                 | 3937/16429825 [00:00<07:01, 39009.18it/s]"
     ]
    },
    {
     "name": "stdout",
     "output_type": "stream",
     "text": [
      "37 ['C', 'A', 'G', 'A', 'E', 'E', 'G', 'C', 'A', 'C', 'E', 'A', 'G', 'G', 'E', 'C', 'B', 'D', 'F', 'B', 'H', 'H', 'F', 'D', 'D', 'B', 'H', 'B', 'F', 'F', 'H', 'D'] f0.-r0.-r1.f0.r0.r1.-r2.-r3.f0.r2.r3.f0\n",
      "38 ['C', 'A', 'G', 'A', 'E', 'E', 'G', 'C', 'C', 'C', 'E', 'A', 'G', 'E', 'G', 'A', 'D', 'D', 'F', 'B', 'H', 'F', 'H', 'B', 'D', 'B', 'H', 'B', 'F', 'F', 'H', 'D'] f6.-r1.f6.r1.-r2.f6.r2.f6\n",
      "39 ['C', 'A', 'G', 'A', 'E', 'E', 'G', 'C', 'A', 'C', 'E', 'A', 'G', 'E', 'G', 'C', 'B', 'D', 'F', 'B', 'H', 'F', 'H', 'D', 'D', 'B', 'H', 'B', 'F', 'F', 'H', 'D'] f0.-r0.-r1.f0.r0.r1.-r2.-r3.f0.r2.r3.f0.f6.-r1.f6.r1.-r2.f6.r2.f6\n",
      "40 ['C', 'A', 'G', 'A', 'E', 'E', 'G', 'C', 'A', 'E', 'C', 'A', 'G', 'E', 'G', 'C', 'B', 'F', 'D', 'B', 'H', 'F', 'H', 'D', 'D', 'B', 'H', 'B', 'F', 'F', 'H', 'D'] f0.-r0.-r1.f0.r0.r1.-r2.-r3.f0.r2.r3.f0.f2.-r1.f2.r1.-r2.f2.r2.f2.f6.-r1.f6.r1.-r2.f6.r2.f6\n"
     ]
    },
    {
     "name": "stderr",
     "output_type": "stream",
     "text": [
      "  0%|▏                                                                               | 25817/16429825 [00:00<05:08, 53140.88it/s]"
     ]
    },
    {
     "name": "stdout",
     "output_type": "stream",
     "text": [
      "41 ['A', 'G', 'C', 'A', 'E', 'E', 'G', 'C', 'A', 'E', 'C', 'A', 'G', 'E', 'G', 'C', 'B', 'F', 'D', 'B', 'H', 'F', 'H', 'D', 'B', 'H', 'D', 'B', 'F', 'F', 'H', 'D'] f0.-r0.-r1.f0.r0.r1.-r2.-r3.f0.r2.r3.f0.f1.-r0.f1.r0.-r3.f1.r3.f1.f2.-r0.-r1.f2.r0.r1.-r2.-r3.f2.r2.r3.f2.f6.-r1.f6.r1.-r2.f6.r2.f6\n"
     ]
    },
    {
     "name": "stderr",
     "output_type": "stream",
     "text": [
      "  0%|▍                                                                               | 80801/16429825 [00:01<04:59, 54625.69it/s]"
     ]
    },
    {
     "name": "stdout",
     "output_type": "stream",
     "text": [
      "42 ['A', 'A', 'C', 'G', 'E', 'E', 'G', 'C', 'C', 'A', 'C', 'E', 'G', 'E', 'G', 'A', 'D', 'B', 'D', 'F', 'H', 'F', 'H', 'B', 'B', 'B', 'D', 'H', 'F', 'F', 'H', 'D'] f1.-r0.-r1.f1.r0.r1.-r2.-r3.f1.r2.r3.f1.f3.-r0.-r1.f3.r0.r1.-r2.-r3.f3.r2.r3.f3.f2.-r0.-r1.f2.r0.r1.-r2.-r3.f2.r2.r3.f2.f6.-r1.f6.r1.-r2.f6.r2.f6\n"
     ]
    },
    {
     "name": "stderr",
     "output_type": "stream",
     "text": [
      "  1%|█                                                                              | 210175/16429825 [00:03<04:49, 56008.89it/s]"
     ]
    },
    {
     "name": "stdout",
     "output_type": "stream",
     "text": [
      "43 ['A', 'A', 'C', 'G', 'E', 'E', 'G', 'C', 'A', 'A', 'C', 'E', 'G', 'E', 'G', 'C', 'B', 'B', 'D', 'F', 'H', 'F', 'H', 'D', 'B', 'B', 'D', 'H', 'F', 'F', 'H', 'D'] f0.-r0.-r1.f0.r0.r1.-r2.-r3.f0.r2.r3.f0.f1.-r0.f1.r0.-r3.f1.r3.f1.f3.-r0.-r1.f3.r0.r1.-r2.-r3.f3.r2.r3.f3.f2.-r0.-r1.f2.r0.r1.-r2.-r3.f2.r2.r3.f2.f6.-r1.f6.r1.-r2.f6.r2.f6\n"
     ]
    },
    {
     "name": "stderr",
     "output_type": "stream",
     "text": [
      " 13%|██████████▍                                                                   | 2193692/16429825 [00:38<04:06, 57661.39it/s]"
     ]
    },
    {
     "name": "stdout",
     "output_type": "stream",
     "text": [
      "44 ['A', 'A', 'C', 'G', 'E', 'E', 'G', 'C', 'A', 'A', 'C', 'G', 'E', 'E', 'G', 'C', 'B', 'B', 'D', 'H', 'F', 'F', 'H', 'D', 'B', 'B', 'D', 'H', 'F', 'F', 'H', 'D'] f0.-r0.-r1.f0.r0.r1.-r2.-r3.f0.r2.r3.f0.f1.-r0.f1.r0.-r3.f1.r3.f1.f3.-r0.-r1.f3.r0.r1.-r2.-r3.f3.r2.r3.f3.f2.-r0.-r1.f2.r0.r1.-r2.-r3.f2.r2.r3.f2.f4.-r1.f4.r1.-r2.f4.r2.f4.f6.-r1.f6.r1.-r2.f6.r2.f6\n"
     ]
    },
    {
     "name": "stderr",
     "output_type": "stream",
     "text": [
      "100%|█████████████████████████████████████████████████████████████████████████████| 16429825/16429825 [04:51<00:00, 56364.79it/s]"
     ]
    },
    {
     "name": "stdout",
     "output_type": "stream",
     "text": [
      "44 ['A', 'A', 'C', 'G', 'E', 'E', 'G', 'C', 'A', 'A', 'C', 'G', 'E', 'E', 'G', 'C', 'B', 'B', 'D', 'H', 'F', 'F', 'H', 'D', 'B', 'B', 'D', 'H', 'F', 'F', 'H', 'D'] f0.-r0.-r1.f0.r0.r1.-r2.-r3.f0.r2.r3.f0.f1.-r0.f1.r0.-r3.f1.r3.f1.f3.-r0.-r1.f3.r0.r1.-r2.-r3.f3.r2.r3.f3.f2.-r0.-r1.f2.r0.r1.-r2.-r3.f2.r2.r3.f2.f4.-r1.f4.r1.-r2.f4.r2.f4.f6.-r1.f6.r1.-r2.f6.r2.f6\n"
     ]
    },
    {
     "name": "stderr",
     "output_type": "stream",
     "text": [
      "\n"
     ]
    }
   ],
   "source": [
    "tuning2 = max_correct_state\n",
    "moves_list = []\n",
    "correct_num = count_correct(tuning2, solution_state)\n",
    "max_correct_num = correct_num\n",
    "max_correct_state = []\n",
    "max_correct_moves = ''\n",
    "\n",
    "for key in tqdm.tqdm(solve_dict_rev, total=len(solve_dict_rev)):\n",
    "    state = tuning2\n",
    "    new_state = Permutation(solve_dict_rev[key])(state)\n",
    "    correct_num = count_correct(new_state, solution_state)\n",
    "    if max_correct_num < correct_num:\n",
    "        max_correct_num = correct_num\n",
    "        max_correct_state = new_state\n",
    "        max_correct_moves = key\n",
    "        print(max_correct_num, max_correct_state, max_correct_moves)\n",
    "print(max_correct_num, max_correct_state, max_correct_moves)"
   ]
  },
  {
   "cell_type": "code",
   "execution_count": 82,
   "id": "41cc9317-71ff-4ae0-9a60-d711c7a547c7",
   "metadata": {},
   "outputs": [
    {
     "name": "stderr",
     "output_type": "stream",
     "text": [
      "  0%|                                                                                 | 5667/16429825 [00:00<04:50, 56557.73it/s]"
     ]
    },
    {
     "name": "stdout",
     "output_type": "stream",
     "text": [
      "42 ['C', 'A', 'C', 'G', 'E', 'E', 'G', 'A', 'C', 'A', 'C', 'G', 'E', 'E', 'G', 'A', 'D', 'B', 'D', 'H', 'F', 'F', 'H', 'B', 'D', 'B', 'D', 'H', 'F', 'F', 'H', 'B'] f0.-r0.-r1.f0.r0.r1.-r2.-r3.f0.r2.r3.f0\n",
      "43 ['C', 'A', 'C', 'G', 'E', 'E', 'G', 'A', 'A', 'A', 'C', 'G', 'E', 'E', 'G', 'C', 'B', 'B', 'D', 'H', 'F', 'F', 'H', 'D', 'D', 'B', 'D', 'H', 'F', 'F', 'H', 'B'] f0.-r0.f0.r0.-r3.f0.r3.f0\n",
      "44 ['A', 'A', 'C', 'G', 'E', 'E', 'G', 'C', 'A', 'A', 'C', 'G', 'E', 'E', 'G', 'C', 'B', 'B', 'D', 'H', 'F', 'F', 'H', 'D', 'B', 'B', 'D', 'H', 'F', 'F', 'H', 'D'] f1.-r0.-r1.f1.r0.r1.-r2.-r3.f1.r2.r3.f1\n"
     ]
    },
    {
     "name": "stderr",
     "output_type": "stream",
     "text": [
      " 13%|██████████                                                                    | 2116100/16429825 [00:37<04:11, 56809.76it/s]"
     ]
    },
    {
     "name": "stdout",
     "output_type": "stream",
     "text": [
      "48 ['A', 'A', 'C', 'C', 'E', 'E', 'G', 'G', 'A', 'A', 'C', 'C', 'E', 'E', 'G', 'G', 'B', 'B', 'D', 'D', 'F', 'F', 'H', 'H', 'B', 'B', 'D', 'D', 'F', 'F', 'H', 'H'] f0.-r0.-r1.f0.r0.r1.-r2.-r3.f0.r2.r3.f0.f1.-r0.-r1.f1.r0.r1.-r2.-r3.f1.r2.r3.f1.f3.-r0.-r1.f3.r0.r1.-r2.-r3.f3.r2.r3.f3.f2.-r0.-r1.f2.r0.r1.-r2.-r3.f2.r2.r3.f2.f1.-r0.-r1.f1.r0.r1.-r2.-r3.f1.r2.r3.f1.f0.-r0.-r1.f0.r0.r1.-r2.-r3.f0.r2.r3.f0\n"
     ]
    },
    {
     "name": "stderr",
     "output_type": "stream",
     "text": [
      "100%|█████████████████████████████████████████████████████████████████████████████| 16429825/16429825 [04:53<00:00, 56048.39it/s]"
     ]
    },
    {
     "name": "stdout",
     "output_type": "stream",
     "text": [
      "48 ['A', 'A', 'C', 'C', 'E', 'E', 'G', 'G', 'A', 'A', 'C', 'C', 'E', 'E', 'G', 'G', 'B', 'B', 'D', 'D', 'F', 'F', 'H', 'H', 'B', 'B', 'D', 'D', 'F', 'F', 'H', 'H'] f0.-r0.-r1.f0.r0.r1.-r2.-r3.f0.r2.r3.f0.f1.-r0.-r1.f1.r0.r1.-r2.-r3.f1.r2.r3.f1.f3.-r0.-r1.f3.r0.r1.-r2.-r3.f3.r2.r3.f3.f2.-r0.-r1.f2.r0.r1.-r2.-r3.f2.r2.r3.f2.f1.-r0.-r1.f1.r0.r1.-r2.-r3.f1.r2.r3.f1.f0.-r0.-r1.f0.r0.r1.-r2.-r3.f0.r2.r3.f0\n"
     ]
    },
    {
     "name": "stderr",
     "output_type": "stream",
     "text": [
      "\n"
     ]
    }
   ],
   "source": [
    "tuning3 = max_correct_state\n",
    "moves_list = []\n",
    "correct_num = count_correct(tuning3, solution_state)\n",
    "max_correct_num = correct_num\n",
    "max_correct_state = []\n",
    "max_correct_moves = ''\n",
    "\n",
    "for key in tqdm.tqdm(solve_dict_rev, total=len(solve_dict_rev)):\n",
    "    state = tuning3\n",
    "    new_state = Permutation(solve_dict_rev[key])(state)\n",
    "    correct_num = count_correct(new_state, solution_state)\n",
    "    if max_correct_num < correct_num:\n",
    "        max_correct_num = correct_num\n",
    "        max_correct_state = new_state\n",
    "        max_correct_moves = key\n",
    "        print(max_correct_num, max_correct_state, max_correct_moves)\n",
    "print(max_correct_num, max_correct_state, max_correct_moves)"
   ]
  },
  {
   "cell_type": "code",
   "execution_count": null,
   "id": "99186ccd-6d35-4d6d-8fb0-80504b75842a",
   "metadata": {},
   "outputs": [],
   "source": []
  },
  {
   "cell_type": "code",
   "execution_count": null,
   "id": "c295489b-7944-4584-8ed5-7ffbe1e5fc9b",
   "metadata": {},
   "outputs": [],
   "source": []
  },
  {
   "cell_type": "code",
   "execution_count": null,
   "id": "0af80b71-d99f-4eff-9a06-dd142749e451",
   "metadata": {},
   "outputs": [],
   "source": []
  },
  {
   "cell_type": "code",
   "execution_count": null,
   "id": "98803d84-e329-4ac7-a454-1acb75bb5857",
   "metadata": {},
   "outputs": [],
   "source": []
  },
  {
   "cell_type": "code",
   "execution_count": null,
   "id": "53395e89-57ca-4dc6-9392-152de387cf60",
   "metadata": {},
   "outputs": [],
   "source": []
  },
  {
   "cell_type": "code",
   "execution_count": null,
   "id": "eb9dd977-d19a-47ab-b64d-c156f2776224",
   "metadata": {},
   "outputs": [],
   "source": []
  },
  {
   "cell_type": "code",
   "execution_count": null,
   "id": "4ead3ec8-6cda-469f-847d-8f93b03a2e02",
   "metadata": {},
   "outputs": [],
   "source": []
  },
  {
   "cell_type": "code",
   "execution_count": null,
   "id": "1e662147-c2c7-4bb3-90fd-fa9252424e5a",
   "metadata": {},
   "outputs": [],
   "source": []
  },
  {
   "cell_type": "code",
   "execution_count": 86,
   "id": "4e539e2b-fa01-44e2-a01f-27b2a76ea677",
   "metadata": {},
   "outputs": [],
   "source": [
    "from sympy.combinatorics import Permutation, PermutationGroup, CyclicGroup"
   ]
  },
  {
   "cell_type": "code",
   "execution_count": 90,
   "id": "4b464994-4253-4d58-b49d-ae00f68b557b",
   "metadata": {},
   "outputs": [
    {
     "data": {
      "text/plain": [
       "[2]"
      ]
     },
     "execution_count": 90,
     "metadata": {},
     "output_type": "execute_result"
    }
   ],
   "source": [
    "a = Permutation([0, 2, 1])\n",
    "b = Permutation([1, 0, 2])\n",
    "G = PermutationGroup([a, b])\n",
    "G.abelian_invariants()"
   ]
  },
  {
   "cell_type": "code",
   "execution_count": 89,
   "id": "dc09a721-26a6-4012-83ca-fa21faf6b1e5",
   "metadata": {},
   "outputs": [
    {
     "data": {
      "text/plain": [
       "[7]"
      ]
     },
     "execution_count": 89,
     "metadata": {},
     "output_type": "execute_result"
    }
   ],
   "source": [
    "G = CyclicGroup(7)\n",
    "G.abelian_invariants()"
   ]
  },
  {
   "cell_type": "code",
   "execution_count": 119,
   "id": "b939042d-ea78-4876-8de9-3b5d6c427042",
   "metadata": {},
   "outputs": [],
   "source": [
    "p = Permutation([0, 2, 3, 1])\n",
    "x = Permutation([2, 0, 3, 1])"
   ]
  },
  {
   "cell_type": "code",
   "execution_count": 139,
   "id": "cdaa4969-abe6-4647-8478-630be0aabc59",
   "metadata": {},
   "outputs": [],
   "source": [
    "G.schreier_sims()"
   ]
  },
  {
   "cell_type": "code",
   "execution_count": 147,
   "id": "f4bf9f74-e8d2-4d9a-a585-9ff912bab4a2",
   "metadata": {
    "scrolled": true
   },
   "outputs": [
    {
     "data": {
      "text/plain": [
       "([1, 0],\n",
       " [Permutation(1, 2), Permutation(2)(0, 1), Permutation(0, 2)],\n",
       " [[0, 1, 2], [0, 2]],\n",
       " [PermutationGroup([\n",
       "      (1 2),\n",
       "      (2)(0 1),\n",
       "      (0 2)]),\n",
       "  PermutationGroup([\n",
       "      (0 2)])],\n",
       " [{1: Permutation(2), 2: Permutation(1, 2), 0: Permutation(2)(0, 1)},\n",
       "  {0: Permutation(2), 2: Permutation(0, 2)}])"
      ]
     },
     "execution_count": 147,
     "metadata": {},
     "output_type": "execute_result"
    }
   ],
   "source": [
    "G.base, G.strong_gens, G.basic_orbits, G.basic_stabilizers, G.basic_transversals"
   ]
  },
  {
   "cell_type": "code",
   "execution_count": 146,
   "id": "c1cba0da-db00-4b1f-95bf-55789abf26c2",
   "metadata": {},
   "outputs": [
    {
     "data": {
      "text/plain": [
       "(True, [Permutation(1, 2), Permutation(0, 2)], [2, 2])"
      ]
     },
     "execution_count": 146,
     "metadata": {},
     "output_type": "execute_result"
    }
   ],
   "source": [
    "p2 = Permutation([1, 2, 0])\n",
    "G.contains(p2), G.coset_factor(p2), G.coset_factor(p2, True)"
   ]
  },
  {
   "cell_type": "code",
   "execution_count": 148,
   "id": "e831f4d6-a243-48ca-b634-0cf0e43f5cd4",
   "metadata": {},
   "outputs": [
    {
     "data": {
      "text/plain": [
       "[PermutationGroup([\n",
       "     (1 2),\n",
       "     (2)(0 1)]),\n",
       " PermutationGroup([\n",
       "     (0 2 1),\n",
       "     (0 1 2)]),\n",
       " PermutationGroup([\n",
       "     (2)])]"
      ]
     },
     "execution_count": 148,
     "metadata": {},
     "output_type": "execute_result"
    }
   ],
   "source": [
    "G.derived_series()"
   ]
  },
  {
   "cell_type": "code",
   "execution_count": 149,
   "id": "e3519f71-eb48-4236-9b86-01152982ddaa",
   "metadata": {},
   "outputs": [
    {
     "data": {
      "text/plain": [
       "[PermutationGroup([\n",
       "     (1 2),\n",
       "     (2)(0 1)]),\n",
       " PermutationGroup([\n",
       "     (0 2 1),\n",
       "     (0 1 2)])]"
      ]
     },
     "execution_count": 149,
     "metadata": {},
     "output_type": "execute_result"
    }
   ],
   "source": [
    "G.lower_central_series()"
   ]
  },
  {
   "cell_type": "code",
   "execution_count": null,
   "id": "85516bba-d7ea-4c76-9117-07a3ac472cdd",
   "metadata": {},
   "outputs": [],
   "source": []
  },
  {
   "cell_type": "code",
   "execution_count": null,
   "id": "74357b97-8977-40bd-912a-ebb667d3b4ab",
   "metadata": {},
   "outputs": [],
   "source": []
  },
  {
   "cell_type": "code",
   "execution_count": null,
   "id": "1c6f2074-bb2b-4135-b2db-b0d787541eef",
   "metadata": {},
   "outputs": [],
   "source": []
  },
  {
   "cell_type": "code",
   "execution_count": null,
   "id": "ba97af0c-25f3-4e8e-a285-4268d7a369d1",
   "metadata": {},
   "outputs": [],
   "source": []
  }
 ],
 "metadata": {
  "kernelspec": {
   "display_name": "santa2023-py3.11",
   "language": "python",
   "name": "santa2023-py3.11"
  },
  "language_info": {
   "codemirror_mode": {
    "name": "ipython",
    "version": 3
   },
   "file_extension": ".py",
   "mimetype": "text/x-python",
   "name": "python",
   "nbconvert_exporter": "python",
   "pygments_lexer": "ipython3",
   "version": "3.11.1"
  }
 },
 "nbformat": 4,
 "nbformat_minor": 5
}
