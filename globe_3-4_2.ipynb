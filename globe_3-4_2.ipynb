{
 "cells": [
  {
   "cell_type": "code",
   "execution_count": 135,
   "id": "8a33acb2-b40c-48ce-8536-522886001e10",
   "metadata": {},
   "outputs": [],
   "source": [
    "import pickle\n",
    "import time\n",
    "from ast import literal_eval\n",
    "from collections import deque\n",
    "from sys import stdin\n",
    "\n",
    "import pandas as pd\n",
    "import tqdm\n",
    "from sympy.combinatorics import Permutation"
   ]
  },
  {
   "cell_type": "code",
   "execution_count": 136,
   "id": "34adbf8b-3e4d-44a9-8f18-a0d5944391c3",
   "metadata": {},
   "outputs": [],
   "source": [
    "with open('globe-3-4-af_rotate.pkl', mode='rb') as f:\n",
    "    solve_dict = pickle.load(f)\n",
    "with open('globe-3-4-af_rotate_rev.pkl', mode='rb') as f:\n",
    "    solve_dict_rev = pickle.load(f)"
   ]
  },
  {
   "cell_type": "code",
   "execution_count": 137,
   "id": "312b6157-0db5-4d5a-b865-04b9c50fafbf",
   "metadata": {},
   "outputs": [],
   "source": [
    "# with open('globe-1-8-af_rotate.pkl', mode='rb') as f:\n",
    "#     solve_dict = pickle.load(f)\n",
    "# with open('globe-1-8-af_rotate_rev.pkl', mode='rb') as f:\n",
    "#     solve_dict_rev = pickle.load(f)"
   ]
  },
  {
   "cell_type": "code",
   "execution_count": 138,
   "id": "c8e49ccc-37a3-4a94-8bd8-052d2e54975d",
   "metadata": {},
   "outputs": [],
   "source": [
    "puzzle_info = pd.read_csv(\"puzzle_info.csv\", index_col='puzzle_type')\n",
    "puzzles = pd.read_csv(\"puzzles.csv\")\n",
    "sample_submission = pd.read_csv(\"submission_public.csv\", index_col='id')\n",
    "base_moves = [\"r0\", \"-r0\", \"r1\", \"-r1\", \"r2\", \"-r2\", \"r3\", \"-r3\", \"f0\", \"f1\", \"f2\", \"f3\", \"f4\", \"f5\", \"f6\", \"f7\"]"
   ]
  },
  {
   "cell_type": "code",
   "execution_count": 139,
   "id": "32e15681-1e3a-4e7f-9ac7-fd38e02bce9c",
   "metadata": {},
   "outputs": [],
   "source": [
    "globe_3_4type = 'globe_3/4'\n",
    "selected_types = ['globe_3/4']\n",
    "subset = puzzles[puzzles['puzzle_type'].isin(selected_types)]"
   ]
  },
  {
   "cell_type": "code",
   "execution_count": 350,
   "id": "5c33f387-8a9e-4c85-88a3-154c41842a78",
   "metadata": {},
   "outputs": [],
   "source": [
    "# globe_3/4の状態数\n",
    "allowed_moves = literal_eval(puzzle_info.loc[globe_3_4type, 'allowed_moves'])\n",
    "allowed_moves = {k: Permutation(v) for k, v in allowed_moves.items()}\n",
    "key_list = list(allowed_moves.keys())\n",
    "for key in key_list:\n",
    "    if key[0] == \"r\":\n",
    "        allowed_moves[\"-\" + key] = allowed_moves[key] ** (-1)"
   ]
  },
  {
   "cell_type": "code",
   "execution_count": 141,
   "id": "d20d36c3-ea93-4f63-afba-5e39ebd9768a",
   "metadata": {},
   "outputs": [
    {
     "data": {
      "text/plain": [
       "'f0.f1.r3.-r1.-r1.f5.f6.-r0.f6.f0.r0.-r1.-r2.f7.f2.f4.-r0.r1.r1.-r0.-r3.f2.-r1.f1.f0.f5.f0.f5.f4.-r1.f1.r1.f0.f3.f6.f3.f5.f0.f5.-r2.f5.f2.r1.r2.r0.f4.f3.f0.f1.f0.f6.f5.f7.r3.f1.r0.f7.f0.r2.f6.f5.r1.r1.-r3.f2.-r2.f3.f6.f4.f5.f0.f7.f0.-r1.f1.r1.f4.f3.f2.r0.f4.f7.r3.-r1.-r1.f5.f6.-r0.f6.f0.-r1.-r2.f7.-r3.-r1.f1.f0.f1.f0.f6.f4.f5.f0.f7.f5.f0.f5.f3.f0.-r1.f1.r1.f4.f7.-r2.f7.f2.r2.f6.f1.f2.f3.-r1.f4.f3.f0.-r1.f1.f0.-r3.f0.r3.-r1.f5.f4.f5.f4.r1.f3.-r1.f3.f2.f3.f0.f6.r0.f2.f0.-r1.f1.r1.f4.f7.-r2.f7.f6.-r1.-r2.f0.f6.f5.f7.-r1.-r1.f5.f6.-r3.-r2.-r1.f7.f4.-r1.-r0.f2.f4.f5.f2.r2.f6.f5.-r2.-r1.f3.-r2.-r3.-r1.f3.-r1.f4.r1.f7.-r2.-r1.r0.f5.-r1.f3.-r2.f7.-r1.-r1.f5.f2.f1.r0.f5.f6.-r0.f2.f1.f4.f7.-r1.f1.r1.f6.f5.-r2.f2.f5.f2.r1.f0.r2.f6.f5.-r2.f7.-r0.f2.r3.f2.-r1.f1.r1.f4.f3.f0.-r1.f1.r1.f4.-r1.-r1.f0.f3.f5.f0.f2.f1.f6.f4.f5.f0.f6.f0.f5.f4.f6.f0.-r1.f1.r1.f0.f5.f6.-r3.f6.f5.f7.-r1.f1.f4.r1.r1.f3.f0.-r1.f1.r1.f4.f7.-r2.f7.f2.r2.f6.f5.f0.f5.f2.f3.-r3.r1.f7.-r0.-r1.f3.-r3.-r0.f1.-r1.f1.f0.f5.f0.f5.f0.f6.f5.f7.r3.f1.r0.f1.f3.f4.f3.f5.f0.-r0.f2.f0.f6.f5.f7.r3.f1.r0.f7.f0.r2.r0.f4.f3.f1.f6.f3.r2.r3.-r1.-r1.f5.f6.r0.f7.-r1.f3.-r0.f2.-r1.f1.f0.f5.f0.f5.f3.f4.f3.f5.f0.f5.f0.f1.f2.-r0.f6.f5.r1.r1.-r3.f2'"
      ]
     },
     "execution_count": 141,
     "metadata": {},
     "output_type": "execute_result"
    }
   ],
   "source": [
    "moves_list = sample_submission.loc[359]['moves']\n",
    "moves_nor = moves_list.replace('-f', 'f')\n",
    "moves_nor"
   ]
  },
  {
   "cell_type": "code",
   "execution_count": 142,
   "id": "db4e41a9-a552-44e0-95ba-14b6b0be0409",
   "metadata": {},
   "outputs": [],
   "source": [
    "def print_globe_1_8(state):\n",
    "    for i in range(2):\n",
    "        temp = []\n",
    "        for j in range(i*16,(i+1)*16):\n",
    "            temp.append(f\"{state[j]:3}\")\n",
    "        print(';'.join(temp))\n",
    "    print()"
   ]
  },
  {
   "cell_type": "code",
   "execution_count": 143,
   "id": "f03b106f-8e6b-402e-b1ce-c1264d5a3557",
   "metadata": {},
   "outputs": [],
   "source": [
    "def print34(state):\n",
    "    for i in range(4):\n",
    "        temp = []\n",
    "        for j in range(i*8,(i+1)*8):\n",
    "            temp.append(f\"{state[j]:3}\")\n",
    "        print(';'.join(temp))\n",
    "    print()"
   ]
  },
  {
   "cell_type": "code",
   "execution_count": 396,
   "id": "6290dd31-be4d-4743-9b17-8e9313e088bf",
   "metadata": {},
   "outputs": [
    {
     "name": "stdout",
     "output_type": "stream",
     "text": [
      "N0 ;N1 ;N2 ;N3 ;N4 ;N5 ;N6 ;N7 \n",
      "N8 ;N9 ;N10;N11;N12;N13;N14;N15\n",
      "N16;N17;N18;N19;N20;N21;N22;N23\n",
      "N24;N25;N26;N27;N28;N29;N30;N31\n",
      "\n",
      "N0 ;N1 ;N2 ;N3 ;N4 ;N5 ;N6 ;N7 \n",
      "N8 ;N9 ;N10;N11;N12;N13;N14;N15\n",
      "N16;N17;N18;N19;N20;N21;N22;N23\n",
      "N24;N25;N26;N27;N28;N29;N30;N31\n",
      "\n"
     ]
    }
   ],
   "source": [
    "solution_state = subset.loc[371].solution_state.split(';')\n",
    "print34(solution_state)\n",
    "initial_state = subset.loc[371].initial_state.split(';')\n",
    "print34(solution_state)"
   ]
  },
  {
   "cell_type": "code",
   "execution_count": 397,
   "id": "3f067312-297b-4ea9-ba28-219afe97b7bf",
   "metadata": {},
   "outputs": [
    {
     "name": "stdout",
     "output_type": "stream",
     "text": [
      "N30;N3 ;N28;N6 ;N31;N25;N27;N1 \n",
      "N9 ;N20;N15;N12;N23;N11;N17;N18\n",
      "N22;N10;N19;N8 ;N21;N14;N16;N13\n",
      "N7 ;N4 ;N29;N26;N24;N0 ;N2 ;N5 \n",
      "\n",
      "N5 ;N2 ;N28;N0 ;N24;N26;N29;N7 \n",
      "N13;N16;N15;N20;N14;N21;N8 ;N22\n",
      "N18;N17;N19;N10;N11;N23;N12;N9 \n",
      "N1 ;N27;N4 ;N25;N31;N6 ;N3 ;N30\n",
      "\n",
      "N5 ;N2 ;N31;N25;N4 ;N27;N29;N7 \n",
      "N13;N16;N23;N11;N10;N19;N8 ;N22\n",
      "N18;N17;N21;N14;N20;N15;N12;N9 \n",
      "N1 ;N26;N24;N0 ;N28;N6 ;N3 ;N30\n",
      "\n",
      "N5 ;N6 ;N24;N26;N1 ;N7 ;N0 ;N28\n",
      "N13;N12;N15;N21;N17;N22;N14;N20\n",
      "N18;N8 ;N19;N23;N16;N9 ;N11;N10\n",
      "N29;N27;N31;N2 ;N3 ;N30;N25;N4 \n",
      "\n",
      "N2 ;N31;N3 ;N5 ;N6 ;N24;N0 ;N28\n",
      "N23;N19;N9 ;N16;N13;N12;N14;N20\n",
      "N21;N15;N22;N17;N18;N8 ;N11;N10\n",
      "N26;N7 ;N1 ;N29;N27;N30;N25;N4 \n",
      "\n",
      "N27;N31;N3 ;N5 ;N6 ;N0 ;N28;N2 \n",
      "N23;N19;N9 ;N16;N13;N12;N14;N20\n",
      "N21;N15;N22;N17;N18;N8 ;N11;N10\n",
      "N24;N7 ;N1 ;N29;N30;N25;N4 ;N26\n",
      "\n",
      "N7 ;N24;N30;N29;N2 ;N27;N28;N1 \n",
      "N15;N21;N8 ;N18;N17;N20;N14;N22\n",
      "N19;N23;N12;N13;N16;N10;N11;N9 \n",
      "N31;N0 ;N6 ;N5 ;N26;N25;N4 ;N3 \n",
      "\n",
      "N7 ;N24;N2 ;N27;N29;N30;N4 ;N25\n",
      "N15;N21;N17;N20;N9 ;N18;N8 ;N11\n",
      "N19;N23;N16;N10;N22;N13;N12;N14\n",
      "N31;N0 ;N26;N1 ;N5 ;N6 ;N28;N3 \n",
      "\n",
      "N3 ;N28;N2 ;N29;N27;N30;N0 ;N31\n",
      "N14;N12;N17;N20;N9 ;N18;N23;N19\n",
      "N11;N8 ;N16;N10;N22;N13;N21;N15\n",
      "N25;N4 ;N26;N5 ;N1 ;N6 ;N24;N7 \n",
      "\n",
      "N3 ;N5 ;N26;N4 ;N25;N30;N0 ;N31\n",
      "N14;N22;N10;N16;N8 ;N18;N23;N19\n",
      "N11;N9 ;N20;N17;N12;N13;N21;N15\n",
      "N27;N29;N2 ;N28;N1 ;N6 ;N24;N7 \n",
      "\n"
     ]
    }
   ],
   "source": [
    "state = initial_state\n",
    "print34(state)\n",
    "\n",
    "state = allowed_moves['f6'](state)\n",
    "state = allowed_moves['-r3'](state)\n",
    "state = allowed_moves['f3'](state)\n",
    "state = allowed_moves['r3'](state)\n",
    "print34(state)\n",
    "\n",
    "state = allowed_moves['-r3'](state)\n",
    "state = allowed_moves['f2'](state)\n",
    "state = allowed_moves['r3'](state)\n",
    "print34(state)\n",
    "\n",
    "state = allowed_moves['f4'](state)\n",
    "state = allowed_moves['f3'](state)\n",
    "state = allowed_moves['-r3'](state)\n",
    "state = allowed_moves['f1'](state)\n",
    "state = allowed_moves['r3'](state)\n",
    "print34(state)\n",
    "\n",
    "state = allowed_moves['f0'](state)\n",
    "state = allowed_moves['-r3'](state)\n",
    "state = allowed_moves['f2'](state)\n",
    "state = allowed_moves['r3'](state)\n",
    "print34(state)\n",
    "\n",
    "state = allowed_moves['f5'](state)\n",
    "state = allowed_moves['-r3'](state)\n",
    "state = allowed_moves['f5'](state)\n",
    "state = allowed_moves['r3'](state)\n",
    "print34(state)\n",
    "\n",
    "state = allowed_moves['f7'](state)\n",
    "state = allowed_moves['-r3'](state)\n",
    "state = allowed_moves['f2'](state)\n",
    "state = allowed_moves['r3'](state)\n",
    "print34(state)\n",
    "\n",
    "state = allowed_moves['f3'](state)\n",
    "state = allowed_moves['f2'](state)\n",
    "state = allowed_moves['-r3'](state)\n",
    "state = allowed_moves['f4'](state)\n",
    "state = allowed_moves['r3'](state)\n",
    "print34(state)\n",
    "\n",
    "state = allowed_moves['f4'](state)\n",
    "state = allowed_moves['-r0'](state)\n",
    "state = allowed_moves['f4'](state)\n",
    "state = allowed_moves['r0'](state)\n",
    "state = allowed_moves['-r3'](state)\n",
    "state = allowed_moves['f4'](state)\n",
    "state = allowed_moves['r3'](state)\n",
    "state = allowed_moves['f4'](state)\n",
    "state = allowed_moves['f6'](state)\n",
    "print34(state)\n",
    "\n",
    "state = allowed_moves['-r3'](state)\n",
    "state = allowed_moves['f1'](state)\n",
    "state = allowed_moves['r3'](state)\n",
    "print34(state)\n",
    "\n",
    "state2 = state"
   ]
  },
  {
   "cell_type": "code",
   "execution_count": 398,
   "id": "62409441-00d5-48a9-b4bb-1ddd465ab755",
   "metadata": {
    "scrolled": true
   },
   "outputs": [
    {
     "name": "stdout",
     "output_type": "stream",
     "text": [
      "N3 ;N5 ;N26;N4 ;N25;N30;N0 ;N31\n",
      "N14;N22;N10;N16;N8 ;N18;N23;N19\n",
      "N11;N9 ;N20;N17;N12;N13;N21;N15\n",
      "N27;N29;N2 ;N28;N1 ;N6 ;N24;N7 \n",
      "\n",
      "N3 ;N2 ;N0 ;N30;N29;N4 ;N25;N31\n",
      "N14;N23;N18;N9 ;N11;N16;N8 ;N19\n",
      "N10;N21;N13;N22;N20;N17;N12;N15\n",
      "N27;N26;N24;N6 ;N5 ;N28;N1 ;N7 \n",
      "\n",
      "N3 ;N2 ;N0 ;N1 ;N28;N5 ;N6 ;N31\n",
      "N14;N23;N18;N17;N20;N22;N13;N19\n",
      "N10;N21;N8 ;N16;N11;N9 ;N12;N15\n",
      "N27;N26;N24;N25;N4 ;N29;N30;N7 \n",
      "\n",
      "N25;N24;N26;N30;N29;N4 ;N3 ;N31\n",
      "N16;N8 ;N21;N9 ;N11;N14;N23;N19\n",
      "N17;N18;N13;N22;N20;N10;N12;N15\n",
      "N1 ;N0 ;N2 ;N6 ;N5 ;N28;N27;N7 \n",
      "\n",
      "N25;N24;N26;N30;N29;N4 ;N3 ;N31\n",
      "N8 ;N21;N12;N9 ;N11;N14;N23;N16\n",
      "N18;N13;N19;N22;N20;N10;N15;N17\n",
      "N1 ;N0 ;N2 ;N6 ;N5 ;N28;N27;N7 \n",
      "\n",
      "N6 ;N5 ;N0 ;N1 ;N7 ;N4 ;N3 ;N2 \n",
      "N22;N13;N18;N17;N9 ;N14;N23;N19\n",
      "N11;N21;N8 ;N16;N20;N10;N15;N12\n",
      "N30;N29;N24;N25;N31;N28;N27;N26\n",
      "\n",
      "N6 ;N5 ;N0 ;N4 ;N3 ;N2 ;N25;N31\n",
      "N22;N13;N18;N23;N19;N16;N8 ;N20\n",
      "N11;N21;N10;N15;N12;N17;N14;N9 \n",
      "N30;N29;N24;N28;N27;N26;N1 ;N7 \n",
      "\n",
      "N6 ;N5 ;N0 ;N4 ;N3 ;N2 ;N25;N31\n",
      "N22;N13;N18;N23;N16;N19;N8 ;N20\n",
      "N11;N21;N10;N15;N17;N12;N14;N9 \n",
      "N30;N29;N24;N28;N27;N26;N1 ;N7 \n",
      "\n",
      "N26;N31;N6 ;N4 ;N3 ;N1 ;N0 ;N5 \n",
      "N17;N20;N22;N23;N16;N18;N13;N12\n",
      "N14;N9 ;N11;N15;N8 ;N10;N21;N19\n",
      "N2 ;N7 ;N30;N28;N27;N25;N24;N29\n",
      "\n",
      "N26;N31;N6 ;N4 ;N3 ;N1 ;N0 ;N5 \n",
      "N17;N22;N23;N16;N14;N18;N13;N12\n",
      "N9 ;N11;N15;N8 ;N20;N10;N21;N19\n",
      "N2 ;N7 ;N30;N28;N27;N25;N24;N29\n",
      "\n",
      "N0 ;N2 ;N29;N31;N3 ;N4 ;N6 ;N1 \n",
      "N13;N9 ;N19;N14;N16;N23;N12;N18\n",
      "N21;N17;N11;N20;N8 ;N15;N22;N10\n",
      "N24;N26;N5 ;N7 ;N27;N28;N30;N25\n",
      "\n",
      "N28;N2 ;N29;N31;N6 ;N1 ;N0 ;N27\n",
      "N15;N9 ;N19;N14;N18;N13;N8 ;N20\n",
      "N23;N17;N11;N22;N10;N21;N16;N12\n",
      "N4 ;N26;N5 ;N7 ;N30;N25;N24;N3 \n",
      "\n",
      "N28;N2 ;N29;N31;N6 ;N1 ;N0 ;N27\n",
      "N20;N15;N9 ;N19;N14;N18;N13;N8 \n",
      "N23;N17;N11;N22;N10;N21;N16;N12\n",
      "N4 ;N26;N5 ;N7 ;N30;N25;N24;N3 \n",
      "\n",
      "N28;N2 ;N29;N31;N6 ;N1 ;N0 ;N27\n",
      "N20;N15;N16;N9 ;N19;N14;N13;N8 \n",
      "N23;N17;N18;N11;N22;N10;N21;N12\n",
      "N4 ;N26;N5 ;N7 ;N30;N25;N24;N3 \n",
      "\n",
      "N28;N27;N7 ;N5 ;N26;N24;N25;N30\n",
      "N20;N11;N18;N17;N23;N21;N10;N22\n",
      "N12;N9 ;N16;N15;N8 ;N13;N14;N19\n",
      "N4 ;N3 ;N31;N29;N2 ;N0 ;N1 ;N6 \n",
      "\n",
      "N28;N27;N7 ;N1 ;N0 ;N2 ;N29;N30\n",
      "N20;N11;N18;N13;N8 ;N15;N16;N22\n",
      "N12;N9 ;N10;N21;N23;N17;N14;N19\n",
      "N4 ;N3 ;N31;N25;N24;N26;N5 ;N6 \n",
      "\n",
      "N28;N24;N26;N27;N7 ;N1 ;N29;N30\n",
      "N20;N23;N11;N18;N13;N8 ;N16;N22\n",
      "N12;N15;N9 ;N10;N21;N17;N14;N19\n",
      "N4 ;N0 ;N2 ;N3 ;N31;N25;N5 ;N6 \n",
      "\n",
      "N25;N24;N26;N30;N28;N31;N3 ;N5 \n",
      "N17;N23;N11;N20;N21;N10;N9 ;N14\n",
      "N8 ;N15;N19;N12;N13;N18;N22;N16\n",
      "N1 ;N0 ;N2 ;N6 ;N4 ;N7 ;N27;N29\n",
      "\n",
      "N25;N24;N26;N27;N29;N30;N28;N31\n",
      "N17;N23;N11;N22;N20;N21;N10;N9 \n",
      "N8 ;N15;N19;N14;N12;N13;N18;N16\n",
      "N1 ;N0 ;N2 ;N3 ;N5 ;N6 ;N4 ;N7 \n",
      "\n",
      "N25;N24;N26;N27;N29;N30;N28;N31\n",
      "N17;N23;N11;N22;N20;N21;N9 ;N10\n",
      "N8 ;N15;N19;N14;N12;N13;N16;N18\n",
      "N1 ;N0 ;N2 ;N3 ;N5 ;N6 ;N4 ;N7 \n",
      "\n",
      "N29;N27;N7 ;N24;N26;N30;N28;N1 \n",
      "N22;N18;N16;N23;N11;N21;N9 ;N20\n",
      "N14;N10;N8 ;N15;N19;N13;N17;N12\n",
      "N5 ;N3 ;N31;N0 ;N2 ;N6 ;N4 ;N25\n",
      "\n"
     ]
    }
   ],
   "source": [
    "state = state2\n",
    "print34(state)\n",
    "\n",
    "state = allowed_moves['f2'](state)\n",
    "state = allowed_moves['f3'](state)\n",
    "state = allowed_moves['-r2'](state)\n",
    "state = allowed_moves['f1'](state)\n",
    "state = allowed_moves['r2'](state)\n",
    "print34(state)\n",
    "\n",
    "state = allowed_moves['-r2'](state)\n",
    "state = allowed_moves['f3'](state)\n",
    "state = allowed_moves['r2'](state)\n",
    "print34(state)\n",
    "\n",
    "state = allowed_moves['f0'](state)\n",
    "state = allowed_moves['-r2'](state)\n",
    "state = allowed_moves['f3'](state)\n",
    "state = allowed_moves['r2'](state)\n",
    "print34(state)\n",
    "\n",
    "state = allowed_moves['f7'](state)\n",
    "state = allowed_moves['-r2'](state)\n",
    "state = allowed_moves['f7'](state)\n",
    "state = allowed_moves['r2'](state)\n",
    "print34(state)\n",
    "\n",
    "state = allowed_moves['f7'](state)\n",
    "state = allowed_moves['f0'](state)\n",
    "state = allowed_moves['-r2'](state)\n",
    "state = allowed_moves['f1'](state)\n",
    "state = allowed_moves['r2'](state)\n",
    "print34(state)\n",
    "\n",
    "state = allowed_moves['f4'](state)\n",
    "state = allowed_moves['-r2'](state)\n",
    "state = allowed_moves['f3'](state)\n",
    "state = allowed_moves['r2'](state)\n",
    "print34(state)\n",
    "\n",
    "state = allowed_moves['f5'](state)\n",
    "state = allowed_moves['-r1'](state)\n",
    "state = allowed_moves['f5'](state)\n",
    "state = allowed_moves['r1'](state)\n",
    "state = allowed_moves['-r2'](state)\n",
    "state = allowed_moves['f5'](state)\n",
    "state = allowed_moves['r2'](state)\n",
    "state = allowed_moves['f5'](state)\n",
    "print34(state)\n",
    "\n",
    "state = allowed_moves['f6'](state)\n",
    "state = allowed_moves['f7'](state)\n",
    "state = allowed_moves['-r2'](state)\n",
    "state = allowed_moves['f5'](state)\n",
    "state = allowed_moves['r2'](state)\n",
    "print34(state)\n",
    "\n",
    "state = allowed_moves['f1'](state)\n",
    "state = allowed_moves['-r2'](state)\n",
    "state = allowed_moves['f1'](state)\n",
    "state = allowed_moves['r2'](state)\n",
    "print34(state)\n",
    "\n",
    "state = allowed_moves['f1'](state)\n",
    "state = allowed_moves['f7'](state)\n",
    "state = allowed_moves['f4'](state)\n",
    "state = allowed_moves['f5'](state)\n",
    "state = allowed_moves['-r2'](state)\n",
    "state = allowed_moves['f3'](state)\n",
    "state = allowed_moves['r2'](state)\n",
    "print34(state)\n",
    "\n",
    "state = allowed_moves['f5'](state)\n",
    "state = allowed_moves['-r2'](state)\n",
    "state = allowed_moves['f4'](state)\n",
    "state = allowed_moves['r2'](state)\n",
    "print34(state)\n",
    "\n",
    "state = allowed_moves['-r1'](state)\n",
    "print34(state)\n",
    "\n",
    "state = allowed_moves['f2'](state)\n",
    "state = allowed_moves['r2'](state)\n",
    "state = allowed_moves['f2'](state)\n",
    "state = allowed_moves['-r2'](state)\n",
    "print34(state)\n",
    "\n",
    "state = allowed_moves['f4'](state)\n",
    "state = allowed_moves['-r2'](state)\n",
    "state = allowed_moves['f1'](state)\n",
    "state = allowed_moves['r2'](state)\n",
    "print34(state)\n",
    "\n",
    "state = allowed_moves['-r2'](state)\n",
    "state = allowed_moves['f3'](state)\n",
    "state = allowed_moves['r2'](state)\n",
    "print34(state)\n",
    "\n",
    "state = allowed_moves['f1'](state)\n",
    "state = allowed_moves['-r2'](state)\n",
    "state = allowed_moves['f2'](state)\n",
    "state = allowed_moves['r2'](state)\n",
    "print34(state)\n",
    "\n",
    "state = allowed_moves['f5'](state)\n",
    "state = allowed_moves['-r2'](state)\n",
    "state = allowed_moves['f3'](state)\n",
    "state = allowed_moves['r2'](state)\n",
    "print34(state)\n",
    "\n",
    "state = allowed_moves['f3'](state)\n",
    "state = allowed_moves['-r2'](state)\n",
    "state = allowed_moves['f4'](state)\n",
    "state = allowed_moves['r2'](state)\n",
    "print34(state)\n",
    "\n",
    "state = allowed_moves['f7'](state)\n",
    "state = allowed_moves['-r1'](state)\n",
    "state = allowed_moves['f7'](state)\n",
    "state = allowed_moves['r1'](state)\n",
    "state = allowed_moves['-r2'](state)\n",
    "state = allowed_moves['f7'](state)\n",
    "state = allowed_moves['r2'](state)\n",
    "state = allowed_moves['f7'](state)\n",
    "print34(state)\n",
    "\n",
    "state = allowed_moves['f0'](state)\n",
    "state = allowed_moves['f1'](state)\n",
    "state = allowed_moves['-r2'](state)\n",
    "state = allowed_moves['f7'](state)\n",
    "state = allowed_moves['r2'](state)\n",
    "print34(state)\n",
    "\n",
    "\n",
    "state3 = state"
   ]
  },
  {
   "cell_type": "code",
   "execution_count": 399,
   "id": "fa14499e-2f2b-44b7-9039-f2b1c08a0fe0",
   "metadata": {},
   "outputs": [],
   "source": [
    "def count_correct_3_4(state, correct):\n",
    "    count = 0\n",
    "    for i in range(8):\n",
    "        # count += state[i] == correct[i] and state[i+24] == correct[i+24]\n",
    "        # count += (state[i] < state[i+24]) * 3\n",
    "        count += (int(state[i][1:]) < int(state[i+24][1:])) * 3\n",
    "        count += int(state[i][1:])//2 == int(correct[i][1:])//2\n",
    "    for i in range(8, 16):\n",
    "        # count += state[i] == correct[i] and state[i+8] == correct[i+8]\n",
    "        # count += (state[i] < state[i+8]) * 3\n",
    "        count += (int(state[i][1:]) < int(state[i+8][1:])) * 3\n",
    "        count += int(state[i][1:])//2 == int(correct[i][1:])//2\n",
    "    return count"
   ]
  },
  {
   "cell_type": "code",
   "execution_count": 400,
   "id": "38ce1d75-3f00-4aaf-a329-1317fd0ca3f6",
   "metadata": {},
   "outputs": [
    {
     "name": "stderr",
     "output_type": "stream",
     "text": [
      "  0%|                                                                                 | 8527/16429825 [00:00<06:25, 42547.50it/s]"
     ]
    },
    {
     "name": "stdout",
     "output_type": "stream",
     "text": [
      "13 ['N1', 'N27', 'N7', 'N24', 'N26', 'N30', 'N28', 'N29', 'N20', 'N18', 'N16', 'N23', 'N11', 'N21', 'N9', 'N22', 'N12', 'N10', 'N8', 'N15', 'N19', 'N13', 'N17', 'N14', 'N25', 'N3', 'N31', 'N0', 'N2', 'N6', 'N4', 'N5'] f0.-r0.-r1.f0.r0.r1.-r2.-r3.f0.r2.r3.f0\n",
      "19 ['N29', 'N27', 'N7', 'N25', 'N26', 'N30', 'N28', 'N0', 'N22', 'N18', 'N16', 'N12', 'N11', 'N21', 'N9', 'N15', 'N14', 'N10', 'N8', 'N20', 'N19', 'N13', 'N17', 'N23', 'N5', 'N3', 'N31', 'N1', 'N2', 'N6', 'N4', 'N24'] -r0.-r1.f0.r0.r1.-r2.-r3.f0.r2.r3\n",
      "24 ['N29', 'N6', 'N7', 'N24', 'N26', 'N3', 'N28', 'N1', 'N22', 'N13', 'N16', 'N23', 'N11', 'N10', 'N9', 'N20', 'N14', 'N21', 'N8', 'N15', 'N19', 'N18', 'N17', 'N12', 'N5', 'N30', 'N31', 'N0', 'N2', 'N27', 'N4', 'N25'] -r0.-r1.f2.r0.r1.-r2.-r3.f2.r2.r3\n",
      "26 ['N1', 'N27', 'N7', 'N5', 'N26', 'N30', 'N28', 'N0', 'N20', 'N18', 'N16', 'N14', 'N11', 'N21', 'N9', 'N15', 'N12', 'N10', 'N8', 'N22', 'N19', 'N13', 'N17', 'N23', 'N25', 'N3', 'N31', 'N29', 'N2', 'N6', 'N4', 'N24'] f0.-r0.-r1.f0.r0.r1.-r2.-r3.f0.r2.r3.f0.-r0.-r1.f0.r0.r1.-r2.-r3.f0.r2.r3\n",
      "31 ['N29', 'N6', 'N7', 'N25', 'N26', 'N3', 'N28', 'N0', 'N22', 'N13', 'N16', 'N12', 'N11', 'N10', 'N9', 'N15', 'N14', 'N21', 'N8', 'N20', 'N19', 'N18', 'N17', 'N23', 'N5', 'N30', 'N31', 'N1', 'N2', 'N27', 'N4', 'N24'] -r0.-r1.f0.r0.r1.-r2.-r3.f0.r2.r3.-r0.-r1.f2.r0.r1.-r2.-r3.f2.r2.r3\n",
      "38 ['N1', 'N6', 'N7', 'N5', 'N26', 'N3', 'N28', 'N0', 'N20', 'N13', 'N16', 'N14', 'N11', 'N10', 'N9', 'N15', 'N12', 'N21', 'N8', 'N22', 'N19', 'N18', 'N17', 'N23', 'N25', 'N30', 'N31', 'N29', 'N2', 'N27', 'N4', 'N24'] f0.-r0.-r1.f0.r0.r1.-r2.-r3.f0.r2.r3.f0.-r0.-r1.f0.r0.r1.-r2.-r3.f0.r2.r3.-r0.-r1.f2.r0.r1.-r2.-r3.f2.r2.r3\n",
      "39 ['N0', 'N6', 'N7', 'N26', 'N5', 'N3', 'N28', 'N1', 'N15', 'N13', 'N16', 'N11', 'N14', 'N10', 'N9', 'N20', 'N23', 'N21', 'N8', 'N19', 'N22', 'N18', 'N17', 'N12', 'N24', 'N30', 'N31', 'N2', 'N29', 'N27', 'N4', 'N25'] -r0.-r1.f2.r0.r1.-r2.-r3.f2.r2.r3.f4.-r0.-r1.f4.r0.r1.-r2.-r3.f4.r2.r3.f4.-r0.-r1.f1.r0.r1.-r2.-r3.f1.r2.r3\n"
     ]
    },
    {
     "name": "stderr",
     "output_type": "stream",
     "text": [
      "  0%|                                                                                | 21490/16429825 [00:00<06:22, 42877.67it/s]"
     ]
    },
    {
     "name": "stdout",
     "output_type": "stream",
     "text": [
      "40 ['N1', 'N6', 'N7', 'N26', 'N5', 'N3', 'N28', 'N0', 'N20', 'N13', 'N16', 'N11', 'N14', 'N10', 'N9', 'N15', 'N12', 'N21', 'N8', 'N19', 'N22', 'N18', 'N17', 'N23', 'N25', 'N30', 'N31', 'N2', 'N29', 'N27', 'N4', 'N24'] f0.-r0.-r1.f0.r0.r1.-r2.-r3.f0.r2.r3.f0.-r0.-r1.f0.r0.r1.-r2.-r3.f0.r2.r3.-r0.-r1.f2.r0.r1.-r2.-r3.f2.r2.r3.f4.-r0.-r1.f4.r0.r1.-r2.-r3.f4.r2.r3.f4\n",
      "41 ['N1', 'N6', 'N7', 'N26', 'N5', 'N3', 'N28', 'N0', 'N22', 'N13', 'N16', 'N11', 'N12', 'N10', 'N9', 'N15', 'N14', 'N21', 'N8', 'N19', 'N20', 'N18', 'N17', 'N23', 'N25', 'N30', 'N31', 'N2', 'N29', 'N27', 'N4', 'N24'] f0.-r0.f0.r0.-r3.f0.r3.f0.-r0.-r1.f0.r0.r1.-r2.-r3.f0.r2.r3.-r0.-r1.f2.r0.r1.-r2.-r3.f2.r2.r3.f4.-r0.-r1.f4.r0.r1.-r2.-r3.f4.r2.r3.f4\n"
     ]
    },
    {
     "name": "stderr",
     "output_type": "stream",
     "text": [
      "  1%|▍                                                                              | 100964/16429825 [00:02<06:16, 43385.49it/s]"
     ]
    },
    {
     "name": "stdout",
     "output_type": "stream",
     "text": [
      "44 ['N2', 'N6', 'N7', 'N4', 'N5', 'N3', 'N1', 'N0', 'N19', 'N13', 'N16', 'N12', 'N14', 'N10', 'N9', 'N15', 'N11', 'N21', 'N8', 'N20', 'N22', 'N18', 'N17', 'N23', 'N26', 'N30', 'N31', 'N28', 'N29', 'N27', 'N25', 'N24'] -r0.-r1.f1.r0.r1.-r2.-r3.f1.r2.r3.-r0.-r1.f2.r0.r1.-r2.-r3.f2.r2.r3.f7.-r0.f7.r0.-r3.f7.r3.f7.-r0.-r1.f0.r0.r1.-r2.-r3.f0.r2.r3\n"
     ]
    },
    {
     "name": "stderr",
     "output_type": "stream",
     "text": [
      "  3%|██▏                                                                            | 446394/16429825 [00:10<06:05, 43781.48it/s]"
     ]
    },
    {
     "name": "stdout",
     "output_type": "stream",
     "text": [
      "45 ['N2', 'N6', 'N7', 'N4', 'N5', 'N3', 'N1', 'N0', 'N19', 'N13', 'N16', 'N14', 'N12', 'N10', 'N9', 'N15', 'N11', 'N21', 'N8', 'N22', 'N20', 'N18', 'N17', 'N23', 'N26', 'N30', 'N31', 'N28', 'N29', 'N27', 'N25', 'N24'] f0.-r1.f0.r1.-r2.f0.r2.f0.-r0.-r1.f1.r0.r1.-r2.-r3.f1.r2.r3.-r0.-r1.f2.r0.r1.-r2.-r3.f2.r2.r3.f7.-r0.f7.r0.-r3.f7.r3.f7.-r0.-r1.f0.r0.r1.-r2.-r3.f0.r2.r3\n"
     ]
    },
    {
     "name": "stderr",
     "output_type": "stream",
     "text": [
      "  4%|██▊                                                                            | 582789/16429825 [00:13<06:08, 43031.09it/s]"
     ]
    },
    {
     "name": "stdout",
     "output_type": "stream",
     "text": [
      "46 ['N2', 'N6', 'N25', 'N7', 'N5', 'N3', 'N28', 'N0', 'N8', 'N13', 'N12', 'N11', 'N14', 'N10', 'N9', 'N15', 'N16', 'N21', 'N20', 'N19', 'N22', 'N18', 'N17', 'N23', 'N26', 'N30', 'N1', 'N31', 'N29', 'N27', 'N4', 'N24'] -r0.-r1.f0.r0.r1.-r2.-r3.f0.r2.r3.-r0.-r1.f2.r0.r1.-r2.-r3.f2.r2.r3.f3.-r0.-r1.f3.r0.r1.-r2.-r3.f3.r2.r3.f3.f4.-r1.f4.r1.-r2.f4.r2.f4.-r0.-r1.f1.r0.r1.-r2.-r3.f1.r2.r3\n",
      "47 ['N1', 'N6', 'N7', 'N26', 'N5', 'N3', 'N28', 'N0', 'N8', 'N13', 'N12', 'N11', 'N14', 'N10', 'N9', 'N15', 'N16', 'N21', 'N20', 'N19', 'N22', 'N18', 'N17', 'N23', 'N25', 'N30', 'N31', 'N2', 'N29', 'N27', 'N4', 'N24'] -r0.-r1.f0.r0.r1.-r2.-r3.f0.r2.r3.-r0.-r1.f2.r0.r1.-r2.-r3.f2.r2.r3.f3.-r1.f3.r1.-r2.f3.r2.f3.f4.-r0.-r1.f4.r0.r1.-r2.-r3.f4.r2.r3.f4.-r0.-r1.f1.r0.r1.-r2.-r3.f1.r2.r3\n"
     ]
    },
    {
     "name": "stderr",
     "output_type": "stream",
     "text": [
      " 11%|████████▋                                                                     | 1836044/16429825 [00:42<05:37, 43228.53it/s]"
     ]
    },
    {
     "name": "stdout",
     "output_type": "stream",
     "text": [
      "48 ['N1', 'N6', 'N7', 'N26', 'N5', 'N3', 'N28', 'N0', 'N8', 'N13', 'N14', 'N11', 'N12', 'N10', 'N9', 'N15', 'N16', 'N21', 'N22', 'N19', 'N20', 'N18', 'N17', 'N23', 'N25', 'N30', 'N31', 'N2', 'N29', 'N27', 'N4', 'N24'] f0.-r0.-r1.f0.r0.r1.-r2.-r3.f0.r2.r3.f0.-r0.-r1.f0.r0.r1.-r2.-r3.f0.r2.r3.-r0.-r1.f2.r0.r1.-r2.-r3.f2.r2.r3.f3.-r1.f3.r1.-r2.f3.r2.f3.f4.-r0.-r1.f4.r0.r1.-r2.-r3.f4.r2.r3.f4.-r1.f1.r1.-r2.f1.r2\n"
     ]
    },
    {
     "name": "stderr",
     "output_type": "stream",
     "text": [
      " 36%|████████████████████████████                                                  | 5903432/16429825 [02:16<04:05, 42877.89it/s]"
     ]
    },
    {
     "name": "stdout",
     "output_type": "stream",
     "text": [
      "52 ['N2', 'N6', 'N4', 'N7', 'N5', 'N3', 'N1', 'N0', 'N8', 'N13', 'N12', 'N11', 'N14', 'N10', 'N9', 'N15', 'N16', 'N21', 'N20', 'N19', 'N22', 'N18', 'N17', 'N23', 'N26', 'N30', 'N28', 'N31', 'N29', 'N27', 'N25', 'N24'] -r0.-r1.f0.r0.r1.-r2.-r3.f0.r2.r3.-r0.-r1.f2.r0.r1.-r2.-r3.f2.r2.r3.f3.-r0.-r1.f3.r0.r1.-r2.-r3.f3.r2.r3.f3.-r0.f3.r0.-r3.f3.r3.f4.-r1.f4.r1.-r2.f4.r2.f4.-r0.-r1.f1.r0.r1.-r2.-r3.f1.r2.r3\n"
     ]
    },
    {
     "name": "stderr",
     "output_type": "stream",
     "text": [
      "100%|█████████████████████████████████████████████████████████████████████████████| 16429825/16429825 [06:20<00:00, 43177.71it/s]"
     ]
    },
    {
     "name": "stdout",
     "output_type": "stream",
     "text": [
      "52 ['N2', 'N6', 'N4', 'N7', 'N5', 'N3', 'N1', 'N0', 'N8', 'N13', 'N12', 'N11', 'N14', 'N10', 'N9', 'N15', 'N16', 'N21', 'N20', 'N19', 'N22', 'N18', 'N17', 'N23', 'N26', 'N30', 'N28', 'N31', 'N29', 'N27', 'N25', 'N24'] -r0.-r1.f0.r0.r1.-r2.-r3.f0.r2.r3.-r0.-r1.f2.r0.r1.-r2.-r3.f2.r2.r3.f3.-r0.-r1.f3.r0.r1.-r2.-r3.f3.r2.r3.f3.-r0.f3.r0.-r3.f3.r3.f4.-r1.f4.r1.-r2.f4.r2.f4.-r0.-r1.f1.r0.r1.-r2.-r3.f1.r2.r3\n"
     ]
    },
    {
     "name": "stderr",
     "output_type": "stream",
     "text": [
      "\n"
     ]
    }
   ],
   "source": [
    "state = state3\n",
    "moves_list = []\n",
    "correct_num = count_correct_3_4(state, solution_state)\n",
    "max_correct_num = correct_num\n",
    "max_correct_state = []\n",
    "max_correct_moves = ''\n",
    "\n",
    "for key in tqdm.tqdm(solve_dict_rev, total=len(solve_dict_rev)):\n",
    "    state = state3\n",
    "    new_state = Permutation(solve_dict_rev[key])(state)\n",
    "    correct_num = count_correct_3_4(new_state, solution_state)\n",
    "    if max_correct_num < correct_num:\n",
    "        max_correct_num = correct_num\n",
    "        max_correct_state = new_state\n",
    "        max_correct_moves = key\n",
    "        print(max_correct_num, max_correct_state, max_correct_moves)\n",
    "print(max_correct_num, max_correct_state, max_correct_moves)"
   ]
  },
  {
   "cell_type": "code",
   "execution_count": 401,
   "id": "cdb6752a-64cd-4782-9080-c2a1c529e7d3",
   "metadata": {
    "scrolled": true
   },
   "outputs": [
    {
     "name": "stdout",
     "output_type": "stream",
     "text": [
      "N2 ;N6 ;N4 ;N7 ;N5 ;N3 ;N1 ;N0 \n",
      "N8 ;N13;N12;N11;N14;N10;N9 ;N15\n",
      "N16;N21;N20;N19;N22;N18;N17;N23\n",
      "N26;N30;N28;N31;N29;N27;N25;N24\n",
      "\n"
     ]
    }
   ],
   "source": [
    "print34(max_correct_state)"
   ]
  },
  {
   "cell_type": "code",
   "execution_count": 402,
   "id": "be88d447-bad8-49a2-ac90-0adf9d479ca8",
   "metadata": {},
   "outputs": [
    {
     "name": "stderr",
     "output_type": "stream",
     "text": [
      "  0%|                                                                                 | 4285/16429825 [00:00<06:24, 42760.53it/s]"
     ]
    },
    {
     "name": "stdout",
     "output_type": "stream",
     "text": [
      "53 ['N0', 'N6', 'N4', 'N7', 'N5', 'N3', 'N1', 'N2', 'N8', 'N13', 'N12', 'N11', 'N14', 'N10', 'N9', 'N15', 'N16', 'N21', 'N20', 'N19', 'N22', 'N18', 'N17', 'N23', 'N24', 'N30', 'N28', 'N31', 'N29', 'N27', 'N25', 'N26'] f0.-r0.f0.r0.-r3.f0.r3.f0\n",
      "54 ['N0', 'N2', 'N4', 'N7', 'N5', 'N3', 'N1', 'N6', 'N13', 'N8', 'N12', 'N11', 'N14', 'N10', 'N9', 'N15', 'N21', 'N16', 'N20', 'N19', 'N22', 'N18', 'N17', 'N23', 'N24', 'N26', 'N28', 'N31', 'N29', 'N27', 'N25', 'N30'] f1.-r0.-r1.f1.r0.r1.-r2.-r3.f1.r2.r3.f1.f0.-r0.f0.r0.-r3.f0.r3.f0\n",
      "55 ['N0', 'N4', 'N2', 'N7', 'N5', 'N3', 'N1', 'N6', 'N13', 'N8', 'N12', 'N11', 'N14', 'N10', 'N9', 'N15', 'N21', 'N16', 'N20', 'N19', 'N22', 'N18', 'N17', 'N23', 'N24', 'N28', 'N26', 'N31', 'N29', 'N27', 'N25', 'N30'] f1.-r0.-r1.f1.r0.r1.-r2.-r3.f1.r2.r3.f1.f0.-r0.f0.r0.-r3.f0.r3.f0.f2.-r0.f2.r0.-r3.f2.r3.f2\n"
     ]
    },
    {
     "name": "stderr",
     "output_type": "stream",
     "text": [
      "  0%|                                                                                | 17472/16429825 [00:00<06:15, 43672.66it/s]"
     ]
    },
    {
     "name": "stdout",
     "output_type": "stream",
     "text": [
      "56 ['N2', 'N6', 'N7', 'N3', 'N4', 'N5', 'N1', 'N0', 'N8', 'N13', 'N11', 'N10', 'N12', 'N14', 'N9', 'N15', 'N16', 'N21', 'N19', 'N18', 'N20', 'N22', 'N17', 'N23', 'N26', 'N30', 'N31', 'N27', 'N28', 'N29', 'N25', 'N24'] f3.-r0.-r1.f3.r0.r1.-r2.-r3.f3.r2.r3.f3.f5.-r0.-r1.f5.r0.r1.-r2.-r3.f5.r2.r3.f5.f4.-r0.-r1.f4.r0.r1.-r2.-r3.f4.r2.r3.f4\n"
     ]
    },
    {
     "name": "stderr",
     "output_type": "stream",
     "text": [
      "  0%|▏                                                                               | 34984/16429825 [00:00<06:15, 43678.76it/s]"
     ]
    },
    {
     "name": "stdout",
     "output_type": "stream",
     "text": [
      "57 ['N0', 'N6', 'N7', 'N3', 'N4', 'N5', 'N1', 'N2', 'N8', 'N13', 'N11', 'N10', 'N12', 'N14', 'N9', 'N15', 'N16', 'N21', 'N19', 'N18', 'N20', 'N22', 'N17', 'N23', 'N24', 'N30', 'N31', 'N27', 'N28', 'N29', 'N25', 'N26'] f0.-r0.f0.r0.-r3.f0.r3.f0.f3.-r0.-r1.f3.r0.r1.-r2.-r3.f3.r2.r3.f3.f5.-r0.-r1.f5.r0.r1.-r2.-r3.f5.r2.r3.f5.f4.-r0.-r1.f4.r0.r1.-r2.-r3.f4.r2.r3.f4\n"
     ]
    },
    {
     "name": "stderr",
     "output_type": "stream",
     "text": [
      "  2%|█▊                                                                             | 377169/16429825 [00:08<06:05, 43873.68it/s]"
     ]
    },
    {
     "name": "stdout",
     "output_type": "stream",
     "text": [
      "58 ['N0', 'N6', 'N7', 'N3', 'N4', 'N5', 'N1', 'N2', 'N8', 'N13', 'N11', 'N10', 'N12', 'N9', 'N14', 'N15', 'N16', 'N21', 'N19', 'N18', 'N20', 'N17', 'N22', 'N23', 'N24', 'N30', 'N31', 'N27', 'N28', 'N29', 'N25', 'N26'] f0.-r0.f0.r0.-r3.f0.r3.f0.f3.-r0.-r1.f3.r0.r1.-r2.-r3.f3.r2.r3.f3.f5.-r0.-r1.f5.r0.r1.-r2.-r3.f5.r2.r3.f5.f4.-r0.-r1.f4.r0.r1.-r2.-r3.f4.r2.r3.f4.f6.-r1.f6.r1.-r2.f6.r2.f6\n"
     ]
    },
    {
     "name": "stderr",
     "output_type": "stream",
     "text": [
      " 49%|██████████████████████████████████████▍                                       | 8087014/16429825 [03:06<03:09, 44092.90it/s]"
     ]
    },
    {
     "name": "stdout",
     "output_type": "stream",
     "text": [
      "59 ['N0', 'N7', 'N2', 'N3', 'N4', 'N5', 'N1', 'N6', 'N13', 'N8', 'N11', 'N10', 'N12', 'N14', 'N9', 'N15', 'N21', 'N16', 'N19', 'N18', 'N20', 'N22', 'N17', 'N23', 'N24', 'N31', 'N26', 'N27', 'N28', 'N29', 'N25', 'N30'] f1.-r0.-r1.f1.r0.r1.-r2.-r3.f1.r2.r3.f1.f0.-r0.f0.r0.-r3.f0.r3.f0.f3.-r0.-r1.f3.r0.r1.-r2.-r3.f3.r2.r3.f3.f2.-r0.f2.r0.-r3.f2.r3.f2.f5.-r0.-r1.f5.r0.r1.-r2.-r3.f5.r2.r3.f5.f4.-r0.-r1.f4.r0.r1.-r2.-r3.f4.r2.r3.f4\n"
     ]
    },
    {
     "name": "stderr",
     "output_type": "stream",
     "text": [
      "100%|█████████████████████████████████████████████████████████████████████████████| 16429825/16429825 [06:17<00:00, 43499.18it/s]"
     ]
    },
    {
     "name": "stdout",
     "output_type": "stream",
     "text": [
      "59 ['N0', 'N7', 'N2', 'N3', 'N4', 'N5', 'N1', 'N6', 'N13', 'N8', 'N11', 'N10', 'N12', 'N14', 'N9', 'N15', 'N21', 'N16', 'N19', 'N18', 'N20', 'N22', 'N17', 'N23', 'N24', 'N31', 'N26', 'N27', 'N28', 'N29', 'N25', 'N30'] f1.-r0.-r1.f1.r0.r1.-r2.-r3.f1.r2.r3.f1.f0.-r0.f0.r0.-r3.f0.r3.f0.f3.-r0.-r1.f3.r0.r1.-r2.-r3.f3.r2.r3.f3.f2.-r0.f2.r0.-r3.f2.r3.f2.f5.-r0.-r1.f5.r0.r1.-r2.-r3.f5.r2.r3.f5.f4.-r0.-r1.f4.r0.r1.-r2.-r3.f4.r2.r3.f4\n"
     ]
    },
    {
     "name": "stderr",
     "output_type": "stream",
     "text": [
      "\n"
     ]
    }
   ],
   "source": [
    "tuning2 = max_correct_state\n",
    "moves_list = []\n",
    "correct_num = count_correct_3_4(tuning2, solution_state)\n",
    "max_correct_num = correct_num\n",
    "max_correct_state = []\n",
    "max_correct_moves = ''\n",
    "\n",
    "for key in tqdm.tqdm(solve_dict_rev, total=len(solve_dict_rev)):\n",
    "    state = tuning2\n",
    "    new_state = Permutation(solve_dict_rev[key])(state)\n",
    "    correct_num = count_correct_3_4(new_state, solution_state)\n",
    "    if max_correct_num < correct_num:\n",
    "        max_correct_num = correct_num\n",
    "        max_correct_state = new_state\n",
    "        max_correct_moves = key\n",
    "        print(max_correct_num, max_correct_state, max_correct_moves)\n",
    "print(max_correct_num, max_correct_state, max_correct_moves)"
   ]
  },
  {
   "cell_type": "code",
   "execution_count": 403,
   "id": "b92ac3d0-7907-43ff-85eb-541184a3fafa",
   "metadata": {
    "scrolled": true
   },
   "outputs": [
    {
     "name": "stdout",
     "output_type": "stream",
     "text": [
      "N0 ;N7 ;N2 ;N3 ;N4 ;N5 ;N1 ;N6 \n",
      "N13;N8 ;N11;N10;N12;N14;N9 ;N15\n",
      "N21;N16;N19;N18;N20;N22;N17;N23\n",
      "N24;N31;N26;N27;N28;N29;N25;N30\n",
      "\n"
     ]
    }
   ],
   "source": [
    "print34(max_correct_state)"
   ]
  },
  {
   "cell_type": "code",
   "execution_count": 404,
   "id": "608fd55e-846d-43e6-a991-b712e9fb7c94",
   "metadata": {},
   "outputs": [
    {
     "name": "stderr",
     "output_type": "stream",
     "text": [
      "  0%|                                                                                 | 4411/16429825 [00:00<06:14, 43853.46it/s]"
     ]
    },
    {
     "name": "stdout",
     "output_type": "stream",
     "text": [
      "60 ['N0', 'N7', 'N2', 'N3', 'N4', 'N5', 'N1', 'N6', 'N13', 'N8', 'N11', 'N10', 'N12', 'N9', 'N14', 'N15', 'N21', 'N16', 'N19', 'N18', 'N20', 'N17', 'N22', 'N23', 'N24', 'N31', 'N26', 'N27', 'N28', 'N29', 'N25', 'N30'] f6.-r1.f6.r1.-r2.f6.r2.f6\n",
      "61 ['N1', 'N0', 'N2', 'N3', 'N4', 'N5', 'N6', 'N7', 'N9', 'N13', 'N11', 'N10', 'N12', 'N14', 'N15', 'N8', 'N17', 'N21', 'N19', 'N18', 'N20', 'N22', 'N23', 'N16', 'N25', 'N24', 'N26', 'N27', 'N28', 'N29', 'N30', 'N31'] f1.-r0.-r1.f1.r0.r1.-r2.-r3.f1.r2.r3.f1.f7.-r0.-r1.f7.r0.r1.-r2.-r3.f7.r2.r3.f7.f0.-r0.-r1.f0.r0.r1.-r2.-r3.f0.r2.r3.f0\n",
      "62 ['N1', 'N0', 'N2', 'N3', 'N4', 'N5', 'N6', 'N7', 'N9', 'N8', 'N11', 'N10', 'N12', 'N14', 'N15', 'N13', 'N17', 'N16', 'N19', 'N18', 'N20', 'N22', 'N23', 'N21', 'N25', 'N24', 'N26', 'N27', 'N28', 'N29', 'N30', 'N31'] f1.-r0.f1.r0.-r3.f1.r3.f1.f7.-r0.-r1.f7.r0.r1.-r2.-r3.f7.r2.r3.f7.f0.-r0.-r1.f0.r0.r1.-r2.-r3.f0.r2.r3.f0\n"
     ]
    },
    {
     "name": "stderr",
     "output_type": "stream",
     "text": [
      "  3%|██                                                                             | 436977/16429825 [00:09<06:01, 44204.00it/s]"
     ]
    },
    {
     "name": "stdout",
     "output_type": "stream",
     "text": [
      "64 ['N1', 'N0', 'N2', 'N3', 'N4', 'N5', 'N6', 'N7', 'N9', 'N8', 'N11', 'N10', 'N12', 'N13', 'N14', 'N15', 'N17', 'N16', 'N19', 'N18', 'N20', 'N21', 'N22', 'N23', 'N25', 'N24', 'N26', 'N27', 'N28', 'N29', 'N30', 'N31'] f0.-r1.f0.r1.-r2.f0.r2.f0.f1.-r0.f1.r0.-r3.f1.r3.f1.f7.-r0.-r1.f7.r0.r1.-r2.-r3.f7.r2.r3.f7.f0.-r0.-r1.f0.r0.r1.-r2.-r3.f0.r2.r3.f0.f6.-r1.f6.r1.-r2.f6.r2.f6\n"
     ]
    },
    {
     "name": "stderr",
     "output_type": "stream",
     "text": [
      "100%|█████████████████████████████████████████████████████████████████████████████| 16429825/16429825 [06:20<00:00, 43153.91it/s]"
     ]
    },
    {
     "name": "stdout",
     "output_type": "stream",
     "text": [
      "64 ['N1', 'N0', 'N2', 'N3', 'N4', 'N5', 'N6', 'N7', 'N9', 'N8', 'N11', 'N10', 'N12', 'N13', 'N14', 'N15', 'N17', 'N16', 'N19', 'N18', 'N20', 'N21', 'N22', 'N23', 'N25', 'N24', 'N26', 'N27', 'N28', 'N29', 'N30', 'N31'] f0.-r1.f0.r1.-r2.f0.r2.f0.f1.-r0.f1.r0.-r3.f1.r3.f1.f7.-r0.-r1.f7.r0.r1.-r2.-r3.f7.r2.r3.f7.f0.-r0.-r1.f0.r0.r1.-r2.-r3.f0.r2.r3.f0.f6.-r1.f6.r1.-r2.f6.r2.f6\n"
     ]
    },
    {
     "name": "stderr",
     "output_type": "stream",
     "text": [
      "\n"
     ]
    }
   ],
   "source": [
    "tuning3 = max_correct_state\n",
    "moves_list = []\n",
    "correct_num = count_correct_3_4(tuning3, solution_state)\n",
    "max_correct_num = correct_num\n",
    "max_correct_state = []\n",
    "max_correct_moves = ''\n",
    "\n",
    "for key in tqdm.tqdm(solve_dict_rev, total=len(solve_dict_rev)):\n",
    "    state = tuning3\n",
    "    new_state = Permutation(solve_dict_rev[key])(state)\n",
    "    correct_num = count_correct_3_4(new_state, solution_state)\n",
    "    if max_correct_num < correct_num:\n",
    "        max_correct_num = correct_num\n",
    "        max_correct_state = new_state\n",
    "        max_correct_moves = key\n",
    "        print(max_correct_num, max_correct_state, max_correct_moves)\n",
    "print(max_correct_num, max_correct_state, max_correct_moves)"
   ]
  },
  {
   "cell_type": "code",
   "execution_count": 405,
   "id": "32873aca-2c9e-4705-99e5-f235495170a3",
   "metadata": {
    "scrolled": true
   },
   "outputs": [
    {
     "name": "stdout",
     "output_type": "stream",
     "text": [
      "N1 ;N0 ;N2 ;N3 ;N4 ;N5 ;N6 ;N7 \n",
      "N9 ;N8 ;N11;N10;N12;N13;N14;N15\n",
      "N17;N16;N19;N18;N20;N21;N22;N23\n",
      "N25;N24;N26;N27;N28;N29;N30;N31\n",
      "\n"
     ]
    }
   ],
   "source": [
    "print34(max_correct_state)"
   ]
  },
  {
   "cell_type": "code",
   "execution_count": 406,
   "id": "74cd489d-070c-49bd-9bb4-a2501c3300ee",
   "metadata": {},
   "outputs": [
    {
     "name": "stdout",
     "output_type": "stream",
     "text": [
      "N0 ;N1 ;N2 ;N3 ;N4 ;N5 ;N6 ;N7 \n",
      "N8 ;N9 ;N10;N11;N12;N13;N14;N15\n",
      "N16;N17;N18;N19;N20;N21;N22;N23\n",
      "N24;N25;N26;N27;N28;N29;N30;N31\n",
      "\n"
     ]
    }
   ],
   "source": [
    "tuning4 = max_correct_state\n",
    "state = tuning4\n",
    "\n",
    "state = allowed_moves['f1'](state)\n",
    "state = allowed_moves['-r0'](state)\n",
    "state = allowed_moves['-r1'](state)\n",
    "state = allowed_moves['f1'](state)\n",
    "state = allowed_moves['r0'](state)\n",
    "state = allowed_moves['r1'](state)\n",
    "state = allowed_moves['-r2'](state)\n",
    "state = allowed_moves['-r3'](state)\n",
    "state = allowed_moves['f1'](state)\n",
    "state = allowed_moves['r2'](state)\n",
    "state = allowed_moves['r3'](state)\n",
    "state = allowed_moves['f1'](state)\n",
    "\n",
    "state = allowed_moves['f3'](state)\n",
    "state = allowed_moves['-r1'](state)\n",
    "state = allowed_moves['f3'](state)\n",
    "state = allowed_moves['r1'](state)\n",
    "state = allowed_moves['-r2'](state)\n",
    "state = allowed_moves['f3'](state)\n",
    "state = allowed_moves['r2'](state)\n",
    "state = allowed_moves['f3'](state)\n",
    "print34(state)"
   ]
  },
  {
   "cell_type": "code",
   "execution_count": null,
   "id": "db594a5e-2af6-421a-ab7a-4dd0dce9af76",
   "metadata": {},
   "outputs": [],
   "source": []
  },
  {
   "cell_type": "code",
   "execution_count": null,
   "id": "b854644f-82e4-4420-b861-0a15605c1ab6",
   "metadata": {},
   "outputs": [],
   "source": []
  },
  {
   "cell_type": "code",
   "execution_count": null,
   "id": "34966281-43b5-44ec-a5aa-731da269bb1b",
   "metadata": {},
   "outputs": [],
   "source": []
  },
  {
   "cell_type": "code",
   "execution_count": null,
   "id": "06e5b67b-39d1-404d-9856-e62763cd34b4",
   "metadata": {},
   "outputs": [],
   "source": []
  },
  {
   "cell_type": "code",
   "execution_count": 271,
   "id": "bcd274d4-1268-4557-9a15-01a8e1fd7c2b",
   "metadata": {},
   "outputs": [
    {
     "name": "stdout",
     "output_type": "stream",
     "text": [
      "N0 ;N1 ;N2 ;N3 ;N4 ;N5 ;N6 ;N7 \n",
      "N8 ;N9 ;N10;N11;N12;N13;N14;N15\n",
      "N16;N17;N18;N19;N20;N21;N22;N23\n",
      "N24;N25;N26;N27;N28;N29;N30;N31\n",
      "\n"
     ]
    }
   ],
   "source": [
    "solution_state = subset.loc[372].solution_state.split(';')\n",
    "print34(solution_state)\n",
    "initial_state = subset.loc[372].initial_state.split(';')"
   ]
  },
  {
   "cell_type": "code",
   "execution_count": 280,
   "id": "19f229bc-1d99-4626-847d-349bd79017c0",
   "metadata": {},
   "outputs": [
    {
     "name": "stdout",
     "output_type": "stream",
     "text": [
      "N5 ;N28;N1 ;N30;N29;N27;N4 ;N6 \n",
      "N20;N12;N19;N10;N18;N16;N23;N14\n",
      "N11;N13;N22;N9 ;N17;N21;N8 ;N15\n",
      "N7 ;N0 ;N2 ;N26;N31;N24;N3 ;N25\n",
      "\n",
      "N5 ;N26;N2 ;N0 ;N7 ;N27;N4 ;N6 \n",
      "N20;N17;N9 ;N22;N13;N16;N23;N14\n",
      "N11;N18;N10;N19;N12;N21;N8 ;N15\n",
      "N29;N30;N1 ;N28;N31;N24;N3 ;N25\n",
      "\n",
      "N26;N24;N2 ;N0 ;N7 ;N27;N6 ;N5 \n",
      "N20;N17;N9 ;N22;N13;N16;N23;N14\n",
      "N11;N18;N10;N19;N12;N21;N8 ;N15\n",
      "N30;N4 ;N1 ;N28;N31;N3 ;N25;N29\n",
      "\n",
      "N26;N4 ;N27;N7 ;N30;N0 ;N6 ;N5 \n",
      "N20;N10;N18;N16;N13;N22;N23;N14\n",
      "N11;N9 ;N17;N21;N12;N19;N8 ;N15\n",
      "N2 ;N24;N3 ;N31;N1 ;N28;N25;N29\n",
      "\n",
      "N26;N7 ;N30;N27;N4 ;N28;N1 ;N5 \n",
      "N20;N16;N13;N8 ;N18;N10;N19;N14\n",
      "N11;N21;N12;N23;N17;N9 ;N22;N15\n",
      "N2 ;N31;N6 ;N3 ;N24;N0 ;N25;N29\n",
      "\n",
      "N5 ;N26;N30;N27;N4 ;N2 ;N28;N1 \n",
      "N19;N14;N13;N8 ;N18;N11;N21;N10\n",
      "N22;N15;N12;N23;N17;N20;N16;N9 \n",
      "N29;N31;N6 ;N3 ;N24;N7 ;N0 ;N25\n",
      "\n",
      "N5 ;N27;N4 ;N30;N26;N7 ;N24;N1 \n",
      "N19;N8 ;N18;N16;N13;N14;N20;N10\n",
      "N22;N23;N17;N21;N12;N15;N11;N9 \n",
      "N29;N3 ;N28;N6 ;N31;N2 ;N0 ;N25\n",
      "\n",
      "N31;N27;N4 ;N30;N26;N24;N1 ;N5 \n",
      "N19;N8 ;N18;N16;N13;N14;N20;N10\n",
      "N22;N23;N17;N21;N12;N15;N11;N9 \n",
      "N7 ;N3 ;N28;N6 ;N2 ;N0 ;N25;N29\n",
      "\n"
     ]
    }
   ],
   "source": [
    "state = initial_state\n",
    "print34(state)\n",
    "\n",
    "state = allowed_moves['-r3'](state)\n",
    "state = allowed_moves['f1'](state)\n",
    "state = allowed_moves['r3'](state)\n",
    "print34(state)\n",
    "\n",
    "state = allowed_moves['f6'](state)\n",
    "state = allowed_moves['-r3'](state)\n",
    "state = allowed_moves['f6'](state)\n",
    "state = allowed_moves['r3'](state)\n",
    "print34(state)\n",
    "\n",
    "state = allowed_moves['f1'](state)\n",
    "state = allowed_moves['f2'](state)\n",
    "state = allowed_moves['-r3'](state)\n",
    "state = allowed_moves['f1'](state)\n",
    "state = allowed_moves['r3'](state)\n",
    "print34(state)\n",
    "\n",
    "state = allowed_moves['f2'](state)\n",
    "state = allowed_moves['f1'](state)\n",
    "state = allowed_moves['-r3'](state)\n",
    "state = allowed_moves['f3'](state)\n",
    "state = allowed_moves['r3'](state)\n",
    "print34(state)\n",
    "\n",
    "state = allowed_moves['f5'](state)\n",
    "state = allowed_moves['-r3'](state)\n",
    "state = allowed_moves['f6'](state)\n",
    "state = allowed_moves['r3'](state)\n",
    "print34(state)\n",
    "\n",
    "state = allowed_moves['f2'](state)\n",
    "state = allowed_moves['f1'](state)\n",
    "state = allowed_moves['-r3'](state)\n",
    "state = allowed_moves['f3'](state)\n",
    "state = allowed_moves['r3'](state)\n",
    "print34(state)\n",
    "\n",
    "state = allowed_moves['f5'](state)\n",
    "state = allowed_moves['-r3'](state)\n",
    "state = allowed_moves['f5'](state)\n",
    "state = allowed_moves['r3'](state)\n",
    "print34(state)\n",
    "\n",
    "state2 = state"
   ]
  },
  {
   "cell_type": "code",
   "execution_count": 248,
   "id": "70aba4de-a3e4-4127-9937-04ef491c4014",
   "metadata": {},
   "outputs": [
    {
     "name": "stdout",
     "output_type": "stream",
     "text": [
      "N27;N1;N2;N6;N0;N28;N29;N31\n",
      "N16;N18;N22;N11;N15;N21;N20;N17\n",
      "N8;N10;N14;N19;N23;N13;N12;N9\n",
      "N3;N25;N26;N30;N24;N4;N5;N7\n",
      "\n"
     ]
    }
   ],
   "source": [
    "state = state2\n",
    "print34(state)\n",
    "\n",
    "state3 = state"
   ]
  },
  {
   "cell_type": "code",
   "execution_count": null,
   "id": "f5a60049-cd9b-4fdf-8509-b93c77898afe",
   "metadata": {},
   "outputs": [],
   "source": []
  },
  {
   "cell_type": "code",
   "execution_count": null,
   "id": "92d756b9-10dc-442a-b3e5-5a8925dfb0ba",
   "metadata": {},
   "outputs": [],
   "source": []
  },
  {
   "cell_type": "code",
   "execution_count": null,
   "id": "ca138381-531f-40cb-9dd4-b444e01a6964",
   "metadata": {},
   "outputs": [],
   "source": []
  },
  {
   "cell_type": "code",
   "execution_count": null,
   "id": "178f12cf-20ac-43ff-b470-2b443c857a76",
   "metadata": {},
   "outputs": [],
   "source": []
  },
  {
   "cell_type": "code",
   "execution_count": null,
   "id": "1c11af55-9ab1-474c-a08a-2e0017c120be",
   "metadata": {},
   "outputs": [],
   "source": []
  },
  {
   "cell_type": "code",
   "execution_count": 346,
   "id": "506e4bd8-c1d0-4183-9308-c213dd3f7b19",
   "metadata": {},
   "outputs": [],
   "source": [
    "# globe_1/8の状態数\n",
    "allowed_moves = literal_eval(puzzle_info.loc['globe_1/8', 'allowed_moves'])\n",
    "allowed_moves = {k: Permutation(v) for k, v in allowed_moves.items()}\n",
    "key_list = list(allowed_moves.keys())\n",
    "for key in key_list:\n",
    "    if key[0] == \"r\":\n",
    "        allowed_moves[\"-\" + key] = allowed_moves[key] ** (-1)"
   ]
  },
  {
   "cell_type": "code",
   "execution_count": 16,
   "id": "af2b3fa5-a672-4ccb-87d0-00b9df684924",
   "metadata": {},
   "outputs": [
    {
     "name": "stdout",
     "output_type": "stream",
     "text": [
      "A  ;A  ;C  ;C  ;E  ;E  ;G  ;G  ;I  ;I  ;K  ;K  ;M  ;M  ;O  ;O  \n",
      "B  ;B  ;D  ;D  ;F  ;F  ;H  ;H  ;J  ;J  ;L  ;L  ;N  ;N  ;P  ;P  \n",
      "\n",
      "I  ;P  ;O  ;A  ;A  ;D  ;F  ;L  ;J  ;M  ;G  ;M  ;P  ;F  ;E  ;J  \n",
      "E  ;B  ;O  ;G  ;H  ;D  ;N  ;L  ;N  ;I  ;B  ;K  ;C  ;C  ;K  ;H  \n",
      "\n"
     ]
    }
   ],
   "source": [
    "problem_no = 338\n",
    "solution_state = puzzles.loc[problem_no].solution_state.split(';')\n",
    "print_globe_1_8(solution_state)\n",
    "initial_state = puzzles.loc[problem_no].initial_state.split(';')\n",
    "print_globe_1_8(initial_state)"
   ]
  },
  {
   "cell_type": "code",
   "execution_count": 49,
   "id": "8824f5ac-4b3d-4913-9a03-e035fcbe73fd",
   "metadata": {},
   "outputs": [
    {
     "name": "stdout",
     "output_type": "stream",
     "text": [
      "I  ;P  ;O  ;A  ;A  ;D  ;F  ;L  ;J  ;M  ;G  ;M  ;P  ;F  ;E  ;J  \n",
      "E  ;B  ;O  ;G  ;H  ;D  ;N  ;L  ;N  ;I  ;B  ;K  ;C  ;C  ;K  ;H  \n",
      "\n",
      "I  ;P  ;O  ;A  ;M  ;P  ;F  ;E  ;N  ;D  ;H  ;G  ;I  ;N  ;L  ;J  \n",
      "E  ;B  ;O  ;B  ;K  ;C  ;C  ;K  ;F  ;D  ;A  ;G  ;M  ;J  ;L  ;H  \n",
      "\n",
      "I  ;P  ;O  ;A  ;M  ;K  ;C  ;C  ;N  ;L  ;G  ;I  ;K  ;D  ;H  ;J  \n",
      "E  ;B  ;O  ;B  ;N  ;E  ;F  ;P  ;J  ;L  ;G  ;M  ;F  ;D  ;A  ;H  \n",
      "\n",
      "I  ;P  ;O  ;A  ;M  ;K  ;J  ;P  ;F  ;H  ;J  ;K  ;D  ;E  ;G  ;I  \n",
      "E  ;B  ;O  ;B  ;N  ;L  ;N  ;C  ;C  ;A  ;H  ;F  ;D  ;L  ;G  ;M  \n",
      "\n",
      "O  ;A  ;F  ;D  ;M  ;K  ;J  ;M  ;G  ;L  ;H  ;A  ;C  ;C  ;N  ;P  \n",
      "O  ;B  ;K  ;D  ;N  ;L  ;I  ;I  ;G  ;E  ;J  ;H  ;F  ;P  ;E  ;B  \n",
      "\n",
      "H  ;I  ;I  ;L  ;N  ;D  ;K  ;H  ;A  ;L  ;B  ;O  ;B  ;E  ;P  ;F  \n",
      "G  ;M  ;J  ;K  ;M  ;D  ;F  ;J  ;G  ;E  ;A  ;O  ;P  ;N  ;C  ;C  \n",
      "\n",
      "H  ;I  ;I  ;L  ;N  ;D  ;K  ;H  ;L  ;B  ;O  ;B  ;E  ;P  ;F  ;J  \n",
      "G  ;M  ;J  ;K  ;M  ;D  ;F  ;G  ;E  ;A  ;O  ;P  ;N  ;C  ;C  ;A  \n",
      "\n",
      "H  ;E  ;G  ;F  ;P  ;O  ;A  ;I  ;C  ;C  ;N  ;D  ;M  ;K  ;J  ;M  \n",
      "G  ;L  ;H  ;K  ;B  ;O  ;B  ;J  ;F  ;P  ;E  ;D  ;N  ;L  ;I  ;A  \n",
      "\n",
      "H  ;E  ;C  ;N  ;D  ;M  ;B  ;K  ;H  ;L  ;J  ;B  ;O  ;K  ;J  ;M  \n",
      "G  ;F  ;P  ;E  ;D  ;N  ;P  ;F  ;G  ;C  ;I  ;A  ;O  ;L  ;I  ;A  \n",
      "\n",
      "H  ;E  ;C  ;O  ;K  ;J  ;L  ;J  ;B  ;E  ;P  ;M  ;B  ;K  ;H  ;M  \n",
      "G  ;F  ;D  ;O  ;L  ;I  ;C  ;I  ;A  ;N  ;D  ;N  ;P  ;F  ;G  ;A  \n",
      "\n",
      "H  ;E  ;C  ;O  ;K  ;H  ;M  ;I  ;C  ;I  ;L  ;O  ;N  ;D  ;N  ;A  \n",
      "G  ;F  ;D  ;P  ;F  ;G  ;A  ;J  ;L  ;J  ;K  ;B  ;M  ;P  ;E  ;B  \n",
      "\n",
      "N  ;A  ;C  ;O  ;K  ;H  ;M  ;B  ;K  ;J  ;E  ;H  ;L  ;J  ;A  ;D  \n",
      "E  ;B  ;D  ;P  ;F  ;G  ;N  ;O  ;L  ;I  ;F  ;G  ;C  ;I  ;M  ;P  \n",
      "\n",
      "N  ;A  ;C  ;O  ;K  ;G  ;F  ;I  ;L  ;O  ;N  ;G  ;F  ;J  ;A  ;D  \n",
      "E  ;B  ;D  ;P  ;L  ;H  ;E  ;J  ;K  ;B  ;M  ;H  ;C  ;I  ;M  ;P  \n",
      "\n",
      "N  ;A  ;C  ;O  ;K  ;G  ;I  ;C  ;M  ;F  ;I  ;L  ;O  ;N  ;G  ;F  \n",
      "E  ;B  ;D  ;P  ;L  ;H  ;J  ;D  ;A  ;E  ;J  ;K  ;B  ;M  ;H  ;P  \n",
      "\n",
      "N  ;D  ;J  ;H  ;L  ;P  ;D  ;B  ;E  ;F  ;I  ;L  ;O  ;N  ;G  ;F  \n",
      "M  ;C  ;I  ;G  ;K  ;O  ;C  ;A  ;A  ;E  ;J  ;K  ;B  ;M  ;H  ;P  \n",
      "\n",
      "G  ;I  ;C  ;M  ;P  ;K  ;J  ;E  ;A  ;A  ;C  ;G  ;F  ;N  ;O  ;K  \n",
      "H  ;J  ;D  ;N  ;O  ;L  ;I  ;F  ;E  ;B  ;D  ;H  ;B  ;M  ;P  ;L  \n",
      "\n",
      "M  ;B  ;H  ;M  ;P  ;K  ;J  ;E  ;A  ;A  ;C  ;D  ;J  ;H  ;L  ;P  \n",
      "N  ;F  ;G  ;N  ;O  ;L  ;I  ;F  ;E  ;B  ;D  ;C  ;I  ;G  ;K  ;O  \n",
      "\n",
      "B  ;M  ;H  ;M  ;P  ;K  ;J  ;E  ;A  ;A  ;C  ;D  ;J  ;H  ;L  ;P  \n",
      "F  ;N  ;G  ;N  ;O  ;L  ;I  ;F  ;E  ;B  ;D  ;C  ;I  ;G  ;K  ;O  \n",
      "\n",
      "B  ;F  ;I  ;L  ;O  ;N  ;G  ;N  ;F  ;A  ;C  ;D  ;J  ;H  ;L  ;P  \n",
      "A  ;E  ;J  ;K  ;P  ;M  ;H  ;M  ;E  ;B  ;D  ;C  ;I  ;G  ;K  ;O  \n",
      "\n"
     ]
    }
   ],
   "source": [
    "state = initial_state\n",
    "print_globe_1_8(state)\n",
    "\n",
    "state = allowed_moves['f7'](state)\n",
    "state = allowed_moves['-r1'](state)\n",
    "state = allowed_moves['f4'](state)\n",
    "state = allowed_moves['r1'](state)\n",
    "print_globe_1_8(state)\n",
    "\n",
    "state = allowed_moves['f5'](state)\n",
    "state = allowed_moves['f7'](state)\n",
    "state = allowed_moves['-r1'](state)\n",
    "state = allowed_moves['f5'](state)\n",
    "state = allowed_moves['r1'](state)\n",
    "print_globe_1_8(state)\n",
    "\n",
    "state = allowed_moves['f6'](state)\n",
    "state = allowed_moves['f8'](state)\n",
    "state = allowed_moves['-r1'](state)\n",
    "state = allowed_moves['f6'](state)\n",
    "state = allowed_moves['r1'](state)\n",
    "print_globe_1_8(state)\n",
    "\n",
    "state = allowed_moves['f12'](state)\n",
    "state = allowed_moves['f11'](state)\n",
    "state = allowed_moves['-r1'](state)\n",
    "state = allowed_moves['f7'](state)\n",
    "state = allowed_moves['r1'](state)\n",
    "print_globe_1_8(state)\n",
    "\n",
    "state = allowed_moves['f10'](state)\n",
    "state = allowed_moves['-r1'](state)\n",
    "state = allowed_moves['f1'](state)\n",
    "state = allowed_moves['r1'](state)\n",
    "print_globe_1_8(state)\n",
    "\n",
    "state = allowed_moves['f8'](state)\n",
    "state = allowed_moves['-r1'](state)\n",
    "state = allowed_moves['f8'](state)\n",
    "state = allowed_moves['r1'](state)\n",
    "print_globe_1_8(state)\n",
    "\n",
    "state = allowed_moves['f1'](state)\n",
    "state = allowed_moves['f4'](state)\n",
    "state = allowed_moves['-r1'](state)\n",
    "state = allowed_moves['f8'](state)\n",
    "state = allowed_moves['r1'](state)\n",
    "print_globe_1_8(state)\n",
    "\n",
    "state = allowed_moves['f5'](state)\n",
    "state = allowed_moves['-r1'](state)\n",
    "state = allowed_moves['f2'](state)\n",
    "state = allowed_moves['r1'](state)\n",
    "print_globe_1_8(state)\n",
    "\n",
    "state = allowed_moves['f4'](state)\n",
    "state = allowed_moves['f7'](state)\n",
    "state = allowed_moves['-r1'](state)\n",
    "state = allowed_moves['f3'](state)\n",
    "state = allowed_moves['r1'](state)\n",
    "print_globe_1_8(state)\n",
    "\n",
    "state = allowed_moves['f8'](state)\n",
    "state = allowed_moves['-r1'](state)\n",
    "state = allowed_moves['f4'](state)\n",
    "state = allowed_moves['r1'](state)\n",
    "print_globe_1_8(state)\n",
    "\n",
    "state = allowed_moves['f9'](state)\n",
    "state = allowed_moves['f10'](state)\n",
    "state = allowed_moves['-r1'](state)\n",
    "state = allowed_moves['f7'](state)\n",
    "state = allowed_moves['r1'](state)\n",
    "print_globe_1_8(state)\n",
    "\n",
    "state = allowed_moves['-r1'](state)\n",
    "state = allowed_moves['f5'](state)\n",
    "state = allowed_moves['r1'](state)\n",
    "print_globe_1_8(state)\n",
    "\n",
    "state = allowed_moves['f6'](state)\n",
    "state = allowed_moves['-r1'](state)\n",
    "state = allowed_moves['f8'](state)\n",
    "state = allowed_moves['r1'](state)\n",
    "print_globe_1_8(state)\n",
    "\n",
    "state = allowed_moves['-r1'](state)\n",
    "state = allowed_moves['f1'](state)\n",
    "state = allowed_moves['r1'](state)\n",
    "print_globe_1_8(state)\n",
    "\n",
    "state = allowed_moves['f14'](state)\n",
    "state = allowed_moves['-r1'](state)\n",
    "state = allowed_moves['f5'](state)\n",
    "state = allowed_moves['r1'](state)\n",
    "print_globe_1_8(state)\n",
    "\n",
    "state = allowed_moves['f11'](state)\n",
    "print_globe_1_8(state)\n",
    "\n",
    "state = allowed_moves['f1'](state)\n",
    "state = allowed_moves['-r0'](state)\n",
    "state = allowed_moves['f1'](state)\n",
    "state = allowed_moves['r0'](state)\n",
    "state = allowed_moves['-r1'](state)\n",
    "state = allowed_moves['f1'](state)\n",
    "state = allowed_moves['r1'](state)\n",
    "state = allowed_moves['f1'](state)\n",
    "print_globe_1_8(state)\n",
    "\n",
    "state = allowed_moves['-r1'](state)\n",
    "state = allowed_moves['f1'](state)\n",
    "state = allowed_moves['r1'](state)\n",
    "print_globe_1_8(state)\n",
    "\n",
    "state2 = state"
   ]
  },
  {
   "cell_type": "code",
   "execution_count": 114,
   "id": "23ae301e-c450-457f-9316-52b77cfd0bc3",
   "metadata": {},
   "outputs": [
    {
     "name": "stdout",
     "output_type": "stream",
     "text": [
      "B  ;F  ;I  ;L  ;O  ;N  ;G  ;N  ;F  ;A  ;C  ;D  ;J  ;H  ;L  ;P  \n",
      "A  ;E  ;J  ;K  ;P  ;M  ;H  ;M  ;E  ;B  ;D  ;C  ;I  ;G  ;K  ;O  \n",
      "\n",
      "O  ;K  ;G  ;I  ;O  ;N  ;G  ;N  ;F  ;A  ;J  ;D  ;K  ;C  ;E  ;A  \n",
      "P  ;L  ;H  ;J  ;P  ;M  ;H  ;M  ;E  ;B  ;I  ;C  ;L  ;D  ;F  ;B  \n",
      "\n",
      "O  ;K  ;N  ;G  ;N  ;G  ;I  ;O  ;F  ;A  ;J  ;D  ;K  ;C  ;E  ;A  \n",
      "P  ;L  ;M  ;H  ;M  ;H  ;J  ;P  ;E  ;B  ;I  ;C  ;L  ;D  ;F  ;B  \n",
      "\n",
      "O  ;K  ;I  ;G  ;N  ;G  ;I  ;O  ;K  ;A  ;M  ;D  ;F  ;C  ;E  ;A  \n",
      "P  ;L  ;J  ;H  ;M  ;H  ;J  ;P  ;L  ;B  ;N  ;C  ;E  ;D  ;F  ;B  \n",
      "\n",
      "O  ;K  ;I  ;G  ;E  ;G  ;I  ;O  ;K  ;A  ;M  ;D  ;M  ;C  ;E  ;A  \n",
      "P  ;L  ;J  ;H  ;F  ;H  ;J  ;P  ;L  ;B  ;N  ;C  ;N  ;D  ;F  ;B  \n",
      "\n",
      "K  ;A  ;M  ;D  ;M  ;C  ;E  ;A  ;O  ;K  ;I  ;G  ;E  ;G  ;I  ;O  \n",
      "L  ;B  ;N  ;C  ;N  ;D  ;F  ;B  ;P  ;L  ;J  ;H  ;F  ;H  ;J  ;P  \n",
      "\n",
      "K  ;A  ;M  ;D  ;M  ;C  ;E  ;A  ;G  ;E  ;G  ;O  ;K  ;I  ;I  ;O  \n",
      "L  ;B  ;N  ;C  ;N  ;D  ;F  ;B  ;H  ;F  ;H  ;P  ;L  ;J  ;J  ;P  \n",
      "\n",
      "K  ;A  ;M  ;M  ;D  ;C  ;E  ;A  ;G  ;E  ;G  ;O  ;K  ;I  ;I  ;O  \n",
      "L  ;B  ;N  ;N  ;C  ;D  ;F  ;B  ;H  ;F  ;H  ;P  ;L  ;J  ;J  ;P  \n",
      "\n",
      "M  ;M  ;K  ;A  ;D  ;C  ;E  ;A  ;G  ;E  ;G  ;O  ;K  ;I  ;I  ;O  \n",
      "N  ;N  ;L  ;B  ;C  ;D  ;F  ;B  ;H  ;F  ;H  ;P  ;L  ;J  ;J  ;P  \n",
      "\n",
      "A  ;D  ;C  ;E  ;A  ;G  ;E  ;G  ;O  ;K  ;I  ;I  ;O  ;M  ;M  ;K  \n",
      "B  ;C  ;D  ;F  ;B  ;H  ;F  ;H  ;P  ;L  ;J  ;J  ;P  ;N  ;N  ;L  \n",
      "\n",
      "A  ;A  ;D  ;C  ;E  ;E  ;G  ;G  ;I  ;I  ;K  ;K  ;M  ;M  ;O  ;O  \n",
      "B  ;B  ;C  ;D  ;F  ;F  ;H  ;H  ;J  ;J  ;L  ;L  ;N  ;N  ;P  ;P  \n",
      "\n"
     ]
    }
   ],
   "source": [
    "state = state2\n",
    "print_globe_1_8(state)\n",
    "\n",
    "state = allowed_moves['-r0'](state)\n",
    "state = allowed_moves['f3'](state)\n",
    "state = allowed_moves['r0'](state)\n",
    "state = allowed_moves['-r1'](state)\n",
    "state = allowed_moves['f3'](state)\n",
    "state = allowed_moves['r1'](state)\n",
    "state = allowed_moves['f12'](state)\n",
    "print_globe_1_8(state)\n",
    "\n",
    "state = allowed_moves['f5'](state)\n",
    "state = allowed_moves['-r0'](state)\n",
    "state = allowed_moves['-r0'](state)\n",
    "state = allowed_moves['-r0'](state)\n",
    "state = allowed_moves['f5'](state)\n",
    "state = allowed_moves['r0'](state)\n",
    "state = allowed_moves['r0'](state)\n",
    "state = allowed_moves['r0'](state)\n",
    "state = allowed_moves['-r1'](state)\n",
    "state = allowed_moves['-r1'](state)\n",
    "state = allowed_moves['-r1'](state)\n",
    "state = allowed_moves['f5'](state)\n",
    "state = allowed_moves['r1'](state)\n",
    "state = allowed_moves['r1'](state)\n",
    "state = allowed_moves['r1'](state)\n",
    "state = allowed_moves['f5'](state)\n",
    "print_globe_1_8(state)\n",
    "\n",
    "state = allowed_moves['-r0'](state)\n",
    "state = allowed_moves['f3'](state)\n",
    "state = allowed_moves['f5'](state)\n",
    "state = allowed_moves['r0'](state)\n",
    "state = allowed_moves['-r1'](state)\n",
    "state = allowed_moves['f5'](state)\n",
    "state = allowed_moves['f3'](state)\n",
    "state = allowed_moves['r1'](state)\n",
    "print_globe_1_8(state)\n",
    "\n",
    "state = allowed_moves['-r0'](state)\n",
    "state = allowed_moves['f5'](state)\n",
    "state = allowed_moves['r0'](state)\n",
    "state = allowed_moves['-r1'](state)\n",
    "state = allowed_moves['f5'](state)\n",
    "state = allowed_moves['r1'](state)\n",
    "print_globe_1_8(state)\n",
    "\n",
    "state = allowed_moves['f0'](state)\n",
    "state = allowed_moves['f4'](state)\n",
    "state = allowed_moves['f0'](state)\n",
    "state = allowed_moves['f4'](state)\n",
    "state = allowed_moves['f8'](state)\n",
    "state = allowed_moves['f4'](state)\n",
    "print_globe_1_8(state)\n",
    "\n",
    "state = allowed_moves['f11'](state)\n",
    "state = allowed_moves['-r0'](state)\n",
    "state = allowed_moves['-r0'](state)\n",
    "state = allowed_moves['-r0'](state)\n",
    "state = allowed_moves['f11'](state)\n",
    "state = allowed_moves['r0'](state)\n",
    "state = allowed_moves['r0'](state)\n",
    "state = allowed_moves['r0'](state)\n",
    "state = allowed_moves['-r1'](state)\n",
    "state = allowed_moves['-r1'](state)\n",
    "state = allowed_moves['-r1'](state)\n",
    "state = allowed_moves['f11'](state)\n",
    "state = allowed_moves['r1'](state)\n",
    "state = allowed_moves['r1'](state)\n",
    "state = allowed_moves['r1'](state)\n",
    "state = allowed_moves['f11'](state)\n",
    "print_globe_1_8(state)\n",
    "\n",
    "state = allowed_moves['f4'](state)\n",
    "state = allowed_moves['-r0'](state)\n",
    "state = allowed_moves['f4'](state)\n",
    "state = allowed_moves['r0'](state)\n",
    "state = allowed_moves['-r1'](state)\n",
    "state = allowed_moves['f4'](state)\n",
    "state = allowed_moves['r1'](state)\n",
    "state = allowed_moves['f4'](state)\n",
    "print_globe_1_8(state)\n",
    "\n",
    "state = allowed_moves['f2'](state)\n",
    "state = allowed_moves['-r0'](state)\n",
    "state = allowed_moves['-r0'](state)\n",
    "state = allowed_moves['f2'](state)\n",
    "state = allowed_moves['r0'](state)\n",
    "state = allowed_moves['r0'](state)\n",
    "state = allowed_moves['-r1'](state)\n",
    "state = allowed_moves['-r1'](state)\n",
    "state = allowed_moves['f2'](state)\n",
    "state = allowed_moves['r1'](state)\n",
    "state = allowed_moves['r1'](state)\n",
    "state = allowed_moves['f2'](state)\n",
    "print_globe_1_8(state)\n",
    "\n",
    "state = allowed_moves['r0'](state)\n",
    "state = allowed_moves['r0'](state)\n",
    "state = allowed_moves['r0'](state)\n",
    "state = allowed_moves['r1'](state)\n",
    "state = allowed_moves['r1'](state)\n",
    "state = allowed_moves['r1'](state)\n",
    "print_globe_1_8(state)\n",
    "\n",
    "state = allowed_moves['f4'](state)\n",
    "state = allowed_moves['-r0'](state)\n",
    "state = allowed_moves['f4'](state)\n",
    "state = allowed_moves['r0'](state)\n",
    "state = allowed_moves['-r1'](state)\n",
    "state = allowed_moves['f4'](state)\n",
    "state = allowed_moves['r1'](state)\n",
    "state = allowed_moves['f4'](state)\n",
    "\n",
    "state = allowed_moves['f3'](state)\n",
    "state = allowed_moves['-r0'](state)\n",
    "state = allowed_moves['f3'](state)\n",
    "state = allowed_moves['r0'](state)\n",
    "state = allowed_moves['-r1'](state)\n",
    "state = allowed_moves['f3'](state)\n",
    "state = allowed_moves['r1'](state)\n",
    "state = allowed_moves['f3'](state)\n",
    "\n",
    "state = allowed_moves['f2'](state)\n",
    "state = allowed_moves['-r0'](state)\n",
    "state = allowed_moves['f2'](state)\n",
    "state = allowed_moves['r0'](state)\n",
    "state = allowed_moves['-r1'](state)\n",
    "state = allowed_moves['f2'](state)\n",
    "state = allowed_moves['r1'](state)\n",
    "state = allowed_moves['f2'](state)\n",
    "\n",
    "state = allowed_moves['f6'](state)\n",
    "state = allowed_moves['-r0'](state)\n",
    "state = allowed_moves['f6'](state)\n",
    "state = allowed_moves['r0'](state)\n",
    "state = allowed_moves['-r1'](state)\n",
    "state = allowed_moves['f6'](state)\n",
    "state = allowed_moves['r1'](state)\n",
    "state = allowed_moves['f6'](state)\n",
    "\n",
    "state = allowed_moves['f10'](state)\n",
    "state = allowed_moves['-r0'](state)\n",
    "state = allowed_moves['-r0'](state)\n",
    "state = allowed_moves['f10'](state)\n",
    "state = allowed_moves['r0'](state)\n",
    "state = allowed_moves['r0'](state)\n",
    "state = allowed_moves['-r1'](state)\n",
    "state = allowed_moves['-r1'](state)\n",
    "state = allowed_moves['f10'](state)\n",
    "state = allowed_moves['r1'](state)\n",
    "state = allowed_moves['r1'](state)\n",
    "state = allowed_moves['f10'](state)\n",
    "\n",
    "state = allowed_moves['f14'](state)\n",
    "state = allowed_moves['-r0'](state)\n",
    "state = allowed_moves['-r0'](state)\n",
    "state = allowed_moves['f14'](state)\n",
    "state = allowed_moves['r0'](state)\n",
    "state = allowed_moves['r0'](state)\n",
    "state = allowed_moves['-r1'](state)\n",
    "state = allowed_moves['-r1'](state)\n",
    "state = allowed_moves['f14'](state)\n",
    "state = allowed_moves['r1'](state)\n",
    "state = allowed_moves['r1'](state)\n",
    "state = allowed_moves['f14'](state)\n",
    "\n",
    "state = allowed_moves['f11'](state)\n",
    "state = allowed_moves['-r0'](state)\n",
    "state = allowed_moves['f11'](state)\n",
    "state = allowed_moves['r0'](state)\n",
    "state = allowed_moves['-r1'](state)\n",
    "state = allowed_moves['f11'](state)\n",
    "state = allowed_moves['r1'](state)\n",
    "state = allowed_moves['f11'](state)\n",
    "\n",
    "state = allowed_moves['f13'](state)\n",
    "state = allowed_moves['-r0'](state)\n",
    "state = allowed_moves['-r0'](state)\n",
    "state = allowed_moves['f13'](state)\n",
    "state = allowed_moves['r0'](state)\n",
    "state = allowed_moves['r0'](state)\n",
    "state = allowed_moves['-r1'](state)\n",
    "state = allowed_moves['-r1'](state)\n",
    "state = allowed_moves['f13'](state)\n",
    "state = allowed_moves['r1'](state)\n",
    "state = allowed_moves['r1'](state)\n",
    "state = allowed_moves['f13'](state)\n",
    "\n",
    "state = allowed_moves['f14'](state)\n",
    "state = allowed_moves['-r0'](state)\n",
    "state = allowed_moves['-r0'](state)\n",
    "state = allowed_moves['f14'](state)\n",
    "state = allowed_moves['r0'](state)\n",
    "state = allowed_moves['r0'](state)\n",
    "state = allowed_moves['-r1'](state)\n",
    "state = allowed_moves['-r1'](state)\n",
    "state = allowed_moves['f14'](state)\n",
    "state = allowed_moves['r1'](state)\n",
    "state = allowed_moves['r1'](state)\n",
    "state = allowed_moves['f14'](state)\n",
    "print_globe_1_8(state)\n",
    "\n",
    "\n",
    "state3 = state"
   ]
  },
  {
   "cell_type": "code",
   "execution_count": 347,
   "id": "af8c36f7-5dd6-48d1-924b-1e0f8d524175",
   "metadata": {},
   "outputs": [
    {
     "name": "stdout",
     "output_type": "stream",
     "text": [
      "A  ;A  ;D  ;C  ;E  ;E  ;G  ;G  ;I  ;I  ;K  ;K  ;M  ;M  ;O  ;O  \n",
      "B  ;B  ;C  ;D  ;F  ;F  ;H  ;H  ;J  ;J  ;L  ;L  ;N  ;N  ;P  ;P  \n",
      "\n"
     ]
    }
   ],
   "source": [
    "target_state = 'A;A;D;C;E;E;G;G;I;I;K;K;M;M;O;O;B;B;C;D;F;F;H;H;J;J;L;L;N;N;P;P'.split(';')\n",
    "print_globe_1_8(target_state)"
   ]
  },
  {
   "cell_type": "code",
   "execution_count": 349,
   "id": "c22903b9-5289-4c80-bac9-e3253e8af7a5",
   "metadata": {},
   "outputs": [
    {
     "name": "stdout",
     "output_type": "stream",
     "text": [
      "A  ;A  ;D  ;C  ;E  ;E  ;G  ;G  ;I  ;I  ;K  ;K  ;M  ;M  ;O  ;O  \n",
      "B  ;B  ;C  ;D  ;F  ;F  ;H  ;H  ;J  ;J  ;L  ;L  ;N  ;N  ;P  ;P  \n",
      "\n",
      "A  ;A  ;D  ;L  ;J  ;J  ;H  ;H  ;F  ;F  ;D  ;K  ;M  ;M  ;O  ;O  \n",
      "B  ;B  ;C  ;K  ;I  ;I  ;G  ;G  ;E  ;E  ;C  ;L  ;N  ;N  ;P  ;P  \n",
      "\n",
      "A  ;A  ;D  ;L  ;J  ;J  ;H  ;H  ;F  ;F  ;D  ;K  ;M  ;M  ;O  ;O  \n",
      "B  ;C  ;K  ;I  ;I  ;G  ;G  ;E  ;E  ;C  ;L  ;N  ;N  ;P  ;P  ;B  \n",
      "\n",
      "A  ;A  ;D  ;L  ;C  ;E  ;E  ;G  ;G  ;I  ;I  ;K  ;M  ;M  ;O  ;O  \n",
      "B  ;C  ;K  ;D  ;F  ;F  ;H  ;H  ;J  ;J  ;L  ;N  ;N  ;P  ;P  ;B  \n",
      "\n",
      "A  ;A  ;D  ;L  ;C  ;E  ;E  ;G  ;G  ;I  ;I  ;K  ;M  ;M  ;O  ;O  \n",
      "B  ;B  ;C  ;K  ;D  ;F  ;F  ;H  ;H  ;J  ;J  ;L  ;N  ;N  ;P  ;P  \n",
      "\n"
     ]
    }
   ],
   "source": [
    "state = target_state\n",
    "print_globe_1_8(state)\n",
    "\n",
    "state = allowed_moves['f3'](state)\n",
    "print_globe_1_8(state)\n",
    "state = allowed_moves['r1'](state)\n",
    "print_globe_1_8(state)\n",
    "state = allowed_moves['f3'](state)\n",
    "print_globe_1_8(state)\n",
    "state = allowed_moves['-r1'](state)\n",
    "print_globe_1_8(state)\n",
    "\n",
    "# state = allowed_moves['f3'](state)\n",
    "# state = allowed_moves['-r0'](state)\n",
    "# state = allowed_moves['f3'](state)\n",
    "# state = allowed_moves['r0'](state)\n",
    "# state = allowed_moves['-r1'](state)\n",
    "# state = allowed_moves['f3'](state)\n",
    "# state = allowed_moves['r1'](state)\n",
    "# state = allowed_moves['f3'](state)\n",
    "\n",
    "# state = allowed_moves['f4'](state)\n",
    "# state = allowed_moves['-r0'](state)\n",
    "# state = allowed_moves['f4'](state)\n",
    "# state = allowed_moves['r0'](state)\n",
    "# state = allowed_moves['-r1'](state)\n",
    "# state = allowed_moves['f4'](state)\n",
    "# state = allowed_moves['r1'](state)\n",
    "# state = allowed_moves['f4'](state)\n",
    "\n",
    "# state = allowed_moves['f5'](state)\n",
    "# state = allowed_moves['-r0'](state)\n",
    "# state = allowed_moves['f5'](state)\n",
    "# state = allowed_moves['r0'](state)\n",
    "# state = allowed_moves['-r1'](state)\n",
    "# state = allowed_moves['f5'](state)\n",
    "# state = allowed_moves['r1'](state)\n",
    "# state = allowed_moves['f5'](state)\n",
    "\n",
    "# state = allowed_moves['f6'](state)\n",
    "# state = allowed_moves['-r0'](state)\n",
    "# state = allowed_moves['f6'](state)\n",
    "# state = allowed_moves['r0'](state)\n",
    "# state = allowed_moves['-r1'](state)\n",
    "# state = allowed_moves['f6'](state)\n",
    "# state = allowed_moves['r1'](state)\n",
    "# state = allowed_moves['f6'](state)\n",
    "\n",
    "# state = allowed_moves['f7'](state)\n",
    "# state = allowed_moves['-r0'](state)\n",
    "# state = allowed_moves['f7'](state)\n",
    "# state = allowed_moves['r0'](state)\n",
    "# state = allowed_moves['-r1'](state)\n",
    "# state = allowed_moves['f7'](state)\n",
    "# state = allowed_moves['r1'](state)\n",
    "# state = allowed_moves['f7'](state)\n",
    "\n",
    "# state = allowed_moves['f8'](state)\n",
    "# state = allowed_moves['-r0'](state)\n",
    "# state = allowed_moves['f8'](state)\n",
    "# state = allowed_moves['r0'](state)\n",
    "# state = allowed_moves['-r1'](state)\n",
    "# state = allowed_moves['f8'](state)\n",
    "# state = allowed_moves['r1'](state)\n",
    "# state = allowed_moves['f8'](state)\n",
    "\n",
    "# state = allowed_moves['f9'](state)\n",
    "# state = allowed_moves['-r0'](state)\n",
    "# state = allowed_moves['f9'](state)\n",
    "# state = allowed_moves['r0'](state)\n",
    "# state = allowed_moves['-r1'](state)\n",
    "# state = allowed_moves['f9'](state)\n",
    "# state = allowed_moves['r1'](state)\n",
    "# state = allowed_moves['f9'](state)\n",
    "\n",
    "# state = allowed_moves['f10'](state)\n",
    "# state = allowed_moves['-r0'](state)\n",
    "# state = allowed_moves['f10'](state)\n",
    "# state = allowed_moves['r0'](state)\n",
    "# state = allowed_moves['-r1'](state)\n",
    "# state = allowed_moves['f10'](state)\n",
    "# state = allowed_moves['r1'](state)\n",
    "# state = allowed_moves['f10'](state)\n",
    "# print_globe_1_8(state)\n",
    "\n",
    "# state = allowed_moves['-r0'](state)\n",
    "# state = allowed_moves['f3'](state)\n",
    "# state = allowed_moves['r0'](state)\n",
    "# state = allowed_moves['-r1'](state)\n",
    "# state = allowed_moves['f3'](state)\n",
    "# state = allowed_moves['r1'](state)\n",
    "# print_globe_1_8(state)\n",
    "\n"
   ]
  },
  {
   "cell_type": "code",
   "execution_count": null,
   "id": "4ecb9168-2bfd-4d14-a3b7-0b992223c739",
   "metadata": {},
   "outputs": [],
   "source": []
  },
  {
   "cell_type": "code",
   "execution_count": null,
   "id": "38d83f7f-caa7-4772-9ab7-27d9297132ea",
   "metadata": {},
   "outputs": [],
   "source": []
  },
  {
   "cell_type": "code",
   "execution_count": null,
   "id": "bedde2f1-b0bc-47a8-8e92-6a8c258d05f4",
   "metadata": {},
   "outputs": [],
   "source": []
  },
  {
   "cell_type": "code",
   "execution_count": null,
   "id": "062eeba4-a9cd-4d6d-80cd-ff6580bb9d8e",
   "metadata": {},
   "outputs": [],
   "source": []
  },
  {
   "cell_type": "code",
   "execution_count": 56,
   "id": "0ad1e585-5c6d-4773-8ff0-c59b2c211a51",
   "metadata": {},
   "outputs": [],
   "source": [
    "def count_pair(state, r, f):\n",
    "    count = 0\n",
    "    for i in range(r + 1):\n",
    "        for j in range(f * 2):\n",
    "            if state[i * f * 2 + j] == state[i * f * 2 + (j + 1) % (f * 2)]:\n",
    "                count += 1\n",
    "\n",
    "    return count\n",
    "\n",
    "\n",
    "def count_correct_3_4(state, correct):\n",
    "    count = 0\n",
    "    for i in range(8):\n",
    "        count += state[i] == correct[i] and state[i+24] == correct[i+24]\n",
    "        count += (state[i] < state[i+24]) * 3\n",
    "        # count += (int(state[i][1:]) < int(state[i+24][1:])) * 3\n",
    "        # count += int(state[i][1:])//2 == int(correct[i][1:])//2\n",
    "    for i in range(8, 16):\n",
    "        count += state[i] == correct[i] and state[i+8] == correct[i+8]\n",
    "        count += (state[i] < state[i+8]) * 3\n",
    "        # count += (int(state[i][1:]) < int(state[i+8][1:])) * 3\n",
    "        # count += int(state[i][1:])//2 == int(correct[i][1:])//2\n",
    "    return count\n",
    "\n",
    "def count_correct_1_8(state, correct):\n",
    "    count = 0\n",
    "    for i in range(16):\n",
    "        count += state[i] == correct[i]\n",
    "        # count += (int(state[i][1:]) < int(state[i+24][1:])) * 3\n",
    "        # count += int(state[i][1:])//2 == int(correct[i][1:])//2\n",
    "    return count"
   ]
  },
  {
   "cell_type": "code",
   "execution_count": 57,
   "id": "e8f492ba-4bce-4071-ac37-a2e973ed57cc",
   "metadata": {},
   "outputs": [
    {
     "name": "stderr",
     "output_type": "stream",
     "text": [
      "  0%|▏                                                                                | 12208/5721762 [00:00<01:34, 60602.05it/s]"
     ]
    },
    {
     "name": "stdout",
     "output_type": "stream",
     "text": [
      "3 ['B', 'F', 'I', 'C', 'O', 'N', 'G', 'N', 'F', 'A', 'C', 'K', 'J', 'H', 'L', 'P', 'A', 'E', 'J', 'D', 'P', 'M', 'H', 'M', 'E', 'B', 'D', 'L', 'I', 'G', 'K', 'O'] -r0.f4.r0.-r1.f4.r1\n",
      "4 ['B', 'F', 'I', 'C', 'O', 'G', 'G', 'N', 'F', 'A', 'C', 'K', 'J', 'M', 'L', 'P', 'A', 'E', 'J', 'D', 'P', 'H', 'H', 'M', 'E', 'B', 'D', 'L', 'I', 'N', 'K', 'O'] -r0.f4.r0.-r1.f4.r1.-r0.f6.r0.-r1.f6.r1\n"
     ]
    },
    {
     "name": "stderr",
     "output_type": "stream",
     "text": [
      "  1%|▍                                                                                | 30280/5721762 [00:00<01:35, 59877.09it/s]"
     ]
    },
    {
     "name": "stdout",
     "output_type": "stream",
     "text": [
      "5 ['B', 'F', 'I', 'C', 'O', 'N', 'G', 'G', 'F', 'A', 'C', 'K', 'J', 'M', 'L', 'P', 'A', 'E', 'J', 'D', 'P', 'M', 'H', 'H', 'E', 'B', 'D', 'L', 'I', 'N', 'K', 'O'] -r0.f4.r0.-r1.f4.r1.-r0.f6.r0.-r1.f6.r1.f7.-r0.f7.r0.-r1.f7.r1.f7.f6.-r0.f6.r0.-r1.f6.r1.f6\n"
     ]
    },
    {
     "name": "stderr",
     "output_type": "stream",
     "text": [
      " 17%|█████████████▊                                                                  | 990935/5721762 [00:16<01:18, 60142.78it/s]"
     ]
    },
    {
     "name": "stdout",
     "output_type": "stream",
     "text": [
      "6 ['B', 'F', 'I', 'C', 'I', 'O', 'G', 'G', 'F', 'A', 'C', 'K', 'M', 'M', 'L', 'P', 'A', 'E', 'J', 'D', 'J', 'P', 'H', 'H', 'E', 'B', 'D', 'L', 'N', 'N', 'K', 'O'] -r0.f4.r0.-r1.f4.r1.-r0.f6.r0.-r1.f6.r1.f7.-r0.f7.r0.-r1.f7.r1.f7.f6.-r0.f6.r0.-r1.f6.r1.f6.f5.-r0.f5.r0.-r1.f5.r1.f5.-r0.f5.r0.-r1.f5.r1\n"
     ]
    },
    {
     "name": "stderr",
     "output_type": "stream",
     "text": [
      "100%|███████████████████████████████████████████████████████████████████████████████| 5721762/5721762 [01:36<00:00, 59429.31it/s]"
     ]
    },
    {
     "name": "stdout",
     "output_type": "stream",
     "text": [
      "6 ['B', 'F', 'I', 'C', 'I', 'O', 'G', 'G', 'F', 'A', 'C', 'K', 'M', 'M', 'L', 'P', 'A', 'E', 'J', 'D', 'J', 'P', 'H', 'H', 'E', 'B', 'D', 'L', 'N', 'N', 'K', 'O'] -r0.f4.r0.-r1.f4.r1.-r0.f6.r0.-r1.f6.r1.f7.-r0.f7.r0.-r1.f7.r1.f7.f6.-r0.f6.r0.-r1.f6.r1.f6.f5.-r0.f5.r0.-r1.f5.r1.f5.-r0.f5.r0.-r1.f5.r1\n"
     ]
    },
    {
     "name": "stderr",
     "output_type": "stream",
     "text": [
      "\n"
     ]
    }
   ],
   "source": [
    "state = state3\n",
    "moves_list = []\n",
    "correct_num = count_correct_1_8(state, solution_state)\n",
    "max_correct_num = correct_num\n",
    "max_correct_state = []\n",
    "max_correct_moves = ''\n",
    "\n",
    "for key in tqdm.tqdm(solve_dict_rev, total=len(solve_dict_rev)):\n",
    "    state = state3\n",
    "    new_state = Permutation(solve_dict_rev[key])(state)\n",
    "    correct_num = count_correct_1_8(new_state, solution_state)\n",
    "    if max_correct_num < correct_num:\n",
    "        max_correct_num = correct_num\n",
    "        max_correct_state = new_state\n",
    "        max_correct_moves = key\n",
    "        print(max_correct_num, max_correct_state, max_correct_moves)\n",
    "print(max_correct_num, max_correct_state, max_correct_moves)"
   ]
  },
  {
   "cell_type": "code",
   "execution_count": 58,
   "id": "48146b39-4548-4f28-a14b-489953b6372d",
   "metadata": {
    "scrolled": true
   },
   "outputs": [
    {
     "name": "stdout",
     "output_type": "stream",
     "text": [
      "B  ;F  ;I  ;C  ;I  ;O  ;G  ;G  ;F  ;A  ;C  ;K  ;M  ;M  ;L  ;P  \n",
      "A  ;E  ;J  ;D  ;J  ;P  ;H  ;H  ;E  ;B  ;D  ;L  ;N  ;N  ;K  ;O  \n",
      "\n"
     ]
    }
   ],
   "source": [
    "print_globe_1_8(max_correct_state)"
   ]
  },
  {
   "cell_type": "code",
   "execution_count": 59,
   "id": "7d4a41d4-a211-4b40-8cb3-90cb50f16a28",
   "metadata": {},
   "outputs": [
    {
     "name": "stderr",
     "output_type": "stream",
     "text": [
      "  2%|█▍                                                                              | 102780/5721762 [00:01<01:32, 60474.76it/s]"
     ]
    },
    {
     "name": "stdout",
     "output_type": "stream",
     "text": [
      "7 ['F', 'I', 'C', 'I', 'E', 'O', 'G', 'G', 'A', 'A', 'C', 'K', 'M', 'M', 'L', 'P', 'E', 'J', 'D', 'J', 'F', 'P', 'H', 'H', 'B', 'B', 'D', 'L', 'N', 'N', 'K', 'O'] -r0.f1.r0.-r1.f1.r1.f1.-r0.f1.r0.-r1.f1.r1.f1.f2.-r0.f2.r0.-r1.f2.r1.f2.f3.-r0.f3.r0.-r1.f3.r1.f3.f4.-r0.f4.r0.-r1.f4.r1.f4\n"
     ]
    },
    {
     "name": "stderr",
     "output_type": "stream",
     "text": [
      "100%|███████████████████████████████████████████████████████████████████████████████| 5721762/5721762 [01:35<00:00, 60029.88it/s]"
     ]
    },
    {
     "name": "stdout",
     "output_type": "stream",
     "text": [
      "7 ['F', 'I', 'C', 'I', 'E', 'O', 'G', 'G', 'A', 'A', 'C', 'K', 'M', 'M', 'L', 'P', 'E', 'J', 'D', 'J', 'F', 'P', 'H', 'H', 'B', 'B', 'D', 'L', 'N', 'N', 'K', 'O'] -r0.f1.r0.-r1.f1.r1.f1.-r0.f1.r0.-r1.f1.r1.f1.f2.-r0.f2.r0.-r1.f2.r1.f2.f3.-r0.f3.r0.-r1.f3.r1.f3.f4.-r0.f4.r0.-r1.f4.r1.f4\n"
     ]
    },
    {
     "name": "stderr",
     "output_type": "stream",
     "text": [
      "\n"
     ]
    }
   ],
   "source": [
    "tuning2 = max_correct_state\n",
    "moves_list = []\n",
    "correct_num = count_correct_1_8(tuning2, solution_state)\n",
    "max_correct_num = correct_num\n",
    "max_correct_state = []\n",
    "max_correct_moves = ''\n",
    "\n",
    "for key in tqdm.tqdm(solve_dict_rev, total=len(solve_dict_rev)):\n",
    "    state = tuning2\n",
    "    new_state = Permutation(solve_dict_rev[key])(state)\n",
    "    correct_num = count_correct_1_8(new_state, solution_state)\n",
    "    if max_correct_num < correct_num:\n",
    "        max_correct_num = correct_num\n",
    "        max_correct_state = new_state\n",
    "        max_correct_moves = key\n",
    "        print(max_correct_num, max_correct_state, max_correct_moves)\n",
    "print(max_correct_num, max_correct_state, max_correct_moves)"
   ]
  },
  {
   "cell_type": "code",
   "execution_count": 253,
   "id": "bb4df794-f757-4f09-a1ba-c06775d7e8a0",
   "metadata": {
    "scrolled": true
   },
   "outputs": [
    {
     "name": "stdout",
     "output_type": "stream",
     "text": [
      "N4;N1;N2;N3;N5;N6;N0;N7\n",
      "N13;N9;N11;N10;N8;N12;N15;N14\n",
      "N21;N17;N19;N18;N16;N20;N23;N22\n",
      "N28;N25;N26;N27;N29;N30;N24;N31\n",
      "\n"
     ]
    }
   ],
   "source": [
    "print34(max_correct_state)"
   ]
  },
  {
   "cell_type": "code",
   "execution_count": 255,
   "id": "41cc9317-71ff-4ae0-9a60-d711c7a547c7",
   "metadata": {},
   "outputs": [
    {
     "name": "stderr",
     "output_type": "stream",
     "text": [
      "  0%|                                                                                 | 6015/16429825 [00:00<09:02, 30284.58it/s]"
     ]
    },
    {
     "name": "stdout",
     "output_type": "stream",
     "text": [
      "60 ['N4', 'N1', 'N2', 'N3', 'N5', 'N0', 'N6', 'N7', 'N13', 'N9', 'N11', 'N10', 'N8', 'N12', 'N15', 'N14', 'N21', 'N17', 'N19', 'N18', 'N16', 'N20', 'N23', 'N22', 'N28', 'N25', 'N26', 'N27', 'N29', 'N24', 'N30', 'N31'] f6.-r0.f6.r0.-r3.f6.r3.f6\n"
     ]
    },
    {
     "name": "stderr",
     "output_type": "stream",
     "text": [
      "  0%|▏                                                                               | 28161/16429825 [00:00<07:52, 34718.51it/s]"
     ]
    },
    {
     "name": "stdout",
     "output_type": "stream",
     "text": [
      "61 ['N0', 'N1', 'N2', 'N3', 'N5', 'N4', 'N6', 'N7', 'N15', 'N9', 'N11', 'N10', 'N8', 'N13', 'N12', 'N14', 'N23', 'N17', 'N19', 'N18', 'N16', 'N21', 'N20', 'N22', 'N24', 'N25', 'N26', 'N27', 'N29', 'N28', 'N30', 'N31'] f0.-r0.-r1.f0.r0.r1.-r2.-r3.f0.r2.r3.f0.f7.-r0.-r1.f7.r0.r1.-r2.-r3.f7.r2.r3.f7.f0.-r0.-r1.f0.r0.r1.-r2.-r3.f0.r2.r3.f0.f6.-r0.-r1.f6.r0.r1.-r2.-r3.f6.r2.r3.f6\n",
      "62 ['N0', 'N1', 'N2', 'N3', 'N5', 'N4', 'N6', 'N7', 'N13', 'N9', 'N11', 'N10', 'N8', 'N12', 'N15', 'N14', 'N21', 'N17', 'N19', 'N18', 'N16', 'N20', 'N23', 'N22', 'N24', 'N25', 'N26', 'N27', 'N29', 'N28', 'N30', 'N31'] f0.-r0.-r1.f0.r0.r1.-r2.-r3.f0.r2.r3.f0.f7.-r0.f7.r0.-r3.f7.r3.f7.f0.-r0.-r1.f0.r0.r1.-r2.-r3.f0.r2.r3.f0.f6.-r0.f6.r0.-r3.f6.r3.f6\n"
     ]
    },
    {
     "name": "stderr",
     "output_type": "stream",
     "text": [
      " 18%|██████████████                                                                | 2967426/16429825 [01:24<06:02, 37138.07it/s]"
     ]
    },
    {
     "name": "stdout",
     "output_type": "stream",
     "text": [
      "64 ['N0', 'N1', 'N2', 'N3', 'N5', 'N4', 'N6', 'N7', 'N8', 'N9', 'N11', 'N10', 'N12', 'N13', 'N15', 'N14', 'N16', 'N17', 'N19', 'N18', 'N20', 'N21', 'N23', 'N22', 'N24', 'N25', 'N26', 'N27', 'N29', 'N28', 'N30', 'N31'] f0.-r0.-r1.f0.r0.r1.-r2.-r3.f0.r2.r3.f0.f5.-r1.f5.r1.-r2.f5.r2.f5.f6.-r1.f6.r1.-r2.f6.r2.f6.f7.-r0.-r1.f7.r0.r1.-r2.-r3.f7.r2.r3.f7.f0.-r0.-r1.f0.r0.r1.-r2.-r3.f0.r2.r3.f0.f6.-r0.-r1.f6.r0.r1.-r2.-r3.f6.r2.r3.f6\n"
     ]
    },
    {
     "name": "stderr",
     "output_type": "stream",
     "text": [
      "100%|█████████████████████████████████████████████████████████████████████████████| 16429825/16429825 [07:19<00:00, 37383.34it/s]"
     ]
    },
    {
     "name": "stdout",
     "output_type": "stream",
     "text": [
      "64 ['N0', 'N1', 'N2', 'N3', 'N5', 'N4', 'N6', 'N7', 'N8', 'N9', 'N11', 'N10', 'N12', 'N13', 'N15', 'N14', 'N16', 'N17', 'N19', 'N18', 'N20', 'N21', 'N23', 'N22', 'N24', 'N25', 'N26', 'N27', 'N29', 'N28', 'N30', 'N31'] f0.-r0.-r1.f0.r0.r1.-r2.-r3.f0.r2.r3.f0.f5.-r1.f5.r1.-r2.f5.r2.f5.f6.-r1.f6.r1.-r2.f6.r2.f6.f7.-r0.-r1.f7.r0.r1.-r2.-r3.f7.r2.r3.f7.f0.-r0.-r1.f0.r0.r1.-r2.-r3.f0.r2.r3.f0.f6.-r0.-r1.f6.r0.r1.-r2.-r3.f6.r2.r3.f6\n"
     ]
    },
    {
     "name": "stderr",
     "output_type": "stream",
     "text": [
      "\n"
     ]
    }
   ],
   "source": [
    "tuning3 = max_correct_state\n",
    "moves_list = []\n",
    "correct_num = count_correct(tuning3, solution_state)\n",
    "max_correct_num = correct_num\n",
    "max_correct_state = []\n",
    "max_correct_moves = ''\n",
    "\n",
    "for key in tqdm.tqdm(solve_dict_rev, total=len(solve_dict_rev)):\n",
    "    state = tuning3\n",
    "    new_state = Permutation(solve_dict_rev[key])(state)\n",
    "    correct_num = count_correct(new_state, solution_state)\n",
    "    if max_correct_num < correct_num:\n",
    "        max_correct_num = correct_num\n",
    "        max_correct_state = new_state\n",
    "        max_correct_moves = key\n",
    "        print(max_correct_num, max_correct_state, max_correct_moves)\n",
    "print(max_correct_num, max_correct_state, max_correct_moves)"
   ]
  },
  {
   "cell_type": "code",
   "execution_count": 256,
   "id": "013b1b7e-2e96-41b6-94a2-d4b1a8db581b",
   "metadata": {
    "scrolled": true
   },
   "outputs": [
    {
     "name": "stdout",
     "output_type": "stream",
     "text": [
      "N0;N1;N2;N3;N5;N4;N6;N7\n",
      "N8;N9;N11;N10;N12;N13;N15;N14\n",
      "N16;N17;N19;N18;N20;N21;N23;N22\n",
      "N24;N25;N26;N27;N29;N28;N30;N31\n",
      "\n"
     ]
    }
   ],
   "source": [
    "print34(max_correct_state)"
   ]
  },
  {
   "cell_type": "code",
   "execution_count": null,
   "id": "000f9b55-3bc4-47aa-931c-9bc36026d20e",
   "metadata": {},
   "outputs": [],
   "source": [
    "tuning4 = max_correct_state\n",
    "state = tuning4\n",
    "\n",
    "state = allowed_moves['f5'](state)\n",
    "state = allowed_moves['-r0'](state)\n",
    "state = allowed_moves['f5'](state)\n",
    "state = allowed_moves['r0'](state)\n",
    "state = allowed_moves['-r3'](state)\n",
    "state = allowed_moves['f5'](state)\n",
    "state = allowed_moves['r3'](state)\n",
    "state = allowed_moves['f5'](state)\n",
    "\n",
    "state = allowed_moves['f3'](state)\n",
    "state = allowed_moves['-r1'](state)\n",
    "state = allowed_moves['f3'](state)\n",
    "state = allowed_moves['r1'](state)\n",
    "state = allowed_moves['-r2'](state)\n",
    "state = allowed_moves['f3'](state)\n",
    "state = allowed_moves['r2'](state)\n",
    "state = allowed_moves['f3'](state)\n",
    "\n",
    "state = allowed_moves['f7'](state)\n",
    "state = allowed_moves['-r1'](state)\n",
    "state = allowed_moves['f7'](state)\n",
    "state = allowed_moves['r1'](state)\n",
    "state = allowed_moves['-r2'](state)\n",
    "state = allowed_moves['f7'](state)\n",
    "state = allowed_moves['r2'](state)\n",
    "state = allowed_moves['f7'](state)\n",
    "\n",
    "print34(state)"
   ]
  },
  {
   "cell_type": "code",
   "execution_count": null,
   "id": "53dd943a-edbf-471b-ac0c-acb1a97ce75e",
   "metadata": {},
   "outputs": [],
   "source": []
  },
  {
   "cell_type": "code",
   "execution_count": null,
   "id": "3cce78a9-db43-4f65-8f1f-602398964b67",
   "metadata": {},
   "outputs": [],
   "source": []
  },
  {
   "cell_type": "code",
   "execution_count": 220,
   "id": "99186ccd-6d35-4d6d-8fb0-80504b75842a",
   "metadata": {},
   "outputs": [
    {
     "name": "stderr",
     "output_type": "stream",
     "text": [
      "  0%|                                                                                | 16573/16429825 [00:00<06:23, 42780.96it/s]"
     ]
    },
    {
     "name": "stdout",
     "output_type": "stream",
     "text": [
      "62 ['N0', 'N1', 'N2', 'N7', 'N4', 'N5', 'N6', 'N3', 'N8', 'N9', 'N10', 'N11', 'N12', 'N13', 'N14', 'N15', 'N16', 'N17', 'N18', 'N19', 'N20', 'N21', 'N22', 'N23', 'N24', 'N25', 'N26', 'N31', 'N28', 'N29', 'N30', 'N27'] f3.-r0.-r1.f3.r0.r1.-r2.-r3.f3.r2.r3.f3.f4.-r1.f4.r1.-r2.f4.r2.f4.f3.-r0.-r1.f3.r0.r1.-r2.-r3.f3.r2.r3.f3\n"
     ]
    },
    {
     "name": "stderr",
     "output_type": "stream",
     "text": [
      "100%|█████████████████████████████████████████████████████████████████████████████| 16429825/16429825 [06:38<00:00, 41186.46it/s]"
     ]
    },
    {
     "name": "stdout",
     "output_type": "stream",
     "text": [
      "62 ['N0', 'N1', 'N2', 'N7', 'N4', 'N5', 'N6', 'N3', 'N8', 'N9', 'N10', 'N11', 'N12', 'N13', 'N14', 'N15', 'N16', 'N17', 'N18', 'N19', 'N20', 'N21', 'N22', 'N23', 'N24', 'N25', 'N26', 'N31', 'N28', 'N29', 'N30', 'N27'] f3.-r0.-r1.f3.r0.r1.-r2.-r3.f3.r2.r3.f3.f4.-r1.f4.r1.-r2.f4.r2.f4.f3.-r0.-r1.f3.r0.r1.-r2.-r3.f3.r2.r3.f3\n"
     ]
    },
    {
     "name": "stderr",
     "output_type": "stream",
     "text": [
      "\n"
     ]
    }
   ],
   "source": [
    "tuning4 = max_correct_state\n",
    "moves_list = []\n",
    "correct_num = count_correct(tuning4, solution_state)\n",
    "max_correct_num = correct_num\n",
    "max_correct_state = []\n",
    "max_correct_moves = ''\n",
    "\n",
    "for key in tqdm.tqdm(solve_dict_rev, total=len(solve_dict_rev)):\n",
    "    state = tuning4\n",
    "    new_state = Permutation(solve_dict_rev[key])(state)\n",
    "    correct_num = count_correct(new_state, solution_state)\n",
    "    if max_correct_num < correct_num:\n",
    "        max_correct_num = correct_num\n",
    "        max_correct_state = new_state\n",
    "        max_correct_moves = key\n",
    "        print(max_correct_num, max_correct_state, max_correct_moves)\n",
    "print(max_correct_num, max_correct_state, max_correct_moves)"
   ]
  },
  {
   "cell_type": "code",
   "execution_count": 222,
   "id": "c295489b-7944-4584-8ed5-7ffbe1e5fc9b",
   "metadata": {},
   "outputs": [
    {
     "name": "stdout",
     "output_type": "stream",
     "text": [
      "N0;N1;N2;N7;N4;N5;N6;N3\n",
      "N8;N9;N10;N11;N12;N13;N14;N15\n",
      "N16;N17;N18;N19;N20;N21;N22;N23\n",
      "N24;N25;N26;N31;N28;N29;N30;N27\n",
      "\n"
     ]
    }
   ],
   "source": [
    "print34(max_correct_state)"
   ]
  },
  {
   "cell_type": "code",
   "execution_count": null,
   "id": "0af80b71-d99f-4eff-9a06-dd142749e451",
   "metadata": {},
   "outputs": [],
   "source": []
  },
  {
   "cell_type": "code",
   "execution_count": null,
   "id": "98803d84-e329-4ac7-a454-1acb75bb5857",
   "metadata": {},
   "outputs": [],
   "source": []
  },
  {
   "cell_type": "code",
   "execution_count": null,
   "id": "53395e89-57ca-4dc6-9392-152de387cf60",
   "metadata": {},
   "outputs": [],
   "source": []
  },
  {
   "cell_type": "code",
   "execution_count": null,
   "id": "eb9dd977-d19a-47ab-b64d-c156f2776224",
   "metadata": {},
   "outputs": [],
   "source": []
  },
  {
   "cell_type": "code",
   "execution_count": null,
   "id": "4ead3ec8-6cda-469f-847d-8f93b03a2e02",
   "metadata": {},
   "outputs": [],
   "source": []
  },
  {
   "cell_type": "code",
   "execution_count": null,
   "id": "1e662147-c2c7-4bb3-90fd-fa9252424e5a",
   "metadata": {},
   "outputs": [],
   "source": []
  },
  {
   "cell_type": "code",
   "execution_count": 86,
   "id": "4e539e2b-fa01-44e2-a01f-27b2a76ea677",
   "metadata": {},
   "outputs": [],
   "source": [
    "from sympy.combinatorics import Permutation, PermutationGroup, CyclicGroup"
   ]
  },
  {
   "cell_type": "code",
   "execution_count": 90,
   "id": "4b464994-4253-4d58-b49d-ae00f68b557b",
   "metadata": {},
   "outputs": [
    {
     "data": {
      "text/plain": [
       "[2]"
      ]
     },
     "execution_count": 90,
     "metadata": {},
     "output_type": "execute_result"
    }
   ],
   "source": [
    "a = Permutation([0, 2, 1])\n",
    "b = Permutation([1, 0, 2])\n",
    "G = PermutationGroup([a, b])\n",
    "G.abelian_invariants()"
   ]
  },
  {
   "cell_type": "code",
   "execution_count": 89,
   "id": "dc09a721-26a6-4012-83ca-fa21faf6b1e5",
   "metadata": {},
   "outputs": [
    {
     "data": {
      "text/plain": [
       "[7]"
      ]
     },
     "execution_count": 89,
     "metadata": {},
     "output_type": "execute_result"
    }
   ],
   "source": [
    "G = CyclicGroup(7)\n",
    "G.abelian_invariants()"
   ]
  },
  {
   "cell_type": "code",
   "execution_count": 119,
   "id": "b939042d-ea78-4876-8de9-3b5d6c427042",
   "metadata": {},
   "outputs": [],
   "source": [
    "p = Permutation([0, 2, 3, 1])\n",
    "x = Permutation([2, 0, 3, 1])"
   ]
  },
  {
   "cell_type": "code",
   "execution_count": 139,
   "id": "cdaa4969-abe6-4647-8478-630be0aabc59",
   "metadata": {},
   "outputs": [],
   "source": [
    "G.schreier_sims()"
   ]
  },
  {
   "cell_type": "code",
   "execution_count": 147,
   "id": "f4bf9f74-e8d2-4d9a-a585-9ff912bab4a2",
   "metadata": {
    "scrolled": true
   },
   "outputs": [
    {
     "data": {
      "text/plain": [
       "([1, 0],\n",
       " [Permutation(1, 2), Permutation(2)(0, 1), Permutation(0, 2)],\n",
       " [[0, 1, 2], [0, 2]],\n",
       " [PermutationGroup([\n",
       "      (1 2),\n",
       "      (2)(0 1),\n",
       "      (0 2)]),\n",
       "  PermutationGroup([\n",
       "      (0 2)])],\n",
       " [{1: Permutation(2), 2: Permutation(1, 2), 0: Permutation(2)(0, 1)},\n",
       "  {0: Permutation(2), 2: Permutation(0, 2)}])"
      ]
     },
     "execution_count": 147,
     "metadata": {},
     "output_type": "execute_result"
    }
   ],
   "source": [
    "G.base, G.strong_gens, G.basic_orbits, G.basic_stabilizers, G.basic_transversals"
   ]
  },
  {
   "cell_type": "code",
   "execution_count": 146,
   "id": "c1cba0da-db00-4b1f-95bf-55789abf26c2",
   "metadata": {},
   "outputs": [
    {
     "data": {
      "text/plain": [
       "(True, [Permutation(1, 2), Permutation(0, 2)], [2, 2])"
      ]
     },
     "execution_count": 146,
     "metadata": {},
     "output_type": "execute_result"
    }
   ],
   "source": [
    "p2 = Permutation([1, 2, 0])\n",
    "G.contains(p2), G.coset_factor(p2), G.coset_factor(p2, True)"
   ]
  },
  {
   "cell_type": "code",
   "execution_count": 148,
   "id": "e831f4d6-a243-48ca-b634-0cf0e43f5cd4",
   "metadata": {},
   "outputs": [
    {
     "data": {
      "text/plain": [
       "[PermutationGroup([\n",
       "     (1 2),\n",
       "     (2)(0 1)]),\n",
       " PermutationGroup([\n",
       "     (0 2 1),\n",
       "     (0 1 2)]),\n",
       " PermutationGroup([\n",
       "     (2)])]"
      ]
     },
     "execution_count": 148,
     "metadata": {},
     "output_type": "execute_result"
    }
   ],
   "source": [
    "G.derived_series()"
   ]
  },
  {
   "cell_type": "code",
   "execution_count": 149,
   "id": "e3519f71-eb48-4236-9b86-01152982ddaa",
   "metadata": {},
   "outputs": [
    {
     "data": {
      "text/plain": [
       "[PermutationGroup([\n",
       "     (1 2),\n",
       "     (2)(0 1)]),\n",
       " PermutationGroup([\n",
       "     (0 2 1),\n",
       "     (0 1 2)])]"
      ]
     },
     "execution_count": 149,
     "metadata": {},
     "output_type": "execute_result"
    }
   ],
   "source": [
    "G.lower_central_series()"
   ]
  },
  {
   "cell_type": "code",
   "execution_count": null,
   "id": "85516bba-d7ea-4c76-9117-07a3ac472cdd",
   "metadata": {},
   "outputs": [],
   "source": []
  },
  {
   "cell_type": "code",
   "execution_count": null,
   "id": "74357b97-8977-40bd-912a-ebb667d3b4ab",
   "metadata": {},
   "outputs": [],
   "source": []
  },
  {
   "cell_type": "code",
   "execution_count": null,
   "id": "1c6f2074-bb2b-4135-b2db-b0d787541eef",
   "metadata": {},
   "outputs": [],
   "source": []
  },
  {
   "cell_type": "code",
   "execution_count": null,
   "id": "ba97af0c-25f3-4e8e-a285-4268d7a369d1",
   "metadata": {},
   "outputs": [],
   "source": []
  }
 ],
 "metadata": {
  "kernelspec": {
   "display_name": "santa2023-py3.11",
   "language": "python",
   "name": "santa2023-py3.11"
  },
  "language_info": {
   "codemirror_mode": {
    "name": "ipython",
    "version": 3
   },
   "file_extension": ".py",
   "mimetype": "text/x-python",
   "name": "python",
   "nbconvert_exporter": "python",
   "pygments_lexer": "ipython3",
   "version": "3.11.1"
  }
 },
 "nbformat": 4,
 "nbformat_minor": 5
}
