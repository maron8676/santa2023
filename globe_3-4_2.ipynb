{
 "cells": [
  {
   "cell_type": "code",
   "execution_count": 1,
   "id": "8a33acb2-b40c-48ce-8536-522886001e10",
   "metadata": {},
   "outputs": [],
   "source": [
    "import pickle\n",
    "import time\n",
    "from ast import literal_eval\n",
    "from collections import deque\n",
    "from sys import stdin\n",
    "\n",
    "import pandas as pd\n",
    "import tqdm\n",
    "from sympy.combinatorics import Permutation"
   ]
  },
  {
   "cell_type": "code",
   "execution_count": 2,
   "id": "34adbf8b-3e4d-44a9-8f18-a0d5944391c3",
   "metadata": {},
   "outputs": [],
   "source": [
    "with open('globe-3-4-af_rotate.pkl', mode='rb') as f:\n",
    "    solve_dict = pickle.load(f)\n",
    "with open('globe-3-4-af_rotate_rev.pkl', mode='rb') as f:\n",
    "    solve_dict_rev = pickle.load(f)"
   ]
  },
  {
   "cell_type": "code",
   "execution_count": 3,
   "id": "c8e49ccc-37a3-4a94-8bd8-052d2e54975d",
   "metadata": {},
   "outputs": [],
   "source": [
    "puzzle_info = pd.read_csv(\"puzzle_info.csv\", index_col='puzzle_type')\n",
    "puzzles = pd.read_csv(\"puzzles.csv\")\n",
    "sample_submission = pd.read_csv(\"submission_public.csv\", index_col='id')\n",
    "base_moves = [\"r0\", \"-r0\", \"r1\", \"-r1\", \"r2\", \"-r2\", \"r3\", \"-r3\", \"f0\", \"f1\", \"f2\", \"f3\", \"f4\", \"f5\", \"f6\", \"f7\"]"
   ]
  },
  {
   "cell_type": "code",
   "execution_count": 4,
   "id": "32e15681-1e3a-4e7f-9ac7-fd38e02bce9c",
   "metadata": {},
   "outputs": [],
   "source": [
    "globe_3_4type = 'globe_3/4'\n",
    "selected_types = ['globe_3/4']\n",
    "subset = puzzles[puzzles['puzzle_type'].isin(selected_types)]"
   ]
  },
  {
   "cell_type": "code",
   "execution_count": 7,
   "id": "5c33f387-8a9e-4c85-88a3-154c41842a78",
   "metadata": {},
   "outputs": [],
   "source": [
    "# globe_3/4の状態数\n",
    "allowed_moves = literal_eval(puzzle_info.loc[globe_3_4type, 'allowed_moves'])\n",
    "allowed_moves = {k: Permutation(v) for k, v in allowed_moves.items()}\n",
    "key_list = list(allowed_moves.keys())\n",
    "for key in key_list:\n",
    "    if key[0] == \"r\":\n",
    "        allowed_moves[\"-\" + key] = allowed_moves[key] ** (-1)"
   ]
  },
  {
   "cell_type": "code",
   "execution_count": 9,
   "id": "d20d36c3-ea93-4f63-afba-5e39ebd9768a",
   "metadata": {},
   "outputs": [
    {
     "data": {
      "text/plain": [
       "'f0.f1.r3.-r1.-r1.f5.f6.-r0.f6.f0.r0.-r1.-r2.f7.f2.f4.-r0.r1.r1.-r0.-r3.f2.-r1.f1.f0.f5.f0.f5.f4.-r1.f1.r1.f0.f3.f6.f3.f5.f0.f5.-r2.f5.f2.r1.r2.r0.f4.f3.f0.f1.f0.f6.f5.f7.r3.f1.r0.f7.f0.r2.f6.f5.r1.r1.-r3.f2.-r2.f3.f6.f4.f5.f0.f7.f0.-r1.f1.r1.f4.f3.f2.r0.f4.f7.r3.-r1.-r1.f5.f6.-r0.f6.f0.-r1.-r2.f7.-r3.-r1.f1.f0.f1.f0.f6.f4.f5.f0.f7.f5.f0.f5.f3.f0.-r1.f1.r1.f4.f7.-r2.f7.f2.r2.f6.f1.f2.f3.-r1.f4.f3.f0.-r1.f1.f0.-r3.f0.r3.-r1.f5.f4.f5.f4.r1.f3.-r1.f3.f2.f3.f0.f6.r0.f2.f0.-r1.f1.r1.f4.f7.-r2.f7.f6.-r1.-r2.f0.f6.f5.f7.-r1.-r1.f5.f6.-r3.-r2.-r1.f7.f4.-r1.-r0.f2.f4.f5.f2.r2.f6.f5.-r2.-r1.f3.-r2.-r3.-r1.f3.-r1.f4.r1.f7.-r2.-r1.r0.f5.-r1.f3.-r2.f7.-r1.-r1.f5.f2.f1.r0.f5.f6.-r0.f2.f1.f4.f7.-r1.f1.r1.f6.f5.-r2.f2.f5.f2.r1.f0.r2.f6.f5.-r2.f7.-r0.f2.r3.f2.-r1.f1.r1.f4.f3.f0.-r1.f1.r1.f4.-r1.-r1.f0.f3.f5.f0.f2.f1.f6.f4.f5.f0.f6.f0.f5.f4.f6.f0.-r1.f1.r1.f0.f5.f6.-r3.f6.f5.f7.-r1.f1.f4.r1.r1.f3.f0.-r1.f1.r1.f4.f7.-r2.f7.f2.r2.f6.f5.f0.f5.f2.f3.-r3.r1.f7.-r0.-r1.f3.-r3.-r0.f1.-r1.f1.f0.f5.f0.f5.f0.f6.f5.f7.r3.f1.r0.f1.f3.f4.f3.f5.f0.-r0.f2.f0.f6.f5.f7.r3.f1.r0.f7.f0.r2.r0.f4.f3.f1.f6.f3.r2.r3.-r1.-r1.f5.f6.r0.f7.-r1.f3.-r0.f2.-r1.f1.f0.f5.f0.f5.f3.f4.f3.f5.f0.f5.f0.f1.f2.-r0.f6.f5.r1.r1.-r3.f2'"
      ]
     },
     "execution_count": 9,
     "metadata": {},
     "output_type": "execute_result"
    }
   ],
   "source": [
    "moves_list = sample_submission.loc[359]['moves']\n",
    "moves_nor = moves_list.replace('-f', 'f')\n",
    "moves_nor"
   ]
  },
  {
   "cell_type": "code",
   "execution_count": 259,
   "id": "f03b106f-8e6b-402e-b1ce-c1264d5a3557",
   "metadata": {},
   "outputs": [],
   "source": [
    "def print34(state):\n",
    "    for i in range(4):\n",
    "        temp = []\n",
    "        for j in range(i*8,(i+1)*8):\n",
    "            temp.append(f\"{state[j]:3}\")\n",
    "        print(';'.join(temp))\n",
    "    print()"
   ]
  },
  {
   "cell_type": "code",
   "execution_count": 260,
   "id": "6290dd31-be4d-4743-9b17-8e9313e088bf",
   "metadata": {},
   "outputs": [
    {
     "name": "stdout",
     "output_type": "stream",
     "text": [
      "N0 ;N1 ;N2 ;N3 ;N4 ;N5 ;N6 ;N7 \n",
      "N8 ;N9 ;N10;N11;N12;N13;N14;N15\n",
      "N16;N17;N18;N19;N20;N21;N22;N23\n",
      "N24;N25;N26;N27;N28;N29;N30;N31\n",
      "\n"
     ]
    }
   ],
   "source": [
    "solution_state = subset.loc[368].solution_state.split(';')\n",
    "print34(solution_state)\n",
    "initial_state = subset.loc[368].initial_state.split(';')"
   ]
  },
  {
   "cell_type": "code",
   "execution_count": 261,
   "id": "3f067312-297b-4ea9-ba28-219afe97b7bf",
   "metadata": {},
   "outputs": [
    {
     "name": "stdout",
     "output_type": "stream",
     "text": [
      "N4 ;N6 ;N5 ;N7 ;N0 ;N1 ;N26;N25\n",
      "N14;N13;N18;N22;N20;N15;N9 ;N11\n",
      "N19;N12;N8 ;N16;N10;N21;N17;N23\n",
      "N29;N3 ;N24;N27;N30;N31;N2 ;N28\n",
      "\n",
      "N2 ;N31;N4 ;N6 ;N0 ;N1 ;N7 ;N5 \n",
      "N18;N17;N14;N13;N20;N15;N23;N22\n",
      "N8 ;N9 ;N19;N12;N10;N21;N11;N16\n",
      "N26;N28;N29;N3 ;N30;N25;N27;N24\n",
      "\n",
      "N1 ;N0 ;N6 ;N24;N28;N26;N7 ;N5 \n",
      "N14;N15;N20;N13;N9 ;N8 ;N23;N22\n",
      "N19;N21;N10;N12;N17;N18;N11;N16\n",
      "N25;N30;N3 ;N4 ;N31;N2 ;N27;N29\n",
      "\n",
      "N1 ;N0 ;N5 ;N7 ;N3 ;N30;N28;N26\n",
      "N14;N15;N12;N22;N23;N10;N9 ;N8 \n",
      "N19;N21;N13;N16;N11;N20;N17;N18\n",
      "N25;N24;N29;N27;N6 ;N4 ;N31;N2 \n",
      "\n",
      "N27;N1 ;N0 ;N5 ;N7 ;N30;N28;N26\n",
      "N16;N11;N14;N15;N12;N10;N9 ;N8 \n",
      "N22;N23;N19;N21;N13;N20;N17;N18\n",
      "N3 ;N25;N24;N29;N6 ;N4 ;N31;N2 \n",
      "\n",
      "N27;N6 ;N1 ;N0 ;N5 ;N7 ;N28;N26\n",
      "N16;N13;N20;N11;N14;N15;N9 ;N8 \n",
      "N22;N12;N10;N23;N19;N21;N17;N18\n",
      "N3 ;N30;N25;N24;N29;N4 ;N31;N2 \n",
      "\n",
      "N2 ;N31;N29;N24;N25;N28;N30;N3 \n",
      "N18;N17;N21;N19;N23;N10;N12;N22\n",
      "N8 ;N9 ;N15;N14;N11;N20;N13;N16\n",
      "N26;N7 ;N5 ;N0 ;N1 ;N4 ;N6 ;N27\n",
      "\n",
      "N2 ;N31;N29;N24;N25;N28;N30;N3 \n",
      "N18;N17;N21;N19;N10;N12;N22;N14\n",
      "N8 ;N9 ;N15;N11;N20;N13;N16;N23\n",
      "N26;N7 ;N5 ;N0 ;N1 ;N4 ;N6 ;N27\n",
      "\n",
      "N2 ;N1 ;N0 ;N5 ;N7 ;N28;N30;N3 \n",
      "N18;N11;N15;N9 ;N8 ;N12;N22;N14\n",
      "N10;N19;N21;N17;N20;N13;N16;N23\n",
      "N26;N25;N24;N29;N31;N4 ;N6 ;N27\n",
      "\n",
      "N4 ;N1 ;N0 ;N3 ;N2 ;N31;N29;N6 \n",
      "N13;N11;N15;N18;N20;N17;N21;N16\n",
      "N12;N19;N23;N10;N8 ;N9 ;N14;N22\n",
      "N28;N25;N24;N27;N26;N7 ;N5 ;N30\n",
      "\n",
      "N2 ;N3 ;N30;N1 ;N0 ;N31;N29;N28\n",
      "N18;N22;N14;N11;N15;N17;N21;N20\n",
      "N10;N16;N12;N19;N23;N9 ;N13;N8 \n",
      "N26;N27;N6 ;N25;N24;N7 ;N5 ;N4 \n",
      "\n",
      "N0 ;N1 ;N2 ;N5 ;N30;N31;N27;N28\n",
      "N11;N18;N22;N13;N14;N17;N16;N15\n",
      "N19;N10;N20;N21;N12;N9 ;N8 ;N23\n",
      "N24;N25;N26;N29;N6 ;N7 ;N3 ;N4 \n",
      "\n",
      "N27;N1 ;N2 ;N6 ;N0 ;N28;N29;N31\n",
      "N16;N18;N22;N11;N15;N21;N20;N17\n",
      "N8 ;N10;N14;N19;N23;N13;N12;N9 \n",
      "N3 ;N25;N26;N30;N24;N4 ;N5 ;N7 \n",
      "\n"
     ]
    }
   ],
   "source": [
    "state = initial_state\n",
    "print34(state)\n",
    "\n",
    "state = allowed_moves['f7'](state)\n",
    "state = allowed_moves['f0'](state)\n",
    "state = allowed_moves['-r3'](state)\n",
    "state = allowed_moves['f6'](state)\n",
    "state = allowed_moves['r3'](state)\n",
    "print34(state)\n",
    "\n",
    "state = allowed_moves['f0'](state)\n",
    "state = allowed_moves['f1'](state)\n",
    "state = allowed_moves['f2'](state)\n",
    "state = allowed_moves['-r3'](state)\n",
    "state = allowed_moves['f0'](state)\n",
    "state = allowed_moves['r3'](state)\n",
    "print34(state)\n",
    "\n",
    "state = allowed_moves['f3'](state)\n",
    "state = allowed_moves['f4'](state)\n",
    "state = allowed_moves['-r3'](state)\n",
    "state = allowed_moves['f2'](state)\n",
    "state = allowed_moves['r3'](state)\n",
    "print34(state)\n",
    "\n",
    "state = allowed_moves['f0'](state)\n",
    "state = allowed_moves['-r3'](state)\n",
    "state = allowed_moves['f1'](state)\n",
    "state = allowed_moves['r3'](state)\n",
    "print34(state)\n",
    "\n",
    "state = allowed_moves['f1'](state)\n",
    "state = allowed_moves['-r3'](state)\n",
    "state = allowed_moves['f2'](state)\n",
    "state = allowed_moves['r3'](state)\n",
    "print34(state)\n",
    "\n",
    "state = allowed_moves['f6'](state)\n",
    "state = allowed_moves['-r3'](state)\n",
    "state = allowed_moves['f2'](state)\n",
    "state = allowed_moves['r3'](state)\n",
    "print34(state)\n",
    "\n",
    "state = allowed_moves['f4'](state)\n",
    "state = allowed_moves['-r2'](state)\n",
    "state = allowed_moves['f4'](state)\n",
    "state = allowed_moves['r2'](state)\n",
    "print34(state)\n",
    "\n",
    "state = allowed_moves['-r2'](state)\n",
    "state = allowed_moves['f1'](state)\n",
    "state = allowed_moves['r2'](state)\n",
    "print34(state)\n",
    "\n",
    "state = allowed_moves['f5'](state)\n",
    "state = allowed_moves['-r2'](state)\n",
    "state = allowed_moves['f3'](state)\n",
    "state = allowed_moves['r2'](state)\n",
    "print34(state)\n",
    "\n",
    "state = allowed_moves['f0'](state)\n",
    "state = allowed_moves['f1'](state)\n",
    "state = allowed_moves['-r2'](state)\n",
    "state = allowed_moves['f7'](state)\n",
    "state = allowed_moves['r2'](state)\n",
    "print34(state)\n",
    "\n",
    "state = allowed_moves['f6'](state)\n",
    "state = allowed_moves['f0'](state)\n",
    "state = allowed_moves['f1'](state)\n",
    "state = allowed_moves['-r2'](state)\n",
    "state = allowed_moves['f7'](state)\n",
    "state = allowed_moves['r2'](state)\n",
    "print34(state)\n",
    "\n",
    "state = allowed_moves['f4'](state)\n",
    "state = allowed_moves['f5'](state)\n",
    "state = allowed_moves['-r2'](state)\n",
    "state = allowed_moves['f3'](state)\n",
    "state = allowed_moves['r2'](state)\n",
    "print34(state)\n",
    "\n",
    "\n",
    "state2 = state"
   ]
  },
  {
   "cell_type": "code",
   "execution_count": 248,
   "id": "70aba4de-a3e4-4127-9937-04ef491c4014",
   "metadata": {},
   "outputs": [
    {
     "name": "stdout",
     "output_type": "stream",
     "text": [
      "N27;N1;N2;N6;N0;N28;N29;N31\n",
      "N16;N18;N22;N11;N15;N21;N20;N17\n",
      "N8;N10;N14;N19;N23;N13;N12;N9\n",
      "N3;N25;N26;N30;N24;N4;N5;N7\n",
      "\n"
     ]
    }
   ],
   "source": [
    "state = state2\n",
    "print34(state)\n",
    "\n",
    "state3 = state"
   ]
  },
  {
   "cell_type": "code",
   "execution_count": 249,
   "id": "0ad1e585-5c6d-4773-8ff0-c59b2c211a51",
   "metadata": {},
   "outputs": [],
   "source": [
    "def count_pair(state, r, f):\n",
    "    count = 0\n",
    "    for i in range(r + 1):\n",
    "        for j in range(f * 2):\n",
    "            if state[i * f * 2 + j] == state[i * f * 2 + (j + 1) % (f * 2)]:\n",
    "                count += 1\n",
    "\n",
    "    return count\n",
    "\n",
    "\n",
    "def count_correct(state, correct):\n",
    "    count = 0\n",
    "    for i in range(8):\n",
    "        # count += state[i] == correct[i] and state[i+24] == correct[i+24]\n",
    "        # count += (state[i] < state[i+24]) * 3\n",
    "        count += (int(state[i][1:]) < int(state[i+24][1:])) * 3\n",
    "        count += int(state[i][1:])//2 == int(correct[i][1:])//2\n",
    "    for i in range(8, 16):\n",
    "        # count += state[i] == correct[i] and state[i+8] == correct[i+8]\n",
    "        # count += (state[i] < state[i+8]) * 3\n",
    "        count += (int(state[i][1:]) < int(state[i+8][1:])) * 3\n",
    "        count += int(state[i][1:])//2 == int(correct[i][1:])//2\n",
    "    return count"
   ]
  },
  {
   "cell_type": "code",
   "execution_count": 250,
   "id": "e8f492ba-4bce-4071-ac37-a2e973ed57cc",
   "metadata": {},
   "outputs": [
    {
     "name": "stderr",
     "output_type": "stream",
     "text": [
      "  0%|                                                                                 | 7012/16429825 [00:00<07:47, 35106.40it/s]"
     ]
    },
    {
     "name": "stdout",
     "output_type": "stream",
     "text": [
      "26 ['N27', 'N4', 'N2', 'N6', 'N0', 'N25', 'N29', 'N31', 'N16', 'N13', 'N22', 'N11', 'N15', 'N10', 'N20', 'N17', 'N8', 'N21', 'N14', 'N19', 'N23', 'N18', 'N12', 'N9', 'N3', 'N28', 'N26', 'N30', 'N24', 'N1', 'N5', 'N7'] -r0.-r1.f2.r0.r1.-r2.-r3.f2.r2.r3\n",
      "27 ['N27', 'N1', 'N2', 'N6', 'N0', 'N28', 'N29', 'N31', 'N16', 'N13', 'N22', 'N11', 'N15', 'N10', 'N20', 'N17', 'N8', 'N21', 'N14', 'N19', 'N23', 'N18', 'N12', 'N9', 'N3', 'N25', 'N26', 'N30', 'N24', 'N4', 'N5', 'N7'] -r1.f2.r1.-r2.f2.r2\n",
      "28 ['N27', 'N1', 'N2', 'N6', 'N0', 'N28', 'N29', 'N31', 'N16', 'N18', 'N12', 'N11', 'N15', 'N21', 'N14', 'N17', 'N8', 'N10', 'N20', 'N19', 'N23', 'N13', 'N22', 'N9', 'N3', 'N25', 'N26', 'N30', 'N24', 'N4', 'N5', 'N7'] -r1.f3.r1.-r2.f3.r2\n",
      "33 ['N1', 'N4', 'N2', 'N6', 'N0', 'N3', 'N29', 'N31', 'N18', 'N13', 'N22', 'N11', 'N15', 'N8', 'N20', 'N17', 'N10', 'N21', 'N14', 'N19', 'N23', 'N16', 'N12', 'N9', 'N25', 'N28', 'N26', 'N30', 'N24', 'N27', 'N5', 'N7'] f1.-r0.-r1.f1.r0.r1.-r2.-r3.f1.r2.r3.f1.-r0.-r1.f2.r0.r1.-r2.-r3.f2.r2.r3\n",
      "34 ['N27', 'N1', 'N2', 'N6', 'N0', 'N28', 'N29', 'N31', 'N16', 'N13', 'N12', 'N11', 'N15', 'N10', 'N14', 'N17', 'N8', 'N21', 'N20', 'N19', 'N23', 'N18', 'N22', 'N9', 'N3', 'N25', 'N26', 'N30', 'N24', 'N4', 'N5', 'N7'] -r1.f2.r1.-r2.f2.r2.-r1.f3.r1.-r2.f3.r2\n",
      "39 ['N1', 'N4', 'N5', 'N6', 'N0', 'N3', 'N26', 'N31', 'N18', 'N13', 'N12', 'N11', 'N15', 'N8', 'N14', 'N17', 'N10', 'N21', 'N20', 'N19', 'N23', 'N16', 'N22', 'N9', 'N25', 'N28', 'N29', 'N30', 'N24', 'N27', 'N2', 'N7'] f1.-r0.-r1.f1.r0.r1.-r2.-r3.f1.r2.r3.f1.-r0.-r1.f2.r0.r1.-r2.-r3.f2.r2.r3.-r0.-r1.f3.r0.r1.-r2.-r3.f3.r2.r3\n",
      "40 ['N1', 'N4', 'N2', 'N6', 'N0', 'N3', 'N29', 'N31', 'N18', 'N13', 'N12', 'N11', 'N15', 'N8', 'N14', 'N17', 'N10', 'N21', 'N20', 'N19', 'N23', 'N16', 'N22', 'N9', 'N25', 'N28', 'N26', 'N30', 'N24', 'N27', 'N5', 'N7'] f1.-r0.-r1.f1.r0.r1.-r2.-r3.f1.r2.r3.f1.-r0.-r1.f2.r0.r1.-r2.-r3.f2.r2.r3.-r1.f3.r1.-r2.f3.r2\n"
     ]
    },
    {
     "name": "stderr",
     "output_type": "stream",
     "text": [
      "  1%|▋                                                                              | 153765/16429825 [00:04<07:25, 36498.94it/s]"
     ]
    },
    {
     "name": "stdout",
     "output_type": "stream",
     "text": [
      "41 ['N4', 'N1', 'N2', 'N3', 'N6', 'N0', 'N29', 'N31', 'N13', 'N18', 'N12', 'N11', 'N8', 'N15', 'N14', 'N17', 'N21', 'N10', 'N20', 'N19', 'N16', 'N23', 'N22', 'N9', 'N28', 'N25', 'N26', 'N27', 'N30', 'N24', 'N5', 'N7'] -r1.f3.r1.-r2.f3.r2.f5.-r0.-r1.f5.r0.r1.-r2.-r3.f5.r2.r3.f5.-r0.-r1.f1.r0.r1.-r2.-r3.f1.r2.r3.f4.-r0.f4.r0.-r3.f4.r3.f4\n"
     ]
    },
    {
     "name": "stderr",
     "output_type": "stream",
     "text": [
      " 10%|███████▌                                                                      | 1600831/16429825 [00:45<06:54, 35763.60it/s]"
     ]
    },
    {
     "name": "stdout",
     "output_type": "stream",
     "text": [
      "42 ['N4', 'N1', 'N6', 'N3', 'N5', 'N0', 'N26', 'N31', 'N13', 'N18', 'N11', 'N8', 'N12', 'N15', 'N14', 'N17', 'N21', 'N10', 'N19', 'N16', 'N20', 'N23', 'N22', 'N9', 'N28', 'N25', 'N30', 'N27', 'N29', 'N24', 'N2', 'N7'] -r0.-r1.f3.r0.r1.-r2.-r3.f3.r2.r3.f3.-r0.-r1.f3.r0.r1.-r2.-r3.f3.r2.r3.f3.f5.-r0.-r1.f5.r0.r1.-r2.-r3.f5.r2.r3.f5.-r0.-r1.f1.r0.r1.-r2.-r3.f1.r2.r3.f4.-r0.-r1.f4.r0.r1.-r2.-r3.f4.r2.r3.f4\n"
     ]
    },
    {
     "name": "stderr",
     "output_type": "stream",
     "text": [
      " 49%|█████████████████████████████████████▉                                        | 7990853/16429825 [03:47<04:01, 34970.83it/s]"
     ]
    },
    {
     "name": "stdout",
     "output_type": "stream",
     "text": [
      "43 ['N2', 'N4', 'N5', 'N6', 'N0', 'N7', 'N3', 'N1', 'N22', 'N13', 'N12', 'N11', 'N15', 'N9', 'N8', 'N18', 'N14', 'N21', 'N20', 'N19', 'N23', 'N17', 'N16', 'N10', 'N26', 'N28', 'N29', 'N30', 'N24', 'N31', 'N27', 'N25'] f1.-r0.-r1.f1.r0.r1.-r2.-r3.f1.r2.r3.f1.f0.-r0.-r1.f0.r0.r1.-r2.-r3.f0.r2.r3.f0.f2.-r0.-r1.f2.r0.r1.-r2.-r3.f2.r2.r3.f2.f1.-r0.-r1.f1.r0.r1.-r2.-r3.f1.r2.r3.f1.-r0.-r1.f2.r0.r1.-r2.-r3.f2.r2.r3.-r0.-r1.f3.r0.r1.-r2.-r3.f3.r2.r3\n",
      "44 ['N2', 'N4', 'N5', 'N6', 'N0', 'N7', 'N3', 'N1', 'N16', 'N13', 'N12', 'N11', 'N15', 'N9', 'N14', 'N18', 'N8', 'N21', 'N20', 'N19', 'N23', 'N17', 'N22', 'N10', 'N26', 'N28', 'N29', 'N30', 'N24', 'N31', 'N27', 'N25'] f1.-r0.-r1.f1.r0.r1.-r2.-r3.f1.r2.r3.f1.f0.-r0.-r1.f0.r0.r1.-r2.-r3.f0.r2.r3.f0.f2.-r0.f2.r0.-r3.f2.r3.f2.f1.-r0.-r1.f1.r0.r1.-r2.-r3.f1.r2.r3.f1.-r0.-r1.f2.r0.r1.-r2.-r3.f2.r2.r3.-r0.-r1.f3.r0.r1.-r2.-r3.f3.r2.r3\n"
     ]
    },
    {
     "name": "stderr",
     "output_type": "stream",
     "text": [
      " 49%|██████████████████████████████████████                                        | 8005156/16429825 [03:47<04:03, 34637.11it/s]"
     ]
    },
    {
     "name": "stdout",
     "output_type": "stream",
     "text": [
      "45 ['N4', 'N2', 'N5', 'N6', 'N0', 'N3', 'N7', 'N1', 'N13', 'N17', 'N12', 'N11', 'N15', 'N8', 'N14', 'N18', 'N21', 'N9', 'N20', 'N19', 'N23', 'N16', 'N22', 'N10', 'N28', 'N26', 'N29', 'N30', 'N24', 'N27', 'N31', 'N25'] f1.-r0.-r1.f1.r0.r1.-r2.-r3.f1.r2.r3.f1.f0.-r0.-r1.f0.r0.r1.-r2.-r3.f0.r2.r3.f0.-r0.-r1.f2.r0.r1.-r2.-r3.f2.r2.r3.f1.-r0.-r1.f1.r0.r1.-r2.-r3.f1.r2.r3.f1.f2.-r0.f2.r0.-r3.f2.r3.f2.-r0.-r1.f3.r0.r1.-r2.-r3.f3.r2.r3\n"
     ]
    },
    {
     "name": "stderr",
     "output_type": "stream",
     "text": [
      " 82%|██████████████████████████████████████████████████████████████▉              | 13427534/16429825 [06:33<01:48, 27616.78it/s]"
     ]
    },
    {
     "name": "stdout",
     "output_type": "stream",
     "text": [
      "46 ['N4', 'N1', 'N6', 'N2', 'N0', 'N3', 'N29', 'N31', 'N13', 'N12', 'N11', 'N9', 'N15', 'N8', 'N10', 'N14', 'N21', 'N20', 'N19', 'N17', 'N23', 'N16', 'N18', 'N22', 'N28', 'N25', 'N30', 'N26', 'N24', 'N27', 'N5', 'N7'] -r0.-r1.f2.r0.r1.-r2.-r3.f2.r2.r3.f1.-r0.-r1.f1.r0.r1.-r2.-r3.f1.r2.r3.f1.f3.-r0.-r1.f3.r0.r1.-r2.-r3.f3.r2.r3.f3.-r1.f0.r1.-r2.f0.r2.f6.-r1.f6.r1.-r2.f6.r2.f6.-r0.-r1.f2.r0.r1.-r2.-r3.f2.r2.r3\n"
     ]
    },
    {
     "name": "stderr",
     "output_type": "stream",
     "text": [
      " 82%|██████████████████████████████████████████████████████████████▉              | 13435886/16429825 [06:33<01:52, 26608.32it/s]"
     ]
    },
    {
     "name": "stdout",
     "output_type": "stream",
     "text": [
      "47 ['N4', 'N1', 'N2', 'N6', 'N0', 'N3', 'N31', 'N29', 'N13', 'N9', 'N12', 'N11', 'N15', 'N8', 'N10', 'N14', 'N21', 'N17', 'N20', 'N19', 'N23', 'N16', 'N18', 'N22', 'N28', 'N25', 'N26', 'N30', 'N24', 'N27', 'N7', 'N5'] -r0.-r1.f2.r0.r1.-r2.-r3.f2.r2.r3.f1.-r0.-r1.f1.r0.r1.-r2.-r3.f1.r2.r3.f1.-r1.f3.r1.-r2.f3.r2.f7.-r0.-r1.f7.r0.r1.-r2.-r3.f7.r2.r3.f7.f6.-r1.f6.r1.-r2.f6.r2.f6.-r0.-r1.f2.r0.r1.-r2.-r3.f2.r2.r3\n"
     ]
    },
    {
     "name": "stderr",
     "output_type": "stream",
     "text": [
      " 94%|████████████████████████████████████████████████████████████████████████▍    | 15449392/16429825 [07:40<00:30, 31964.68it/s]"
     ]
    },
    {
     "name": "stdout",
     "output_type": "stream",
     "text": [
      "48 ['N4', 'N1', 'N2', 'N6', 'N3', 'N31', 'N0', 'N29', 'N13', 'N9', 'N12', 'N11', 'N8', 'N10', 'N15', 'N14', 'N21', 'N17', 'N20', 'N19', 'N16', 'N18', 'N23', 'N22', 'N28', 'N25', 'N26', 'N30', 'N27', 'N7', 'N24', 'N5'] -r1.f3.r1.-r2.f3.r2.f5.-r0.-r1.f5.r0.r1.-r2.-r3.f5.r2.r3.f5.-r0.-r1.f1.r0.r1.-r2.-r3.f1.r2.r3.f7.-r0.-r1.f7.r0.r1.-r2.-r3.f7.r2.r3.f7.f6.-r0.-r1.f6.r0.r1.-r2.-r3.f6.r2.r3.f6.-r1.f2.r1.-r2.f2.r2\n"
     ]
    },
    {
     "name": "stderr",
     "output_type": "stream",
     "text": [
      "100%|█████████████████████████████████████████████████████████████████████████████| 16429825/16429825 [08:10<00:00, 33473.40it/s]"
     ]
    },
    {
     "name": "stdout",
     "output_type": "stream",
     "text": [
      "48 ['N4', 'N1', 'N2', 'N6', 'N3', 'N31', 'N0', 'N29', 'N13', 'N9', 'N12', 'N11', 'N8', 'N10', 'N15', 'N14', 'N21', 'N17', 'N20', 'N19', 'N16', 'N18', 'N23', 'N22', 'N28', 'N25', 'N26', 'N30', 'N27', 'N7', 'N24', 'N5'] -r1.f3.r1.-r2.f3.r2.f5.-r0.-r1.f5.r0.r1.-r2.-r3.f5.r2.r3.f5.-r0.-r1.f1.r0.r1.-r2.-r3.f1.r2.r3.f7.-r0.-r1.f7.r0.r1.-r2.-r3.f7.r2.r3.f7.f6.-r0.-r1.f6.r0.r1.-r2.-r3.f6.r2.r3.f6.-r1.f2.r1.-r2.f2.r2\n"
     ]
    },
    {
     "name": "stderr",
     "output_type": "stream",
     "text": [
      "\n"
     ]
    }
   ],
   "source": [
    "state = state3\n",
    "moves_list = []\n",
    "correct_num = count_correct(state, solution_state)\n",
    "max_correct_num = correct_num\n",
    "max_correct_state = []\n",
    "max_correct_moves = ''\n",
    "\n",
    "for key in tqdm.tqdm(solve_dict_rev, total=len(solve_dict_rev)):\n",
    "    state = state3\n",
    "    new_state = Permutation(solve_dict_rev[key])(state)\n",
    "    correct_num = count_correct(new_state, solution_state)\n",
    "    if max_correct_num < correct_num:\n",
    "        max_correct_num = correct_num\n",
    "        max_correct_state = new_state\n",
    "        max_correct_moves = key\n",
    "        print(max_correct_num, max_correct_state, max_correct_moves)\n",
    "print(max_correct_num, max_correct_state, max_correct_moves)"
   ]
  },
  {
   "cell_type": "code",
   "execution_count": 251,
   "id": "48146b39-4548-4f28-a14b-489953b6372d",
   "metadata": {},
   "outputs": [
    {
     "name": "stdout",
     "output_type": "stream",
     "text": [
      "N4;N1;N2;N6;N3;N31;N0;N29\n",
      "N13;N9;N12;N11;N8;N10;N15;N14\n",
      "N21;N17;N20;N19;N16;N18;N23;N22\n",
      "N28;N25;N26;N30;N27;N7;N24;N5\n",
      "\n"
     ]
    }
   ],
   "source": [
    "print34(max_correct_state)"
   ]
  },
  {
   "cell_type": "code",
   "execution_count": 252,
   "id": "7d4a41d4-a211-4b40-8cb3-90cb50f16a28",
   "metadata": {},
   "outputs": [
    {
     "name": "stderr",
     "output_type": "stream",
     "text": [
      "  0%|                                                                                 | 3667/16429825 [00:00<07:32, 36336.41it/s]"
     ]
    },
    {
     "name": "stdout",
     "output_type": "stream",
     "text": [
      "49 ['N4', 'N1', 'N2', 'N3', 'N6', 'N31', 'N0', 'N29', 'N13', 'N9', 'N12', 'N11', 'N8', 'N10', 'N15', 'N14', 'N21', 'N17', 'N20', 'N19', 'N16', 'N18', 'N23', 'N22', 'N28', 'N25', 'N26', 'N27', 'N30', 'N7', 'N24', 'N5'] f4.-r0.f4.r0.-r3.f4.r3.f4\n",
      "50 ['N4', 'N1', 'N2', 'N3', 'N5', 'N31', 'N0', 'N30', 'N13', 'N9', 'N12', 'N11', 'N8', 'N10', 'N15', 'N14', 'N21', 'N17', 'N20', 'N19', 'N16', 'N18', 'N23', 'N22', 'N28', 'N25', 'N26', 'N27', 'N29', 'N7', 'N24', 'N6'] -r0.f0.r0.-r3.f0.r3.f4.-r0.f4.r0.-r3.f4.r3.f4\n",
      "54 ['N1', 'N7', 'N2', 'N6', 'N3', 'N5', 'N0', 'N4', 'N9', 'N14', 'N12', 'N11', 'N8', 'N10', 'N15', 'N13', 'N17', 'N22', 'N20', 'N19', 'N16', 'N18', 'N23', 'N21', 'N25', 'N31', 'N26', 'N30', 'N27', 'N29', 'N24', 'N28'] f0.-r0.-r1.f0.r0.r1.-r2.-r3.f0.r2.r3.f0.f1.-r0.-r1.f1.r0.r1.-r2.-r3.f1.r2.r3.f1.-r0.f2.r0.-r3.f2.r3\n",
      "55 ['N1', 'N7', 'N2', 'N6', 'N3', 'N5', 'N0', 'N4', 'N9', 'N13', 'N12', 'N11', 'N8', 'N10', 'N15', 'N14', 'N17', 'N21', 'N20', 'N19', 'N16', 'N18', 'N23', 'N22', 'N25', 'N31', 'N26', 'N30', 'N27', 'N29', 'N24', 'N28'] f0.-r0.f0.r0.-r3.f0.r3.f0.f1.-r0.-r1.f1.r0.r1.-r2.-r3.f1.r2.r3.f1.-r0.f2.r0.-r3.f2.r3\n"
     ]
    },
    {
     "name": "stderr",
     "output_type": "stream",
     "text": [
      "  0%|▏                                                                               | 28765/16429825 [00:00<08:26, 32349.43it/s]"
     ]
    },
    {
     "name": "stdout",
     "output_type": "stream",
     "text": [
      "56 ['N4', 'N1', 'N2', 'N6', 'N5', 'N3', 'N0', 'N7', 'N13', 'N9', 'N12', 'N11', 'N10', 'N8', 'N15', 'N14', 'N21', 'N17', 'N20', 'N19', 'N18', 'N16', 'N23', 'N22', 'N28', 'N25', 'N26', 'N30', 'N29', 'N27', 'N24', 'N31'] f0.-r0.-r1.f0.r0.r1.-r2.-r3.f0.r2.r3.f0.f5.-r0.-r1.f5.r0.r1.-r2.-r3.f5.r2.r3.f5.-r0.f1.r0.-r3.f1.r3.f0.-r0.-r1.f0.r0.r1.-r2.-r3.f0.r2.r3.f0\n"
     ]
    },
    {
     "name": "stderr",
     "output_type": "stream",
     "text": [
      "  1%|▋                                                                              | 146872/16429825 [00:04<08:03, 33657.55it/s]"
     ]
    },
    {
     "name": "stdout",
     "output_type": "stream",
     "text": [
      "57 ['N4', 'N1', 'N2', 'N5', 'N6', 'N3', 'N0', 'N7', 'N13', 'N9', 'N11', 'N10', 'N12', 'N8', 'N15', 'N14', 'N21', 'N17', 'N19', 'N18', 'N20', 'N16', 'N23', 'N22', 'N28', 'N25', 'N26', 'N29', 'N30', 'N27', 'N24', 'N31'] f3.-r1.f3.r1.-r2.f3.r2.f3.f5.-r0.-r1.f5.r0.r1.-r2.-r3.f5.r2.r3.f5.f4.-r0.-r1.f4.r0.r1.-r2.-r3.f4.r2.r3.f4.-r0.f0.r0.-r3.f0.r3\n"
     ]
    },
    {
     "name": "stderr",
     "output_type": "stream",
     "text": [
      "  4%|███▎                                                                           | 692500/16429825 [00:20<07:09, 36661.75it/s]"
     ]
    },
    {
     "name": "stdout",
     "output_type": "stream",
     "text": [
      "58 ['N4', 'N1', 'N2', 'N6', 'N5', 'N3', 'N0', 'N7', 'N13', 'N9', 'N11', 'N10', 'N12', 'N8', 'N15', 'N14', 'N21', 'N17', 'N19', 'N18', 'N20', 'N16', 'N23', 'N22', 'N28', 'N25', 'N26', 'N30', 'N29', 'N27', 'N24', 'N31'] -r0.f0.r0.-r3.f0.r3.f3.-r1.f3.r1.-r2.f3.r2.f3.f5.-r0.-r1.f5.r0.r1.-r2.-r3.f5.r2.r3.f5.f4.-r0.-r1.f4.r0.r1.-r2.-r3.f4.r2.r3.f4.-r0.f0.r0.-r3.f0.r3\n"
     ]
    },
    {
     "name": "stderr",
     "output_type": "stream",
     "text": [
      " 91%|██████████████████████████████████████████████████████████████████████       | 14946567/16429825 [07:04<00:39, 37281.21it/s]"
     ]
    },
    {
     "name": "stdout",
     "output_type": "stream",
     "text": [
      "59 ['N4', 'N1', 'N2', 'N3', 'N5', 'N6', 'N0', 'N7', 'N13', 'N9', 'N11', 'N10', 'N8', 'N12', 'N15', 'N14', 'N21', 'N17', 'N19', 'N18', 'N16', 'N20', 'N23', 'N22', 'N28', 'N25', 'N26', 'N27', 'N29', 'N30', 'N24', 'N31'] f3.-r1.f3.r1.-r2.f3.r2.f3.f4.-r0.-r1.f4.r0.r1.-r2.-r3.f4.r2.r3.f4.-r0.f0.r0.-r3.f0.r3.f5.-r0.-r1.f5.r0.r1.-r2.-r3.f5.r2.r3.f5.f4.-r0.-r1.f4.r0.r1.-r2.-r3.f4.r2.r3.f4.-r0.f0.r0.-r3.f0.r3\n"
     ]
    },
    {
     "name": "stderr",
     "output_type": "stream",
     "text": [
      "100%|█████████████████████████████████████████████████████████████████████████████| 16429825/16429825 [07:46<00:00, 35224.32it/s]\n"
     ]
    },
    {
     "name": "stdout",
     "output_type": "stream",
     "text": [
      "59 ['N4', 'N1', 'N2', 'N3', 'N5', 'N6', 'N0', 'N7', 'N13', 'N9', 'N11', 'N10', 'N8', 'N12', 'N15', 'N14', 'N21', 'N17', 'N19', 'N18', 'N16', 'N20', 'N23', 'N22', 'N28', 'N25', 'N26', 'N27', 'N29', 'N30', 'N24', 'N31'] f3.-r1.f3.r1.-r2.f3.r2.f3.f4.-r0.-r1.f4.r0.r1.-r2.-r3.f4.r2.r3.f4.-r0.f0.r0.-r3.f0.r3.f5.-r0.-r1.f5.r0.r1.-r2.-r3.f5.r2.r3.f5.f4.-r0.-r1.f4.r0.r1.-r2.-r3.f4.r2.r3.f4.-r0.f0.r0.-r3.f0.r3\n"
     ]
    }
   ],
   "source": [
    "tuning2 = max_correct_state\n",
    "moves_list = []\n",
    "correct_num = count_correct(tuning2, solution_state)\n",
    "max_correct_num = correct_num\n",
    "max_correct_state = []\n",
    "max_correct_moves = ''\n",
    "\n",
    "for key in tqdm.tqdm(solve_dict_rev, total=len(solve_dict_rev)):\n",
    "    state = tuning2\n",
    "    new_state = Permutation(solve_dict_rev[key])(state)\n",
    "    correct_num = count_correct(new_state, solution_state)\n",
    "    if max_correct_num < correct_num:\n",
    "        max_correct_num = correct_num\n",
    "        max_correct_state = new_state\n",
    "        max_correct_moves = key\n",
    "        print(max_correct_num, max_correct_state, max_correct_moves)\n",
    "print(max_correct_num, max_correct_state, max_correct_moves)"
   ]
  },
  {
   "cell_type": "code",
   "execution_count": 253,
   "id": "bb4df794-f757-4f09-a1ba-c06775d7e8a0",
   "metadata": {},
   "outputs": [
    {
     "name": "stdout",
     "output_type": "stream",
     "text": [
      "N4;N1;N2;N3;N5;N6;N0;N7\n",
      "N13;N9;N11;N10;N8;N12;N15;N14\n",
      "N21;N17;N19;N18;N16;N20;N23;N22\n",
      "N28;N25;N26;N27;N29;N30;N24;N31\n",
      "\n"
     ]
    }
   ],
   "source": [
    "print34(max_correct_state)"
   ]
  },
  {
   "cell_type": "code",
   "execution_count": 255,
   "id": "41cc9317-71ff-4ae0-9a60-d711c7a547c7",
   "metadata": {},
   "outputs": [
    {
     "name": "stderr",
     "output_type": "stream",
     "text": [
      "  0%|                                                                                 | 6015/16429825 [00:00<09:02, 30284.58it/s]"
     ]
    },
    {
     "name": "stdout",
     "output_type": "stream",
     "text": [
      "60 ['N4', 'N1', 'N2', 'N3', 'N5', 'N0', 'N6', 'N7', 'N13', 'N9', 'N11', 'N10', 'N8', 'N12', 'N15', 'N14', 'N21', 'N17', 'N19', 'N18', 'N16', 'N20', 'N23', 'N22', 'N28', 'N25', 'N26', 'N27', 'N29', 'N24', 'N30', 'N31'] f6.-r0.f6.r0.-r3.f6.r3.f6\n"
     ]
    },
    {
     "name": "stderr",
     "output_type": "stream",
     "text": [
      "  0%|▏                                                                               | 28161/16429825 [00:00<07:52, 34718.51it/s]"
     ]
    },
    {
     "name": "stdout",
     "output_type": "stream",
     "text": [
      "61 ['N0', 'N1', 'N2', 'N3', 'N5', 'N4', 'N6', 'N7', 'N15', 'N9', 'N11', 'N10', 'N8', 'N13', 'N12', 'N14', 'N23', 'N17', 'N19', 'N18', 'N16', 'N21', 'N20', 'N22', 'N24', 'N25', 'N26', 'N27', 'N29', 'N28', 'N30', 'N31'] f0.-r0.-r1.f0.r0.r1.-r2.-r3.f0.r2.r3.f0.f7.-r0.-r1.f7.r0.r1.-r2.-r3.f7.r2.r3.f7.f0.-r0.-r1.f0.r0.r1.-r2.-r3.f0.r2.r3.f0.f6.-r0.-r1.f6.r0.r1.-r2.-r3.f6.r2.r3.f6\n",
      "62 ['N0', 'N1', 'N2', 'N3', 'N5', 'N4', 'N6', 'N7', 'N13', 'N9', 'N11', 'N10', 'N8', 'N12', 'N15', 'N14', 'N21', 'N17', 'N19', 'N18', 'N16', 'N20', 'N23', 'N22', 'N24', 'N25', 'N26', 'N27', 'N29', 'N28', 'N30', 'N31'] f0.-r0.-r1.f0.r0.r1.-r2.-r3.f0.r2.r3.f0.f7.-r0.f7.r0.-r3.f7.r3.f7.f0.-r0.-r1.f0.r0.r1.-r2.-r3.f0.r2.r3.f0.f6.-r0.f6.r0.-r3.f6.r3.f6\n"
     ]
    },
    {
     "name": "stderr",
     "output_type": "stream",
     "text": [
      " 18%|██████████████                                                                | 2967426/16429825 [01:24<06:02, 37138.07it/s]"
     ]
    },
    {
     "name": "stdout",
     "output_type": "stream",
     "text": [
      "64 ['N0', 'N1', 'N2', 'N3', 'N5', 'N4', 'N6', 'N7', 'N8', 'N9', 'N11', 'N10', 'N12', 'N13', 'N15', 'N14', 'N16', 'N17', 'N19', 'N18', 'N20', 'N21', 'N23', 'N22', 'N24', 'N25', 'N26', 'N27', 'N29', 'N28', 'N30', 'N31'] f0.-r0.-r1.f0.r0.r1.-r2.-r3.f0.r2.r3.f0.f5.-r1.f5.r1.-r2.f5.r2.f5.f6.-r1.f6.r1.-r2.f6.r2.f6.f7.-r0.-r1.f7.r0.r1.-r2.-r3.f7.r2.r3.f7.f0.-r0.-r1.f0.r0.r1.-r2.-r3.f0.r2.r3.f0.f6.-r0.-r1.f6.r0.r1.-r2.-r3.f6.r2.r3.f6\n"
     ]
    },
    {
     "name": "stderr",
     "output_type": "stream",
     "text": [
      "100%|█████████████████████████████████████████████████████████████████████████████| 16429825/16429825 [07:19<00:00, 37383.34it/s]"
     ]
    },
    {
     "name": "stdout",
     "output_type": "stream",
     "text": [
      "64 ['N0', 'N1', 'N2', 'N3', 'N5', 'N4', 'N6', 'N7', 'N8', 'N9', 'N11', 'N10', 'N12', 'N13', 'N15', 'N14', 'N16', 'N17', 'N19', 'N18', 'N20', 'N21', 'N23', 'N22', 'N24', 'N25', 'N26', 'N27', 'N29', 'N28', 'N30', 'N31'] f0.-r0.-r1.f0.r0.r1.-r2.-r3.f0.r2.r3.f0.f5.-r1.f5.r1.-r2.f5.r2.f5.f6.-r1.f6.r1.-r2.f6.r2.f6.f7.-r0.-r1.f7.r0.r1.-r2.-r3.f7.r2.r3.f7.f0.-r0.-r1.f0.r0.r1.-r2.-r3.f0.r2.r3.f0.f6.-r0.-r1.f6.r0.r1.-r2.-r3.f6.r2.r3.f6\n"
     ]
    },
    {
     "name": "stderr",
     "output_type": "stream",
     "text": [
      "\n"
     ]
    }
   ],
   "source": [
    "tuning3 = max_correct_state\n",
    "moves_list = []\n",
    "correct_num = count_correct(tuning3, solution_state)\n",
    "max_correct_num = correct_num\n",
    "max_correct_state = []\n",
    "max_correct_moves = ''\n",
    "\n",
    "for key in tqdm.tqdm(solve_dict_rev, total=len(solve_dict_rev)):\n",
    "    state = tuning3\n",
    "    new_state = Permutation(solve_dict_rev[key])(state)\n",
    "    correct_num = count_correct(new_state, solution_state)\n",
    "    if max_correct_num < correct_num:\n",
    "        max_correct_num = correct_num\n",
    "        max_correct_state = new_state\n",
    "        max_correct_moves = key\n",
    "        print(max_correct_num, max_correct_state, max_correct_moves)\n",
    "print(max_correct_num, max_correct_state, max_correct_moves)"
   ]
  },
  {
   "cell_type": "code",
   "execution_count": 256,
   "id": "013b1b7e-2e96-41b6-94a2-d4b1a8db581b",
   "metadata": {},
   "outputs": [
    {
     "name": "stdout",
     "output_type": "stream",
     "text": [
      "N0;N1;N2;N3;N5;N4;N6;N7\n",
      "N8;N9;N11;N10;N12;N13;N15;N14\n",
      "N16;N17;N19;N18;N20;N21;N23;N22\n",
      "N24;N25;N26;N27;N29;N28;N30;N31\n",
      "\n"
     ]
    }
   ],
   "source": [
    "print34(max_correct_state)"
   ]
  },
  {
   "cell_type": "code",
   "execution_count": null,
   "id": "000f9b55-3bc4-47aa-931c-9bc36026d20e",
   "metadata": {},
   "outputs": [],
   "source": [
    "tuning4 = max_correct_state\n",
    "state = tuning4\n",
    "\n",
    "state = allowed_moves['f5'](state)\n",
    "state = allowed_moves['-r0'](state)\n",
    "state = allowed_moves['f5'](state)\n",
    "state = allowed_moves['r0'](state)\n",
    "state = allowed_moves['-r3'](state)\n",
    "state = allowed_moves['f5'](state)\n",
    "state = allowed_moves['r3'](state)\n",
    "state = allowed_moves['f5'](state)\n",
    "\n",
    "state = allowed_moves['f3'](state)\n",
    "state = allowed_moves['-r1'](state)\n",
    "state = allowed_moves['f3'](state)\n",
    "state = allowed_moves['r1'](state)\n",
    "state = allowed_moves['-r2'](state)\n",
    "state = allowed_moves['f3'](state)\n",
    "state = allowed_moves['r2'](state)\n",
    "state = allowed_moves['f3'](state)\n",
    "\n",
    "state = allowed_moves['f7'](state)\n",
    "state = allowed_moves['-r1'](state)\n",
    "state = allowed_moves['f7'](state)\n",
    "state = allowed_moves['r1'](state)\n",
    "state = allowed_moves['-r2'](state)\n",
    "state = allowed_moves['f7'](state)\n",
    "state = allowed_moves['r2'](state)\n",
    "state = allowed_moves['f7'](state)\n",
    "\n",
    "print34(state)"
   ]
  },
  {
   "cell_type": "code",
   "execution_count": null,
   "id": "53dd943a-edbf-471b-ac0c-acb1a97ce75e",
   "metadata": {},
   "outputs": [],
   "source": []
  },
  {
   "cell_type": "code",
   "execution_count": null,
   "id": "3cce78a9-db43-4f65-8f1f-602398964b67",
   "metadata": {},
   "outputs": [],
   "source": []
  },
  {
   "cell_type": "code",
   "execution_count": 220,
   "id": "99186ccd-6d35-4d6d-8fb0-80504b75842a",
   "metadata": {},
   "outputs": [
    {
     "name": "stderr",
     "output_type": "stream",
     "text": [
      "  0%|                                                                                | 16573/16429825 [00:00<06:23, 42780.96it/s]"
     ]
    },
    {
     "name": "stdout",
     "output_type": "stream",
     "text": [
      "62 ['N0', 'N1', 'N2', 'N7', 'N4', 'N5', 'N6', 'N3', 'N8', 'N9', 'N10', 'N11', 'N12', 'N13', 'N14', 'N15', 'N16', 'N17', 'N18', 'N19', 'N20', 'N21', 'N22', 'N23', 'N24', 'N25', 'N26', 'N31', 'N28', 'N29', 'N30', 'N27'] f3.-r0.-r1.f3.r0.r1.-r2.-r3.f3.r2.r3.f3.f4.-r1.f4.r1.-r2.f4.r2.f4.f3.-r0.-r1.f3.r0.r1.-r2.-r3.f3.r2.r3.f3\n"
     ]
    },
    {
     "name": "stderr",
     "output_type": "stream",
     "text": [
      "100%|█████████████████████████████████████████████████████████████████████████████| 16429825/16429825 [06:38<00:00, 41186.46it/s]"
     ]
    },
    {
     "name": "stdout",
     "output_type": "stream",
     "text": [
      "62 ['N0', 'N1', 'N2', 'N7', 'N4', 'N5', 'N6', 'N3', 'N8', 'N9', 'N10', 'N11', 'N12', 'N13', 'N14', 'N15', 'N16', 'N17', 'N18', 'N19', 'N20', 'N21', 'N22', 'N23', 'N24', 'N25', 'N26', 'N31', 'N28', 'N29', 'N30', 'N27'] f3.-r0.-r1.f3.r0.r1.-r2.-r3.f3.r2.r3.f3.f4.-r1.f4.r1.-r2.f4.r2.f4.f3.-r0.-r1.f3.r0.r1.-r2.-r3.f3.r2.r3.f3\n"
     ]
    },
    {
     "name": "stderr",
     "output_type": "stream",
     "text": [
      "\n"
     ]
    }
   ],
   "source": [
    "tuning4 = max_correct_state\n",
    "moves_list = []\n",
    "correct_num = count_correct(tuning4, solution_state)\n",
    "max_correct_num = correct_num\n",
    "max_correct_state = []\n",
    "max_correct_moves = ''\n",
    "\n",
    "for key in tqdm.tqdm(solve_dict_rev, total=len(solve_dict_rev)):\n",
    "    state = tuning4\n",
    "    new_state = Permutation(solve_dict_rev[key])(state)\n",
    "    correct_num = count_correct(new_state, solution_state)\n",
    "    if max_correct_num < correct_num:\n",
    "        max_correct_num = correct_num\n",
    "        max_correct_state = new_state\n",
    "        max_correct_moves = key\n",
    "        print(max_correct_num, max_correct_state, max_correct_moves)\n",
    "print(max_correct_num, max_correct_state, max_correct_moves)"
   ]
  },
  {
   "cell_type": "code",
   "execution_count": 222,
   "id": "c295489b-7944-4584-8ed5-7ffbe1e5fc9b",
   "metadata": {},
   "outputs": [
    {
     "name": "stdout",
     "output_type": "stream",
     "text": [
      "N0;N1;N2;N7;N4;N5;N6;N3\n",
      "N8;N9;N10;N11;N12;N13;N14;N15\n",
      "N16;N17;N18;N19;N20;N21;N22;N23\n",
      "N24;N25;N26;N31;N28;N29;N30;N27\n",
      "\n"
     ]
    }
   ],
   "source": [
    "print34(max_correct_state)"
   ]
  },
  {
   "cell_type": "code",
   "execution_count": null,
   "id": "0af80b71-d99f-4eff-9a06-dd142749e451",
   "metadata": {},
   "outputs": [],
   "source": []
  },
  {
   "cell_type": "code",
   "execution_count": null,
   "id": "98803d84-e329-4ac7-a454-1acb75bb5857",
   "metadata": {},
   "outputs": [],
   "source": []
  },
  {
   "cell_type": "code",
   "execution_count": null,
   "id": "53395e89-57ca-4dc6-9392-152de387cf60",
   "metadata": {},
   "outputs": [],
   "source": []
  },
  {
   "cell_type": "code",
   "execution_count": null,
   "id": "eb9dd977-d19a-47ab-b64d-c156f2776224",
   "metadata": {},
   "outputs": [],
   "source": []
  },
  {
   "cell_type": "code",
   "execution_count": null,
   "id": "4ead3ec8-6cda-469f-847d-8f93b03a2e02",
   "metadata": {},
   "outputs": [],
   "source": []
  },
  {
   "cell_type": "code",
   "execution_count": null,
   "id": "1e662147-c2c7-4bb3-90fd-fa9252424e5a",
   "metadata": {},
   "outputs": [],
   "source": []
  },
  {
   "cell_type": "code",
   "execution_count": 86,
   "id": "4e539e2b-fa01-44e2-a01f-27b2a76ea677",
   "metadata": {},
   "outputs": [],
   "source": [
    "from sympy.combinatorics import Permutation, PermutationGroup, CyclicGroup"
   ]
  },
  {
   "cell_type": "code",
   "execution_count": 90,
   "id": "4b464994-4253-4d58-b49d-ae00f68b557b",
   "metadata": {},
   "outputs": [
    {
     "data": {
      "text/plain": [
       "[2]"
      ]
     },
     "execution_count": 90,
     "metadata": {},
     "output_type": "execute_result"
    }
   ],
   "source": [
    "a = Permutation([0, 2, 1])\n",
    "b = Permutation([1, 0, 2])\n",
    "G = PermutationGroup([a, b])\n",
    "G.abelian_invariants()"
   ]
  },
  {
   "cell_type": "code",
   "execution_count": 89,
   "id": "dc09a721-26a6-4012-83ca-fa21faf6b1e5",
   "metadata": {},
   "outputs": [
    {
     "data": {
      "text/plain": [
       "[7]"
      ]
     },
     "execution_count": 89,
     "metadata": {},
     "output_type": "execute_result"
    }
   ],
   "source": [
    "G = CyclicGroup(7)\n",
    "G.abelian_invariants()"
   ]
  },
  {
   "cell_type": "code",
   "execution_count": 119,
   "id": "b939042d-ea78-4876-8de9-3b5d6c427042",
   "metadata": {},
   "outputs": [],
   "source": [
    "p = Permutation([0, 2, 3, 1])\n",
    "x = Permutation([2, 0, 3, 1])"
   ]
  },
  {
   "cell_type": "code",
   "execution_count": 139,
   "id": "cdaa4969-abe6-4647-8478-630be0aabc59",
   "metadata": {},
   "outputs": [],
   "source": [
    "G.schreier_sims()"
   ]
  },
  {
   "cell_type": "code",
   "execution_count": 147,
   "id": "f4bf9f74-e8d2-4d9a-a585-9ff912bab4a2",
   "metadata": {
    "scrolled": true
   },
   "outputs": [
    {
     "data": {
      "text/plain": [
       "([1, 0],\n",
       " [Permutation(1, 2), Permutation(2)(0, 1), Permutation(0, 2)],\n",
       " [[0, 1, 2], [0, 2]],\n",
       " [PermutationGroup([\n",
       "      (1 2),\n",
       "      (2)(0 1),\n",
       "      (0 2)]),\n",
       "  PermutationGroup([\n",
       "      (0 2)])],\n",
       " [{1: Permutation(2), 2: Permutation(1, 2), 0: Permutation(2)(0, 1)},\n",
       "  {0: Permutation(2), 2: Permutation(0, 2)}])"
      ]
     },
     "execution_count": 147,
     "metadata": {},
     "output_type": "execute_result"
    }
   ],
   "source": [
    "G.base, G.strong_gens, G.basic_orbits, G.basic_stabilizers, G.basic_transversals"
   ]
  },
  {
   "cell_type": "code",
   "execution_count": 146,
   "id": "c1cba0da-db00-4b1f-95bf-55789abf26c2",
   "metadata": {},
   "outputs": [
    {
     "data": {
      "text/plain": [
       "(True, [Permutation(1, 2), Permutation(0, 2)], [2, 2])"
      ]
     },
     "execution_count": 146,
     "metadata": {},
     "output_type": "execute_result"
    }
   ],
   "source": [
    "p2 = Permutation([1, 2, 0])\n",
    "G.contains(p2), G.coset_factor(p2), G.coset_factor(p2, True)"
   ]
  },
  {
   "cell_type": "code",
   "execution_count": 148,
   "id": "e831f4d6-a243-48ca-b634-0cf0e43f5cd4",
   "metadata": {},
   "outputs": [
    {
     "data": {
      "text/plain": [
       "[PermutationGroup([\n",
       "     (1 2),\n",
       "     (2)(0 1)]),\n",
       " PermutationGroup([\n",
       "     (0 2 1),\n",
       "     (0 1 2)]),\n",
       " PermutationGroup([\n",
       "     (2)])]"
      ]
     },
     "execution_count": 148,
     "metadata": {},
     "output_type": "execute_result"
    }
   ],
   "source": [
    "G.derived_series()"
   ]
  },
  {
   "cell_type": "code",
   "execution_count": 149,
   "id": "e3519f71-eb48-4236-9b86-01152982ddaa",
   "metadata": {},
   "outputs": [
    {
     "data": {
      "text/plain": [
       "[PermutationGroup([\n",
       "     (1 2),\n",
       "     (2)(0 1)]),\n",
       " PermutationGroup([\n",
       "     (0 2 1),\n",
       "     (0 1 2)])]"
      ]
     },
     "execution_count": 149,
     "metadata": {},
     "output_type": "execute_result"
    }
   ],
   "source": [
    "G.lower_central_series()"
   ]
  },
  {
   "cell_type": "code",
   "execution_count": null,
   "id": "85516bba-d7ea-4c76-9117-07a3ac472cdd",
   "metadata": {},
   "outputs": [],
   "source": []
  },
  {
   "cell_type": "code",
   "execution_count": null,
   "id": "74357b97-8977-40bd-912a-ebb667d3b4ab",
   "metadata": {},
   "outputs": [],
   "source": []
  },
  {
   "cell_type": "code",
   "execution_count": null,
   "id": "1c6f2074-bb2b-4135-b2db-b0d787541eef",
   "metadata": {},
   "outputs": [],
   "source": []
  },
  {
   "cell_type": "code",
   "execution_count": null,
   "id": "ba97af0c-25f3-4e8e-a285-4268d7a369d1",
   "metadata": {},
   "outputs": [],
   "source": []
  }
 ],
 "metadata": {
  "kernelspec": {
   "display_name": "santa2023-py3.11",
   "language": "python",
   "name": "santa2023-py3.11"
  },
  "language_info": {
   "codemirror_mode": {
    "name": "ipython",
    "version": 3
   },
   "file_extension": ".py",
   "mimetype": "text/x-python",
   "name": "python",
   "nbconvert_exporter": "python",
   "pygments_lexer": "ipython3",
   "version": "3.11.1"
  }
 },
 "nbformat": 4,
 "nbformat_minor": 5
}
