{
 "cells": [
  {
   "cell_type": "markdown",
   "metadata": {
    "_cell_guid": "b1076dfc-b9ad-4769-8c92-a6c4dae69d19",
    "_uuid": "8f2839f25d086af736a60e9eeb907d3b93b6e0e5"
   },
   "source": [
    "1) For Cube puzzles, we know there are rules of __mi.mi.mi = -mi__ and __mi.mi.mi.mi.= empty__. Let's make it more general for all the three kinds of puzzles into the sign change rules with the form of __mi\\*\\*(n) = -mi\\*\\*(n)__:\n",
    "\n",
    "- For Cube, __n=2__, or say __mi.mi = -mi.-mi__. By the pair cancellation rule (https://www.kaggle.com/code/cl12102783/cancel-pairs-for-all-puzzles), we can get:\n",
    "    - mi.mi.mi = -mi.-mi.mi = -mi\n",
    "    - mi.mi.mi.mi = -mi.-mi.mi.mi = empty\n",
    "    - Meanwhile, there are commutative rule for cube. i.e. mi.m?.mi.m?.mi = unordered(-mi.m?.m?)\n",
    "    \n",
    "    \n",
    "- For Wreath, n is based on the size of the wreath.\n",
    "    - when wreath size is an even number, __n = size/2__. We could imagine the circle has the symmetric feature. i.e. wreath_6/6 has n=3\n",
    "    - when wreath size is an odd number, __n = size__. i.e. wreath_7/7 has n=7\n",
    "    - Based on the tests, the wreath is non-commutative, so I only implement replacement without location change, similar to https://www.kaggle.com/code/cl12102783/cancel-pairs-for-all-puzzles\n",
    "    \n",
    "    \n",
    "- For Globe: \n",
    "    - fi is non-commutative with fi=-fi (https://www.kaggle.com/code/cl12102783/cancel-pairs-for-all-puzzles) or n=1\n",
    "    - ri is commutative and n equals the final number of the type. i.e. globe_1/8 has n=8\n",
    "    \n",
    "2) Furthermore, to apply the sign change rule, we could think when the count of the mi is larger than n, then there will be downsizing. The downsizing rule is __n_left = n-(count - n)__:\n",
    "   - when n_left>0, there will __-mi\\*\\*(n_left)__. i.e. for cube, mi.mi.mi has n=2, so 2-(3-2)=1, to be -mi\n",
    "   - when n_left<0, there will __mi\\*\\*(n_left)__. i.e. for globe_1/8, ri\\*\\*(18) has n=8, so 8-(18-8)=-2, to be ri\\*\\*(2)\n",
    "   - when n_left=0, all mi will be cancelled in the same move group. i.e. for cube, mi.mi.mi.mi has n=2, so 2-(4-2)=0, to be cancelled\n"
   ]
  },
  {
   "cell_type": "code",
   "execution_count": 1,
   "metadata": {},
   "outputs": [],
   "source": [
    "import pandas as pd\n",
    "from collections import deque\n",
    "import tqdm\n",
    "import glob\n",
    "import numpy as np\n",
    "from collections import Counter\n",
    "\n",
    "path = './'\n",
    "df_puzzles = pd.read_csv(path+'puzzles.csv')\n",
    "df_puzzle_info = pd.read_csv(path+'puzzle_info.csv')\n",
    "\n",
    "# Consider all high-score files\n",
    "files = ['submission.csv']"
   ]
  },
  {
   "cell_type": "code",
   "execution_count": 2,
   "metadata": {},
   "outputs": [],
   "source": [
    "def cancel_group(moves, group):\n",
    "    def get_grp(elem):\n",
    "        return elem[1] if elem.startswith('-') else elem[0]\n",
    "\n",
    "    def drop_grp(elem, group):\n",
    "        grp = group.split('_')[0]\n",
    "        if grp == 'globe' and elem[-1].replace('-','')[0]=='f':\n",
    "            return elem\n",
    "            \n",
    "        config = dict(\n",
    "            cube = 2,\n",
    "            globe = int(group.split('/')[-1]),\n",
    "        )\n",
    "        grp_size = config[grp]\n",
    "        move = elem.copy()\n",
    "        flag = True\n",
    "        while flag:\n",
    "            flag = False\n",
    "            cnt = Counter(move)\n",
    "            for k, v in cnt.items():\n",
    "                if v > grp_size:\n",
    "                    flag = True\n",
    "                    sign_opp = '' if k.startswith('-') else '-'\n",
    "                    num_add = grp_size-(v-grp_size)\n",
    "                    for _ in range(abs(num_add)):\n",
    "                        if num_add>0:\n",
    "                            move.append(sign_opp+k.replace('-',''))\n",
    "                        elif num_add<0:\n",
    "                            move.append(k)\n",
    "                    for _ in range(v):\n",
    "                        move.remove(k)\n",
    "                    break\n",
    "        return move\n",
    "    \n",
    "    def solver(elem, grp):\n",
    "        move = elem.copy()\n",
    "        grp_name = grp.split('_')[0]\n",
    "        if grp_name !='wreath':\n",
    "            move = drop_grp(move, grp)\n",
    "        return move\n",
    "    \n",
    "    moves = moves+'.'\n",
    "    win = deque()\n",
    "    result = deque()\n",
    "    move = ''\n",
    "    for i in moves:\n",
    "        if i != '.':\n",
    "            move += i\n",
    "        else:\n",
    "            if len(win)<1:\n",
    "                win.append(move)\n",
    "                move = ''\n",
    "                continue\n",
    "            grp_last, grp_new = get_grp(win[-1]), get_grp(move)\n",
    "            if grp_last == grp_new:\n",
    "                win.append(move)\n",
    "            else:\n",
    "                result.extend(solver(win, group))\n",
    "                win = deque([move])\n",
    "            move=''\n",
    "     \n",
    "    # Collect remainder\n",
    "    if len(win)>0:\n",
    "        result.extend(solver(win, group))\n",
    "    return '.'.join(result)\n",
    "\n",
    "def drop_grp_wreath(moves, group):\n",
    "    kind = group.split('/')[-1]\n",
    "    kind = int(int(kind)/2) if int(kind)%2==0 else int(kind)\n",
    "    moves += '.'\n",
    "    result = deque()\n",
    "    win = deque()\n",
    "    move = ''\n",
    "    \n",
    "    for i in moves:\n",
    "        if i !='.':\n",
    "            move+=i\n",
    "        else:\n",
    "            if not win:\n",
    "                win.append(move)\n",
    "                move = ''\n",
    "                continue\n",
    "            if move != win[-1]:\n",
    "                if len(win) > kind:\n",
    "                    print('I am here')\n",
    "                    times = kind-(len(win)-kind)\n",
    "                    if times>0:\n",
    "                        case_opp = win[-1][1] if len(win[-1])>1 else '-'+win[-1]\n",
    "                        result.extend([case_opp]*times)\n",
    "                    elif times<0:\n",
    "                        result.extend([win[-1]]*abs(times))\n",
    "                else:\n",
    "                    result.extend(win)\n",
    "                win = deque([move]) \n",
    "            else:\n",
    "                win.append(move)\n",
    "            move = ''\n",
    "    if win:\n",
    "        result.extend(win)\n",
    "    return '.'.join(result)\n",
    "\n",
    "def multiple_try(elem, group):\n",
    "    len_old = len(elem.split('.'))\n",
    "    move_old = elem\n",
    "    flag = True\n",
    "    while flag:\n",
    "        if group.split('_')[0] == 'wreath':\n",
    "            move_new = drop_grp_wreath(move_old, group)\n",
    "        else:\n",
    "            move_new = cancel_group(move_old, group)\n",
    "            \n",
    "        len_new = len(move_new.split('.'))\n",
    "        if len_new<len_old:\n",
    "            move_old = move_new\n",
    "            len_old = len_new\n",
    "        else:\n",
    "            flag=False\n",
    "    return move_old"
   ]
  },
  {
   "cell_type": "code",
   "execution_count": 4,
   "metadata": {},
   "outputs": [
    {
     "name": "stderr",
     "output_type": "stream",
     "text": [
      "100%|████████████████████████████████████████████████████████████████████████████████████████████████████████████████████████████████████████████████████████████████████████████████████████████████████| 1/1 [00:00<00:00,  1.35it/s]"
     ]
    },
    {
     "name": "stdout",
     "output_type": "stream",
     "text": [
      "I am here\n",
      "I am here\n",
      "I am here\n",
      "I am here\n"
     ]
    },
    {
     "name": "stderr",
     "output_type": "stream",
     "text": [
      "\n"
     ]
    }
   ],
   "source": [
    "result = dict()\n",
    "\n",
    "for file in tqdm.tqdm(files):\n",
    "    with open(file, 'r') as f:\n",
    "        header = True\n",
    "        for row in f:\n",
    "            if header:\n",
    "                header = False\n",
    "                continue\n",
    "            id_, move = row.strip().split(',')\n",
    "            id_ = int(id_)\n",
    "            group = df_puzzles.iloc[id_].puzzle_type\n",
    "            \n",
    "            move = multiple_try(move, group)\n",
    "            \n",
    "            if id_ not in result:\n",
    "                result[id_] = move\n",
    "            else:\n",
    "                if len(move.split('.')) < len(result[id_].split('.')):\n",
    "                    result[id_] = move"
   ]
  },
  {
   "cell_type": "code",
   "execution_count": 5,
   "metadata": {},
   "outputs": [],
   "source": [
    "df_sub = pd.DataFrame()\n",
    "df_sub['id'] = result.keys()\n",
    "df_sub['moves'] = result.values()\n",
    "df_sub.to_csv('submission2.csv', index=False)"
   ]
  },
  {
   "cell_type": "code",
   "execution_count": 6,
   "metadata": {},
   "outputs": [
    {
     "data": {
      "text/plain": [
       "544831"
      ]
     },
     "execution_count": 6,
     "metadata": {},
     "output_type": "execute_result"
    }
   ],
   "source": [
    "df_sub.moves.str.split('.').apply(lambda x: len(x)).sum()"
   ]
  },
  {
   "cell_type": "code",
   "execution_count": null,
   "metadata": {},
   "outputs": [],
   "source": []
  }
 ],
 "metadata": {
  "kaggle": {
   "accelerator": "none",
   "dataSources": [
    {
     "databundleVersionId": 7339171,
     "sourceId": 65704,
     "sourceType": "competition"
    },
    {
     "datasetId": 4274938,
     "sourceId": 7359842,
     "sourceType": "datasetVersion"
    },
    {
     "sourceId": 158035872,
     "sourceType": "kernelVersion"
    },
    {
     "sourceId": 158426557,
     "sourceType": "kernelVersion"
    }
   ],
   "dockerImageVersionId": 30626,
   "isGpuEnabled": false,
   "isInternetEnabled": true,
   "language": "python",
   "sourceType": "notebook"
  },
  "kernelspec": {
   "display_name": "Python 3 (ipykernel)",
   "language": "python",
   "name": "python3"
  },
  "language_info": {
   "codemirror_mode": {
    "name": "ipython",
    "version": 3
   },
   "file_extension": ".py",
   "mimetype": "text/x-python",
   "name": "python",
   "nbconvert_exporter": "python",
   "pygments_lexer": "ipython3",
   "version": "3.11.1"
  }
 },
 "nbformat": 4,
 "nbformat_minor": 4
}
