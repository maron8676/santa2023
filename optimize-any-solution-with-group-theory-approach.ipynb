{
 "cells": [
  {
   "cell_type": "markdown",
   "metadata": {},
   "source": [
    "# Optimize any solution with group theory approach\n",
    "\n",
    "Let's say you have a sequence of moves leading to a solution. Can we make this sequense shorter without changing the solution? Yes, we can! There are moves that cancel each other or can be written shorter. \n",
    "\n",
    "Note: this notebook mostly focuses on cubes. Add your suggestions for other puzzles in the comments!\n",
    "\n",
    "## Cancelling moves\n",
    "If you move the side and than move it backwards, it changes nothing. `'r1.-r1.r0'` is equivalent to just `'r0'`. This is true for any puzzle\n",
    "\n",
    "## 4 repetitions of the same move for cubes\n",
    "If you move the same face of the cube 4 times, you change nothing. So, `'r1.r1..r1.r1.r0'` is equivalent to `'r0'`.\n",
    "\n",
    "## 3 repetitions of the same move for cubes is identical to 1 inverse move\n",
    "We can make the sequence a bit shorter by substituting 3 moves of the same face to 1 inverse move. For example, `'r1.r1.r1.r0'` is the same as `'-r1.r0'`\n",
    "\n",
    "There are move possible optimizations, but these are the most obvious. Let's discuss more in the comments!\n",
    "\n",
    "# Commutating sequences trick\n",
    "\n",
    "That's cool but what are the chances that we meet 4 copies of the same move in a row? As noted by @cl12102783 in [this notebook](https://www.kaggle.com/code/cl12102783/cancel-pairs-for-all-puzzles?scriptVersionId=158025216) and extended by @dinhttrandrise [here](https://www.kaggle.com/code/dinhttrandrise/added-cancel-opposite-pairs), we don't need to! Some moves *commute* meaning that it doesn't matter in which order you apply them. One obvious example, used in this notebook are moves of the same face. Each move does not affect axes of the other moves, they are \"parallel\". Think of 3x3 cube as an example: you can move the left and the right face in any order, the result won't change. So, `'r1.r0' == 'r0.r1'`. It is true for sequences of any length as far as they apply to the same face. `'r1.r0.r1.r1.r0.-r1' == 'r1.r1.r1.r0.r0.-r1'`.\n",
    "\n",
    "Now optimizing sequences is much easier! We just need to find subsequences moving the same face, and apply optimizations described above to every one of them. Example of the algorithm:\n",
    "1. Initial solution: `'r1.r0.r1.r1.-r0.r1.r1.f1.f0.-f1.r1.r0.r1.r1'`\n",
    "2. Group subsequences moving the same faces: `['r1.r0.r1.r1.-r0.r1.r1', 'f1.f0.-f1', 'r1.r0.r1.r1']`\n",
    "3. Optimize each subsequence applying transformations described above: `['r1', 'f0', '-r1.r0']`\n",
    "    - From the first sequence we removed 4 copies of `'r1'` and cancelled `'r0'` and `'-r0'`\n",
    "    - From the second sequence we removed cancelling pair `'f1'` and `'-f1'`\n",
    "    - In the third sequence we substituted 3 copies of `'r1'` to `'-r1'`\n",
    "4. Get optimized solution: `'r1.f0.-r1.r0'`\n",
    "\n",
    "The result is the same, but the number of moves is significantly smaller! But can we find such sequences in sample submission or one of the public solutions? Let's explore"
   ]
  },
  {
   "cell_type": "markdown",
   "metadata": {
    "collapsed": false,
    "jupyter": {
     "outputs_hidden": false
    }
   },
   "source": [
    "# Setup #"
   ]
  },
  {
   "cell_type": "code",
   "execution_count": 1,
   "metadata": {
    "collapsed": false,
    "jupyter": {
     "outputs_hidden": false
    }
   },
   "outputs": [],
   "source": [
    "from collections import Counter\n",
    "import itertools\n",
    "from ast import literal_eval\n",
    "from pathlib import Path\n",
    "from pprint import pprint\n",
    "\n",
    "import numpy as np\n",
    "import pandas as pd\n",
    "from sympy.combinatorics import Permutation\n",
    "import seaborn as sns\n",
    "import matplotlib.pyplot as plt"
   ]
  },
  {
   "cell_type": "markdown",
   "metadata": {},
   "source": [
    "Read the data from the competition and from @seanbearden 's [public solution](https://www.kaggle.com/code/seanbearden/solve-all-nxnxn-cubes-w-traditional-solution-state/notebook)"
   ]
  },
  {
   "cell_type": "code",
   "execution_count": 2,
   "metadata": {},
   "outputs": [],
   "source": [
    "puzzle_info = pd.read_csv('puzzle_info.csv', index_col='puzzle_type')\n",
    "# Parse allowed_moves\n",
    "puzzle_info['allowed_moves'] = puzzle_info['allowed_moves'].apply(literal_eval)\n",
    "\n",
    "puzzles = pd.read_csv('puzzles.csv', index_col='id')\n",
    "# Parse color states\n",
    "puzzles = puzzles.assign(\n",
    "    initial_state=lambda df: df['initial_state'].str.split(';'),\n",
    "    solution_state=lambda df: df['solution_state'].str.split(';')\n",
    ")\n",
    "\n",
    "submission = pd.read_csv('submission.csv', index_col='id')"
   ]
  },
  {
   "cell_type": "markdown",
   "metadata": {},
   "source": [
    "You can see that in the solution of Sean moves are typically grouped by the same face. Maybe we can optimize it!"
   ]
  },
  {
   "cell_type": "code",
   "execution_count": 4,
   "metadata": {},
   "outputs": [
    {
     "data": {
      "text/plain": [
       "'f0.f1.f2.f3.f4.f5.f6.f7.f8.f9.f10.f11.f12.f13.f14.f15.d32.-r17.-r18.-r19.-r20.-r21.-r22.-r23.-r24.-r25.-r26.-r27.-r28.-r29.-r30.-r31.-r32.d17.d18.d19.d20.d21.d22.d23.d24.d25.d26.d27.d28.d29.d30.d31.d32.-f17.-f18.-f19.-f20.-f21.-f22.-f23.-f24.-f25.-f26.-f27.-f28.-f29.-f30.-f31.-f32.r0.r1.r2.r3.r4.r5.r6.r7.r8.r9.r10.r11.r12.r13.r14.r15.-d17.-d18.-d19.-d20.-d21.-d22.-d23.-d24.-d25.-d26.-d27.-d28.-d29.-d30.-d31.-d32.f0.f1.f2.f3.f4.f5.f6.f7.f8.f9.f10.f11.f12.f13.f14.f15.f0.f1.f2.f3.f4.f5.f6.f7.f8.f9.'"
      ]
     },
     "execution_count": 4,
     "metadata": {},
     "output_type": "execute_result"
    }
   ],
   "source": [
    "submission.loc[281, 'moves'][:500]"
   ]
  },
  {
   "cell_type": "code",
   "execution_count": 5,
   "metadata": {
    "collapsed": false,
    "jupyter": {
     "outputs_hidden": false
    }
   },
   "outputs": [],
   "source": [
    "def apply_sequence(sequence, moves, state):\n",
    "    \"\"\"Apply a sequence of moves in array form to a color state.\"\"\"\n",
    "    state = np.asarray(state)\n",
    "    for m in sequence.split('.'):\n",
    "        state = state[moves[m]]\n",
    "    return state\n",
    "\n",
    "\n",
    "# Convert allowed_moves to dict and add inverse moves\n",
    "all_moves = puzzle_info.loc[:, 'allowed_moves'].to_dict()\n",
    "for ptype, moves in all_moves.copy().items():\n",
    "    for m, arr in moves.copy().items():\n",
    "        all_moves[ptype][f\"-{m}\"] = np.argsort(arr).tolist()"
   ]
  },
  {
   "cell_type": "markdown",
   "metadata": {},
   "source": [
    "Let's take a look at one of the big cubes"
   ]
  },
  {
   "cell_type": "code",
   "execution_count": 6,
   "metadata": {},
   "outputs": [
    {
     "data": {
      "text/html": [
       "<div>\n",
       "<style scoped>\n",
       "    .dataframe tbody tr th:only-of-type {\n",
       "        vertical-align: middle;\n",
       "    }\n",
       "\n",
       "    .dataframe tbody tr th {\n",
       "        vertical-align: top;\n",
       "    }\n",
       "\n",
       "    .dataframe thead th {\n",
       "        text-align: right;\n",
       "    }\n",
       "</style>\n",
       "<table border=\"1\" class=\"dataframe\">\n",
       "  <thead>\n",
       "    <tr style=\"text-align: right;\">\n",
       "      <th></th>\n",
       "      <th>puzzle_type</th>\n",
       "      <th>solution_state</th>\n",
       "      <th>initial_state</th>\n",
       "      <th>num_wildcards</th>\n",
       "    </tr>\n",
       "    <tr>\n",
       "      <th>id</th>\n",
       "      <th></th>\n",
       "      <th></th>\n",
       "      <th></th>\n",
       "      <th></th>\n",
       "    </tr>\n",
       "  </thead>\n",
       "  <tbody>\n",
       "    <tr>\n",
       "      <th>281</th>\n",
       "      <td>cube_33/33/33</td>\n",
       "      <td>[A, A, A, A, A, A, A, A, A, A, A, A, A, A, A, ...</td>\n",
       "      <td>[B, F, C, B, E, F, A, F, F, C, B, A, F, A, D, ...</td>\n",
       "      <td>0</td>\n",
       "    </tr>\n",
       "    <tr>\n",
       "      <th>282</th>\n",
       "      <td>cube_33/33/33</td>\n",
       "      <td>[A, B, A, B, A, B, A, B, A, B, A, B, A, B, A, ...</td>\n",
       "      <td>[F, B, A, F, A, C, B, B, C, B, B, A, E, F, A, ...</td>\n",
       "      <td>0</td>\n",
       "    </tr>\n",
       "    <tr>\n",
       "      <th>283</th>\n",
       "      <td>cube_33/33/33</td>\n",
       "      <td>[N0, N1, N2, N3, N4, N5, N6, N7, N8, N9, N10, ...</td>\n",
       "      <td>[N1056, N4357, N3264, N3270, N924, N2183, N109...</td>\n",
       "      <td>0</td>\n",
       "    </tr>\n",
       "  </tbody>\n",
       "</table>\n",
       "</div>"
      ],
      "text/plain": [
       "       puzzle_type                                     solution_state  \\\n",
       "id                                                                      \n",
       "281  cube_33/33/33  [A, A, A, A, A, A, A, A, A, A, A, A, A, A, A, ...   \n",
       "282  cube_33/33/33  [A, B, A, B, A, B, A, B, A, B, A, B, A, B, A, ...   \n",
       "283  cube_33/33/33  [N0, N1, N2, N3, N4, N5, N6, N7, N8, N9, N10, ...   \n",
       "\n",
       "                                         initial_state  num_wildcards  \n",
       "id                                                                     \n",
       "281  [B, F, C, B, E, F, A, F, F, C, B, A, F, A, D, ...              0  \n",
       "282  [F, B, A, F, A, C, B, B, C, B, B, A, E, F, A, ...              0  \n",
       "283  [N1056, N4357, N3264, N3270, N924, N2183, N109...              0  "
      ]
     },
     "execution_count": 6,
     "metadata": {},
     "output_type": "execute_result"
    }
   ],
   "source": [
    "puzzles[puzzles[\"puzzle_type\"] == \"cube_33/33/33\"]"
   ]
  },
  {
   "cell_type": "code",
   "execution_count": 7,
   "metadata": {},
   "outputs": [
    {
     "data": {
      "text/plain": [
       "'cube_33/33/33'"
      ]
     },
     "execution_count": 7,
     "metadata": {},
     "output_type": "execute_result"
    }
   ],
   "source": [
    "puzzle_idx = 281\n",
    "puzzle_name = puzzles.loc[puzzle_idx, 'puzzle_type']\n",
    "puzzle_name"
   ]
  },
  {
   "cell_type": "code",
   "execution_count": 8,
   "metadata": {},
   "outputs": [],
   "source": [
    "# Get info for the first puzzle\n",
    "solution_state = puzzles.iloc[puzzle_idx, 1]\n",
    "initial_state = puzzles.iloc[puzzle_idx, 2]\n",
    "baseline_solution = submission.loc[puzzle_idx, 'moves']"
   ]
  },
  {
   "cell_type": "markdown",
   "metadata": {},
   "source": [
    "Here's a bunch of helper code"
   ]
  },
  {
   "cell_type": "code",
   "execution_count": 9,
   "metadata": {},
   "outputs": [],
   "source": [
    "def find_cube_inverse_move(move):\n",
    "    if move[:2] == '--':\n",
    "        return move\n",
    "    elif move[0] == '-':\n",
    "        return move [1:]\n",
    "    else:\n",
    "        return f'-{move}'\n",
    "\n",
    "    \n",
    "def is_same_group(move1, move2):\n",
    "    \"\"\"\n",
    "    Check if two Rubik's cube moves belong to the same group (move the same side).\n",
    "\n",
    "    Args:\n",
    "        move1 (str): The first move.\n",
    "        move2 (str): The second move.\n",
    "\n",
    "    Returns:\n",
    "        bool: True if moves belong to the same group, False otherwise.\n",
    "    \"\"\"\n",
    "    return move1.lstrip('-')[0] == move2.lstrip('-')[0]\n",
    "\n",
    "\n",
    "def group_cube_moves(moves):\n",
    "    \"\"\"\n",
    "    Group Rubik's cube moves by side.\n",
    "\n",
    "    Args:\n",
    "        moves (list): A list of strings representing Rubik's cube moves.\n",
    "\n",
    "    Returns:\n",
    "        list: A list of lists, where each sublist contains consecutive moves of the same side.\n",
    "    \"\"\"\n",
    "    grouped_moves = []\n",
    "    current_group = []\n",
    "\n",
    "    for move in moves:\n",
    "        if not current_group or is_same_group(move, current_group[-1]):\n",
    "            current_group.append(move)\n",
    "        else:\n",
    "            grouped_moves.append(current_group)\n",
    "            current_group = [move]\n",
    "\n",
    "    if current_group:\n",
    "        grouped_moves.append(current_group)\n",
    "\n",
    "    return grouped_moves\n",
    "\n",
    "assert group_cube_moves(\n",
    "    ['r1', 'r0', '-r1', '-r0', 'r0', 'f1', 'r0', '-f1', 'f1', 'f0']\n",
    ") == [['r1', 'r0', '-r1', '-r0', 'r0'], ['f1'], ['r0'], ['-f1', 'f1', 'f0']]\n",
    "assert group_cube_moves(['r1']) == [['r1']]\n",
    "assert group_cube_moves(['r1', 'f1']) == [['r1'], ['f1']]\n",
    "assert group_cube_moves(['r1', 'r0', 'f1']) == [['r1', 'r0'], ['f1']]\n",
    "\n",
    "\n",
    "def remove_multiples_of_four(group):\n",
    "    \"\"\"\n",
    "    Process a group of elements according to the specified algorithm.\n",
    "\n",
    "    Args:\n",
    "        group (list): A list of elements.\n",
    "\n",
    "    Returns:\n",
    "        list: A new list with elements repeated according to their modulo 4 count.\n",
    "    \"\"\"\n",
    "    if len(group) < 4:\n",
    "        return group\n",
    "    \n",
    "    # Step 1: Calculate the number of elements\n",
    "    element_counts = Counter(group)\n",
    "\n",
    "    # Step 2: Take modulo 4 for each count\n",
    "    for element in element_counts:\n",
    "        element_counts[element] %= 4\n",
    "\n",
    "    # Step 3: Create a new list with the remaining counts\n",
    "    new_group = []\n",
    "    for element, count in element_counts.items():\n",
    "        new_group.extend([element] * count)\n",
    "\n",
    "    return new_group\n",
    "\n",
    "assert sorted(remove_multiples_of_four(['r1', 'r1', 'r1', 'r1', 'r1', 'r0', 'r1'])) == ['r0', 'r1', 'r1']\n",
    "assert remove_multiples_of_four(['r1', 'r1', 'r1', 'r1']) == []\n",
    "assert remove_multiples_of_four(['r1', 'r1', 'r1']) == ['r1', 'r1', 'r1']\n",
    "assert sorted(remove_multiples_of_four(['r1', 'r1', 'r1', 'r1', 'r1', 'r0', 'r1', 'r0', 'r0', 'r0'])) == ['r1', 'r1']\n",
    "assert remove_multiples_of_four(['r1', 'r1', 'r1', 'r1', 'r0', 'r1', 'r1', 'r1', 'r1']) == ['r0']\n",
    "assert sorted(remove_multiples_of_four(['r1', 'r1', 'r1', 'r1', 'r0', 'r1', 'r1', 'r1', 'r1', 'r1'])) == ['r0', 'r1']\n",
    "\n",
    "\n",
    "def remove_cancelling_pairs(group):\n",
    "    \"\"\"\n",
    "    Remove an element and its inverse from a group of Rubik's cube moves efficiently.\n",
    "\n",
    "    Args:\n",
    "        group (list): A list of strings representing a group of Rubik's cube moves.\n",
    "\n",
    "    Returns:\n",
    "        list: A list with paired elements and their inverses removed based on counts.\n",
    "    \"\"\"\n",
    "    if len(group) < 2:\n",
    "        return group\n",
    "    \n",
    "    move_counts = Counter(group)\n",
    "\n",
    "    # Adjust counts for each move and its inverse\n",
    "    for move, count in list(move_counts.items()):\n",
    "        inv = find_cube_inverse_move(move)\n",
    "        if inv in move_counts:\n",
    "            min_count = min(move_counts[move], move_counts[inv])\n",
    "            move_counts[move] -= min_count\n",
    "            move_counts[inv] -= min_count\n",
    "\n",
    "    # Construct the final list based on adjusted counts\n",
    "    final_group = []\n",
    "    for move, count in move_counts.items():\n",
    "        final_group.extend([move] * count)\n",
    "\n",
    "    return final_group\n",
    "\n",
    "assert remove_cancelling_pairs(['r1', 'r0', '-r1']) == ['r0']\n",
    "assert remove_cancelling_pairs(['-r1', 'r1', 'r1']) == ['r1']\n",
    "assert remove_cancelling_pairs(['r1', 'r0', 'r1', '-r1', '-r1']) == ['r0']\n",
    "assert remove_cancelling_pairs(['r1', 'r0', 'r1', '-r1', '-r1', '-r0']) == []\n",
    "assert remove_cancelling_pairs(['r1', 'r0', 'r1', '-r1', '-r1', '-r0', 'r0']) == ['r0']\n",
    "assert remove_cancelling_pairs(['r1']) == ['r1']\n",
    "assert remove_cancelling_pairs(['r1', 'r1']) == ['r1', 'r1']\n",
    "\n",
    "\n",
    "def substitute_three_for_inverse(group):\n",
    "    \"\"\"\n",
    "    Substitute every three occurrences of an element with one occurrence of its inverse.\n",
    "\n",
    "    Args:\n",
    "        group (list): A list of strings representing a group of Rubik's cube moves.\n",
    "\n",
    "    Returns:\n",
    "        list: A list with every three occurrences of an element substituted with its inverse.\n",
    "    \"\"\"\n",
    "    \n",
    "    if len(group) < 3:\n",
    "        return group\n",
    "\n",
    "    move_counts = Counter(group)\n",
    "\n",
    "    new_group = []\n",
    "    for move, count in move_counts.items():\n",
    "        inverse_count = count // 3\n",
    "        remainder_count = count % 3\n",
    "        new_group.extend([find_cube_inverse_move(move)] * inverse_count)\n",
    "        new_group.extend([move] * remainder_count)\n",
    "\n",
    "    return new_group\n",
    "\n",
    "# Test cases\n",
    "assert substitute_three_for_inverse(['r1', 'r1', 'r1']) == ['-r1']\n",
    "assert sorted(substitute_three_for_inverse(['r1', 'r0', 'r1'])) == ['r0', 'r1', 'r1']\n",
    "assert sorted(substitute_three_for_inverse(['r1', 'r0', 'r1', 'r1'])) == ['-r1', 'r0']\n",
    "assert sorted(substitute_three_for_inverse(['r1', 'r0', 'r1', 'r1', 'r0', 'r0'])) == ['-r0', '-r1']\n",
    "assert sorted(substitute_three_for_inverse(['r1', 'r0', 'r1', 'r1', 'r0', 'r0', 'r1'])) == ['-r0', '-r1', 'r1']\n",
    "assert substitute_three_for_inverse(['r1']) == ['r1']\n",
    "assert substitute_three_for_inverse(['r1', 'r1']) == ['r1', 'r1']\n",
    "\n",
    "def groups_to_solution(groups: list):\n",
    "    \"\"\"Convert list of lists of moves to one list\"\"\"\n",
    "    return list(itertools.chain.from_iterable(groups))\n",
    "\n",
    "\n",
    "def regroup(groups):\n",
    "    \"\"\"Merge groups to a list of moves, then split to groups again to remove empty groups\"\"\"\n",
    "    moves = groups_to_solution(groups)\n",
    "    # print(\"Moves:\", len(moves))\n",
    "    return group_cube_moves(moves)\n",
    "\n",
    "\n",
    "def optimize_solution(moves, puzzle=\"cube\"):\n",
    "    \"\"\"Apply optimizations while length of moves is decreasing\"\"\"\n",
    "    \n",
    "    groups = group_cube_moves(moves)\n",
    "    previous_length = len(moves)\n",
    "    keep_optimizing = True\n",
    "    \n",
    "    while keep_optimizing:\n",
    "        if puzzle == \"cube\":\n",
    "            # First try to remove as many meaningless moves as possible\n",
    "            # print(\"Removing 4s\")\n",
    "            groups = [remove_multiples_of_four(group) for group in groups]\n",
    "            groups = regroup(groups)  # If some groups became empty, other groups can appear so we need to regroup\n",
    "        \n",
    "        if puzzle in (\"cube\", \"wreath\"):\n",
    "            # Try to remove more elements by throwing out cancellations\n",
    "            # print(\"Removing pairs\")\n",
    "            groups = [remove_cancelling_pairs(group) for group in groups]\n",
    "            groups = regroup(groups)\n",
    "        \n",
    "        if puzzle == \"cube\":\n",
    "            # Finally, try to reduce length a bit by substituting triplets. It will not require regrouping\n",
    "            # print(\"Substituting triplets\")\n",
    "            groups = [substitute_three_for_inverse(group) for group in groups]\n",
    "            moves = groups_to_solution(groups)\n",
    "\n",
    "        keep_optimizing = (len(moves) != previous_length)\n",
    "        previous_length = len(moves)\n",
    "        # print(\"Moves:\", len(moves))\n",
    "        \n",
    "    return moves"
   ]
  },
  {
   "cell_type": "markdown",
   "metadata": {},
   "source": [
    "Let's take a look how big are the subsequences of the moves of the same face"
   ]
  },
  {
   "cell_type": "code",
   "execution_count": 10,
   "metadata": {},
   "outputs": [
    {
     "data": {
      "text/plain": [
       "83567"
      ]
     },
     "execution_count": 10,
     "metadata": {},
     "output_type": "execute_result"
    }
   ],
   "source": [
    "solution = baseline_solution.split('.')\n",
    "solution_groups = group_cube_moves(solution)\n",
    "groups_lengths = [len(group) for group in solution_groups]\n",
    "\n",
    "len(solution)"
   ]
  },
  {
   "cell_type": "code",
   "execution_count": 11,
   "metadata": {},
   "outputs": [
    {
     "data": {
      "text/plain": [
       "Text(0.5, 1.0, 'Length of subsequences of the same face moves in the baseline solution')"
      ]
     },
     "execution_count": 11,
     "metadata": {},
     "output_type": "execute_result"
    },
    {
     "data": {
      "image/png": "[encoded data removed]",
      "text/plain": [
       "<Figure size 640x480 with 1 Axes>"
      ]
     },
     "metadata": {},
     "output_type": "display_data"
    }
   ],
   "source": [
    "sns.histplot(groups_lengths)\n",
    "plt.yscale('log')\n",
    "plt.title('Length of subsequences of the same face moves in the baseline solution')"
   ]
  },
  {
   "cell_type": "markdown",
   "metadata": {},
   "source": [
    "We can see that in the baseline submission, sequences of the moves of the same face are typically not very long. What about Sean's submission?"
   ]
  },
  {
   "cell_type": "markdown",
   "metadata": {},
   "source": [
    "The solution is shorter, but there are much longer subsequences! If you think about it, they are absurdly long sometimes. You can move the same face by `33*2 = 66` different ways without cancellations or repetitions of the same move 3 times. All the longer sequences necessarily contain either cancellation of some move or triplets of the same move and therefore can be optimized.\n",
    "\n",
    "Let's check how each of the optimizations impact the length of the solution:"
   ]
  },
  {
   "cell_type": "code",
   "execution_count": 13,
   "metadata": {},
   "outputs": [
    {
     "name": "stdout",
     "output_type": "stream",
     "text": [
      "Before: 83567\n",
      "After: 80939\n"
     ]
    },
    {
     "data": {
      "text/plain": [
       "True"
      ]
     },
     "execution_count": 13,
     "metadata": {},
     "output_type": "execute_result"
    }
   ],
   "source": [
    "filtered_groups = [remove_multiples_of_four(group) for group in solution_groups]\n",
    "filtered_groups_lengths = [len(group) for group in filtered_groups]\n",
    "print(\"Before:\", sum(groups_lengths))\n",
    "print(\"After:\", sum(filtered_groups_lengths))\n",
    "\n",
    "# Check if the state is a valid solution\n",
    "filtered_solution = \".\".join(groups_to_solution(filtered_groups))\n",
    "state = apply_sequence(filtered_solution, all_moves[puzzle_name], initial_state)\n",
    "np.array_equal(state, solution_state)"
   ]
  },
  {
   "cell_type": "code",
   "execution_count": 14,
   "metadata": {},
   "outputs": [
    {
     "name": "stdout",
     "output_type": "stream",
     "text": [
      "Before: 83567\n",
      "After: 83409\n"
     ]
    },
    {
     "data": {
      "text/plain": [
       "True"
      ]
     },
     "execution_count": 14,
     "metadata": {},
     "output_type": "execute_result"
    }
   ],
   "source": [
    "filtered_groups = [remove_cancelling_pairs(group) for group in solution_groups]\n",
    "filtered_groups_lengths = [len(group) for group in filtered_groups]\n",
    "print(\"Before:\", sum(groups_lengths))\n",
    "print(\"After:\", sum(filtered_groups_lengths))\n",
    "\n",
    "filtered_solution = \".\".join(groups_to_solution(filtered_groups))\n",
    "state = apply_sequence(filtered_solution, all_moves[puzzle_name], initial_state)\n",
    "np.array_equal(state, solution_state)"
   ]
  },
  {
   "cell_type": "code",
   "execution_count": 15,
   "metadata": {},
   "outputs": [
    {
     "name": "stdout",
     "output_type": "stream",
     "text": [
      "Before: 83567\n",
      "After: 82077\n"
     ]
    },
    {
     "data": {
      "text/plain": [
       "True"
      ]
     },
     "execution_count": 15,
     "metadata": {},
     "output_type": "execute_result"
    }
   ],
   "source": [
    "filtered_groups = [substitute_three_for_inverse(group) for group in solution_groups]\n",
    "print(\"Before:\", sum(groups_lengths))\n",
    "print(\"After:\", sum([len(group) for group in filtered_groups]))\n",
    "\n",
    "filtered_solution = \".\".join(groups_to_solution(filtered_groups))\n",
    "state = apply_sequence(filtered_solution, all_moves[puzzle_name], initial_state)\n",
    "np.array_equal(state, solution_state)"
   ]
  },
  {
   "cell_type": "markdown",
   "metadata": {},
   "source": [
    "The solution is still correct, but we removed **thousands** of moves, including multiples of 4s! Now let's apply all these optimizations as many times as we can:"
   ]
  },
  {
   "cell_type": "code",
   "execution_count": 17,
   "metadata": {},
   "outputs": [
    {
     "name": "stdout",
     "output_type": "stream",
     "text": [
      "cube 121 Solution is correct: True\n",
      "cube 151 Solution is correct: True\n",
      "cube 153 Solution is correct: True\n",
      "cube 155 Solution is correct: True\n",
      "cube 156 Solution is correct: True\n",
      "cube 160 Solution is correct: True\n",
      "cube 162 Solution is correct: True\n",
      "cube 167 Solution is correct: True\n",
      "cube 168 Solution is correct: True\n",
      "cube 171 Solution is correct: True\n",
      "cube 172 Solution is correct: True\n",
      "cube 173 Solution is correct: True\n",
      "cube 174 Solution is correct: True\n",
      "cube 175 Solution is correct: True\n",
      "cube 176 Solution is correct: True\n",
      "cube 177 Solution is correct: True\n",
      "cube 178 Solution is correct: True\n",
      "cube 179 Solution is correct: True\n",
      "cube 182 Solution is correct: True\n",
      "cube 183 Solution is correct: True\n",
      "cube 184 Solution is correct: True\n",
      "cube 185 Solution is correct: True\n",
      "cube 188 Solution is correct: True\n",
      "cube 192 Solution is correct: True\n",
      "cube 194 Solution is correct: True\n",
      "cube 196 Solution is correct: True\n",
      "cube 197 Solution is correct: True\n",
      "cube 198 Solution is correct: True\n",
      "cube 199 Solution is correct: True\n",
      "cube 205 Solution is correct: True\n",
      "cube 210 Solution is correct: True\n",
      "cube 211 Solution is correct: True\n",
      "cube 212 Solution is correct: True\n",
      "cube 215 Solution is correct: True\n",
      "cube 216 Solution is correct: True\n",
      "cube 217 Solution is correct: True\n",
      "cube 218 Solution is correct: True\n",
      "cube 220 Solution is correct: True\n",
      "cube 221 Solution is correct: True\n",
      "cube 223 Solution is correct: True\n",
      "cube 226 Solution is correct: True\n",
      "cube 228 Solution is correct: True\n",
      "cube 229 Solution is correct: True\n",
      "cube 230 Solution is correct: True\n",
      "cube 231 Solution is correct: True\n",
      "cube 232 Solution is correct: True\n",
      "cube 233 Solution is correct: True\n",
      "cube 234 Solution is correct: True\n",
      "cube 243 Solution is correct: True\n",
      "cube 245 Solution is correct: True\n",
      "cube 247 Solution is correct: True\n",
      "cube 248 Solution is correct: True\n",
      "cube 249 Solution is correct: True\n",
      "cube 250 Solution is correct: True\n",
      "cube 251 Solution is correct: True\n",
      "cube 252 Solution is correct: True\n",
      "cube 253 Solution is correct: True\n",
      "cube 254 Solution is correct: True\n",
      "cube 255 Solution is correct: True\n",
      "cube 256 Solution is correct: True\n",
      "cube 257 Solution is correct: True\n",
      "cube 258 Solution is correct: True\n",
      "cube 259 Solution is correct: True\n",
      "cube 260 Solution is correct: True\n",
      "cube 261 Solution is correct: True\n",
      "cube 262 Solution is correct: True\n",
      "cube 263 Solution is correct: True\n",
      "cube 264 Solution is correct: True\n",
      "cube 265 Solution is correct: True\n",
      "cube 266 Solution is correct: True\n",
      "cube 267 Solution is correct: True\n",
      "cube 268 Solution is correct: True\n",
      "cube 269 Solution is correct: True\n",
      "cube 270 Solution is correct: True\n",
      "cube 271 Solution is correct: True\n",
      "cube 272 Solution is correct: True\n",
      "cube 273 Solution is correct: True\n",
      "cube 274 Solution is correct: True\n",
      "cube 275 Solution is correct: True\n",
      "cube 276 Solution is correct: True\n",
      "cube 277 Solution is correct: True\n",
      "cube 278 Solution is correct: True\n",
      "cube 279 Solution is correct: True\n",
      "cube 280 Solution is correct: True\n",
      "cube 281 Solution is correct: True\n",
      "cube 282 Solution is correct: True\n",
      "cube 283 Solution is correct: True\n"
     ]
    }
   ],
   "source": [
    "solutions = []\n",
    "old_lengths = []\n",
    "new_lengths = []\n",
    "\n",
    "for puzzle_idx in range(puzzles.shape[0]):\n",
    "    puzzle_name = puzzles.loc[puzzle_idx, 'puzzle_type']\n",
    "    puzzle_type = puzzle_name[:puzzle_name.find(\"_\")]\n",
    "    \n",
    "    sean_solution = submission.loc[puzzle_idx, 'moves']\n",
    "    solution = sean_solution.split('.')\n",
    "    new_solution = optimize_solution(solution, puzzle_type)\n",
    "\n",
    "    solutions.append(new_solution)\n",
    "    old_lengths.append(len(solution))\n",
    "    new_lengths.append(len(new_solution))\n",
    "    \n",
    "    if len(solution) != len(new_solution):\n",
    "        solution_state = puzzles.iloc[puzzle_idx, 1]\n",
    "        initial_state = puzzles.iloc[puzzle_idx, 2]\n",
    "        state = apply_sequence(\".\".join(new_solution), all_moves[puzzle_name], initial_state)\n",
    "        print(puzzle_type, puzzle_idx, \"Solution is correct:\", np.array_equal(state, solution_state))\n",
    "    \n",
    "#    print(len(solution), len(new_solution))\n",
    "#    print()"
   ]
  },
  {
   "cell_type": "code",
   "execution_count": 18,
   "metadata": {},
   "outputs": [],
   "source": [
    "improvement = np.array(old_lengths) - np.array(new_lengths)"
   ]
  },
  {
   "cell_type": "code",
   "execution_count": 19,
   "metadata": {},
   "outputs": [
    {
     "data": {
      "text/plain": [
       "Text(0, 0.5, \"Sean's optimized solution\")"
      ]
     },
     "execution_count": 19,
     "metadata": {},
     "output_type": "execute_result"
    },
    {
     "data": {
      "image/png": "[encoded data removed]",
      "text/plain": [
       "<Figure size 640x480 with 1 Axes>"
      ]
     },
     "metadata": {},
     "output_type": "display_data"
    }
   ],
   "source": [
    "sns.scatterplot(x=old_lengths, y=new_lengths)\n",
    "plt.xlabel(\"Sean's solution\")\n",
    "plt.ylabel(\"Sean's optimized solution\")"
   ]
  },
  {
   "cell_type": "code",
   "execution_count": 20,
   "metadata": {},
   "outputs": [
    {
     "data": {
      "text/plain": [
       "6136"
      ]
     },
     "execution_count": 20,
     "metadata": {},
     "output_type": "execute_result"
    }
   ],
   "source": [
    "sum(improvement)"
   ]
  },
  {
   "cell_type": "markdown",
   "metadata": {},
   "source": [
    "We won more than 9000 steps!"
   ]
  },
  {
   "cell_type": "code",
   "execution_count": 21,
   "metadata": {},
   "outputs": [
    {
     "data": {
      "text/plain": [
       "<Axes: ylabel='Count'>"
      ]
     },
     "execution_count": 21,
     "metadata": {},
     "output_type": "execute_result"
    },
    {
     "data": {
      "image/png": "[encoded data removed]",
      "text/plain": [
       "<Figure size 640x480 with 1 Axes>"
      ]
     },
     "metadata": {},
     "output_type": "display_data"
    }
   ],
   "source": [
    "sns.histplot(improvement[improvement > 0], log_scale=(True, False))"
   ]
  },
  {
   "cell_type": "code",
   "execution_count": 23,
   "metadata": {},
   "outputs": [],
   "source": [
    "moves = [\".\".join(moves) for moves in solutions]\n",
    "my_submission = submission.copy()\n",
    "my_submission[\"moves\"] = moves"
   ]
  },
  {
   "cell_type": "code",
   "execution_count": 24,
   "metadata": {},
   "outputs": [],
   "source": [
    "my_submission.to_csv(\"optimized_seans.csv\")"
   ]
  },
  {
   "cell_type": "markdown",
   "metadata": {},
   "source": [
    "You can apply the same procedure to any solution you have. Hopefully, you'll get great results! Share other ideas of improvements in comments. Obvious directions are:\n",
    "- Extend optimizations to the other puzzles\n",
    "- Find more complicated optimizations. The fact that you can sort the moves how you like inside subsequences might help"
   ]
  }
 ],
 "metadata": {
  "kaggle": {
   "accelerator": "none",
   "dataSources": [
    {
     "databundleVersionId": 7339171,
     "sourceId": 65704,
     "sourceType": "competition"
    },
    {
     "sourceId": 156779022,
     "sourceType": "kernelVersion"
    }
   ],
   "dockerImageVersionId": 30626,
   "isGpuEnabled": false,
   "isInternetEnabled": true,
   "language": "python",
   "sourceType": "notebook"
  },
  "kernelspec": {
   "display_name": "Python 3 (ipykernel)",
   "language": "python",
   "name": "python3"
  },
  "language_info": {
   "codemirror_mode": {
    "name": "ipython",
    "version": 3
   },
   "file_extension": ".py",
   "mimetype": "text/x-python",
   "name": "python",
   "nbconvert_exporter": "python",
   "pygments_lexer": "ipython3",
   "version": "3.11.1"
  },
  "name": "getting_started.ipynb"
 },
 "nbformat": 4,
 "nbformat_minor": 4
}
