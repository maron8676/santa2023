{
 "cells": [
  {
   "cell_type": "code",
   "execution_count": 1,
   "id": "7590b9d0",
   "metadata": {},
   "outputs": [],
   "source": [
    "import pickle\n",
    "import time\n",
    "from ast import literal_eval\n",
    "from collections import deque\n",
    "from sys import stdin\n",
    "\n",
    "import pandas as pd\n",
    "import tqdm\n",
    "from sympy.combinatorics import Permutation"
   ]
  },
  {
   "cell_type": "code",
   "execution_count": 2,
   "id": "aa1a3b20-841d-4897-92e7-05f84366321a",
   "metadata": {},
   "outputs": [],
   "source": [
    "with open('globe-3-4-af_rotate.pkl', mode='rb') as f:\n",
    "    solve_dict = pickle.load(f)\n",
    "with open('globe-3-4-af_rotate_rev.pkl', mode='rb') as f:\n",
    "    solve_dict_rev = pickle.load(f)"
   ]
  },
  {
   "cell_type": "code",
   "execution_count": 3,
   "id": "0325c005",
   "metadata": {},
   "outputs": [],
   "source": [
    "puzzle_info = pd.read_csv(\"puzzle_info.csv\", index_col='puzzle_type')\n",
    "puzzles = pd.read_csv(\"puzzles.csv\")\n",
    "sample_submission = pd.read_csv(\"submission_public.csv\", index_col='id')\n",
    "base_moves = [\"r0\", \"-r0\", \"r1\", \"-r1\", \"r2\", \"-r2\", \"r3\", \"-r3\", \"f0\", \"f1\", \"f2\", \"f3\", \"f4\", \"f5\", \"f6\", \"f7\"]"
   ]
  },
  {
   "cell_type": "code",
   "execution_count": 4,
   "id": "7f2dcdde-1ea4-4fe8-b683-d46cd3b34463",
   "metadata": {},
   "outputs": [],
   "source": [
    "globe_3_4type = 'globe_3/4'\n",
    "selected_types = ['globe_3/4']\n",
    "subset = puzzles[puzzles['puzzle_type'].isin(selected_types)]"
   ]
  },
  {
   "cell_type": "code",
   "execution_count": 5,
   "id": "78459453-ce88-4213-b850-08715fe988cf",
   "metadata": {},
   "outputs": [],
   "source": [
    "globe34 = []\n",
    "for index, row in subset.iterrows():\n",
    "    globe34.append(index)"
   ]
  },
  {
   "cell_type": "code",
   "execution_count": 6,
   "id": "0f944aa6-2265-4c8b-a1a0-c8e919dbf623",
   "metadata": {},
   "outputs": [
    {
     "data": {
      "text/plain": [
       "358"
      ]
     },
     "execution_count": 6,
     "metadata": {},
     "output_type": "execute_result"
    }
   ],
   "source": [
    "globe34[0]"
   ]
  },
  {
   "cell_type": "code",
   "execution_count": null,
   "id": "c380660f-64f3-4c20-be3d-3891809c7425",
   "metadata": {},
   "outputs": [],
   "source": []
  },
  {
   "cell_type": "code",
   "execution_count": 7,
   "id": "d9f4e605-3fba-46a8-a033-d517e3a8036a",
   "metadata": {},
   "outputs": [],
   "source": [
    "# globe_3/4の状態数\n",
    "allowed_moves = literal_eval(puzzle_info.loc[globe_3_4type, 'allowed_moves'])\n",
    "allowed_moves = {k: Permutation(v) for k, v in allowed_moves.items()}\n",
    "key_list = list(allowed_moves.keys())\n",
    "for key in key_list:\n",
    "    if key[0] == \"r\":\n",
    "        allowed_moves[\"-\" + key] = allowed_moves[key] ** (-1)"
   ]
  },
  {
   "cell_type": "code",
   "execution_count": null,
   "id": "e3810cc6-38f4-4d11-944a-9ba25fec8a5b",
   "metadata": {},
   "outputs": [],
   "source": []
  },
  {
   "cell_type": "code",
   "execution_count": 8,
   "id": "59a6e16c-ae2a-4b07-8d07-079cfd13003b",
   "metadata": {},
   "outputs": [],
   "source": [
    "moves358 = sample_submission.loc[358]['moves']"
   ]
  },
  {
   "cell_type": "code",
   "execution_count": 9,
   "id": "a64e350c-ab0d-4470-8827-ea4ba32799d9",
   "metadata": {},
   "outputs": [],
   "source": [
    "moves358_nor = moves358.replace('-f', 'f')"
   ]
  },
  {
   "cell_type": "code",
   "execution_count": 10,
   "id": "b5fd08a2-8f90-438e-be57-f7c8b29d1071",
   "metadata": {},
   "outputs": [
    {
     "data": {
      "text/plain": [
       "'-r3.f1.f7.-r1.f6.f5.f4.r1.-r0.f3.f4.f2.f7.f0.-r2.-r1.f0.f1.-r2.f0.f5.-r0.f4.f3.r0.f6.f7.-r0.f4.f2.r1.f4.f1.r3.f3.-r3.-r1.f4.-r2.f6.f3.f6.-r0.f3.f4.r0.r3.f3.-r3.-r1.f4.-r2.f6.f7.f4.-r0.f1.f2.-r3.f3.f2.r2.r3.-r1.f5.-r0.f4.f3.r0.f6.f7.-r0.f6.f1.r3.-r1.f3.r2.f5.f2.f0.r1.f5.f3.-r0.f3.-r1.f5.-r2.f3.r1.-r0.f1.f2.-r1.f2.-r2.f2.f0.-r3.f3.f2.r2.f3.f2.f0.f7.f2.f1.f0.r1.r2.f0.f7.f6.f0.f1.-r3.f0.f3.-r3.-r1.f4.-r2.f2.f4.r1.f5.r1.f4.r3.f4.-r2.f6.-r0.f3.f4.r0.-r1.f5.r1.f4.f2.f0.f7.f2.-r3.f2.f1.f0.r1.r2.f0.f7.f2.f7.-r1.f2.f7.f0.-r2.f3.f2.-r1.f3.r1.f1.f2.f7.f0.-r2.f2.-r2.-r2.f0.-r1.f3.-r3.f4.f7.r1.f7.f2.f7.f2.f0.f5.r1.f5.f4.f2.r3.f2.f4.f1.f2.f1.f0.r1.-r0.f0.r3.f1.f0.f3.f4.f7.-r0.-r0.f1.-r0.f1.f2.r1.f5.f3.f4.f3.r0.f6.-r2.f2.-r3.-r1.f3.f6.-r0.f4.f3.r0.f6.-r3.f7.f6.f5.-r3.f1.r3.f4.-r2.f6.-r0.f3.f4.r0.f0.f1.r3.f1.f0.r1.r2.f0.f7.f2.r1.f5.f3.r2.f4.r1.r3.r1.f1.f4.f3.r0.r0.f1.f6.-r3.f2.f3.r3.f6.r2.f4.r1.r3.f4.f3.r0.f3.-r2.f0.f6.r3.f5.-r1.f2.f3.f6.f4.f7.-r2.f2.f0.f3.r2.f2.f7.-r0.f0.f2.-r3.f3.f2.r2.-r1.f4.-r2.f6.f3.f6.-r0.f3.f4.r0.f3.f6.-r1.f3.r2.-r1.f1.-r0.f4.f3.r0.f6.f7.-r0.-r1.f3.r2.f5.f3.r2.f2.f7.f6.-r0.f3.-r1.f5.f4.r3.f3.f6.-r0.f3.-r1.f5.f4.r3.f3.-r0.f4.f3.r0.f6.f7.-r0.f6.f4.f7.f4.f7.f1.r3.f3.-r3.-r1.f4.-r2.f6.r3.f0.f2.f3.f1.f0.r1.r2.f0.f7.f2.f3.f6.f7.-r0.-r1.-r0'"
      ]
     },
     "execution_count": 10,
     "metadata": {},
     "output_type": "execute_result"
    }
   ],
   "source": [
    "moves358_nor"
   ]
  },
  {
   "cell_type": "code",
   "execution_count": null,
   "id": "9927d76c-0867-4bba-a233-68c9b2cca3ce",
   "metadata": {},
   "outputs": [],
   "source": []
  },
  {
   "cell_type": "code",
   "execution_count": 11,
   "id": "aee7a101-27b7-461d-a1ac-7b4d88bdc79f",
   "metadata": {},
   "outputs": [],
   "source": [
    "def print34(state):\n",
    "    for i in range(4):\n",
    "        print(';'.join(state[i*8:(i+1)*8]))\n",
    "    print()"
   ]
  },
  {
   "cell_type": "code",
   "execution_count": 12,
   "id": "38a24fff-c7e3-4258-82a1-076bdc47dedd",
   "metadata": {},
   "outputs": [
    {
     "name": "stdout",
     "output_type": "stream",
     "text": [
      "A;A;C;C;E;E;G;G\n",
      "A;A;C;C;E;E;G;G\n",
      "B;B;D;D;F;F;H;H\n",
      "B;B;D;D;F;F;H;H\n",
      "\n"
     ]
    }
   ],
   "source": [
    "solution_state = subset.loc[358].solution_state.split(';')\n",
    "print34(solution_state)"
   ]
  },
  {
   "cell_type": "code",
   "execution_count": 13,
   "id": "2e1d44f6-3bc4-4f65-8ab5-9f3ddccaf673",
   "metadata": {},
   "outputs": [],
   "source": [
    "initial_state = subset.loc[358].initial_state.split(';')"
   ]
  },
  {
   "cell_type": "code",
   "execution_count": 14,
   "id": "76caef79-640a-44ea-a1a8-4690c6173d61",
   "metadata": {},
   "outputs": [
    {
     "name": "stdout",
     "output_type": "stream",
     "text": [
      "C;F;B;F;H;H;E;D\n",
      "H;E;G;A;G;C;E;D\n",
      "C;B;B;A;F;D;F;H\n",
      "A;A;B;C;D;G;G;E\n",
      "\n",
      "F;D;C;B;A;E;D;C\n",
      "H;F;A;B;B;C;E;D\n",
      "C;G;A;G;E;D;F;H\n",
      "A;H;H;F;B;G;G;E\n",
      "\n",
      "F;D;C;G;B;F;H;C\n",
      "H;F;A;F;D;E;G;D\n",
      "C;G;A;E;C;B;B;H\n",
      "A;H;D;E;A;B;G;E\n",
      "\n",
      "H;G;C;C;B;D;B;A\n",
      "G;F;A;D;B;F;D;C\n",
      "B;E;A;H;E;G;C;H\n",
      "G;E;D;E;F;H;A;F\n",
      "\n",
      "B;A;C;C;B;G;E;D\n",
      "D;C;A;D;B;B;E;F\n",
      "C;H;A;H;E;G;F;G\n",
      "A;F;D;E;F;H;G;H\n",
      "\n",
      "B;A;C;C;G;H;F;E\n",
      "D;C;A;D;G;F;G;E\n",
      "C;H;A;H;F;E;B;B\n",
      "A;F;D;D;E;G;B;H\n",
      "\n",
      "G;A;C;C;E;F;B;E\n",
      "E;C;A;D;G;E;D;F\n",
      "F;H;A;H;B;B;C;G\n",
      "H;F;D;D;H;B;A;G\n",
      "\n"
     ]
    }
   ],
   "source": [
    "state = initial_state\n",
    "print34(state)\n",
    "\n",
    "state = allowed_moves['r0'](state)\n",
    "state = allowed_moves['f1'](state)\n",
    "print34(state)\n",
    "\n",
    "state = allowed_moves['-r3'](state)\n",
    "state = allowed_moves['f3'](state)\n",
    "state = allowed_moves['r3'](state)\n",
    "print34(state)\n",
    "\n",
    "state = allowed_moves['f5'](state)\n",
    "state = allowed_moves['f3'](state)\n",
    "state = allowed_moves['f6'](state)\n",
    "state = allowed_moves['f4'](state)\n",
    "print34(state)\n",
    "\n",
    "state = allowed_moves['f5'](state)\n",
    "state = allowed_moves['f6'](state)\n",
    "print34(state)\n",
    "\n",
    "state = allowed_moves['-r3'](state)\n",
    "state = allowed_moves['f4'](state)\n",
    "state = allowed_moves['r3'](state)\n",
    "print34(state)\n",
    "\n",
    "state = allowed_moves['f5'](state)\n",
    "state = allowed_moves['f4'](state)\n",
    "state = allowed_moves['f5'](state)\n",
    "state = allowed_moves['-r0'](state)\n",
    "state = allowed_moves['f5'](state)\n",
    "state = allowed_moves['r0'](state)\n",
    "state = allowed_moves['-r3'](state)\n",
    "state = allowed_moves['f5'](state)\n",
    "state = allowed_moves['r3'](state)\n",
    "state = allowed_moves['f5'](state)\n",
    "print34(state)\n",
    "\n",
    "state1 = state\n",
    "# 24"
   ]
  },
  {
   "cell_type": "code",
   "execution_count": 15,
   "id": "bcd13aa7-b073-4c16-b3d7-21db1dbd25a9",
   "metadata": {},
   "outputs": [
    {
     "name": "stdout",
     "output_type": "stream",
     "text": [
      "G;A;C;C;E;F;B;E\n",
      "E;C;A;D;G;E;D;F\n",
      "F;H;A;H;B;B;C;G\n",
      "H;F;D;D;H;B;A;G\n",
      "\n",
      "H;B;E;C;E;C;G;A\n",
      "E;E;D;D;G;C;A;F\n",
      "F;B;C;H;B;H;A;G\n",
      "B;A;G;D;F;D;F;H\n",
      "\n",
      "C;H;F;B;E;C;G;E\n",
      "G;D;G;E;D;C;A;F\n",
      "B;H;F;B;C;H;A;E\n",
      "D;A;B;A;G;D;H;F\n",
      "\n",
      "G;H;F;G;B;F;D;C\n",
      "A;D;G;E;E;B;D;C\n",
      "A;H;F;B;F;G;C;H\n",
      "H;A;E;B;A;E;C;D\n",
      "\n",
      "G;H;C;D;E;A;B;F\n",
      "A;D;B;C;D;F;E;B\n",
      "A;H;E;H;C;G;F;G\n",
      "H;G;D;C;F;B;A;E\n",
      "\n",
      "G;D;B;A;G;D;E;F\n",
      "A;E;F;A;G;C;D;B\n",
      "B;G;C;D;H;E;H;F\n",
      "H;C;A;B;H;C;F;E\n",
      "\n"
     ]
    }
   ],
   "source": [
    "print34(state1)\n",
    "state = state1\n",
    "\n",
    "state = allowed_moves['f5'](state)\n",
    "state = allowed_moves['-r3'](state)\n",
    "state = allowed_moves['f6'](state)\n",
    "state = allowed_moves['r3'](state)\n",
    "state = allowed_moves['f6'](state)\n",
    "state = allowed_moves['f7'](state)\n",
    "state = allowed_moves['-r3'](state)\n",
    "state = allowed_moves['f5'](state)\n",
    "state = allowed_moves['r3'](state)\n",
    "print34(state)\n",
    "\n",
    "state = allowed_moves['f0'](state)\n",
    "state = allowed_moves['f1'](state)\n",
    "state = allowed_moves['-r3'](state)\n",
    "state = allowed_moves['f7'](state)\n",
    "state = allowed_moves['r3'](state)\n",
    "print34(state)\n",
    "\n",
    "state = allowed_moves['f4'](state)\n",
    "state = allowed_moves['f5'](state)\n",
    "state = allowed_moves['-r3'](state)\n",
    "state = allowed_moves['f3'](state)\n",
    "state = allowed_moves['r3'](state)\n",
    "state = allowed_moves['f3'](state)\n",
    "print34(state)\n",
    "\n",
    "state = allowed_moves['f3'](state)\n",
    "state = allowed_moves['f4'](state)\n",
    "state = allowed_moves['-r3'](state)\n",
    "state = allowed_moves['f2'](state)\n",
    "state = allowed_moves['r3'](state)\n",
    "print34(state)\n",
    "\n",
    "state = allowed_moves['-r2'](state)\n",
    "state = allowed_moves['f2'](state)\n",
    "state = allowed_moves['f3'](state)\n",
    "state = allowed_moves['-r2'](state)\n",
    "state = allowed_moves['f1'](state)\n",
    "state = allowed_moves['r2'](state)\n",
    "print34(state)\n",
    "\n",
    "state2 = state\n",
    "# 31"
   ]
  },
  {
   "cell_type": "code",
   "execution_count": 16,
   "id": "9dc3b683-04e1-45be-ab88-41732c9929ff",
   "metadata": {},
   "outputs": [
    {
     "name": "stdout",
     "output_type": "stream",
     "text": [
      "G;D;B;A;G;D;E;F\n",
      "A;E;F;A;G;C;D;B\n",
      "B;G;C;D;H;E;H;F\n",
      "H;C;A;B;H;C;F;E\n",
      "\n",
      "G;D;C;F;B;A;G;F\n",
      "A;E;E;F;A;G;C;B\n",
      "B;G;D;C;D;H;H;F\n",
      "H;C;D;E;A;B;H;E\n",
      "\n",
      "G;D;E;F;G;D;B;A\n",
      "A;E;B;C;D;G;A;G\n",
      "B;F;F;H;E;C;D;H\n",
      "H;C;F;E;H;C;A;B\n",
      "\n",
      "G;D;E;A;C;H;E;A\n",
      "A;E;B;C;E;H;F;G\n",
      "B;F;A;G;D;C;D;H\n",
      "H;C;F;B;D;G;F;B\n",
      "\n",
      "G;D;E;A;B;F;G;D\n",
      "A;E;B;C;H;D;C;D\n",
      "B;F;A;G;G;F;H;E\n",
      "H;C;F;B;A;E;H;C\n",
      "\n",
      "G;D;E;A;E;D;G;A\n",
      "C;D;B;C;E;A;G;G\n",
      "H;E;A;D;F;B;H;F\n",
      "H;C;F;B;F;C;H;B\n",
      "\n",
      "G;F;C;D;E;A;G;A\n",
      "C;F;D;B;C;E;G;G\n",
      "H;A;E;A;D;B;H;F\n",
      "H;E;D;C;F;B;H;B\n",
      "\n",
      "G;D;G;F;C;F;B;A\n",
      "C;G;E;D;A;E;F;G\n",
      "D;H;B;C;B;H;A;F\n",
      "H;C;H;E;D;E;A;B\n",
      "\n",
      "G;D;G;A;E;D;E;A\n",
      "C;G;E;H;B;C;B;G\n",
      "D;H;F;E;A;D;A;F\n",
      "H;C;H;B;F;C;F;B\n",
      "\n",
      "E;D;G;A;B;H;E;D\n",
      "C;G;E;F;A;D;H;B\n",
      "D;H;F;E;B;C;G;A\n",
      "F;C;H;B;A;G;F;C\n",
      "\n"
     ]
    }
   ],
   "source": [
    "print34(state2)\n",
    "state = state2\n",
    "\n",
    "state = allowed_moves['f2'](state)\n",
    "state = allowed_moves['-r2'](state)\n",
    "state = allowed_moves['f3'](state)\n",
    "state = allowed_moves['r2'](state)\n",
    "print34(state)\n",
    "\n",
    "state = allowed_moves['f3'](state)\n",
    "state = allowed_moves['f4'](state)\n",
    "state = allowed_moves['-r2'](state)\n",
    "state = allowed_moves['f2'](state)\n",
    "state = allowed_moves['r2'](state)\n",
    "print34(state)\n",
    "\n",
    "state = allowed_moves['-r2'](state)\n",
    "state = allowed_moves['f3'](state)\n",
    "state = allowed_moves['r2'](state)\n",
    "print34(state)\n",
    "\n",
    "state = allowed_moves['f4'](state)\n",
    "print34(state)\n",
    "\n",
    "state = allowed_moves['f5'](state)\n",
    "state = allowed_moves['f6'](state)\n",
    "state = allowed_moves['-r2'](state)\n",
    "state = allowed_moves['f4'](state)\n",
    "state = allowed_moves['r2'](state)\n",
    "print34(state)\n",
    "\n",
    "state = allowed_moves['f1'](state)\n",
    "state = allowed_moves['-r2'](state)\n",
    "state = allowed_moves['f2'](state)\n",
    "state = allowed_moves['r2'](state)\n",
    "print34(state)\n",
    "\n",
    "state = allowed_moves['f2'](state)\n",
    "state = allowed_moves['f3'](state)\n",
    "state = allowed_moves['-r2'](state)\n",
    "state = allowed_moves['f1'](state)\n",
    "state = allowed_moves['r2'](state)\n",
    "state = allowed_moves['f3'](state)\n",
    "print34(state)\n",
    "\n",
    "state = allowed_moves['-r2'](state)\n",
    "state = allowed_moves['f3'](state)\n",
    "state = allowed_moves['r2'](state)\n",
    "print34(state)\n",
    "\n",
    "state = allowed_moves['-r1'](state)\n",
    "state = allowed_moves['f4'](state)\n",
    "state = allowed_moves['r1'](state)\n",
    "state = allowed_moves['f5'](state)\n",
    "print34(state)\n",
    "\n",
    "state3 = state\n",
    "# 35"
   ]
  },
  {
   "cell_type": "code",
   "execution_count": 19,
   "id": "92651d42-bdef-4d8d-a9ee-a11b50afc0f6",
   "metadata": {},
   "outputs": [],
   "source": [
    "def count_pair(state, r, f):\n",
    "    count = 0\n",
    "    for i in range(r + 1):\n",
    "        for j in range(f * 2):\n",
    "            if state[i * f * 2 + j] == state[i * f * 2 + (j + 1) % (f * 2)]:\n",
    "                count += 1\n",
    "\n",
    "    return count\n",
    "\n",
    "\n",
    "def count_correct(state, correct):\n",
    "    count = 0\n",
    "    for i in range(8):\n",
    "        count += state[i] == correct[i] and state[i+24] == correct[i+24]\n",
    "        count += (state[i] < state[i+24]) * 2\n",
    "    for i in range(8, 16):\n",
    "        count += state[i] == correct[i] and state[i+8] == correct[i+8]\n",
    "        count += (state[i] < state[i+8]) * 2\n",
    "    return count"
   ]
  },
  {
   "cell_type": "code",
   "execution_count": 20,
   "id": "a8534e61-a99f-47b5-8db4-0ebb87939356",
   "metadata": {},
   "outputs": [
    {
     "name": "stderr",
     "output_type": "stream",
     "text": [
      "  0%|                                                                                | 11398/16429825 [00:00<04:48, 56963.24it/s]"
     ]
    },
    {
     "name": "stdout",
     "output_type": "stream",
     "text": [
      "21 ['E', 'D', 'G', 'C', 'B', 'H', 'E', 'B', 'C', 'G', 'E', 'A', 'A', 'D', 'H', 'E', 'D', 'H', 'F', 'B', 'B', 'C', 'G', 'F', 'F', 'C', 'H', 'D', 'A', 'G', 'F', 'A'] -r0.-r1.f0.r0.r1.-r2.-r3.f0.r2.r3\n",
      "22 ['A', 'D', 'G', 'C', 'F', 'H', 'E', 'B', 'C', 'G', 'E', 'A', 'A', 'D', 'H', 'E', 'D', 'H', 'F', 'B', 'B', 'C', 'G', 'F', 'B', 'C', 'H', 'D', 'E', 'G', 'F', 'A'] -r0.-r1.f0.r0.r1.-r2.-r3.f0.r2.r3.-r0.f1.r0.-r3.f1.r3\n",
      "25 ['E', 'G', 'G', 'C', 'B', 'C', 'E', 'B', 'C', 'C', 'E', 'A', 'A', 'H', 'H', 'E', 'D', 'D', 'F', 'B', 'B', 'G', 'G', 'F', 'F', 'H', 'H', 'D', 'A', 'D', 'F', 'A'] -r0.-r1.f0.r0.r1.-r2.-r3.f0.r2.r3.-r0.-r1.f2.r0.r1.-r2.-r3.f2.r2.r3\n",
      "26 ['A', 'D', 'G', 'C', 'A', 'H', 'E', 'E', 'E', 'G', 'E', 'A', 'A', 'D', 'H', 'C', 'F', 'H', 'F', 'B', 'B', 'C', 'G', 'D', 'B', 'C', 'H', 'D', 'B', 'G', 'F', 'F'] -r0.-r1.f0.r0.r1.-r2.-r3.f0.r2.r3.f0.-r0.-r1.f0.r0.r1.-r2.-r3.f0.r2.r3.f0.-r0.f1.r0.-r3.f1.r3\n",
      "29 ['E', 'G', 'G', 'C', 'A', 'C', 'E', 'A', 'C', 'C', 'E', 'A', 'A', 'H', 'H', 'E', 'D', 'D', 'F', 'B', 'B', 'G', 'G', 'F', 'F', 'H', 'H', 'D', 'B', 'D', 'F', 'B'] -r0.-r1.f2.r0.r1.-r2.-r3.f2.r2.r3.f4.-r0.f4.r0.-r3.f4.r3.f4.-r0.-r1.f0.r0.r1.-r2.-r3.f0.r2.r3\n"
     ]
    },
    {
     "name": "stderr",
     "output_type": "stream",
     "text": [
      "  0%|▏                                                                               | 51182/16429825 [00:00<04:51, 56173.67it/s]"
     ]
    },
    {
     "name": "stdout",
     "output_type": "stream",
     "text": [
      "30 ['A', 'G', 'G', 'C', 'A', 'C', 'E', 'E', 'E', 'C', 'E', 'A', 'A', 'H', 'H', 'C', 'F', 'D', 'F', 'B', 'B', 'G', 'G', 'D', 'B', 'H', 'H', 'D', 'B', 'D', 'F', 'F'] -r0.-r1.f0.r0.r1.-r2.-r3.f0.r2.r3.f0.-r0.-r1.f0.r0.r1.-r2.-r3.f0.r2.r3.f0.-r0.f1.r0.-r3.f1.r3.-r0.-r1.f2.r0.r1.-r2.-r3.f2.r2.r3\n"
     ]
    },
    {
     "name": "stderr",
     "output_type": "stream",
     "text": [
      "  1%|▊                                                                              | 166091/16429825 [00:02<04:50, 55961.84it/s]"
     ]
    },
    {
     "name": "stdout",
     "output_type": "stream",
     "text": [
      "31 ['E', 'A', 'G', 'C', 'A', 'C', 'E', 'G', 'C', 'G', 'E', 'A', 'F', 'A', 'H', 'C', 'D', 'H', 'F', 'B', 'E', 'B', 'G', 'D', 'F', 'B', 'H', 'D', 'B', 'D', 'F', 'H'] f5.-r0.-r1.f5.r0.r1.-r2.-r3.f5.r2.r3.f5.-r0.f2.r0.-r3.f2.r3.f4.-r0.-r1.f4.r0.r1.-r2.-r3.f4.r2.r3.f4.-r0.-r1.f0.r0.r1.-r2.-r3.f0.r2.r3\n"
     ]
    },
    {
     "name": "stderr",
     "output_type": "stream",
     "text": [
      "  4%|██▊                                                                            | 584374/16429825 [00:10<04:39, 56737.64it/s]"
     ]
    },
    {
     "name": "stdout",
     "output_type": "stream",
     "text": [
      "32 ['A', 'E', 'G', 'C', 'A', 'C', 'E', 'G', 'E', 'C', 'E', 'A', 'A', 'D', 'H', 'G', 'F', 'D', 'F', 'B', 'B', 'C', 'G', 'H', 'B', 'F', 'H', 'D', 'B', 'D', 'F', 'H'] -r0.-r1.f0.r0.r1.-r2.-r3.f0.r2.r3.-r0.f2.r0.-r3.f2.r3.f1.-r0.-r1.f1.r0.r1.-r2.-r3.f1.r2.r3.f1.f0.-r0.-r1.f0.r0.r1.-r2.-r3.f0.r2.r3.f0.-r0.f1.r0.-r3.f1.r3\n"
     ]
    },
    {
     "name": "stderr",
     "output_type": "stream",
     "text": [
      " 13%|█████████▊                                                                    | 2078417/16429825 [00:36<04:11, 57074.95it/s]"
     ]
    },
    {
     "name": "stdout",
     "output_type": "stream",
     "text": [
      "33 ['A', 'G', 'A', 'G', 'C', 'C', 'E', 'E', 'G', 'C', 'G', 'E', 'A', 'A', 'E', 'C', 'H', 'D', 'H', 'F', 'B', 'B', 'F', 'D', 'B', 'H', 'B', 'H', 'D', 'D', 'F', 'F'] f0.-r0.-r1.f0.r0.r1.-r2.-r3.f0.r2.r3.f0.f1.-r0.-r1.f1.r0.r1.-r2.-r3.f1.r2.r3.f1.-r0.f1.r0.-r3.f1.r3.-r0.-r1.f2.r0.r1.-r2.-r3.f2.r2.r3.f3.-r0.-r1.f3.r0.r1.-r2.-r3.f3.r2.r3.f3.-r1.f3.r1.-r2.f3.r2\n"
     ]
    },
    {
     "name": "stderr",
     "output_type": "stream",
     "text": [
      " 36%|████████████████████████████                                                  | 5919538/16429825 [01:44<03:05, 56735.63it/s]"
     ]
    },
    {
     "name": "stdout",
     "output_type": "stream",
     "text": [
      "34 ['A', 'G', 'G', 'C', 'A', 'C', 'E', 'E', 'G', 'C', 'E', 'A', 'G', 'A', 'E', 'C', 'H', 'D', 'F', 'B', 'H', 'B', 'F', 'D', 'B', 'H', 'H', 'D', 'B', 'D', 'F', 'F'] -r0.-r1.f0.r0.r1.-r2.-r3.f0.r2.r3.-r0.-r1.f2.r0.r1.-r2.-r3.f2.r2.r3.f5.-r1.f5.r1.-r2.f5.r2.f5.f7.-r1.f7.r1.-r2.f7.r2.f7.f0.-r0.-r1.f0.r0.r1.-r2.-r3.f0.r2.r3.f0.-r0.-r1.f1.r0.r1.-r2.-r3.f1.r2.r3\n"
     ]
    },
    {
     "name": "stderr",
     "output_type": "stream",
     "text": [
      " 48%|█████████████████████████████████████▌                                        | 7918384/16429825 [02:19<02:29, 56974.41it/s]"
     ]
    },
    {
     "name": "stdout",
     "output_type": "stream",
     "text": [
      "35 ['E', 'A', 'G', 'C', 'A', 'C', 'E', 'G', 'C', 'G', 'E', 'G', 'A', 'A', 'E', 'C', 'D', 'H', 'F', 'H', 'B', 'B', 'F', 'D', 'F', 'B', 'H', 'D', 'B', 'D', 'F', 'H'] -r1.f0.r1.-r2.f0.r2.f5.-r0.-r1.f5.r0.r1.-r2.-r3.f5.r2.r3.f5.-r0.f2.r0.-r3.f2.r3.f4.-r0.-r1.f4.r0.r1.-r2.-r3.f4.r2.r3.f4.f7.-r1.f7.r1.-r2.f7.r2.f7.-r0.-r1.f0.r0.r1.-r2.-r3.f0.r2.r3\n"
     ]
    },
    {
     "name": "stderr",
     "output_type": "stream",
     "text": [
      " 88%|████████████████████████████████████████████████████████████████████         | 14527015/16429825 [04:16<00:34, 55558.96it/s]"
     ]
    },
    {
     "name": "stdout",
     "output_type": "stream",
     "text": [
      "36 ['E', 'A', 'A', 'C', 'G', 'C', 'E', 'G', 'C', 'G', 'G', 'A', 'E', 'A', 'E', 'C', 'D', 'H', 'H', 'B', 'F', 'B', 'F', 'D', 'F', 'B', 'B', 'D', 'H', 'D', 'F', 'H'] f3.-r0.-r1.f3.r0.r1.-r2.-r3.f3.r2.r3.f3.-r1.f3.r1.-r2.f3.r2.f5.-r0.-r1.f5.r0.r1.-r2.-r3.f5.r2.r3.f5.-r0.f2.r0.-r3.f2.r3.f4.-r0.-r1.f4.r0.r1.-r2.-r3.f4.r2.r3.f4.-r0.-r1.f0.r0.r1.-r2.-r3.f0.r2.r3\n"
     ]
    },
    {
     "name": "stderr",
     "output_type": "stream",
     "text": [
      "100%|█████████████████████████████████████████████████████████████████████████████| 16429825/16429825 [04:50<00:00, 56541.48it/s]"
     ]
    },
    {
     "name": "stdout",
     "output_type": "stream",
     "text": [
      "36 ['E', 'A', 'A', 'C', 'G', 'C', 'E', 'G', 'C', 'G', 'G', 'A', 'E', 'A', 'E', 'C', 'D', 'H', 'H', 'B', 'F', 'B', 'F', 'D', 'F', 'B', 'B', 'D', 'H', 'D', 'F', 'H'] f3.-r0.-r1.f3.r0.r1.-r2.-r3.f3.r2.r3.f3.-r1.f3.r1.-r2.f3.r2.f5.-r0.-r1.f5.r0.r1.-r2.-r3.f5.r2.r3.f5.-r0.f2.r0.-r3.f2.r3.f4.-r0.-r1.f4.r0.r1.-r2.-r3.f4.r2.r3.f4.-r0.-r1.f0.r0.r1.-r2.-r3.f0.r2.r3\n"
     ]
    },
    {
     "name": "stderr",
     "output_type": "stream",
     "text": [
      "\n"
     ]
    }
   ],
   "source": [
    "state = state3\n",
    "moves_list = []\n",
    "correct_num = count_correct(state, solution_state)\n",
    "max_correct_num = correct_num\n",
    "max_correct_state = []\n",
    "max_correct_moves = ''\n",
    "\n",
    "for key in tqdm.tqdm(solve_dict_rev, total=len(solve_dict_rev)):\n",
    "    state = state3\n",
    "    new_state = Permutation(solve_dict_rev[key])(state)\n",
    "    correct_num = count_correct(new_state, solution_state)\n",
    "    if max_correct_num < correct_num:\n",
    "        max_correct_num = correct_num\n",
    "        max_correct_state = new_state\n",
    "        max_correct_moves = key\n",
    "        print(max_correct_num, max_correct_state, max_correct_moves)\n",
    "print(max_correct_num, max_correct_state, max_correct_moves)"
   ]
  },
  {
   "cell_type": "code",
   "execution_count": 21,
   "id": "71f67019-515a-412f-9b14-f544f9fc614a",
   "metadata": {},
   "outputs": [
    {
     "name": "stderr",
     "output_type": "stream",
     "text": [
      "  0%|                                                                                 | 5643/16429825 [00:00<04:53, 56031.16it/s]"
     ]
    },
    {
     "name": "stdout",
     "output_type": "stream",
     "text": [
      "38 ['E', 'A', 'A', 'C', 'G', 'E', 'C', 'G', 'C', 'G', 'G', 'A', 'E', 'E', 'A', 'C', 'D', 'H', 'H', 'B', 'F', 'F', 'B', 'D', 'F', 'B', 'B', 'D', 'H', 'F', 'D', 'H'] f6.-r0.-r1.f6.r0.r1.-r2.-r3.f6.r2.r3.f6\n",
      "39 ['E', 'A', 'A', 'C', 'C', 'E', 'G', 'G', 'C', 'G', 'G', 'A', 'E', 'E', 'A', 'C', 'D', 'H', 'H', 'B', 'F', 'F', 'B', 'D', 'F', 'B', 'B', 'D', 'D', 'F', 'H', 'H'] f5.-r0.f5.r0.-r3.f5.r3.f5.f6.-r0.-r1.f6.r0.r1.-r2.-r3.f6.r2.r3.f6\n",
      "40 ['A', 'A', 'E', 'C', 'G', 'E', 'C', 'G', 'G', 'G', 'C', 'A', 'E', 'E', 'A', 'C', 'H', 'H', 'D', 'B', 'F', 'F', 'B', 'D', 'B', 'B', 'F', 'D', 'H', 'F', 'D', 'H'] f1.-r0.-r1.f1.r0.r1.-r2.-r3.f1.r2.r3.f1.f2.-r0.-r1.f2.r0.r1.-r2.-r3.f2.r2.r3.f2.f6.-r0.-r1.f6.r0.r1.-r2.-r3.f6.r2.r3.f6\n"
     ]
    },
    {
     "name": "stderr",
     "output_type": "stream",
     "text": [
      "  0%|▎                                                                               | 75774/16429825 [00:01<04:41, 58067.49it/s]"
     ]
    },
    {
     "name": "stdout",
     "output_type": "stream",
     "text": [
      "41 ['A', 'A', 'E', 'C', 'G', 'E', 'C', 'G', 'C', 'G', 'C', 'A', 'E', 'E', 'A', 'G', 'D', 'H', 'D', 'B', 'F', 'F', 'B', 'H', 'B', 'B', 'F', 'D', 'H', 'F', 'D', 'H'] f1.-r0.-r1.f1.r0.r1.-r2.-r3.f1.r2.r3.f1.f0.-r1.f0.r1.-r2.f0.r2.f0.f2.-r0.-r1.f2.r0.r1.-r2.-r3.f2.r2.r3.f2.f6.-r0.-r1.f6.r0.r1.-r2.-r3.f6.r2.r3.f6\n"
     ]
    },
    {
     "name": "stderr",
     "output_type": "stream",
     "text": [
      "  5%|███▉                                                                           | 823540/16429825 [00:14<04:32, 57279.24it/s]"
     ]
    },
    {
     "name": "stdout",
     "output_type": "stream",
     "text": [
      "42 ['A', 'A', 'E', 'C', 'C', 'E', 'G', 'G', 'C', 'G', 'C', 'A', 'E', 'E', 'A', 'G', 'D', 'H', 'D', 'B', 'F', 'F', 'B', 'H', 'B', 'B', 'F', 'D', 'D', 'F', 'H', 'H'] f1.-r0.-r1.f1.r0.r1.-r2.-r3.f1.r2.r3.f1.f0.-r1.f0.r1.-r2.f0.r2.f0.f2.-r0.-r1.f2.r0.r1.-r2.-r3.f2.r2.r3.f2.f5.-r0.f5.r0.-r3.f5.r3.f5.f6.-r0.-r1.f6.r0.r1.-r2.-r3.f6.r2.r3.f6\n"
     ]
    },
    {
     "name": "stderr",
     "output_type": "stream",
     "text": [
      " 50%|██████████████████████████████████████▊                                       | 8165504/16429825 [02:24<02:37, 52427.50it/s]"
     ]
    },
    {
     "name": "stdout",
     "output_type": "stream",
     "text": [
      "43 ['A', 'A', 'E', 'C', 'C', 'E', 'G', 'G', 'C', 'A', 'C', 'G', 'E', 'E', 'A', 'G', 'D', 'B', 'D', 'H', 'F', 'F', 'B', 'H', 'B', 'B', 'F', 'D', 'D', 'F', 'H', 'H'] f1.-r0.-r1.f1.r0.r1.-r2.-r3.f1.r2.r3.f1.f0.-r1.f0.r1.-r2.f0.r2.f0.f3.-r1.f3.r1.-r2.f3.r2.f3.f2.-r0.-r1.f2.r0.r1.-r2.-r3.f2.r2.r3.f2.f5.-r0.f5.r0.-r3.f5.r3.f5.f6.-r0.-r1.f6.r0.r1.-r2.-r3.f6.r2.r3.f6\n"
     ]
    },
    {
     "name": "stderr",
     "output_type": "stream",
     "text": [
      "100%|█████████████████████████████████████████████████████████████████████████████| 16429825/16429825 [04:53<00:00, 56004.66it/s]"
     ]
    },
    {
     "name": "stdout",
     "output_type": "stream",
     "text": [
      "43 ['A', 'A', 'E', 'C', 'C', 'E', 'G', 'G', 'C', 'A', 'C', 'G', 'E', 'E', 'A', 'G', 'D', 'B', 'D', 'H', 'F', 'F', 'B', 'H', 'B', 'B', 'F', 'D', 'D', 'F', 'H', 'H'] f1.-r0.-r1.f1.r0.r1.-r2.-r3.f1.r2.r3.f1.f0.-r1.f0.r1.-r2.f0.r2.f0.f3.-r1.f3.r1.-r2.f3.r2.f3.f2.-r0.-r1.f2.r0.r1.-r2.-r3.f2.r2.r3.f2.f5.-r0.f5.r0.-r3.f5.r3.f5.f6.-r0.-r1.f6.r0.r1.-r2.-r3.f6.r2.r3.f6\n"
     ]
    },
    {
     "name": "stderr",
     "output_type": "stream",
     "text": [
      "\n"
     ]
    }
   ],
   "source": [
    "tuning2 = max_correct_state\n",
    "state = tuning2\n",
    "correct_num = count_correct(state, solution_state)\n",
    "max_correct_num = correct_num\n",
    "max_correct_state = []\n",
    "max_correct_moves = ''\n",
    "\n",
    "for key in tqdm.tqdm(solve_dict_rev, total=len(solve_dict_rev)):\n",
    "    state = tuning2\n",
    "    new_state = Permutation(solve_dict_rev[key])(state)\n",
    "    correct_num = count_correct(new_state, solution_state)\n",
    "    if max_correct_num < correct_num:\n",
    "        max_correct_num = correct_num\n",
    "        max_correct_state = new_state\n",
    "        max_correct_moves = key\n",
    "        print(max_correct_num, max_correct_state, max_correct_moves)\n",
    "print(max_correct_num, max_correct_state, max_correct_moves)"
   ]
  },
  {
   "cell_type": "code",
   "execution_count": 22,
   "id": "0b5aba88-662b-4772-ba9b-88279c2471b3",
   "metadata": {},
   "outputs": [
    {
     "name": "stderr",
     "output_type": "stream",
     "text": [
      "  0%|                                                                                | 10761/16429825 [00:00<05:03, 54010.75it/s]"
     ]
    },
    {
     "name": "stdout",
     "output_type": "stream",
     "text": [
      "45 ['A', 'A', 'C', 'C', 'E', 'E', 'G', 'G', 'C', 'A', 'G', 'C', 'E', 'E', 'A', 'G', 'D', 'B', 'H', 'D', 'F', 'F', 'B', 'H', 'B', 'B', 'D', 'D', 'F', 'F', 'H', 'H'] f3.-r0.-r1.f3.r0.r1.-r2.-r3.f3.r2.r3.f3.f4.-r0.f4.r0.-r3.f4.r3.f4\n"
     ]
    },
    {
     "name": "stderr",
     "output_type": "stream",
     "text": [
      "  1%|▍                                                                               | 84357/16429825 [00:01<04:47, 56860.91it/s]"
     ]
    },
    {
     "name": "stdout",
     "output_type": "stream",
     "text": [
      "46 ['A', 'A', 'C', 'C', 'E', 'E', 'G', 'G', 'A', 'G', 'C', 'C', 'E', 'E', 'A', 'G', 'B', 'H', 'D', 'D', 'F', 'F', 'B', 'H', 'B', 'B', 'D', 'D', 'F', 'F', 'H', 'H'] f1.-r0.-r1.f1.r0.r1.-r2.-r3.f1.r2.r3.f1.f3.-r0.-r1.f3.r0.r1.-r2.-r3.f3.r2.r3.f3.f2.-r1.f2.r1.-r2.f2.r2.f2.f4.-r0.f4.r0.-r3.f4.r3.f4\n"
     ]
    },
    {
     "name": "stderr",
     "output_type": "stream",
     "text": [
      "100%|█████████████████████████████████████████████████████████████████████████████| 16429825/16429825 [04:51<00:00, 56369.13it/s]\n"
     ]
    },
    {
     "name": "stdout",
     "output_type": "stream",
     "text": [
      "46 ['A', 'A', 'C', 'C', 'E', 'E', 'G', 'G', 'A', 'G', 'C', 'C', 'E', 'E', 'A', 'G', 'B', 'H', 'D', 'D', 'F', 'F', 'B', 'H', 'B', 'B', 'D', 'D', 'F', 'F', 'H', 'H'] f1.-r0.-r1.f1.r0.r1.-r2.-r3.f1.r2.r3.f1.f3.-r0.-r1.f3.r0.r1.-r2.-r3.f3.r2.r3.f3.f2.-r1.f2.r1.-r2.f2.r2.f2.f4.-r0.f4.r0.-r3.f4.r3.f4\n"
     ]
    }
   ],
   "source": [
    "tuning3 = max_correct_state\n",
    "state = tuning3\n",
    "correct_num = count_correct(state, solution_state)\n",
    "max_correct_num = correct_num\n",
    "max_correct_state = []\n",
    "max_correct_moves = ''\n",
    "\n",
    "for key in tqdm.tqdm(solve_dict_rev, total=len(solve_dict_rev)):\n",
    "    state = tuning3\n",
    "    new_state = Permutation(solve_dict_rev[key])(state)\n",
    "    correct_num = count_correct(new_state, solution_state)\n",
    "    if max_correct_num < correct_num:\n",
    "        max_correct_num = correct_num\n",
    "        max_correct_state = new_state\n",
    "        max_correct_moves = key\n",
    "        print(max_correct_num, max_correct_state, max_correct_moves)\n",
    "print(max_correct_num, max_correct_state, max_correct_moves)"
   ]
  },
  {
   "cell_type": "code",
   "execution_count": 24,
   "id": "04ae442e-1a98-4aad-8238-91584902bf99",
   "metadata": {},
   "outputs": [
    {
     "name": "stderr",
     "output_type": "stream",
     "text": [
      "  0%|                                                                                | 15626/16429825 [00:00<05:07, 53435.22it/s]"
     ]
    },
    {
     "name": "stdout",
     "output_type": "stream",
     "text": [
      "48 ['A', 'A', 'C', 'C', 'E', 'E', 'G', 'G', 'A', 'A', 'C', 'C', 'E', 'E', 'G', 'G', 'B', 'B', 'D', 'D', 'F', 'F', 'H', 'H', 'B', 'B', 'D', 'D', 'F', 'F', 'H', 'H'] f1.-r0.-r1.f1.r0.r1.-r2.-r3.f1.r2.r3.f1.f7.-r0.-r1.f7.r0.r1.-r2.-r3.f7.r2.r3.f7.f0.-r1.f0.r1.-r2.f0.r2.f0\n"
     ]
    },
    {
     "name": "stderr",
     "output_type": "stream",
     "text": [
      "100%|█████████████████████████████████████████████████████████████████████████████| 16429825/16429825 [04:52<00:00, 56205.48it/s]"
     ]
    },
    {
     "name": "stdout",
     "output_type": "stream",
     "text": [
      "48 ['A', 'A', 'C', 'C', 'E', 'E', 'G', 'G', 'A', 'A', 'C', 'C', 'E', 'E', 'G', 'G', 'B', 'B', 'D', 'D', 'F', 'F', 'H', 'H', 'B', 'B', 'D', 'D', 'F', 'F', 'H', 'H'] f1.-r0.-r1.f1.r0.r1.-r2.-r3.f1.r2.r3.f1.f7.-r0.-r1.f7.r0.r1.-r2.-r3.f7.r2.r3.f7.f0.-r1.f0.r1.-r2.f0.r2.f0\n"
     ]
    },
    {
     "name": "stderr",
     "output_type": "stream",
     "text": [
      "\n"
     ]
    }
   ],
   "source": [
    "tuning4 = max_correct_state\n",
    "state = tuning4\n",
    "correct_num = count_correct(state, solution_state)\n",
    "max_correct_num = correct_num\n",
    "max_correct_state = []\n",
    "max_correct_moves = ''\n",
    "\n",
    "for key in tqdm.tqdm(solve_dict_rev, total=len(solve_dict_rev)):\n",
    "    state = tuning4\n",
    "    new_state = Permutation(solve_dict_rev[key])(state)\n",
    "    correct_num = count_correct(new_state, solution_state)\n",
    "    if max_correct_num < correct_num:\n",
    "        max_correct_num = correct_num\n",
    "        max_correct_state = new_state\n",
    "        max_correct_moves = key\n",
    "        print(max_correct_num, max_correct_state, max_correct_moves)\n",
    "print(max_correct_num, max_correct_state, max_correct_moves)"
   ]
  },
  {
   "cell_type": "code",
   "execution_count": 23,
   "id": "5185554e-d233-4cd5-a2ea-1d178de31170",
   "metadata": {},
   "outputs": [
    {
     "name": "stdout",
     "output_type": "stream",
     "text": [
      "A;A;C;C;E;E;G;G\n",
      "A;G;C;C;E;E;A;G\n",
      "B;H;D;D;F;F;B;H\n",
      "B;B;D;D;F;F;H;H\n",
      "\n"
     ]
    }
   ],
   "source": [
    "print34(['A', 'A', 'C', 'C', 'E', 'E', 'G', 'G', 'A', 'G', 'C', 'C', 'E', 'E', 'A', 'G', 'B', 'H', 'D', 'D', 'F', 'F', 'B', 'H', 'B', 'B', 'D', 'D', 'F', 'F', 'H', 'H'])\n"
   ]
  },
  {
   "cell_type": "code",
   "execution_count": null,
   "id": "50a5ef4f-0da5-4cb2-b79a-8d5f6c38e769",
   "metadata": {},
   "outputs": [],
   "source": [
    "# 120"
   ]
  },
  {
   "cell_type": "code",
   "execution_count": null,
   "id": "1344c7c9-c5dc-40c0-8678-bd9b8bd68e72",
   "metadata": {},
   "outputs": [],
   "source": []
  },
  {
   "cell_type": "code",
   "execution_count": null,
   "id": "6693da3b-1f4f-487a-9d05-b0573c78f995",
   "metadata": {},
   "outputs": [],
   "source": []
  },
  {
   "cell_type": "code",
   "execution_count": 224,
   "id": "1c8c8db7-058f-4828-9012-de80cc632e44",
   "metadata": {},
   "outputs": [
    {
     "name": "stdout",
     "output_type": "stream",
     "text": [
      "E;D;G;A;B;H;E;D\n",
      "C;G;E;F;A;D;H;B\n",
      "D;H;F;E;B;C;G;A\n",
      "F;C;H;B;A;G;F;C\n",
      "\n",
      "A;D;G;A;F;H;E;D\n",
      "C;G;E;F;A;D;H;B\n",
      "D;H;F;E;B;C;G;A\n",
      "B;C;H;B;E;G;F;C\n",
      "\n",
      "A;D;G;C;F;H;E;B\n",
      "A;A;D;H;E;C;G;E\n",
      "B;B;C;G;F;D;H;F\n",
      "B;C;H;D;E;G;F;A\n",
      "\n",
      "A;D;G;A;F;H;E;D\n",
      "A;A;D;F;E;C;G;G\n",
      "B;B;C;E;F;D;H;H\n",
      "B;C;H;B;E;G;F;C\n",
      "\n",
      "A;A;D;G;F;H;D;E\n",
      "A;A;D;F;E;C;G;G\n",
      "B;B;C;E;F;D;H;H\n",
      "B;B;C;H;E;G;C;F\n",
      "\n",
      "A;A;D;G;F;H;D;E\n",
      "A;A;D;E;C;G;F;G\n",
      "B;B;C;F;D;H;E;H\n",
      "B;B;C;H;E;G;C;F\n",
      "\n",
      "A;A;C;F;G;H;C;E\n",
      "A;A;E;C;E;G;C;G\n",
      "B;B;F;D;F;H;D;H\n",
      "B;B;D;E;H;G;D;F\n",
      "\n",
      "A;A;C;F;G;C;H;E\n",
      "A;A;E;C;E;C;G;G\n",
      "B;B;F;D;F;D;H;H\n",
      "B;B;D;E;H;D;G;F\n",
      "\n",
      "A;A;C;F;G;C;E;H\n",
      "A;A;E;C;E;C;G;G\n",
      "B;B;F;D;F;D;H;H\n",
      "B;B;D;E;H;D;F;G\n",
      "\n",
      "A;A;C;G;G;C;E;E\n",
      "A;A;E;C;E;C;G;G\n",
      "B;B;F;D;F;D;H;H\n",
      "B;B;D;H;H;D;F;F\n",
      "\n",
      "A;A;C;C;G;G;E;E\n",
      "A;A;C;C;E;E;G;G\n",
      "B;B;D;D;F;F;H;H\n",
      "B;B;D;D;H;H;F;F\n",
      "\n",
      "A;A;C;C;E;E;G;G\n",
      "A;A;C;C;E;E;G;G\n",
      "B;B;D;D;F;F;H;H\n",
      "B;B;D;D;F;F;H;H\n",
      "\n"
     ]
    }
   ],
   "source": [
    "print34(state3)\n",
    "state = state3\n",
    "\n",
    "state = allowed_moves['-r0'](state)\n",
    "state = allowed_moves['f1'](state)\n",
    "state = allowed_moves['r0'](state)\n",
    "state = allowed_moves['-r3'](state)\n",
    "state = allowed_moves['f1'](state)\n",
    "state = allowed_moves['r3'](state)\n",
    "print34(state)\n",
    "\n",
    "state = allowed_moves['-r0'](state)\n",
    "state = allowed_moves['-r1'](state)\n",
    "state = allowed_moves['f4'](state)\n",
    "state = allowed_moves['r0'](state)\n",
    "state = allowed_moves['r1'](state)\n",
    "state = allowed_moves['-r2'](state)\n",
    "state = allowed_moves['-r3'](state)\n",
    "state = allowed_moves['f4'](state)\n",
    "state = allowed_moves['r2'](state)\n",
    "state = allowed_moves['r3'](state)\n",
    "\n",
    "state = allowed_moves['r1'](state)\n",
    "state = allowed_moves['r1'](state)\n",
    "state = allowed_moves['r1'](state)\n",
    "state = allowed_moves['r2'](state)\n",
    "state = allowed_moves['r2'](state)\n",
    "state = allowed_moves['r2'](state)\n",
    "print34(state)\n",
    "\n",
    "state = allowed_moves['-r0'](state)\n",
    "state = allowed_moves['-r1'](state)\n",
    "state = allowed_moves['f4'](state)\n",
    "state = allowed_moves['r0'](state)\n",
    "state = allowed_moves['r1'](state)\n",
    "state = allowed_moves['-r2'](state)\n",
    "state = allowed_moves['-r3'](state)\n",
    "state = allowed_moves['f4'](state)\n",
    "state = allowed_moves['r2'](state)\n",
    "state = allowed_moves['r3'](state)\n",
    "print34(state)\n",
    "\n",
    "state = allowed_moves['f3'](state)\n",
    "state = allowed_moves['-r0'](state)\n",
    "state = allowed_moves['f3'](state)\n",
    "state = allowed_moves['r0'](state)\n",
    "state = allowed_moves['-r3'](state)\n",
    "state = allowed_moves['f3'](state)\n",
    "state = allowed_moves['r3'](state)\n",
    "state = allowed_moves['f3'](state)\n",
    "\n",
    "state = allowed_moves['f2'](state)\n",
    "state = allowed_moves['-r0'](state)\n",
    "state = allowed_moves['f2'](state)\n",
    "state = allowed_moves['r0'](state)\n",
    "state = allowed_moves['-r3'](state)\n",
    "state = allowed_moves['f2'](state)\n",
    "state = allowed_moves['r3'](state)\n",
    "state = allowed_moves['f2'](state)\n",
    "\n",
    "state = allowed_moves['f7'](state)\n",
    "state = allowed_moves['-r0'](state)\n",
    "state = allowed_moves['f7'](state)\n",
    "state = allowed_moves['r0'](state)\n",
    "state = allowed_moves['-r3'](state)\n",
    "state = allowed_moves['f7'](state)\n",
    "state = allowed_moves['r3'](state)\n",
    "state = allowed_moves['f7'](state)\n",
    "print34(state)\n",
    "\n",
    "state = allowed_moves['f4'](state)\n",
    "state = allowed_moves['-r1'](state)\n",
    "state = allowed_moves['f4'](state)\n",
    "state = allowed_moves['r1'](state)\n",
    "state = allowed_moves['-r2'](state)\n",
    "state = allowed_moves['f4'](state)\n",
    "state = allowed_moves['r2'](state)\n",
    "state = allowed_moves['f4'](state)\n",
    "\n",
    "state = allowed_moves['f5'](state)\n",
    "state = allowed_moves['-r1'](state)\n",
    "state = allowed_moves['f5'](state)\n",
    "state = allowed_moves['r1'](state)\n",
    "state = allowed_moves['-r2'](state)\n",
    "state = allowed_moves['f5'](state)\n",
    "state = allowed_moves['r2'](state)\n",
    "state = allowed_moves['f5'](state)\n",
    "\n",
    "state = allowed_moves['f6'](state)\n",
    "state = allowed_moves['-r1'](state)\n",
    "state = allowed_moves['f6'](state)\n",
    "state = allowed_moves['r1'](state)\n",
    "state = allowed_moves['-r2'](state)\n",
    "state = allowed_moves['f6'](state)\n",
    "state = allowed_moves['r2'](state)\n",
    "state = allowed_moves['f6'](state)\n",
    "print34(state)\n",
    "\n",
    "# 80\n",
    "\n",
    "state = allowed_moves['-r0'](state)\n",
    "state = allowed_moves['-r1'](state)\n",
    "state = allowed_moves['f3'](state)\n",
    "state = allowed_moves['r0'](state)\n",
    "state = allowed_moves['r1'](state)\n",
    "state = allowed_moves['-r2'](state)\n",
    "state = allowed_moves['-r3'](state)\n",
    "state = allowed_moves['f3'](state)\n",
    "state = allowed_moves['r2'](state)\n",
    "state = allowed_moves['r3'](state)\n",
    "\n",
    "state = allowed_moves['f4'](state)\n",
    "state = allowed_moves['-r0'](state)\n",
    "state = allowed_moves['-r1'](state)\n",
    "state = allowed_moves['f4'](state)\n",
    "state = allowed_moves['r0'](state)\n",
    "state = allowed_moves['r1'](state)\n",
    "state = allowed_moves['-r2'](state)\n",
    "state = allowed_moves['-r3'](state)\n",
    "state = allowed_moves['f4'](state)\n",
    "state = allowed_moves['r2'](state)\n",
    "state = allowed_moves['r3'](state)\n",
    "state = allowed_moves['f4'](state)\n",
    "print34(state)\n",
    "\n",
    "state = allowed_moves['f6'](state)\n",
    "state = allowed_moves['-r0'](state)\n",
    "state = allowed_moves['-r1'](state)\n",
    "state = allowed_moves['f6'](state)\n",
    "state = allowed_moves['r0'](state)\n",
    "state = allowed_moves['r1'](state)\n",
    "state = allowed_moves['-r2'](state)\n",
    "state = allowed_moves['-r3'](state)\n",
    "state = allowed_moves['f6'](state)\n",
    "state = allowed_moves['r2'](state)\n",
    "state = allowed_moves['r3'](state)\n",
    "state = allowed_moves['f6'](state)\n",
    "print34(state)\n",
    "\n",
    "state = allowed_moves['f7'](state)\n",
    "state = allowed_moves['-r0'](state)\n",
    "state = allowed_moves['f7'](state)\n",
    "state = allowed_moves['r0'](state)\n",
    "state = allowed_moves['-r3'](state)\n",
    "state = allowed_moves['f7'](state)\n",
    "state = allowed_moves['r3'](state)\n",
    "state = allowed_moves['f7'](state)\n",
    "print34(state)\n",
    "\n",
    "state = allowed_moves['-r0'](state)\n",
    "state = allowed_moves['f4'](state)\n",
    "state = allowed_moves['r0'](state)\n",
    "state = allowed_moves['-r3'](state)\n",
    "state = allowed_moves['f4'](state)\n",
    "state = allowed_moves['r3'](state)\n",
    "print34(state)\n",
    "\n",
    "# 48\n",
    "\n",
    "state = allowed_moves['f3'](state)\n",
    "state = allowed_moves['-r1'](state)\n",
    "state = allowed_moves['f3'](state)\n",
    "state = allowed_moves['r1'](state)\n",
    "state = allowed_moves['-r2'](state)\n",
    "state = allowed_moves['f3'](state)\n",
    "state = allowed_moves['r2'](state)\n",
    "state = allowed_moves['f3'](state)\n",
    "\n",
    "state = allowed_moves['f5'](state)\n",
    "state = allowed_moves['-r0'](state)\n",
    "state = allowed_moves['-r1'](state)\n",
    "state = allowed_moves['f5'](state)\n",
    "state = allowed_moves['r0'](state)\n",
    "state = allowed_moves['r1'](state)\n",
    "state = allowed_moves['-r2'](state)\n",
    "state = allowed_moves['-r3'](state)\n",
    "state = allowed_moves['f5'](state)\n",
    "state = allowed_moves['r2'](state)\n",
    "state = allowed_moves['r3'](state)\n",
    "state = allowed_moves['f5'](state)\n",
    "\n",
    "state = allowed_moves['f4'](state)\n",
    "state = allowed_moves['-r0'](state)\n",
    "state = allowed_moves['-r1'](state)\n",
    "state = allowed_moves['f4'](state)\n",
    "state = allowed_moves['r0'](state)\n",
    "state = allowed_moves['r1'](state)\n",
    "state = allowed_moves['-r2'](state)\n",
    "state = allowed_moves['-r3'](state)\n",
    "state = allowed_moves['f4'](state)\n",
    "state = allowed_moves['r2'](state)\n",
    "state = allowed_moves['r3'](state)\n",
    "state = allowed_moves['f4'](state)\n",
    "print34(state)\n",
    "\n",
    "state = allowed_moves['f6'](state)\n",
    "state = allowed_moves['-r0'](state)\n",
    "state = allowed_moves['f6'](state)\n",
    "state = allowed_moves['r0'](state)\n",
    "state = allowed_moves['-r3'](state)\n",
    "state = allowed_moves['f6'](state)\n",
    "state = allowed_moves['r3'](state)\n",
    "state = allowed_moves['f6'](state)\n",
    "\n",
    "# 40\n",
    "\n",
    "state = allowed_moves['f5'](state)\n",
    "state = allowed_moves['-r0'](state)\n",
    "state = allowed_moves['f5'](state)\n",
    "state = allowed_moves['r0'](state)\n",
    "state = allowed_moves['-r3'](state)\n",
    "state = allowed_moves['f5'](state)\n",
    "state = allowed_moves['r3'](state)\n",
    "state = allowed_moves['f5'](state)\n",
    "\n",
    "state = allowed_moves['f7'](state)\n",
    "state = allowed_moves['-r0'](state)\n",
    "state = allowed_moves['f7'](state)\n",
    "state = allowed_moves['r0'](state)\n",
    "state = allowed_moves['-r3'](state)\n",
    "state = allowed_moves['f7'](state)\n",
    "state = allowed_moves['r3'](state)\n",
    "state = allowed_moves['f7'](state)\n",
    "\n",
    "state = allowed_moves['f6'](state)\n",
    "state = allowed_moves['-r0'](state)\n",
    "state = allowed_moves['f6'](state)\n",
    "state = allowed_moves['r0'](state)\n",
    "state = allowed_moves['-r3'](state)\n",
    "state = allowed_moves['f6'](state)\n",
    "state = allowed_moves['r3'](state)\n",
    "state = allowed_moves['f6'](state)\n",
    "print34(state)\n",
    "\n",
    "# 24"
   ]
  },
  {
   "cell_type": "code",
   "execution_count": null,
   "id": "7f200a7c-ced5-446a-ac4e-1b0bc43f66e5",
   "metadata": {},
   "outputs": [],
   "source": []
  },
  {
   "cell_type": "code",
   "execution_count": null,
   "id": "d6cd4ca8-f0a6-47c7-a373-249774736096",
   "metadata": {},
   "outputs": [],
   "source": []
  },
  {
   "cell_type": "code",
   "execution_count": null,
   "id": "2d7d0e8c-a7ef-4500-b459-531b4ffe706e",
   "metadata": {},
   "outputs": [],
   "source": []
  },
  {
   "cell_type": "code",
   "execution_count": null,
   "id": "4afd81a4-2e75-4a90-a415-d79bbb74b90d",
   "metadata": {},
   "outputs": [],
   "source": []
  },
  {
   "cell_type": "code",
   "execution_count": null,
   "id": "c3e644f1-88d3-4ff4-b1eb-0cd1a568d90b",
   "metadata": {},
   "outputs": [],
   "source": []
  },
  {
   "cell_type": "code",
   "execution_count": null,
   "id": "58ae452d-94f0-4ac3-858c-0170bcffca96",
   "metadata": {},
   "outputs": [],
   "source": [
    "# 極の左右入れ替え\n",
    "state = allowed_moves['f2'](state)\n",
    "state = allowed_moves['-r0'](state)\n",
    "state = allowed_moves['f2'](state)\n",
    "state = allowed_moves['r0'](state)\n",
    "state = allowed_moves['-r3'](state)\n",
    "state = allowed_moves['f2'](state)\n",
    "state = allowed_moves['r3'](state)\n",
    "state = allowed_moves['f2'](state)"
   ]
  },
  {
   "cell_type": "code",
   "execution_count": null,
   "id": "f3212e38-fd45-4929-a146-fffbf55c7e62",
   "metadata": {},
   "outputs": [],
   "source": [
    "# 中央の左右入れ替え\n",
    "state = allowed_moves['f2'](state)\n",
    "state = allowed_moves['-r1'](state)\n",
    "state = allowed_moves['f2'](state)\n",
    "state = allowed_moves['r1'](state)\n",
    "state = allowed_moves['-r2'](state)\n",
    "state = allowed_moves['f2'](state)\n",
    "state = allowed_moves['r2'](state)\n",
    "state = allowed_moves['f2'](state)"
   ]
  },
  {
   "cell_type": "code",
   "execution_count": null,
   "id": "b5ea1139-4483-40bd-b9cc-ef0ac01db1a6",
   "metadata": {},
   "outputs": [],
   "source": [
    "# 極の対角線の入れ替え\n",
    "state = allowed_moves['-r0'](state)\n",
    "state = allowed_moves['f4'](state)\n",
    "state = allowed_moves['r0'](state)\n",
    "state = allowed_moves['-r3'](state)\n",
    "state = allowed_moves['f4'](state)\n",
    "state = allowed_moves['r3'](state)"
   ]
  },
  {
   "cell_type": "code",
   "execution_count": null,
   "id": "df9d18f5-0f2d-4060-9da6-775b098db361",
   "metadata": {},
   "outputs": [],
   "source": [
    "# 中央対角線の入れ替え\n",
    "state = allowed_moves['-r1'](state)\n",
    "state = allowed_moves['f4'](state)\n",
    "state = allowed_moves['r1'](state)\n",
    "state = allowed_moves['-r2'](state)\n",
    "state = allowed_moves['f4'](state)\n",
    "state = allowed_moves['r2'](state)"
   ]
  },
  {
   "cell_type": "code",
   "execution_count": null,
   "id": "109c8e07-36a6-4c0e-ba7e-7fe6b75ca453",
   "metadata": {},
   "outputs": [],
   "source": []
  }
 ],
 "metadata": {
  "kernelspec": {
   "display_name": "santa2023-py3.11",
   "language": "python",
   "name": "santa2023-py3.11"
  },
  "language_info": {
   "codemirror_mode": {
    "name": "ipython",
    "version": 3
   },
   "file_extension": ".py",
   "mimetype": "text/x-python",
   "name": "python",
   "nbconvert_exporter": "python",
   "pygments_lexer": "ipython3",
   "version": "3.11.1"
  }
 },
 "nbformat": 4,
 "nbformat_minor": 5
}
