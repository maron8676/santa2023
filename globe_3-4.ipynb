{
 "cells": [
  {
   "cell_type": "code",
   "execution_count": 1,
   "id": "7590b9d0",
   "metadata": {},
   "outputs": [],
   "source": [
    "import pickle\n",
    "import time\n",
    "from ast import literal_eval\n",
    "from collections import deque\n",
    "from sys import stdin\n",
    "\n",
    "import pandas as pd\n",
    "import tqdm\n",
    "from sympy.combinatorics import Permutation"
   ]
  },
  {
   "cell_type": "code",
   "execution_count": 2,
   "id": "aa1a3b20-841d-4897-92e7-05f84366321a",
   "metadata": {},
   "outputs": [],
   "source": [
    "with open('globe-3-4-af_rotate.pkl', mode='rb') as f:\n",
    "    solve_dict = pickle.load(f)\n",
    "with open('globe-3-4-af_rotate_rev.pkl', mode='rb') as f:\n",
    "    solve_dict_rev = pickle.load(f)"
   ]
  },
  {
   "cell_type": "code",
   "execution_count": 3,
   "id": "0325c005",
   "metadata": {},
   "outputs": [],
   "source": [
    "puzzle_info = pd.read_csv(\"puzzle_info.csv\", index_col='puzzle_type')\n",
    "puzzles = pd.read_csv(\"puzzles.csv\")\n",
    "sample_submission = pd.read_csv(\"submission_public.csv\", index_col='id')\n",
    "base_moves = [\"r0\", \"-r0\", \"r1\", \"-r1\", \"r2\", \"-r2\", \"r3\", \"-r3\", \"f0\", \"f1\", \"f2\", \"f3\", \"f4\", \"f5\", \"f6\", \"f7\"]"
   ]
  },
  {
   "cell_type": "code",
   "execution_count": 4,
   "id": "7f2dcdde-1ea4-4fe8-b683-d46cd3b34463",
   "metadata": {},
   "outputs": [],
   "source": [
    "globe_3_4type = 'globe_3/4'\n",
    "selected_types = ['globe_3/4']\n",
    "subset = puzzles[puzzles['puzzle_type'].isin(selected_types)]"
   ]
  },
  {
   "cell_type": "code",
   "execution_count": 5,
   "id": "78459453-ce88-4213-b850-08715fe988cf",
   "metadata": {},
   "outputs": [],
   "source": [
    "globe34 = []\n",
    "for index, row in subset.iterrows():\n",
    "    globe34.append(index)"
   ]
  },
  {
   "cell_type": "code",
   "execution_count": 6,
   "id": "0f944aa6-2265-4c8b-a1a0-c8e919dbf623",
   "metadata": {},
   "outputs": [
    {
     "data": {
      "text/plain": [
       "358"
      ]
     },
     "execution_count": 6,
     "metadata": {},
     "output_type": "execute_result"
    }
   ],
   "source": [
    "globe34[0]"
   ]
  },
  {
   "cell_type": "code",
   "execution_count": null,
   "id": "c380660f-64f3-4c20-be3d-3891809c7425",
   "metadata": {},
   "outputs": [],
   "source": []
  },
  {
   "cell_type": "code",
   "execution_count": 451,
   "id": "d9f4e605-3fba-46a8-a033-d517e3a8036a",
   "metadata": {},
   "outputs": [],
   "source": [
    "# globe_3/4の状態数\n",
    "allowed_moves = literal_eval(puzzle_info.loc[globe_3_4type, 'allowed_moves'])\n",
    "allowed_moves = {k: Permutation(v) for k, v in allowed_moves.items()}\n",
    "key_list = list(allowed_moves.keys())\n",
    "for key in key_list:\n",
    "    if key[0] == \"r\":\n",
    "        allowed_moves[\"-\" + key] = allowed_moves[key] ** (-1)"
   ]
  },
  {
   "cell_type": "code",
   "execution_count": null,
   "id": "e3810cc6-38f4-4d11-944a-9ba25fec8a5b",
   "metadata": {},
   "outputs": [],
   "source": []
  },
  {
   "cell_type": "code",
   "execution_count": 226,
   "id": "59a6e16c-ae2a-4b07-8d07-079cfd13003b",
   "metadata": {},
   "outputs": [],
   "source": [
    "moves358 = sample_submission.loc[360]['moves']"
   ]
  },
  {
   "cell_type": "code",
   "execution_count": 227,
   "id": "a64e350c-ab0d-4470-8827-ea4ba32799d9",
   "metadata": {},
   "outputs": [],
   "source": [
    "moves358_nor = moves358.replace('-f', 'f')"
   ]
  },
  {
   "cell_type": "code",
   "execution_count": 228,
   "id": "b5fd08a2-8f90-438e-be57-f7c8b29d1071",
   "metadata": {},
   "outputs": [
    {
     "data": {
      "text/plain": [
       "'r2.r3.f7.f1.-r0.f4.f5.-r1.f3.f4.f1.f2.-r0.f2.f3.-r0.f5.r1.f0.f2.f3.-r3.f7.f2.f3.-r2.f0.f7.f6.-r2.f7.f0.-r3.f7.f4.r0.f1.r3.r1.f5.f4.r0.f1.f7.-r2.-r3.f3.-r3.f3.f4.f2.-r3.f7.f4.-r2.-r3.r0.f4.f2.f4.f3.f6.f0.r1.-r3.f7.r2.-r1.f6.-r3.f7.f5.f3.r1.f7.f1.-r2.-r3.r0.f4.f2.f4.f3.f6.f0.r1.-r3.f1.f7.f1.-r2.r1.f5.f0.-r3.f7.f4.r0.f1.f6.f4.f2.-r0.-r1.f3.f1.-r0.f4.f5.f6.f5.f6.f1.f3.f2.-r3.f7.f4.-r1.f0.f6.f3.f2.-r0.-r1.f3.-r3.f7.f2.f3.f5.-r3.f6.-r0.f7.-r0.f5.f4.f2.-r2.-r3.r0.f6.f7.r2.f1.r0.f1.f0.-r0.f5.f2.f3.r0.f7.r3.f3.f1.-r0.-r3.f7.-r3.f7.f2.f3.r1.-r2.f3.f2.f6.r1.r3.f3.-r0.f1.-r2.f6.r2.f7.r0.f0.-r3.f7.-r1.f3.f1.-r0.f4.f2.-r3.f5.f3.r1.f0.r1.-r3.f4.f5.-r1.f3.f0.-r3.f7.f4.r0.f1.-r0.f2.f3.-r0.f4.f3.-r0.f3.f6.f1.f3.f2.-r3.f7.f4.f5.-r0.f3.f6.r1.f6.f5.f6.f3.f4.f7.f5.f4.f2.f4.f3.f6.f0.r1.f1.f3.r1.f5.f2.-r0.f6.f0.-r3.f7.f4.r0.f1.r3.f3.f5.f4.r0.f1.f3.r0.r1.f7.-r1.f3.f2.f3.-r0.f1.r3.f2.f6.f0.-r3.f7.f4.r0.f1.f0.-r0.f3.f6.r1.f6.-r3.f7.f1.f3.r1.f7.f6.f0.f3.-r0.f1.-r3.f7.f2.f3.-r2.f3.r1.f3.f4.f3.f1.-r3.f0.-r3.f7.f4.r0.f1.f0.-r0.f3.f2.r1.-r2.f6.f5.f4.r0.f7.f2.f4.r3.f1.-r2.f2.f0.r3.f5.r1'"
      ]
     },
     "execution_count": 228,
     "metadata": {},
     "output_type": "execute_result"
    }
   ],
   "source": [
    "moves358_nor"
   ]
  },
  {
   "cell_type": "code",
   "execution_count": null,
   "id": "9927d76c-0867-4bba-a233-68c9b2cca3ce",
   "metadata": {},
   "outputs": [],
   "source": []
  },
  {
   "cell_type": "code",
   "execution_count": 275,
   "id": "aee7a101-27b7-461d-a1ac-7b4d88bdc79f",
   "metadata": {},
   "outputs": [],
   "source": [
    "def print34(state):\n",
    "    for i in range(4):\n",
    "        temp = []\n",
    "        for j in range(i*8,(i+1)*8):\n",
    "            temp.append(f\"{state[j]:3}\")\n",
    "        print(';'.join(temp))\n",
    "    print()"
   ]
  },
  {
   "cell_type": "code",
   "execution_count": 283,
   "id": "85bb263b-57fc-4d81-a8c4-0a639d240b97",
   "metadata": {},
   "outputs": [],
   "source": [
    "def print_globe_3_33(state):\n",
    "    for i in range(4):\n",
    "        temp = []\n",
    "        for j in range(i*66,(i+1)*66):\n",
    "            temp.append(f\"{state[j]:1}\")\n",
    "        print(';'.join(temp))\n",
    "    print()"
   ]
  },
  {
   "cell_type": "code",
   "execution_count": 284,
   "id": "38a24fff-c7e3-4258-82a1-076bdc47dedd",
   "metadata": {},
   "outputs": [
    {
     "name": "stdout",
     "output_type": "stream",
     "text": [
      "A;A;A;A;A;A;C;C;C;C;C;C;E;E;E;E;E;E;G;G;G;G;G;G;I;I;I;I;I;I;K;K;K;K;K;K;M;M;M;M;M;M;O;O;O;O;O;O;Q;Q;Q;Q;Q;Q;S;S;S;S;S;S;U;U;U;U;U;U\n",
      "A;A;A;A;A;A;C;C;C;C;C;C;E;E;E;E;E;E;G;G;G;G;G;G;I;I;I;I;I;I;K;K;K;K;K;K;M;M;M;M;M;M;O;O;O;O;O;O;Q;Q;Q;Q;Q;Q;S;S;S;S;S;S;U;U;U;U;U;U\n",
      "B;B;B;B;B;B;D;D;D;D;D;D;F;F;F;F;F;F;H;H;H;H;H;H;J;J;J;J;J;J;L;L;L;L;L;L;N;N;N;N;N;N;P;P;P;P;P;P;R;R;R;R;R;R;T;T;T;T;T;T;V;V;V;V;V;V\n",
      "B;B;B;B;B;B;D;D;D;D;D;D;F;F;F;F;F;F;H;H;H;H;H;H;J;J;J;J;J;J;L;L;L;L;L;L;N;N;N;N;N;N;P;P;P;P;P;P;R;R;R;R;R;R;T;T;T;T;T;T;V;V;V;V;V;V\n",
      "\n"
     ]
    }
   ],
   "source": [
    "solution_state = puzzles.loc[388].solution_state.split(';')\n",
    "print_globe_3_33(solution_state)"
   ]
  },
  {
   "cell_type": "code",
   "execution_count": 285,
   "id": "2e1d44f6-3bc4-4f65-8ab5-9f3ddccaf673",
   "metadata": {},
   "outputs": [
    {
     "name": "stdout",
     "output_type": "stream",
     "text": [
      "G;Q;G;D;E;T;E;N;U;H;H;U;O;F;T;B;S;M;A;N;D;V;V;E;M;S;D;P;M;D;R;L;U;L;K;F;O;C;A;L;G;A;G;R;A;S;U;O;K;G;Q;V;B;Q;Q;V;T;R;J;J;P;R;E;L;I;U\n",
      "N;R;K;C;V;R;H;D;V;P;G;O;C;S;U;P;I;A;I;A;S;S;D;A;P;H;K;T;M;K;L;M;R;E;M;P;V;I;T;C;N;E;A;K;N;F;S;D;I;B;J;M;Q;C;G;K;U;M;Q;H;B;S;B;P;B;U\n",
      "A;A;F;F;G;D;V;L;O;B;O;G;U;L;G;U;T;J;I;Q;P;Q;H;N;J;C;E;H;N;V;O;B;Q;R;T;G;O;D;I;R;J;O;J;S;N;L;F;M;T;L;C;E;D;V;R;Q;F;T;U;F;E;H;E;K;L;J\n",
      "K;P;O;E;J;F;G;P;C;H;U;J;R;D;H;F;S;C;V;C;V;Q;C;A;T;P;N;P;H;H;S;R;Q;M;K;B;O;A;B;N;K;J;N;J;B;T;L;E;L;I;B;I;I;I;N;K;M;S;O;F;F;D;I;C;T;M\n",
      "\n"
     ]
    }
   ],
   "source": [
    "initial_state = puzzles.loc[388].initial_state.split(';')\n",
    "print_globe_3_33(initial_state)"
   ]
  },
  {
   "cell_type": "code",
   "execution_count": null,
   "id": "c57286e1-14ec-4798-b795-e7dab5599509",
   "metadata": {},
   "outputs": [],
   "source": []
  },
  {
   "cell_type": "code",
   "execution_count": 488,
   "id": "f8d6ee8d-d766-4e1d-b17d-df35c279feac",
   "metadata": {},
   "outputs": [
    {
     "name": "stdout",
     "output_type": "stream",
     "text": [
      "N0 ;N1 ;N2 ;N3 ;N4 ;N5 ;N6 ;N7 \n",
      "N8 ;N9 ;N10;N11;N12;N13;N14;N15\n",
      "N16;N17;N18;N19;N20;N21;N22;N23\n",
      "N24;N25;N26;N27;N28;N29;N30;N31\n",
      "\n",
      "N24;N6 ;N7 ;N2 ;N29;N5 ;N27;N26\n",
      "N18;N22;N23;N10;N21;N15;N17;N13\n",
      "N8 ;N20;N9 ;N16;N14;N11;N19;N12\n",
      "N3 ;N4 ;N31;N25;N28;N30;N0 ;N1 \n",
      "\n"
     ]
    }
   ],
   "source": [
    "solution_state = puzzles.loc[369].solution_state.split(';')\n",
    "print34(solution_state)\n",
    "initial_state = puzzles.loc[369].initial_state.split(';')\n",
    "print34(initial_state)"
   ]
  },
  {
   "cell_type": "code",
   "execution_count": 503,
   "id": "d1badcf5-5922-41c8-a089-35a2c3839a82",
   "metadata": {
    "scrolled": true
   },
   "outputs": [
    {
     "name": "stdout",
     "output_type": "stream",
     "text": [
      "N24;N6 ;N7 ;N2 ;N29;N5 ;N27;N26\n",
      "N18;N22;N23;N10;N21;N15;N17;N13\n",
      "N8 ;N20;N9 ;N16;N14;N11;N19;N12\n",
      "N3 ;N4 ;N31;N25;N28;N30;N0 ;N1 \n",
      "\n",
      "N24;N6 ;N7 ;N2 ;N0 ;N30;N28;N25\n",
      "N18;N22;N23;N10;N12;N19;N11;N14\n",
      "N8 ;N20;N9 ;N16;N13;N17;N15;N21\n",
      "N3 ;N4 ;N31;N26;N27;N5 ;N29;N1 \n",
      "\n",
      "N24;N26;N31;N4 ;N3 ;N30;N28;N25\n",
      "N18;N13;N16;N9 ;N20;N19;N11;N14\n",
      "N8 ;N12;N10;N23;N22;N17;N15;N21\n",
      "N0 ;N2 ;N7 ;N6 ;N27;N5 ;N29;N1 \n",
      "\n",
      "N24;N26;N31;N4 ;N3 ;N28;N30;N25\n",
      "N18;N13;N16;N9 ;N20;N19;N11;N14\n",
      "N8 ;N12;N10;N23;N22;N17;N15;N21\n",
      "N0 ;N2 ;N7 ;N6 ;N27;N29;N5 ;N1 \n",
      "\n",
      "N30;N25;N31;N4 ;N26;N24;N27;N6 \n",
      "N11;N14;N16;N9 ;N17;N13;N18;N22\n",
      "N15;N21;N10;N23;N19;N12;N8 ;N20\n",
      "N5 ;N1 ;N7 ;N28;N2 ;N0 ;N3 ;N29\n",
      "\n",
      "N25;N30;N31;N4 ;N26;N24;N27;N6 \n",
      "N11;N14;N16;N9 ;N17;N13;N18;N22\n",
      "N15;N21;N10;N23;N19;N12;N8 ;N20\n",
      "N1 ;N5 ;N7 ;N28;N2 ;N0 ;N3 ;N29\n",
      "\n",
      "N24;N26;N1 ;N29;N31;N4 ;N27;N6 \n",
      "N21;N13;N17;N15;N16;N9 ;N18;N22\n",
      "N14;N12;N19;N11;N10;N23;N8 ;N20\n",
      "N0 ;N2 ;N25;N5 ;N7 ;N28;N3 ;N30\n",
      "\n",
      "N24;N26;N28;N1 ;N29;N31;N27;N6 \n",
      "N21;N13;N17;N15;N16;N9 ;N18;N22\n",
      "N14;N12;N19;N11;N10;N23;N8 ;N20\n",
      "N30;N0 ;N4 ;N2 ;N25;N5 ;N7 ;N3 \n",
      "\n",
      "N24;N26;N28;N1 ;N31;N27;N6 ;N2 \n",
      "N21;N13;N17;N15;N16;N9 ;N18;N22\n",
      "N14;N12;N19;N11;N10;N23;N8 ;N20\n",
      "N30;N0 ;N4 ;N25;N5 ;N7 ;N3 ;N29\n",
      "\n",
      "N5 ;N26;N28;N1 ;N31;N6 ;N2 ;N24\n",
      "N21;N13;N17;N15;N16;N9 ;N18;N22\n",
      "N14;N12;N19;N11;N10;N23;N8 ;N20\n",
      "N27;N0 ;N4 ;N25;N7 ;N3 ;N29;N30\n",
      "\n",
      "N5 ;N26;N28;N1 ;N31;N6 ;N24;N2 \n",
      "N21;N13;N17;N15;N16;N9 ;N18;N22\n",
      "N14;N12;N19;N11;N10;N23;N8 ;N20\n",
      "N27;N0 ;N4 ;N25;N7 ;N3 ;N30;N29\n",
      "\n",
      "N5 ;N25;N4 ;N0 ;N27;N30;N3 ;N7 \n",
      "N21;N22;N11;N19;N12;N8 ;N23;N10\n",
      "N14;N20;N15;N17;N13;N18;N9 ;N16\n",
      "N29;N1 ;N28;N26;N2 ;N24;N6 ;N31\n",
      "\n",
      "N25;N24;N4 ;N0 ;N27;N30;N7 ;N5 \n",
      "N21;N22;N11;N19;N12;N8 ;N23;N10\n",
      "N14;N20;N15;N17;N13;N18;N9 ;N16\n",
      "N1 ;N3 ;N28;N26;N2 ;N6 ;N31;N29\n",
      "\n",
      "N25;N24;N5 ;N7 ;N28;N3 ;N27;N30\n",
      "N21;N22;N17;N10;N23;N15;N12;N8 \n",
      "N14;N20;N19;N16;N9 ;N11;N13;N18\n",
      "N1 ;N0 ;N29;N31;N4 ;N26;N2 ;N6 \n",
      "\n",
      "N25;N24;N5 ;N7 ;N28;N3 ;N30;N27\n",
      "N21;N22;N17;N10;N23;N15;N12;N8 \n",
      "N14;N20;N19;N16;N9 ;N11;N13;N18\n",
      "N1 ;N0 ;N29;N31;N4 ;N26;N6 ;N2 \n",
      "\n",
      "N6 ;N26;N25;N24;N28;N3 ;N7 ;N5 \n",
      "N17;N13;N21;N22;N23;N15;N18;N10\n",
      "N19;N12;N14;N20;N9 ;N11;N8 ;N16\n",
      "N30;N2 ;N1 ;N0 ;N4 ;N27;N31;N29\n",
      "\n"
     ]
    }
   ],
   "source": [
    "state = initial_state\n",
    "print34(state)\n",
    "\n",
    "state = allowed_moves['-r3'](state)\n",
    "state = allowed_moves['f4'](state)\n",
    "state = allowed_moves['r3'](state)\n",
    "print34(state)\n",
    "\n",
    "state = allowed_moves['-r3'](state)\n",
    "state = allowed_moves['f1'](state)\n",
    "state = allowed_moves['r3'](state)\n",
    "print34(state)\n",
    "\n",
    "state = allowed_moves['f6'](state)\n",
    "state = allowed_moves['-r0'](state)\n",
    "state = allowed_moves['f6'](state)\n",
    "state = allowed_moves['r0'](state)\n",
    "state = allowed_moves['-r3'](state)\n",
    "state = allowed_moves['f6'](state)\n",
    "state = allowed_moves['r3'](state)\n",
    "state = allowed_moves['f6'](state)\n",
    "print34(state)\n",
    "\n",
    "state = allowed_moves['f5'](state)\n",
    "state = allowed_moves['f6'](state)\n",
    "state = allowed_moves['-r3'](state)\n",
    "state = allowed_moves['f4'](state)\n",
    "state = allowed_moves['r3'](state)\n",
    "print34(state)\n",
    "\n",
    "state = allowed_moves['f1'](state)\n",
    "state = allowed_moves['-r0'](state)\n",
    "state = allowed_moves['f1'](state)\n",
    "state = allowed_moves['r0'](state)\n",
    "state = allowed_moves['-r3'](state)\n",
    "state = allowed_moves['f1'](state)\n",
    "state = allowed_moves['r3'](state)\n",
    "state = allowed_moves['f1'](state)\n",
    "print34(state)\n",
    "\n",
    "state = allowed_moves['f1'](state)\n",
    "state = allowed_moves['f2'](state)\n",
    "state = allowed_moves['-r3'](state)\n",
    "state = allowed_moves['f0'](state)\n",
    "state = allowed_moves['r3'](state)\n",
    "print34(state)\n",
    "\n",
    "state = allowed_moves['-r3'](state)\n",
    "state = allowed_moves['f2'](state)\n",
    "state = allowed_moves['r3'](state)\n",
    "state = allowed_moves['f2'](state)\n",
    "state = allowed_moves['-r3'](state)\n",
    "print34(state)\n",
    "\n",
    "state = allowed_moves['f4'](state)\n",
    "state = allowed_moves['-r3'](state)\n",
    "state = allowed_moves['f4'](state)\n",
    "state = allowed_moves['r3'](state)\n",
    "print34(state)\n",
    "\n",
    "state = allowed_moves['f5'](state)\n",
    "state = allowed_moves['-r3'](state)\n",
    "state = allowed_moves['f5'](state)\n",
    "state = allowed_moves['r3'](state)\n",
    "print34(state)\n",
    "\n",
    "state = allowed_moves['f7'](state)\n",
    "state = allowed_moves['-r0'](state)\n",
    "state = allowed_moves['f7'](state)\n",
    "state = allowed_moves['r0'](state)\n",
    "state = allowed_moves['-r3'](state)\n",
    "state = allowed_moves['f7'](state)\n",
    "state = allowed_moves['r3'](state)\n",
    "state = allowed_moves['f7'](state)\n",
    "print34(state)\n",
    "\n",
    "state = allowed_moves['f4'](state)\n",
    "state = allowed_moves['-r3'](state)\n",
    "state = allowed_moves['f1'](state)\n",
    "state = allowed_moves['r3'](state)\n",
    "print34(state)\n",
    "\n",
    "state = allowed_moves['f6'](state)\n",
    "state = allowed_moves['-r3'](state)\n",
    "state = allowed_moves['f6'](state)\n",
    "state = allowed_moves['r3'](state)\n",
    "print34(state)\n",
    "\n",
    "state = allowed_moves['f3'](state)\n",
    "state = allowed_moves['f4'](state)\n",
    "state = allowed_moves['-r3'](state)\n",
    "state = allowed_moves['f2'](state)\n",
    "state = allowed_moves['r3'](state)\n",
    "print34(state)\n",
    "\n",
    "state = allowed_moves['f7'](state)\n",
    "state = allowed_moves['-r0'](state)\n",
    "state = allowed_moves['f7'](state)\n",
    "state = allowed_moves['r0'](state)\n",
    "state = allowed_moves['-r3'](state)\n",
    "state = allowed_moves['f7'](state)\n",
    "state = allowed_moves['r3'](state)\n",
    "state = allowed_moves['f7'](state)\n",
    "print34(state)\n",
    "\n",
    "state = allowed_moves['f7'](state)\n",
    "state = allowed_moves['f0'](state)\n",
    "state = allowed_moves['-r3'](state)\n",
    "state = allowed_moves['f6'](state)\n",
    "state = allowed_moves['r3'](state)\n",
    "print34(state)\n",
    "\n",
    "state2 = state\n",
    "# 24"
   ]
  },
  {
   "cell_type": "code",
   "execution_count": 513,
   "id": "9dc3b683-04e1-45be-ab88-41732c9929ff",
   "metadata": {},
   "outputs": [
    {
     "name": "stdout",
     "output_type": "stream",
     "text": [
      "N6 ;N26;N25;N24;N28;N3 ;N7 ;N5 \n",
      "N17;N13;N21;N22;N23;N15;N18;N10\n",
      "N19;N12;N14;N20;N9 ;N11;N8 ;N16\n",
      "N30;N2 ;N1 ;N0 ;N4 ;N27;N31;N29\n",
      "\n",
      "N2 ;N30;N29;N24;N25;N31;N27;N4 \n",
      "N12;N19;N16;N22;N8 ;N11;N9 ;N20\n",
      "N13;N17;N10;N14;N18;N15;N23;N21\n",
      "N26;N6 ;N5 ;N0 ;N1 ;N7 ;N3 ;N28\n",
      "\n",
      "N2 ;N30;N7 ;N1 ;N0 ;N5 ;N27;N4 \n",
      "N12;N19;N18;N14;N10;N17;N9 ;N20\n",
      "N13;N11;N8 ;N22;N16;N15;N23;N21\n",
      "N26;N6 ;N31;N25;N24;N29;N3 ;N28\n",
      "\n",
      "N27;N30;N7 ;N24;N2 ;N4 ;N25;N5 \n",
      "N9 ;N19;N18;N12;N20;N22;N8 ;N17\n",
      "N23;N11;N10;N13;N21;N14;N16;N15\n",
      "N3 ;N6 ;N31;N0 ;N26;N28;N1 ;N29\n",
      "\n",
      "N27;N30;N7 ;N24;N2 ;N4 ;N25;N5 \n",
      "N19;N9 ;N18;N12;N20;N22;N8 ;N17\n",
      "N11;N23;N10;N13;N21;N14;N16;N15\n",
      "N3 ;N6 ;N31;N0 ;N26;N28;N1 ;N29\n",
      "\n",
      "N6 ;N4 ;N2 ;N3 ;N7 ;N24;N25;N5 \n",
      "N22;N20;N11;N15;N18;N12;N8 ;N17\n",
      "N14;N21;N19;N23;N10;N13;N16;N9 \n",
      "N30;N28;N26;N27;N31;N0 ;N1 ;N29\n",
      "\n",
      "N6 ;N4 ;N0 ;N31;N27;N26;N25;N5 \n",
      "N22;N20;N10;N23;N19;N21;N8 ;N17\n",
      "N14;N12;N18;N15;N11;N13;N16;N9 \n",
      "N30;N28;N24;N7 ;N3 ;N2 ;N1 ;N29\n",
      "\n"
     ]
    }
   ],
   "source": [
    "print34(state2)\n",
    "state = state2\n",
    "\n",
    "state = allowed_moves['f7'](state)\n",
    "state = allowed_moves['-r2'](state)\n",
    "state = allowed_moves['f4'](state)\n",
    "state = allowed_moves['r2'](state)\n",
    "print34(state)\n",
    "\n",
    "state = allowed_moves['-r2'](state)\n",
    "state = allowed_moves['f2'](state)\n",
    "state = allowed_moves['r2'](state)\n",
    "print34(state)\n",
    "\n",
    "state = allowed_moves['f4'](state)\n",
    "state = allowed_moves['f5'](state)\n",
    "state = allowed_moves['-r2'](state)\n",
    "state = allowed_moves['f3'](state)\n",
    "state = allowed_moves['r2'](state)\n",
    "print34(state)\n",
    "\n",
    "state = allowed_moves['f1'](state)\n",
    "state = allowed_moves['-r1'](state)\n",
    "state = allowed_moves['f1'](state)\n",
    "state = allowed_moves['r1'](state)\n",
    "state = allowed_moves['-r2'](state)\n",
    "state = allowed_moves['f1'](state)\n",
    "state = allowed_moves['r2'](state)\n",
    "state = allowed_moves['f1'](state)\n",
    "print34(state)\n",
    "\n",
    "state = allowed_moves['f1'](state)\n",
    "state = allowed_moves['f2'](state)\n",
    "state = allowed_moves['-r2'](state)\n",
    "state = allowed_moves['f0'](state)\n",
    "state = allowed_moves['r2'](state)\n",
    "print34(state)\n",
    "\n",
    "state = allowed_moves['-r2'](state)\n",
    "state = allowed_moves['f2'](state)\n",
    "state = allowed_moves['r2'](state)\n",
    "print34(state)\n",
    "\n",
    "state3 = state\n",
    "# 35"
   ]
  },
  {
   "cell_type": "code",
   "execution_count": 514,
   "id": "92651d42-bdef-4d8d-a9ee-a11b50afc0f6",
   "metadata": {},
   "outputs": [],
   "source": [
    "def count_pair(state, r, f):\n",
    "    count = 0\n",
    "    for i in range(r + 1):\n",
    "        for j in range(f * 2):\n",
    "            if state[i * f * 2 + j] == state[i * f * 2 + (j + 1) % (f * 2)]:\n",
    "                count += 1\n",
    "\n",
    "    return count\n",
    "\n",
    "\n",
    "def count_correct(state, correct):\n",
    "    count = 0\n",
    "    for i in range(8):\n",
    "        # count += state[i] == correct[i] and state[i+24] == correct[i+24]\n",
    "        # count += (state[i] < state[i+24]) * 3\n",
    "        count += (int(state[i][1:]) < int(state[i+24][1:])) * 3\n",
    "        count += abs(int(state[i][1:]) - int(correct[i][1:])) <= 1\n",
    "    for i in range(8, 16):\n",
    "        # count += state[i] == correct[i] and state[i+8] == correct[i+8]\n",
    "        # count += (state[i] < state[i+8]) * 3\n",
    "        count += (int(state[i][1:]) < int(state[i+8][1:])) * 3\n",
    "        count += abs(int(state[i][1:]) - int(correct[i][1:])) <= 1\n",
    "    return count"
   ]
  },
  {
   "cell_type": "code",
   "execution_count": 515,
   "id": "a8534e61-a99f-47b5-8db4-0ebb87939356",
   "metadata": {},
   "outputs": [
    {
     "name": "stderr",
     "output_type": "stream",
     "text": [
      "  0%|                                                                                 | 8137/16429825 [00:00<06:41, 40850.83it/s]"
     ]
    },
    {
     "name": "stdout",
     "output_type": "stream",
     "text": [
      "20 ['N5', 'N4', 'N0', 'N31', 'N27', 'N26', 'N25', 'N6', 'N17', 'N20', 'N10', 'N23', 'N19', 'N21', 'N8', 'N22', 'N9', 'N12', 'N18', 'N15', 'N11', 'N13', 'N16', 'N14', 'N29', 'N28', 'N24', 'N7', 'N3', 'N2', 'N1', 'N30'] f0.-r0.-r1.f0.r0.r1.-r2.-r3.f0.r2.r3.f0\n",
      "27 ['N6', 'N4', 'N0', 'N29', 'N27', 'N26', 'N25', 'N7', 'N22', 'N20', 'N10', 'N9', 'N19', 'N21', 'N8', 'N15', 'N14', 'N12', 'N18', 'N17', 'N11', 'N13', 'N16', 'N23', 'N30', 'N28', 'N24', 'N5', 'N3', 'N2', 'N1', 'N31'] -r0.-r1.f0.r0.r1.-r2.-r3.f0.r2.r3\n",
      "28 ['N5', 'N2', 'N0', 'N31', 'N27', 'N28', 'N25', 'N6', 'N17', 'N13', 'N10', 'N23', 'N19', 'N12', 'N8', 'N22', 'N9', 'N21', 'N18', 'N15', 'N11', 'N20', 'N16', 'N14', 'N29', 'N26', 'N24', 'N7', 'N3', 'N4', 'N1', 'N30'] f0.-r0.-r1.f0.r0.r1.-r2.-r3.f0.r2.r3.f0.-r0.-r1.f2.r0.r1.-r2.-r3.f2.r2.r3\n",
      "33 ['N3', 'N4', 'N0', 'N29', 'N30', 'N26', 'N25', 'N7', 'N11', 'N20', 'N10', 'N9', 'N14', 'N21', 'N8', 'N15', 'N19', 'N12', 'N18', 'N17', 'N22', 'N13', 'N16', 'N23', 'N27', 'N28', 'N24', 'N5', 'N6', 'N2', 'N1', 'N31'] -r0.-r1.f0.r0.r1.-r2.-r3.f0.r2.r3.-r0.-r1.f1.r0.r1.-r2.-r3.f1.r2.r3\n",
      "35 ['N6', 'N2', 'N0', 'N29', 'N27', 'N28', 'N25', 'N7', 'N22', 'N13', 'N10', 'N9', 'N19', 'N12', 'N8', 'N15', 'N14', 'N21', 'N18', 'N17', 'N11', 'N20', 'N16', 'N23', 'N30', 'N26', 'N24', 'N5', 'N3', 'N4', 'N1', 'N31'] -r0.-r1.f0.r0.r1.-r2.-r3.f0.r2.r3.-r0.-r1.f2.r0.r1.-r2.-r3.f2.r2.r3\n",
      "41 ['N3', 'N2', 'N0', 'N29', 'N30', 'N28', 'N25', 'N7', 'N11', 'N13', 'N10', 'N9', 'N14', 'N12', 'N8', 'N15', 'N19', 'N21', 'N18', 'N17', 'N22', 'N20', 'N16', 'N23', 'N27', 'N26', 'N24', 'N5', 'N6', 'N4', 'N1', 'N31'] -r0.-r1.f0.r0.r1.-r2.-r3.f0.r2.r3.-r0.-r1.f1.r0.r1.-r2.-r3.f1.r2.r3.-r0.-r1.f2.r0.r1.-r2.-r3.f2.r2.r3\n"
     ]
    },
    {
     "name": "stderr",
     "output_type": "stream",
     "text": [
      "  0%|                                                                                | 16956/16429825 [00:00<06:22, 42880.45it/s]"
     ]
    },
    {
     "name": "stdout",
     "output_type": "stream",
     "text": [
      "42 ['N6', 'N2', 'N0', 'N1', 'N27', 'N28', 'N5', 'N7', 'N22', 'N13', 'N10', 'N9', 'N19', 'N12', 'N8', 'N15', 'N14', 'N21', 'N18', 'N17', 'N11', 'N20', 'N16', 'N23', 'N30', 'N26', 'N24', 'N25', 'N3', 'N4', 'N29', 'N31'] -r0.-r1.f2.r0.r1.-r2.-r3.f2.r2.r3.f7.-r0.f7.r0.-r3.f7.r3.f7.-r0.-r1.f0.r0.r1.-r2.-r3.f0.r2.r3\n"
     ]
    },
    {
     "name": "stderr",
     "output_type": "stream",
     "text": [
      "  0%|▎                                                                               | 52412/16429825 [00:01<06:13, 43832.56it/s]"
     ]
    },
    {
     "name": "stdout",
     "output_type": "stream",
     "text": [
      "44 ['N6', 'N2', 'N1', 'N0', 'N27', 'N28', 'N5', 'N7', 'N22', 'N13', 'N9', 'N10', 'N19', 'N12', 'N8', 'N15', 'N14', 'N21', 'N17', 'N18', 'N11', 'N20', 'N16', 'N23', 'N30', 'N26', 'N25', 'N24', 'N3', 'N4', 'N29', 'N31'] -r0.-r1.f0.r0.r1.-r2.-r3.f0.r2.r3.-r0.-r1.f2.r0.r1.-r2.-r3.f2.r2.r3.f3.-r0.-r1.f3.r0.r1.-r2.-r3.f3.r2.r3.f3.-r0.f3.r0.-r3.f3.r3\n"
     ]
    },
    {
     "name": "stderr",
     "output_type": "stream",
     "text": [
      "  1%|▍                                                                              | 100693/16429825 [00:02<06:13, 43717.75it/s]"
     ]
    },
    {
     "name": "stdout",
     "output_type": "stream",
     "text": [
      "48 ['N3', 'N2', 'N0', 'N1', 'N30', 'N28', 'N5', 'N7', 'N11', 'N13', 'N10', 'N9', 'N14', 'N12', 'N8', 'N15', 'N19', 'N21', 'N18', 'N17', 'N22', 'N20', 'N16', 'N23', 'N27', 'N26', 'N24', 'N25', 'N6', 'N4', 'N29', 'N31'] -r0.-r1.f1.r0.r1.-r2.-r3.f1.r2.r3.-r0.-r1.f2.r0.r1.-r2.-r3.f2.r2.r3.f7.-r0.f7.r0.-r3.f7.r3.f7.-r0.-r1.f0.r0.r1.-r2.-r3.f0.r2.r3\n"
     ]
    },
    {
     "name": "stderr",
     "output_type": "stream",
     "text": [
      "  3%|██▋                                                                            | 556166/16429825 [00:12<06:05, 43450.52it/s]"
     ]
    },
    {
     "name": "stdout",
     "output_type": "stream",
     "text": [
      "50 ['N3', 'N2', 'N1', 'N0', 'N30', 'N28', 'N5', 'N7', 'N11', 'N13', 'N9', 'N10', 'N14', 'N12', 'N8', 'N15', 'N19', 'N21', 'N17', 'N18', 'N22', 'N20', 'N16', 'N23', 'N27', 'N26', 'N25', 'N24', 'N6', 'N4', 'N29', 'N31'] -r0.-r1.f0.r0.r1.-r2.-r3.f0.r2.r3.-r0.-r1.f1.r0.r1.-r2.-r3.f1.r2.r3.-r0.-r1.f2.r0.r1.-r2.-r3.f2.r2.r3.f3.-r0.-r1.f3.r0.r1.-r2.-r3.f3.r2.r3.f3.-r0.f3.r0.-r3.f3.r3\n"
     ]
    },
    {
     "name": "stderr",
     "output_type": "stream",
     "text": [
      " 33%|█████████████████████████▌                                                    | 5389341/16429825 [02:03<04:19, 42625.93it/s]"
     ]
    },
    {
     "name": "stdout",
     "output_type": "stream",
     "text": [
      "51 ['N3', 'N2', 'N1', 'N0', 'N28', 'N30', 'N5', 'N7', 'N11', 'N13', 'N9', 'N10', 'N12', 'N14', 'N8', 'N15', 'N19', 'N21', 'N17', 'N18', 'N20', 'N22', 'N16', 'N23', 'N27', 'N26', 'N25', 'N24', 'N4', 'N6', 'N29', 'N31'] -r0.-r1.f0.r0.r1.-r2.-r3.f0.r2.r3.f1.-r0.-r1.f1.r0.r1.-r2.-r3.f1.r2.r3.f1.-r0.-r1.f1.r0.r1.-r2.-r3.f1.r2.r3.-r0.-r1.f2.r0.r1.-r2.-r3.f2.r2.r3.f3.-r0.-r1.f3.r0.r1.-r2.-r3.f3.r2.r3.f3.-r0.f3.r0.-r3.f3.r3\n"
     ]
    },
    {
     "name": "stderr",
     "output_type": "stream",
     "text": [
      "100%|█████████████████████████████████████████████████████████████████████████████| 16429825/16429825 [06:19<00:00, 43274.84it/s]"
     ]
    },
    {
     "name": "stdout",
     "output_type": "stream",
     "text": [
      "51 ['N3', 'N2', 'N1', 'N0', 'N28', 'N30', 'N5', 'N7', 'N11', 'N13', 'N9', 'N10', 'N12', 'N14', 'N8', 'N15', 'N19', 'N21', 'N17', 'N18', 'N20', 'N22', 'N16', 'N23', 'N27', 'N26', 'N25', 'N24', 'N4', 'N6', 'N29', 'N31'] -r0.-r1.f0.r0.r1.-r2.-r3.f0.r2.r3.f1.-r0.-r1.f1.r0.r1.-r2.-r3.f1.r2.r3.f1.-r0.-r1.f1.r0.r1.-r2.-r3.f1.r2.r3.-r0.-r1.f2.r0.r1.-r2.-r3.f2.r2.r3.f3.-r0.-r1.f3.r0.r1.-r2.-r3.f3.r2.r3.f3.-r0.f3.r0.-r3.f3.r3\n"
     ]
    },
    {
     "name": "stderr",
     "output_type": "stream",
     "text": [
      "\n"
     ]
    }
   ],
   "source": [
    "state = state3\n",
    "moves_list = []\n",
    "correct_num = count_correct(state, solution_state)\n",
    "max_correct_num = correct_num\n",
    "max_correct_state = []\n",
    "max_correct_moves = ''\n",
    "\n",
    "for key in tqdm.tqdm(solve_dict_rev, total=len(solve_dict_rev)):\n",
    "    state = state3\n",
    "    new_state = Permutation(solve_dict_rev[key])(state)\n",
    "    correct_num = count_correct(new_state, solution_state)\n",
    "    if max_correct_num < correct_num:\n",
    "        max_correct_num = correct_num\n",
    "        max_correct_state = new_state\n",
    "        max_correct_moves = key\n",
    "        print(max_correct_num, max_correct_state, max_correct_moves)\n",
    "print(max_correct_num, max_correct_state, max_correct_moves)"
   ]
  },
  {
   "cell_type": "code",
   "execution_count": 516,
   "id": "b5f4d646-b8b2-4d09-b92e-fe660b648efe",
   "metadata": {},
   "outputs": [
    {
     "name": "stdout",
     "output_type": "stream",
     "text": [
      "N3 ;N2 ;N1 ;N0 ;N28;N30;N5 ;N7 \n",
      "N11;N13;N9 ;N10;N12;N14;N8 ;N15\n",
      "N19;N21;N17;N18;N20;N22;N16;N23\n",
      "N27;N26;N25;N24;N4 ;N6 ;N29;N31\n",
      "\n"
     ]
    }
   ],
   "source": [
    "print34(max_correct_state)"
   ]
  },
  {
   "cell_type": "code",
   "execution_count": 517,
   "id": "71f67019-515a-412f-9b14-f544f9fc614a",
   "metadata": {},
   "outputs": [
    {
     "name": "stderr",
     "output_type": "stream",
     "text": [
      "  0%|                                                                                 | 4308/16429825 [00:00<06:23, 42841.54it/s]"
     ]
    },
    {
     "name": "stdout",
     "output_type": "stream",
     "text": [
      "52 ['N2', 'N1', 'N3', 'N0', 'N28', 'N30', 'N5', 'N7', 'N13', 'N9', 'N11', 'N10', 'N12', 'N14', 'N8', 'N15', 'N21', 'N17', 'N19', 'N18', 'N20', 'N22', 'N16', 'N23', 'N26', 'N25', 'N27', 'N24', 'N4', 'N6', 'N29', 'N31'] f1.-r0.-r1.f1.r0.r1.-r2.-r3.f1.r2.r3.f1.f2.-r0.-r1.f2.r0.r1.-r2.-r3.f2.r2.r3.f2\n",
      "53 ['N1', 'N2', 'N3', 'N0', 'N28', 'N30', 'N5', 'N7', 'N9', 'N13', 'N11', 'N10', 'N12', 'N14', 'N8', 'N15', 'N17', 'N21', 'N19', 'N18', 'N20', 'N22', 'N16', 'N23', 'N25', 'N26', 'N27', 'N24', 'N4', 'N6', 'N29', 'N31'] f1.-r0.-r1.f1.r0.r1.-r2.-r3.f1.r2.r3.f1.f2.-r0.-r1.f2.r0.r1.-r2.-r3.f2.r2.r3.f2.f1.-r0.-r1.f1.r0.r1.-r2.-r3.f1.r2.r3.f1\n"
     ]
    },
    {
     "name": "stderr",
     "output_type": "stream",
     "text": [
      "  1%|▌                                                                              | 115692/16429825 [00:02<06:07, 44356.99it/s]"
     ]
    },
    {
     "name": "stdout",
     "output_type": "stream",
     "text": [
      "54 ['N1', 'N0', 'N3', 'N2', 'N28', 'N30', 'N5', 'N7', 'N9', 'N10', 'N11', 'N13', 'N12', 'N14', 'N8', 'N15', 'N17', 'N18', 'N19', 'N21', 'N20', 'N22', 'N16', 'N23', 'N25', 'N24', 'N27', 'N26', 'N4', 'N6', 'N29', 'N31'] f2.-r0.-r1.f2.r0.r1.-r2.-r3.f2.r2.r3.f2.f1.-r0.-r1.f1.r0.r1.-r2.-r3.f1.r2.r3.f1.f3.-r0.-r1.f3.r0.r1.-r2.-r3.f3.r2.r3.f3.f2.-r0.-r1.f2.r0.r1.-r2.-r3.f2.r2.r3.f2\n"
     ]
    },
    {
     "name": "stderr",
     "output_type": "stream",
     "text": [
      "  1%|▋                                                                              | 155416/16429825 [00:03<06:12, 43640.35it/s]"
     ]
    },
    {
     "name": "stdout",
     "output_type": "stream",
     "text": [
      "56 ['N3', 'N6', 'N2', 'N1', 'N0', 'N4', 'N5', 'N7', 'N11', 'N9', 'N13', 'N12', 'N10', 'N14', 'N8', 'N15', 'N19', 'N17', 'N21', 'N20', 'N18', 'N22', 'N16', 'N23', 'N27', 'N30', 'N26', 'N25', 'N24', 'N28', 'N29', 'N31'] f4.-r0.-r1.f4.r0.r1.-r2.-r3.f4.r2.r3.f4.f3.-r0.f3.r0.-r3.f3.r3.f3.f2.-r0.-r1.f2.r0.r1.-r2.-r3.f2.r2.r3.f2.-r0.f2.r0.-r3.f2.r3\n",
      "57 ['N3', 'N6', 'N2', 'N1', 'N0', 'N4', 'N5', 'N7', 'N11', 'N9', 'N13', 'N10', 'N12', 'N14', 'N8', 'N15', 'N19', 'N17', 'N21', 'N18', 'N20', 'N22', 'N16', 'N23', 'N27', 'N30', 'N26', 'N25', 'N24', 'N28', 'N29', 'N31'] f4.-r0.f4.r0.-r3.f4.r3.f4.f3.-r0.f3.r0.-r3.f3.r3.f3.f2.-r0.-r1.f2.r0.r1.-r2.-r3.f2.r2.r3.f2.-r0.f2.r0.-r3.f2.r3\n"
     ]
    },
    {
     "name": "stderr",
     "output_type": "stream",
     "text": [
      "  1%|▊                                                                              | 168525/16429825 [00:03<06:15, 43282.29it/s]"
     ]
    },
    {
     "name": "stdout",
     "output_type": "stream",
     "text": [
      "58 ['N4', 'N2', 'N1', 'N0', 'N6', 'N5', 'N7', 'N3', 'N8', 'N13', 'N9', 'N10', 'N12', 'N14', 'N15', 'N11', 'N16', 'N21', 'N17', 'N18', 'N20', 'N22', 'N23', 'N19', 'N28', 'N26', 'N25', 'N24', 'N30', 'N29', 'N31', 'N27'] f6.-r0.f6.r0.-r3.f6.r3.f6.f7.-r0.-r1.f7.r0.r1.-r2.-r3.f7.r2.r3.f7.f0.-r0.-r1.f0.r0.r1.-r2.-r3.f0.r2.r3.f0.-r0.f1.r0.-r3.f1.r3\n"
     ]
    },
    {
     "name": "stderr",
     "output_type": "stream",
     "text": [
      " 10%|████████▏                                                                     | 1723648/16429825 [00:39<05:34, 43979.88it/s]"
     ]
    },
    {
     "name": "stdout",
     "output_type": "stream",
     "text": [
      "59 ['N3', 'N2', 'N1', 'N4', 'N0', 'N5', 'N7', 'N6', 'N11', 'N13', 'N9', 'N10', 'N12', 'N8', 'N15', 'N14', 'N19', 'N21', 'N17', 'N18', 'N20', 'N16', 'N23', 'N22', 'N27', 'N26', 'N25', 'N28', 'N24', 'N29', 'N31', 'N30'] f5.-r0.f5.r0.-r3.f5.r3.f5.f4.-r0.f4.r0.-r3.f4.r3.f4.f6.-r0.-r1.f6.r0.r1.-r2.-r3.f6.r2.r3.f6.f7.-r0.-r1.f7.r0.r1.-r2.-r3.f7.r2.r3.f7.-r0.f0.r0.-r3.f0.r3\n"
     ]
    },
    {
     "name": "stderr",
     "output_type": "stream",
     "text": [
      " 74%|█████████████████████████████████████████████████████████                    | 12165563/16429825 [04:36<01:39, 43065.36it/s]"
     ]
    },
    {
     "name": "stdout",
     "output_type": "stream",
     "text": [
      "60 ['N1', 'N6', 'N3', 'N2', 'N0', 'N4', 'N5', 'N7', 'N9', 'N10', 'N11', 'N13', 'N12', 'N14', 'N8', 'N15', 'N17', 'N18', 'N19', 'N21', 'N20', 'N22', 'N16', 'N23', 'N25', 'N30', 'N27', 'N26', 'N24', 'N28', 'N29', 'N31'] f2.-r0.-r1.f2.r0.r1.-r2.-r3.f2.r2.r3.f2.f1.-r0.-r1.f1.r0.r1.-r2.-r3.f1.r2.r3.f1.f4.-r0.f4.r0.-r3.f4.r3.f4.f3.-r0.-r1.f3.r0.r1.-r2.-r3.f3.r2.r3.f3.f2.-r0.-r1.f2.r0.r1.-r2.-r3.f2.r2.r3.f2.-r0.f2.r0.-r3.f2.r3\n"
     ]
    },
    {
     "name": "stderr",
     "output_type": "stream",
     "text": [
      "100%|█████████████████████████████████████████████████████████████████████████████| 16429825/16429825 [06:14<00:00, 43820.67it/s]"
     ]
    },
    {
     "name": "stdout",
     "output_type": "stream",
     "text": [
      "60 ['N1', 'N6', 'N3', 'N2', 'N0', 'N4', 'N5', 'N7', 'N9', 'N10', 'N11', 'N13', 'N12', 'N14', 'N8', 'N15', 'N17', 'N18', 'N19', 'N21', 'N20', 'N22', 'N16', 'N23', 'N25', 'N30', 'N27', 'N26', 'N24', 'N28', 'N29', 'N31'] f2.-r0.-r1.f2.r0.r1.-r2.-r3.f2.r2.r3.f2.f1.-r0.-r1.f1.r0.r1.-r2.-r3.f1.r2.r3.f1.f4.-r0.f4.r0.-r3.f4.r3.f4.f3.-r0.-r1.f3.r0.r1.-r2.-r3.f3.r2.r3.f3.f2.-r0.-r1.f2.r0.r1.-r2.-r3.f2.r2.r3.f2.-r0.f2.r0.-r3.f2.r3\n"
     ]
    },
    {
     "name": "stderr",
     "output_type": "stream",
     "text": [
      "\n"
     ]
    }
   ],
   "source": [
    "tuning2 = max_correct_state\n",
    "state = tuning2\n",
    "correct_num = count_correct(state, solution_state)\n",
    "max_correct_num = correct_num\n",
    "max_correct_state = []\n",
    "max_correct_moves = ''\n",
    "\n",
    "for key in tqdm.tqdm(solve_dict_rev, total=len(solve_dict_rev)):\n",
    "    state = tuning2\n",
    "    new_state = Permutation(solve_dict_rev[key])(state)\n",
    "    correct_num = count_correct(new_state, solution_state)\n",
    "    if max_correct_num < correct_num:\n",
    "        max_correct_num = correct_num\n",
    "        max_correct_state = new_state\n",
    "        max_correct_moves = key\n",
    "        print(max_correct_num, max_correct_state, max_correct_moves)\n",
    "print(max_correct_num, max_correct_state, max_correct_moves)"
   ]
  },
  {
   "cell_type": "code",
   "execution_count": 518,
   "id": "a12d3ca1-2a29-41a1-8d49-304f5dfafb21",
   "metadata": {
    "scrolled": true
   },
   "outputs": [
    {
     "name": "stdout",
     "output_type": "stream",
     "text": [
      "N1 ;N6 ;N3 ;N2 ;N0 ;N4 ;N5 ;N7 \n",
      "N9 ;N10;N11;N13;N12;N14;N8 ;N15\n",
      "N17;N18;N19;N21;N20;N22;N16;N23\n",
      "N25;N30;N27;N26;N24;N28;N29;N31\n",
      "\n"
     ]
    }
   ],
   "source": [
    "print34(max_correct_state)"
   ]
  },
  {
   "cell_type": "code",
   "execution_count": 519,
   "id": "0b5aba88-662b-4772-ba9b-88279c2471b3",
   "metadata": {},
   "outputs": [
    {
     "name": "stderr",
     "output_type": "stream",
     "text": [
      "  0%|                                                                                 | 4289/16429825 [00:00<06:24, 42707.27it/s]"
     ]
    },
    {
     "name": "stdout",
     "output_type": "stream",
     "text": [
      "61 ['N1', 'N6', 'N3', 'N2', 'N0', 'N4', 'N5', 'N7', 'N9', 'N10', 'N11', 'N12', 'N13', 'N14', 'N8', 'N15', 'N17', 'N18', 'N19', 'N20', 'N21', 'N22', 'N16', 'N23', 'N25', 'N30', 'N27', 'N26', 'N24', 'N28', 'N29', 'N31'] f4.-r1.f4.r1.-r2.f4.r2.f4\n"
     ]
    },
    {
     "name": "stderr",
     "output_type": "stream",
     "text": [
      "  1%|▋                                                                              | 146835/16429825 [00:03<06:15, 43346.81it/s]"
     ]
    },
    {
     "name": "stdout",
     "output_type": "stream",
     "text": [
      "62 ['N1', 'N0', 'N6', 'N2', 'N3', 'N4', 'N5', 'N7', 'N9', 'N10', 'N11', 'N12', 'N13', 'N14', 'N8', 'N15', 'N17', 'N18', 'N19', 'N20', 'N21', 'N22', 'N16', 'N23', 'N25', 'N24', 'N30', 'N26', 'N27', 'N28', 'N29', 'N31'] f3.-r0.f3.r0.-r3.f3.r3.f3.f4.-r0.-r1.f4.r0.r1.-r2.-r3.f4.r2.r3.f4.f3.-r0.f3.r0.-r3.f3.r3.f3.f2.-r0.f2.r0.-r3.f2.r3.f2\n"
     ]
    },
    {
     "name": "stderr",
     "output_type": "stream",
     "text": [
      " 53%|█████████████████████████████████████████▋                                    | 8789509/16429825 [03:22<02:56, 43340.78it/s]"
     ]
    },
    {
     "name": "stdout",
     "output_type": "stream",
     "text": [
      "63 ['N0', 'N1', 'N3', 'N2', 'N4', 'N5', 'N7', 'N6', 'N8', 'N9', 'N11', 'N12', 'N13', 'N14', 'N15', 'N10', 'N16', 'N17', 'N19', 'N20', 'N21', 'N22', 'N23', 'N18', 'N24', 'N25', 'N27', 'N26', 'N28', 'N29', 'N31', 'N30'] f1.-r0.-r1.f1.r0.r1.-r2.-r3.f1.r2.r3.f1.f4.-r1.f4.r1.-r2.f4.r2.f4.f5.-r0.f5.r0.-r3.f5.r3.f5.f6.-r0.f6.r0.-r3.f6.r3.f6.f7.-r0.-r1.f7.r0.r1.-r2.-r3.f7.r2.r3.f7.f0.-r0.-r1.f0.r0.r1.-r2.-r3.f0.r2.r3.f0\n"
     ]
    },
    {
     "name": "stderr",
     "output_type": "stream",
     "text": [
      "100%|█████████████████████████████████████████████████████████████████████████████| 16429825/16429825 [06:19<00:00, 43274.01it/s]"
     ]
    },
    {
     "name": "stdout",
     "output_type": "stream",
     "text": [
      "63 ['N0', 'N1', 'N3', 'N2', 'N4', 'N5', 'N7', 'N6', 'N8', 'N9', 'N11', 'N12', 'N13', 'N14', 'N15', 'N10', 'N16', 'N17', 'N19', 'N20', 'N21', 'N22', 'N23', 'N18', 'N24', 'N25', 'N27', 'N26', 'N28', 'N29', 'N31', 'N30'] f1.-r0.-r1.f1.r0.r1.-r2.-r3.f1.r2.r3.f1.f4.-r1.f4.r1.-r2.f4.r2.f4.f5.-r0.f5.r0.-r3.f5.r3.f5.f6.-r0.f6.r0.-r3.f6.r3.f6.f7.-r0.-r1.f7.r0.r1.-r2.-r3.f7.r2.r3.f7.f0.-r0.-r1.f0.r0.r1.-r2.-r3.f0.r2.r3.f0\n"
     ]
    },
    {
     "name": "stderr",
     "output_type": "stream",
     "text": [
      "\n"
     ]
    }
   ],
   "source": [
    "tuning3 = max_correct_state\n",
    "state = tuning3\n",
    "correct_num = count_correct(state, solution_state)\n",
    "max_correct_num = correct_num\n",
    "max_correct_state = []\n",
    "max_correct_moves = ''\n",
    "\n",
    "for key in tqdm.tqdm(solve_dict_rev, total=len(solve_dict_rev)):\n",
    "    state = tuning3\n",
    "    new_state = Permutation(solve_dict_rev[key])(state)\n",
    "    correct_num = count_correct(new_state, solution_state)\n",
    "    if max_correct_num < correct_num:\n",
    "        max_correct_num = correct_num\n",
    "        max_correct_state = new_state\n",
    "        max_correct_moves = key\n",
    "        print(max_correct_num, max_correct_state, max_correct_moves)\n",
    "print(max_correct_num, max_correct_state, max_correct_moves)"
   ]
  },
  {
   "cell_type": "code",
   "execution_count": 520,
   "id": "522e8b35-db54-4c0d-bca1-48f870a65077",
   "metadata": {
    "scrolled": true
   },
   "outputs": [
    {
     "name": "stdout",
     "output_type": "stream",
     "text": [
      "N0 ;N1 ;N3 ;N2 ;N4 ;N5 ;N7 ;N6 \n",
      "N8 ;N9 ;N11;N12;N13;N14;N15;N10\n",
      "N16;N17;N19;N20;N21;N22;N23;N18\n",
      "N24;N25;N27;N26;N28;N29;N31;N30\n",
      "\n"
     ]
    }
   ],
   "source": [
    "print34(max_correct_state)"
   ]
  },
  {
   "cell_type": "code",
   "execution_count": 521,
   "id": "332bcc9e-a5ac-4885-86ab-bca599ef9ad5",
   "metadata": {},
   "outputs": [
    {
     "name": "stderr",
     "output_type": "stream",
     "text": [
      "  1%|▊                                                                              | 171615/16429825 [00:03<06:12, 43605.23it/s]"
     ]
    },
    {
     "name": "stdout",
     "output_type": "stream",
     "text": [
      "64 ['N0', 'N1', 'N3', 'N2', 'N4', 'N6', 'N5', 'N7', 'N8', 'N9', 'N11', 'N10', 'N12', 'N13', 'N14', 'N15', 'N16', 'N17', 'N19', 'N18', 'N20', 'N21', 'N22', 'N23', 'N24', 'N25', 'N27', 'N26', 'N28', 'N30', 'N29', 'N31'] f7.-r0.-r1.f7.r0.r1.-r2.-r3.f7.r2.r3.f7.f6.-r0.-r1.f6.r0.r1.-r2.-r3.f6.r2.r3.f6.f5.-r1.f5.r1.-r2.f5.r2.f5.f4.-r1.f4.r1.-r2.f4.r2.f4\n"
     ]
    },
    {
     "name": "stderr",
     "output_type": "stream",
     "text": [
      "100%|█████████████████████████████████████████████████████████████████████████████| 16429825/16429825 [06:20<00:00, 43161.27it/s]"
     ]
    },
    {
     "name": "stdout",
     "output_type": "stream",
     "text": [
      "64 ['N0', 'N1', 'N3', 'N2', 'N4', 'N6', 'N5', 'N7', 'N8', 'N9', 'N11', 'N10', 'N12', 'N13', 'N14', 'N15', 'N16', 'N17', 'N19', 'N18', 'N20', 'N21', 'N22', 'N23', 'N24', 'N25', 'N27', 'N26', 'N28', 'N30', 'N29', 'N31'] f7.-r0.-r1.f7.r0.r1.-r2.-r3.f7.r2.r3.f7.f6.-r0.-r1.f6.r0.r1.-r2.-r3.f6.r2.r3.f6.f5.-r1.f5.r1.-r2.f5.r2.f5.f4.-r1.f4.r1.-r2.f4.r2.f4\n"
     ]
    },
    {
     "name": "stderr",
     "output_type": "stream",
     "text": [
      "\n"
     ]
    }
   ],
   "source": [
    "tuning4 = max_correct_state\n",
    "state = tuning4\n",
    "correct_num = count_correct(tuning4, solution_state)\n",
    "max_correct_num = correct_num\n",
    "max_correct_state = []\n",
    "max_correct_moves = ''\n",
    "\n",
    "for key in tqdm.tqdm(solve_dict_rev, total=len(solve_dict_rev)):\n",
    "    state = tuning4\n",
    "    new_state = Permutation(solve_dict_rev[key])(state)\n",
    "    correct_num = count_correct(new_state, solution_state)\n",
    "    if max_correct_num < correct_num:\n",
    "        max_correct_num = correct_num\n",
    "        max_correct_state = new_state\n",
    "        max_correct_moves = key\n",
    "        print(max_correct_num, max_correct_state, max_correct_moves)\n",
    "print(max_correct_num, max_correct_state, max_correct_moves)"
   ]
  },
  {
   "cell_type": "code",
   "execution_count": 522,
   "id": "92020947-d748-4cd1-905f-baee75359a00",
   "metadata": {},
   "outputs": [
    {
     "name": "stdout",
     "output_type": "stream",
     "text": [
      "N0 ;N1 ;N3 ;N2 ;N4 ;N6 ;N5 ;N7 \n",
      "N8 ;N9 ;N11;N10;N12;N13;N14;N15\n",
      "N16;N17;N19;N18;N20;N21;N22;N23\n",
      "N24;N25;N27;N26;N28;N30;N29;N31\n",
      "\n",
      "N0 ;N1 ;N2 ;N3 ;N4 ;N5 ;N6 ;N7 \n",
      "N8 ;N9 ;N10;N11;N12;N13;N14;N15\n",
      "N16;N17;N18;N19;N20;N21;N22;N23\n",
      "N24;N25;N26;N27;N28;N29;N30;N31\n",
      "\n"
     ]
    }
   ],
   "source": [
    "tuning5 = max_correct_state\n",
    "state = tuning5\n",
    "print34(state)\n",
    "\n",
    "state = allowed_moves['f3'](state)\n",
    "state = allowed_moves['-r0'](state)\n",
    "state = allowed_moves['-r1'](state)\n",
    "state = allowed_moves['f3'](state)\n",
    "state = allowed_moves['r0'](state)\n",
    "state = allowed_moves['r1'](state)\n",
    "state = allowed_moves['-r2'](state)\n",
    "state = allowed_moves['-r3'](state)\n",
    "state = allowed_moves['f3'](state)\n",
    "state = allowed_moves['r2'](state)\n",
    "state = allowed_moves['r3'](state)\n",
    "state = allowed_moves['f3'](state)\n",
    "\n",
    "state = allowed_moves['f6'](state)\n",
    "state = allowed_moves['-r0'](state)\n",
    "state = allowed_moves['f6'](state)\n",
    "state = allowed_moves['r0'](state)\n",
    "state = allowed_moves['-r3'](state)\n",
    "state = allowed_moves['f6'](state)\n",
    "state = allowed_moves['r3'](state)\n",
    "state = allowed_moves['f6'](state)\n",
    "print34(state)\n",
    "\n",
    "# state = allowed_moves['f2'](state)\n",
    "# state = allowed_moves['-r0'](state)\n",
    "# state = allowed_moves['f2'](state)\n",
    "# state = allowed_moves['r0'](state)\n",
    "# state = allowed_moves['-r3'](state)\n",
    "# state = allowed_moves['f2'](state)\n",
    "# state = allowed_moves['r3'](state)\n",
    "# state = allowed_moves['f2'](state)\n",
    "\n",
    "# state = allowed_moves['f4'](state)\n",
    "# state = allowed_moves['-r0'](state)\n",
    "# state = allowed_moves['f4'](state)\n",
    "# state = allowed_moves['r0'](state)\n",
    "# state = allowed_moves['-r3'](state)\n",
    "# state = allowed_moves['f4'](state)\n",
    "# state = allowed_moves['r3'](state)\n",
    "# state = allowed_moves['f4'](state)\n",
    "# print34(state)\n",
    "\n",
    "# state = allowed_moves['f1'](state)\n",
    "# state = allowed_moves['-r1'](state)\n",
    "# state = allowed_moves['f1'](state)\n",
    "# state = allowed_moves['r1'](state)\n",
    "# state = allowed_moves['-r2'](state)\n",
    "# state = allowed_moves['f1'](state)\n",
    "# state = allowed_moves['r2'](state)\n",
    "# state = allowed_moves['f1'](state)\n",
    "\n",
    "# state = allowed_moves['f5'](state)\n",
    "# state = allowed_moves['-r1'](state)\n",
    "# state = allowed_moves['f5'](state)\n",
    "# state = allowed_moves['r1'](state)\n",
    "# state = allowed_moves['-r2'](state)\n",
    "# state = allowed_moves['f5'](state)\n",
    "# state = allowed_moves['r2'](state)\n",
    "# state = allowed_moves['f5'](state)\n",
    "# print34(state)\n"
   ]
  },
  {
   "cell_type": "code",
   "execution_count": null,
   "id": "c2b387d2-7fce-4254-96d3-2ba0705d0993",
   "metadata": {},
   "outputs": [],
   "source": []
  },
  {
   "cell_type": "code",
   "execution_count": null,
   "id": "80b84657-a044-479a-a7b6-b7082ad7ca5b",
   "metadata": {},
   "outputs": [],
   "source": []
  },
  {
   "cell_type": "code",
   "execution_count": 320,
   "id": "5949286a-851d-4eca-8f85-b0afde0e7f23",
   "metadata": {
    "scrolled": true
   },
   "outputs": [
    {
     "name": "stdout",
     "output_type": "stream",
     "text": [
      "N5 ;N0 ;N1 ;N2 ;N3 ;N4 ;N6 ;N7 \n",
      "N8 ;N9 ;N10;N12;N11;N13;N14;N15\n",
      "N16;N17;N18;N20;N19;N21;N22;N23\n",
      "N29;N26;N25;N24;N27;N28;N30;N31\n",
      "\n"
     ]
    }
   ],
   "source": [
    "print34(max_correct_state)"
   ]
  },
  {
   "cell_type": "code",
   "execution_count": 321,
   "id": "085f0354-61cb-46d8-a898-06a400dc5853",
   "metadata": {},
   "outputs": [
    {
     "name": "stderr",
     "output_type": "stream",
     "text": [
      "  0%|▍                                                                               | 77708/16429825 [00:01<06:18, 43187.75it/s]"
     ]
    },
    {
     "name": "stdout",
     "output_type": "stream",
     "text": [
      "64 ['N0', 'N1', 'N2', 'N3', 'N5', 'N4', 'N6', 'N7', 'N9', 'N8', 'N10', 'N11', 'N12', 'N13', 'N14', 'N15', 'N17', 'N16', 'N18', 'N19', 'N20', 'N21', 'N22', 'N23', 'N26', 'N25', 'N24', 'N27', 'N29', 'N28', 'N30', 'N31'] f1.-r0.-r1.f1.r0.r1.-r2.-r3.f1.r2.r3.f1.f2.-r0.f2.r0.-r3.f2.r3.f2.f3.-r0.f3.r0.-r3.f3.r3.f3.f4.-r0.-r1.f4.r0.r1.-r2.-r3.f4.r2.r3.f4\n"
     ]
    },
    {
     "name": "stderr",
     "output_type": "stream",
     "text": [
      "100%|█████████████████████████████████████████████████████████████████████████████| 16429825/16429825 [06:22<00:00, 42920.08it/s]"
     ]
    },
    {
     "name": "stdout",
     "output_type": "stream",
     "text": [
      "64 ['N0', 'N1', 'N2', 'N3', 'N5', 'N4', 'N6', 'N7', 'N9', 'N8', 'N10', 'N11', 'N12', 'N13', 'N14', 'N15', 'N17', 'N16', 'N18', 'N19', 'N20', 'N21', 'N22', 'N23', 'N26', 'N25', 'N24', 'N27', 'N29', 'N28', 'N30', 'N31'] f1.-r0.-r1.f1.r0.r1.-r2.-r3.f1.r2.r3.f1.f2.-r0.f2.r0.-r3.f2.r3.f2.f3.-r0.f3.r0.-r3.f3.r3.f3.f4.-r0.-r1.f4.r0.r1.-r2.-r3.f4.r2.r3.f4\n"
     ]
    },
    {
     "name": "stderr",
     "output_type": "stream",
     "text": [
      "\n"
     ]
    }
   ],
   "source": [
    "tuning5 = max_correct_state\n",
    "state = tuning5\n",
    "correct_num = count_correct(state, solution_state)\n",
    "max_correct_num = correct_num\n",
    "max_correct_state = []\n",
    "max_correct_moves = ''\n",
    "\n",
    "for key in tqdm.tqdm(solve_dict_rev, total=len(solve_dict_rev)):\n",
    "    state = tuning5\n",
    "    new_state = Permutation(solve_dict_rev[key])(state)\n",
    "    correct_num = count_correct(new_state, solution_state)\n",
    "    if max_correct_num < correct_num:\n",
    "        max_correct_num = correct_num\n",
    "        max_correct_state = new_state\n",
    "        max_correct_moves = key\n",
    "        print(max_correct_num, max_correct_state, max_correct_moves)\n",
    "print(max_correct_num, max_correct_state, max_correct_moves)"
   ]
  },
  {
   "cell_type": "code",
   "execution_count": 320,
   "id": "abb46988-5c9d-493d-a7cc-a1dd74cce993",
   "metadata": {
    "scrolled": true
   },
   "outputs": [
    {
     "name": "stdout",
     "output_type": "stream",
     "text": [
      "N5 ;N0 ;N1 ;N2 ;N3 ;N4 ;N6 ;N7 \n",
      "N8 ;N9 ;N10;N12;N11;N13;N14;N15\n",
      "N16;N17;N18;N20;N19;N21;N22;N23\n",
      "N29;N26;N25;N24;N27;N28;N30;N31\n",
      "\n"
     ]
    }
   ],
   "source": [
    "print34(max_correct_state)"
   ]
  },
  {
   "cell_type": "code",
   "execution_count": 269,
   "id": "28ed2757-036c-4d34-8b92-b17142dbb62e",
   "metadata": {},
   "outputs": [
    {
     "name": "stdout",
     "output_type": "stream",
     "text": [
      "N0 ;N2 ;N1 ;N4 ;N3 ;N5 ;N7 ;N6 \n",
      "N9 ;N8 ;N10;N11;N13;N12;N15;N14\n",
      "N17;N16;N18;N19;N21;N20;N23;N22\n",
      "N24;N26;N25;N28;N27;N29;N31;N30\n",
      "\n",
      "N0 ;N2 ;N1 ;N4 ;N3 ;N5 ;N6 ;N7 \n",
      "N9 ;N8 ;N10;N11;N13;N12;N14;N15\n",
      "N17;N16;N18;N19;N21;N20;N22;N23\n",
      "N24;N26;N25;N28;N27;N29;N30;N31\n",
      "\n",
      "N0 ;N1 ;N2 ;N3 ;N4 ;N5 ;N6 ;N7 \n",
      "N9 ;N8 ;N10;N11;N13;N12;N14;N15\n",
      "N17;N16;N18;N19;N21;N20;N22;N23\n",
      "N24;N25;N26;N27;N28;N29;N30;N31\n",
      "\n",
      "N0 ;N1 ;N2 ;N3 ;N4 ;N5 ;N6 ;N7 \n",
      "N8 ;N9 ;N10;N11;N12;N13;N14;N15\n",
      "N16;N17;N18;N19;N20;N21;N22;N23\n",
      "N24;N25;N26;N27;N28;N29;N30;N31\n",
      "\n"
     ]
    }
   ],
   "source": [
    "tuning6 = max_correct_state\n",
    "state = tuning4\n",
    "print34(state)\n",
    "\n",
    "state = allowed_moves['f5'](state)\n",
    "state = allowed_moves['-r0'](state)\n",
    "state = allowed_moves['f5'](state)\n",
    "state = allowed_moves['r0'](state)\n",
    "state = allowed_moves['-r3'](state)\n",
    "state = allowed_moves['f5'](state)\n",
    "state = allowed_moves['r3'](state)\n",
    "state = allowed_moves['f5'](state)\n",
    "print34(state)\n",
    "\n",
    "# state = allowed_moves['f2'](state)\n",
    "# state = allowed_moves['-r0'](state)\n",
    "# state = allowed_moves['f2'](state)\n",
    "# state = allowed_moves['r0'](state)\n",
    "# state = allowed_moves['-r3'](state)\n",
    "# state = allowed_moves['f2'](state)\n",
    "# state = allowed_moves['r3'](state)\n",
    "# state = allowed_moves['f2'](state)\n",
    "\n",
    "# state = allowed_moves['f4'](state)\n",
    "# state = allowed_moves['-r0'](state)\n",
    "# state = allowed_moves['f4'](state)\n",
    "# state = allowed_moves['r0'](state)\n",
    "# state = allowed_moves['-r3'](state)\n",
    "# state = allowed_moves['f4'](state)\n",
    "# state = allowed_moves['r3'](state)\n",
    "# state = allowed_moves['f4'](state)\n",
    "print34(state)\n",
    "\n",
    "state = allowed_moves['f1'](state)\n",
    "state = allowed_moves['-r1'](state)\n",
    "state = allowed_moves['f1'](state)\n",
    "state = allowed_moves['r1'](state)\n",
    "state = allowed_moves['-r2'](state)\n",
    "state = allowed_moves['f1'](state)\n",
    "state = allowed_moves['r2'](state)\n",
    "state = allowed_moves['f1'](state)\n",
    "\n",
    "# state = allowed_moves['f5'](state)\n",
    "# state = allowed_moves['-r1'](state)\n",
    "# state = allowed_moves['f5'](state)\n",
    "# state = allowed_moves['r1'](state)\n",
    "# state = allowed_moves['-r2'](state)\n",
    "# state = allowed_moves['f5'](state)\n",
    "# state = allowed_moves['r2'](state)\n",
    "# state = allowed_moves['f5'](state)\n",
    "print34(state)\n"
   ]
  },
  {
   "cell_type": "code",
   "execution_count": null,
   "id": "8d9a8943-15ed-4928-84b8-f667db14f5ca",
   "metadata": {},
   "outputs": [],
   "source": []
  },
  {
   "cell_type": "code",
   "execution_count": null,
   "id": "ab3a193c-53f2-4310-89a5-04b0bc5d362f",
   "metadata": {},
   "outputs": [],
   "source": []
  },
  {
   "cell_type": "code",
   "execution_count": null,
   "id": "2f37634a-18bf-4f00-a068-7a05228ad798",
   "metadata": {},
   "outputs": [],
   "source": []
  },
  {
   "cell_type": "code",
   "execution_count": 24,
   "id": "04ae442e-1a98-4aad-8238-91584902bf99",
   "metadata": {},
   "outputs": [
    {
     "name": "stderr",
     "output_type": "stream",
     "text": [
      "  0%|                                                                                | 15626/16429825 [00:00<05:07, 53435.22it/s]"
     ]
    },
    {
     "name": "stdout",
     "output_type": "stream",
     "text": [
      "48 ['A', 'A', 'C', 'C', 'E', 'E', 'G', 'G', 'A', 'A', 'C', 'C', 'E', 'E', 'G', 'G', 'B', 'B', 'D', 'D', 'F', 'F', 'H', 'H', 'B', 'B', 'D', 'D', 'F', 'F', 'H', 'H'] f1.-r0.-r1.f1.r0.r1.-r2.-r3.f1.r2.r3.f1.f7.-r0.-r1.f7.r0.r1.-r2.-r3.f7.r2.r3.f7.f0.-r1.f0.r1.-r2.f0.r2.f0\n"
     ]
    },
    {
     "name": "stderr",
     "output_type": "stream",
     "text": [
      "100%|█████████████████████████████████████████████████████████████████████████████| 16429825/16429825 [04:52<00:00, 56205.48it/s]"
     ]
    },
    {
     "name": "stdout",
     "output_type": "stream",
     "text": [
      "48 ['A', 'A', 'C', 'C', 'E', 'E', 'G', 'G', 'A', 'A', 'C', 'C', 'E', 'E', 'G', 'G', 'B', 'B', 'D', 'D', 'F', 'F', 'H', 'H', 'B', 'B', 'D', 'D', 'F', 'F', 'H', 'H'] f1.-r0.-r1.f1.r0.r1.-r2.-r3.f1.r2.r3.f1.f7.-r0.-r1.f7.r0.r1.-r2.-r3.f7.r2.r3.f7.f0.-r1.f0.r1.-r2.f0.r2.f0\n"
     ]
    },
    {
     "name": "stderr",
     "output_type": "stream",
     "text": [
      "\n"
     ]
    }
   ],
   "source": [
    "tuning4 = max_correct_state\n",
    "state = tuning4\n",
    "correct_num = count_correct(state, solution_state)\n",
    "max_correct_num = correct_num\n",
    "max_correct_state = []\n",
    "max_correct_moves = ''\n",
    "\n",
    "for key in tqdm.tqdm(solve_dict_rev, total=len(solve_dict_rev)):\n",
    "    state = tuning4\n",
    "    new_state = Permutation(solve_dict_rev[key])(state)\n",
    "    correct_num = count_correct(new_state, solution_state)\n",
    "    if max_correct_num < correct_num:\n",
    "        max_correct_num = correct_num\n",
    "        max_correct_state = new_state\n",
    "        max_correct_moves = key\n",
    "        print(max_correct_num, max_correct_state, max_correct_moves)\n",
    "print(max_correct_num, max_correct_state, max_correct_moves)"
   ]
  },
  {
   "cell_type": "code",
   "execution_count": 23,
   "id": "5185554e-d233-4cd5-a2ea-1d178de31170",
   "metadata": {},
   "outputs": [
    {
     "name": "stdout",
     "output_type": "stream",
     "text": [
      "A;A;C;C;E;E;G;G\n",
      "A;G;C;C;E;E;A;G\n",
      "B;H;D;D;F;F;B;H\n",
      "B;B;D;D;F;F;H;H\n",
      "\n"
     ]
    }
   ],
   "source": [
    "print34(max_correct_state)"
   ]
  },
  {
   "cell_type": "code",
   "execution_count": null,
   "id": "50a5ef4f-0da5-4cb2-b79a-8d5f6c38e769",
   "metadata": {},
   "outputs": [],
   "source": [
    "# 120"
   ]
  },
  {
   "cell_type": "code",
   "execution_count": null,
   "id": "1344c7c9-c5dc-40c0-8678-bd9b8bd68e72",
   "metadata": {},
   "outputs": [],
   "source": []
  },
  {
   "cell_type": "code",
   "execution_count": null,
   "id": "6693da3b-1f4f-487a-9d05-b0573c78f995",
   "metadata": {},
   "outputs": [],
   "source": []
  },
  {
   "cell_type": "code",
   "execution_count": 478,
   "id": "7f200a7c-ced5-446a-ac4e-1b0bc43f66e5",
   "metadata": {},
   "outputs": [
    {
     "name": "stdout",
     "output_type": "stream",
     "text": [
      "N0 ;N1 ;N2 ;N3 ;N4 ;N5 ;N6 ;N7 \n",
      "N8 ;N9 ;N10;N11;N12;N13;N14;N15\n",
      "N16;N17;N18;N19;N20;N21;N22;N23\n",
      "N24;N25;N26;N27;N28;N29;N30;N31\n",
      "\n",
      "N5 ;N28;N1 ;N30;N29;N27;N4 ;N6 \n",
      "N20;N12;N19;N10;N18;N16;N23;N14\n",
      "N11;N13;N22;N9 ;N17;N21;N8 ;N15\n",
      "N7 ;N0 ;N2 ;N26;N31;N24;N3 ;N25\n",
      "\n"
     ]
    }
   ],
   "source": [
    "solution_state = subset.loc[372].solution_state.split(';')\n",
    "print34(solution_state)\n",
    "initial_state = subset.loc[372].initial_state.split(';')\n",
    "print34(initial_state)"
   ]
  },
  {
   "cell_type": "code",
   "execution_count": 479,
   "id": "af82b7cd-bc70-4b18-9cb6-fccb6b46a021",
   "metadata": {},
   "outputs": [
    {
     "name": "stdout",
     "output_type": "stream",
     "text": [
      "N5 ;N28;N1 ;N30;N29;N27;N4 ;N6 \n",
      "N20;N12;N19;N10;N18;N16;N23;N14\n",
      "N11;N13;N22;N9 ;N17;N21;N8 ;N15\n",
      "N7 ;N0 ;N2 ;N26;N31;N24;N3 ;N25\n",
      "\n",
      "N28;N1 ;N30;N24;N31;N26;N2 ;N5 \n",
      "N20;N12;N19;N8 ;N21;N17;N9 ;N14\n",
      "N11;N13;N22;N23;N16;N18;N10;N15\n",
      "N7 ;N0 ;N6 ;N4 ;N27;N29;N3 ;N25\n",
      "\n",
      "N28;N31;N26;N0 ;N7 ;N6 ;N2 ;N5 \n",
      "N20;N8 ;N21;N17;N13;N22;N9 ;N14\n",
      "N11;N23;N16;N18;N12;N19;N10;N15\n",
      "N4 ;N27;N29;N1 ;N24;N30;N3 ;N25\n",
      "\n",
      "N28;N31;N26;N30;N24;N1 ;N29;N5 \n",
      "N20;N8 ;N21;N10;N19;N12;N18;N14\n",
      "N11;N23;N16;N9 ;N22;N13;N17;N15\n",
      "N4 ;N27;N2 ;N6 ;N7 ;N0 ;N3 ;N25\n",
      "\n",
      "N28;N31;N1 ;N29;N2 ;N27;N6 ;N5 \n",
      "N20;N8 ;N19;N12;N18;N16;N9 ;N14\n",
      "N11;N23;N22;N13;N17;N21;N10;N15\n",
      "N4 ;N7 ;N0 ;N3 ;N26;N24;N30;N25\n",
      "\n",
      "N28;N31;N1 ;N29;N30;N24;N26;N3 \n",
      "N20;N8 ;N19;N12;N15;N10;N21;N17\n",
      "N11;N23;N22;N13;N14;N9 ;N16;N18\n",
      "N4 ;N7 ;N0 ;N5 ;N6 ;N27;N2 ;N25\n",
      "\n",
      "N28;N0 ;N6 ;N5 ;N7 ;N24;N26;N3 \n",
      "N20;N14;N13;N22;N23;N10;N21;N17\n",
      "N11;N15;N12;N19;N8 ;N9 ;N16;N18\n",
      "N4 ;N1 ;N30;N29;N31;N27;N2 ;N25\n",
      "\n",
      "N28;N0 ;N31;N29;N30;N1 ;N26;N3 \n",
      "N20;N14;N9 ;N8 ;N19;N12;N21;N17\n",
      "N11;N15;N10;N23;N22;N13;N16;N18\n",
      "N4 ;N24;N7 ;N5 ;N6 ;N27;N2 ;N25\n",
      "\n",
      "N28;N0 ;N31;N29;N30;N26;N1 ;N3 \n",
      "N20;N14;N9 ;N8 ;N19;N12;N21;N17\n",
      "N11;N15;N10;N23;N22;N13;N16;N18\n",
      "N4 ;N24;N7 ;N5 ;N6 ;N2 ;N27;N25\n",
      "\n",
      "N28;N0 ;N31;N27;N29;N30;N26;N1 \n",
      "N20;N14;N9 ;N16;N18;N8 ;N19;N12\n",
      "N11;N15;N10;N21;N17;N23;N22;N13\n",
      "N4 ;N24;N7 ;N3 ;N5 ;N6 ;N2 ;N25\n",
      "\n"
     ]
    }
   ],
   "source": [
    "state = initial_state\n",
    "print34(state)\n",
    "\n",
    "state = allowed_moves['r0'](state)\n",
    "state = allowed_moves['-r3'](state)\n",
    "state = allowed_moves['f3'](state)\n",
    "state = allowed_moves['r3'](state)\n",
    "print34(state)\n",
    "\n",
    "state = allowed_moves['f2'](state)\n",
    "state = allowed_moves['-r3'](state)\n",
    "state = allowed_moves['f1'](state)\n",
    "state = allowed_moves['r3'](state)\n",
    "print34(state)\n",
    "\n",
    "state = allowed_moves['-r3'](state)\n",
    "state = allowed_moves['f3'](state)\n",
    "state = allowed_moves['r3'](state)\n",
    "print34(state)\n",
    "\n",
    "state = allowed_moves['f3'](state)\n",
    "state = allowed_moves['-r3'](state)\n",
    "state = allowed_moves['f2'](state)\n",
    "state = allowed_moves['r3'](state)\n",
    "print34(state)\n",
    "\n",
    "state = allowed_moves['-r3'](state)\n",
    "state = allowed_moves['f4'](state)\n",
    "state = allowed_moves['r3'](state)\n",
    "print34(state)\n",
    "\n",
    "state = allowed_moves['f3'](state)\n",
    "state = allowed_moves['-r0'](state)\n",
    "state = allowed_moves['f3'](state)\n",
    "state = allowed_moves['r0'](state)\n",
    "state = allowed_moves['-r3'](state)\n",
    "state = allowed_moves['f3'](state)\n",
    "state = allowed_moves['r3'](state)\n",
    "state = allowed_moves['f3'](state)\n",
    "\n",
    "state = allowed_moves['f4'](state)\n",
    "state = allowed_moves['-r0'](state)\n",
    "state = allowed_moves['f4'](state)\n",
    "state = allowed_moves['r0'](state)\n",
    "state = allowed_moves['-r3'](state)\n",
    "state = allowed_moves['f4'](state)\n",
    "state = allowed_moves['r3'](state)\n",
    "state = allowed_moves['f4'](state)\n",
    "\n",
    "state = allowed_moves['f1'](state)\n",
    "print34(state)\n",
    "\n",
    "state = allowed_moves['-r3'](state)\n",
    "state = allowed_moves['f2'](state)\n",
    "state = allowed_moves['r3'](state)\n",
    "print34(state)\n",
    "\n",
    "state = allowed_moves['f6'](state)\n",
    "state = allowed_moves['-r0'](state)\n",
    "state = allowed_moves['f6'](state)\n",
    "state = allowed_moves['r0'](state)\n",
    "state = allowed_moves['-r3'](state)\n",
    "state = allowed_moves['f6'](state)\n",
    "state = allowed_moves['r3'](state)\n",
    "state = allowed_moves['f6'](state)\n",
    "print34(state)\n",
    "\n",
    "state = allowed_moves['f3'](state)\n",
    "state = allowed_moves['-r3'](state)\n",
    "state = allowed_moves['f4'](state)\n",
    "state = allowed_moves['r3'](state)\n",
    "print34(state)\n",
    "\n",
    "state2 = state"
   ]
  },
  {
   "cell_type": "code",
   "execution_count": 480,
   "id": "2fbbec18-ab8a-4986-a327-ccc7c4db5494",
   "metadata": {},
   "outputs": [
    {
     "name": "stdout",
     "output_type": "stream",
     "text": [
      "N28;N0 ;N31;N27;N29;N30;N26;N1 \n",
      "N20;N14;N9 ;N16;N18;N8 ;N19;N12\n",
      "N11;N15;N10;N21;N17;N23;N22;N13\n",
      "N4 ;N24;N7 ;N3 ;N5 ;N6 ;N2 ;N25\n",
      "\n",
      "N28;N0 ;N26;N1 ;N3 ;N7 ;N6 ;N5 \n",
      "N20;N14;N12;N21;N10;N15;N23;N17\n",
      "N11;N22;N13;N16;N9 ;N19;N8 ;N18\n",
      "N4 ;N24;N2 ;N25;N27;N31;N30;N29\n",
      "\n",
      "N24;N4 ;N29;N1 ;N26;N30;N31;N27\n",
      "N22;N11;N18;N21;N8 ;N19;N9 ;N16\n",
      "N14;N20;N17;N13;N23;N15;N10;N12\n",
      "N0 ;N28;N5 ;N25;N2 ;N6 ;N7 ;N3 \n",
      "\n",
      "N24;N4 ;N6 ;N2 ;N25;N5 ;N31;N27\n",
      "N22;N11;N23;N13;N17;N20;N9 ;N16\n",
      "N14;N19;N8 ;N21;N18;N15;N10;N12\n",
      "N0 ;N28;N30;N26;N1 ;N29;N7 ;N3 \n",
      "\n",
      "N24;N4 ;N6 ;N5 ;N31;N27;N26;N1 \n",
      "N22;N11;N23;N9 ;N16;N21;N8 ;N18\n",
      "N14;N19;N15;N10;N12;N13;N20;N17\n",
      "N0 ;N28;N30;N29;N7 ;N3 ;N2 ;N25\n",
      "\n",
      "N3 ;N1 ;N24;N5 ;N31;N2 ;N6 ;N4 \n",
      "N12;N18;N22;N9 ;N16;N23;N11;N13\n",
      "N20;N17;N14;N10;N8 ;N15;N19;N21\n",
      "N27;N25;N0 ;N29;N7 ;N26;N30;N28\n",
      "\n",
      "N3 ;N1 ;N24;N5 ;N31;N2 ;N6 ;N4 \n",
      "N12;N18;N9 ;N22;N16;N23;N11;N13\n",
      "N20;N17;N10;N14;N8 ;N15;N19;N21\n",
      "N27;N25;N0 ;N29;N7 ;N26;N30;N28\n",
      "\n",
      "N3 ;N1 ;N24;N5 ;N31;N2 ;N6 ;N4 \n",
      "N12;N18;N22;N16;N23;N17;N11;N13\n",
      "N20;N10;N14;N8 ;N15;N9 ;N19;N21\n",
      "N27;N25;N0 ;N29;N7 ;N26;N30;N28\n",
      "\n",
      "N3 ;N1 ;N24;N5 ;N31;N2 ;N6 ;N4 \n",
      "N13;N12;N19;N18;N22;N16;N17;N11\n",
      "N20;N10;N23;N14;N8 ;N15;N9 ;N21\n",
      "N27;N25;N0 ;N29;N7 ;N26;N30;N28\n",
      "\n",
      "N3 ;N7 ;N26;N1 ;N24;N5 ;N6 ;N4 \n",
      "N13;N8 ;N12;N19;N18;N22;N17;N11\n",
      "N20;N16;N10;N23;N14;N15;N9 ;N21\n",
      "N27;N31;N2 ;N25;N0 ;N29;N30;N28\n",
      "\n",
      "N3 ;N7 ;N26;N1 ;N28;N30;N29;N0 \n",
      "N13;N8 ;N12;N19;N9 ;N15;N14;N23\n",
      "N20;N16;N10;N11;N17;N22;N18;N21\n",
      "N27;N31;N2 ;N25;N4 ;N6 ;N5 ;N24\n",
      "\n",
      "N3 ;N0 ;N25;N2 ;N31;N5 ;N6 ;N4 \n",
      "N13;N11;N10;N16;N20;N18;N22;N17\n",
      "N21;N19;N12;N8 ;N23;N14;N15;N9 \n",
      "N27;N24;N1 ;N26;N7 ;N29;N30;N28\n",
      "\n",
      "N3 ;N0 ;N29;N30;N25;N2 ;N31;N4 \n",
      "N13;N11;N14;N10;N16;N20;N18;N17\n",
      "N21;N19;N22;N12;N8 ;N23;N15;N9 \n",
      "N27;N24;N5 ;N6 ;N1 ;N26;N7 ;N28\n",
      "\n",
      "N3 ;N0 ;N29;N30;N25;N2 ;N31;N4 \n",
      "N13;N11;N14;N10;N16;N18;N20;N17\n",
      "N21;N19;N22;N12;N8 ;N15;N23;N9 \n",
      "N27;N24;N5 ;N6 ;N1 ;N26;N7 ;N28\n",
      "\n",
      "N3 ;N1 ;N6 ;N7 ;N26;N0 ;N29;N4 \n",
      "N13;N8 ;N12;N15;N11;N14;N10;N17\n",
      "N21;N16;N20;N18;N19;N22;N23;N9 \n",
      "N27;N25;N30;N31;N2 ;N24;N5 ;N28\n",
      "\n",
      "N3 ;N2 ;N31;N5 ;N24;N1 ;N6 ;N4 \n",
      "N13;N19;N18;N22;N8 ;N12;N15;N17\n",
      "N21;N11;N10;N14;N16;N20;N23;N9 \n",
      "N27;N26;N7 ;N29;N0 ;N25;N30;N28\n",
      "\n"
     ]
    }
   ],
   "source": [
    "state = state2\n",
    "print34(state)\n",
    "\n",
    "state = allowed_moves['f4'](state)\n",
    "state = allowed_moves['-r2'](state)\n",
    "state = allowed_moves['f2'](state)\n",
    "state = allowed_moves['r2'](state)\n",
    "print34(state)\n",
    "\n",
    "state = allowed_moves['f7'](state)\n",
    "state = allowed_moves['-r2'](state)\n",
    "state = allowed_moves['f4'](state)\n",
    "state = allowed_moves['r2'](state)\n",
    "print34(state)\n",
    "\n",
    "state = allowed_moves['-r2'](state)\n",
    "state = allowed_moves['f2'](state)\n",
    "state = allowed_moves['r2'](state)\n",
    "print34(state)\n",
    "\n",
    "state = allowed_moves['f4'](state)\n",
    "state = allowed_moves['-r2'](state)\n",
    "state = allowed_moves['f3'](state)\n",
    "state = allowed_moves['r2'](state)\n",
    "print34(state)\n",
    "\n",
    "state = allowed_moves['f6'](state)\n",
    "state = allowed_moves['f7'](state)\n",
    "state = allowed_moves['-r2'](state)\n",
    "state = allowed_moves['f5'](state)\n",
    "state = allowed_moves['r2'](state)\n",
    "print34(state)\n",
    "\n",
    "state = allowed_moves['f3'](state)\n",
    "state = allowed_moves['-r1'](state)\n",
    "state = allowed_moves['f3'](state)\n",
    "state = allowed_moves['r1'](state)\n",
    "state = allowed_moves['-r2'](state)\n",
    "state = allowed_moves['f3'](state)\n",
    "state = allowed_moves['r2'](state)\n",
    "state = allowed_moves['f3'](state)\n",
    "print34(state)\n",
    "\n",
    "state = allowed_moves['f2'](state)\n",
    "state = allowed_moves['-r2'](state)\n",
    "state = allowed_moves['f2'](state)\n",
    "state = allowed_moves['r2'](state)\n",
    "print34(state)\n",
    "\n",
    "state = allowed_moves['-r1'](state)\n",
    "state = allowed_moves['f2'](state)\n",
    "state = allowed_moves['r2'](state)\n",
    "state = allowed_moves['f2'](state)\n",
    "state = allowed_moves['-r2'](state)\n",
    "print34(state)\n",
    "\n",
    "state = allowed_moves['f1'](state)\n",
    "state = allowed_moves['-r2'](state)\n",
    "state = allowed_moves['f2'](state)\n",
    "state = allowed_moves['r2'](state)\n",
    "print34(state)\n",
    "\n",
    "state = allowed_moves['-r2'](state)\n",
    "state = allowed_moves['f4'](state)\n",
    "state = allowed_moves['r2'](state)\n",
    "print34(state)\n",
    "\n",
    "state = allowed_moves['f4'](state)\n",
    "state = allowed_moves['-r2'](state)\n",
    "state = allowed_moves['f1'](state)\n",
    "state = allowed_moves['r2'](state)\n",
    "print34(state)\n",
    "\n",
    "state = allowed_moves['f2'](state)\n",
    "state = allowed_moves['-r2'](state)\n",
    "state = allowed_moves['f3'](state)\n",
    "state = allowed_moves['r2'](state)\n",
    "print34(state)\n",
    "\n",
    "state = allowed_moves['f6'](state)\n",
    "state = allowed_moves['-r1'](state)\n",
    "state = allowed_moves['f6'](state)\n",
    "state = allowed_moves['r1'](state)\n",
    "state = allowed_moves['-r2'](state)\n",
    "state = allowed_moves['f6'](state)\n",
    "state = allowed_moves['r2'](state)\n",
    "state = allowed_moves['f6'](state)\n",
    "print34(state)\n",
    "\n",
    "state = allowed_moves['f1'](state)\n",
    "state = allowed_moves['-r2'](state)\n",
    "state = allowed_moves['f3'](state)\n",
    "state = allowed_moves['r2'](state)\n",
    "print34(state)\n",
    "\n",
    "state = allowed_moves['f1'](state)\n",
    "state = allowed_moves['-r2'](state)\n",
    "state = allowed_moves['f3'](state)\n",
    "state = allowed_moves['r2'](state)\n",
    "print34(state)\n",
    "\n",
    "\n",
    "state3 = state"
   ]
  },
  {
   "cell_type": "code",
   "execution_count": 481,
   "id": "d4b3354c-1d09-4e6b-8bf3-f443e7d117fd",
   "metadata": {},
   "outputs": [
    {
     "name": "stderr",
     "output_type": "stream",
     "text": [
      "  0%|                                                                                 | 8678/16429825 [00:00<06:19, 43263.33it/s]"
     ]
    },
    {
     "name": "stdout",
     "output_type": "stream",
     "text": [
      "35 ['N3', 'N2', 'N31', 'N28', 'N24', 'N1', 'N6', 'N29', 'N13', 'N19', 'N18', 'N9', 'N8', 'N12', 'N15', 'N14', 'N21', 'N11', 'N10', 'N17', 'N16', 'N20', 'N23', 'N22', 'N27', 'N26', 'N7', 'N4', 'N0', 'N25', 'N30', 'N5'] -r0.-r1.f0.r0.r1.-r2.-r3.f0.r2.r3\n",
      "41 ['N3', 'N2', 'N31', 'N5', 'N24', 'N1', 'N6', 'N4', 'N13', 'N19', 'N18', 'N9', 'N8', 'N12', 'N15', 'N14', 'N21', 'N11', 'N10', 'N17', 'N16', 'N20', 'N23', 'N22', 'N27', 'N26', 'N7', 'N29', 'N0', 'N25', 'N30', 'N28'] -r1.f0.r1.-r2.f0.r2\n",
      "42 ['N0', 'N2', 'N31', 'N5', 'N27', 'N1', 'N6', 'N4', 'N13', 'N19', 'N18', 'N9', 'N8', 'N12', 'N15', 'N14', 'N21', 'N11', 'N10', 'N17', 'N16', 'N20', 'N23', 'N22', 'N24', 'N26', 'N7', 'N29', 'N3', 'N25', 'N30', 'N28'] -r1.f0.r1.-r2.f0.r2.-r0.f1.r0.-r3.f1.r3\n",
      "43 ['N0', 'N2', 'N31', 'N28', 'N5', 'N1', 'N6', 'N3', 'N13', 'N19', 'N18', 'N9', 'N8', 'N12', 'N15', 'N14', 'N21', 'N11', 'N10', 'N17', 'N16', 'N20', 'N23', 'N22', 'N24', 'N26', 'N7', 'N4', 'N29', 'N25', 'N30', 'N27'] -r0.-r1.f0.r0.r1.-r2.-r3.f0.r2.r3.f0.-r0.f0.r0.-r3.f0.r3.f0.-r0.f1.r0.-r3.f1.r3\n"
     ]
    },
    {
     "name": "stderr",
     "output_type": "stream",
     "text": [
      "  0%|▏                                                                               | 48383/16429825 [00:01<06:15, 43653.57it/s]"
     ]
    },
    {
     "name": "stdout",
     "output_type": "stream",
     "text": [
      "44 ['N0', 'N2', 'N31', 'N28', 'N5', 'N1', 'N6', 'N3', 'N16', 'N13', 'N18', 'N9', 'N11', 'N12', 'N15', 'N14', 'N8', 'N21', 'N10', 'N17', 'N19', 'N20', 'N23', 'N22', 'N24', 'N26', 'N7', 'N4', 'N29', 'N25', 'N30', 'N27'] -r0.-r1.f0.r0.r1.-r2.-r3.f0.r2.r3.f0.-r0.f0.r0.-r3.f0.r3.f0.f1.-r1.f1.r1.-r2.f1.r2.f1.-r0.-r1.f1.r0.r1.-r2.-r3.f1.r2.r3\n"
     ]
    },
    {
     "name": "stderr",
     "output_type": "stream",
     "text": [
      "  0%|▎                                                                               | 70070/16429825 [00:01<06:21, 42887.45it/s]"
     ]
    },
    {
     "name": "stdout",
     "output_type": "stream",
     "text": [
      "48 ['N0', 'N3', 'N2', 'N5', 'N7', 'N1', 'N6', 'N4', 'N16', 'N13', 'N19', 'N9', 'N10', 'N12', 'N15', 'N14', 'N8', 'N21', 'N11', 'N17', 'N18', 'N20', 'N23', 'N22', 'N24', 'N27', 'N26', 'N29', 'N31', 'N25', 'N30', 'N28'] -r1.f0.r1.-r2.f0.r2.f2.-r0.-r1.f2.r0.r1.-r2.-r3.f2.r2.r3.f2.f1.-r0.-r1.f1.r0.r1.-r2.-r3.f1.r2.r3.f1.-r0.-r1.f1.r0.r1.-r2.-r3.f1.r2.r3\n",
      "49 ['N0', 'N3', 'N2', 'N5', 'N7', 'N1', 'N6', 'N4', 'N16', 'N13', 'N18', 'N9', 'N11', 'N12', 'N15', 'N14', 'N8', 'N21', 'N10', 'N17', 'N19', 'N20', 'N23', 'N22', 'N24', 'N27', 'N26', 'N29', 'N31', 'N25', 'N30', 'N28'] -r1.f0.r1.-r2.f0.r2.f2.-r0.f2.r0.-r3.f2.r3.f2.f1.-r0.-r1.f1.r0.r1.-r2.-r3.f1.r2.r3.f1.-r0.-r1.f1.r0.r1.-r2.-r3.f1.r2.r3\n"
     ]
    },
    {
     "name": "stderr",
     "output_type": "stream",
     "text": [
      "  4%|███▍                                                                           | 723598/16429825 [00:16<05:57, 43923.34it/s]"
     ]
    },
    {
     "name": "stdout",
     "output_type": "stream",
     "text": [
      "50 ['N0', 'N2', 'N3', 'N5', 'N7', 'N1', 'N6', 'N4', 'N16', 'N18', 'N13', 'N9', 'N11', 'N12', 'N15', 'N14', 'N8', 'N10', 'N21', 'N17', 'N19', 'N20', 'N23', 'N22', 'N24', 'N26', 'N27', 'N29', 'N31', 'N25', 'N30', 'N28'] -r1.f0.r1.-r2.f0.r2.f1.-r0.-r1.f1.r0.r1.-r2.-r3.f1.r2.r3.f1.f2.-r0.-r1.f2.r0.r1.-r2.-r3.f2.r2.r3.f2.f1.-r0.f1.r0.-r3.f1.r3.f1.-r0.-r1.f1.r0.r1.-r2.-r3.f1.r2.r3\n"
     ]
    },
    {
     "name": "stderr",
     "output_type": "stream",
     "text": [
      "  7%|█████▋                                                                        | 1185930/16429825 [00:27<05:47, 43859.89it/s]"
     ]
    },
    {
     "name": "stdout",
     "output_type": "stream",
     "text": [
      "51 ['N0', 'N2', 'N3', 'N5', 'N1', 'N4', 'N7', 'N6', 'N13', 'N19', 'N9', 'N22', 'N12', 'N8', 'N10', 'N15', 'N21', 'N11', 'N17', 'N14', 'N20', 'N16', 'N18', 'N23', 'N24', 'N26', 'N27', 'N29', 'N25', 'N28', 'N31', 'N30'] -r0.f1.r0.-r3.f1.r3.f5.-r0.-r1.f5.r0.r1.-r2.-r3.f5.r2.r3.f5.f7.-r0.-r1.f7.r0.r1.-r2.-r3.f7.r2.r3.f7.f6.-r0.f6.r0.-r3.f6.r3.f6.-r0.-r1.f3.r0.r1.-r2.-r3.f3.r2.r3\n"
     ]
    },
    {
     "name": "stderr",
     "output_type": "stream",
     "text": [
      " 36%|████████████████████████████▍                                                 | 5980402/16429825 [02:19<04:02, 43043.16it/s]"
     ]
    },
    {
     "name": "stdout",
     "output_type": "stream",
     "text": [
      "52 ['N0', 'N3', 'N2', 'N5', 'N4', 'N1', 'N6', 'N7', 'N16', 'N13', 'N9', 'N18', 'N11', 'N12', 'N15', 'N14', 'N8', 'N21', 'N17', 'N10', 'N19', 'N20', 'N23', 'N22', 'N24', 'N27', 'N26', 'N29', 'N28', 'N25', 'N30', 'N31'] -r0.-r1.f0.r0.r1.-r2.-r3.f0.r2.r3.f3.-r0.-r1.f3.r0.r1.-r2.-r3.f3.r2.r3.f3.-r0.f0.r0.-r3.f0.r3.f2.-r0.f2.r0.-r3.f2.r3.f2.f1.-r0.-r1.f1.r0.r1.-r2.-r3.f1.r2.r3.f1.-r0.-r1.f1.r0.r1.-r2.-r3.f1.r2.r3\n"
     ]
    },
    {
     "name": "stderr",
     "output_type": "stream",
     "text": [
      " 46%|███████████████████████████████████▊                                          | 7555850/16429825 [02:55<03:22, 43885.57it/s]"
     ]
    },
    {
     "name": "stdout",
     "output_type": "stream",
     "text": [
      "55 ['N0', 'N3', 'N5', 'N2', 'N7', 'N1', 'N6', 'N4', 'N11', 'N13', 'N9', 'N8', 'N10', 'N12', 'N15', 'N14', 'N19', 'N21', 'N17', 'N16', 'N18', 'N20', 'N23', 'N22', 'N24', 'N27', 'N29', 'N26', 'N31', 'N25', 'N30', 'N28'] -r1.f0.r1.-r2.f0.r2.f2.-r0.-r1.f2.r0.r1.-r2.-r3.f2.r2.r3.f2.f1.-r0.-r1.f1.r0.r1.-r2.-r3.f1.r2.r3.f1.f3.-r0.-r1.f3.r0.r1.-r2.-r3.f3.r2.r3.f3.f4.-r1.f4.r1.-r2.f4.r2.f4.-r0.-r1.f1.r0.r1.-r2.-r3.f1.r2.r3\n"
     ]
    },
    {
     "name": "stderr",
     "output_type": "stream",
     "text": [
      " 46%|████████████████████████████████████                                          | 7599794/16429825 [02:56<03:23, 43387.11it/s]"
     ]
    },
    {
     "name": "stdout",
     "output_type": "stream",
     "text": [
      "56 ['N0', 'N3', 'N5', 'N2', 'N7', 'N1', 'N6', 'N4', 'N10', 'N13', 'N9', 'N8', 'N11', 'N12', 'N15', 'N14', 'N18', 'N21', 'N17', 'N16', 'N19', 'N20', 'N23', 'N22', 'N24', 'N27', 'N29', 'N26', 'N31', 'N25', 'N30', 'N28'] -r1.f0.r1.-r2.f0.r2.f2.-r0.f2.r0.-r3.f2.r3.f2.f1.-r0.-r1.f1.r0.r1.-r2.-r3.f1.r2.r3.f1.f3.-r0.-r1.f3.r0.r1.-r2.-r3.f3.r2.r3.f3.f4.-r1.f4.r1.-r2.f4.r2.f4.-r0.-r1.f1.r0.r1.-r2.-r3.f1.r2.r3\n"
     ]
    },
    {
     "name": "stderr",
     "output_type": "stream",
     "text": [
      " 97%|██████████████████████████████████████████████████████████████████████████▌  | 15904260/16429825 [06:09<00:12, 42478.40it/s]"
     ]
    },
    {
     "name": "stdout",
     "output_type": "stream",
     "text": [
      "57 ['N0', 'N3', 'N2', 'N5', 'N4', 'N1', 'N7', 'N6', 'N14', 'N13', 'N9', 'N8', 'N11', 'N12', 'N10', 'N15', 'N22', 'N21', 'N17', 'N16', 'N19', 'N20', 'N18', 'N23', 'N24', 'N27', 'N26', 'N29', 'N28', 'N25', 'N31', 'N30'] f4.-r1.f4.r1.-r2.f4.r2.f4.f7.-r0.-r1.f7.r0.r1.-r2.-r3.f7.r2.r3.f7.-r0.-r1.f3.r0.r1.-r2.-r3.f3.r2.r3.f2.-r0.f2.r0.-r3.f2.r3.f2.f1.-r0.-r1.f1.r0.r1.-r2.-r3.f1.r2.r3.f1.-r0.-r1.f1.r0.r1.-r2.-r3.f1.r2.r3\n"
     ]
    },
    {
     "name": "stderr",
     "output_type": "stream",
     "text": [
      "100%|█████████████████████████████████████████████████████████████████████████████| 16429825/16429825 [06:21<00:00, 43039.34it/s]"
     ]
    },
    {
     "name": "stdout",
     "output_type": "stream",
     "text": [
      "57 ['N0', 'N3', 'N2', 'N5', 'N4', 'N1', 'N7', 'N6', 'N14', 'N13', 'N9', 'N8', 'N11', 'N12', 'N10', 'N15', 'N22', 'N21', 'N17', 'N16', 'N19', 'N20', 'N18', 'N23', 'N24', 'N27', 'N26', 'N29', 'N28', 'N25', 'N31', 'N30'] f4.-r1.f4.r1.-r2.f4.r2.f4.f7.-r0.-r1.f7.r0.r1.-r2.-r3.f7.r2.r3.f7.-r0.-r1.f3.r0.r1.-r2.-r3.f3.r2.r3.f2.-r0.f2.r0.-r3.f2.r3.f2.f1.-r0.-r1.f1.r0.r1.-r2.-r3.f1.r2.r3.f1.-r0.-r1.f1.r0.r1.-r2.-r3.f1.r2.r3\n"
     ]
    },
    {
     "name": "stderr",
     "output_type": "stream",
     "text": [
      "\n"
     ]
    }
   ],
   "source": [
    "state = state3\n",
    "moves_list = []\n",
    "correct_num = count_correct(state, solution_state)\n",
    "max_correct_num = correct_num\n",
    "max_correct_state = []\n",
    "max_correct_moves = ''\n",
    "\n",
    "for key in tqdm.tqdm(solve_dict_rev, total=len(solve_dict_rev)):\n",
    "    state = state3\n",
    "    new_state = Permutation(solve_dict_rev[key])(state)\n",
    "    correct_num = count_correct(new_state, solution_state)\n",
    "    if max_correct_num < correct_num:\n",
    "        max_correct_num = correct_num\n",
    "        max_correct_state = new_state\n",
    "        max_correct_moves = key\n",
    "        print(max_correct_num, max_correct_state, max_correct_moves)\n",
    "print(max_correct_num, max_correct_state, max_correct_moves)"
   ]
  },
  {
   "cell_type": "code",
   "execution_count": 482,
   "id": "00f14ac2-6490-4cf2-9010-2c1cadda793b",
   "metadata": {},
   "outputs": [
    {
     "name": "stdout",
     "output_type": "stream",
     "text": [
      "N0 ;N3 ;N2 ;N5 ;N4 ;N1 ;N7 ;N6 \n",
      "N14;N13;N9 ;N8 ;N11;N12;N10;N15\n",
      "N22;N21;N17;N16;N19;N20;N18;N23\n",
      "N24;N27;N26;N29;N28;N25;N31;N30\n",
      "\n"
     ]
    }
   ],
   "source": [
    "print34(max_correct_state)"
   ]
  },
  {
   "cell_type": "code",
   "execution_count": 483,
   "id": "9ba64b82-8c40-4ebc-930a-d359fba592d5",
   "metadata": {},
   "outputs": [
    {
     "name": "stderr",
     "output_type": "stream",
     "text": [
      "  0%|                                                                                 | 4298/16429825 [00:00<06:25, 42556.03it/s]"
     ]
    },
    {
     "name": "stdout",
     "output_type": "stream",
     "text": [
      "58 ['N0', 'N2', 'N3', 'N5', 'N4', 'N1', 'N7', 'N6', 'N14', 'N9', 'N13', 'N8', 'N11', 'N12', 'N10', 'N15', 'N22', 'N17', 'N21', 'N16', 'N19', 'N20', 'N18', 'N23', 'N24', 'N26', 'N27', 'N29', 'N28', 'N25', 'N31', 'N30'] f2.-r0.-r1.f2.r0.r1.-r2.-r3.f2.r2.r3.f2\n",
      "59 ['N0', 'N2', 'N3', 'N4', 'N5', 'N1', 'N7', 'N6', 'N14', 'N9', 'N13', 'N11', 'N8', 'N12', 'N10', 'N15', 'N22', 'N17', 'N21', 'N19', 'N16', 'N20', 'N18', 'N23', 'N24', 'N26', 'N27', 'N28', 'N29', 'N25', 'N31', 'N30'] f2.-r0.-r1.f2.r0.r1.-r2.-r3.f2.r2.r3.f2.f4.-r0.-r1.f4.r0.r1.-r2.-r3.f4.r2.r3.f4\n",
      "60 ['N0', 'N2', 'N3', 'N4', 'N5', 'N1', 'N7', 'N6', 'N14', 'N9', 'N8', 'N11', 'N13', 'N12', 'N10', 'N15', 'N22', 'N17', 'N16', 'N19', 'N21', 'N20', 'N18', 'N23', 'N24', 'N26', 'N27', 'N28', 'N29', 'N25', 'N31', 'N30'] f2.-r0.-r1.f2.r0.r1.-r2.-r3.f2.r2.r3.f2.f3.-r1.f3.r1.-r2.f3.r2.f3.f4.-r0.-r1.f4.r0.r1.-r2.-r3.f4.r2.r3.f4\n"
     ]
    },
    {
     "name": "stderr",
     "output_type": "stream",
     "text": [
      "  1%|▌                                                                              | 120502/16429825 [00:02<06:07, 44397.99it/s]"
     ]
    },
    {
     "name": "stdout",
     "output_type": "stream",
     "text": [
      "61 ['N0', 'N2', 'N3', 'N4', 'N5', 'N1', 'N7', 'N6', 'N14', 'N8', 'N9', 'N11', 'N13', 'N12', 'N10', 'N15', 'N22', 'N16', 'N17', 'N19', 'N21', 'N20', 'N18', 'N23', 'N24', 'N26', 'N27', 'N28', 'N29', 'N25', 'N31', 'N30'] f2.-r0.-r1.f2.r0.r1.-r2.-r3.f2.r2.r3.f2.f3.-r1.f3.r1.-r2.f3.r2.f3.f2.-r1.f2.r1.-r2.f2.r2.f2.f4.-r0.-r1.f4.r0.r1.-r2.-r3.f4.r2.r3.f4\n"
     ]
    },
    {
     "name": "stderr",
     "output_type": "stream",
     "text": [
      " 76%|██████████████████████████████████████████████████████████▎                  | 12432085/16429825 [04:42<01:30, 43976.98it/s]"
     ]
    },
    {
     "name": "stdout",
     "output_type": "stream",
     "text": [
      "62 ['N0', 'N2', 'N3', 'N4', 'N5', 'N1', 'N6', 'N7', 'N10', 'N8', 'N9', 'N11', 'N13', 'N12', 'N15', 'N14', 'N18', 'N16', 'N17', 'N19', 'N21', 'N20', 'N23', 'N22', 'N24', 'N26', 'N27', 'N28', 'N29', 'N25', 'N30', 'N31'] f2.-r0.-r1.f2.r0.r1.-r2.-r3.f2.r2.r3.f2.f3.-r1.f3.r1.-r2.f3.r2.f3.f2.-r1.f2.r1.-r2.f2.r2.f2.f4.-r0.-r1.f4.r0.r1.-r2.-r3.f4.r2.r3.f4.f7.-r0.-r1.f7.r0.r1.-r2.-r3.f7.r2.r3.f7.f0.-r1.f0.r1.-r2.f0.r2.f0\n"
     ]
    },
    {
     "name": "stderr",
     "output_type": "stream",
     "text": [
      "100%|█████████████████████████████████████████████████████████████████████████████| 16429825/16429825 [06:14<00:00, 43829.20it/s]"
     ]
    },
    {
     "name": "stdout",
     "output_type": "stream",
     "text": [
      "62 ['N0', 'N2', 'N3', 'N4', 'N5', 'N1', 'N6', 'N7', 'N10', 'N8', 'N9', 'N11', 'N13', 'N12', 'N15', 'N14', 'N18', 'N16', 'N17', 'N19', 'N21', 'N20', 'N23', 'N22', 'N24', 'N26', 'N27', 'N28', 'N29', 'N25', 'N30', 'N31'] f2.-r0.-r1.f2.r0.r1.-r2.-r3.f2.r2.r3.f2.f3.-r1.f3.r1.-r2.f3.r2.f3.f2.-r1.f2.r1.-r2.f2.r2.f2.f4.-r0.-r1.f4.r0.r1.-r2.-r3.f4.r2.r3.f4.f7.-r0.-r1.f7.r0.r1.-r2.-r3.f7.r2.r3.f7.f0.-r1.f0.r1.-r2.f0.r2.f0\n"
     ]
    },
    {
     "name": "stderr",
     "output_type": "stream",
     "text": [
      "\n"
     ]
    }
   ],
   "source": [
    "tuning2 = max_correct_state\n",
    "state = tuning2\n",
    "correct_num = count_correct(state, solution_state)\n",
    "max_correct_num = correct_num\n",
    "max_correct_state = []\n",
    "max_correct_moves = ''\n",
    "\n",
    "for key in tqdm.tqdm(solve_dict_rev, total=len(solve_dict_rev)):\n",
    "    state = tuning2\n",
    "    new_state = Permutation(solve_dict_rev[key])(state)\n",
    "    correct_num = count_correct(new_state, solution_state)\n",
    "    if max_correct_num < correct_num:\n",
    "        max_correct_num = correct_num\n",
    "        max_correct_state = new_state\n",
    "        max_correct_moves = key\n",
    "        print(max_correct_num, max_correct_state, max_correct_moves)\n",
    "print(max_correct_num, max_correct_state, max_correct_moves)"
   ]
  },
  {
   "cell_type": "code",
   "execution_count": 484,
   "id": "723876f8-01d9-40c9-ad69-5f230e99f469",
   "metadata": {},
   "outputs": [
    {
     "name": "stdout",
     "output_type": "stream",
     "text": [
      "N0 ;N2 ;N3 ;N4 ;N5 ;N1 ;N6 ;N7 \n",
      "N10;N8 ;N9 ;N11;N13;N12;N15;N14\n",
      "N18;N16;N17;N19;N21;N20;N23;N22\n",
      "N24;N26;N27;N28;N29;N25;N30;N31\n",
      "\n"
     ]
    }
   ],
   "source": [
    "print34(max_correct_state)"
   ]
  },
  {
   "cell_type": "code",
   "execution_count": 485,
   "id": "ec15caf7-773c-4197-a707-b3d1d3846806",
   "metadata": {},
   "outputs": [
    {
     "name": "stderr",
     "output_type": "stream",
     "text": [
      "  0%|                                                                                 | 4389/16429825 [00:00<06:16, 43637.64it/s]"
     ]
    },
    {
     "name": "stdout",
     "output_type": "stream",
     "text": [
      "63 ['N0', 'N2', 'N3', 'N4', 'N5', 'N1', 'N6', 'N7', 'N8', 'N10', 'N9', 'N11', 'N13', 'N12', 'N15', 'N14', 'N16', 'N18', 'N17', 'N19', 'N21', 'N20', 'N23', 'N22', 'N24', 'N26', 'N27', 'N28', 'N29', 'N25', 'N30', 'N31'] f1.-r1.f1.r1.-r2.f1.r2.f1\n"
     ]
    },
    {
     "name": "stderr",
     "output_type": "stream",
     "text": [
      "  1%|▍                                                                               | 94311/16429825 [00:02<06:07, 44406.90it/s]"
     ]
    },
    {
     "name": "stdout",
     "output_type": "stream",
     "text": [
      "64 ['N0', 'N2', 'N1', 'N3', 'N4', 'N5', 'N6', 'N7', 'N8', 'N10', 'N9', 'N12', 'N11', 'N13', 'N15', 'N14', 'N16', 'N18', 'N17', 'N20', 'N19', 'N21', 'N23', 'N22', 'N24', 'N26', 'N25', 'N27', 'N28', 'N29', 'N30', 'N31'] f1.-r1.f1.r1.-r2.f1.r2.f1.f5.-r0.-r1.f5.r0.r1.-r2.-r3.f5.r2.r3.f5.f4.-r0.-r1.f4.r0.r1.-r2.-r3.f4.r2.r3.f4.f3.-r0.f3.r0.-r3.f3.r3.f3\n"
     ]
    },
    {
     "name": "stderr",
     "output_type": "stream",
     "text": [
      "100%|█████████████████████████████████████████████████████████████████████████████| 16429825/16429825 [06:17<00:00, 43573.61it/s]"
     ]
    },
    {
     "name": "stdout",
     "output_type": "stream",
     "text": [
      "64 ['N0', 'N2', 'N1', 'N3', 'N4', 'N5', 'N6', 'N7', 'N8', 'N10', 'N9', 'N12', 'N11', 'N13', 'N15', 'N14', 'N16', 'N18', 'N17', 'N20', 'N19', 'N21', 'N23', 'N22', 'N24', 'N26', 'N25', 'N27', 'N28', 'N29', 'N30', 'N31'] f1.-r1.f1.r1.-r2.f1.r2.f1.f5.-r0.-r1.f5.r0.r1.-r2.-r3.f5.r2.r3.f5.f4.-r0.-r1.f4.r0.r1.-r2.-r3.f4.r2.r3.f4.f3.-r0.f3.r0.-r3.f3.r3.f3\n"
     ]
    },
    {
     "name": "stderr",
     "output_type": "stream",
     "text": [
      "\n"
     ]
    }
   ],
   "source": [
    "tuning3 = max_correct_state\n",
    "state = tuning3\n",
    "correct_num = count_correct(state, solution_state)\n",
    "max_correct_num = correct_num\n",
    "max_correct_state = []\n",
    "max_correct_moves = ''\n",
    "\n",
    "for key in tqdm.tqdm(solve_dict_rev, total=len(solve_dict_rev)):\n",
    "    state = tuning3\n",
    "    new_state = Permutation(solve_dict_rev[key])(state)\n",
    "    correct_num = count_correct(new_state, solution_state)\n",
    "    if max_correct_num < correct_num:\n",
    "        max_correct_num = correct_num\n",
    "        max_correct_state = new_state\n",
    "        max_correct_moves = key\n",
    "        print(max_correct_num, max_correct_state, max_correct_moves)\n",
    "print(max_correct_num, max_correct_state, max_correct_moves)"
   ]
  },
  {
   "cell_type": "code",
   "execution_count": 486,
   "id": "26d63c03-51b6-4efd-99f9-687fc23260c8",
   "metadata": {
    "scrolled": true
   },
   "outputs": [
    {
     "name": "stdout",
     "output_type": "stream",
     "text": [
      "N0 ;N2 ;N1 ;N3 ;N4 ;N5 ;N6 ;N7 \n",
      "N8 ;N10;N9 ;N12;N11;N13;N15;N14\n",
      "N16;N18;N17;N20;N19;N21;N23;N22\n",
      "N24;N26;N25;N27;N28;N29;N30;N31\n",
      "\n"
     ]
    }
   ],
   "source": [
    "print34(max_correct_state)"
   ]
  },
  {
   "cell_type": "code",
   "execution_count": 487,
   "id": "7cfd347c-7eba-412f-8e9c-ecbe5885b095",
   "metadata": {},
   "outputs": [
    {
     "name": "stdout",
     "output_type": "stream",
     "text": [
      "N0 ;N1 ;N2 ;N3 ;N4 ;N5 ;N6 ;N7 \n",
      "N8 ;N9 ;N10;N11;N12;N13;N14;N15\n",
      "N16;N17;N18;N19;N20;N21;N22;N23\n",
      "N24;N25;N26;N27;N28;N29;N30;N31\n",
      "\n"
     ]
    }
   ],
   "source": [
    "tuning4 = max_correct_state\n",
    "state = tuning4\n",
    "\n",
    "state = allowed_moves['f2'](state)\n",
    "state = allowed_moves['-r0'](state)\n",
    "state = allowed_moves['f2'](state)\n",
    "state = allowed_moves['r0'](state)\n",
    "state = allowed_moves['-r3'](state)\n",
    "state = allowed_moves['f2'](state)\n",
    "state = allowed_moves['r3'](state)\n",
    "state = allowed_moves['f2'](state)\n",
    "\n",
    "state = allowed_moves['f2'](state)\n",
    "state = allowed_moves['-r1'](state)\n",
    "state = allowed_moves['f2'](state)\n",
    "state = allowed_moves['r1'](state)\n",
    "state = allowed_moves['-r2'](state)\n",
    "state = allowed_moves['f2'](state)\n",
    "state = allowed_moves['r2'](state)\n",
    "state = allowed_moves['f2'](state)\n",
    "\n",
    "state = allowed_moves['f4'](state)\n",
    "state = allowed_moves['-r1'](state)\n",
    "state = allowed_moves['f4'](state)\n",
    "state = allowed_moves['r1'](state)\n",
    "state = allowed_moves['-r2'](state)\n",
    "state = allowed_moves['f4'](state)\n",
    "state = allowed_moves['r2'](state)\n",
    "state = allowed_moves['f4'](state)\n",
    "\n",
    "state = allowed_moves['f7'](state)\n",
    "state = allowed_moves['-r1'](state)\n",
    "state = allowed_moves['f7'](state)\n",
    "state = allowed_moves['r1'](state)\n",
    "state = allowed_moves['-r2'](state)\n",
    "state = allowed_moves['f7'](state)\n",
    "state = allowed_moves['r2'](state)\n",
    "state = allowed_moves['f7'](state)\n",
    "print34(state)"
   ]
  },
  {
   "cell_type": "code",
   "execution_count": null,
   "id": "b47efe98-eb2f-42ac-b802-318c567f28a7",
   "metadata": {},
   "outputs": [],
   "source": []
  },
  {
   "cell_type": "code",
   "execution_count": null,
   "id": "fa037972-3787-442e-abed-603ff7d7cebb",
   "metadata": {},
   "outputs": [],
   "source": []
  },
  {
   "cell_type": "code",
   "execution_count": null,
   "id": "1d6e7160-4118-43fe-9537-ac4346e47364",
   "metadata": {},
   "outputs": [],
   "source": [
    "tuning4 = max_correct_state\n",
    "state = tuning4\n",
    "correct_num = count_correct(state, solution_state)\n",
    "max_correct_num = correct_num\n",
    "max_correct_state = []\n",
    "max_correct_moves = ''\n",
    "\n",
    "for key in tqdm.tqdm(solve_dict_rev, total=len(solve_dict_rev)):\n",
    "    state = tuning4\n",
    "    new_state = Permutation(solve_dict_rev[key])(state)\n",
    "    correct_num = count_correct(new_state, solution_state)\n",
    "    if max_correct_num < correct_num:\n",
    "        max_correct_num = correct_num\n",
    "        max_correct_state = new_state\n",
    "        max_correct_moves = key\n",
    "        print(max_correct_num, max_correct_state, max_correct_moves)\n",
    "print(max_correct_num, max_correct_state, max_correct_moves)"
   ]
  },
  {
   "cell_type": "code",
   "execution_count": null,
   "id": "79d5e8d3-0b4a-4d88-8cc8-ebb9e5ebab69",
   "metadata": {
    "scrolled": true
   },
   "outputs": [],
   "source": [
    "print34(max_correct_state)"
   ]
  },
  {
   "cell_type": "code",
   "execution_count": null,
   "id": "dca588a3-8927-4767-88b8-3f42ebe31631",
   "metadata": {},
   "outputs": [],
   "source": []
  },
  {
   "cell_type": "code",
   "execution_count": null,
   "id": "c65d118e-42bf-4e92-b2a7-ec759b6cfc51",
   "metadata": {},
   "outputs": [],
   "source": []
  },
  {
   "cell_type": "code",
   "execution_count": null,
   "id": "ce4ecbcb-acb6-42a8-8fb2-be51b076fff0",
   "metadata": {},
   "outputs": [],
   "source": []
  },
  {
   "cell_type": "code",
   "execution_count": null,
   "id": "58e89b98-34b2-486a-ae43-afcfcd11f43a",
   "metadata": {},
   "outputs": [],
   "source": []
  },
  {
   "cell_type": "code",
   "execution_count": null,
   "id": "f0d093f9-c9b8-4429-b67e-cdcba98995ab",
   "metadata": {},
   "outputs": [],
   "source": []
  },
  {
   "cell_type": "code",
   "execution_count": null,
   "id": "2d7d0e8c-a7ef-4500-b459-531b4ffe706e",
   "metadata": {},
   "outputs": [],
   "source": []
  },
  {
   "cell_type": "code",
   "execution_count": null,
   "id": "4afd81a4-2e75-4a90-a415-d79bbb74b90d",
   "metadata": {},
   "outputs": [],
   "source": []
  },
  {
   "cell_type": "code",
   "execution_count": null,
   "id": "c3e644f1-88d3-4ff4-b1eb-0cd1a568d90b",
   "metadata": {},
   "outputs": [],
   "source": []
  },
  {
   "cell_type": "code",
   "execution_count": null,
   "id": "58ae452d-94f0-4ac3-858c-0170bcffca96",
   "metadata": {},
   "outputs": [],
   "source": [
    "# 極の左右入れ替え\n",
    "state = allowed_moves['f2'](state)\n",
    "state = allowed_moves['-r0'](state)\n",
    "state = allowed_moves['f2'](state)\n",
    "state = allowed_moves['r0'](state)\n",
    "state = allowed_moves['-r3'](state)\n",
    "state = allowed_moves['f2'](state)\n",
    "state = allowed_moves['r3'](state)\n",
    "state = allowed_moves['f2'](state)"
   ]
  },
  {
   "cell_type": "code",
   "execution_count": null,
   "id": "f3212e38-fd45-4929-a146-fffbf55c7e62",
   "metadata": {},
   "outputs": [],
   "source": [
    "# 中央の左右入れ替え\n",
    "state = allowed_moves['f2'](state)\n",
    "state = allowed_moves['-r1'](state)\n",
    "state = allowed_moves['f2'](state)\n",
    "state = allowed_moves['r1'](state)\n",
    "state = allowed_moves['-r2'](state)\n",
    "state = allowed_moves['f2'](state)\n",
    "state = allowed_moves['r2'](state)\n",
    "state = allowed_moves['f2'](state)"
   ]
  },
  {
   "cell_type": "code",
   "execution_count": null,
   "id": "b5ea1139-4483-40bd-b9cc-ef0ac01db1a6",
   "metadata": {},
   "outputs": [],
   "source": [
    "# 極の対角線の入れ替え\n",
    "state = allowed_moves['-r0'](state)\n",
    "state = allowed_moves['f4'](state)\n",
    "state = allowed_moves['r0'](state)\n",
    "state = allowed_moves['-r3'](state)\n",
    "state = allowed_moves['f4'](state)\n",
    "state = allowed_moves['r3'](state)"
   ]
  },
  {
   "cell_type": "code",
   "execution_count": null,
   "id": "df9d18f5-0f2d-4060-9da6-775b098db361",
   "metadata": {},
   "outputs": [],
   "source": [
    "# 中央対角線の入れ替え\n",
    "state = allowed_moves['-r1'](state)\n",
    "state = allowed_moves['f4'](state)\n",
    "state = allowed_moves['r1'](state)\n",
    "state = allowed_moves['-r2'](state)\n",
    "state = allowed_moves['f4'](state)\n",
    "state = allowed_moves['r2'](state)"
   ]
  },
  {
   "cell_type": "code",
   "execution_count": null,
   "id": "109c8e07-36a6-4c0e-ba7e-7fe6b75ca453",
   "metadata": {},
   "outputs": [],
   "source": [
    "# 上下を１個だけ変える（同じセルあり）\n",
    "state = allowed_moves['f3'](state)\n",
    "state = allowed_moves['r1'](state)\n",
    "state = allowed_moves['f3'](state)\n",
    "state = allowed_moves['-r1'](state)\n",
    "\n",
    "\n",
    "# 上下を１個だけ変える（同じセルなし）\n",
    "# これをやった後揃えなおす\n",
    "state = allowed_moves['-r1'](state)\n",
    "state = allowed_moves['f2'](state)\n",
    "state = allowed_moves['r2'](state)\n",
    "state = allowed_moves['f2'](state)\n",
    "state = allowed_moves['-r2'](state)\n",
    "print34(state)"
   ]
  }
 ],
 "metadata": {
  "kernelspec": {
   "display_name": "santa2023-py3.11",
   "language": "python",
   "name": "santa2023-py3.11"
  },
  "language_info": {
   "codemirror_mode": {
    "name": "ipython",
    "version": 3
   },
   "file_extension": ".py",
   "mimetype": "text/x-python",
   "name": "python",
   "nbconvert_exporter": "python",
   "pygments_lexer": "ipython3",
   "version": "3.11.1"
  }
 },
 "nbformat": 4,
 "nbformat_minor": 5
}
