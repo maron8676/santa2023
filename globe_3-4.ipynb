{
 "cells": [
  {
   "cell_type": "code",
   "execution_count": 1,
   "id": "7590b9d0",
   "metadata": {},
   "outputs": [],
   "source": [
    "import pickle\n",
    "import time\n",
    "from ast import literal_eval\n",
    "from collections import deque\n",
    "from sys import stdin\n",
    "\n",
    "import pandas as pd\n",
    "import tqdm\n",
    "from sympy.combinatorics import Permutation"
   ]
  },
  {
   "cell_type": "code",
   "execution_count": 2,
   "id": "aa1a3b20-841d-4897-92e7-05f84366321a",
   "metadata": {},
   "outputs": [],
   "source": [
    "with open('globe-3-4-af_rotate.pkl', mode='rb') as f:\n",
    "    solve_dict = pickle.load(f)\n",
    "with open('globe-3-4-af_rotate_rev.pkl', mode='rb') as f:\n",
    "    solve_dict_rev = pickle.load(f)"
   ]
  },
  {
   "cell_type": "code",
   "execution_count": 3,
   "id": "0325c005",
   "metadata": {},
   "outputs": [],
   "source": [
    "puzzle_info = pd.read_csv(\"puzzle_info.csv\", index_col='puzzle_type')\n",
    "puzzles = pd.read_csv(\"puzzles.csv\")\n",
    "sample_submission = pd.read_csv(\"submission_public.csv\", index_col='id')\n",
    "base_moves = [\"r0\", \"-r0\", \"r1\", \"-r1\", \"r2\", \"-r2\", \"r3\", \"-r3\", \"f0\", \"f1\", \"f2\", \"f3\", \"f4\", \"f5\", \"f6\", \"f7\"]"
   ]
  },
  {
   "cell_type": "code",
   "execution_count": 4,
   "id": "7f2dcdde-1ea4-4fe8-b683-d46cd3b34463",
   "metadata": {},
   "outputs": [],
   "source": [
    "globe_3_4type = 'globe_3/4'\n",
    "selected_types = ['globe_3/4']\n",
    "subset = puzzles[puzzles['puzzle_type'].isin(selected_types)]"
   ]
  },
  {
   "cell_type": "code",
   "execution_count": 5,
   "id": "78459453-ce88-4213-b850-08715fe988cf",
   "metadata": {},
   "outputs": [],
   "source": [
    "globe34 = []\n",
    "for index, row in subset.iterrows():\n",
    "    globe34.append(index)"
   ]
  },
  {
   "cell_type": "code",
   "execution_count": 6,
   "id": "0f944aa6-2265-4c8b-a1a0-c8e919dbf623",
   "metadata": {},
   "outputs": [
    {
     "data": {
      "text/plain": [
       "358"
      ]
     },
     "execution_count": 6,
     "metadata": {},
     "output_type": "execute_result"
    }
   ],
   "source": [
    "globe34[0]"
   ]
  },
  {
   "cell_type": "code",
   "execution_count": null,
   "id": "c380660f-64f3-4c20-be3d-3891809c7425",
   "metadata": {},
   "outputs": [],
   "source": []
  },
  {
   "cell_type": "code",
   "execution_count": 7,
   "id": "d9f4e605-3fba-46a8-a033-d517e3a8036a",
   "metadata": {},
   "outputs": [],
   "source": [
    "# globe_3/4の状態数\n",
    "allowed_moves = literal_eval(puzzle_info.loc[globe_3_4type, 'allowed_moves'])\n",
    "allowed_moves = {k: Permutation(v) for k, v in allowed_moves.items()}\n",
    "key_list = list(allowed_moves.keys())\n",
    "for key in key_list:\n",
    "    if key[0] == \"r\":\n",
    "        allowed_moves[\"-\" + key] = allowed_moves[key] ** (-1)"
   ]
  },
  {
   "cell_type": "code",
   "execution_count": null,
   "id": "e3810cc6-38f4-4d11-944a-9ba25fec8a5b",
   "metadata": {},
   "outputs": [],
   "source": []
  },
  {
   "cell_type": "code",
   "execution_count": 226,
   "id": "59a6e16c-ae2a-4b07-8d07-079cfd13003b",
   "metadata": {},
   "outputs": [],
   "source": [
    "moves358 = sample_submission.loc[360]['moves']"
   ]
  },
  {
   "cell_type": "code",
   "execution_count": 227,
   "id": "a64e350c-ab0d-4470-8827-ea4ba32799d9",
   "metadata": {},
   "outputs": [],
   "source": [
    "moves358_nor = moves358.replace('-f', 'f')"
   ]
  },
  {
   "cell_type": "code",
   "execution_count": 228,
   "id": "b5fd08a2-8f90-438e-be57-f7c8b29d1071",
   "metadata": {},
   "outputs": [
    {
     "data": {
      "text/plain": [
       "'r2.r3.f7.f1.-r0.f4.f5.-r1.f3.f4.f1.f2.-r0.f2.f3.-r0.f5.r1.f0.f2.f3.-r3.f7.f2.f3.-r2.f0.f7.f6.-r2.f7.f0.-r3.f7.f4.r0.f1.r3.r1.f5.f4.r0.f1.f7.-r2.-r3.f3.-r3.f3.f4.f2.-r3.f7.f4.-r2.-r3.r0.f4.f2.f4.f3.f6.f0.r1.-r3.f7.r2.-r1.f6.-r3.f7.f5.f3.r1.f7.f1.-r2.-r3.r0.f4.f2.f4.f3.f6.f0.r1.-r3.f1.f7.f1.-r2.r1.f5.f0.-r3.f7.f4.r0.f1.f6.f4.f2.-r0.-r1.f3.f1.-r0.f4.f5.f6.f5.f6.f1.f3.f2.-r3.f7.f4.-r1.f0.f6.f3.f2.-r0.-r1.f3.-r3.f7.f2.f3.f5.-r3.f6.-r0.f7.-r0.f5.f4.f2.-r2.-r3.r0.f6.f7.r2.f1.r0.f1.f0.-r0.f5.f2.f3.r0.f7.r3.f3.f1.-r0.-r3.f7.-r3.f7.f2.f3.r1.-r2.f3.f2.f6.r1.r3.f3.-r0.f1.-r2.f6.r2.f7.r0.f0.-r3.f7.-r1.f3.f1.-r0.f4.f2.-r3.f5.f3.r1.f0.r1.-r3.f4.f5.-r1.f3.f0.-r3.f7.f4.r0.f1.-r0.f2.f3.-r0.f4.f3.-r0.f3.f6.f1.f3.f2.-r3.f7.f4.f5.-r0.f3.f6.r1.f6.f5.f6.f3.f4.f7.f5.f4.f2.f4.f3.f6.f0.r1.f1.f3.r1.f5.f2.-r0.f6.f0.-r3.f7.f4.r0.f1.r3.f3.f5.f4.r0.f1.f3.r0.r1.f7.-r1.f3.f2.f3.-r0.f1.r3.f2.f6.f0.-r3.f7.f4.r0.f1.f0.-r0.f3.f6.r1.f6.-r3.f7.f1.f3.r1.f7.f6.f0.f3.-r0.f1.-r3.f7.f2.f3.-r2.f3.r1.f3.f4.f3.f1.-r3.f0.-r3.f7.f4.r0.f1.f0.-r0.f3.f2.r1.-r2.f6.f5.f4.r0.f7.f2.f4.r3.f1.-r2.f2.f0.r3.f5.r1'"
      ]
     },
     "execution_count": 228,
     "metadata": {},
     "output_type": "execute_result"
    }
   ],
   "source": [
    "moves358_nor"
   ]
  },
  {
   "cell_type": "code",
   "execution_count": null,
   "id": "9927d76c-0867-4bba-a233-68c9b2cca3ce",
   "metadata": {},
   "outputs": [],
   "source": []
  },
  {
   "cell_type": "code",
   "execution_count": 229,
   "id": "aee7a101-27b7-461d-a1ac-7b4d88bdc79f",
   "metadata": {},
   "outputs": [],
   "source": [
    "def print34(state):\n",
    "    for i in range(4):\n",
    "        temp = []\n",
    "        for j in range(i*8,(i+1)*8):\n",
    "            temp.append(f\"{state[j]:3}\")\n",
    "        print(';'.join(temp))\n",
    "    print()"
   ]
  },
  {
   "cell_type": "code",
   "execution_count": 236,
   "id": "38a24fff-c7e3-4258-82a1-076bdc47dedd",
   "metadata": {},
   "outputs": [
    {
     "name": "stdout",
     "output_type": "stream",
     "text": [
      "N0 ;N1 ;N2 ;N3 ;N4 ;N5 ;N6 ;N7 \n",
      "N8 ;N9 ;N10;N11;N12;N13;N14;N15\n",
      "N16;N17;N18;N19;N20;N21;N22;N23\n",
      "N24;N25;N26;N27;N28;N29;N30;N31\n",
      "\n"
     ]
    }
   ],
   "source": [
    "solution_state = subset.loc[370].solution_state.split(';')\n",
    "print34(solution_state)"
   ]
  },
  {
   "cell_type": "code",
   "execution_count": 235,
   "id": "2e1d44f6-3bc4-4f65-8ab5-9f3ddccaf673",
   "metadata": {},
   "outputs": [
    {
     "name": "stdout",
     "output_type": "stream",
     "text": [
      "N24;N6 ;N7 ;N2 ;N29;N5 ;N27;N26\n",
      "N18;N22;N23;N10;N21;N15;N17;N13\n",
      "N8 ;N20;N9 ;N16;N14;N11;N19;N12\n",
      "N3 ;N4 ;N31;N25;N28;N30;N0 ;N1 \n",
      "\n"
     ]
    }
   ],
   "source": [
    "initial_state = subset.loc[370].initial_state.split(';')\n",
    "print34(initial_state)"
   ]
  },
  {
   "cell_type": "code",
   "execution_count": 225,
   "id": "d1badcf5-5922-41c8-a089-35a2c3839a82",
   "metadata": {},
   "outputs": [
    {
     "name": "stdout",
     "output_type": "stream",
     "text": [
      "N24;N6 ;N7 ;N2 ;N29;N5 ;N27;N26\n",
      "N18;N22;N23;N10;N21;N15;N17;N13\n",
      "N8 ;N20;N9 ;N16;N14;N11;N19;N12\n",
      "N3 ;N4 ;N31;N25;N28;N30;N0 ;N1 \n",
      "\n",
      "N24;N6 ;N7 ;N2 ;N0 ;N30;N28;N25\n",
      "N18;N22;N23;N10;N12;N19;N11;N14\n",
      "N8 ;N20;N9 ;N16;N13;N17;N15;N21\n",
      "N3 ;N4 ;N31;N26;N27;N5 ;N29;N1 \n",
      "\n",
      "N24;N26;N31;N4 ;N3 ;N30;N28;N25\n",
      "N18;N13;N16;N9 ;N20;N19;N11;N14\n",
      "N8 ;N12;N10;N23;N22;N17;N15;N21\n",
      "N0 ;N2 ;N7 ;N6 ;N27;N5 ;N29;N1 \n",
      "\n",
      "N0 ;N1 ;N29;N7 ;N2 ;N30;N28;N3 \n",
      "N20;N8 ;N21;N10;N12;N19;N11;N9 \n",
      "N22;N18;N14;N16;N13;N17;N15;N23\n",
      "N24;N25;N4 ;N31;N26;N5 ;N6 ;N27\n",
      "\n",
      "N1 ;N5 ;N29;N7 ;N2 ;N30;N3 ;N0 \n",
      "N20;N8 ;N21;N10;N12;N19;N11;N9 \n",
      "N22;N18;N14;N16;N13;N17;N15;N23\n",
      "N25;N28;N4 ;N31;N26;N6 ;N27;N24\n",
      "\n",
      "N1 ;N5 ;N6 ;N29;N7 ;N2 ;N30;N0 \n",
      "N20;N8 ;N17;N15;N21;N10;N12;N9 \n",
      "N22;N18;N19;N11;N14;N16;N13;N23\n",
      "N25;N28;N3 ;N4 ;N31;N26;N27;N24\n",
      "\n",
      "N1 ;N5 ;N7 ;N29;N6 ;N2 ;N30;N0 \n",
      "N20;N8 ;N17;N15;N21;N10;N12;N9 \n",
      "N22;N18;N19;N11;N14;N16;N13;N23\n",
      "N25;N28;N31;N4 ;N3 ;N26;N27;N24\n",
      "\n",
      "N1 ;N5 ;N0 ;N30;N31;N28;N6 ;N2 \n",
      "N20;N8 ;N11;N9 ;N12;N19;N21;N10\n",
      "N22;N18;N15;N23;N13;N17;N14;N16\n",
      "N25;N29;N24;N27;N7 ;N4 ;N3 ;N26\n",
      "\n",
      "N1 ;N5 ;N0 ;N30;N31;N28;N2 ;N6 \n",
      "N20;N8 ;N11;N9 ;N12;N19;N21;N10\n",
      "N22;N18;N15;N23;N13;N17;N14;N16\n",
      "N25;N29;N24;N27;N7 ;N4 ;N26;N3 \n",
      "\n"
     ]
    }
   ],
   "source": [
    "state = initial_state\n",
    "print34(state)\n",
    "\n",
    "state = allowed_moves['-r3'](state)\n",
    "state = allowed_moves['f4'](state)\n",
    "state = allowed_moves['r3'](state)\n",
    "print34(state)\n",
    "\n",
    "state2 = state\n",
    "# 24"
   ]
  },
  {
   "cell_type": "code",
   "execution_count": null,
   "id": "2160c0c7-0602-4cb0-8dcf-a7f026edf0b5",
   "metadata": {},
   "outputs": [],
   "source": []
  },
  {
   "cell_type": "code",
   "execution_count": null,
   "id": "d261569b-e38f-48bc-ba15-f258de5d00b8",
   "metadata": {},
   "outputs": [],
   "source": []
  },
  {
   "cell_type": "code",
   "execution_count": null,
   "id": "4b2a0b98-af80-49a1-b4df-af24e55c495d",
   "metadata": {},
   "outputs": [],
   "source": []
  },
  {
   "cell_type": "code",
   "execution_count": null,
   "id": "697deb67-4061-47a8-99fd-db25c03a77bb",
   "metadata": {},
   "outputs": [],
   "source": []
  },
  {
   "cell_type": "code",
   "execution_count": null,
   "id": "b28450f0-8c00-4de1-a5f8-454d00ec1f53",
   "metadata": {},
   "outputs": [],
   "source": []
  },
  {
   "cell_type": "code",
   "execution_count": 201,
   "id": "76caef79-640a-44ea-a1a8-4690c6173d61",
   "metadata": {},
   "outputs": [
    {
     "name": "stdout",
     "output_type": "stream",
     "text": [
      "N24;N6 ;N7 ;N2 ;N29;N5 ;N27;N26\n",
      "N18;N22;N23;N10;N21;N15;N17;N13\n",
      "N8 ;N20;N9 ;N16;N14;N11;N19;N12\n",
      "N3 ;N4 ;N31;N25;N28;N30;N0 ;N1 \n",
      "\n",
      "N24;N6 ;N7 ;N2 ;N0 ;N30;N28;N25\n",
      "N18;N22;N23;N10;N12;N19;N11;N14\n",
      "N8 ;N20;N9 ;N16;N13;N17;N15;N21\n",
      "N3 ;N4 ;N31;N26;N27;N5 ;N29;N1 \n",
      "\n",
      "N24;N26;N31;N4 ;N3 ;N30;N28;N25\n",
      "N18;N13;N16;N9 ;N20;N19;N11;N14\n",
      "N8 ;N12;N10;N23;N22;N17;N15;N21\n",
      "N0 ;N2 ;N7 ;N6 ;N27;N5 ;N29;N1 \n",
      "\n",
      "N0 ;N1 ;N29;N7 ;N2 ;N30;N28;N3 \n",
      "N20;N8 ;N21;N10;N12;N19;N11;N9 \n",
      "N22;N18;N14;N16;N13;N17;N15;N23\n",
      "N24;N25;N4 ;N31;N26;N5 ;N6 ;N27\n",
      "\n",
      "N1 ;N5 ;N29;N7 ;N2 ;N30;N3 ;N0 \n",
      "N20;N8 ;N21;N10;N12;N19;N11;N9 \n",
      "N22;N18;N14;N16;N13;N17;N15;N23\n",
      "N25;N28;N4 ;N31;N26;N6 ;N27;N24\n",
      "\n",
      "N1 ;N5 ;N6 ;N29;N7 ;N2 ;N30;N0 \n",
      "N20;N8 ;N17;N15;N21;N10;N12;N9 \n",
      "N22;N18;N19;N11;N14;N16;N13;N23\n",
      "N25;N28;N3 ;N4 ;N31;N26;N27;N24\n",
      "\n",
      "N1 ;N5 ;N0 ;N30;N3 ;N28;N7 ;N2 \n",
      "N20;N8 ;N11;N9 ;N12;N19;N21;N10\n",
      "N22;N18;N15;N23;N13;N17;N14;N16\n",
      "N25;N29;N24;N27;N6 ;N4 ;N31;N26\n",
      "\n",
      "N27;N1 ;N5 ;N0 ;N30;N28;N7 ;N2 \n",
      "N23;N13;N20;N8 ;N11;N19;N21;N10\n",
      "N9 ;N12;N22;N18;N15;N17;N14;N16\n",
      "N3 ;N25;N29;N24;N6 ;N4 ;N31;N26\n",
      "\n"
     ]
    }
   ],
   "source": [
    "state = initial_state\n",
    "print34(state)\n",
    "\n",
    "state = allowed_moves['-r3'](state)\n",
    "state = allowed_moves['f4'](state)\n",
    "state = allowed_moves['r3'](state)\n",
    "print34(state)\n",
    "\n",
    "state = allowed_moves['-r3'](state)\n",
    "state = allowed_moves['f1'](state)\n",
    "state = allowed_moves['r3'](state)\n",
    "print34(state)\n",
    "\n",
    "state = allowed_moves['f1'](state)\n",
    "state = allowed_moves['-r3'](state)\n",
    "state = allowed_moves['f7'](state)\n",
    "state = allowed_moves['r3'](state)\n",
    "print34(state)\n",
    "\n",
    "state = allowed_moves['f6'](state)\n",
    "state = allowed_moves['-r3'](state)\n",
    "state = allowed_moves['f6'](state)\n",
    "state = allowed_moves['r3'](state)\n",
    "print34(state)\n",
    "\n",
    "state = allowed_moves['f2'](state)\n",
    "state = allowed_moves['-r3'](state)\n",
    "state = allowed_moves['f3'](state)\n",
    "state = allowed_moves['r3'](state)\n",
    "print34(state)\n",
    "\n",
    "state = allowed_moves['f3'](state)\n",
    "state = allowed_moves['f4'](state)\n",
    "state = allowed_moves['-r3'](state)\n",
    "state = allowed_moves['f2'](state)\n",
    "state = allowed_moves['r3'](state)\n",
    "print34(state)\n",
    "\n",
    "state = allowed_moves['f0'](state)\n",
    "state = allowed_moves['-r3'](state)\n",
    "state = allowed_moves['f1'](state)\n",
    "state = allowed_moves['r3'](state)\n",
    "print34(state)\n",
    "\n",
    "state2 = state\n",
    "# 24"
   ]
  },
  {
   "cell_type": "code",
   "execution_count": 205,
   "id": "9dc3b683-04e1-45be-ab88-41732c9929ff",
   "metadata": {},
   "outputs": [
    {
     "name": "stdout",
     "output_type": "stream",
     "text": [
      "N27;N1 ;N5 ;N0 ;N30;N28;N7 ;N2 \n",
      "N23;N13;N20;N8 ;N11;N19;N21;N10\n",
      "N9 ;N12;N22;N18;N15;N17;N14;N16\n",
      "N3 ;N25;N29;N24;N6 ;N4 ;N31;N26\n",
      "\n",
      "N24;N28;N7 ;N3 ;N30;N29;N25;N2 \n",
      "N15;N21;N10;N9 ;N11;N12;N18;N22\n",
      "N17;N14;N16;N23;N19;N13;N20;N8 \n",
      "N0 ;N4 ;N31;N27;N6 ;N5 ;N1 ;N26\n",
      "\n",
      "N24;N28;N7 ;N3 ;N30;N29;N25;N2 \n",
      "N21;N13;N10;N9 ;N11;N12;N22;N15\n",
      "N14;N18;N16;N23;N19;N20;N8 ;N17\n",
      "N0 ;N4 ;N31;N27;N6 ;N5 ;N1 ;N26\n",
      "\n",
      "N26;N1 ;N7 ;N28;N5 ;N6 ;N27;N0 \n",
      "N17;N8 ;N10;N20;N19;N23;N16;N14\n",
      "N15;N22;N18;N12;N11;N9 ;N13;N21\n",
      "N2 ;N25;N31;N4 ;N29;N30;N3 ;N24\n",
      "\n",
      "N26;N6 ;N27;N31;N25;N29;N4 ;N0 \n",
      "N17;N16;N18;N22;N15;N11;N12;N14\n",
      "N9 ;N13;N10;N8 ;N23;N19;N20;N21\n",
      "N2 ;N30;N3 ;N7 ;N1 ;N5 ;N28;N24\n",
      "\n",
      "N26;N6 ;N27;N31;N24;N28;N5 ;N1 \n",
      "N17;N16;N18;N22;N20;N19;N23;N8 \n",
      "N9 ;N13;N10;N14;N12;N11;N15;N21\n",
      "N2 ;N30;N3 ;N7 ;N0 ;N4 ;N29;N25\n",
      "\n",
      "N30;N28;N7 ;N3 ;N26;N0 ;N5 ;N1 \n",
      "N19;N20;N14;N10;N13;N17;N23;N8 \n",
      "N11;N12;N22;N18;N21;N9 ;N15;N16\n",
      "N6 ;N4 ;N31;N27;N2 ;N24;N29;N25\n",
      "\n",
      "N30;N28;N26;N7 ;N3 ;N0 ;N5 ;N1 \n",
      "N19;N20;N14;N10;N13;N17;N23;N8 \n",
      "N11;N12;N22;N18;N21;N9 ;N15;N16\n",
      "N6 ;N4 ;N2 ;N31;N27;N24;N29;N25\n",
      "\n"
     ]
    }
   ],
   "source": [
    "print34(state2)\n",
    "state = state2\n",
    "\n",
    "state = allowed_moves['f0'](state)\n",
    "state = allowed_moves['f5'](state)\n",
    "state = allowed_moves['-r2'](state)\n",
    "state = allowed_moves['f6'](state)\n",
    "state = allowed_moves['r2'](state)\n",
    "state = allowed_moves['f6'](state)\n",
    "state = allowed_moves['f7'](state)\n",
    "state = allowed_moves['-r2'](state)\n",
    "state = allowed_moves['f5'](state)\n",
    "state = allowed_moves['r2'](state)\n",
    "print34(state)\n",
    "\n",
    "state = allowed_moves['f6'](state)\n",
    "state = allowed_moves['-r2'](state)\n",
    "state = allowed_moves['f6'](state)\n",
    "state = allowed_moves['r2'](state)\n",
    "print34(state)\n",
    "\n",
    "state = allowed_moves['f6'](state)\n",
    "state = allowed_moves['-r2'](state)\n",
    "state = allowed_moves['f3'](state)\n",
    "state = allowed_moves['r2'](state)\n",
    "print34(state)\n",
    "\n",
    "state = allowed_moves['f3'](state)\n",
    "state = allowed_moves['-r2'](state)\n",
    "state = allowed_moves['f1'](state)\n",
    "state = allowed_moves['r2'](state)\n",
    "print34(state)\n",
    "\n",
    "state = allowed_moves['-r2'](state)\n",
    "state = allowed_moves['f4'](state)\n",
    "state = allowed_moves['r2'](state)\n",
    "print34(state)\n",
    "\n",
    "state = allowed_moves['f1'](state)\n",
    "state = allowed_moves['f2'](state)\n",
    "state = allowed_moves['-r2'](state)\n",
    "state = allowed_moves['f0'](state)\n",
    "state = allowed_moves['r2'](state)\n",
    "state = allowed_moves['f2'](state)\n",
    "print34(state)\n",
    "\n",
    "# 向き\n",
    "state = allowed_moves['f4'](state)\n",
    "state = allowed_moves['-r0'](state)\n",
    "state = allowed_moves['f4'](state)\n",
    "state = allowed_moves['r0'](state)\n",
    "state = allowed_moves['-r3'](state)\n",
    "state = allowed_moves['f4'](state)\n",
    "state = allowed_moves['r3'](state)\n",
    "state = allowed_moves['f4'](state)\n",
    "\n",
    "state = allowed_moves['f3'](state)\n",
    "state = allowed_moves['-r0'](state)\n",
    "state = allowed_moves['f3'](state)\n",
    "state = allowed_moves['r0'](state)\n",
    "state = allowed_moves['-r3'](state)\n",
    "state = allowed_moves['f3'](state)\n",
    "state = allowed_moves['r3'](state)\n",
    "state = allowed_moves['f3'](state)\n",
    "print34(state)\n",
    "\n",
    "state3 = state\n",
    "# 35"
   ]
  },
  {
   "cell_type": "code",
   "execution_count": 113,
   "id": "92651d42-bdef-4d8d-a9ee-a11b50afc0f6",
   "metadata": {},
   "outputs": [],
   "source": [
    "def count_pair(state, r, f):\n",
    "    count = 0\n",
    "    for i in range(r + 1):\n",
    "        for j in range(f * 2):\n",
    "            if state[i * f * 2 + j] == state[i * f * 2 + (j + 1) % (f * 2)]:\n",
    "                count += 1\n",
    "\n",
    "    return count\n",
    "\n",
    "\n",
    "def count_correct(state, correct):\n",
    "    count = 0\n",
    "    for i in range(8):\n",
    "        # count += state[i] == correct[i] and state[i+24] == correct[i+24]\n",
    "        # count += (state[i] < state[i+24]) * 3\n",
    "        count += (int(state[i][1:]) < int(state[i+24][1:])) * 3\n",
    "        count += abs(int(state[i][1:]) - int(correct[i][1:])) <= 1\n",
    "    for i in range(8, 16):\n",
    "        # count += state[i] == correct[i] and state[i+8] == correct[i+8]\n",
    "        # count += (state[i] < state[i+8]) * 3\n",
    "        count += (int(state[i][1:]) < int(state[i+8][1:])) * 3\n",
    "        count += abs(int(state[i][1:]) - int(correct[i][1:])) <= 1\n",
    "    return count"
   ]
  },
  {
   "cell_type": "code",
   "execution_count": 114,
   "id": "a8534e61-a99f-47b5-8db4-0ebb87939356",
   "metadata": {},
   "outputs": [
    {
     "name": "stderr",
     "output_type": "stream",
     "text": [
      "  0%|                                                                                 | 6702/16429825 [00:00<07:54, 34592.79it/s]"
     ]
    },
    {
     "name": "stdout",
     "output_type": "stream",
     "text": [
      "20 ['N1', 'N28', 'N24', 'N2', 'N27', 'N31', 'N5', 'N30', 'N8', 'N20', 'N9', 'N21', 'N18', 'N22', 'N23', 'N19', 'N16', 'N12', 'N17', 'N13', 'N10', 'N14', 'N15', 'N11', 'N25', 'N4', 'N0', 'N26', 'N3', 'N7', 'N29', 'N6'] f0.-r0.-r1.f0.r0.r1.-r2.-r3.f0.r2.r3.f0\n",
      "31 ['N3', 'N28', 'N24', 'N2', 'N6', 'N31', 'N5', 'N1', 'N10', 'N20', 'N9', 'N21', 'N11', 'N22', 'N23', 'N8', 'N18', 'N12', 'N17', 'N13', 'N19', 'N14', 'N15', 'N16', 'N27', 'N4', 'N0', 'N26', 'N30', 'N7', 'N29', 'N25'] -r0.-r1.f1.r0.r1.-r2.-r3.f1.r2.r3\n",
      "32 ['N30', 'N7', 'N24', 'N2', 'N27', 'N4', 'N5', 'N1', 'N19', 'N14', 'N9', 'N21', 'N18', 'N12', 'N23', 'N8', 'N11', 'N22', 'N17', 'N13', 'N10', 'N20', 'N15', 'N16', 'N6', 'N31', 'N0', 'N26', 'N3', 'N28', 'N29', 'N25'] -r0.-r1.f2.r0.r1.-r2.-r3.f2.r2.r3\n",
      "34 ['N1', 'N7', 'N24', 'N2', 'N27', 'N4', 'N5', 'N30', 'N8', 'N14', 'N9', 'N21', 'N18', 'N12', 'N23', 'N19', 'N16', 'N22', 'N17', 'N13', 'N10', 'N20', 'N15', 'N11', 'N25', 'N31', 'N0', 'N26', 'N3', 'N28', 'N29', 'N6'] f0.-r0.-r1.f0.r0.r1.-r2.-r3.f0.r2.r3.f0.-r0.-r1.f2.r0.r1.-r2.-r3.f2.r2.r3\n",
      "45 ['N3', 'N7', 'N24', 'N2', 'N6', 'N4', 'N5', 'N1', 'N10', 'N14', 'N9', 'N21', 'N11', 'N12', 'N23', 'N8', 'N18', 'N22', 'N17', 'N13', 'N19', 'N20', 'N15', 'N16', 'N27', 'N31', 'N0', 'N26', 'N30', 'N28', 'N29', 'N25'] -r0.-r1.f1.r0.r1.-r2.-r3.f1.r2.r3.-r0.-r1.f2.r0.r1.-r2.-r3.f2.r2.r3\n",
      "46 ['N3', 'N7', 'N24', 'N2', 'N4', 'N6', 'N5', 'N1', 'N10', 'N14', 'N9', 'N21', 'N11', 'N12', 'N23', 'N8', 'N18', 'N22', 'N17', 'N13', 'N19', 'N20', 'N15', 'N16', 'N27', 'N31', 'N0', 'N26', 'N28', 'N30', 'N29', 'N25'] f1.-r0.f1.r0.-r3.f1.r3.f1.-r0.-r1.f1.r0.r1.-r2.-r3.f1.r2.r3.-r0.-r1.f2.r0.r1.-r2.-r3.f2.r2.r3\n",
      "47 ['N1', 'N7', 'N24', 'N2', 'N6', 'N4', 'N5', 'N3', 'N8', 'N14', 'N9', 'N21', 'N11', 'N12', 'N23', 'N10', 'N16', 'N22', 'N17', 'N13', 'N19', 'N20', 'N15', 'N18', 'N25', 'N31', 'N0', 'N26', 'N30', 'N28', 'N29', 'N27'] -r0.-r1.f1.r0.r1.-r2.-r3.f1.r2.r3.f0.-r0.-r1.f0.r0.r1.-r2.-r3.f0.r2.r3.f0.-r0.-r1.f2.r0.r1.-r2.-r3.f2.r2.r3\n"
     ]
    },
    {
     "name": "stderr",
     "output_type": "stream",
     "text": [
      "  0%|▍                                                                               | 80995/16429825 [00:02<06:46, 40177.30it/s]"
     ]
    },
    {
     "name": "stdout",
     "output_type": "stream",
     "text": [
      "48 ['N1', 'N7', 'N24', 'N2', 'N4', 'N6', 'N5', 'N3', 'N8', 'N14', 'N9', 'N21', 'N11', 'N12', 'N23', 'N10', 'N16', 'N22', 'N17', 'N13', 'N19', 'N20', 'N15', 'N18', 'N25', 'N31', 'N0', 'N26', 'N28', 'N30', 'N29', 'N27'] f1.-r0.f1.r0.-r3.f1.r3.f1.-r0.-r1.f1.r0.r1.-r2.-r3.f1.r2.r3.f0.-r0.-r1.f0.r0.r1.-r2.-r3.f0.r2.r3.f0.-r0.-r1.f2.r0.r1.-r2.-r3.f2.r2.r3\n"
     ]
    },
    {
     "name": "stderr",
     "output_type": "stream",
     "text": [
      "  1%|▍                                                                              | 101905/16429825 [00:02<06:30, 41804.59it/s]"
     ]
    },
    {
     "name": "stdout",
     "output_type": "stream",
     "text": [
      "50 ['N1', 'N3', 'N24', 'N2', 'N6', 'N4', 'N5', 'N7', 'N8', 'N10', 'N9', 'N21', 'N11', 'N12', 'N23', 'N14', 'N16', 'N18', 'N17', 'N13', 'N19', 'N20', 'N15', 'N22', 'N25', 'N27', 'N0', 'N26', 'N30', 'N28', 'N29', 'N31'] -r0.-r1.f1.r0.r1.-r2.-r3.f1.r2.r3.-r0.-r1.f2.r0.r1.-r2.-r3.f2.r2.r3.f1.-r0.-r1.f1.r0.r1.-r2.-r3.f1.r2.r3.f1.f0.-r0.-r1.f0.r0.r1.-r2.-r3.f0.r2.r3.f0\n",
      "51 ['N3', 'N7', 'N2', 'N24', 'N6', 'N4', 'N5', 'N1', 'N10', 'N14', 'N15', 'N9', 'N11', 'N12', 'N13', 'N8', 'N18', 'N22', 'N23', 'N17', 'N19', 'N20', 'N21', 'N16', 'N27', 'N31', 'N26', 'N0', 'N30', 'N28', 'N29', 'N25'] -r0.-r1.f1.r0.r1.-r2.-r3.f1.r2.r3.-r0.-r1.f2.r0.r1.-r2.-r3.f2.r2.r3.f3.-r0.-r1.f3.r0.r1.-r2.-r3.f3.r2.r3.f3.-r1.f3.r1.-r2.f3.r2\n"
     ]
    },
    {
     "name": "stderr",
     "output_type": "stream",
     "text": [
      "  3%|██▋                                                                            | 554237/16429825 [00:13<06:42, 39487.19it/s]"
     ]
    },
    {
     "name": "stdout",
     "output_type": "stream",
     "text": [
      "52 ['N3', 'N7', 'N24', 'N2', 'N6', 'N4', 'N5', 'N1', 'N10', 'N14', 'N9', 'N15', 'N11', 'N12', 'N13', 'N8', 'N18', 'N22', 'N17', 'N23', 'N19', 'N20', 'N21', 'N16', 'N27', 'N31', 'N0', 'N26', 'N30', 'N28', 'N29', 'N25'] -r0.-r1.f0.r0.r1.-r2.-r3.f0.r2.r3.-r0.-r1.f1.r0.r1.-r2.-r3.f1.r2.r3.-r0.-r1.f2.r0.r1.-r2.-r3.f2.r2.r3.f7.-r1.f7.r1.-r2.f7.r2.f7.-r0.-r1.f0.r0.r1.-r2.-r3.f0.r2.r3\n"
     ]
    },
    {
     "name": "stderr",
     "output_type": "stream",
     "text": [
      "  6%|█████                                                                         | 1055947/16429825 [00:26<07:51, 32599.88it/s]"
     ]
    },
    {
     "name": "stdout",
     "output_type": "stream",
     "text": [
      "53 ['N1', 'N7', 'N2', 'N24', 'N6', 'N4', 'N5', 'N3', 'N8', 'N14', 'N15', 'N9', 'N11', 'N12', 'N13', 'N10', 'N16', 'N22', 'N23', 'N17', 'N19', 'N20', 'N21', 'N18', 'N25', 'N31', 'N26', 'N0', 'N30', 'N28', 'N29', 'N27'] -r0.-r1.f1.r0.r1.-r2.-r3.f1.r2.r3.f0.-r0.-r1.f0.r0.r1.-r2.-r3.f0.r2.r3.f0.-r0.-r1.f2.r0.r1.-r2.-r3.f2.r2.r3.f3.-r0.-r1.f3.r0.r1.-r2.-r3.f3.r2.r3.f3.-r1.f3.r1.-r2.f3.r2\n"
     ]
    },
    {
     "name": "stderr",
     "output_type": "stream",
     "text": [
      " 11%|████████▋                                                                     | 1839653/16429825 [00:47<06:45, 35974.58it/s]"
     ]
    },
    {
     "name": "stdout",
     "output_type": "stream",
     "text": [
      "54 ['N1', 'N7', 'N24', 'N2', 'N6', 'N4', 'N5', 'N3', 'N8', 'N14', 'N9', 'N15', 'N11', 'N12', 'N13', 'N10', 'N16', 'N22', 'N17', 'N23', 'N19', 'N20', 'N21', 'N18', 'N25', 'N31', 'N0', 'N26', 'N30', 'N28', 'N29', 'N27'] f0.-r0.-r1.f0.r0.r1.-r2.-r3.f0.r2.r3.f0.-r0.-r1.f0.r0.r1.-r2.-r3.f0.r2.r3.-r0.-r1.f2.r0.r1.-r2.-r3.f2.r2.r3.f4.-r0.-r1.f4.r0.r1.-r2.-r3.f4.r2.r3.f4.f7.-r1.f7.r1.-r2.f7.r2.f7.-r0.-r1.f0.r0.r1.-r2.-r3.f0.r2.r3\n"
     ]
    },
    {
     "name": "stderr",
     "output_type": "stream",
     "text": [
      " 65%|██████████████████████████████████████████████████▎                          | 10746494/16429825 [04:38<02:23, 39545.45it/s]"
     ]
    },
    {
     "name": "stdout",
     "output_type": "stream",
     "text": [
      "56 ['N1', 'N3', 'N2', 'N24', 'N6', 'N4', 'N5', 'N7', 'N8', 'N10', 'N15', 'N9', 'N11', 'N12', 'N13', 'N14', 'N16', 'N18', 'N23', 'N17', 'N19', 'N20', 'N21', 'N22', 'N25', 'N27', 'N26', 'N0', 'N30', 'N28', 'N29', 'N31'] -r0.-r1.f1.r0.r1.-r2.-r3.f1.r2.r3.-r0.-r1.f2.r0.r1.-r2.-r3.f2.r2.r3.f1.-r0.-r1.f1.r0.r1.-r2.-r3.f1.r2.r3.f1.f0.-r0.-r1.f0.r0.r1.-r2.-r3.f0.r2.r3.f0.f3.-r0.-r1.f3.r0.r1.-r2.-r3.f3.r2.r3.f3.-r1.f3.r1.-r2.f3.r2\n"
     ]
    },
    {
     "name": "stderr",
     "output_type": "stream",
     "text": [
      "100%|█████████████████████████████████████████████████████████████████████████████| 16429825/16429825 [07:07<00:00, 38456.94it/s]\n"
     ]
    },
    {
     "name": "stdout",
     "output_type": "stream",
     "text": [
      "56 ['N1', 'N3', 'N2', 'N24', 'N6', 'N4', 'N5', 'N7', 'N8', 'N10', 'N15', 'N9', 'N11', 'N12', 'N13', 'N14', 'N16', 'N18', 'N23', 'N17', 'N19', 'N20', 'N21', 'N22', 'N25', 'N27', 'N26', 'N0', 'N30', 'N28', 'N29', 'N31'] -r0.-r1.f1.r0.r1.-r2.-r3.f1.r2.r3.-r0.-r1.f2.r0.r1.-r2.-r3.f2.r2.r3.f1.-r0.-r1.f1.r0.r1.-r2.-r3.f1.r2.r3.f1.f0.-r0.-r1.f0.r0.r1.-r2.-r3.f0.r2.r3.f0.f3.-r0.-r1.f3.r0.r1.-r2.-r3.f3.r2.r3.f3.-r1.f3.r1.-r2.f3.r2\n"
     ]
    }
   ],
   "source": [
    "state = state3\n",
    "moves_list = []\n",
    "correct_num = count_correct(state, solution_state)\n",
    "max_correct_num = correct_num\n",
    "max_correct_state = []\n",
    "max_correct_moves = ''\n",
    "\n",
    "for key in tqdm.tqdm(solve_dict_rev, total=len(solve_dict_rev)):\n",
    "    state = state3\n",
    "    new_state = Permutation(solve_dict_rev[key])(state)\n",
    "    correct_num = count_correct(new_state, solution_state)\n",
    "    if max_correct_num < correct_num:\n",
    "        max_correct_num = correct_num\n",
    "        max_correct_state = new_state\n",
    "        max_correct_moves = key\n",
    "        print(max_correct_num, max_correct_state, max_correct_moves)\n",
    "print(max_correct_num, max_correct_state, max_correct_moves)"
   ]
  },
  {
   "cell_type": "code",
   "execution_count": 115,
   "id": "b5f4d646-b8b2-4d09-b92e-fe660b648efe",
   "metadata": {},
   "outputs": [
    {
     "name": "stdout",
     "output_type": "stream",
     "text": [
      "N1;N3;N2;N24;N6;N4;N5;N7\n",
      "N8;N10;N15;N9;N11;N12;N13;N14\n",
      "N16;N18;N23;N17;N19;N20;N21;N22\n",
      "N25;N27;N26;N0;N30;N28;N29;N31\n",
      "\n"
     ]
    }
   ],
   "source": [
    "print34(max_correct_state)"
   ]
  },
  {
   "cell_type": "code",
   "execution_count": 116,
   "id": "71f67019-515a-412f-9b14-f544f9fc614a",
   "metadata": {},
   "outputs": [
    {
     "name": "stderr",
     "output_type": "stream",
     "text": [
      "  0%|                                                                                 | 8080/16429825 [00:00<07:02, 38827.79it/s]"
     ]
    },
    {
     "name": "stdout",
     "output_type": "stream",
     "text": [
      "57 ['N1', 'N2', 'N3', 'N24', 'N6', 'N4', 'N5', 'N7', 'N8', 'N15', 'N10', 'N9', 'N11', 'N12', 'N13', 'N14', 'N16', 'N23', 'N18', 'N17', 'N19', 'N20', 'N21', 'N22', 'N25', 'N26', 'N27', 'N0', 'N30', 'N28', 'N29', 'N31'] f2.-r0.-r1.f2.r0.r1.-r2.-r3.f2.r2.r3.f2\n",
      "58 ['N1', 'N2', 'N24', 'N3', 'N6', 'N4', 'N5', 'N7', 'N8', 'N15', 'N9', 'N10', 'N11', 'N12', 'N13', 'N14', 'N16', 'N23', 'N17', 'N18', 'N19', 'N20', 'N21', 'N22', 'N25', 'N26', 'N0', 'N27', 'N30', 'N28', 'N29', 'N31'] f2.-r0.-r1.f2.r0.r1.-r2.-r3.f2.r2.r3.f2.f3.-r0.-r1.f3.r0.r1.-r2.-r3.f3.r2.r3.f3\n",
      "59 ['N1', 'N2', 'N24', 'N3', 'N4', 'N6', 'N5', 'N7', 'N8', 'N15', 'N9', 'N10', 'N11', 'N12', 'N13', 'N14', 'N16', 'N23', 'N17', 'N18', 'N19', 'N20', 'N21', 'N22', 'N25', 'N26', 'N0', 'N27', 'N28', 'N30', 'N29', 'N31'] f2.-r0.-r1.f2.r0.r1.-r2.-r3.f2.r2.r3.f2.f3.-r0.-r1.f3.r0.r1.-r2.-r3.f3.r2.r3.f3.f5.-r0.f5.r0.-r3.f5.r3.f5\n"
     ]
    },
    {
     "name": "stderr",
     "output_type": "stream",
     "text": [
      "  8%|██████▎                                                                       | 1327608/16429825 [00:33<06:12, 40595.19it/s]"
     ]
    },
    {
     "name": "stdout",
     "output_type": "stream",
     "text": [
      "60 ['N1', 'N2', 'N24', 'N3', 'N4', 'N5', 'N6', 'N7', 'N8', 'N10', 'N9', 'N11', 'N12', 'N13', 'N15', 'N14', 'N16', 'N18', 'N17', 'N19', 'N20', 'N21', 'N23', 'N22', 'N25', 'N26', 'N0', 'N27', 'N28', 'N29', 'N30', 'N31'] f2.-r0.f2.r0.-r3.f2.r3.f2.f3.-r0.-r1.f3.r0.r1.-r2.-r3.f3.r2.r3.f3.f4.-r1.f4.r1.-r2.f4.r2.f4.f5.-r0.-r1.f5.r0.r1.-r2.-r3.f5.r2.r3.f5.f6.-r0.-r1.f6.r0.r1.-r2.-r3.f6.r2.r3.f6\n"
     ]
    },
    {
     "name": "stderr",
     "output_type": "stream",
     "text": [
      " 35%|███████████████████████████▏                                                  | 5720318/16429825 [02:26<04:34, 38970.56it/s]\n"
     ]
    },
    {
     "ename": "KeyboardInterrupt",
     "evalue": "",
     "output_type": "error",
     "traceback": [
      "\u001b[1;31m---------------------------------------------------------------------------\u001b[0m",
      "\u001b[1;31mKeyboardInterrupt\u001b[0m                         Traceback (most recent call last)",
      "Cell \u001b[1;32mIn[116], line 10\u001b[0m\n\u001b[0;32m      8\u001b[0m \u001b[38;5;28;01mfor\u001b[39;00m key \u001b[38;5;129;01min\u001b[39;00m tqdm\u001b[38;5;241m.\u001b[39mtqdm(solve_dict_rev, total\u001b[38;5;241m=\u001b[39m\u001b[38;5;28mlen\u001b[39m(solve_dict_rev)):\n\u001b[0;32m      9\u001b[0m     state \u001b[38;5;241m=\u001b[39m tuning2\n\u001b[1;32m---> 10\u001b[0m     new_state \u001b[38;5;241m=\u001b[39m \u001b[43mPermutation\u001b[49m\u001b[43m(\u001b[49m\u001b[43msolve_dict_rev\u001b[49m\u001b[43m[\u001b[49m\u001b[43mkey\u001b[49m\u001b[43m]\u001b[49m\u001b[43m)\u001b[49m(state)\n\u001b[0;32m     11\u001b[0m     correct_num \u001b[38;5;241m=\u001b[39m count_correct(new_state, solution_state)\n\u001b[0;32m     12\u001b[0m     \u001b[38;5;28;01mif\u001b[39;00m max_correct_num \u001b[38;5;241m<\u001b[39m correct_num:\n",
      "File \u001b[1;32mF:\\AcroWorks\\work\\kaggle\\santa2023\\.venv\\Lib\\site-packages\\sympy\\combinatorics\\permutations.py:991\u001b[0m, in \u001b[0;36mPermutation.__new__\u001b[1;34m(cls, size, *args, **kwargs)\u001b[0m\n\u001b[0;32m    989\u001b[0m     args \u001b[38;5;241m=\u001b[39m [[\u001b[38;5;28mint\u001b[39m(i) \u001b[38;5;28;01mfor\u001b[39;00m i \u001b[38;5;129;01min\u001b[39;00m c] \u001b[38;5;28;01mfor\u001b[39;00m c \u001b[38;5;129;01min\u001b[39;00m args]\n\u001b[0;32m    990\u001b[0m \u001b[38;5;28;01melse\u001b[39;00m:  \u001b[38;5;66;03m# d\u001b[39;00m\n\u001b[1;32m--> 991\u001b[0m     args \u001b[38;5;241m=\u001b[39m \u001b[43m[\u001b[49m\u001b[38;5;28;43mint\u001b[39;49m\u001b[43m(\u001b[49m\u001b[43mi\u001b[49m\u001b[43m)\u001b[49m\u001b[43m \u001b[49m\u001b[38;5;28;43;01mfor\u001b[39;49;00m\u001b[43m \u001b[49m\u001b[43mi\u001b[49m\u001b[43m \u001b[49m\u001b[38;5;129;43;01min\u001b[39;49;00m\u001b[43m \u001b[49m\u001b[43margs\u001b[49m\u001b[43m]\u001b[49m\n\u001b[0;32m    993\u001b[0m \u001b[38;5;66;03m# if there are n elements present, 0, 1, ..., n-1 should be present\u001b[39;00m\n\u001b[0;32m    994\u001b[0m \u001b[38;5;66;03m# unless a cycle notation has been provided. A 0 will be added\u001b[39;00m\n\u001b[0;32m    995\u001b[0m \u001b[38;5;66;03m# for convenience in case one wants to enter permutations where\u001b[39;00m\n\u001b[0;32m    996\u001b[0m \u001b[38;5;66;03m# counting starts from 1.\u001b[39;00m\n\u001b[0;32m    998\u001b[0m temp \u001b[38;5;241m=\u001b[39m flatten(args)\n",
      "File \u001b[1;32mF:\\AcroWorks\\work\\kaggle\\santa2023\\.venv\\Lib\\site-packages\\sympy\\combinatorics\\permutations.py:991\u001b[0m, in \u001b[0;36m<listcomp>\u001b[1;34m(.0)\u001b[0m\n\u001b[0;32m    989\u001b[0m     args \u001b[38;5;241m=\u001b[39m [[\u001b[38;5;28mint\u001b[39m(i) \u001b[38;5;28;01mfor\u001b[39;00m i \u001b[38;5;129;01min\u001b[39;00m c] \u001b[38;5;28;01mfor\u001b[39;00m c \u001b[38;5;129;01min\u001b[39;00m args]\n\u001b[0;32m    990\u001b[0m \u001b[38;5;28;01melse\u001b[39;00m:  \u001b[38;5;66;03m# d\u001b[39;00m\n\u001b[1;32m--> 991\u001b[0m     args \u001b[38;5;241m=\u001b[39m [\u001b[38;5;28mint\u001b[39m(i) \u001b[38;5;28;01mfor\u001b[39;00m i \u001b[38;5;129;01min\u001b[39;00m args]\n\u001b[0;32m    993\u001b[0m \u001b[38;5;66;03m# if there are n elements present, 0, 1, ..., n-1 should be present\u001b[39;00m\n\u001b[0;32m    994\u001b[0m \u001b[38;5;66;03m# unless a cycle notation has been provided. A 0 will be added\u001b[39;00m\n\u001b[0;32m    995\u001b[0m \u001b[38;5;66;03m# for convenience in case one wants to enter permutations where\u001b[39;00m\n\u001b[0;32m    996\u001b[0m \u001b[38;5;66;03m# counting starts from 1.\u001b[39;00m\n\u001b[0;32m    998\u001b[0m temp \u001b[38;5;241m=\u001b[39m flatten(args)\n",
      "\u001b[1;31mKeyboardInterrupt\u001b[0m: "
     ]
    }
   ],
   "source": [
    "tuning2 = max_correct_state\n",
    "state = tuning2\n",
    "correct_num = count_correct(state, solution_state)\n",
    "max_correct_num = correct_num\n",
    "max_correct_state = []\n",
    "max_correct_moves = ''\n",
    "\n",
    "for key in tqdm.tqdm(solve_dict_rev, total=len(solve_dict_rev)):\n",
    "    state = tuning2\n",
    "    new_state = Permutation(solve_dict_rev[key])(state)\n",
    "    correct_num = count_correct(new_state, solution_state)\n",
    "    if max_correct_num < correct_num:\n",
    "        max_correct_num = correct_num\n",
    "        max_correct_state = new_state\n",
    "        max_correct_moves = key\n",
    "        print(max_correct_num, max_correct_state, max_correct_moves)\n",
    "print(max_correct_num, max_correct_state, max_correct_moves)"
   ]
  },
  {
   "cell_type": "code",
   "execution_count": null,
   "id": "a12d3ca1-2a29-41a1-8d49-304f5dfafb21",
   "metadata": {},
   "outputs": [],
   "source": [
    "print34(max_correct_state)"
   ]
  },
  {
   "cell_type": "code",
   "execution_count": 22,
   "id": "0b5aba88-662b-4772-ba9b-88279c2471b3",
   "metadata": {},
   "outputs": [
    {
     "name": "stderr",
     "output_type": "stream",
     "text": [
      "  0%|                                                                                | 10761/16429825 [00:00<05:03, 54010.75it/s]"
     ]
    },
    {
     "name": "stdout",
     "output_type": "stream",
     "text": [
      "45 ['A', 'A', 'C', 'C', 'E', 'E', 'G', 'G', 'C', 'A', 'G', 'C', 'E', 'E', 'A', 'G', 'D', 'B', 'H', 'D', 'F', 'F', 'B', 'H', 'B', 'B', 'D', 'D', 'F', 'F', 'H', 'H'] f3.-r0.-r1.f3.r0.r1.-r2.-r3.f3.r2.r3.f3.f4.-r0.f4.r0.-r3.f4.r3.f4\n"
     ]
    },
    {
     "name": "stderr",
     "output_type": "stream",
     "text": [
      "  1%|▍                                                                               | 84357/16429825 [00:01<04:47, 56860.91it/s]"
     ]
    },
    {
     "name": "stdout",
     "output_type": "stream",
     "text": [
      "46 ['A', 'A', 'C', 'C', 'E', 'E', 'G', 'G', 'A', 'G', 'C', 'C', 'E', 'E', 'A', 'G', 'B', 'H', 'D', 'D', 'F', 'F', 'B', 'H', 'B', 'B', 'D', 'D', 'F', 'F', 'H', 'H'] f1.-r0.-r1.f1.r0.r1.-r2.-r3.f1.r2.r3.f1.f3.-r0.-r1.f3.r0.r1.-r2.-r3.f3.r2.r3.f3.f2.-r1.f2.r1.-r2.f2.r2.f2.f4.-r0.f4.r0.-r3.f4.r3.f4\n"
     ]
    },
    {
     "name": "stderr",
     "output_type": "stream",
     "text": [
      "100%|█████████████████████████████████████████████████████████████████████████████| 16429825/16429825 [04:51<00:00, 56369.13it/s]\n"
     ]
    },
    {
     "name": "stdout",
     "output_type": "stream",
     "text": [
      "46 ['A', 'A', 'C', 'C', 'E', 'E', 'G', 'G', 'A', 'G', 'C', 'C', 'E', 'E', 'A', 'G', 'B', 'H', 'D', 'D', 'F', 'F', 'B', 'H', 'B', 'B', 'D', 'D', 'F', 'F', 'H', 'H'] f1.-r0.-r1.f1.r0.r1.-r2.-r3.f1.r2.r3.f1.f3.-r0.-r1.f3.r0.r1.-r2.-r3.f3.r2.r3.f3.f2.-r1.f2.r1.-r2.f2.r2.f2.f4.-r0.f4.r0.-r3.f4.r3.f4\n"
     ]
    }
   ],
   "source": [
    "tuning3 = max_correct_state\n",
    "state = tuning3\n",
    "correct_num = count_correct(state, solution_state)\n",
    "max_correct_num = correct_num\n",
    "max_correct_state = []\n",
    "max_correct_moves = ''\n",
    "\n",
    "for key in tqdm.tqdm(solve_dict_rev, total=len(solve_dict_rev)):\n",
    "    state = tuning3\n",
    "    new_state = Permutation(solve_dict_rev[key])(state)\n",
    "    correct_num = count_correct(new_state, solution_state)\n",
    "    if max_correct_num < correct_num:\n",
    "        max_correct_num = correct_num\n",
    "        max_correct_state = new_state\n",
    "        max_correct_moves = key\n",
    "        print(max_correct_num, max_correct_state, max_correct_moves)\n",
    "print(max_correct_num, max_correct_state, max_correct_moves)"
   ]
  },
  {
   "cell_type": "code",
   "execution_count": null,
   "id": "522e8b35-db54-4c0d-bca1-48f870a65077",
   "metadata": {},
   "outputs": [],
   "source": [
    "print34(max_correct_state)"
   ]
  },
  {
   "cell_type": "code",
   "execution_count": 24,
   "id": "04ae442e-1a98-4aad-8238-91584902bf99",
   "metadata": {},
   "outputs": [
    {
     "name": "stderr",
     "output_type": "stream",
     "text": [
      "  0%|                                                                                | 15626/16429825 [00:00<05:07, 53435.22it/s]"
     ]
    },
    {
     "name": "stdout",
     "output_type": "stream",
     "text": [
      "48 ['A', 'A', 'C', 'C', 'E', 'E', 'G', 'G', 'A', 'A', 'C', 'C', 'E', 'E', 'G', 'G', 'B', 'B', 'D', 'D', 'F', 'F', 'H', 'H', 'B', 'B', 'D', 'D', 'F', 'F', 'H', 'H'] f1.-r0.-r1.f1.r0.r1.-r2.-r3.f1.r2.r3.f1.f7.-r0.-r1.f7.r0.r1.-r2.-r3.f7.r2.r3.f7.f0.-r1.f0.r1.-r2.f0.r2.f0\n"
     ]
    },
    {
     "name": "stderr",
     "output_type": "stream",
     "text": [
      "100%|█████████████████████████████████████████████████████████████████████████████| 16429825/16429825 [04:52<00:00, 56205.48it/s]"
     ]
    },
    {
     "name": "stdout",
     "output_type": "stream",
     "text": [
      "48 ['A', 'A', 'C', 'C', 'E', 'E', 'G', 'G', 'A', 'A', 'C', 'C', 'E', 'E', 'G', 'G', 'B', 'B', 'D', 'D', 'F', 'F', 'H', 'H', 'B', 'B', 'D', 'D', 'F', 'F', 'H', 'H'] f1.-r0.-r1.f1.r0.r1.-r2.-r3.f1.r2.r3.f1.f7.-r0.-r1.f7.r0.r1.-r2.-r3.f7.r2.r3.f7.f0.-r1.f0.r1.-r2.f0.r2.f0\n"
     ]
    },
    {
     "name": "stderr",
     "output_type": "stream",
     "text": [
      "\n"
     ]
    }
   ],
   "source": [
    "tuning4 = max_correct_state\n",
    "state = tuning4\n",
    "correct_num = count_correct(state, solution_state)\n",
    "max_correct_num = correct_num\n",
    "max_correct_state = []\n",
    "max_correct_moves = ''\n",
    "\n",
    "for key in tqdm.tqdm(solve_dict_rev, total=len(solve_dict_rev)):\n",
    "    state = tuning4\n",
    "    new_state = Permutation(solve_dict_rev[key])(state)\n",
    "    correct_num = count_correct(new_state, solution_state)\n",
    "    if max_correct_num < correct_num:\n",
    "        max_correct_num = correct_num\n",
    "        max_correct_state = new_state\n",
    "        max_correct_moves = key\n",
    "        print(max_correct_num, max_correct_state, max_correct_moves)\n",
    "print(max_correct_num, max_correct_state, max_correct_moves)"
   ]
  },
  {
   "cell_type": "code",
   "execution_count": 23,
   "id": "5185554e-d233-4cd5-a2ea-1d178de31170",
   "metadata": {},
   "outputs": [
    {
     "name": "stdout",
     "output_type": "stream",
     "text": [
      "A;A;C;C;E;E;G;G\n",
      "A;G;C;C;E;E;A;G\n",
      "B;H;D;D;F;F;B;H\n",
      "B;B;D;D;F;F;H;H\n",
      "\n"
     ]
    }
   ],
   "source": [
    "print34(max_correct_state)"
   ]
  },
  {
   "cell_type": "code",
   "execution_count": null,
   "id": "50a5ef4f-0da5-4cb2-b79a-8d5f6c38e769",
   "metadata": {},
   "outputs": [],
   "source": [
    "# 120"
   ]
  },
  {
   "cell_type": "code",
   "execution_count": null,
   "id": "1344c7c9-c5dc-40c0-8678-bd9b8bd68e72",
   "metadata": {},
   "outputs": [],
   "source": []
  },
  {
   "cell_type": "code",
   "execution_count": null,
   "id": "6693da3b-1f4f-487a-9d05-b0573c78f995",
   "metadata": {},
   "outputs": [],
   "source": []
  },
  {
   "cell_type": "code",
   "execution_count": null,
   "id": "7f200a7c-ced5-446a-ac4e-1b0bc43f66e5",
   "metadata": {},
   "outputs": [],
   "source": []
  },
  {
   "cell_type": "code",
   "execution_count": null,
   "id": "d6cd4ca8-f0a6-47c7-a373-249774736096",
   "metadata": {},
   "outputs": [],
   "source": []
  },
  {
   "cell_type": "code",
   "execution_count": null,
   "id": "2d7d0e8c-a7ef-4500-b459-531b4ffe706e",
   "metadata": {},
   "outputs": [],
   "source": []
  },
  {
   "cell_type": "code",
   "execution_count": null,
   "id": "4afd81a4-2e75-4a90-a415-d79bbb74b90d",
   "metadata": {},
   "outputs": [],
   "source": []
  },
  {
   "cell_type": "code",
   "execution_count": null,
   "id": "c3e644f1-88d3-4ff4-b1eb-0cd1a568d90b",
   "metadata": {},
   "outputs": [],
   "source": []
  },
  {
   "cell_type": "code",
   "execution_count": null,
   "id": "58ae452d-94f0-4ac3-858c-0170bcffca96",
   "metadata": {},
   "outputs": [],
   "source": [
    "# 極の左右入れ替え\n",
    "state = allowed_moves['f2'](state)\n",
    "state = allowed_moves['-r0'](state)\n",
    "state = allowed_moves['f2'](state)\n",
    "state = allowed_moves['r0'](state)\n",
    "state = allowed_moves['-r3'](state)\n",
    "state = allowed_moves['f2'](state)\n",
    "state = allowed_moves['r3'](state)\n",
    "state = allowed_moves['f2'](state)"
   ]
  },
  {
   "cell_type": "code",
   "execution_count": null,
   "id": "f3212e38-fd45-4929-a146-fffbf55c7e62",
   "metadata": {},
   "outputs": [],
   "source": [
    "# 中央の左右入れ替え\n",
    "state = allowed_moves['f2'](state)\n",
    "state = allowed_moves['-r1'](state)\n",
    "state = allowed_moves['f2'](state)\n",
    "state = allowed_moves['r1'](state)\n",
    "state = allowed_moves['-r2'](state)\n",
    "state = allowed_moves['f2'](state)\n",
    "state = allowed_moves['r2'](state)\n",
    "state = allowed_moves['f2'](state)"
   ]
  },
  {
   "cell_type": "code",
   "execution_count": null,
   "id": "b5ea1139-4483-40bd-b9cc-ef0ac01db1a6",
   "metadata": {},
   "outputs": [],
   "source": [
    "# 極の対角線の入れ替え\n",
    "state = allowed_moves['-r0'](state)\n",
    "state = allowed_moves['f4'](state)\n",
    "state = allowed_moves['r0'](state)\n",
    "state = allowed_moves['-r3'](state)\n",
    "state = allowed_moves['f4'](state)\n",
    "state = allowed_moves['r3'](state)"
   ]
  },
  {
   "cell_type": "code",
   "execution_count": null,
   "id": "df9d18f5-0f2d-4060-9da6-775b098db361",
   "metadata": {},
   "outputs": [],
   "source": [
    "# 中央対角線の入れ替え\n",
    "state = allowed_moves['-r1'](state)\n",
    "state = allowed_moves['f4'](state)\n",
    "state = allowed_moves['r1'](state)\n",
    "state = allowed_moves['-r2'](state)\n",
    "state = allowed_moves['f4'](state)\n",
    "state = allowed_moves['r2'](state)"
   ]
  },
  {
   "cell_type": "code",
   "execution_count": null,
   "id": "109c8e07-36a6-4c0e-ba7e-7fe6b75ca453",
   "metadata": {},
   "outputs": [],
   "source": []
  }
 ],
 "metadata": {
  "kernelspec": {
   "display_name": "santa2023-py3.11",
   "language": "python",
   "name": "santa2023-py3.11"
  },
  "language_info": {
   "codemirror_mode": {
    "name": "ipython",
    "version": 3
   },
   "file_extension": ".py",
   "mimetype": "text/x-python",
   "name": "python",
   "nbconvert_exporter": "python",
   "pygments_lexer": "ipython3",
   "version": "3.11.1"
  }
 },
 "nbformat": 4,
 "nbformat_minor": 5
}
