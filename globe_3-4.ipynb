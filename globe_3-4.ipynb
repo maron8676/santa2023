{
 "cells": [
  {
   "cell_type": "code",
   "execution_count": 1,
   "id": "7590b9d0",
   "metadata": {},
   "outputs": [],
   "source": [
    "import pickle\n",
    "import time\n",
    "from ast import literal_eval\n",
    "from collections import deque\n",
    "from sys import stdin\n",
    "\n",
    "import pandas as pd\n",
    "import tqdm\n",
    "from sympy.combinatorics import Permutation"
   ]
  },
  {
   "cell_type": "code",
   "execution_count": 2,
   "id": "aa1a3b20-841d-4897-92e7-05f84366321a",
   "metadata": {},
   "outputs": [],
   "source": [
    "with open('globe-3-4-af_rotate.pkl', mode='rb') as f:\n",
    "    solve_dict = pickle.load(f)\n",
    "with open('globe-3-4-af_rotate_rev.pkl', mode='rb') as f:\n",
    "    solve_dict_rev = pickle.load(f)"
   ]
  },
  {
   "cell_type": "code",
   "execution_count": 3,
   "id": "0325c005",
   "metadata": {},
   "outputs": [],
   "source": [
    "puzzle_info = pd.read_csv(\"puzzle_info.csv\", index_col='puzzle_type')\n",
    "puzzles = pd.read_csv(\"puzzles.csv\")\n",
    "sample_submission = pd.read_csv(\"submission_public.csv\", index_col='id')\n",
    "base_moves = [\"r0\", \"-r0\", \"r1\", \"-r1\", \"r2\", \"-r2\", \"r3\", \"-r3\", \"f0\", \"f1\", \"f2\", \"f3\", \"f4\", \"f5\", \"f6\", \"f7\"]"
   ]
  },
  {
   "cell_type": "code",
   "execution_count": 4,
   "id": "7f2dcdde-1ea4-4fe8-b683-d46cd3b34463",
   "metadata": {},
   "outputs": [],
   "source": [
    "globe_3_4type = 'globe_3/4'\n",
    "selected_types = ['globe_3/4']\n",
    "subset = puzzles[puzzles['puzzle_type'].isin(selected_types)]"
   ]
  },
  {
   "cell_type": "code",
   "execution_count": 5,
   "id": "78459453-ce88-4213-b850-08715fe988cf",
   "metadata": {},
   "outputs": [],
   "source": [
    "globe34 = []\n",
    "for index, row in subset.iterrows():\n",
    "    globe34.append(index)"
   ]
  },
  {
   "cell_type": "code",
   "execution_count": 6,
   "id": "0f944aa6-2265-4c8b-a1a0-c8e919dbf623",
   "metadata": {},
   "outputs": [
    {
     "data": {
      "text/plain": [
       "358"
      ]
     },
     "execution_count": 6,
     "metadata": {},
     "output_type": "execute_result"
    }
   ],
   "source": [
    "globe34[0]"
   ]
  },
  {
   "cell_type": "code",
   "execution_count": null,
   "id": "c380660f-64f3-4c20-be3d-3891809c7425",
   "metadata": {},
   "outputs": [],
   "source": []
  },
  {
   "cell_type": "code",
   "execution_count": 7,
   "id": "d9f4e605-3fba-46a8-a033-d517e3a8036a",
   "metadata": {},
   "outputs": [],
   "source": [
    "# globe_3/4の状態数\n",
    "allowed_moves = literal_eval(puzzle_info.loc[globe_3_4type, 'allowed_moves'])\n",
    "allowed_moves = {k: Permutation(v) for k, v in allowed_moves.items()}\n",
    "key_list = list(allowed_moves.keys())\n",
    "for key in key_list:\n",
    "    if key[0] == \"r\":\n",
    "        allowed_moves[\"-\" + key] = allowed_moves[key] ** (-1)"
   ]
  },
  {
   "cell_type": "code",
   "execution_count": null,
   "id": "e3810cc6-38f4-4d11-944a-9ba25fec8a5b",
   "metadata": {},
   "outputs": [],
   "source": []
  },
  {
   "cell_type": "code",
   "execution_count": 226,
   "id": "59a6e16c-ae2a-4b07-8d07-079cfd13003b",
   "metadata": {},
   "outputs": [],
   "source": [
    "moves358 = sample_submission.loc[360]['moves']"
   ]
  },
  {
   "cell_type": "code",
   "execution_count": 227,
   "id": "a64e350c-ab0d-4470-8827-ea4ba32799d9",
   "metadata": {},
   "outputs": [],
   "source": [
    "moves358_nor = moves358.replace('-f', 'f')"
   ]
  },
  {
   "cell_type": "code",
   "execution_count": 228,
   "id": "b5fd08a2-8f90-438e-be57-f7c8b29d1071",
   "metadata": {},
   "outputs": [
    {
     "data": {
      "text/plain": [
       "'r2.r3.f7.f1.-r0.f4.f5.-r1.f3.f4.f1.f2.-r0.f2.f3.-r0.f5.r1.f0.f2.f3.-r3.f7.f2.f3.-r2.f0.f7.f6.-r2.f7.f0.-r3.f7.f4.r0.f1.r3.r1.f5.f4.r0.f1.f7.-r2.-r3.f3.-r3.f3.f4.f2.-r3.f7.f4.-r2.-r3.r0.f4.f2.f4.f3.f6.f0.r1.-r3.f7.r2.-r1.f6.-r3.f7.f5.f3.r1.f7.f1.-r2.-r3.r0.f4.f2.f4.f3.f6.f0.r1.-r3.f1.f7.f1.-r2.r1.f5.f0.-r3.f7.f4.r0.f1.f6.f4.f2.-r0.-r1.f3.f1.-r0.f4.f5.f6.f5.f6.f1.f3.f2.-r3.f7.f4.-r1.f0.f6.f3.f2.-r0.-r1.f3.-r3.f7.f2.f3.f5.-r3.f6.-r0.f7.-r0.f5.f4.f2.-r2.-r3.r0.f6.f7.r2.f1.r0.f1.f0.-r0.f5.f2.f3.r0.f7.r3.f3.f1.-r0.-r3.f7.-r3.f7.f2.f3.r1.-r2.f3.f2.f6.r1.r3.f3.-r0.f1.-r2.f6.r2.f7.r0.f0.-r3.f7.-r1.f3.f1.-r0.f4.f2.-r3.f5.f3.r1.f0.r1.-r3.f4.f5.-r1.f3.f0.-r3.f7.f4.r0.f1.-r0.f2.f3.-r0.f4.f3.-r0.f3.f6.f1.f3.f2.-r3.f7.f4.f5.-r0.f3.f6.r1.f6.f5.f6.f3.f4.f7.f5.f4.f2.f4.f3.f6.f0.r1.f1.f3.r1.f5.f2.-r0.f6.f0.-r3.f7.f4.r0.f1.r3.f3.f5.f4.r0.f1.f3.r0.r1.f7.-r1.f3.f2.f3.-r0.f1.r3.f2.f6.f0.-r3.f7.f4.r0.f1.f0.-r0.f3.f6.r1.f6.-r3.f7.f1.f3.r1.f7.f6.f0.f3.-r0.f1.-r3.f7.f2.f3.-r2.f3.r1.f3.f4.f3.f1.-r3.f0.-r3.f7.f4.r0.f1.f0.-r0.f3.f2.r1.-r2.f6.f5.f4.r0.f7.f2.f4.r3.f1.-r2.f2.f0.r3.f5.r1'"
      ]
     },
     "execution_count": 228,
     "metadata": {},
     "output_type": "execute_result"
    }
   ],
   "source": [
    "moves358_nor"
   ]
  },
  {
   "cell_type": "code",
   "execution_count": null,
   "id": "9927d76c-0867-4bba-a233-68c9b2cca3ce",
   "metadata": {},
   "outputs": [],
   "source": []
  },
  {
   "cell_type": "code",
   "execution_count": 229,
   "id": "aee7a101-27b7-461d-a1ac-7b4d88bdc79f",
   "metadata": {},
   "outputs": [],
   "source": [
    "def print34(state):\n",
    "    for i in range(4):\n",
    "        temp = []\n",
    "        for j in range(i*8,(i+1)*8):\n",
    "            temp.append(f\"{state[j]:3}\")\n",
    "        print(';'.join(temp))\n",
    "    print()"
   ]
  },
  {
   "cell_type": "code",
   "execution_count": 237,
   "id": "38a24fff-c7e3-4258-82a1-076bdc47dedd",
   "metadata": {},
   "outputs": [
    {
     "name": "stdout",
     "output_type": "stream",
     "text": [
      "N0 ;N1 ;N2 ;N3 ;N4 ;N5 ;N6 ;N7 \n",
      "N8 ;N9 ;N10;N11;N12;N13;N14;N15\n",
      "N16;N17;N18;N19;N20;N21;N22;N23\n",
      "N24;N25;N26;N27;N28;N29;N30;N31\n",
      "\n"
     ]
    }
   ],
   "source": [
    "solution_state = subset.loc[370].solution_state.split(';')\n",
    "print34(solution_state)"
   ]
  },
  {
   "cell_type": "code",
   "execution_count": 238,
   "id": "2e1d44f6-3bc4-4f65-8ab5-9f3ddccaf673",
   "metadata": {},
   "outputs": [
    {
     "name": "stdout",
     "output_type": "stream",
     "text": [
      "N1 ;N28;N6 ;N2 ;N26;N7 ;N0 ;N29\n",
      "N11;N16;N23;N17;N10;N14;N9 ;N12\n",
      "N8 ;N18;N22;N21;N13;N19;N15;N20\n",
      "N5 ;N30;N27;N4 ;N25;N3 ;N31;N24\n",
      "\n"
     ]
    }
   ],
   "source": [
    "initial_state = subset.loc[370].initial_state.split(';')\n",
    "print34(initial_state)"
   ]
  },
  {
   "cell_type": "code",
   "execution_count": 247,
   "id": "d1badcf5-5922-41c8-a089-35a2c3839a82",
   "metadata": {},
   "outputs": [
    {
     "name": "stdout",
     "output_type": "stream",
     "text": [
      "N1 ;N28;N6 ;N2 ;N26;N7 ;N0 ;N29\n",
      "N11;N16;N23;N17;N10;N14;N9 ;N12\n",
      "N8 ;N18;N22;N21;N13;N19;N15;N20\n",
      "N5 ;N30;N27;N4 ;N25;N3 ;N31;N24\n",
      "\n",
      "N28;N6 ;N31;N2 ;N26;N7 ;N0 ;N1 \n",
      "N11;N16;N23;N17;N10;N14;N9 ;N12\n",
      "N8 ;N18;N22;N21;N13;N19;N15;N20\n",
      "N30;N27;N29;N4 ;N25;N3 ;N24;N5 \n",
      "\n",
      "N28;N26;N7 ;N27;N30;N29;N0 ;N1 \n",
      "N11;N17;N10;N14;N18;N22;N9 ;N12\n",
      "N8 ;N21;N13;N19;N16;N23;N15;N20\n",
      "N4 ;N25;N3 ;N6 ;N2 ;N31;N24;N5 \n",
      "\n",
      "N28;N26;N29;N0 ;N3 ;N25;N6 ;N1 \n",
      "N11;N17;N18;N22;N9 ;N13;N19;N12\n",
      "N8 ;N21;N16;N23;N15;N10;N14;N20\n",
      "N4 ;N2 ;N31;N24;N7 ;N30;N27;N5 \n",
      "\n",
      "N28;N26;N30;N29;N0 ;N3 ;N25;N1 \n",
      "N11;N17;N10;N14;N18;N22;N9 ;N12\n",
      "N8 ;N21;N13;N19;N16;N23;N15;N20\n",
      "N4 ;N2 ;N6 ;N31;N24;N7 ;N27;N5 \n",
      "\n",
      "N26;N7 ;N30;N29;N0 ;N3 ;N1 ;N28\n",
      "N11;N17;N10;N14;N18;N22;N9 ;N12\n",
      "N8 ;N21;N13;N19;N16;N23;N15;N20\n",
      "N2 ;N25;N6 ;N31;N24;N27;N5 ;N4 \n",
      "\n",
      "N27;N24;N30;N29;N7 ;N26;N28;N31\n",
      "N23;N16;N10;N14;N9 ;N17;N11;N12\n",
      "N22;N18;N13;N19;N15;N21;N8 ;N20\n",
      "N3 ;N0 ;N6 ;N5 ;N25;N2 ;N4 ;N1 \n",
      "\n",
      "N31;N24;N30;N29;N7 ;N26;N28;N27\n",
      "N23;N16;N10;N14;N9 ;N17;N11;N12\n",
      "N22;N18;N13;N19;N15;N21;N8 ;N20\n",
      "N1 ;N0 ;N6 ;N5 ;N25;N2 ;N4 ;N3 \n",
      "\n",
      "N31;N5 ;N6 ;N0 ;N1 ;N26;N28;N27\n",
      "N23;N15;N19;N13;N18;N17;N11;N12\n",
      "N22;N9 ;N14;N10;N16;N21;N8 ;N20\n",
      "N7 ;N29;N30;N24;N25;N2 ;N4 ;N3 \n",
      "\n"
     ]
    }
   ],
   "source": [
    "state = initial_state\n",
    "print34(state)\n",
    "\n",
    "state = allowed_moves['f7'](state)\n",
    "state = allowed_moves['-r3'](state)\n",
    "state = allowed_moves['f7'](state)\n",
    "state = allowed_moves['r3'](state)\n",
    "print34(state)\n",
    "\n",
    "state = allowed_moves['f2'](state)\n",
    "state = allowed_moves['-r3'](state)\n",
    "state = allowed_moves['f1'](state)\n",
    "state = allowed_moves['r3'](state)\n",
    "print34(state)\n",
    "\n",
    "state = allowed_moves['f3'](state)\n",
    "state = allowed_moves['-r3'](state)\n",
    "state = allowed_moves['f2'](state)\n",
    "state = allowed_moves['r3'](state)\n",
    "print34(state)\n",
    "\n",
    "state = allowed_moves['f2'](state)\n",
    "state = allowed_moves['-r3'](state)\n",
    "state = allowed_moves['f3'](state)\n",
    "state = allowed_moves['r3'](state)\n",
    "print34(state)\n",
    "\n",
    "state = allowed_moves['f6'](state)\n",
    "state = allowed_moves['-r3'](state)\n",
    "state = allowed_moves['f6'](state)\n",
    "state = allowed_moves['r3'](state)\n",
    "print34(state)\n",
    "\n",
    "state = allowed_moves['f4'](state)\n",
    "state = allowed_moves['f5'](state)\n",
    "state = allowed_moves['f6'](state)\n",
    "state = allowed_moves['-r3'](state)\n",
    "state = allowed_moves['f4'](state)\n",
    "state = allowed_moves['r3'](state)\n",
    "print34(state)\n",
    "\n",
    "state = allowed_moves['f0'](state)\n",
    "state = allowed_moves['-r0'](state)\n",
    "state = allowed_moves['f0'](state)\n",
    "state = allowed_moves['r0'](state)\n",
    "state = allowed_moves['-r3'](state)\n",
    "state = allowed_moves['f0'](state)\n",
    "state = allowed_moves['r3'](state)\n",
    "state = allowed_moves['f0'](state)\n",
    "print34(state)\n",
    "\n",
    "state = allowed_moves['-r3'](state)\n",
    "state = allowed_moves['f1'](state)\n",
    "state = allowed_moves['r3'](state)\n",
    "print34(state)\n",
    "\n",
    "\n",
    "state2 = state\n",
    "# 24"
   ]
  },
  {
   "cell_type": "code",
   "execution_count": 256,
   "id": "9dc3b683-04e1-45be-ab88-41732c9929ff",
   "metadata": {},
   "outputs": [
    {
     "name": "stdout",
     "output_type": "stream",
     "text": [
      "N31;N5 ;N6 ;N0 ;N1 ;N26;N28;N27\n",
      "N23;N15;N19;N13;N18;N17;N11;N12\n",
      "N22;N9 ;N14;N10;N16;N21;N8 ;N20\n",
      "N7 ;N29;N30;N24;N25;N2 ;N4 ;N3 \n",
      "\n",
      "N31;N5 ;N6 ;N4 ;N2 ;N25;N24;N27\n",
      "N23;N15;N19;N21;N16;N10;N14;N12\n",
      "N22;N9 ;N11;N17;N18;N13;N8 ;N20\n",
      "N7 ;N29;N30;N28;N26;N1 ;N0 ;N3 \n",
      "\n",
      "N31;N5 ;N6 ;N4 ;N2 ;N25;N24;N27\n",
      "N23;N15;N19;N16;N10;N14;N11;N12\n",
      "N22;N9 ;N17;N18;N13;N8 ;N21;N20\n",
      "N7 ;N29;N30;N28;N26;N1 ;N0 ;N3 \n",
      "\n",
      "N31;N26;N24;N27;N6 ;N4 ;N1 ;N5 \n",
      "N23;N13;N12;N19;N16;N10;N8 ;N15\n",
      "N22;N21;N20;N17;N18;N11;N14;N9 \n",
      "N7 ;N2 ;N0 ;N3 ;N30;N28;N25;N29\n",
      "\n",
      "N31;N30;N28;N26;N24;N27;N1 ;N5 \n",
      "N23;N18;N13;N12;N19;N16;N8 ;N15\n",
      "N22;N10;N21;N20;N17;N11;N14;N9 \n",
      "N7 ;N6 ;N4 ;N2 ;N0 ;N3 ;N25;N29\n",
      "\n",
      "N31;N30;N28;N26;N24;N27;N1 ;N5 \n",
      "N17;N18;N13;N12;N19;N8 ;N15;N23\n",
      "N16;N10;N21;N20;N11;N14;N9 ;N22\n",
      "N7 ;N6 ;N4 ;N2 ;N0 ;N3 ;N25;N29\n",
      "\n",
      "N28;N25;N29;N26;N24;N27;N31;N30\n",
      "N9 ;N14;N22;N12;N19;N8 ;N18;N13\n",
      "N15;N17;N23;N20;N11;N16;N10;N21\n",
      "N4 ;N1 ;N5 ;N2 ;N0 ;N3 ;N7 ;N6 \n",
      "\n",
      "N28;N25;N29;N26;N24;N27;N31;N30\n",
      "N9 ;N22;N12;N19;N15;N8 ;N18;N13\n",
      "N17;N23;N20;N11;N14;N16;N10;N21\n",
      "N4 ;N1 ;N5 ;N2 ;N0 ;N3 ;N7 ;N6 \n",
      "\n",
      "N28;N25;N24;N27;N31;N5 ;N2 ;N30\n",
      "N9 ;N22;N8 ;N18;N20;N23;N11;N13\n",
      "N17;N14;N16;N10;N12;N15;N19;N21\n",
      "N4 ;N1 ;N0 ;N3 ;N7 ;N29;N26;N6 \n",
      "\n"
     ]
    }
   ],
   "source": [
    "print34(state2)\n",
    "state = state2\n",
    "\n",
    "state = allowed_moves['-r2'](state)\n",
    "state = allowed_moves['f3'](state)\n",
    "state = allowed_moves['r2'](state)\n",
    "print34(state)\n",
    "\n",
    "state = allowed_moves['f3'](state)\n",
    "state = allowed_moves['-r2'](state)\n",
    "state = allowed_moves['f3'](state)\n",
    "state = allowed_moves['r2'](state)\n",
    "print34(state)\n",
    "\n",
    "state = allowed_moves['f1'](state)\n",
    "state = allowed_moves['f4'](state)\n",
    "state = allowed_moves['-r2'](state)\n",
    "state = allowed_moves['f2'](state)\n",
    "state = allowed_moves['r2'](state)\n",
    "print34(state)\n",
    "\n",
    "state = allowed_moves['f1'](state)\n",
    "state = allowed_moves['-r2'](state)\n",
    "state = allowed_moves['f2'](state)\n",
    "state = allowed_moves['r2'](state)\n",
    "print34(state)\n",
    "\n",
    "state = allowed_moves['f5'](state)\n",
    "state = allowed_moves['-r2'](state)\n",
    "state = allowed_moves['f5'](state)\n",
    "state = allowed_moves['r2'](state)\n",
    "print34(state)\n",
    "\n",
    "state = allowed_moves['f7'](state)\n",
    "state = allowed_moves['-r2'](state)\n",
    "state = allowed_moves['f6'](state)\n",
    "state = allowed_moves['r2'](state)\n",
    "print34(state)\n",
    "\n",
    "state = allowed_moves['f1'](state)\n",
    "state = allowed_moves['-r2'](state)\n",
    "state = allowed_moves['f1'](state)\n",
    "state = allowed_moves['r2'](state)\n",
    "print34(state)\n",
    "\n",
    "state = allowed_moves['f3'](state)\n",
    "state = allowed_moves['-r2'](state)\n",
    "state = allowed_moves['f2'](state)\n",
    "state = allowed_moves['r2'](state)\n",
    "print34(state)\n",
    "\n",
    "state3 = state\n",
    "# 35"
   ]
  },
  {
   "cell_type": "code",
   "execution_count": 257,
   "id": "92651d42-bdef-4d8d-a9ee-a11b50afc0f6",
   "metadata": {},
   "outputs": [],
   "source": [
    "def count_pair(state, r, f):\n",
    "    count = 0\n",
    "    for i in range(r + 1):\n",
    "        for j in range(f * 2):\n",
    "            if state[i * f * 2 + j] == state[i * f * 2 + (j + 1) % (f * 2)]:\n",
    "                count += 1\n",
    "\n",
    "    return count\n",
    "\n",
    "\n",
    "def count_correct(state, correct):\n",
    "    count = 0\n",
    "    for i in range(8):\n",
    "        # count += state[i] == correct[i] and state[i+24] == correct[i+24]\n",
    "        # count += (state[i] < state[i+24]) * 3\n",
    "        count += (int(state[i][1:]) < int(state[i+24][1:])) * 3\n",
    "        count += abs(int(state[i][1:]) - int(correct[i][1:])) <= 1\n",
    "    for i in range(8, 16):\n",
    "        # count += state[i] == correct[i] and state[i+8] == correct[i+8]\n",
    "        # count += (state[i] < state[i+8]) * 3\n",
    "        count += (int(state[i][1:]) < int(state[i+8][1:])) * 3\n",
    "        count += abs(int(state[i][1:]) - int(correct[i][1:])) <= 1\n",
    "    return count"
   ]
  },
  {
   "cell_type": "code",
   "execution_count": 258,
   "id": "a8534e61-a99f-47b5-8db4-0ebb87939356",
   "metadata": {},
   "outputs": [
    {
     "name": "stderr",
     "output_type": "stream",
     "text": [
      "  0%|                                                                                 | 3302/16429825 [00:00<08:21, 32781.57it/s]"
     ]
    },
    {
     "name": "stdout",
     "output_type": "stream",
     "text": [
      "26 ['N28', 'N25', 'N24', 'N6', 'N31', 'N5', 'N2', 'N3', 'N9', 'N22', 'N8', 'N21', 'N20', 'N23', 'N11', 'N10', 'N17', 'N14', 'N16', 'N13', 'N12', 'N15', 'N19', 'N18', 'N4', 'N1', 'N0', 'N30', 'N7', 'N29', 'N26', 'N27'] -r0.-r1.f0.r0.r1.-r2.-r3.f0.r2.r3\n",
      "27 ['N7', 'N25', 'N24', 'N27', 'N4', 'N5', 'N2', 'N30', 'N9', 'N22', 'N8', 'N18', 'N20', 'N23', 'N11', 'N13', 'N17', 'N14', 'N16', 'N10', 'N12', 'N15', 'N19', 'N21', 'N31', 'N1', 'N0', 'N3', 'N28', 'N29', 'N26', 'N6'] -r0.f1.r0.-r3.f1.r3\n",
      "32 ['N7', 'N25', 'N24', 'N6', 'N4', 'N5', 'N2', 'N3', 'N12', 'N22', 'N8', 'N21', 'N17', 'N23', 'N11', 'N10', 'N20', 'N14', 'N16', 'N13', 'N9', 'N15', 'N19', 'N18', 'N31', 'N1', 'N0', 'N30', 'N28', 'N29', 'N26', 'N27'] -r0.-r1.f0.r0.r1.-r2.-r3.f0.r2.r3.-r0.-r1.f1.r0.r1.-r2.-r3.f1.r2.r3\n",
      "33 ['N7', 'N25', 'N24', 'N6', 'N4', 'N5', 'N2', 'N3', 'N9', 'N22', 'N8', 'N21', 'N20', 'N23', 'N11', 'N10', 'N17', 'N14', 'N16', 'N13', 'N12', 'N15', 'N19', 'N18', 'N31', 'N1', 'N0', 'N30', 'N28', 'N29', 'N26', 'N27'] -r0.-r1.f0.r0.r1.-r2.-r3.f0.r2.r3.-r0.f1.r0.-r3.f1.r3\n",
      "34 ['N7', 'N25', 'N24', 'N27', 'N4', 'N5', 'N2', 'N30', 'N9', 'N15', 'N8', 'N18', 'N20', 'N14', 'N11', 'N13', 'N17', 'N23', 'N16', 'N10', 'N12', 'N22', 'N19', 'N21', 'N31', 'N1', 'N0', 'N3', 'N28', 'N29', 'N26', 'N6'] -r0.f1.r0.-r3.f1.r3.-r1.f2.r1.-r2.f2.r2\n",
      "38 ['N7', 'N28', 'N24', 'N6', 'N1', 'N5', 'N2', 'N3', 'N12', 'N9', 'N8', 'N21', 'N14', 'N23', 'N11', 'N10', 'N20', 'N17', 'N16', 'N13', 'N22', 'N15', 'N19', 'N18', 'N31', 'N4', 'N0', 'N30', 'N25', 'N29', 'N26', 'N27'] -r0.-r1.f0.r0.r1.-r2.-r3.f0.r2.r3.f1.-r0.-r1.f1.r0.r1.-r2.-r3.f1.r2.r3.f1.-r0.-r1.f1.r0.r1.-r2.-r3.f1.r2.r3\n",
      "39 ['N7', 'N25', 'N24', 'N6', 'N4', 'N5', 'N2', 'N3', 'N12', 'N9', 'N8', 'N21', 'N14', 'N23', 'N11', 'N10', 'N20', 'N17', 'N16', 'N13', 'N22', 'N15', 'N19', 'N18', 'N31', 'N1', 'N0', 'N30', 'N28', 'N29', 'N26', 'N27'] -r0.-r1.f0.r0.r1.-r2.-r3.f0.r2.r3.f1.-r1.f1.r1.-r2.f1.r2.f1.-r0.-r1.f1.r0.r1.-r2.-r3.f1.r2.r3\n",
      "40 ['N7', 'N25', 'N24', 'N6', 'N4', 'N5', 'N2', 'N3', 'N9', 'N15', 'N8', 'N21', 'N20', 'N14', 'N11', 'N10', 'N17', 'N23', 'N16', 'N13', 'N12', 'N22', 'N19', 'N18', 'N31', 'N1', 'N0', 'N30', 'N28', 'N29', 'N26', 'N27'] -r0.-r1.f0.r0.r1.-r2.-r3.f0.r2.r3.-r0.f1.r0.-r3.f1.r3.-r1.f2.r1.-r2.f2.r2\n"
     ]
    },
    {
     "name": "stderr",
     "output_type": "stream",
     "text": [
      "  0%|▏                                                                               | 49356/16429825 [00:01<07:49, 34879.60it/s]"
     ]
    },
    {
     "name": "stdout",
     "output_type": "stream",
     "text": [
      "41 ['N3', 'N25', 'N24', 'N6', 'N4', 'N5', 'N2', 'N7', 'N9', 'N15', 'N8', 'N21', 'N20', 'N14', 'N11', 'N10', 'N17', 'N23', 'N16', 'N13', 'N12', 'N22', 'N19', 'N18', 'N27', 'N1', 'N0', 'N30', 'N28', 'N29', 'N26', 'N31'] -r0.-r1.f0.r0.r1.-r2.-r3.f0.r2.r3.-r0.f1.r0.-r3.f1.r3.f0.-r0.f0.r0.-r3.f0.r3.f0.-r1.f2.r1.-r2.f2.r2\n"
     ]
    },
    {
     "name": "stderr",
     "output_type": "stream",
     "text": [
      "  2%|█▊                                                                             | 385490/16429825 [00:11<07:26, 35947.30it/s]"
     ]
    },
    {
     "name": "stdout",
     "output_type": "stream",
     "text": [
      "42 ['N30', 'N3', 'N24', 'N4', 'N5', 'N1', 'N2', 'N7', 'N9', 'N10', 'N8', 'N21', 'N23', 'N14', 'N11', 'N12', 'N17', 'N18', 'N16', 'N13', 'N15', 'N22', 'N19', 'N20', 'N6', 'N27', 'N0', 'N28', 'N29', 'N25', 'N26', 'N31'] f0.-r0.f0.r0.-r3.f0.r3.f0.f4.-r0.-r1.f4.r0.r1.-r2.-r3.f4.r2.r3.f4.-r0.-r1.f0.r0.r1.-r2.-r3.f0.r2.r3.f5.-r0.-r1.f5.r0.r1.-r2.-r3.f5.r2.r3.f5.-r0.-r1.f2.r0.r1.-r2.-r3.f2.r2.r3\n"
     ]
    },
    {
     "name": "stderr",
     "output_type": "stream",
     "text": [
      "  5%|███▉                                                                           | 830279/16429825 [00:24<07:15, 35842.09it/s]"
     ]
    },
    {
     "name": "stdout",
     "output_type": "stream",
     "text": [
      "45 ['N7', 'N28', 'N24', 'N6', 'N1', 'N2', 'N5', 'N3', 'N12', 'N9', 'N8', 'N15', 'N14', 'N11', 'N13', 'N10', 'N20', 'N17', 'N16', 'N23', 'N22', 'N19', 'N21', 'N18', 'N31', 'N4', 'N0', 'N30', 'N25', 'N26', 'N29', 'N27'] f1.-r0.-r1.f1.r0.r1.-r2.-r3.f1.r2.r3.f1.-r0.-r1.f1.r0.r1.-r2.-r3.f1.r2.r3.f6.-r0.-r1.f6.r0.r1.-r2.-r3.f6.r2.r3.f6.f7.-r1.f7.r1.-r2.f7.r2.f7.-r0.-r1.f0.r0.r1.-r2.-r3.f0.r2.r3\n"
     ]
    },
    {
     "name": "stderr",
     "output_type": "stream",
     "text": [
      "  6%|████▊                                                                          | 993156/16429825 [00:29<07:28, 34419.15it/s]"
     ]
    },
    {
     "name": "stdout",
     "output_type": "stream",
     "text": [
      "46 ['N7', 'N25', 'N24', 'N6', 'N4', 'N2', 'N5', 'N3', 'N12', 'N9', 'N8', 'N15', 'N14', 'N11', 'N13', 'N10', 'N20', 'N17', 'N16', 'N23', 'N22', 'N19', 'N21', 'N18', 'N31', 'N1', 'N0', 'N30', 'N28', 'N26', 'N29', 'N27'] f1.-r1.f1.r1.-r2.f1.r2.f1.-r0.-r1.f1.r0.r1.-r2.-r3.f1.r2.r3.f6.-r0.-r1.f6.r0.r1.-r2.-r3.f6.r2.r3.f6.f7.-r1.f7.r1.-r2.f7.r2.f7.-r0.-r1.f0.r0.r1.-r2.-r3.f0.r2.r3\n"
     ]
    },
    {
     "name": "stderr",
     "output_type": "stream",
     "text": [
      " 11%|████████▎                                                                     | 1741716/16429825 [00:50<06:47, 36007.18it/s]"
     ]
    },
    {
     "name": "stdout",
     "output_type": "stream",
     "text": [
      "47 ['N28', 'N7', 'N24', 'N6', 'N2', 'N1', 'N5', 'N3', 'N9', 'N12', 'N8', 'N15', 'N11', 'N14', 'N13', 'N10', 'N17', 'N20', 'N16', 'N23', 'N19', 'N22', 'N21', 'N18', 'N4', 'N31', 'N0', 'N30', 'N26', 'N25', 'N29', 'N27'] f6.-r0.-r1.f6.r0.r1.-r2.-r3.f6.r2.r3.f6.f5.-r0.-r1.f5.r0.r1.-r2.-r3.f5.r2.r3.f5.-r0.-r1.f2.r0.r1.-r2.-r3.f2.r2.r3.f7.-r1.f7.r1.-r2.f7.r2.f7.-r0.-r1.f0.r0.r1.-r2.-r3.f0.r2.r3\n"
     ]
    },
    {
     "name": "stderr",
     "output_type": "stream",
     "text": [
      " 25%|███████████████████▎                                                          | 4060567/16429825 [01:56<05:34, 37003.15it/s]"
     ]
    },
    {
     "name": "stdout",
     "output_type": "stream",
     "text": [
      "48 ['N30', 'N7', 'N24', 'N4', 'N2', 'N1', 'N5', 'N3', 'N9', 'N12', 'N8', 'N15', 'N11', 'N14', 'N13', 'N10', 'N17', 'N20', 'N16', 'N23', 'N19', 'N22', 'N21', 'N18', 'N6', 'N31', 'N0', 'N28', 'N26', 'N25', 'N29', 'N27'] f0.-r0.f0.r0.-r3.f0.r3.f0.f6.-r0.-r1.f6.r0.r1.-r2.-r3.f6.r2.r3.f6.f5.-r0.-r1.f5.r0.r1.-r2.-r3.f5.r2.r3.f5.-r0.-r1.f2.r0.r1.-r2.-r3.f2.r2.r3.f7.-r1.f7.r1.-r2.f7.r2.f7.-r0.-r1.f0.r0.r1.-r2.-r3.f0.r2.r3\n"
     ]
    },
    {
     "name": "stderr",
     "output_type": "stream",
     "text": [
      " 95%|█████████████████████████████████████████████████████████████████████████▎   | 15655633/16429825 [07:25<00:21, 35465.90it/s]"
     ]
    },
    {
     "name": "stdout",
     "output_type": "stream",
     "text": [
      "49 ['N28', 'N3', 'N24', 'N6', 'N2', 'N1', 'N5', 'N7', 'N9', 'N10', 'N8', 'N15', 'N11', 'N14', 'N13', 'N12', 'N17', 'N18', 'N16', 'N23', 'N19', 'N22', 'N21', 'N20', 'N4', 'N27', 'N0', 'N30', 'N26', 'N25', 'N29', 'N31'] f4.-r0.-r1.f4.r0.r1.-r2.-r3.f4.r2.r3.f4.f6.-r0.-r1.f6.r0.r1.-r2.-r3.f6.r2.r3.f6.f5.-r0.-r1.f5.r0.r1.-r2.-r3.f5.r2.r3.f5.-r0.-r1.f2.r0.r1.-r2.-r3.f2.r2.r3.f7.-r1.f7.r1.-r2.f7.r2.f7.-r0.-r1.f0.r0.r1.-r2.-r3.f0.r2.r3\n"
     ]
    },
    {
     "name": "stderr",
     "output_type": "stream",
     "text": [
      "100%|█████████████████████████████████████████████████████████████████████████████| 16429825/16429825 [07:47<00:00, 35135.97it/s]"
     ]
    },
    {
     "name": "stdout",
     "output_type": "stream",
     "text": [
      "49 ['N28', 'N3', 'N24', 'N6', 'N2', 'N1', 'N5', 'N7', 'N9', 'N10', 'N8', 'N15', 'N11', 'N14', 'N13', 'N12', 'N17', 'N18', 'N16', 'N23', 'N19', 'N22', 'N21', 'N20', 'N4', 'N27', 'N0', 'N30', 'N26', 'N25', 'N29', 'N31'] f4.-r0.-r1.f4.r0.r1.-r2.-r3.f4.r2.r3.f4.f6.-r0.-r1.f6.r0.r1.-r2.-r3.f6.r2.r3.f6.f5.-r0.-r1.f5.r0.r1.-r2.-r3.f5.r2.r3.f5.-r0.-r1.f2.r0.r1.-r2.-r3.f2.r2.r3.f7.-r1.f7.r1.-r2.f7.r2.f7.-r0.-r1.f0.r0.r1.-r2.-r3.f0.r2.r3\n"
     ]
    },
    {
     "name": "stderr",
     "output_type": "stream",
     "text": [
      "\n"
     ]
    }
   ],
   "source": [
    "state = state3\n",
    "moves_list = []\n",
    "correct_num = count_correct(state, solution_state)\n",
    "max_correct_num = correct_num\n",
    "max_correct_state = []\n",
    "max_correct_moves = ''\n",
    "\n",
    "for key in tqdm.tqdm(solve_dict_rev, total=len(solve_dict_rev)):\n",
    "    state = state3\n",
    "    new_state = Permutation(solve_dict_rev[key])(state)\n",
    "    correct_num = count_correct(new_state, solution_state)\n",
    "    if max_correct_num < correct_num:\n",
    "        max_correct_num = correct_num\n",
    "        max_correct_state = new_state\n",
    "        max_correct_moves = key\n",
    "        print(max_correct_num, max_correct_state, max_correct_moves)\n",
    "print(max_correct_num, max_correct_state, max_correct_moves)"
   ]
  },
  {
   "cell_type": "code",
   "execution_count": 259,
   "id": "b5f4d646-b8b2-4d09-b92e-fe660b648efe",
   "metadata": {},
   "outputs": [
    {
     "name": "stdout",
     "output_type": "stream",
     "text": [
      "N28;N3 ;N24;N6 ;N2 ;N1 ;N5 ;N7 \n",
      "N9 ;N10;N8 ;N15;N11;N14;N13;N12\n",
      "N17;N18;N16;N23;N19;N22;N21;N20\n",
      "N4 ;N27;N0 ;N30;N26;N25;N29;N31\n",
      "\n"
     ]
    }
   ],
   "source": [
    "print34(max_correct_state)"
   ]
  },
  {
   "cell_type": "code",
   "execution_count": 260,
   "id": "71f67019-515a-412f-9b14-f544f9fc614a",
   "metadata": {},
   "outputs": [
    {
     "name": "stderr",
     "output_type": "stream",
     "text": [
      "  0%|                                                                                 | 3743/16429825 [00:00<07:22, 37148.48it/s]"
     ]
    },
    {
     "name": "stdout",
     "output_type": "stream",
     "text": [
      "50 ['N26', 'N3', 'N24', 'N6', 'N4', 'N1', 'N5', 'N7', 'N9', 'N10', 'N8', 'N15', 'N11', 'N14', 'N13', 'N12', 'N17', 'N18', 'N16', 'N23', 'N19', 'N22', 'N21', 'N20', 'N2', 'N27', 'N0', 'N30', 'N28', 'N25', 'N29', 'N31'] -r0.f1.r0.-r3.f1.r3\n",
      "51 ['N28', 'N24', 'N3', 'N6', 'N2', 'N1', 'N5', 'N7', 'N9', 'N8', 'N10', 'N15', 'N11', 'N14', 'N13', 'N12', 'N17', 'N16', 'N18', 'N23', 'N19', 'N22', 'N21', 'N20', 'N4', 'N0', 'N27', 'N30', 'N26', 'N25', 'N29', 'N31'] f2.-r0.-r1.f2.r0.r1.-r2.-r3.f2.r2.r3.f2\n",
      "52 ['N26', 'N24', 'N3', 'N6', 'N4', 'N1', 'N5', 'N7', 'N9', 'N8', 'N10', 'N15', 'N11', 'N14', 'N13', 'N12', 'N17', 'N16', 'N18', 'N23', 'N19', 'N22', 'N21', 'N20', 'N2', 'N0', 'N27', 'N30', 'N28', 'N25', 'N29', 'N31'] -r0.f1.r0.-r3.f1.r3.f2.-r0.-r1.f2.r0.r1.-r2.-r3.f2.r2.r3.f2\n",
      "54 ['N7', 'N3', 'N6', 'N4', 'N2', 'N1', 'N5', 'N0', 'N12', 'N10', 'N15', 'N8', 'N11', 'N14', 'N13', 'N9', 'N20', 'N18', 'N23', 'N16', 'N19', 'N22', 'N21', 'N17', 'N31', 'N27', 'N30', 'N28', 'N26', 'N25', 'N29', 'N24'] f0.-r0.-r1.f0.r0.r1.-r2.-r3.f0.r2.r3.f0.f3.-r0.-r1.f3.r0.r1.-r2.-r3.f3.r2.r3.f3.-r0.f0.r0.-r3.f0.r3\n",
      "55 ['N7', 'N3', 'N6', 'N4', 'N2', 'N1', 'N5', 'N0', 'N9', 'N10', 'N15', 'N8', 'N11', 'N14', 'N13', 'N12', 'N17', 'N18', 'N23', 'N16', 'N19', 'N22', 'N21', 'N20', 'N31', 'N27', 'N30', 'N28', 'N26', 'N25', 'N29', 'N24'] f0.-r0.f0.r0.-r3.f0.r3.f0.f3.-r0.-r1.f3.r0.r1.-r2.-r3.f3.r2.r3.f3.-r0.f0.r0.-r3.f0.r3\n"
     ]
    },
    {
     "name": "stderr",
     "output_type": "stream",
     "text": [
      "  0%|                                                                                | 14068/16429825 [00:00<08:32, 32025.90it/s]"
     ]
    },
    {
     "name": "stdout",
     "output_type": "stream",
     "text": [
      "58 ['N0', 'N3', 'N6', 'N2', 'N4', 'N1', 'N5', 'N7', 'N9', 'N10', 'N15', 'N11', 'N8', 'N14', 'N13', 'N12', 'N17', 'N18', 'N23', 'N19', 'N16', 'N22', 'N21', 'N20', 'N24', 'N27', 'N30', 'N26', 'N28', 'N25', 'N29', 'N31'] f3.-r0.-r1.f3.r0.r1.-r2.-r3.f3.r2.r3.f3.f4.-r0.-r1.f4.r0.r1.-r2.-r3.f4.r2.r3.f4.-r0.f1.r0.-r3.f1.r3\n"
     ]
    },
    {
     "name": "stderr",
     "output_type": "stream",
     "text": [
      "  1%|▌                                                                              | 126296/16429825 [00:03<07:47, 34859.18it/s]"
     ]
    },
    {
     "name": "stdout",
     "output_type": "stream",
     "text": [
      "59 ['N0', 'N3', 'N6', 'N2', 'N4', 'N1', 'N5', 'N7', 'N9', 'N8', 'N15', 'N10', 'N11', 'N14', 'N13', 'N12', 'N17', 'N16', 'N23', 'N18', 'N19', 'N22', 'N21', 'N20', 'N24', 'N27', 'N30', 'N26', 'N28', 'N25', 'N29', 'N31'] f2.-r1.f2.r1.-r2.f2.r2.f2.f3.-r0.-r1.f3.r0.r1.-r2.-r3.f3.r2.r3.f3.f4.-r0.f4.r0.-r3.f4.r3.f4.-r0.f1.r0.-r3.f1.r3\n"
     ]
    },
    {
     "name": "stderr",
     "output_type": "stream",
     "text": [
      "  1%|▋                                                                              | 145080/16429825 [00:04<07:34, 35804.73it/s]"
     ]
    },
    {
     "name": "stdout",
     "output_type": "stream",
     "text": [
      "60 ['N0', 'N6', 'N3', 'N2', 'N4', 'N1', 'N5', 'N7', 'N9', 'N8', 'N10', 'N11', 'N15', 'N14', 'N13', 'N12', 'N17', 'N16', 'N18', 'N19', 'N23', 'N22', 'N21', 'N20', 'N24', 'N30', 'N27', 'N26', 'N28', 'N25', 'N29', 'N31'] f3.-r0.f3.r0.-r3.f3.r3.f3.f2.-r0.-r1.f2.r0.r1.-r2.-r3.f2.r2.r3.f2.f4.-r0.-r1.f4.r0.r1.-r2.-r3.f4.r2.r3.f4.-r0.f1.r0.-r3.f1.r3\n"
     ]
    },
    {
     "name": "stderr",
     "output_type": "stream",
     "text": [
      " 95%|█████████████████████████████████████████████████████████████████████████    | 15600419/16429825 [07:19<00:27, 30291.44it/s]"
     ]
    },
    {
     "name": "stdout",
     "output_type": "stream",
     "text": [
      "61 ['N0', 'N2', 'N3', 'N1', 'N4', 'N6', 'N5', 'N7', 'N9', 'N8', 'N10', 'N15', 'N11', 'N14', 'N13', 'N12', 'N17', 'N16', 'N18', 'N23', 'N19', 'N22', 'N21', 'N20', 'N24', 'N26', 'N27', 'N25', 'N28', 'N30', 'N29', 'N31'] f4.-r0.-r1.f4.r0.r1.-r2.-r3.f4.r2.r3.f4.f3.-r0.f3.r0.-r3.f3.r3.f3.f2.-r0.-r1.f2.r0.r1.-r2.-r3.f2.r2.r3.f2.f5.-r0.f5.r0.-r3.f5.r3.f5.f4.-r0.-r1.f4.r0.r1.-r2.-r3.f4.r2.r3.f4.-r0.f1.r0.-r3.f1.r3\n"
     ]
    },
    {
     "name": "stderr",
     "output_type": "stream",
     "text": [
      "100%|█████████████████████████████████████████████████████████████████████████████| 16429825/16429825 [07:44<00:00, 35407.30it/s]"
     ]
    },
    {
     "name": "stdout",
     "output_type": "stream",
     "text": [
      "61 ['N0', 'N2', 'N3', 'N1', 'N4', 'N6', 'N5', 'N7', 'N9', 'N8', 'N10', 'N15', 'N11', 'N14', 'N13', 'N12', 'N17', 'N16', 'N18', 'N23', 'N19', 'N22', 'N21', 'N20', 'N24', 'N26', 'N27', 'N25', 'N28', 'N30', 'N29', 'N31'] f4.-r0.-r1.f4.r0.r1.-r2.-r3.f4.r2.r3.f4.f3.-r0.f3.r0.-r3.f3.r3.f3.f2.-r0.-r1.f2.r0.r1.-r2.-r3.f2.r2.r3.f2.f5.-r0.f5.r0.-r3.f5.r3.f5.f4.-r0.-r1.f4.r0.r1.-r2.-r3.f4.r2.r3.f4.-r0.f1.r0.-r3.f1.r3\n"
     ]
    },
    {
     "name": "stderr",
     "output_type": "stream",
     "text": [
      "\n"
     ]
    }
   ],
   "source": [
    "tuning2 = max_correct_state\n",
    "state = tuning2\n",
    "correct_num = count_correct(state, solution_state)\n",
    "max_correct_num = correct_num\n",
    "max_correct_state = []\n",
    "max_correct_moves = ''\n",
    "\n",
    "for key in tqdm.tqdm(solve_dict_rev, total=len(solve_dict_rev)):\n",
    "    state = tuning2\n",
    "    new_state = Permutation(solve_dict_rev[key])(state)\n",
    "    correct_num = count_correct(new_state, solution_state)\n",
    "    if max_correct_num < correct_num:\n",
    "        max_correct_num = correct_num\n",
    "        max_correct_state = new_state\n",
    "        max_correct_moves = key\n",
    "        print(max_correct_num, max_correct_state, max_correct_moves)\n",
    "print(max_correct_num, max_correct_state, max_correct_moves)"
   ]
  },
  {
   "cell_type": "code",
   "execution_count": 261,
   "id": "a12d3ca1-2a29-41a1-8d49-304f5dfafb21",
   "metadata": {},
   "outputs": [
    {
     "name": "stdout",
     "output_type": "stream",
     "text": [
      "N0 ;N2 ;N3 ;N1 ;N4 ;N6 ;N5 ;N7 \n",
      "N9 ;N8 ;N10;N15;N11;N14;N13;N12\n",
      "N17;N16;N18;N23;N19;N22;N21;N20\n",
      "N24;N26;N27;N25;N28;N30;N29;N31\n",
      "\n"
     ]
    }
   ],
   "source": [
    "print34(max_correct_state)"
   ]
  },
  {
   "cell_type": "code",
   "execution_count": 262,
   "id": "0b5aba88-662b-4772-ba9b-88279c2471b3",
   "metadata": {},
   "outputs": [
    {
     "name": "stderr",
     "output_type": "stream",
     "text": [
      "  0%|                                                                                 | 3445/16429825 [00:00<08:01, 34147.66it/s]"
     ]
    },
    {
     "name": "stdout",
     "output_type": "stream",
     "text": [
      "62 ['N0', 'N2', 'N1', 'N3', 'N4', 'N6', 'N5', 'N7', 'N9', 'N8', 'N15', 'N10', 'N11', 'N14', 'N13', 'N12', 'N17', 'N16', 'N23', 'N18', 'N19', 'N22', 'N21', 'N20', 'N24', 'N26', 'N25', 'N27', 'N28', 'N30', 'N29', 'N31'] f3.-r0.-r1.f3.r0.r1.-r2.-r3.f3.r2.r3.f3\n"
     ]
    },
    {
     "name": "stderr",
     "output_type": "stream",
     "text": [
      "  1%|▋                                                                              | 141300/16429825 [00:03<07:15, 37361.28it/s]"
     ]
    },
    {
     "name": "stdout",
     "output_type": "stream",
     "text": [
      "63 ['N0', 'N2', 'N1', 'N3', 'N4', 'N5', 'N7', 'N6', 'N9', 'N8', 'N15', 'N10', 'N11', 'N12', 'N13', 'N14', 'N17', 'N16', 'N23', 'N18', 'N19', 'N20', 'N21', 'N22', 'N24', 'N26', 'N25', 'N27', 'N28', 'N29', 'N31', 'N30'] f3.-r0.-r1.f3.r0.r1.-r2.-r3.f3.r2.r3.f3.f6.-r0.-r1.f6.r0.r1.-r2.-r3.f6.r2.r3.f6.f7.-r0.-r1.f7.r0.r1.-r2.-r3.f7.r2.r3.f7.f6.-r1.f6.r1.-r2.f6.r2.f6\n"
     ]
    },
    {
     "name": "stderr",
     "output_type": "stream",
     "text": [
      " 90%|█████████████████████████████████████████████████████████████████████▏       | 14755713/16429825 [06:29<00:39, 42847.77it/s]"
     ]
    },
    {
     "name": "stdout",
     "output_type": "stream",
     "text": [
      "64 ['N0', 'N2', 'N1', 'N4', 'N3', 'N5', 'N7', 'N6', 'N9', 'N8', 'N10', 'N11', 'N13', 'N12', 'N15', 'N14', 'N17', 'N16', 'N18', 'N19', 'N21', 'N20', 'N23', 'N22', 'N24', 'N26', 'N25', 'N28', 'N27', 'N29', 'N31', 'N30'] f3.-r0.f3.r0.-r3.f3.r3.f3.f4.-r0.-r1.f4.r0.r1.-r2.-r3.f4.r2.r3.f4.f6.-r0.-r1.f6.r0.r1.-r2.-r3.f6.r2.r3.f6.f5.-r1.f5.r1.-r2.f5.r2.f5.f7.-r0.-r1.f7.r0.r1.-r2.-r3.f7.r2.r3.f7.f6.-r1.f6.r1.-r2.f6.r2.f6\n"
     ]
    },
    {
     "name": "stderr",
     "output_type": "stream",
     "text": [
      "100%|█████████████████████████████████████████████████████████████████████████████| 16429825/16429825 [07:09<00:00, 38275.76it/s]"
     ]
    },
    {
     "name": "stdout",
     "output_type": "stream",
     "text": [
      "64 ['N0', 'N2', 'N1', 'N4', 'N3', 'N5', 'N7', 'N6', 'N9', 'N8', 'N10', 'N11', 'N13', 'N12', 'N15', 'N14', 'N17', 'N16', 'N18', 'N19', 'N21', 'N20', 'N23', 'N22', 'N24', 'N26', 'N25', 'N28', 'N27', 'N29', 'N31', 'N30'] f3.-r0.f3.r0.-r3.f3.r3.f3.f4.-r0.-r1.f4.r0.r1.-r2.-r3.f4.r2.r3.f4.f6.-r0.-r1.f6.r0.r1.-r2.-r3.f6.r2.r3.f6.f5.-r1.f5.r1.-r2.f5.r2.f5.f7.-r0.-r1.f7.r0.r1.-r2.-r3.f7.r2.r3.f7.f6.-r1.f6.r1.-r2.f6.r2.f6\n"
     ]
    },
    {
     "name": "stderr",
     "output_type": "stream",
     "text": [
      "\n"
     ]
    }
   ],
   "source": [
    "tuning3 = max_correct_state\n",
    "state = tuning3\n",
    "correct_num = count_correct(state, solution_state)\n",
    "max_correct_num = correct_num\n",
    "max_correct_state = []\n",
    "max_correct_moves = ''\n",
    "\n",
    "for key in tqdm.tqdm(solve_dict_rev, total=len(solve_dict_rev)):\n",
    "    state = tuning3\n",
    "    new_state = Permutation(solve_dict_rev[key])(state)\n",
    "    correct_num = count_correct(new_state, solution_state)\n",
    "    if max_correct_num < correct_num:\n",
    "        max_correct_num = correct_num\n",
    "        max_correct_state = new_state\n",
    "        max_correct_moves = key\n",
    "        print(max_correct_num, max_correct_state, max_correct_moves)\n",
    "print(max_correct_num, max_correct_state, max_correct_moves)"
   ]
  },
  {
   "cell_type": "code",
   "execution_count": 263,
   "id": "522e8b35-db54-4c0d-bca1-48f870a65077",
   "metadata": {},
   "outputs": [
    {
     "name": "stdout",
     "output_type": "stream",
     "text": [
      "N0 ;N2 ;N1 ;N4 ;N3 ;N5 ;N7 ;N6 \n",
      "N9 ;N8 ;N10;N11;N13;N12;N15;N14\n",
      "N17;N16;N18;N19;N21;N20;N23;N22\n",
      "N24;N26;N25;N28;N27;N29;N31;N30\n",
      "\n"
     ]
    }
   ],
   "source": [
    "print34(max_correct_state)"
   ]
  },
  {
   "cell_type": "code",
   "execution_count": 269,
   "id": "28ed2757-036c-4d34-8b92-b17142dbb62e",
   "metadata": {},
   "outputs": [
    {
     "name": "stdout",
     "output_type": "stream",
     "text": [
      "N0 ;N2 ;N1 ;N4 ;N3 ;N5 ;N7 ;N6 \n",
      "N9 ;N8 ;N10;N11;N13;N12;N15;N14\n",
      "N17;N16;N18;N19;N21;N20;N23;N22\n",
      "N24;N26;N25;N28;N27;N29;N31;N30\n",
      "\n",
      "N0 ;N2 ;N1 ;N4 ;N3 ;N5 ;N6 ;N7 \n",
      "N9 ;N8 ;N10;N11;N13;N12;N14;N15\n",
      "N17;N16;N18;N19;N21;N20;N22;N23\n",
      "N24;N26;N25;N28;N27;N29;N30;N31\n",
      "\n",
      "N0 ;N1 ;N2 ;N3 ;N4 ;N5 ;N6 ;N7 \n",
      "N9 ;N8 ;N10;N11;N13;N12;N14;N15\n",
      "N17;N16;N18;N19;N21;N20;N22;N23\n",
      "N24;N25;N26;N27;N28;N29;N30;N31\n",
      "\n",
      "N0 ;N1 ;N2 ;N3 ;N4 ;N5 ;N6 ;N7 \n",
      "N8 ;N9 ;N10;N11;N12;N13;N14;N15\n",
      "N16;N17;N18;N19;N20;N21;N22;N23\n",
      "N24;N25;N26;N27;N28;N29;N30;N31\n",
      "\n"
     ]
    }
   ],
   "source": [
    "tuning4 = max_correct_state\n",
    "state = tuning4\n",
    "print34(state)\n",
    "\n",
    "state = allowed_moves['f7'](state)\n",
    "state = allowed_moves['-r0'](state)\n",
    "state = allowed_moves['-r1'](state)\n",
    "state = allowed_moves['f7'](state)\n",
    "state = allowed_moves['r0'](state)\n",
    "state = allowed_moves['r1'](state)\n",
    "state = allowed_moves['-r2'](state)\n",
    "state = allowed_moves['-r3'](state)\n",
    "state = allowed_moves['f7'](state)\n",
    "state = allowed_moves['r2'](state)\n",
    "state = allowed_moves['r3'](state)\n",
    "state = allowed_moves['f7'](state)\n",
    "print34(state)\n",
    "\n",
    "state = allowed_moves['f2'](state)\n",
    "state = allowed_moves['-r0'](state)\n",
    "state = allowed_moves['f2'](state)\n",
    "state = allowed_moves['r0'](state)\n",
    "state = allowed_moves['-r3'](state)\n",
    "state = allowed_moves['f2'](state)\n",
    "state = allowed_moves['r3'](state)\n",
    "state = allowed_moves['f2'](state)\n",
    "\n",
    "state = allowed_moves['f4'](state)\n",
    "state = allowed_moves['-r0'](state)\n",
    "state = allowed_moves['f4'](state)\n",
    "state = allowed_moves['r0'](state)\n",
    "state = allowed_moves['-r3'](state)\n",
    "state = allowed_moves['f4'](state)\n",
    "state = allowed_moves['r3'](state)\n",
    "state = allowed_moves['f4'](state)\n",
    "print34(state)\n",
    "\n",
    "state = allowed_moves['f1'](state)\n",
    "state = allowed_moves['-r1'](state)\n",
    "state = allowed_moves['f1'](state)\n",
    "state = allowed_moves['r1'](state)\n",
    "state = allowed_moves['-r2'](state)\n",
    "state = allowed_moves['f1'](state)\n",
    "state = allowed_moves['r2'](state)\n",
    "state = allowed_moves['f1'](state)\n",
    "\n",
    "state = allowed_moves['f5'](state)\n",
    "state = allowed_moves['-r1'](state)\n",
    "state = allowed_moves['f5'](state)\n",
    "state = allowed_moves['r1'](state)\n",
    "state = allowed_moves['-r2'](state)\n",
    "state = allowed_moves['f5'](state)\n",
    "state = allowed_moves['r2'](state)\n",
    "state = allowed_moves['f5'](state)\n",
    "print34(state)\n"
   ]
  },
  {
   "cell_type": "code",
   "execution_count": null,
   "id": "8d9a8943-15ed-4928-84b8-f667db14f5ca",
   "metadata": {},
   "outputs": [],
   "source": []
  },
  {
   "cell_type": "code",
   "execution_count": null,
   "id": "ab3a193c-53f2-4310-89a5-04b0bc5d362f",
   "metadata": {},
   "outputs": [],
   "source": []
  },
  {
   "cell_type": "code",
   "execution_count": null,
   "id": "2f37634a-18bf-4f00-a068-7a05228ad798",
   "metadata": {},
   "outputs": [],
   "source": []
  },
  {
   "cell_type": "code",
   "execution_count": 24,
   "id": "04ae442e-1a98-4aad-8238-91584902bf99",
   "metadata": {},
   "outputs": [
    {
     "name": "stderr",
     "output_type": "stream",
     "text": [
      "  0%|                                                                                | 15626/16429825 [00:00<05:07, 53435.22it/s]"
     ]
    },
    {
     "name": "stdout",
     "output_type": "stream",
     "text": [
      "48 ['A', 'A', 'C', 'C', 'E', 'E', 'G', 'G', 'A', 'A', 'C', 'C', 'E', 'E', 'G', 'G', 'B', 'B', 'D', 'D', 'F', 'F', 'H', 'H', 'B', 'B', 'D', 'D', 'F', 'F', 'H', 'H'] f1.-r0.-r1.f1.r0.r1.-r2.-r3.f1.r2.r3.f1.f7.-r0.-r1.f7.r0.r1.-r2.-r3.f7.r2.r3.f7.f0.-r1.f0.r1.-r2.f0.r2.f0\n"
     ]
    },
    {
     "name": "stderr",
     "output_type": "stream",
     "text": [
      "100%|█████████████████████████████████████████████████████████████████████████████| 16429825/16429825 [04:52<00:00, 56205.48it/s]"
     ]
    },
    {
     "name": "stdout",
     "output_type": "stream",
     "text": [
      "48 ['A', 'A', 'C', 'C', 'E', 'E', 'G', 'G', 'A', 'A', 'C', 'C', 'E', 'E', 'G', 'G', 'B', 'B', 'D', 'D', 'F', 'F', 'H', 'H', 'B', 'B', 'D', 'D', 'F', 'F', 'H', 'H'] f1.-r0.-r1.f1.r0.r1.-r2.-r3.f1.r2.r3.f1.f7.-r0.-r1.f7.r0.r1.-r2.-r3.f7.r2.r3.f7.f0.-r1.f0.r1.-r2.f0.r2.f0\n"
     ]
    },
    {
     "name": "stderr",
     "output_type": "stream",
     "text": [
      "\n"
     ]
    }
   ],
   "source": [
    "tuning4 = max_correct_state\n",
    "state = tuning4\n",
    "correct_num = count_correct(state, solution_state)\n",
    "max_correct_num = correct_num\n",
    "max_correct_state = []\n",
    "max_correct_moves = ''\n",
    "\n",
    "for key in tqdm.tqdm(solve_dict_rev, total=len(solve_dict_rev)):\n",
    "    state = tuning4\n",
    "    new_state = Permutation(solve_dict_rev[key])(state)\n",
    "    correct_num = count_correct(new_state, solution_state)\n",
    "    if max_correct_num < correct_num:\n",
    "        max_correct_num = correct_num\n",
    "        max_correct_state = new_state\n",
    "        max_correct_moves = key\n",
    "        print(max_correct_num, max_correct_state, max_correct_moves)\n",
    "print(max_correct_num, max_correct_state, max_correct_moves)"
   ]
  },
  {
   "cell_type": "code",
   "execution_count": 23,
   "id": "5185554e-d233-4cd5-a2ea-1d178de31170",
   "metadata": {},
   "outputs": [
    {
     "name": "stdout",
     "output_type": "stream",
     "text": [
      "A;A;C;C;E;E;G;G\n",
      "A;G;C;C;E;E;A;G\n",
      "B;H;D;D;F;F;B;H\n",
      "B;B;D;D;F;F;H;H\n",
      "\n"
     ]
    }
   ],
   "source": [
    "print34(max_correct_state)"
   ]
  },
  {
   "cell_type": "code",
   "execution_count": null,
   "id": "50a5ef4f-0da5-4cb2-b79a-8d5f6c38e769",
   "metadata": {},
   "outputs": [],
   "source": [
    "# 120"
   ]
  },
  {
   "cell_type": "code",
   "execution_count": null,
   "id": "1344c7c9-c5dc-40c0-8678-bd9b8bd68e72",
   "metadata": {},
   "outputs": [],
   "source": []
  },
  {
   "cell_type": "code",
   "execution_count": null,
   "id": "6693da3b-1f4f-487a-9d05-b0573c78f995",
   "metadata": {},
   "outputs": [],
   "source": []
  },
  {
   "cell_type": "code",
   "execution_count": null,
   "id": "7f200a7c-ced5-446a-ac4e-1b0bc43f66e5",
   "metadata": {},
   "outputs": [],
   "source": []
  },
  {
   "cell_type": "code",
   "execution_count": null,
   "id": "d6cd4ca8-f0a6-47c7-a373-249774736096",
   "metadata": {},
   "outputs": [],
   "source": []
  },
  {
   "cell_type": "code",
   "execution_count": null,
   "id": "2d7d0e8c-a7ef-4500-b459-531b4ffe706e",
   "metadata": {},
   "outputs": [],
   "source": []
  },
  {
   "cell_type": "code",
   "execution_count": null,
   "id": "4afd81a4-2e75-4a90-a415-d79bbb74b90d",
   "metadata": {},
   "outputs": [],
   "source": []
  },
  {
   "cell_type": "code",
   "execution_count": null,
   "id": "c3e644f1-88d3-4ff4-b1eb-0cd1a568d90b",
   "metadata": {},
   "outputs": [],
   "source": []
  },
  {
   "cell_type": "code",
   "execution_count": null,
   "id": "58ae452d-94f0-4ac3-858c-0170bcffca96",
   "metadata": {},
   "outputs": [],
   "source": [
    "# 極の左右入れ替え\n",
    "state = allowed_moves['f2'](state)\n",
    "state = allowed_moves['-r0'](state)\n",
    "state = allowed_moves['f2'](state)\n",
    "state = allowed_moves['r0'](state)\n",
    "state = allowed_moves['-r3'](state)\n",
    "state = allowed_moves['f2'](state)\n",
    "state = allowed_moves['r3'](state)\n",
    "state = allowed_moves['f2'](state)"
   ]
  },
  {
   "cell_type": "code",
   "execution_count": null,
   "id": "f3212e38-fd45-4929-a146-fffbf55c7e62",
   "metadata": {},
   "outputs": [],
   "source": [
    "# 中央の左右入れ替え\n",
    "state = allowed_moves['f2'](state)\n",
    "state = allowed_moves['-r1'](state)\n",
    "state = allowed_moves['f2'](state)\n",
    "state = allowed_moves['r1'](state)\n",
    "state = allowed_moves['-r2'](state)\n",
    "state = allowed_moves['f2'](state)\n",
    "state = allowed_moves['r2'](state)\n",
    "state = allowed_moves['f2'](state)"
   ]
  },
  {
   "cell_type": "code",
   "execution_count": null,
   "id": "b5ea1139-4483-40bd-b9cc-ef0ac01db1a6",
   "metadata": {},
   "outputs": [],
   "source": [
    "# 極の対角線の入れ替え\n",
    "state = allowed_moves['-r0'](state)\n",
    "state = allowed_moves['f4'](state)\n",
    "state = allowed_moves['r0'](state)\n",
    "state = allowed_moves['-r3'](state)\n",
    "state = allowed_moves['f4'](state)\n",
    "state = allowed_moves['r3'](state)"
   ]
  },
  {
   "cell_type": "code",
   "execution_count": null,
   "id": "df9d18f5-0f2d-4060-9da6-775b098db361",
   "metadata": {},
   "outputs": [],
   "source": [
    "# 中央対角線の入れ替え\n",
    "state = allowed_moves['-r1'](state)\n",
    "state = allowed_moves['f4'](state)\n",
    "state = allowed_moves['r1'](state)\n",
    "state = allowed_moves['-r2'](state)\n",
    "state = allowed_moves['f4'](state)\n",
    "state = allowed_moves['r2'](state)"
   ]
  },
  {
   "cell_type": "code",
   "execution_count": null,
   "id": "109c8e07-36a6-4c0e-ba7e-7fe6b75ca453",
   "metadata": {},
   "outputs": [],
   "source": []
  }
 ],
 "metadata": {
  "kernelspec": {
   "display_name": "santa2023-py3.11",
   "language": "python",
   "name": "santa2023-py3.11"
  },
  "language_info": {
   "codemirror_mode": {
    "name": "ipython",
    "version": 3
   },
   "file_extension": ".py",
   "mimetype": "text/x-python",
   "name": "python",
   "nbconvert_exporter": "python",
   "pygments_lexer": "ipython3",
   "version": "3.11.1"
  }
 },
 "nbformat": 4,
 "nbformat_minor": 5
}
