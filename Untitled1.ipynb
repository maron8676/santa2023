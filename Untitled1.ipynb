{
 "cells": [
  {
   "cell_type": "code",
   "execution_count": 1,
   "id": "abe82156-3b77-4d8b-bb34-1a41817e8be9",
   "metadata": {},
   "outputs": [],
   "source": [
    "import pickle\n",
    "import time\n",
    "from ast import literal_eval\n",
    "from collections import deque\n",
    "from sys import stdin\n",
    "\n",
    "import pandas as pd\n",
    "import tqdm\n",
    "from sympy.combinatorics import Permutation"
   ]
  },
  {
   "cell_type": "code",
   "execution_count": 2,
   "id": "c15cbadb-8f12-477f-9c8d-4a7e19920b51",
   "metadata": {},
   "outputs": [],
   "source": [
    "puzzle_info = pd.read_csv(\"puzzle_info.csv\", index_col='puzzle_type')\n",
    "puzzles = pd.read_csv(\"puzzles.csv\")\n",
    "sample_submission = pd.read_csv(\"submission_public.csv\", index_col='id')\n",
    "base_moves = [\"r0\", \"-r0\", \"r1\", \"-r1\", \"f0\", \"f1\", \"f2\", \"f3\", \"f4\", \"f5\", \"f6\", \"f7\", \"f8\", \"f9\", \"f10\", \"f11\", \"f12\",\n",
    "              \"f13\", \"f14\", \"f15\"]"
   ]
  },
  {
   "cell_type": "code",
   "execution_count": 3,
   "id": "d77589f4-e76a-4b3c-8e6f-095b00ca096a",
   "metadata": {},
   "outputs": [],
   "source": [
    "selected_types = ['globe_1/8']\n",
    "subset = puzzles[puzzles['puzzle_type'].isin(selected_types)]"
   ]
  },
  {
   "cell_type": "code",
   "execution_count": 4,
   "id": "eb65b877-21fd-4417-a95b-7408f2caccf6",
   "metadata": {},
   "outputs": [],
   "source": [
    "globe18 = []\n",
    "for index, row in subset.iterrows():\n",
    "    globe18.append(index)"
   ]
  },
  {
   "cell_type": "code",
   "execution_count": 5,
   "id": "1414679c-d940-4600-9a17-fd5c2fa5d131",
   "metadata": {},
   "outputs": [],
   "source": [
    "globe_1_8type = 'globe_1/8'\n",
    "selected_types = [globe_1_8type]\n",
    "\n",
    "# globe_1/8の状態数\n",
    "allowed_moves = literal_eval(puzzle_info.loc[globe_1_8type, 'allowed_moves'])\n",
    "allowed_moves = {k: Permutation(v) for k, v in allowed_moves.items()}\n",
    "key_list = list(allowed_moves.keys())\n",
    "for key in key_list:\n",
    "    if key[0] == \"r\":\n",
    "        allowed_moves[\"-\" + key] = allowed_moves[key] ** (-1)"
   ]
  },
  {
   "cell_type": "code",
   "execution_count": 6,
   "id": "2c9aeaed-b47c-4862-b4e0-f4b0ece37106",
   "metadata": {},
   "outputs": [],
   "source": [
    "def count_pair(state, r, f):\n",
    "    count = 0\n",
    "    for i in range(r+1):\n",
    "        for j in range(f*2):\n",
    "            if state[i*f*2+j] == state[i*f*2+(j+1)%(f*2)]:\n",
    "                count += 1\n",
    "\n",
    "    return count"
   ]
  },
  {
   "cell_type": "code",
   "execution_count": 32,
   "id": "40d6db53-32e6-41c0-8606-60f99239534d",
   "metadata": {},
   "outputs": [],
   "source": [
    "def count_correct(state, correct):\n",
    "    count = 0\n",
    "    return sum([state[i] == correct[i] for i in range(len(state))])"
   ]
  },
  {
   "cell_type": "code",
   "execution_count": 7,
   "id": "81d107fc-7683-44c3-b6e8-63aeb9c295db",
   "metadata": {},
   "outputs": [
    {
     "name": "stderr",
     "output_type": "stream",
     "text": [
      "100%|█████████████████████████████████████████████████████████████████████████████████████████████████████████████████████████████████████████| 16333591/16333591 [05:09<00:00, 52717.39it/s]\n"
     ]
    }
   ],
   "source": [
    "with open('globe-1-8-7f_rev.pkl', mode='rb') as f:\n",
    "    globe_moves_7 = pickle.load(f)\n",
    "allowed_globe_moves_7 = {k: Permutation(v) for k, v in tqdm.tqdm(globe_moves_7.items(), total=len(globe_moves_7))}"
   ]
  },
  {
   "cell_type": "code",
   "execution_count": 8,
   "id": "8f57db5e-4b8a-4784-b260-ad5486853501",
   "metadata": {},
   "outputs": [
    {
     "name": "stderr",
     "output_type": "stream",
     "text": [
      "100%|█████████████████████████████████████████████████████████████████████████████████████████████████████████████████████████████████████████| 16098539/16098539 [04:58<00:00, 53848.46it/s]\n"
     ]
    }
   ],
   "source": [
    "with open('globe-1-8-6_rev.pkl', mode='rb') as f:\n",
    "    globe_moves_6 = pickle.load(f)\n",
    "allowed_globe_moves_6 = {k: Permutation(v) for k, v in tqdm.tqdm(globe_moves_6.items(), total=len(globe_moves_6))}"
   ]
  },
  {
   "cell_type": "code",
   "execution_count": 96,
   "id": "0a1f97f1-6776-42b2-816f-d7ee4f68edaa",
   "metadata": {},
   "outputs": [
    {
     "name": "stderr",
     "output_type": "stream",
     "text": [
      "100%|███████████████████████████████████████████████████████████████████████████████████████████████████████████████████████████████████████████████████| 255/255 [00:00<00:00, 36221.47it/s]\n"
     ]
    }
   ],
   "source": [
    "with open('globe-1-8-swap_rev.pkl', mode='rb') as f:\n",
    "    globe_moves_swap = pickle.load(f)\n",
    "allowed_globe_moves_swap = {k: Permutation(v) for k, v in tqdm.tqdm(globe_moves_swap.items(), total=len(globe_moves_swap))}"
   ]
  },
  {
   "cell_type": "code",
   "execution_count": 21,
   "id": "faff7bb8-d231-4c07-8451-b3501025f1b3",
   "metadata": {},
   "outputs": [],
   "source": [
    "operations = ['f1.f2.f0.f5.f6.f4.f7', 'f1.f5', 'f3.f2.f0.f1.f4.f5.f3', 'r0', 'f7.f1.f6.f1.f6.f1', 'r0', 'f3.f6.f1.f4.f1.f6']\n",
    "state = ['D', 'D', 'G', 'P', 'P', 'O', 'O', 'L', 'E', 'E', 'J', 'J', 'F', 'F', 'A', 'A', 'H', 'B', 'B', 'G', 'C', 'C', 'K', 'K', 'M', 'M', 'I', 'I', 'N', 'N', 'L', 'H']"
   ]
  },
  {
   "cell_type": "code",
   "execution_count": null,
   "id": "32563576-d311-40c9-9039-249b4513a6cc",
   "metadata": {},
   "outputs": [],
   "source": []
  },
  {
   "cell_type": "code",
   "execution_count": 34,
   "id": "fcfe47f1-a5ab-4d14-a670-3193c9c5ea59",
   "metadata": {},
   "outputs": [],
   "source": [
    "moves = 'f1.f2.f0.f5.f6.f4.f7.f1.f5.f3.f2.f0.f1.f4.f5.f3.r0.f7.f1.f6.f1.f6.f1.r0.f3.f6.f1.f4.f1.f6'.split('.')"
   ]
  },
  {
   "cell_type": "code",
   "execution_count": 35,
   "id": "f6cf48ff-794a-42e6-8c66-3036e102a14b",
   "metadata": {},
   "outputs": [],
   "source": [
    "state = puzzles.iloc[338].initial_state.split(';')"
   ]
  },
  {
   "cell_type": "code",
   "execution_count": 36,
   "id": "79279920-84e6-4f8d-b6e5-7bd211cda89f",
   "metadata": {},
   "outputs": [],
   "source": [
    "solution_state = puzzles.iloc[338].solution_state.split(';')"
   ]
  },
  {
   "cell_type": "code",
   "execution_count": 37,
   "id": "99b6c60d-8dcf-46ec-a445-8c0dafca9623",
   "metadata": {},
   "outputs": [
    {
     "name": "stdout",
     "output_type": "stream",
     "text": [
      "['D', 'D', 'G', 'P', 'P', 'O', 'O', 'L', 'E', 'E', 'J', 'J', 'F', 'F', 'A', 'A', 'H', 'B', 'B', 'G', 'C', 'C', 'K', 'K', 'M', 'M', 'I', 'I', 'N', 'N', 'L', 'H']\n"
     ]
    }
   ],
   "source": [
    "for move in moves:\n",
    "    state = allowed_moves[move](state)\n",
    "print(state)"
   ]
  },
  {
   "cell_type": "code",
   "execution_count": 38,
   "id": "a3fa9aff-2e74-471f-971a-175abb8ca2f7",
   "metadata": {},
   "outputs": [
    {
     "name": "stderr",
     "output_type": "stream",
     "text": [
      "  0%|▎                                                                                                                                          | 41722/16333591 [00:00<01:17, 209683.21it/s]"
     ]
    },
    {
     "name": "stdout",
     "output_type": "stream",
     "text": [
      "4 ['K', 'K', 'C', 'C', 'G', 'B', 'B', 'H', 'E', 'E', 'J', 'J', 'F', 'F', 'A', 'A', 'L', 'O', 'O', 'P', 'P', 'G', 'D', 'D', 'M', 'M', 'I', 'I', 'N', 'N', 'L', 'H'] f0\n",
      "6 ['D', 'D', 'G', 'P', 'P', 'N', 'I', 'I', 'M', 'M', 'K', 'K', 'C', 'F', 'A', 'A', 'H', 'B', 'B', 'G', 'C', 'F', 'J', 'J', 'E', 'E', 'L', 'O', 'O', 'N', 'L', 'H'] f5\n",
      "7 ['G', 'B', 'B', 'H', 'H', 'L', 'I', 'I', 'M', 'M', 'K', 'K', 'C', 'F', 'F', 'C', 'P', 'G', 'D', 'D', 'A', 'A', 'J', 'J', 'E', 'E', 'L', 'O', 'O', 'N', 'N', 'P'] f5.f14\n",
      "8 ['G', 'B', 'B', 'H', 'H', 'N', 'I', 'I', 'M', 'M', 'K', 'K', 'A', 'F', 'C', 'C', 'P', 'G', 'D', 'D', 'A', 'F', 'J', 'J', 'E', 'E', 'L', 'O', 'L', 'N', 'O', 'P'] f14.f5\n",
      "9 ['G', 'B', 'B', 'H', 'E', 'L', 'N', 'N', 'I', 'I', 'M', 'K', 'C', 'A', 'A', 'C', 'P', 'G', 'D', 'D', 'M', 'K', 'F', 'F', 'J', 'J', 'E', 'O', 'O', 'H', 'L', 'P'] f0.f1.f15.f6\n",
      "10 ['A', 'A', 'C', 'C', 'G', 'B', 'B', 'N', 'I', 'I', 'M', 'K', 'K', 'M', 'D', 'F', 'L', 'H', 'O', 'P', 'P', 'G', 'D', 'F', 'J', 'J', 'E', 'O', 'L', 'E', 'H', 'N'] f0.f9.f10.f7\n",
      "12 ['A', 'A', 'C', 'C', 'G', 'B', 'B', 'N', 'I', 'I', 'K', 'K', 'D', 'M', 'M', 'F', 'L', 'H', 'O', 'P', 'P', 'G', 'D', 'F', 'J', 'J', 'L', 'O', 'H', 'E', 'E', 'N'] f9.f0.f10.f7\n"
     ]
    },
    {
     "name": "stderr",
     "output_type": "stream",
     "text": [
      "  1%|██                                                                                                                                        | 241631/16333591 [00:00<00:55, 288789.24it/s]"
     ]
    },
    {
     "name": "stdout",
     "output_type": "stream",
     "text": [
      "14 ['A', 'A', 'D', 'E', 'E', 'D', 'G', 'N', 'I', 'I', 'K', 'K', 'C', 'F', 'G', 'C', 'L', 'H', 'H', 'M', 'M', 'B', 'B', 'F', 'J', 'J', 'L', 'O', 'O', 'N', 'P', 'P'] f5.f1.f2.f14.f15\n"
     ]
    },
    {
     "name": "stderr",
     "output_type": "stream",
     "text": [
      " 26%|███████████████████████████████████▋                                                                                                     | 4260002/16333591 [00:15<00:46, 259701.68it/s]"
     ]
    },
    {
     "name": "stdout",
     "output_type": "stream",
     "text": [
      "16 ['A', 'A', 'B', 'E', 'E', 'H', 'G', 'O', 'I', 'I', 'K', 'K', 'F', 'F', 'G', 'C', 'L', 'H', 'D', 'M', 'M', 'D', 'B', 'C', 'J', 'J', 'L', 'O', 'N', 'N', 'P', 'P'] f1.f0.f4.f0.f2.f14.f15\n"
     ]
    },
    {
     "name": "stderr",
     "output_type": "stream",
     "text": [
      " 38%|████████████████████████████████████████████████████▋                                                                                    | 6288050/16333591 [00:23<00:35, 280440.27it/s]"
     ]
    },
    {
     "name": "stdout",
     "output_type": "stream",
     "text": [
      "17 ['A', 'A', 'B', 'B', 'E', 'E', 'D', 'O', 'I', 'I', 'K', 'K', 'F', 'F', 'G', 'C', 'L', 'H', 'D', 'G', 'M', 'M', 'H', 'C', 'J', 'J', 'L', 'O', 'N', 'N', 'P', 'P'] f2.f1.f4.f0.f2.f14.f15\n"
     ]
    },
    {
     "name": "stderr",
     "output_type": "stream",
     "text": [
      "100%|████████████████████████████████████████████████████████████████████████████████████████████████████████████████████████████████████████| 16333591/16333591 [01:00<00:00, 268800.59it/s]"
     ]
    },
    {
     "name": "stdout",
     "output_type": "stream",
     "text": [
      "17 ['A', 'A', 'B', 'B', 'E', 'E', 'D', 'O', 'I', 'I', 'K', 'K', 'F', 'F', 'G', 'C', 'L', 'H', 'D', 'G', 'M', 'M', 'H', 'C', 'J', 'J', 'L', 'O', 'N', 'N', 'P', 'P'] f2.f1.f4.f0.f2.f14.f15\n"
     ]
    },
    {
     "name": "stderr",
     "output_type": "stream",
     "text": [
      "\n"
     ]
    }
   ],
   "source": [
    "max_correct = count_correct(state, solution_state)\n",
    "max_state = state\n",
    "max_key = ''\n",
    "for key in tqdm.tqdm(allowed_globe_moves_7, total=len(allowed_globe_moves_7)):\n",
    "    new_state = allowed_globe_moves_7[key](state)\n",
    "    new_correct = count_correct(new_state, solution_state)\n",
    "    if max_correct < new_correct:\n",
    "        max_correct = new_correct\n",
    "        max_state = new_state\n",
    "        max_key = key\n",
    "        print(max_correct, max_state, max_key)\n",
    "print(max_correct, max_state, max_key)"
   ]
  },
  {
   "cell_type": "code",
   "execution_count": 41,
   "id": "b42fb6ea-8208-4e14-980d-9b95b432b82e",
   "metadata": {},
   "outputs": [],
   "source": [
    "operations = ['f2.f1.f4.f0.f2.f14.f15']\n",
    "state = ['A', 'A', 'B', 'B', 'E', 'E', 'D', 'O', 'I', 'I', 'K', 'K', 'F', 'F', 'G', 'C', 'L', 'H', 'D', 'G', 'M', 'M', 'H', 'C', 'J', 'J', 'L', 'O', 'N', 'N', 'P', 'P']"
   ]
  },
  {
   "cell_type": "code",
   "execution_count": 42,
   "id": "31bed152-23ab-42fa-8dec-f0119b5ae545",
   "metadata": {},
   "outputs": [
    {
     "name": "stderr",
     "output_type": "stream",
     "text": [
      "  0%|▎                                                                                                                                          | 40552/16333591 [00:00<01:20, 203396.27it/s]"
     ]
    },
    {
     "name": "stdout",
     "output_type": "stream",
     "text": [
      "11 ['C', 'H', 'M', 'M', 'G', 'D', 'H', 'L', 'I', 'I', 'K', 'K', 'F', 'F', 'G', 'C', 'O', 'D', 'E', 'E', 'B', 'B', 'A', 'A', 'J', 'J', 'L', 'O', 'N', 'N', 'P', 'P'] f0\n",
      "12 ['C', 'H', 'H', 'L', 'I', 'I', 'K', 'K', 'E', 'E', 'B', 'B', 'F', 'F', 'G', 'C', 'O', 'D', 'A', 'A', 'J', 'J', 'L', 'O', 'M', 'M', 'D', 'G', 'N', 'N', 'P', 'P'] f0.f4.f2\n"
     ]
    },
    {
     "name": "stderr",
     "output_type": "stream",
     "text": [
      "  2%|██▏                                                                                                                                       | 264093/16333591 [00:01<01:12, 221870.92it/s]"
     ]
    },
    {
     "name": "stdout",
     "output_type": "stream",
     "text": [
      "13 ['G', 'H', 'H', 'L', 'N', 'N', 'I', 'I', 'G', 'D', 'M', 'M', 'K', 'K', 'C', 'C', 'P', 'D', 'A', 'A', 'F', 'F', 'J', 'J', 'B', 'B', 'E', 'E', 'L', 'O', 'O', 'P'] f7.f0.f4.f2.f6\n"
     ]
    },
    {
     "name": "stderr",
     "output_type": "stream",
     "text": [
      " 90%|██████████████████████████████████████████████████████████████████████████████████████████████████████████████████████████▏             | 14671780/16333591 [01:10<00:07, 208555.79it/s]"
     ]
    },
    {
     "name": "stdout",
     "output_type": "stream",
     "text": [
      "14 ['G', 'B', 'B', 'H', 'H', 'L', 'N', 'N', 'I', 'I', 'M', 'M', 'K', 'K', 'C', 'C', 'P', 'G', 'D', 'D', 'A', 'A', 'F', 'F', 'J', 'J', 'E', 'E', 'L', 'O', 'O', 'P'] f7.f0.f4.f2.f6.f1.f2\n"
     ]
    },
    {
     "name": "stderr",
     "output_type": "stream",
     "text": [
      "100%|████████████████████████████████████████████████████████████████████████████████████████████████████████████████████████████████████████| 16333591/16333591 [01:18<00:00, 208158.22it/s]"
     ]
    },
    {
     "name": "stdout",
     "output_type": "stream",
     "text": [
      "14 ['G', 'B', 'B', 'H', 'H', 'L', 'N', 'N', 'I', 'I', 'M', 'M', 'K', 'K', 'C', 'C', 'P', 'G', 'D', 'D', 'A', 'A', 'F', 'F', 'J', 'J', 'E', 'E', 'L', 'O', 'O', 'P'] f7.f0.f4.f2.f6.f1.f2\n"
     ]
    },
    {
     "name": "stderr",
     "output_type": "stream",
     "text": [
      "\n"
     ]
    }
   ],
   "source": [
    "max_pair = count_pair(state, 1, 8)\n",
    "max_state = state\n",
    "max_key = ''\n",
    "for key in tqdm.tqdm(allowed_globe_moves_7, total=len(allowed_globe_moves_7)):\n",
    "    new_state = allowed_globe_moves_7[key](state)\n",
    "    new_pair = count_pair(new_state, 1, 8)\n",
    "    if max_pair < new_pair:\n",
    "        max_pair = new_pair\n",
    "        max_state = new_state\n",
    "        max_key = key\n",
    "        print(max_pair, max_state, max_key)\n",
    "print(max_pair, max_state, max_key)"
   ]
  },
  {
   "cell_type": "code",
   "execution_count": 43,
   "id": "988b5bd4-827b-434b-a1e8-9f8e908070b2",
   "metadata": {},
   "outputs": [],
   "source": [
    "operations = ['f2.f1.f4.f0.f2.f14.f15', 'f7.f0.f4.f2.f6.f1.f2']\n",
    "state = ['G', 'B', 'B', 'H', 'H', 'L', 'N', 'N', 'I', 'I', 'M', 'M', 'K', 'K', 'C', 'C', 'P', 'G', 'D', 'D', 'A', 'A', 'F', 'F', 'J', 'J', 'E', 'E', 'L', 'O', 'O', 'P']"
   ]
  },
  {
   "cell_type": "code",
   "execution_count": 229,
   "id": "a29c83d4-93a5-4af7-a1e7-462ec85d0ab2",
   "metadata": {},
   "outputs": [
    {
     "name": "stdout",
     "output_type": "stream",
     "text": [
      "G;B;B;H;H;L;N;N;I;I;M;M;K;K;C;C;P;G;D;D;A;A;F;F;J;J;E;E;L;O;O;P\n",
      "C;C;B;H;H;L;N;N;I;I;M;M;K;K;G;B;O;P;D;D;A;A;F;F;J;J;E;E;L;O;P;G\n",
      "B;B;H;H;L;N;N;I;I;M;M;K;K;C;C;G;P;P;D;D;A;A;F;F;J;J;E;E;L;G;O;O\n",
      "I;M;M;K;L;N;N;I;B;B;H;H;K;C;C;G;J;J;E;E;A;A;F;F;P;P;D;D;L;G;O;O\n",
      "M;K;I;M;L;N;N;I;B;B;H;H;K;C;C;G;E;E;J;J;A;A;F;F;P;P;D;D;L;G;O;O\n"
     ]
    }
   ],
   "source": [
    "state = ['G', 'B', 'B', 'H', 'H', 'L', 'N', 'N', 'I', 'I', 'M', 'M', 'K', 'K', 'C', 'C', 'P', 'G', 'D', 'D', 'A', 'A', 'F', 'F', 'J', 'J', 'E', 'E', 'L', 'O', 'O', 'P']\n",
    "print(';'.join(state))\n",
    "state = allowed_moves['f8'](state)\n",
    "state = allowed_moves['r0'](state)\n",
    "state = allowed_moves['r0'](state)\n",
    "state = allowed_moves['f8'](state)\n",
    "state = allowed_moves['r1'](state)\n",
    "state = allowed_moves['r1'](state)\n",
    "state = allowed_moves['-r0'](state)\n",
    "state = allowed_moves['-r0'](state)\n",
    "state = allowed_moves['f8'](state)\n",
    "state = allowed_moves['-r1'](state)\n",
    "state = allowed_moves['-r1'](state)\n",
    "state = allowed_moves['f8'](state)\n",
    "print(';'.join(state))\n",
    "\n",
    "state = allowed_moves['r0'](state)\n",
    "\n",
    "state = allowed_moves['f7'](state)\n",
    "state = allowed_moves['r0'](state)\n",
    "state = allowed_moves['r0'](state)\n",
    "state = allowed_moves['f7'](state)\n",
    "state = allowed_moves['r1'](state)\n",
    "state = allowed_moves['r1'](state)\n",
    "state = allowed_moves['-r0'](state)\n",
    "state = allowed_moves['-r0'](state)\n",
    "state = allowed_moves['f7'](state)\n",
    "state = allowed_moves['-r1'](state)\n",
    "state = allowed_moves['-r1'](state)\n",
    "state = allowed_moves['f7'](state)\n",
    "print(';'.join(state))\n",
    "\n",
    "state = allowed_moves['f0'](state)\n",
    "state = allowed_moves['f4'](state)\n",
    "state = allowed_moves['f0'](state)\n",
    "print(';'.join(state))\n",
    "\n",
    "state = allowed_moves['f10'](state)\n",
    "state = allowed_moves['r0'](state)\n",
    "state = allowed_moves['r0'](state)\n",
    "state = allowed_moves['f10'](state)\n",
    "state = allowed_moves['r1'](state)\n",
    "state = allowed_moves['r1'](state)\n",
    "state = allowed_moves['-r0'](state)\n",
    "state = allowed_moves['-r0'](state)\n",
    "state = allowed_moves['f10'](state)\n",
    "state = allowed_moves['-r1'](state)\n",
    "state = allowed_moves['-r1'](state)\n",
    "state = allowed_moves['f10'](state)\n",
    "print(';'.join(state))\n"
   ]
  },
  {
   "cell_type": "code",
   "execution_count": 208,
   "id": "e35bcc42-aa6a-4962-807d-56e37129d90f",
   "metadata": {},
   "outputs": [
    {
     "name": "stdout",
     "output_type": "stream",
     "text": [
      "[23, 22, 25, 24, 0, 1, 2, 3, 4, 5, 10, 11, 12, 13, 14, 15, 7, 6, 9, 8, 16, 17, 18, 19, 20, 21, 26, 27, 28, 29, 30, 31]\n",
      "[4, 5, 6, 7, 8, 9, 17, 16, 19, 18, 10, 11, 12, 13, 14, 15, 20, 21, 22, 23, 24, 25, 1, 0, 3, 2, 26, 27, 28, 29, 30, 31]\n",
      "[23, 22, 21, 20, 27, 26, 25, 24, 0, 1, 2, 3, 12, 13, 14, 15, 7, 6, 5, 4, 11, 10, 9, 8, 16, 17, 18, 19, 28, 29, 30, 31]\n",
      "[8, 9, 10, 11, 19, 18, 17, 16, 23, 22, 21, 20, 12, 13, 14, 15, 24, 25, 26, 27, 3, 2, 1, 0, 7, 6, 5, 4, 28, 29, 30, 31]\n",
      "[23, 22, 21, 20, 19, 18, 29, 28, 27, 26, 25, 24, 0, 1, 14, 15, 7, 6, 5, 4, 3, 2, 13, 12, 11, 10, 9, 8, 16, 17, 30, 31]\n",
      "[12, 13, 21, 20, 19, 18, 17, 16, 27, 26, 25, 24, 23, 22, 14, 15, 28, 29, 5, 4, 3, 2, 1, 0, 11, 10, 9, 8, 7, 6, 30, 31]\n",
      "[27, 26, 21, 20, 19, 18, 17, 16, 8, 9, 6, 7, 31, 30, 29, 28, 11, 10, 5, 4, 3, 2, 1, 0, 24, 25, 22, 23, 15, 14, 13, 12]\n",
      "[23, 22, 21, 20, 19, 18, 10, 11, 8, 9, 17, 16, 31, 30, 29, 28, 7, 6, 5, 4, 3, 2, 26, 27, 24, 25, 1, 0, 15, 14, 13, 12]\n",
      "[31, 30, 29, 28, 19, 18, 17, 16, 8, 9, 10, 11, 4, 5, 6, 7, 15, 14, 13, 12, 3, 2, 1, 0, 24, 25, 26, 27, 20, 21, 22, 23]\n",
      "[23, 22, 21, 20, 12, 13, 14, 15, 8, 9, 10, 11, 19, 18, 17, 16, 7, 6, 5, 4, 28, 29, 30, 31, 24, 25, 26, 27, 3, 2, 1, 0]\n",
      "[4, 5, 6, 7, 31, 30, 17, 16, 8, 9, 10, 11, 12, 13, 2, 3, 20, 21, 22, 23, 15, 14, 1, 0, 24, 25, 26, 27, 28, 29, 18, 19]\n",
      "[23, 22, 14, 15, 0, 1, 2, 3, 8, 9, 10, 11, 12, 13, 21, 20, 7, 6, 30, 31, 16, 17, 18, 19, 24, 25, 26, 27, 28, 29, 5, 4]\n"
     ]
    }
   ],
   "source": [
    "print(globe_moves_6['f0.f2'])  # 6-9の交換しつつ並びかえ\n",
    "print(globe_moves_6['f2.f0'])  # 0-3の交換しつつ並びかえ\n",
    "print(globe_moves_6['f0.f4'])  # 4-11の交換しつつ並びかえ\n",
    "print(globe_moves_6['f4.f0'])  # 0-7の交換しつつ並びかえ\n",
    "print(globe_moves_6['f0.f6'])  # 2-13の交換しつつ並びかえ\n",
    "print(globe_moves_6['f6.f0'])  # 0-7の交換しつつ並びかえ\n",
    "print(globe_moves_6['f0.f10']) # 0-5,10-15の交換しつつ並びかえ\n",
    "print(globe_moves_6['f10.f0']) # 0-7,12-15の交換しつつ並びかえ\n",
    "print(globe_moves_6['f0.f12']) # 0-3,12-15の交換しつつ並びかえ\n",
    "print(globe_moves_6['f12.f0']) # 0-7の交換しつつ並びかえ\n",
    "print(globe_moves_6['f0.f14']) # 0-1,14-15の交換しつつ並びかえ\n",
    "print(globe_moves_6['f14.f0']) # 4-7の交換しつつ並びかえ"
   ]
  },
  {
   "cell_type": "code",
   "execution_count": 180,
   "id": "2087eabb-fdcd-4eee-bc39-c0405f28e590",
   "metadata": {},
   "outputs": [
    {
     "name": "stdout",
     "output_type": "stream",
     "text": [
      "A;A;C;C;E;E;G;G;I;I;K;K;M;M;O;O;B;B;D;D;F;F;H;H;J;J;L;L;N;N;P;P\n",
      "E;G;G;I;I;K;B;B;D;D;K;M;M;O;O;A;F;F;H;H;J;J;C;A;E;C;L;L;N;N;P;P\n",
      "\n",
      "A;A;C;C;E;E;G;G;I;I;K;K;M;M;O;O;B;B;D;D;F;F;H;H;J;J;L;L;N;N;P;P\n",
      "G;G;I;I;K;D;B;B;F;F;D;K;M;M;O;O;H;H;J;J;L;C;A;A;E;E;C;L;N;N;P;P\n",
      "\n",
      "A;A;C;C;E;E;G;G;I;I;K;K;M;M;O;O;B;B;D;D;F;F;H;H;J;J;L;L;N;N;P;P\n",
      "A;A;C;L;J;J;H;H;F;F;D;K;M;M;O;O;B;B;D;K;I;I;G;G;E;E;C;L;N;N;P;P\n",
      "\n",
      "A;A;C;C;E;E;G;G;I;I;K;K;M;M;O;O;B;B;D;D;F;F;H;H;J;J;L;L;N;N;P;P\n",
      "G;G;I;I;K;D;B;B;F;F;D;K;M;M;O;O;H;H;J;J;L;C;A;A;E;E;C;L;N;N;P;P\n"
     ]
    }
   ],
   "source": [
    "state = ['A', 'A', 'C', 'C', 'E', 'E', 'G', 'G', 'I', 'I', 'K', 'K', 'M', 'M', 'O', 'O', 'B', 'B', 'D', 'D', 'F', 'F', 'H', 'H', 'J', 'J', 'L', 'L', 'N', 'N', 'P', 'P']\n",
    "print(';'.join(state))\n",
    "state = allowed_moves['r0'](state)\n",
    "state = allowed_moves['f2'](state)\n",
    "state = allowed_moves['f0'](state)\n",
    "print(';'.join(state))\n",
    "print()\n",
    "\n",
    "state = ['A', 'A', 'C', 'C', 'E', 'E', 'G', 'G', 'I', 'I', 'K', 'K', 'M', 'M', 'O', 'O', 'B', 'B', 'D', 'D', 'F', 'F', 'H', 'H', 'J', 'J', 'L', 'L', 'N', 'N', 'P', 'P']\n",
    "print(';'.join(state))\n",
    "state = allowed_moves['f3'](state)\n",
    "state = allowed_moves['f0'](state)\n",
    "print(';'.join(state))\n",
    "print()\n",
    "\n",
    "state = ['A', 'A', 'C', 'C', 'E', 'E', 'G', 'G', 'I', 'I', 'K', 'K', 'M', 'M', 'O', 'O', 'B', 'B', 'D', 'D', 'F', 'F', 'H', 'H', 'J', 'J', 'L', 'L', 'N', 'N', 'P', 'P']\n",
    "print(';'.join(state))\n",
    "state = allowed_moves['f3'](state)\n",
    "print(';'.join(state))\n",
    "print()\n",
    "\n",
    "state = ['A', 'A', 'C', 'C', 'E', 'E', 'G', 'G', 'I', 'I', 'K', 'K', 'M', 'M', 'O', 'O', 'B', 'B', 'D', 'D', 'F', 'F', 'H', 'H', 'J', 'J', 'L', 'L', 'N', 'N', 'P', 'P']\n",
    "print(';'.join(state))\n",
    "state = allowed_moves['f3'](state)\n",
    "state = allowed_moves['f0'](state)\n",
    "print(';'.join(state))\n"
   ]
  },
  {
   "cell_type": "code",
   "execution_count": 176,
   "id": "047a4895-73a5-48e6-b3f2-1bbcebbd5c02",
   "metadata": {},
   "outputs": [
    {
     "name": "stdout",
     "output_type": "stream",
     "text": [
      "G;C;C;H;H;L;I;I;K;K;E;E;B;B;F;F;L;O;M;M;D;G;N;N;P;P;O;D;A;A;J;J\n"
     ]
    }
   ],
   "source": [
    "state = ['C', 'H', 'H', 'L', 'I', 'I', 'K', 'K', 'E', 'E', 'B', 'B', 'F', 'F', 'G', 'C', 'O', 'D', 'A', 'A', 'J', 'J', 'L', 'O', 'M', 'M', 'D', 'G', 'N', 'N', 'P', 'P']\n",
    "state = allowed_moves['-r0'](state)\n",
    "state = allowed_moves['-r0'](state)\n",
    "state = allowed_moves['r1'](state)\n",
    "state = allowed_moves['r1'](state)\n",
    "state = allowed_moves['r1'](state)\n",
    "state = allowed_moves['r1'](state)\n",
    "state = allowed_moves['r1'](state)\n",
    "state = allowed_moves['r1'](state)\n",
    "print(';'.join(state))\n",
    "\n"
   ]
  },
  {
   "cell_type": "code",
   "execution_count": 202,
   "id": "11789ca8-612f-4871-8462-e65b1451690a",
   "metadata": {},
   "outputs": [
    {
     "name": "stdout",
     "output_type": "stream",
     "text": [
      "0\n"
     ]
    },
    {
     "name": "stderr",
     "output_type": "stream",
     "text": [
      "100%|█████████████████████████████████████████████████████████████████████████████████████████████████████████████| 16333591/16333591 [01:15<00:00, 217279.40it/s]\n"
     ]
    },
    {
     "name": "stdout",
     "output_type": "stream",
     "text": [
      "207\n",
      "1\n"
     ]
    },
    {
     "name": "stderr",
     "output_type": "stream",
     "text": [
      "100%|█████████████████████████████████████████████████████████████████████████████████████████████████████████████| 16333591/16333591 [01:15<00:00, 216343.33it/s]\n"
     ]
    },
    {
     "name": "stdout",
     "output_type": "stream",
     "text": [
      "731\n",
      "2\n"
     ]
    },
    {
     "name": "stderr",
     "output_type": "stream",
     "text": [
      "100%|█████████████████████████████████████████████████████████████████████████████████████████████████████████████| 16333591/16333591 [01:14<00:00, 218400.14it/s]\n"
     ]
    },
    {
     "name": "stdout",
     "output_type": "stream",
     "text": [
      "6656\n",
      "3\n"
     ]
    },
    {
     "name": "stderr",
     "output_type": "stream",
     "text": [
      "100%|█████████████████████████████████████████████████████████████████████████████████████████████████████████████| 16333591/16333591 [01:15<00:00, 217092.59it/s]\n"
     ]
    },
    {
     "name": "stdout",
     "output_type": "stream",
     "text": [
      "6703\n",
      "4\n"
     ]
    },
    {
     "name": "stderr",
     "output_type": "stream",
     "text": [
      "100%|█████████████████████████████████████████████████████████████████████████████████████████████████████████████| 16333591/16333591 [01:15<00:00, 217308.15it/s]\n"
     ]
    },
    {
     "name": "stdout",
     "output_type": "stream",
     "text": [
      "59061\n",
      "5\n"
     ]
    },
    {
     "name": "stderr",
     "output_type": "stream",
     "text": [
      "100%|█████████████████████████████████████████████████████████████████████████████████████████████████████████████| 16333591/16333591 [01:15<00:00, 216059.19it/s]\n"
     ]
    },
    {
     "name": "stdout",
     "output_type": "stream",
     "text": [
      "59108\n",
      "6\n"
     ]
    },
    {
     "name": "stderr",
     "output_type": "stream",
     "text": [
      "100%|█████████████████████████████████████████████████████████████████████████████████████████████████████████████| 16333591/16333591 [01:15<00:00, 217393.36it/s]\n"
     ]
    },
    {
     "name": "stdout",
     "output_type": "stream",
     "text": [
      "65033\n",
      "7\n"
     ]
    },
    {
     "name": "stderr",
     "output_type": "stream",
     "text": [
      "100%|█████████████████████████████████████████████████████████████████████████████████████████████████████████████| 16333591/16333591 [01:15<00:00, 216380.27it/s]\n"
     ]
    },
    {
     "name": "stdout",
     "output_type": "stream",
     "text": [
      "65557\n",
      "8\n"
     ]
    },
    {
     "name": "stderr",
     "output_type": "stream",
     "text": [
      "100%|█████████████████████████████████████████████████████████████████████████████████████████████████████████████| 16333591/16333591 [01:14<00:00, 218106.21it/s]\n"
     ]
    },
    {
     "name": "stdout",
     "output_type": "stream",
     "text": [
      "65764\n",
      "9\n"
     ]
    },
    {
     "name": "stderr",
     "output_type": "stream",
     "text": [
      "100%|█████████████████████████████████████████████████████████████████████████████████████████████████████████████| 16333591/16333591 [01:15<00:00, 217263.60it/s]\n"
     ]
    },
    {
     "name": "stdout",
     "output_type": "stream",
     "text": [
      "67575\n",
      "10\n"
     ]
    },
    {
     "name": "stderr",
     "output_type": "stream",
     "text": [
      "100%|█████████████████████████████████████████████████████████████████████████████████████████████████████████████| 16333591/16333591 [01:15<00:00, 216487.86it/s]\n"
     ]
    },
    {
     "name": "stdout",
     "output_type": "stream",
     "text": [
      "67654\n",
      "11\n"
     ]
    },
    {
     "name": "stderr",
     "output_type": "stream",
     "text": [
      "100%|█████████████████████████████████████████████████████████████████████████████████████████████████████████████| 16333591/16333591 [01:14<00:00, 219994.87it/s]\n"
     ]
    },
    {
     "name": "stdout",
     "output_type": "stream",
     "text": [
      "70268\n",
      "12\n"
     ]
    },
    {
     "name": "stderr",
     "output_type": "stream",
     "text": [
      "100%|█████████████████████████████████████████████████████████████████████████████████████████████████████████████| 16333591/16333591 [01:14<00:00, 218800.92it/s]\n"
     ]
    },
    {
     "name": "stdout",
     "output_type": "stream",
     "text": [
      "70315\n",
      "13\n"
     ]
    },
    {
     "name": "stderr",
     "output_type": "stream",
     "text": [
      "100%|█████████████████████████████████████████████████████████████████████████████████████████████████████████████| 16333591/16333591 [01:15<00:00, 215954.05it/s]\n"
     ]
    },
    {
     "name": "stdout",
     "output_type": "stream",
     "text": [
      "72929\n",
      "14\n"
     ]
    },
    {
     "name": "stderr",
     "output_type": "stream",
     "text": [
      "100%|█████████████████████████████████████████████████████████████████████████████████████████████████████████████| 16333591/16333591 [01:15<00:00, 217176.74it/s]\n"
     ]
    },
    {
     "name": "stdout",
     "output_type": "stream",
     "text": [
      "73008\n",
      "15\n"
     ]
    },
    {
     "name": "stderr",
     "output_type": "stream",
     "text": [
      "100%|█████████████████████████████████████████████████████████████████████████████████████████████████████████████| 16333591/16333591 [01:15<00:00, 217488.58it/s]"
     ]
    },
    {
     "name": "stdout",
     "output_type": "stream",
     "text": [
      "74819\n",
      "14 ['G', 'B', 'B', 'H', 'H', 'L', 'N', 'N', 'I', 'I', 'M', 'M', 'K', 'K', 'C', 'C', 'P', 'G', 'D', 'D', 'A', 'A', 'F', 'F', 'J', 'J', 'E', 'E', 'L', 'O', 'O', 'P'] \n"
     ]
    },
    {
     "name": "stderr",
     "output_type": "stream",
     "text": [
      "\n"
     ]
    }
   ],
   "source": [
    "max_state = ['G', 'B', 'B', 'H', 'H', 'L', 'N', 'N', 'I', 'I', 'M', 'M', 'K', 'K', 'C', 'C', 'P', 'G', 'D', 'D', 'A', 'A', 'F', 'F', 'J', 'J', 'E', 'E', 'L', 'O', 'O', 'P']\n",
    "max_pair = count_pair(state, 1, 8)\n",
    "max_key = ''\n",
    "set_14 = set()\n",
    "\n",
    "for i in range(16):\n",
    "    print(i)\n",
    "    state = ['G', 'B', 'B', 'H', 'H', 'L', 'N', 'N', 'I', 'I', 'M', 'M', 'K', 'K', 'C', 'C', 'P', 'G', 'D', 'D', 'A', 'A', 'F', 'F', 'J', 'J', 'E', 'E', 'L', 'O', 'O', 'P']\n",
    "    for _ in range(i):\n",
    "        state = allowed_moves['r0'](state)\n",
    "    for key in tqdm.tqdm(allowed_globe_moves_7, total=len(allowed_globe_moves_7)):\n",
    "        new_state = allowed_globe_moves_7[key](state)\n",
    "        new_pair = count_pair(new_state, 1, 8)\n",
    "        if max_pair < new_pair:\n",
    "            max_pair = new_pair\n",
    "            max_state = new_state\n",
    "            max_key = key\n",
    "            print(max_pair, max_state, max_key)\n",
    "        if new_pair == 14 and ';'.join(new_state) not in set_14:\n",
    "            set_14.add(';'.join(new_state))\n",
    "    print(len(set_14))\n",
    "print(max_pair, max_state, max_key)"
   ]
  },
  {
   "cell_type": "code",
   "execution_count": 200,
   "id": "28bb6045-3137-4c8f-ad04-51b8ec966201",
   "metadata": {},
   "outputs": [
    {
     "name": "stderr",
     "output_type": "stream",
     "text": [
      "100%|██████████████████████████████████████████████████████████████████████████████████████████████████████████████████████| 74819/74819 [01:48<00:00, 689.40it/s]\n"
     ]
    }
   ],
   "source": [
    "for state14 in tqdm.tqdm(set_14):\n",
    "    for i in range(16):\n",
    "        state = state14.split(';')\n",
    "        for _ in range(i):\n",
    "            state = allowed_moves['r0'](state)\n",
    "        for key in allowed_moves:\n",
    "            new_state = allowed_moves[key](state)\n",
    "            new_pair = count_pair(new_state, 1, 8)\n",
    "            if new_pair == 16:\n",
    "                print(state14, i, key, new_state)"
   ]
  },
  {
   "cell_type": "code",
   "execution_count": 197,
   "id": "3041c89f-ab27-4d44-b42e-32520c88e140",
   "metadata": {},
   "outputs": [
    {
     "name": "stdout",
     "output_type": "stream",
     "text": [
      "H;H;F;F;D;D;B;B;I;K;K;M;M;O;O;A;I;G;G;E;E;C;C;A;J;J;L;L;N;N;P;P\n",
      "A;C;C;E;E;G;G;I;I;K;K;M;M;O;O;A;B;B;D;D;F;F;H;H;J;J;L;L;N;N;P;P\n"
     ]
    }
   ],
   "source": [
    "state = puzzles.iloc[338].solution_state.split(';')\n",
    "state = allowed_moves['r0'](state)\n",
    "state = allowed_moves['f0'](state)\n",
    "print(';'.join(state))\n",
    "state = allowed_moves['f0'](state)\n",
    "print(';'.join(state))"
   ]
  },
  {
   "cell_type": "code",
   "execution_count": null,
   "id": "d34fe96f-f0b8-4a48-b15e-ed4342439041",
   "metadata": {},
   "outputs": [],
   "source": []
  },
  {
   "cell_type": "code",
   "execution_count": 119,
   "id": "99af04ed-244c-4574-b750-85984df521d8",
   "metadata": {},
   "outputs": [
    {
     "name": "stdout",
     "output_type": "stream",
     "text": [
      "13 ['O', 'O', 'L', 'E', 'E', 'J', 'J', 'F', 'I', 'I', 'M', 'M', 'K', 'K', 'C', 'C', 'N', 'N', 'L', 'H', 'H', 'B', 'B', 'G', 'P', 'P', 'G', 'D', 'D', 'A', 'A', 'F'] \n"
     ]
    }
   ],
   "source": [
    "max_pair = count_pair(state, 1, 8)\n",
    "max_state = state\n",
    "max_key = ''\n",
    "for key in allowed_globe_moves_swap.keys():\n",
    "    new_state = allowed_globe_moves_swap[key](state)\n",
    "    new_pair = count_pair(new_state, 1, 8)\n",
    "    if max_pair < new_pair:\n",
    "        max_pair = new_pair\n",
    "        max_state = new_state\n",
    "        max_key = key\n",
    "        print(max_pair, max_state, max_key)\n",
    "print(max_pair, max_state, max_key)"
   ]
  },
  {
   "cell_type": "code",
   "execution_count": 122,
   "id": "2a62e711-e025-45e2-a3e3-b2819d94b701",
   "metadata": {},
   "outputs": [
    {
     "name": "stdout",
     "output_type": "stream",
     "text": [
      "dict_keys(['r1', '-r1', 'f0.f4.f0', 'r1.r1', 'r1.f0.f4.f0', '-r1.-r1', '-r1.f0.f4.f0', 'f0.f4.f0.r1', 'f0.f4.f0.-r1', 'r1.r1.r1', 'r1.r1.f0.f4.f0', 'r1.f0.f4.f0.r1', 'r1.f0.f4.f0.-r1', '-r1.-r1.-r1', '-r1.-r1.f0.f4.f0', '-r1.f0.f4.f0.r1', '-r1.f0.f4.f0.-r1', 'f0.f4.f0.r1.r1', 'f0.f4.f0.r1.f0.f4.f0', 'f0.f4.f0.-r1.-r1', 'f0.f4.f0.-r1.f0.f4.f0', 'r1.r1.r1.r1', 'r1.r1.r1.f0.f4.f0', 'r1.r1.f0.f4.f0.r1', 'r1.r1.f0.f4.f0.-r1', 'r1.f0.f4.f0.r1.r1', 'r1.f0.f4.f0.r1.f0.f4.f0', 'r1.f0.f4.f0.-r1.-r1', 'r1.f0.f4.f0.-r1.f0.f4.f0', '-r1.-r1.-r1.-r1', '-r1.-r1.-r1.f0.f4.f0', '-r1.-r1.f0.f4.f0.r1', '-r1.-r1.f0.f4.f0.-r1', '-r1.f0.f4.f0.r1.r1', '-r1.f0.f4.f0.r1.f0.f4.f0', '-r1.f0.f4.f0.-r1.-r1', '-r1.f0.f4.f0.-r1.f0.f4.f0', 'f0.f4.f0.r1.r1.r1', 'f0.f4.f0.r1.r1.f0.f4.f0', 'f0.f4.f0.r1.f0.f4.f0.r1', 'f0.f4.f0.-r1.-r1.-r1', 'f0.f4.f0.-r1.-r1.f0.f4.f0', 'f0.f4.f0.-r1.f0.f4.f0.-r1', 'r1.r1.r1.r1.r1', 'r1.r1.r1.r1.f0.f4.f0', 'r1.r1.r1.f0.f4.f0.r1', 'r1.r1.r1.f0.f4.f0.-r1', 'r1.r1.f0.f4.f0.r1.r1', 'r1.r1.f0.f4.f0.r1.f0.f4.f0', 'r1.r1.f0.f4.f0.-r1.-r1', 'r1.r1.f0.f4.f0.-r1.f0.f4.f0', 'r1.f0.f4.f0.r1.r1.r1', 'r1.f0.f4.f0.r1.r1.f0.f4.f0', 'r1.f0.f4.f0.r1.f0.f4.f0.r1', 'r1.f0.f4.f0.-r1.-r1.-r1', 'r1.f0.f4.f0.-r1.-r1.f0.f4.f0', 'r1.f0.f4.f0.-r1.f0.f4.f0.-r1', '-r1.-r1.-r1.-r1.-r1', '-r1.-r1.-r1.-r1.f0.f4.f0', '-r1.-r1.-r1.f0.f4.f0.r1', '-r1.-r1.f0.f4.f0.r1.r1', '-r1.-r1.f0.f4.f0.r1.f0.f4.f0', '-r1.-r1.f0.f4.f0.-r1.f0.f4.f0', '-r1.f0.f4.f0.r1.r1.r1', '-r1.f0.f4.f0.r1.r1.f0.f4.f0', '-r1.f0.f4.f0.r1.f0.f4.f0.r1', '-r1.f0.f4.f0.-r1.-r1.f0.f4.f0', '-r1.f0.f4.f0.-r1.f0.f4.f0.-r1', 'f0.f4.f0.r1.r1.r1.f0.f4.f0', 'f0.f4.f0.r1.r1.f0.f4.f0.r1', 'f0.f4.f0.r1.r1.f0.f4.f0.-r1', 'f0.f4.f0.r1.f0.f4.f0.r1.r1', 'f0.f4.f0.r1.f0.f4.f0.r1.f0.f4.f0', 'f0.f4.f0.-r1.-r1.-r1.f0.f4.f0', 'f0.f4.f0.-r1.-r1.f0.f4.f0.r1', 'f0.f4.f0.-r1.-r1.f0.f4.f0.-r1', 'f0.f4.f0.-r1.f0.f4.f0.-r1.-r1', 'f0.f4.f0.-r1.f0.f4.f0.-r1.f0.f4.f0', 'r1.r1.r1.r1.r1.r1', 'r1.r1.r1.r1.r1.f0.f4.f0', 'r1.r1.r1.r1.f0.f4.f0.-r1', 'r1.r1.r1.f0.f4.f0.r1.f0.f4.f0', 'r1.r1.r1.f0.f4.f0.-r1.-r1', 'r1.r1.r1.f0.f4.f0.-r1.f0.f4.f0', 'r1.r1.f0.f4.f0.r1.r1.f0.f4.f0', 'r1.r1.f0.f4.f0.r1.f0.f4.f0.r1', 'r1.r1.f0.f4.f0.-r1.-r1.-r1', 'r1.r1.f0.f4.f0.-r1.-r1.f0.f4.f0', 'r1.r1.f0.f4.f0.-r1.f0.f4.f0.-r1', 'r1.f0.f4.f0.r1.r1.r1.f0.f4.f0', 'r1.f0.f4.f0.r1.r1.f0.f4.f0.r1', 'r1.f0.f4.f0.r1.r1.f0.f4.f0.-r1', 'r1.f0.f4.f0.r1.f0.f4.f0.r1.r1', 'r1.f0.f4.f0.r1.f0.f4.f0.r1.f0.f4.f0', 'r1.f0.f4.f0.-r1.-r1.-r1.f0.f4.f0', 'r1.f0.f4.f0.-r1.-r1.f0.f4.f0.r1', 'r1.f0.f4.f0.-r1.-r1.f0.f4.f0.-r1', 'r1.f0.f4.f0.-r1.f0.f4.f0.-r1.-r1', 'r1.f0.f4.f0.-r1.f0.f4.f0.-r1.f0.f4.f0', '-r1.-r1.-r1.-r1.-r1.-r1', '-r1.-r1.-r1.-r1.-r1.f0.f4.f0', '-r1.-r1.-r1.-r1.f0.f4.f0.r1', '-r1.-r1.-r1.f0.f4.f0.r1.r1', '-r1.-r1.-r1.f0.f4.f0.r1.f0.f4.f0', '-r1.-r1.f0.f4.f0.r1.r1.r1', '-r1.-r1.f0.f4.f0.r1.r1.f0.f4.f0', '-r1.-r1.f0.f4.f0.r1.f0.f4.f0.r1', '-r1.-r1.f0.f4.f0.-r1.f0.f4.f0.-r1', '-r1.f0.f4.f0.r1.r1.r1.f0.f4.f0', '-r1.f0.f4.f0.r1.r1.f0.f4.f0.r1', '-r1.f0.f4.f0.r1.f0.f4.f0.r1.r1', '-r1.f0.f4.f0.r1.f0.f4.f0.r1.f0.f4.f0', '-r1.f0.f4.f0.-r1.-r1.f0.f4.f0.r1', '-r1.f0.f4.f0.-r1.-r1.f0.f4.f0.-r1', '-r1.f0.f4.f0.-r1.f0.f4.f0.-r1.-r1', '-r1.f0.f4.f0.-r1.f0.f4.f0.-r1.f0.f4.f0', 'f0.f4.f0.r1.r1.r1.f0.f4.f0.r1', 'f0.f4.f0.r1.r1.r1.f0.f4.f0.-r1', 'f0.f4.f0.r1.r1.f0.f4.f0.r1.r1', 'f0.f4.f0.r1.r1.f0.f4.f0.r1.f0.f4.f0', 'f0.f4.f0.r1.r1.f0.f4.f0.-r1.f0.f4.f0', 'f0.f4.f0.r1.f0.f4.f0.r1.r1.r1', 'f0.f4.f0.r1.f0.f4.f0.r1.r1.f0.f4.f0', 'f0.f4.f0.r1.f0.f4.f0.r1.f0.f4.f0.r1', 'f0.f4.f0.-r1.-r1.-r1.f0.f4.f0.r1', 'f0.f4.f0.-r1.-r1.f0.f4.f0.r1.f0.f4.f0', 'f0.f4.f0.-r1.-r1.f0.f4.f0.-r1.f0.f4.f0', 'f0.f4.f0.-r1.f0.f4.f0.-r1.-r1.f0.f4.f0', 'f0.f4.f0.-r1.f0.f4.f0.-r1.f0.f4.f0.-r1', 'r1.r1.r1.r1.r1.r1.r1', 'r1.r1.r1.r1.r1.r1.f0.f4.f0', 'r1.r1.r1.r1.r1.f0.f4.f0.-r1', 'r1.r1.r1.r1.f0.f4.f0.-r1.-r1', 'r1.r1.r1.r1.f0.f4.f0.-r1.f0.f4.f0', 'r1.r1.r1.f0.f4.f0.r1.f0.f4.f0.r1', 'r1.r1.r1.f0.f4.f0.-r1.-r1.-r1', 'r1.r1.r1.f0.f4.f0.-r1.-r1.f0.f4.f0', 'r1.r1.r1.f0.f4.f0.-r1.f0.f4.f0.-r1', 'r1.r1.f0.f4.f0.r1.r1.f0.f4.f0.r1', 'r1.r1.f0.f4.f0.r1.r1.f0.f4.f0.-r1', 'r1.r1.f0.f4.f0.r1.f0.f4.f0.r1.r1', 'r1.r1.f0.f4.f0.r1.f0.f4.f0.r1.f0.f4.f0', 'r1.r1.f0.f4.f0.-r1.-r1.-r1.f0.f4.f0', 'r1.r1.f0.f4.f0.-r1.-r1.f0.f4.f0.-r1', 'r1.r1.f0.f4.f0.-r1.f0.f4.f0.-r1.-r1', 'r1.r1.f0.f4.f0.-r1.f0.f4.f0.-r1.f0.f4.f0', 'r1.f0.f4.f0.r1.r1.r1.f0.f4.f0.r1', 'r1.f0.f4.f0.r1.r1.r1.f0.f4.f0.-r1', 'r1.f0.f4.f0.r1.r1.f0.f4.f0.r1.r1', 'r1.f0.f4.f0.r1.r1.f0.f4.f0.r1.f0.f4.f0', 'r1.f0.f4.f0.r1.r1.f0.f4.f0.-r1.f0.f4.f0', 'r1.f0.f4.f0.r1.f0.f4.f0.r1.r1.r1', 'r1.f0.f4.f0.r1.f0.f4.f0.r1.r1.f0.f4.f0', 'r1.f0.f4.f0.r1.f0.f4.f0.r1.f0.f4.f0.r1', 'r1.f0.f4.f0.-r1.-r1.-r1.f0.f4.f0.r1', 'r1.f0.f4.f0.-r1.-r1.f0.f4.f0.r1.f0.f4.f0', 'r1.f0.f4.f0.-r1.-r1.f0.f4.f0.-r1.f0.f4.f0', 'r1.f0.f4.f0.-r1.f0.f4.f0.-r1.-r1.f0.f4.f0', 'r1.f0.f4.f0.-r1.f0.f4.f0.-r1.f0.f4.f0.-r1', '-r1.-r1.-r1.-r1.-r1.-r1.-r1', '-r1.-r1.-r1.-r1.-r1.-r1.f0.f4.f0', '-r1.-r1.-r1.-r1.-r1.f0.f4.f0.r1', '-r1.-r1.-r1.-r1.f0.f4.f0.r1.r1', '-r1.-r1.-r1.f0.f4.f0.r1.r1.r1', '-r1.-r1.-r1.f0.f4.f0.r1.r1.f0.f4.f0', '-r1.-r1.f0.f4.f0.r1.r1.r1.f0.f4.f0', '-r1.-r1.f0.f4.f0.r1.r1.f0.f4.f0.r1', '-r1.-r1.f0.f4.f0.r1.f0.f4.f0.r1.f0.f4.f0', '-r1.-r1.f0.f4.f0.-r1.f0.f4.f0.-r1.-r1', '-r1.-r1.f0.f4.f0.-r1.f0.f4.f0.-r1.f0.f4.f0', '-r1.f0.f4.f0.r1.r1.r1.f0.f4.f0.r1', '-r1.f0.f4.f0.r1.r1.r1.f0.f4.f0.-r1', '-r1.f0.f4.f0.r1.r1.f0.f4.f0.r1.r1', '-r1.f0.f4.f0.r1.r1.f0.f4.f0.r1.f0.f4.f0', '-r1.f0.f4.f0.r1.f0.f4.f0.r1.r1.f0.f4.f0', '-r1.f0.f4.f0.r1.f0.f4.f0.r1.f0.f4.f0.r1', '-r1.f0.f4.f0.-r1.-r1.f0.f4.f0.r1.f0.f4.f0', '-r1.f0.f4.f0.-r1.-r1.f0.f4.f0.-r1.f0.f4.f0', '-r1.f0.f4.f0.-r1.f0.f4.f0.-r1.-r1.f0.f4.f0', 'f0.f4.f0.r1.r1.r1.f0.f4.f0.-r1.-r1', 'f0.f4.f0.r1.r1.r1.f0.f4.f0.-r1.f0.f4.f0', 'f0.f4.f0.r1.r1.f0.f4.f0.r1.r1.f0.f4.f0', 'f0.f4.f0.r1.f0.f4.f0.r1.r1.f0.f4.f0.-r1', 'f0.f4.f0.r1.f0.f4.f0.r1.f0.f4.f0.r1.f0.f4.f0', 'f0.f4.f0.-r1.-r1.-r1.f0.f4.f0.r1.r1', 'f0.f4.f0.-r1.-r1.-r1.f0.f4.f0.r1.f0.f4.f0', 'f0.f4.f0.-r1.f0.f4.f0.-r1.-r1.f0.f4.f0.r1', 'f0.f4.f0.-r1.f0.f4.f0.-r1.f0.f4.f0.-r1.f0.f4.f0', 'r1.r1.r1.r1.r1.r1.r1.r1', 'r1.r1.r1.r1.r1.r1.r1.f0.f4.f0', 'r1.r1.r1.r1.r1.r1.f0.f4.f0.-r1', 'r1.r1.r1.r1.r1.f0.f4.f0.-r1.-r1', 'r1.r1.r1.r1.f0.f4.f0.-r1.-r1.-r1', 'r1.r1.r1.r1.f0.f4.f0.-r1.-r1.f0.f4.f0', 'r1.r1.r1.f0.f4.f0.r1.f0.f4.f0.r1.r1', 'r1.r1.r1.f0.f4.f0.r1.f0.f4.f0.r1.f0.f4.f0', 'r1.r1.r1.f0.f4.f0.-r1.-r1.-r1.f0.f4.f0', 'r1.r1.r1.f0.f4.f0.-r1.-r1.f0.f4.f0.-r1', 'r1.r1.r1.f0.f4.f0.-r1.f0.f4.f0.-r1.f0.f4.f0', 'r1.r1.f0.f4.f0.r1.r1.f0.f4.f0.r1.r1', 'r1.r1.f0.f4.f0.r1.r1.f0.f4.f0.r1.f0.f4.f0', 'r1.r1.f0.f4.f0.r1.r1.f0.f4.f0.-r1.f0.f4.f0', 'r1.r1.f0.f4.f0.r1.f0.f4.f0.r1.r1.r1', 'r1.r1.f0.f4.f0.r1.f0.f4.f0.r1.r1.f0.f4.f0', 'r1.r1.f0.f4.f0.-r1.-r1.-r1.f0.f4.f0.r1', 'r1.r1.f0.f4.f0.-r1.-r1.f0.f4.f0.-r1.f0.f4.f0', 'r1.r1.f0.f4.f0.-r1.f0.f4.f0.-r1.-r1.f0.f4.f0', 'r1.r1.f0.f4.f0.-r1.f0.f4.f0.-r1.f0.f4.f0.-r1', 'r1.f0.f4.f0.r1.r1.r1.f0.f4.f0.-r1.-r1', 'r1.f0.f4.f0.r1.r1.r1.f0.f4.f0.-r1.f0.f4.f0', 'r1.f0.f4.f0.r1.r1.f0.f4.f0.r1.r1.f0.f4.f0', 'r1.f0.f4.f0.r1.f0.f4.f0.r1.r1.f0.f4.f0.-r1', 'r1.f0.f4.f0.r1.f0.f4.f0.r1.f0.f4.f0.r1.f0.f4.f0', 'r1.f0.f4.f0.-r1.-r1.-r1.f0.f4.f0.r1.r1', 'r1.f0.f4.f0.-r1.-r1.-r1.f0.f4.f0.r1.f0.f4.f0', 'r1.f0.f4.f0.-r1.f0.f4.f0.-r1.-r1.f0.f4.f0.r1', 'r1.f0.f4.f0.-r1.f0.f4.f0.-r1.f0.f4.f0.-r1.f0.f4.f0', '-r1.-r1.-r1.-r1.-r1.-r1.-r1.f0.f4.f0', '-r1.-r1.-r1.-r1.-r1.-r1.f0.f4.f0.r1', '-r1.-r1.-r1.-r1.f0.f4.f0.r1.r1.r1', '-r1.-r1.-r1.f0.f4.f0.r1.r1.r1.f0.f4.f0', '-r1.-r1.f0.f4.f0.r1.r1.r1.f0.f4.f0.r1', '-r1.-r1.f0.f4.f0.r1.r1.f0.f4.f0.r1.f0.f4.f0', '-r1.-r1.f0.f4.f0.r1.f0.f4.f0.r1.f0.f4.f0.r1', '-r1.-r1.f0.f4.f0.-r1.f0.f4.f0.-r1.-r1.f0.f4.f0', '-r1.f0.f4.f0.r1.r1.r1.f0.f4.f0.-r1.f0.f4.f0', '-r1.f0.f4.f0.r1.f0.f4.f0.r1.r1.f0.f4.f0.-r1', '-r1.f0.f4.f0.r1.f0.f4.f0.r1.f0.f4.f0.r1.f0.f4.f0', '-r1.f0.f4.f0.-r1.f0.f4.f0.-r1.-r1.f0.f4.f0.r1', 'f0.f4.f0.r1.r1.r1.f0.f4.f0.-r1.-r1.f0.f4.f0', 'f0.f4.f0.r1.f0.f4.f0.r1.r1.f0.f4.f0.-r1.f0.f4.f0', 'f0.f4.f0.r1.f0.f4.f0.r1.f0.f4.f0.r1.f0.f4.f0.r1', 'f0.f4.f0.-r1.-r1.-r1.f0.f4.f0.r1.r1.f0.f4.f0', 'f0.f4.f0.-r1.f0.f4.f0.-r1.-r1.f0.f4.f0.r1.f0.f4.f0', 'r1.r1.r1.r1.r1.r1.r1.r1.f0.f4.f0', 'r1.r1.r1.r1.r1.r1.r1.f0.f4.f0.-r1', 'r1.r1.r1.r1.r1.f0.f4.f0.-r1.-r1.-r1', 'r1.r1.r1.r1.f0.f4.f0.-r1.-r1.-r1.f0.f4.f0', 'r1.r1.r1.f0.f4.f0.r1.f0.f4.f0.r1.r1.r1', 'r1.r1.r1.f0.f4.f0.r1.f0.f4.f0.r1.r1.f0.f4.f0', 'r1.r1.r1.f0.f4.f0.-r1.-r1.f0.f4.f0.-r1.f0.f4.f0', 'r1.r1.r1.f0.f4.f0.-r1.f0.f4.f0.-r1.f0.f4.f0.-r1', 'r1.r1.f0.f4.f0.r1.f0.f4.f0.r1.r1.f0.f4.f0.-r1', 'r1.r1.f0.f4.f0.-r1.-r1.-r1.f0.f4.f0.r1.f0.f4.f0', 'r1.r1.f0.f4.f0.-r1.f0.f4.f0.-r1.-r1.f0.f4.f0.r1', 'r1.r1.f0.f4.f0.-r1.f0.f4.f0.-r1.f0.f4.f0.-r1.f0.f4.f0', 'r1.f0.f4.f0.r1.r1.r1.f0.f4.f0.-r1.-r1.f0.f4.f0', 'r1.f0.f4.f0.r1.f0.f4.f0.r1.r1.f0.f4.f0.-r1.f0.f4.f0', 'r1.f0.f4.f0.r1.f0.f4.f0.r1.f0.f4.f0.r1.f0.f4.f0.r1', 'r1.f0.f4.f0.-r1.-r1.-r1.f0.f4.f0.r1.r1.f0.f4.f0', 'r1.f0.f4.f0.-r1.f0.f4.f0.-r1.-r1.f0.f4.f0.r1.f0.f4.f0', '-r1.-r1.f0.f4.f0.r1.f0.f4.f0.r1.f0.f4.f0.r1.f0.f4.f0', '-r1.f0.f4.f0.r1.f0.f4.f0.r1.r1.f0.f4.f0.-r1.f0.f4.f0', 'r1.r1.r1.f0.f4.f0.-r1.f0.f4.f0.-r1.f0.f4.f0.-r1.f0.f4.f0', 'r1.r1.f0.f4.f0.-r1.f0.f4.f0.-r1.-r1.f0.f4.f0.r1.f0.f4.f0'])\n",
      "{'r1': [0, 1, 2, 3, 4, 5, 6, 7, 8, 9, 10, 11, 12, 13, 14, 15, 17, 18, 19, 20, 21, 22, 23, 24, 25, 26, 27, 28, 29, 30, 31, 16], '-r1': [0, 1, 2, 3, 4, 5, 6, 7, 8, 9, 10, 11, 12, 13, 14, 15, 31, 16, 17, 18, 19, 20, 21, 22, 23, 24, 25, 26, 27, 28, 29, 30], 'f0.f4.f0': [8, 9, 10, 11, 4, 5, 6, 7, 0, 1, 2, 3, 12, 13, 14, 15, 24, 25, 26, 27, 20, 21, 22, 23, 16, 17, 18, 19, 28, 29, 30, 31], 'r1.r1': [0, 1, 2, 3, 4, 5, 6, 7, 8, 9, 10, 11, 12, 13, 14, 15, 18, 19, 20, 21, 22, 23, 24, 25, 26, 27, 28, 29, 30, 31, 16, 17], 'r1.f0.f4.f0': [8, 9, 10, 11, 4, 5, 6, 7, 0, 1, 2, 3, 12, 13, 14, 15, 25, 26, 27, 28, 21, 22, 23, 24, 17, 18, 19, 20, 29, 30, 31, 16], '-r1.-r1': [0, 1, 2, 3, 4, 5, 6, 7, 8, 9, 10, 11, 12, 13, 14, 15, 30, 31, 16, 17, 18, 19, 20, 21, 22, 23, 24, 25, 26, 27, 28, 29], '-r1.f0.f4.f0': [8, 9, 10, 11, 4, 5, 6, 7, 0, 1, 2, 3, 12, 13, 14, 15, 23, 24, 25, 26, 19, 20, 21, 22, 31, 16, 17, 18, 27, 28, 29, 30], 'f0.f4.f0.r1': [8, 9, 10, 11, 4, 5, 6, 7, 0, 1, 2, 3, 12, 13, 14, 15, 25, 26, 27, 20, 21, 22, 23, 16, 17, 18, 19, 28, 29, 30, 31, 24], 'f0.f4.f0.-r1': [8, 9, 10, 11, 4, 5, 6, 7, 0, 1, 2, 3, 12, 13, 14, 15, 31, 24, 25, 26, 27, 20, 21, 22, 23, 16, 17, 18, 19, 28, 29, 30], 'r1.r1.r1': [0, 1, 2, 3, 4, 5, 6, 7, 8, 9, 10, 11, 12, 13, 14, 15, 19, 20, 21, 22, 23, 24, 25, 26, 27, 28, 29, 30, 31, 16, 17, 18], 'r1.r1.f0.f4.f0': [8, 9, 10, 11, 4, 5, 6, 7, 0, 1, 2, 3, 12, 13, 14, 15, 26, 27, 28, 29, 22, 23, 24, 25, 18, 19, 20, 21, 30, 31, 16, 17], 'r1.f0.f4.f0.r1': [8, 9, 10, 11, 4, 5, 6, 7, 0, 1, 2, 3, 12, 13, 14, 15, 26, 27, 28, 21, 22, 23, 24, 17, 18, 19, 20, 29, 30, 31, 16, 25], 'r1.f0.f4.f0.-r1': [8, 9, 10, 11, 4, 5, 6, 7, 0, 1, 2, 3, 12, 13, 14, 15, 16, 25, 26, 27, 28, 21, 22, 23, 24, 17, 18, 19, 20, 29, 30, 31], '-r1.-r1.-r1': [0, 1, 2, 3, 4, 5, 6, 7, 8, 9, 10, 11, 12, 13, 14, 15, 29, 30, 31, 16, 17, 18, 19, 20, 21, 22, 23, 24, 25, 26, 27, 28], '-r1.-r1.f0.f4.f0': [8, 9, 10, 11, 4, 5, 6, 7, 0, 1, 2, 3, 12, 13, 14, 15, 22, 23, 24, 25, 18, 19, 20, 21, 30, 31, 16, 17, 26, 27, 28, 29], '-r1.f0.f4.f0.r1': [8, 9, 10, 11, 4, 5, 6, 7, 0, 1, 2, 3, 12, 13, 14, 15, 24, 25, 26, 19, 20, 21, 22, 31, 16, 17, 18, 27, 28, 29, 30, 23], '-r1.f0.f4.f0.-r1': [8, 9, 10, 11, 4, 5, 6, 7, 0, 1, 2, 3, 12, 13, 14, 15, 30, 23, 24, 25, 26, 19, 20, 21, 22, 31, 16, 17, 18, 27, 28, 29], 'f0.f4.f0.r1.r1': [8, 9, 10, 11, 4, 5, 6, 7, 0, 1, 2, 3, 12, 13, 14, 15, 26, 27, 20, 21, 22, 23, 16, 17, 18, 19, 28, 29, 30, 31, 24, 25], 'f0.f4.f0.r1.f0.f4.f0': [0, 1, 2, 3, 4, 5, 6, 7, 8, 9, 10, 11, 12, 13, 14, 15, 17, 18, 19, 28, 21, 22, 23, 16, 25, 26, 27, 20, 29, 30, 31, 24], 'f0.f4.f0.-r1.-r1': [8, 9, 10, 11, 4, 5, 6, 7, 0, 1, 2, 3, 12, 13, 14, 15, 30, 31, 24, 25, 26, 27, 20, 21, 22, 23, 16, 17, 18, 19, 28, 29], 'f0.f4.f0.-r1.f0.f4.f0': [0, 1, 2, 3, 4, 5, 6, 7, 8, 9, 10, 11, 12, 13, 14, 15, 23, 16, 17, 18, 27, 20, 21, 22, 31, 24, 25, 26, 19, 28, 29, 30], 'r1.r1.r1.r1': [0, 1, 2, 3, 4, 5, 6, 7, 8, 9, 10, 11, 12, 13, 14, 15, 20, 21, 22, 23, 24, 25, 26, 27, 28, 29, 30, 31, 16, 17, 18, 19], 'r1.r1.r1.f0.f4.f0': [8, 9, 10, 11, 4, 5, 6, 7, 0, 1, 2, 3, 12, 13, 14, 15, 27, 28, 29, 30, 23, 24, 25, 26, 19, 20, 21, 22, 31, 16, 17, 18], 'r1.r1.f0.f4.f0.r1': [8, 9, 10, 11, 4, 5, 6, 7, 0, 1, 2, 3, 12, 13, 14, 15, 27, 28, 29, 22, 23, 24, 25, 18, 19, 20, 21, 30, 31, 16, 17, 26], 'r1.r1.f0.f4.f0.-r1': [8, 9, 10, 11, 4, 5, 6, 7, 0, 1, 2, 3, 12, 13, 14, 15, 17, 26, 27, 28, 29, 22, 23, 24, 25, 18, 19, 20, 21, 30, 31, 16], 'r1.f0.f4.f0.r1.r1': [8, 9, 10, 11, 4, 5, 6, 7, 0, 1, 2, 3, 12, 13, 14, 15, 27, 28, 21, 22, 23, 24, 17, 18, 19, 20, 29, 30, 31, 16, 25, 26], 'r1.f0.f4.f0.r1.f0.f4.f0': [0, 1, 2, 3, 4, 5, 6, 7, 8, 9, 10, 11, 12, 13, 14, 15, 18, 19, 20, 29, 22, 23, 24, 17, 26, 27, 28, 21, 30, 31, 16, 25], 'r1.f0.f4.f0.-r1.-r1': [8, 9, 10, 11, 4, 5, 6, 7, 0, 1, 2, 3, 12, 13, 14, 15, 31, 16, 25, 26, 27, 28, 21, 22, 23, 24, 17, 18, 19, 20, 29, 30], 'r1.f0.f4.f0.-r1.f0.f4.f0': [0, 1, 2, 3, 4, 5, 6, 7, 8, 9, 10, 11, 12, 13, 14, 15, 24, 17, 18, 19, 28, 21, 22, 23, 16, 25, 26, 27, 20, 29, 30, 31], '-r1.-r1.-r1.-r1': [0, 1, 2, 3, 4, 5, 6, 7, 8, 9, 10, 11, 12, 13, 14, 15, 28, 29, 30, 31, 16, 17, 18, 19, 20, 21, 22, 23, 24, 25, 26, 27], '-r1.-r1.-r1.f0.f4.f0': [8, 9, 10, 11, 4, 5, 6, 7, 0, 1, 2, 3, 12, 13, 14, 15, 21, 22, 23, 24, 17, 18, 19, 20, 29, 30, 31, 16, 25, 26, 27, 28], '-r1.-r1.f0.f4.f0.r1': [8, 9, 10, 11, 4, 5, 6, 7, 0, 1, 2, 3, 12, 13, 14, 15, 23, 24, 25, 18, 19, 20, 21, 30, 31, 16, 17, 26, 27, 28, 29, 22], '-r1.-r1.f0.f4.f0.-r1': [8, 9, 10, 11, 4, 5, 6, 7, 0, 1, 2, 3, 12, 13, 14, 15, 29, 22, 23, 24, 25, 18, 19, 20, 21, 30, 31, 16, 17, 26, 27, 28], '-r1.f0.f4.f0.r1.r1': [8, 9, 10, 11, 4, 5, 6, 7, 0, 1, 2, 3, 12, 13, 14, 15, 25, 26, 19, 20, 21, 22, 31, 16, 17, 18, 27, 28, 29, 30, 23, 24], '-r1.f0.f4.f0.r1.f0.f4.f0': [0, 1, 2, 3, 4, 5, 6, 7, 8, 9, 10, 11, 12, 13, 14, 15, 16, 17, 18, 27, 20, 21, 22, 31, 24, 25, 26, 19, 28, 29, 30, 23], '-r1.f0.f4.f0.-r1.-r1': [8, 9, 10, 11, 4, 5, 6, 7, 0, 1, 2, 3, 12, 13, 14, 15, 29, 30, 23, 24, 25, 26, 19, 20, 21, 22, 31, 16, 17, 18, 27, 28], '-r1.f0.f4.f0.-r1.f0.f4.f0': [0, 1, 2, 3, 4, 5, 6, 7, 8, 9, 10, 11, 12, 13, 14, 15, 22, 31, 16, 17, 26, 19, 20, 21, 30, 23, 24, 25, 18, 27, 28, 29], 'f0.f4.f0.r1.r1.r1': [8, 9, 10, 11, 4, 5, 6, 7, 0, 1, 2, 3, 12, 13, 14, 15, 27, 20, 21, 22, 23, 16, 17, 18, 19, 28, 29, 30, 31, 24, 25, 26], 'f0.f4.f0.r1.r1.f0.f4.f0': [0, 1, 2, 3, 4, 5, 6, 7, 8, 9, 10, 11, 12, 13, 14, 15, 18, 19, 28, 29, 22, 23, 16, 17, 26, 27, 20, 21, 30, 31, 24, 25], 'f0.f4.f0.r1.f0.f4.f0.r1': [0, 1, 2, 3, 4, 5, 6, 7, 8, 9, 10, 11, 12, 13, 14, 15, 18, 19, 28, 21, 22, 23, 16, 25, 26, 27, 20, 29, 30, 31, 24, 17], 'f0.f4.f0.-r1.-r1.-r1': [8, 9, 10, 11, 4, 5, 6, 7, 0, 1, 2, 3, 12, 13, 14, 15, 29, 30, 31, 24, 25, 26, 27, 20, 21, 22, 23, 16, 17, 18, 19, 28], 'f0.f4.f0.-r1.-r1.f0.f4.f0': [0, 1, 2, 3, 4, 5, 6, 7, 8, 9, 10, 11, 12, 13, 14, 15, 22, 23, 16, 17, 26, 27, 20, 21, 30, 31, 24, 25, 18, 19, 28, 29], 'f0.f4.f0.-r1.f0.f4.f0.-r1': [0, 1, 2, 3, 4, 5, 6, 7, 8, 9, 10, 11, 12, 13, 14, 15, 30, 23, 16, 17, 18, 27, 20, 21, 22, 31, 24, 25, 26, 19, 28, 29], 'r1.r1.r1.r1.r1': [0, 1, 2, 3, 4, 5, 6, 7, 8, 9, 10, 11, 12, 13, 14, 15, 21, 22, 23, 24, 25, 26, 27, 28, 29, 30, 31, 16, 17, 18, 19, 20], 'r1.r1.r1.r1.f0.f4.f0': [8, 9, 10, 11, 4, 5, 6, 7, 0, 1, 2, 3, 12, 13, 14, 15, 28, 29, 30, 31, 24, 25, 26, 27, 20, 21, 22, 23, 16, 17, 18, 19], 'r1.r1.r1.f0.f4.f0.r1': [8, 9, 10, 11, 4, 5, 6, 7, 0, 1, 2, 3, 12, 13, 14, 15, 28, 29, 30, 23, 24, 25, 26, 19, 20, 21, 22, 31, 16, 17, 18, 27], 'r1.r1.r1.f0.f4.f0.-r1': [8, 9, 10, 11, 4, 5, 6, 7, 0, 1, 2, 3, 12, 13, 14, 15, 18, 27, 28, 29, 30, 23, 24, 25, 26, 19, 20, 21, 22, 31, 16, 17], 'r1.r1.f0.f4.f0.r1.r1': [8, 9, 10, 11, 4, 5, 6, 7, 0, 1, 2, 3, 12, 13, 14, 15, 28, 29, 22, 23, 24, 25, 18, 19, 20, 21, 30, 31, 16, 17, 26, 27], 'r1.r1.f0.f4.f0.r1.f0.f4.f0': [0, 1, 2, 3, 4, 5, 6, 7, 8, 9, 10, 11, 12, 13, 14, 15, 19, 20, 21, 30, 23, 24, 25, 18, 27, 28, 29, 22, 31, 16, 17, 26], 'r1.r1.f0.f4.f0.-r1.-r1': [8, 9, 10, 11, 4, 5, 6, 7, 0, 1, 2, 3, 12, 13, 14, 15, 16, 17, 26, 27, 28, 29, 22, 23, 24, 25, 18, 19, 20, 21, 30, 31], 'r1.r1.f0.f4.f0.-r1.f0.f4.f0': [0, 1, 2, 3, 4, 5, 6, 7, 8, 9, 10, 11, 12, 13, 14, 15, 25, 18, 19, 20, 29, 22, 23, 24, 17, 26, 27, 28, 21, 30, 31, 16], 'r1.f0.f4.f0.r1.r1.r1': [8, 9, 10, 11, 4, 5, 6, 7, 0, 1, 2, 3, 12, 13, 14, 15, 28, 21, 22, 23, 24, 17, 18, 19, 20, 29, 30, 31, 16, 25, 26, 27], 'r1.f0.f4.f0.r1.r1.f0.f4.f0': [0, 1, 2, 3, 4, 5, 6, 7, 8, 9, 10, 11, 12, 13, 14, 15, 19, 20, 29, 30, 23, 24, 17, 18, 27, 28, 21, 22, 31, 16, 25, 26], 'r1.f0.f4.f0.r1.f0.f4.f0.r1': [0, 1, 2, 3, 4, 5, 6, 7, 8, 9, 10, 11, 12, 13, 14, 15, 19, 20, 29, 22, 23, 24, 17, 26, 27, 28, 21, 30, 31, 16, 25, 18], 'r1.f0.f4.f0.-r1.-r1.-r1': [8, 9, 10, 11, 4, 5, 6, 7, 0, 1, 2, 3, 12, 13, 14, 15, 30, 31, 16, 25, 26, 27, 28, 21, 22, 23, 24, 17, 18, 19, 20, 29], 'r1.f0.f4.f0.-r1.-r1.f0.f4.f0': [0, 1, 2, 3, 4, 5, 6, 7, 8, 9, 10, 11, 12, 13, 14, 15, 23, 24, 17, 18, 27, 28, 21, 22, 31, 16, 25, 26, 19, 20, 29, 30], 'r1.f0.f4.f0.-r1.f0.f4.f0.-r1': [0, 1, 2, 3, 4, 5, 6, 7, 8, 9, 10, 11, 12, 13, 14, 15, 31, 24, 17, 18, 19, 28, 21, 22, 23, 16, 25, 26, 27, 20, 29, 30], '-r1.-r1.-r1.-r1.-r1': [0, 1, 2, 3, 4, 5, 6, 7, 8, 9, 10, 11, 12, 13, 14, 15, 27, 28, 29, 30, 31, 16, 17, 18, 19, 20, 21, 22, 23, 24, 25, 26], '-r1.-r1.-r1.-r1.f0.f4.f0': [8, 9, 10, 11, 4, 5, 6, 7, 0, 1, 2, 3, 12, 13, 14, 15, 20, 21, 22, 23, 16, 17, 18, 19, 28, 29, 30, 31, 24, 25, 26, 27], '-r1.-r1.-r1.f0.f4.f0.r1': [8, 9, 10, 11, 4, 5, 6, 7, 0, 1, 2, 3, 12, 13, 14, 15, 22, 23, 24, 17, 18, 19, 20, 29, 30, 31, 16, 25, 26, 27, 28, 21], '-r1.-r1.f0.f4.f0.r1.r1': [8, 9, 10, 11, 4, 5, 6, 7, 0, 1, 2, 3, 12, 13, 14, 15, 24, 25, 18, 19, 20, 21, 30, 31, 16, 17, 26, 27, 28, 29, 22, 23], '-r1.-r1.f0.f4.f0.r1.f0.f4.f0': [0, 1, 2, 3, 4, 5, 6, 7, 8, 9, 10, 11, 12, 13, 14, 15, 31, 16, 17, 26, 19, 20, 21, 30, 23, 24, 25, 18, 27, 28, 29, 22], '-r1.-r1.f0.f4.f0.-r1.f0.f4.f0': [0, 1, 2, 3, 4, 5, 6, 7, 8, 9, 10, 11, 12, 13, 14, 15, 21, 30, 31, 16, 25, 18, 19, 20, 29, 22, 23, 24, 17, 26, 27, 28], '-r1.f0.f4.f0.r1.r1.r1': [8, 9, 10, 11, 4, 5, 6, 7, 0, 1, 2, 3, 12, 13, 14, 15, 26, 19, 20, 21, 22, 31, 16, 17, 18, 27, 28, 29, 30, 23, 24, 25], '-r1.f0.f4.f0.r1.r1.f0.f4.f0': [0, 1, 2, 3, 4, 5, 6, 7, 8, 9, 10, 11, 12, 13, 14, 15, 17, 18, 27, 28, 21, 22, 31, 16, 25, 26, 19, 20, 29, 30, 23, 24], '-r1.f0.f4.f0.r1.f0.f4.f0.r1': [0, 1, 2, 3, 4, 5, 6, 7, 8, 9, 10, 11, 12, 13, 14, 15, 17, 18, 27, 20, 21, 22, 31, 24, 25, 26, 19, 28, 29, 30, 23, 16], '-r1.f0.f4.f0.-r1.-r1.f0.f4.f0': [0, 1, 2, 3, 4, 5, 6, 7, 8, 9, 10, 11, 12, 13, 14, 15, 21, 22, 31, 16, 25, 26, 19, 20, 29, 30, 23, 24, 17, 18, 27, 28], '-r1.f0.f4.f0.-r1.f0.f4.f0.-r1': [0, 1, 2, 3, 4, 5, 6, 7, 8, 9, 10, 11, 12, 13, 14, 15, 29, 22, 31, 16, 17, 26, 19, 20, 21, 30, 23, 24, 25, 18, 27, 28], 'f0.f4.f0.r1.r1.r1.f0.f4.f0': [0, 1, 2, 3, 4, 5, 6, 7, 8, 9, 10, 11, 12, 13, 14, 15, 19, 28, 29, 30, 23, 16, 17, 18, 27, 20, 21, 22, 31, 24, 25, 26], 'f0.f4.f0.r1.r1.f0.f4.f0.r1': [0, 1, 2, 3, 4, 5, 6, 7, 8, 9, 10, 11, 12, 13, 14, 15, 19, 28, 29, 22, 23, 16, 17, 26, 27, 20, 21, 30, 31, 24, 25, 18], 'f0.f4.f0.r1.r1.f0.f4.f0.-r1': [0, 1, 2, 3, 4, 5, 6, 7, 8, 9, 10, 11, 12, 13, 14, 15, 25, 18, 19, 28, 29, 22, 23, 16, 17, 26, 27, 20, 21, 30, 31, 24], 'f0.f4.f0.r1.f0.f4.f0.r1.r1': [0, 1, 2, 3, 4, 5, 6, 7, 8, 9, 10, 11, 12, 13, 14, 15, 19, 28, 21, 22, 23, 16, 25, 26, 27, 20, 29, 30, 31, 24, 17, 18], 'f0.f4.f0.r1.f0.f4.f0.r1.f0.f4.f0': [8, 9, 10, 11, 4, 5, 6, 7, 0, 1, 2, 3, 12, 13, 14, 15, 26, 27, 20, 29, 22, 23, 16, 25, 18, 19, 28, 21, 30, 31, 24, 17], 'f0.f4.f0.-r1.-r1.-r1.f0.f4.f0': [0, 1, 2, 3, 4, 5, 6, 7, 8, 9, 10, 11, 12, 13, 14, 15, 21, 22, 23, 16, 25, 26, 27, 20, 29, 30, 31, 24, 17, 18, 19, 28], 'f0.f4.f0.-r1.-r1.f0.f4.f0.r1': [0, 1, 2, 3, 4, 5, 6, 7, 8, 9, 10, 11, 12, 13, 14, 15, 23, 16, 17, 26, 27, 20, 21, 30, 31, 24, 25, 18, 19, 28, 29, 22], 'f0.f4.f0.-r1.-r1.f0.f4.f0.-r1': [0, 1, 2, 3, 4, 5, 6, 7, 8, 9, 10, 11, 12, 13, 14, 15, 29, 22, 23, 16, 17, 26, 27, 20, 21, 30, 31, 24, 25, 18, 19, 28], 'f0.f4.f0.-r1.f0.f4.f0.-r1.-r1': [0, 1, 2, 3, 4, 5, 6, 7, 8, 9, 10, 11, 12, 13, 14, 15, 29, 30, 23, 16, 17, 18, 27, 20, 21, 22, 31, 24, 25, 26, 19, 28], 'f0.f4.f0.-r1.f0.f4.f0.-r1.f0.f4.f0': [8, 9, 10, 11, 4, 5, 6, 7, 0, 1, 2, 3, 12, 13, 14, 15, 22, 31, 24, 25, 18, 27, 20, 21, 30, 23, 16, 17, 26, 19, 28, 29], 'r1.r1.r1.r1.r1.r1': [0, 1, 2, 3, 4, 5, 6, 7, 8, 9, 10, 11, 12, 13, 14, 15, 22, 23, 24, 25, 26, 27, 28, 29, 30, 31, 16, 17, 18, 19, 20, 21], 'r1.r1.r1.r1.r1.f0.f4.f0': [8, 9, 10, 11, 4, 5, 6, 7, 0, 1, 2, 3, 12, 13, 14, 15, 29, 30, 31, 16, 25, 26, 27, 28, 21, 22, 23, 24, 17, 18, 19, 20], 'r1.r1.r1.r1.f0.f4.f0.-r1': [8, 9, 10, 11, 4, 5, 6, 7, 0, 1, 2, 3, 12, 13, 14, 15, 19, 28, 29, 30, 31, 24, 25, 26, 27, 20, 21, 22, 23, 16, 17, 18], 'r1.r1.r1.f0.f4.f0.r1.f0.f4.f0': [0, 1, 2, 3, 4, 5, 6, 7, 8, 9, 10, 11, 12, 13, 14, 15, 20, 21, 22, 31, 24, 25, 26, 19, 28, 29, 30, 23, 16, 17, 18, 27], 'r1.r1.r1.f0.f4.f0.-r1.-r1': [8, 9, 10, 11, 4, 5, 6, 7, 0, 1, 2, 3, 12, 13, 14, 15, 17, 18, 27, 28, 29, 30, 23, 24, 25, 26, 19, 20, 21, 22, 31, 16], 'r1.r1.r1.f0.f4.f0.-r1.f0.f4.f0': [0, 1, 2, 3, 4, 5, 6, 7, 8, 9, 10, 11, 12, 13, 14, 15, 26, 19, 20, 21, 30, 23, 24, 25, 18, 27, 28, 29, 22, 31, 16, 17], 'r1.r1.f0.f4.f0.r1.r1.f0.f4.f0': [0, 1, 2, 3, 4, 5, 6, 7, 8, 9, 10, 11, 12, 13, 14, 15, 20, 21, 30, 31, 24, 25, 18, 19, 28, 29, 22, 23, 16, 17, 26, 27], 'r1.r1.f0.f4.f0.r1.f0.f4.f0.r1': [0, 1, 2, 3, 4, 5, 6, 7, 8, 9, 10, 11, 12, 13, 14, 15, 20, 21, 30, 23, 24, 25, 18, 27, 28, 29, 22, 31, 16, 17, 26, 19], 'r1.r1.f0.f4.f0.-r1.-r1.-r1': [8, 9, 10, 11, 4, 5, 6, 7, 0, 1, 2, 3, 12, 13, 14, 15, 31, 16, 17, 26, 27, 28, 29, 22, 23, 24, 25, 18, 19, 20, 21, 30], 'r1.r1.f0.f4.f0.-r1.-r1.f0.f4.f0': [0, 1, 2, 3, 4, 5, 6, 7, 8, 9, 10, 11, 12, 13, 14, 15, 24, 25, 18, 19, 28, 29, 22, 23, 16, 17, 26, 27, 20, 21, 30, 31], 'r1.r1.f0.f4.f0.-r1.f0.f4.f0.-r1': [0, 1, 2, 3, 4, 5, 6, 7, 8, 9, 10, 11, 12, 13, 14, 15, 16, 25, 18, 19, 20, 29, 22, 23, 24, 17, 26, 27, 28, 21, 30, 31], 'r1.f0.f4.f0.r1.r1.r1.f0.f4.f0': [0, 1, 2, 3, 4, 5, 6, 7, 8, 9, 10, 11, 12, 13, 14, 15, 20, 29, 30, 31, 24, 17, 18, 19, 28, 21, 22, 23, 16, 25, 26, 27], 'r1.f0.f4.f0.r1.r1.f0.f4.f0.r1': [0, 1, 2, 3, 4, 5, 6, 7, 8, 9, 10, 11, 12, 13, 14, 15, 20, 29, 30, 23, 24, 17, 18, 27, 28, 21, 22, 31, 16, 25, 26, 19], 'r1.f0.f4.f0.r1.r1.f0.f4.f0.-r1': [0, 1, 2, 3, 4, 5, 6, 7, 8, 9, 10, 11, 12, 13, 14, 15, 26, 19, 20, 29, 30, 23, 24, 17, 18, 27, 28, 21, 22, 31, 16, 25], 'r1.f0.f4.f0.r1.f0.f4.f0.r1.r1': [0, 1, 2, 3, 4, 5, 6, 7, 8, 9, 10, 11, 12, 13, 14, 15, 20, 29, 22, 23, 24, 17, 26, 27, 28, 21, 30, 31, 16, 25, 18, 19], 'r1.f0.f4.f0.r1.f0.f4.f0.r1.f0.f4.f0': [8, 9, 10, 11, 4, 5, 6, 7, 0, 1, 2, 3, 12, 13, 14, 15, 27, 28, 21, 30, 23, 24, 17, 26, 19, 20, 29, 22, 31, 16, 25, 18], 'r1.f0.f4.f0.-r1.-r1.-r1.f0.f4.f0': [0, 1, 2, 3, 4, 5, 6, 7, 8, 9, 10, 11, 12, 13, 14, 15, 22, 23, 24, 17, 26, 27, 28, 21, 30, 31, 16, 25, 18, 19, 20, 29], 'r1.f0.f4.f0.-r1.-r1.f0.f4.f0.r1': [0, 1, 2, 3, 4, 5, 6, 7, 8, 9, 10, 11, 12, 13, 14, 15, 24, 17, 18, 27, 28, 21, 22, 31, 16, 25, 26, 19, 20, 29, 30, 23], 'r1.f0.f4.f0.-r1.-r1.f0.f4.f0.-r1': [0, 1, 2, 3, 4, 5, 6, 7, 8, 9, 10, 11, 12, 13, 14, 15, 30, 23, 24, 17, 18, 27, 28, 21, 22, 31, 16, 25, 26, 19, 20, 29], 'r1.f0.f4.f0.-r1.f0.f4.f0.-r1.-r1': [0, 1, 2, 3, 4, 5, 6, 7, 8, 9, 10, 11, 12, 13, 14, 15, 30, 31, 24, 17, 18, 19, 28, 21, 22, 23, 16, 25, 26, 27, 20, 29], 'r1.f0.f4.f0.-r1.f0.f4.f0.-r1.f0.f4.f0': [8, 9, 10, 11, 4, 5, 6, 7, 0, 1, 2, 3, 12, 13, 14, 15, 23, 16, 25, 26, 19, 28, 21, 22, 31, 24, 17, 18, 27, 20, 29, 30], '-r1.-r1.-r1.-r1.-r1.-r1': [0, 1, 2, 3, 4, 5, 6, 7, 8, 9, 10, 11, 12, 13, 14, 15, 26, 27, 28, 29, 30, 31, 16, 17, 18, 19, 20, 21, 22, 23, 24, 25], '-r1.-r1.-r1.-r1.-r1.f0.f4.f0': [8, 9, 10, 11, 4, 5, 6, 7, 0, 1, 2, 3, 12, 13, 14, 15, 19, 20, 21, 22, 31, 16, 17, 18, 27, 28, 29, 30, 23, 24, 25, 26], '-r1.-r1.-r1.-r1.f0.f4.f0.r1': [8, 9, 10, 11, 4, 5, 6, 7, 0, 1, 2, 3, 12, 13, 14, 15, 21, 22, 23, 16, 17, 18, 19, 28, 29, 30, 31, 24, 25, 26, 27, 20], '-r1.-r1.-r1.f0.f4.f0.r1.r1': [8, 9, 10, 11, 4, 5, 6, 7, 0, 1, 2, 3, 12, 13, 14, 15, 23, 24, 17, 18, 19, 20, 29, 30, 31, 16, 25, 26, 27, 28, 21, 22], '-r1.-r1.-r1.f0.f4.f0.r1.f0.f4.f0': [0, 1, 2, 3, 4, 5, 6, 7, 8, 9, 10, 11, 12, 13, 14, 15, 30, 31, 16, 25, 18, 19, 20, 29, 22, 23, 24, 17, 26, 27, 28, 21], '-r1.-r1.f0.f4.f0.r1.r1.r1': [8, 9, 10, 11, 4, 5, 6, 7, 0, 1, 2, 3, 12, 13, 14, 15, 25, 18, 19, 20, 21, 30, 31, 16, 17, 26, 27, 28, 29, 22, 23, 24], '-r1.-r1.f0.f4.f0.r1.r1.f0.f4.f0': [0, 1, 2, 3, 4, 5, 6, 7, 8, 9, 10, 11, 12, 13, 14, 15, 16, 17, 26, 27, 20, 21, 30, 31, 24, 25, 18, 19, 28, 29, 22, 23], '-r1.-r1.f0.f4.f0.r1.f0.f4.f0.r1': [0, 1, 2, 3, 4, 5, 6, 7, 8, 9, 10, 11, 12, 13, 14, 15, 16, 17, 26, 19, 20, 21, 30, 23, 24, 25, 18, 27, 28, 29, 22, 31], '-r1.-r1.f0.f4.f0.-r1.f0.f4.f0.-r1': [0, 1, 2, 3, 4, 5, 6, 7, 8, 9, 10, 11, 12, 13, 14, 15, 28, 21, 30, 31, 16, 25, 18, 19, 20, 29, 22, 23, 24, 17, 26, 27], '-r1.f0.f4.f0.r1.r1.r1.f0.f4.f0': [0, 1, 2, 3, 4, 5, 6, 7, 8, 9, 10, 11, 12, 13, 14, 15, 18, 27, 28, 29, 22, 31, 16, 17, 26, 19, 20, 21, 30, 23, 24, 25], '-r1.f0.f4.f0.r1.r1.f0.f4.f0.r1': [0, 1, 2, 3, 4, 5, 6, 7, 8, 9, 10, 11, 12, 13, 14, 15, 18, 27, 28, 21, 22, 31, 16, 25, 26, 19, 20, 29, 30, 23, 24, 17], '-r1.f0.f4.f0.r1.f0.f4.f0.r1.r1': [0, 1, 2, 3, 4, 5, 6, 7, 8, 9, 10, 11, 12, 13, 14, 15, 18, 27, 20, 21, 22, 31, 24, 25, 26, 19, 28, 29, 30, 23, 16, 17], '-r1.f0.f4.f0.r1.f0.f4.f0.r1.f0.f4.f0': [8, 9, 10, 11, 4, 5, 6, 7, 0, 1, 2, 3, 12, 13, 14, 15, 25, 26, 19, 28, 21, 22, 31, 24, 17, 18, 27, 20, 29, 30, 23, 16], '-r1.f0.f4.f0.-r1.-r1.f0.f4.f0.r1': [0, 1, 2, 3, 4, 5, 6, 7, 8, 9, 10, 11, 12, 13, 14, 15, 22, 31, 16, 25, 26, 19, 20, 29, 30, 23, 24, 17, 18, 27, 28, 21], '-r1.f0.f4.f0.-r1.-r1.f0.f4.f0.-r1': [0, 1, 2, 3, 4, 5, 6, 7, 8, 9, 10, 11, 12, 13, 14, 15, 28, 21, 22, 31, 16, 25, 26, 19, 20, 29, 30, 23, 24, 17, 18, 27], '-r1.f0.f4.f0.-r1.f0.f4.f0.-r1.-r1': [0, 1, 2, 3, 4, 5, 6, 7, 8, 9, 10, 11, 12, 13, 14, 15, 28, 29, 22, 31, 16, 17, 26, 19, 20, 21, 30, 23, 24, 25, 18, 27], '-r1.f0.f4.f0.-r1.f0.f4.f0.-r1.f0.f4.f0': [8, 9, 10, 11, 4, 5, 6, 7, 0, 1, 2, 3, 12, 13, 14, 15, 21, 30, 23, 24, 17, 26, 19, 20, 29, 22, 31, 16, 25, 18, 27, 28], 'f0.f4.f0.r1.r1.r1.f0.f4.f0.r1': [0, 1, 2, 3, 4, 5, 6, 7, 8, 9, 10, 11, 12, 13, 14, 15, 28, 29, 30, 23, 16, 17, 18, 27, 20, 21, 22, 31, 24, 25, 26, 19], 'f0.f4.f0.r1.r1.r1.f0.f4.f0.-r1': [0, 1, 2, 3, 4, 5, 6, 7, 8, 9, 10, 11, 12, 13, 14, 15, 26, 19, 28, 29, 30, 23, 16, 17, 18, 27, 20, 21, 22, 31, 24, 25], 'f0.f4.f0.r1.r1.f0.f4.f0.r1.r1': [0, 1, 2, 3, 4, 5, 6, 7, 8, 9, 10, 11, 12, 13, 14, 15, 28, 29, 22, 23, 16, 17, 26, 27, 20, 21, 30, 31, 24, 25, 18, 19], 'f0.f4.f0.r1.r1.f0.f4.f0.r1.f0.f4.f0': [8, 9, 10, 11, 4, 5, 6, 7, 0, 1, 2, 3, 12, 13, 14, 15, 27, 20, 21, 30, 23, 16, 17, 26, 19, 28, 29, 22, 31, 24, 25, 18], 'f0.f4.f0.r1.r1.f0.f4.f0.-r1.f0.f4.f0': [8, 9, 10, 11, 4, 5, 6, 7, 0, 1, 2, 3, 12, 13, 14, 15, 17, 26, 27, 20, 29, 22, 23, 16, 25, 18, 19, 28, 21, 30, 31, 24], 'f0.f4.f0.r1.f0.f4.f0.r1.r1.r1': [0, 1, 2, 3, 4, 5, 6, 7, 8, 9, 10, 11, 12, 13, 14, 15, 28, 21, 22, 23, 16, 25, 26, 27, 20, 29, 30, 31, 24, 17, 18, 19], 'f0.f4.f0.r1.f0.f4.f0.r1.r1.f0.f4.f0': [8, 9, 10, 11, 4, 5, 6, 7, 0, 1, 2, 3, 12, 13, 14, 15, 27, 20, 29, 30, 23, 16, 25, 26, 19, 28, 21, 22, 31, 24, 17, 18], 'f0.f4.f0.r1.f0.f4.f0.r1.f0.f4.f0.r1': [8, 9, 10, 11, 4, 5, 6, 7, 0, 1, 2, 3, 12, 13, 14, 15, 27, 20, 29, 22, 23, 16, 25, 18, 19, 28, 21, 30, 31, 24, 17, 26], 'f0.f4.f0.-r1.-r1.-r1.f0.f4.f0.r1': [0, 1, 2, 3, 4, 5, 6, 7, 8, 9, 10, 11, 12, 13, 14, 15, 22, 23, 16, 25, 26, 27, 20, 29, 30, 31, 24, 17, 18, 19, 28, 21], 'f0.f4.f0.-r1.-r1.f0.f4.f0.r1.f0.f4.f0': [8, 9, 10, 11, 4, 5, 6, 7, 0, 1, 2, 3, 12, 13, 14, 15, 31, 24, 25, 18, 27, 20, 21, 30, 23, 16, 17, 26, 19, 28, 29, 22], 'f0.f4.f0.-r1.-r1.f0.f4.f0.-r1.f0.f4.f0': [8, 9, 10, 11, 4, 5, 6, 7, 0, 1, 2, 3, 12, 13, 14, 15, 21, 30, 31, 24, 17, 26, 27, 20, 29, 22, 23, 16, 25, 18, 19, 28], 'f0.f4.f0.-r1.f0.f4.f0.-r1.-r1.f0.f4.f0': [8, 9, 10, 11, 4, 5, 6, 7, 0, 1, 2, 3, 12, 13, 14, 15, 21, 22, 31, 24, 17, 18, 27, 20, 29, 30, 23, 16, 25, 26, 19, 28], 'f0.f4.f0.-r1.f0.f4.f0.-r1.f0.f4.f0.-r1': [8, 9, 10, 11, 4, 5, 6, 7, 0, 1, 2, 3, 12, 13, 14, 15, 29, 22, 31, 24, 25, 18, 27, 20, 21, 30, 23, 16, 17, 26, 19, 28], 'r1.r1.r1.r1.r1.r1.r1': [0, 1, 2, 3, 4, 5, 6, 7, 8, 9, 10, 11, 12, 13, 14, 15, 23, 24, 25, 26, 27, 28, 29, 30, 31, 16, 17, 18, 19, 20, 21, 22], 'r1.r1.r1.r1.r1.r1.f0.f4.f0': [8, 9, 10, 11, 4, 5, 6, 7, 0, 1, 2, 3, 12, 13, 14, 15, 30, 31, 16, 17, 26, 27, 28, 29, 22, 23, 24, 25, 18, 19, 20, 21], 'r1.r1.r1.r1.r1.f0.f4.f0.-r1': [8, 9, 10, 11, 4, 5, 6, 7, 0, 1, 2, 3, 12, 13, 14, 15, 20, 29, 30, 31, 16, 25, 26, 27, 28, 21, 22, 23, 24, 17, 18, 19], 'r1.r1.r1.r1.f0.f4.f0.-r1.-r1': [8, 9, 10, 11, 4, 5, 6, 7, 0, 1, 2, 3, 12, 13, 14, 15, 18, 19, 28, 29, 30, 31, 24, 25, 26, 27, 20, 21, 22, 23, 16, 17], 'r1.r1.r1.r1.f0.f4.f0.-r1.f0.f4.f0': [0, 1, 2, 3, 4, 5, 6, 7, 8, 9, 10, 11, 12, 13, 14, 15, 27, 20, 21, 22, 31, 24, 25, 26, 19, 28, 29, 30, 23, 16, 17, 18], 'r1.r1.r1.f0.f4.f0.r1.f0.f4.f0.r1': [0, 1, 2, 3, 4, 5, 6, 7, 8, 9, 10, 11, 12, 13, 14, 15, 21, 22, 31, 24, 25, 26, 19, 28, 29, 30, 23, 16, 17, 18, 27, 20], 'r1.r1.r1.f0.f4.f0.-r1.-r1.-r1': [8, 9, 10, 11, 4, 5, 6, 7, 0, 1, 2, 3, 12, 13, 14, 15, 16, 17, 18, 27, 28, 29, 30, 23, 24, 25, 26, 19, 20, 21, 22, 31], 'r1.r1.r1.f0.f4.f0.-r1.-r1.f0.f4.f0': [0, 1, 2, 3, 4, 5, 6, 7, 8, 9, 10, 11, 12, 13, 14, 15, 25, 26, 19, 20, 29, 30, 23, 24, 17, 18, 27, 28, 21, 22, 31, 16], 'r1.r1.r1.f0.f4.f0.-r1.f0.f4.f0.-r1': [0, 1, 2, 3, 4, 5, 6, 7, 8, 9, 10, 11, 12, 13, 14, 15, 17, 26, 19, 20, 21, 30, 23, 24, 25, 18, 27, 28, 29, 22, 31, 16], 'r1.r1.f0.f4.f0.r1.r1.f0.f4.f0.r1': [0, 1, 2, 3, 4, 5, 6, 7, 8, 9, 10, 11, 12, 13, 14, 15, 21, 30, 31, 24, 25, 18, 19, 28, 29, 22, 23, 16, 17, 26, 27, 20], 'r1.r1.f0.f4.f0.r1.r1.f0.f4.f0.-r1': [0, 1, 2, 3, 4, 5, 6, 7, 8, 9, 10, 11, 12, 13, 14, 15, 27, 20, 21, 30, 31, 24, 25, 18, 19, 28, 29, 22, 23, 16, 17, 26], 'r1.r1.f0.f4.f0.r1.f0.f4.f0.r1.r1': [0, 1, 2, 3, 4, 5, 6, 7, 8, 9, 10, 11, 12, 13, 14, 15, 21, 30, 23, 24, 25, 18, 27, 28, 29, 22, 31, 16, 17, 26, 19, 20], 'r1.r1.f0.f4.f0.r1.f0.f4.f0.r1.f0.f4.f0': [8, 9, 10, 11, 4, 5, 6, 7, 0, 1, 2, 3, 12, 13, 14, 15, 28, 29, 22, 31, 24, 25, 18, 27, 20, 21, 30, 23, 16, 17, 26, 19], 'r1.r1.f0.f4.f0.-r1.-r1.-r1.f0.f4.f0': [0, 1, 2, 3, 4, 5, 6, 7, 8, 9, 10, 11, 12, 13, 14, 15, 23, 24, 25, 18, 27, 28, 29, 22, 31, 16, 17, 26, 19, 20, 21, 30], 'r1.r1.f0.f4.f0.-r1.-r1.f0.f4.f0.-r1': [0, 1, 2, 3, 4, 5, 6, 7, 8, 9, 10, 11, 12, 13, 14, 15, 31, 24, 25, 18, 19, 28, 29, 22, 23, 16, 17, 26, 27, 20, 21, 30], 'r1.r1.f0.f4.f0.-r1.f0.f4.f0.-r1.-r1': [0, 1, 2, 3, 4, 5, 6, 7, 8, 9, 10, 11, 12, 13, 14, 15, 31, 16, 25, 18, 19, 20, 29, 22, 23, 24, 17, 26, 27, 28, 21, 30], 'r1.r1.f0.f4.f0.-r1.f0.f4.f0.-r1.f0.f4.f0': [8, 9, 10, 11, 4, 5, 6, 7, 0, 1, 2, 3, 12, 13, 14, 15, 24, 17, 26, 27, 20, 29, 22, 23, 16, 25, 18, 19, 28, 21, 30, 31], 'r1.f0.f4.f0.r1.r1.r1.f0.f4.f0.r1': [0, 1, 2, 3, 4, 5, 6, 7, 8, 9, 10, 11, 12, 13, 14, 15, 29, 30, 31, 24, 17, 18, 19, 28, 21, 22, 23, 16, 25, 26, 27, 20], 'r1.f0.f4.f0.r1.r1.r1.f0.f4.f0.-r1': [0, 1, 2, 3, 4, 5, 6, 7, 8, 9, 10, 11, 12, 13, 14, 15, 27, 20, 29, 30, 31, 24, 17, 18, 19, 28, 21, 22, 23, 16, 25, 26], 'r1.f0.f4.f0.r1.r1.f0.f4.f0.r1.r1': [0, 1, 2, 3, 4, 5, 6, 7, 8, 9, 10, 11, 12, 13, 14, 15, 29, 30, 23, 24, 17, 18, 27, 28, 21, 22, 31, 16, 25, 26, 19, 20], 'r1.f0.f4.f0.r1.r1.f0.f4.f0.r1.f0.f4.f0': [8, 9, 10, 11, 4, 5, 6, 7, 0, 1, 2, 3, 12, 13, 14, 15, 28, 21, 22, 31, 24, 17, 18, 27, 20, 29, 30, 23, 16, 25, 26, 19], 'r1.f0.f4.f0.r1.r1.f0.f4.f0.-r1.f0.f4.f0': [8, 9, 10, 11, 4, 5, 6, 7, 0, 1, 2, 3, 12, 13, 14, 15, 18, 27, 28, 21, 30, 23, 24, 17, 26, 19, 20, 29, 22, 31, 16, 25], 'r1.f0.f4.f0.r1.f0.f4.f0.r1.r1.r1': [0, 1, 2, 3, 4, 5, 6, 7, 8, 9, 10, 11, 12, 13, 14, 15, 29, 22, 23, 24, 17, 26, 27, 28, 21, 30, 31, 16, 25, 18, 19, 20], 'r1.f0.f4.f0.r1.f0.f4.f0.r1.r1.f0.f4.f0': [8, 9, 10, 11, 4, 5, 6, 7, 0, 1, 2, 3, 12, 13, 14, 15, 28, 21, 30, 31, 24, 17, 26, 27, 20, 29, 22, 23, 16, 25, 18, 19], 'r1.f0.f4.f0.r1.f0.f4.f0.r1.f0.f4.f0.r1': [8, 9, 10, 11, 4, 5, 6, 7, 0, 1, 2, 3, 12, 13, 14, 15, 28, 21, 30, 23, 24, 17, 26, 19, 20, 29, 22, 31, 16, 25, 18, 27], 'r1.f0.f4.f0.-r1.-r1.-r1.f0.f4.f0.r1': [0, 1, 2, 3, 4, 5, 6, 7, 8, 9, 10, 11, 12, 13, 14, 15, 23, 24, 17, 26, 27, 28, 21, 30, 31, 16, 25, 18, 19, 20, 29, 22], 'r1.f0.f4.f0.-r1.-r1.f0.f4.f0.r1.f0.f4.f0': [8, 9, 10, 11, 4, 5, 6, 7, 0, 1, 2, 3, 12, 13, 14, 15, 16, 25, 26, 19, 28, 21, 22, 31, 24, 17, 18, 27, 20, 29, 30, 23], 'r1.f0.f4.f0.-r1.-r1.f0.f4.f0.-r1.f0.f4.f0': [8, 9, 10, 11, 4, 5, 6, 7, 0, 1, 2, 3, 12, 13, 14, 15, 22, 31, 16, 25, 18, 27, 28, 21, 30, 23, 24, 17, 26, 19, 20, 29], 'r1.f0.f4.f0.-r1.f0.f4.f0.-r1.-r1.f0.f4.f0': [8, 9, 10, 11, 4, 5, 6, 7, 0, 1, 2, 3, 12, 13, 14, 15, 22, 23, 16, 25, 18, 19, 28, 21, 30, 31, 24, 17, 26, 27, 20, 29], 'r1.f0.f4.f0.-r1.f0.f4.f0.-r1.f0.f4.f0.-r1': [8, 9, 10, 11, 4, 5, 6, 7, 0, 1, 2, 3, 12, 13, 14, 15, 30, 23, 16, 25, 26, 19, 28, 21, 22, 31, 24, 17, 18, 27, 20, 29], '-r1.-r1.-r1.-r1.-r1.-r1.-r1': [0, 1, 2, 3, 4, 5, 6, 7, 8, 9, 10, 11, 12, 13, 14, 15, 25, 26, 27, 28, 29, 30, 31, 16, 17, 18, 19, 20, 21, 22, 23, 24], '-r1.-r1.-r1.-r1.-r1.-r1.f0.f4.f0': [8, 9, 10, 11, 4, 5, 6, 7, 0, 1, 2, 3, 12, 13, 14, 15, 18, 19, 20, 21, 30, 31, 16, 17, 26, 27, 28, 29, 22, 23, 24, 25], '-r1.-r1.-r1.-r1.-r1.f0.f4.f0.r1': [8, 9, 10, 11, 4, 5, 6, 7, 0, 1, 2, 3, 12, 13, 14, 15, 20, 21, 22, 31, 16, 17, 18, 27, 28, 29, 30, 23, 24, 25, 26, 19], '-r1.-r1.-r1.-r1.f0.f4.f0.r1.r1': [8, 9, 10, 11, 4, 5, 6, 7, 0, 1, 2, 3, 12, 13, 14, 15, 22, 23, 16, 17, 18, 19, 28, 29, 30, 31, 24, 25, 26, 27, 20, 21], '-r1.-r1.-r1.f0.f4.f0.r1.r1.r1': [8, 9, 10, 11, 4, 5, 6, 7, 0, 1, 2, 3, 12, 13, 14, 15, 24, 17, 18, 19, 20, 29, 30, 31, 16, 25, 26, 27, 28, 21, 22, 23], '-r1.-r1.-r1.f0.f4.f0.r1.r1.f0.f4.f0': [0, 1, 2, 3, 4, 5, 6, 7, 8, 9, 10, 11, 12, 13, 14, 15, 31, 16, 25, 26, 19, 20, 29, 30, 23, 24, 17, 18, 27, 28, 21, 22], '-r1.-r1.f0.f4.f0.r1.r1.r1.f0.f4.f0': [0, 1, 2, 3, 4, 5, 6, 7, 8, 9, 10, 11, 12, 13, 14, 15, 17, 26, 27, 28, 21, 30, 31, 16, 25, 18, 19, 20, 29, 22, 23, 24], '-r1.-r1.f0.f4.f0.r1.r1.f0.f4.f0.r1': [0, 1, 2, 3, 4, 5, 6, 7, 8, 9, 10, 11, 12, 13, 14, 15, 17, 26, 27, 20, 21, 30, 31, 24, 25, 18, 19, 28, 29, 22, 23, 16], '-r1.-r1.f0.f4.f0.r1.f0.f4.f0.r1.f0.f4.f0': [8, 9, 10, 11, 4, 5, 6, 7, 0, 1, 2, 3, 12, 13, 14, 15, 24, 25, 18, 27, 20, 21, 30, 23, 16, 17, 26, 19, 28, 29, 22, 31], '-r1.-r1.f0.f4.f0.-r1.f0.f4.f0.-r1.-r1': [0, 1, 2, 3, 4, 5, 6, 7, 8, 9, 10, 11, 12, 13, 14, 15, 27, 28, 21, 30, 31, 16, 25, 18, 19, 20, 29, 22, 23, 24, 17, 26], '-r1.-r1.f0.f4.f0.-r1.f0.f4.f0.-r1.f0.f4.f0': [8, 9, 10, 11, 4, 5, 6, 7, 0, 1, 2, 3, 12, 13, 14, 15, 20, 29, 22, 23, 16, 25, 18, 19, 28, 21, 30, 31, 24, 17, 26, 27], '-r1.f0.f4.f0.r1.r1.r1.f0.f4.f0.r1': [0, 1, 2, 3, 4, 5, 6, 7, 8, 9, 10, 11, 12, 13, 14, 15, 27, 28, 29, 22, 31, 16, 17, 26, 19, 20, 21, 30, 23, 24, 25, 18], '-r1.f0.f4.f0.r1.r1.r1.f0.f4.f0.-r1': [0, 1, 2, 3, 4, 5, 6, 7, 8, 9, 10, 11, 12, 13, 14, 15, 25, 18, 27, 28, 29, 22, 31, 16, 17, 26, 19, 20, 21, 30, 23, 24], '-r1.f0.f4.f0.r1.r1.f0.f4.f0.r1.r1': [0, 1, 2, 3, 4, 5, 6, 7, 8, 9, 10, 11, 12, 13, 14, 15, 27, 28, 21, 22, 31, 16, 25, 26, 19, 20, 29, 30, 23, 24, 17, 18], '-r1.f0.f4.f0.r1.r1.f0.f4.f0.r1.f0.f4.f0': [8, 9, 10, 11, 4, 5, 6, 7, 0, 1, 2, 3, 12, 13, 14, 15, 26, 19, 20, 29, 22, 31, 16, 25, 18, 27, 28, 21, 30, 23, 24, 17], '-r1.f0.f4.f0.r1.f0.f4.f0.r1.r1.f0.f4.f0': [8, 9, 10, 11, 4, 5, 6, 7, 0, 1, 2, 3, 12, 13, 14, 15, 26, 19, 28, 29, 22, 31, 24, 25, 18, 27, 20, 21, 30, 23, 16, 17], '-r1.f0.f4.f0.r1.f0.f4.f0.r1.f0.f4.f0.r1': [8, 9, 10, 11, 4, 5, 6, 7, 0, 1, 2, 3, 12, 13, 14, 15, 26, 19, 28, 21, 22, 31, 24, 17, 18, 27, 20, 29, 30, 23, 16, 25], '-r1.f0.f4.f0.-r1.-r1.f0.f4.f0.r1.f0.f4.f0': [8, 9, 10, 11, 4, 5, 6, 7, 0, 1, 2, 3, 12, 13, 14, 15, 30, 23, 24, 17, 26, 19, 20, 29, 22, 31, 16, 25, 18, 27, 28, 21], '-r1.f0.f4.f0.-r1.-r1.f0.f4.f0.-r1.f0.f4.f0': [8, 9, 10, 11, 4, 5, 6, 7, 0, 1, 2, 3, 12, 13, 14, 15, 20, 29, 30, 23, 16, 25, 26, 19, 28, 21, 22, 31, 24, 17, 18, 27], '-r1.f0.f4.f0.-r1.f0.f4.f0.-r1.-r1.f0.f4.f0': [8, 9, 10, 11, 4, 5, 6, 7, 0, 1, 2, 3, 12, 13, 14, 15, 20, 21, 30, 23, 16, 17, 26, 19, 28, 29, 22, 31, 24, 25, 18, 27], 'f0.f4.f0.r1.r1.r1.f0.f4.f0.-r1.-r1': [0, 1, 2, 3, 4, 5, 6, 7, 8, 9, 10, 11, 12, 13, 14, 15, 25, 26, 19, 28, 29, 30, 23, 16, 17, 18, 27, 20, 21, 22, 31, 24], 'f0.f4.f0.r1.r1.r1.f0.f4.f0.-r1.f0.f4.f0': [8, 9, 10, 11, 4, 5, 6, 7, 0, 1, 2, 3, 12, 13, 14, 15, 18, 27, 20, 21, 30, 23, 16, 17, 26, 19, 28, 29, 22, 31, 24, 25], 'f0.f4.f0.r1.r1.f0.f4.f0.r1.r1.f0.f4.f0': [8, 9, 10, 11, 4, 5, 6, 7, 0, 1, 2, 3, 12, 13, 14, 15, 20, 21, 30, 31, 16, 17, 26, 27, 28, 29, 22, 23, 24, 25, 18, 19], 'f0.f4.f0.r1.f0.f4.f0.r1.r1.f0.f4.f0.-r1': [8, 9, 10, 11, 4, 5, 6, 7, 0, 1, 2, 3, 12, 13, 14, 15, 18, 27, 20, 29, 30, 23, 16, 25, 26, 19, 28, 21, 22, 31, 24, 17], 'f0.f4.f0.r1.f0.f4.f0.r1.f0.f4.f0.r1.f0.f4.f0': [0, 1, 2, 3, 4, 5, 6, 7, 8, 9, 10, 11, 12, 13, 14, 15, 19, 28, 21, 30, 23, 16, 25, 18, 27, 20, 29, 22, 31, 24, 17, 26], 'f0.f4.f0.-r1.-r1.-r1.f0.f4.f0.r1.r1': [0, 1, 2, 3, 4, 5, 6, 7, 8, 9, 10, 11, 12, 13, 14, 15, 23, 16, 25, 26, 27, 20, 29, 30, 31, 24, 17, 18, 19, 28, 21, 22], 'f0.f4.f0.-r1.-r1.-r1.f0.f4.f0.r1.f0.f4.f0': [8, 9, 10, 11, 4, 5, 6, 7, 0, 1, 2, 3, 12, 13, 14, 15, 30, 31, 24, 17, 26, 27, 20, 29, 22, 23, 16, 25, 18, 19, 28, 21], 'f0.f4.f0.-r1.f0.f4.f0.-r1.-r1.f0.f4.f0.r1': [8, 9, 10, 11, 4, 5, 6, 7, 0, 1, 2, 3, 12, 13, 14, 15, 22, 31, 24, 17, 18, 27, 20, 29, 30, 23, 16, 25, 26, 19, 28, 21], 'f0.f4.f0.-r1.f0.f4.f0.-r1.f0.f4.f0.-r1.f0.f4.f0': [0, 1, 2, 3, 4, 5, 6, 7, 8, 9, 10, 11, 12, 13, 14, 15, 21, 30, 23, 16, 25, 18, 27, 20, 29, 22, 31, 24, 17, 26, 19, 28], 'r1.r1.r1.r1.r1.r1.r1.r1': [0, 1, 2, 3, 4, 5, 6, 7, 8, 9, 10, 11, 12, 13, 14, 15, 24, 25, 26, 27, 28, 29, 30, 31, 16, 17, 18, 19, 20, 21, 22, 23], 'r1.r1.r1.r1.r1.r1.r1.f0.f4.f0': [8, 9, 10, 11, 4, 5, 6, 7, 0, 1, 2, 3, 12, 13, 14, 15, 31, 16, 17, 18, 27, 28, 29, 30, 23, 24, 25, 26, 19, 20, 21, 22], 'r1.r1.r1.r1.r1.r1.f0.f4.f0.-r1': [8, 9, 10, 11, 4, 5, 6, 7, 0, 1, 2, 3, 12, 13, 14, 15, 21, 30, 31, 16, 17, 26, 27, 28, 29, 22, 23, 24, 25, 18, 19, 20], 'r1.r1.r1.r1.r1.f0.f4.f0.-r1.-r1': [8, 9, 10, 11, 4, 5, 6, 7, 0, 1, 2, 3, 12, 13, 14, 15, 19, 20, 29, 30, 31, 16, 25, 26, 27, 28, 21, 22, 23, 24, 17, 18], 'r1.r1.r1.r1.f0.f4.f0.-r1.-r1.-r1': [8, 9, 10, 11, 4, 5, 6, 7, 0, 1, 2, 3, 12, 13, 14, 15, 17, 18, 19, 28, 29, 30, 31, 24, 25, 26, 27, 20, 21, 22, 23, 16], 'r1.r1.r1.r1.f0.f4.f0.-r1.-r1.f0.f4.f0': [0, 1, 2, 3, 4, 5, 6, 7, 8, 9, 10, 11, 12, 13, 14, 15, 26, 27, 20, 21, 30, 31, 24, 25, 18, 19, 28, 29, 22, 23, 16, 17], 'r1.r1.r1.f0.f4.f0.r1.f0.f4.f0.r1.r1': [0, 1, 2, 3, 4, 5, 6, 7, 8, 9, 10, 11, 12, 13, 14, 15, 22, 31, 24, 25, 26, 19, 28, 29, 30, 23, 16, 17, 18, 27, 20, 21], 'r1.r1.r1.f0.f4.f0.r1.f0.f4.f0.r1.f0.f4.f0': [8, 9, 10, 11, 4, 5, 6, 7, 0, 1, 2, 3, 12, 13, 14, 15, 29, 30, 23, 16, 25, 26, 19, 28, 21, 22, 31, 24, 17, 18, 27, 20], 'r1.r1.r1.f0.f4.f0.-r1.-r1.-r1.f0.f4.f0': [0, 1, 2, 3, 4, 5, 6, 7, 8, 9, 10, 11, 12, 13, 14, 15, 24, 25, 26, 19, 28, 29, 30, 23, 16, 17, 18, 27, 20, 21, 22, 31], 'r1.r1.r1.f0.f4.f0.-r1.-r1.f0.f4.f0.-r1': [0, 1, 2, 3, 4, 5, 6, 7, 8, 9, 10, 11, 12, 13, 14, 15, 16, 25, 26, 19, 20, 29, 30, 23, 24, 17, 18, 27, 28, 21, 22, 31], 'r1.r1.r1.f0.f4.f0.-r1.f0.f4.f0.-r1.f0.f4.f0': [8, 9, 10, 11, 4, 5, 6, 7, 0, 1, 2, 3, 12, 13, 14, 15, 25, 18, 27, 28, 21, 30, 23, 24, 17, 26, 19, 20, 29, 22, 31, 16], 'r1.r1.f0.f4.f0.r1.r1.f0.f4.f0.r1.r1': [0, 1, 2, 3, 4, 5, 6, 7, 8, 9, 10, 11, 12, 13, 14, 15, 30, 31, 24, 25, 18, 19, 28, 29, 22, 23, 16, 17, 26, 27, 20, 21], 'r1.r1.f0.f4.f0.r1.r1.f0.f4.f0.r1.f0.f4.f0': [8, 9, 10, 11, 4, 5, 6, 7, 0, 1, 2, 3, 12, 13, 14, 15, 29, 22, 23, 16, 25, 18, 19, 28, 21, 30, 31, 24, 17, 26, 27, 20], 'r1.r1.f0.f4.f0.r1.r1.f0.f4.f0.-r1.f0.f4.f0': [8, 9, 10, 11, 4, 5, 6, 7, 0, 1, 2, 3, 12, 13, 14, 15, 19, 28, 29, 22, 31, 24, 25, 18, 27, 20, 21, 30, 23, 16, 17, 26], 'r1.r1.f0.f4.f0.r1.f0.f4.f0.r1.r1.r1': [0, 1, 2, 3, 4, 5, 6, 7, 8, 9, 10, 11, 12, 13, 14, 15, 30, 23, 24, 25, 18, 27, 28, 29, 22, 31, 16, 17, 26, 19, 20, 21], 'r1.r1.f0.f4.f0.r1.f0.f4.f0.r1.r1.f0.f4.f0': [8, 9, 10, 11, 4, 5, 6, 7, 0, 1, 2, 3, 12, 13, 14, 15, 29, 22, 31, 16, 25, 18, 27, 28, 21, 30, 23, 24, 17, 26, 19, 20], 'r1.r1.f0.f4.f0.-r1.-r1.-r1.f0.f4.f0.r1': [0, 1, 2, 3, 4, 5, 6, 7, 8, 9, 10, 11, 12, 13, 14, 15, 24, 25, 18, 27, 28, 29, 22, 31, 16, 17, 26, 19, 20, 21, 30, 23], 'r1.r1.f0.f4.f0.-r1.-r1.f0.f4.f0.-r1.f0.f4.f0': [8, 9, 10, 11, 4, 5, 6, 7, 0, 1, 2, 3, 12, 13, 14, 15, 23, 16, 17, 26, 19, 28, 29, 22, 31, 24, 25, 18, 27, 20, 21, 30], 'r1.r1.f0.f4.f0.-r1.f0.f4.f0.-r1.-r1.f0.f4.f0': [8, 9, 10, 11, 4, 5, 6, 7, 0, 1, 2, 3, 12, 13, 14, 15, 23, 24, 17, 26, 19, 20, 29, 22, 31, 16, 25, 18, 27, 28, 21, 30], 'r1.r1.f0.f4.f0.-r1.f0.f4.f0.-r1.f0.f4.f0.-r1': [8, 9, 10, 11, 4, 5, 6, 7, 0, 1, 2, 3, 12, 13, 14, 15, 31, 24, 17, 26, 27, 20, 29, 22, 23, 16, 25, 18, 19, 28, 21, 30], 'r1.f0.f4.f0.r1.r1.r1.f0.f4.f0.-r1.-r1': [0, 1, 2, 3, 4, 5, 6, 7, 8, 9, 10, 11, 12, 13, 14, 15, 26, 27, 20, 29, 30, 31, 24, 17, 18, 19, 28, 21, 22, 23, 16, 25], 'r1.f0.f4.f0.r1.r1.r1.f0.f4.f0.-r1.f0.f4.f0': [8, 9, 10, 11, 4, 5, 6, 7, 0, 1, 2, 3, 12, 13, 14, 15, 19, 28, 21, 22, 31, 24, 17, 18, 27, 20, 29, 30, 23, 16, 25, 26], 'r1.f0.f4.f0.r1.r1.f0.f4.f0.r1.r1.f0.f4.f0': [8, 9, 10, 11, 4, 5, 6, 7, 0, 1, 2, 3, 12, 13, 14, 15, 21, 22, 31, 16, 17, 18, 27, 28, 29, 30, 23, 24, 25, 26, 19, 20], 'r1.f0.f4.f0.r1.f0.f4.f0.r1.r1.f0.f4.f0.-r1': [8, 9, 10, 11, 4, 5, 6, 7, 0, 1, 2, 3, 12, 13, 14, 15, 19, 28, 21, 30, 31, 24, 17, 26, 27, 20, 29, 22, 23, 16, 25, 18], 'r1.f0.f4.f0.r1.f0.f4.f0.r1.f0.f4.f0.r1.f0.f4.f0': [0, 1, 2, 3, 4, 5, 6, 7, 8, 9, 10, 11, 12, 13, 14, 15, 20, 29, 22, 31, 24, 17, 26, 19, 28, 21, 30, 23, 16, 25, 18, 27], 'r1.f0.f4.f0.-r1.-r1.-r1.f0.f4.f0.r1.r1': [0, 1, 2, 3, 4, 5, 6, 7, 8, 9, 10, 11, 12, 13, 14, 15, 24, 17, 26, 27, 28, 21, 30, 31, 16, 25, 18, 19, 20, 29, 22, 23], 'r1.f0.f4.f0.-r1.-r1.-r1.f0.f4.f0.r1.f0.f4.f0': [8, 9, 10, 11, 4, 5, 6, 7, 0, 1, 2, 3, 12, 13, 14, 15, 31, 16, 25, 18, 27, 28, 21, 30, 23, 24, 17, 26, 19, 20, 29, 22], 'r1.f0.f4.f0.-r1.f0.f4.f0.-r1.-r1.f0.f4.f0.r1': [8, 9, 10, 11, 4, 5, 6, 7, 0, 1, 2, 3, 12, 13, 14, 15, 23, 16, 25, 18, 19, 28, 21, 30, 31, 24, 17, 26, 27, 20, 29, 22], 'r1.f0.f4.f0.-r1.f0.f4.f0.-r1.f0.f4.f0.-r1.f0.f4.f0': [0, 1, 2, 3, 4, 5, 6, 7, 8, 9, 10, 11, 12, 13, 14, 15, 22, 31, 24, 17, 26, 19, 28, 21, 30, 23, 16, 25, 18, 27, 20, 29], '-r1.-r1.-r1.-r1.-r1.-r1.-r1.f0.f4.f0': [8, 9, 10, 11, 4, 5, 6, 7, 0, 1, 2, 3, 12, 13, 14, 15, 17, 18, 19, 20, 29, 30, 31, 16, 25, 26, 27, 28, 21, 22, 23, 24], '-r1.-r1.-r1.-r1.-r1.-r1.f0.f4.f0.r1': [8, 9, 10, 11, 4, 5, 6, 7, 0, 1, 2, 3, 12, 13, 14, 15, 19, 20, 21, 30, 31, 16, 17, 26, 27, 28, 29, 22, 23, 24, 25, 18], '-r1.-r1.-r1.-r1.f0.f4.f0.r1.r1.r1': [8, 9, 10, 11, 4, 5, 6, 7, 0, 1, 2, 3, 12, 13, 14, 15, 23, 16, 17, 18, 19, 28, 29, 30, 31, 24, 25, 26, 27, 20, 21, 22], '-r1.-r1.-r1.f0.f4.f0.r1.r1.r1.f0.f4.f0': [0, 1, 2, 3, 4, 5, 6, 7, 8, 9, 10, 11, 12, 13, 14, 15, 16, 25, 26, 27, 20, 29, 30, 31, 24, 17, 18, 19, 28, 21, 22, 23], '-r1.-r1.f0.f4.f0.r1.r1.r1.f0.f4.f0.r1': [0, 1, 2, 3, 4, 5, 6, 7, 8, 9, 10, 11, 12, 13, 14, 15, 26, 27, 28, 21, 30, 31, 16, 25, 18, 19, 20, 29, 22, 23, 24, 17], '-r1.-r1.f0.f4.f0.r1.r1.f0.f4.f0.r1.f0.f4.f0': [8, 9, 10, 11, 4, 5, 6, 7, 0, 1, 2, 3, 12, 13, 14, 15, 25, 18, 19, 28, 21, 30, 31, 24, 17, 26, 27, 20, 29, 22, 23, 16], '-r1.-r1.f0.f4.f0.r1.f0.f4.f0.r1.f0.f4.f0.r1': [8, 9, 10, 11, 4, 5, 6, 7, 0, 1, 2, 3, 12, 13, 14, 15, 25, 18, 27, 20, 21, 30, 23, 16, 17, 26, 19, 28, 29, 22, 31, 24], '-r1.-r1.f0.f4.f0.-r1.f0.f4.f0.-r1.-r1.f0.f4.f0': [8, 9, 10, 11, 4, 5, 6, 7, 0, 1, 2, 3, 12, 13, 14, 15, 19, 20, 29, 22, 31, 16, 25, 18, 27, 28, 21, 30, 23, 24, 17, 26], '-r1.f0.f4.f0.r1.r1.r1.f0.f4.f0.-r1.f0.f4.f0': [8, 9, 10, 11, 4, 5, 6, 7, 0, 1, 2, 3, 12, 13, 14, 15, 17, 26, 19, 20, 29, 22, 31, 16, 25, 18, 27, 28, 21, 30, 23, 24], '-r1.f0.f4.f0.r1.f0.f4.f0.r1.r1.f0.f4.f0.-r1': [8, 9, 10, 11, 4, 5, 6, 7, 0, 1, 2, 3, 12, 13, 14, 15, 17, 26, 19, 28, 29, 22, 31, 24, 25, 18, 27, 20, 21, 30, 23, 16], '-r1.f0.f4.f0.r1.f0.f4.f0.r1.f0.f4.f0.r1.f0.f4.f0': [0, 1, 2, 3, 4, 5, 6, 7, 8, 9, 10, 11, 12, 13, 14, 15, 18, 27, 20, 29, 22, 31, 24, 17, 26, 19, 28, 21, 30, 23, 16, 25], '-r1.f0.f4.f0.-r1.f0.f4.f0.-r1.-r1.f0.f4.f0.r1': [8, 9, 10, 11, 4, 5, 6, 7, 0, 1, 2, 3, 12, 13, 14, 15, 21, 30, 23, 16, 17, 26, 19, 28, 29, 22, 31, 24, 25, 18, 27, 20], 'f0.f4.f0.r1.r1.r1.f0.f4.f0.-r1.-r1.f0.f4.f0': [8, 9, 10, 11, 4, 5, 6, 7, 0, 1, 2, 3, 12, 13, 14, 15, 17, 18, 27, 20, 29, 30, 23, 16, 25, 26, 19, 28, 21, 22, 31, 24], 'f0.f4.f0.r1.f0.f4.f0.r1.r1.f0.f4.f0.-r1.f0.f4.f0': [0, 1, 2, 3, 4, 5, 6, 7, 8, 9, 10, 11, 12, 13, 14, 15, 26, 19, 28, 21, 30, 23, 16, 25, 18, 27, 20, 29, 22, 31, 24, 17], 'f0.f4.f0.r1.f0.f4.f0.r1.f0.f4.f0.r1.f0.f4.f0.r1': [0, 1, 2, 3, 4, 5, 6, 7, 8, 9, 10, 11, 12, 13, 14, 15, 28, 21, 30, 23, 16, 25, 18, 27, 20, 29, 22, 31, 24, 17, 26, 19], 'f0.f4.f0.-r1.-r1.-r1.f0.f4.f0.r1.r1.f0.f4.f0': [8, 9, 10, 11, 4, 5, 6, 7, 0, 1, 2, 3, 12, 13, 14, 15, 31, 24, 17, 18, 27, 20, 29, 30, 23, 16, 25, 26, 19, 28, 21, 22], 'f0.f4.f0.-r1.f0.f4.f0.-r1.-r1.f0.f4.f0.r1.f0.f4.f0': [0, 1, 2, 3, 4, 5, 6, 7, 8, 9, 10, 11, 12, 13, 14, 15, 30, 23, 16, 25, 18, 27, 20, 29, 22, 31, 24, 17, 26, 19, 28, 21], 'r1.r1.r1.r1.r1.r1.r1.r1.f0.f4.f0': [8, 9, 10, 11, 4, 5, 6, 7, 0, 1, 2, 3, 12, 13, 14, 15, 16, 17, 18, 19, 28, 29, 30, 31, 24, 25, 26, 27, 20, 21, 22, 23], 'r1.r1.r1.r1.r1.r1.r1.f0.f4.f0.-r1': [8, 9, 10, 11, 4, 5, 6, 7, 0, 1, 2, 3, 12, 13, 14, 15, 22, 31, 16, 17, 18, 27, 28, 29, 30, 23, 24, 25, 26, 19, 20, 21], 'r1.r1.r1.r1.r1.f0.f4.f0.-r1.-r1.-r1': [8, 9, 10, 11, 4, 5, 6, 7, 0, 1, 2, 3, 12, 13, 14, 15, 18, 19, 20, 29, 30, 31, 16, 25, 26, 27, 28, 21, 22, 23, 24, 17], 'r1.r1.r1.r1.f0.f4.f0.-r1.-r1.-r1.f0.f4.f0': [0, 1, 2, 3, 4, 5, 6, 7, 8, 9, 10, 11, 12, 13, 14, 15, 25, 26, 27, 20, 29, 30, 31, 24, 17, 18, 19, 28, 21, 22, 23, 16], 'r1.r1.r1.f0.f4.f0.r1.f0.f4.f0.r1.r1.r1': [0, 1, 2, 3, 4, 5, 6, 7, 8, 9, 10, 11, 12, 13, 14, 15, 31, 24, 25, 26, 19, 28, 29, 30, 23, 16, 17, 18, 27, 20, 21, 22], 'r1.r1.r1.f0.f4.f0.r1.f0.f4.f0.r1.r1.f0.f4.f0': [8, 9, 10, 11, 4, 5, 6, 7, 0, 1, 2, 3, 12, 13, 14, 15, 30, 23, 16, 17, 26, 19, 28, 29, 22, 31, 24, 25, 18, 27, 20, 21], 'r1.r1.r1.f0.f4.f0.-r1.-r1.f0.f4.f0.-r1.f0.f4.f0': [8, 9, 10, 11, 4, 5, 6, 7, 0, 1, 2, 3, 12, 13, 14, 15, 24, 17, 18, 27, 20, 29, 30, 23, 16, 25, 26, 19, 28, 21, 22, 31], 'r1.r1.r1.f0.f4.f0.-r1.f0.f4.f0.-r1.f0.f4.f0.-r1': [8, 9, 10, 11, 4, 5, 6, 7, 0, 1, 2, 3, 12, 13, 14, 15, 16, 25, 18, 27, 28, 21, 30, 23, 24, 17, 26, 19, 20, 29, 22, 31], 'r1.r1.f0.f4.f0.r1.f0.f4.f0.r1.r1.f0.f4.f0.-r1': [8, 9, 10, 11, 4, 5, 6, 7, 0, 1, 2, 3, 12, 13, 14, 15, 20, 29, 22, 31, 16, 25, 18, 27, 28, 21, 30, 23, 24, 17, 26, 19], 'r1.r1.f0.f4.f0.-r1.-r1.-r1.f0.f4.f0.r1.f0.f4.f0': [8, 9, 10, 11, 4, 5, 6, 7, 0, 1, 2, 3, 12, 13, 14, 15, 16, 17, 26, 19, 28, 29, 22, 31, 24, 25, 18, 27, 20, 21, 30, 23], 'r1.r1.f0.f4.f0.-r1.f0.f4.f0.-r1.-r1.f0.f4.f0.r1': [8, 9, 10, 11, 4, 5, 6, 7, 0, 1, 2, 3, 12, 13, 14, 15, 24, 17, 26, 19, 20, 29, 22, 31, 16, 25, 18, 27, 28, 21, 30, 23], 'r1.r1.f0.f4.f0.-r1.f0.f4.f0.-r1.f0.f4.f0.-r1.f0.f4.f0': [0, 1, 2, 3, 4, 5, 6, 7, 8, 9, 10, 11, 12, 13, 14, 15, 23, 16, 25, 18, 27, 20, 29, 22, 31, 24, 17, 26, 19, 28, 21, 30], 'r1.f0.f4.f0.r1.r1.r1.f0.f4.f0.-r1.-r1.f0.f4.f0': [8, 9, 10, 11, 4, 5, 6, 7, 0, 1, 2, 3, 12, 13, 14, 15, 18, 19, 28, 21, 30, 31, 24, 17, 26, 27, 20, 29, 22, 23, 16, 25], 'r1.f0.f4.f0.r1.f0.f4.f0.r1.r1.f0.f4.f0.-r1.f0.f4.f0': [0, 1, 2, 3, 4, 5, 6, 7, 8, 9, 10, 11, 12, 13, 14, 15, 27, 20, 29, 22, 31, 24, 17, 26, 19, 28, 21, 30, 23, 16, 25, 18], 'r1.f0.f4.f0.r1.f0.f4.f0.r1.f0.f4.f0.r1.f0.f4.f0.r1': [0, 1, 2, 3, 4, 5, 6, 7, 8, 9, 10, 11, 12, 13, 14, 15, 29, 22, 31, 24, 17, 26, 19, 28, 21, 30, 23, 16, 25, 18, 27, 20], 'r1.f0.f4.f0.-r1.-r1.-r1.f0.f4.f0.r1.r1.f0.f4.f0': [8, 9, 10, 11, 4, 5, 6, 7, 0, 1, 2, 3, 12, 13, 14, 15, 16, 25, 18, 19, 28, 21, 30, 31, 24, 17, 26, 27, 20, 29, 22, 23], 'r1.f0.f4.f0.-r1.f0.f4.f0.-r1.-r1.f0.f4.f0.r1.f0.f4.f0': [0, 1, 2, 3, 4, 5, 6, 7, 8, 9, 10, 11, 12, 13, 14, 15, 31, 24, 17, 26, 19, 28, 21, 30, 23, 16, 25, 18, 27, 20, 29, 22], '-r1.-r1.f0.f4.f0.r1.f0.f4.f0.r1.f0.f4.f0.r1.f0.f4.f0': [0, 1, 2, 3, 4, 5, 6, 7, 8, 9, 10, 11, 12, 13, 14, 15, 17, 26, 19, 28, 21, 30, 23, 16, 25, 18, 27, 20, 29, 22, 31, 24], '-r1.f0.f4.f0.r1.f0.f4.f0.r1.r1.f0.f4.f0.-r1.f0.f4.f0': [0, 1, 2, 3, 4, 5, 6, 7, 8, 9, 10, 11, 12, 13, 14, 15, 25, 18, 27, 20, 29, 22, 31, 24, 17, 26, 19, 28, 21, 30, 23, 16], 'r1.r1.r1.f0.f4.f0.-r1.f0.f4.f0.-r1.f0.f4.f0.-r1.f0.f4.f0': [0, 1, 2, 3, 4, 5, 6, 7, 8, 9, 10, 11, 12, 13, 14, 15, 24, 17, 26, 19, 28, 21, 30, 23, 16, 25, 18, 27, 20, 29, 22, 31], 'r1.r1.f0.f4.f0.-r1.f0.f4.f0.-r1.-r1.f0.f4.f0.r1.f0.f4.f0': [0, 1, 2, 3, 4, 5, 6, 7, 8, 9, 10, 11, 12, 13, 14, 15, 16, 25, 18, 27, 20, 29, 22, 31, 24, 17, 26, 19, 28, 21, 30, 23]}\n"
     ]
    }
   ],
   "source": [
    "print(globe_moves_swap.keys())\n",
    "print(globe_moves_swap)"
   ]
  },
  {
   "cell_type": "code",
   "execution_count": 126,
   "id": "5407dd86-f634-407b-b1c3-254977eb27a1",
   "metadata": {},
   "outputs": [
    {
     "name": "stdout",
     "output_type": "stream",
     "text": [
      "[0, 1, 2, 3, 4, 5, 6, 7, 8, 9, 10, 11, 12, 13, 14, 15, 16, 25, 18, 27, 20, 29, 22, 31, 24, 17, 26, 19, 28, 21, 30, 23]\n"
     ]
    }
   ],
   "source": [
    "print(globe_moves_swap['r1.r1.f0.f4.f0.-r1.f0.f4.f0.-r1.-r1.f0.f4.f0.r1.f0.f4.f0'])"
   ]
  },
  {
   "cell_type": "code",
   "execution_count": null,
   "id": "77a844d8-398f-43cf-8e94-7b45318053f4",
   "metadata": {},
   "outputs": [],
   "source": []
  },
  {
   "cell_type": "code",
   "execution_count": null,
   "id": "f14eeb7d-e46f-42be-b96a-415e12914534",
   "metadata": {},
   "outputs": [],
   "source": []
  },
  {
   "cell_type": "code",
   "execution_count": 47,
   "id": "4d819bbe-e77f-4167-a120-c3aeb53ef96c",
   "metadata": {},
   "outputs": [
    {
     "name": "stderr",
     "output_type": "stream",
     "text": [
      "100%|████████████████████████████████████████████████████████████████████████████████████████████████████████████████████████████████████████| 16333591/16333591 [01:20<00:00, 203520.51it/s]\n",
      "100%|████████████████████████████████████████████████████████████████████████████████████████████████████████████████████████████████████████| 16333591/16333591 [01:18<00:00, 208646.04it/s]\n",
      "100%|████████████████████████████████████████████████████████████████████████████████████████████████████████████████████████████████████████| 16333591/16333591 [01:20<00:00, 202354.90it/s]\n",
      "100%|████████████████████████████████████████████████████████████████████████████████████████████████████████████████████████████████████████| 16333591/16333591 [01:20<00:00, 202015.43it/s]\n",
      "100%|████████████████████████████████████████████████████████████████████████████████████████████████████████████████████████████████████████| 16333591/16333591 [01:21<00:00, 200960.13it/s]\n",
      "100%|████████████████████████████████████████████████████████████████████████████████████████████████████████████████████████████████████████| 16333591/16333591 [01:19<00:00, 205377.19it/s]\n",
      "100%|████████████████████████████████████████████████████████████████████████████████████████████████████████████████████████████████████████| 16333591/16333591 [01:21<00:00, 200038.57it/s]\n",
      "100%|████████████████████████████████████████████████████████████████████████████████████████████████████████████████████████████████████████| 16333591/16333591 [01:18<00:00, 208696.26it/s]\n",
      "100%|████████████████████████████████████████████████████████████████████████████████████████████████████████████████████████████████████████| 16333591/16333591 [01:17<00:00, 210301.30it/s]\n",
      "100%|████████████████████████████████████████████████████████████████████████████████████████████████████████████████████████████████████████| 16333591/16333591 [01:19<00:00, 204656.86it/s]\n",
      "100%|████████████████████████████████████████████████████████████████████████████████████████████████████████████████████████████████████████| 16333591/16333591 [01:20<00:00, 203917.74it/s]\n",
      "100%|████████████████████████████████████████████████████████████████████████████████████████████████████████████████████████████████████████| 16333591/16333591 [01:21<00:00, 199767.10it/s]\n",
      "100%|████████████████████████████████████████████████████████████████████████████████████████████████████████████████████████████████████████| 16333591/16333591 [01:20<00:00, 204133.39it/s]\n",
      "100%|████████████████████████████████████████████████████████████████████████████████████████████████████████████████████████████████████████| 16333591/16333591 [01:20<00:00, 202142.09it/s]\n",
      "100%|████████████████████████████████████████████████████████████████████████████████████████████████████████████████████████████████████████| 16333591/16333591 [01:20<00:00, 202890.20it/s]\n",
      "100%|████████████████████████████████████████████████████████████████████████████████████████████████████████████████████████████████████████| 16333591/16333591 [01:20<00:00, 202615.45it/s]"
     ]
    },
    {
     "name": "stdout",
     "output_type": "stream",
     "text": [
      "14 ['B', 'B', 'H', 'H', 'L', 'N', 'N', 'I', 'I', 'M', 'M', 'K', 'K', 'C', 'C', 'G', 'P', 'G', 'D', 'D', 'A', 'A', 'F', 'F', 'J', 'J', 'E', 'E', 'L', 'O', 'O', 'P'] \n"
     ]
    },
    {
     "name": "stderr",
     "output_type": "stream",
     "text": [
      "\n"
     ]
    }
   ],
   "source": [
    "for i in range(16):\n",
    "    state = ['G', 'B', 'B', 'H', 'H', 'L', 'N', 'N', 'I', 'I', 'M', 'M', 'K', 'K', 'C', 'C', 'P', 'G', 'D', 'D', 'A', 'A', 'F', 'F', 'J', 'J', 'E', 'E', 'L', 'O', 'O', 'P']\n",
    "    for j in range(i):\n",
    "        state = allowed_moves['-r0'](state)\n",
    "    max_pair = count_pair(state, 1, 8)\n",
    "    max_state = state\n",
    "    max_key = ''\n",
    "    for key in tqdm.tqdm(allowed_globe_moves_7, total=len(allowed_globe_moves_7)):\n",
    "        new_state = allowed_globe_moves_7[key](state)\n",
    "        new_pair = count_pair(new_state, 1, 8)\n",
    "        if max_pair < new_pair:\n",
    "            max_pair = new_pair\n",
    "            max_state = new_state\n",
    "            max_key = key\n",
    "            print(max_pair, max_state, max_key)\n",
    "print(max_pair, max_state, max_key)"
   ]
  },
  {
   "cell_type": "code",
   "execution_count": null,
   "id": "1d4912cd-11fa-4136-9d58-cb7b69cb7113",
   "metadata": {},
   "outputs": [],
   "source": []
  },
  {
   "cell_type": "code",
   "execution_count": null,
   "id": "441151c9-87e9-4478-b0bf-0b0c9c4c9248",
   "metadata": {},
   "outputs": [],
   "source": []
  },
  {
   "cell_type": "code",
   "execution_count": null,
   "id": "7d6addcd-94f6-4a73-9951-b995885f4785",
   "metadata": {},
   "outputs": [],
   "source": []
  },
  {
   "cell_type": "code",
   "execution_count": null,
   "id": "a2b7f937-db30-4b96-bb9a-a99430251209",
   "metadata": {},
   "outputs": [],
   "source": []
  },
  {
   "cell_type": "code",
   "execution_count": null,
   "id": "574cb9ba-d5d2-49e9-b4e0-9fe4692027c0",
   "metadata": {},
   "outputs": [],
   "source": []
  },
  {
   "cell_type": "code",
   "execution_count": null,
   "id": "7a9bb220-c2e3-4d03-8b47-5d61692e058d",
   "metadata": {},
   "outputs": [],
   "source": []
  },
  {
   "cell_type": "code",
   "execution_count": null,
   "id": "9076d7eb-a8de-4c12-bf97-eb6600651ede",
   "metadata": {},
   "outputs": [],
   "source": []
  },
  {
   "cell_type": "code",
   "execution_count": null,
   "id": "bc770487-4628-4b84-86d6-9174b06ce5f7",
   "metadata": {},
   "outputs": [],
   "source": []
  }
 ],
 "metadata": {
  "kernelspec": {
   "display_name": "santa2023-py3.11",
   "language": "python",
   "name": "santa2023-py3.11"
  },
  "language_info": {
   "codemirror_mode": {
    "name": "ipython",
    "version": 3
   },
   "file_extension": ".py",
   "mimetype": "text/x-python",
   "name": "python",
   "nbconvert_exporter": "python",
   "pygments_lexer": "ipython3",
   "version": "3.11.1"
  }
 },
 "nbformat": 4,
 "nbformat_minor": 5
}
